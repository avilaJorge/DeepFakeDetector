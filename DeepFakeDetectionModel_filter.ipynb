{
 "cells": [
  {
   "cell_type": "markdown",
   "metadata": {
    "colab_type": "text",
    "id": "view-in-github"
   },
   "source": [
    "<a href=\"https://colab.research.google.com/github/avilaJorge/CSE253_FinalProject/blob/master/DeepFakeDetectionModel.ipynb\" target=\"_parent\"><img src=\"https://colab.research.google.com/assets/colab-badge.svg\" alt=\"Open In Colab\"/></a>"
   ]
  },
  {
   "cell_type": "code",
   "execution_count": null,
   "metadata": {
    "colab": {},
    "colab_type": "code",
    "id": "boe54s6OzmGv"
   },
   "outputs": [],
   "source": [
    "# !rm -R ./Logistic_Regression/*\n",
    "# !mkdir Linear_Regression\n",
    "# !rm -R ./sample_data"
   ]
  },
  {
   "cell_type": "code",
   "execution_count": null,
   "metadata": {
    "colab": {},
    "colab_type": "code",
    "id": "YylQ7_8dYB_m"
   },
   "outputs": [],
   "source": [
    "!cp *.py /content/drive/My\\ Drive/CSE\\ 253/PA5/PyFiles\n",
    "!cp *.ipynb /content/drive/My\\ Drive/CSE\\ 253/PA5/PyFiles"
   ]
  },
  {
   "cell_type": "code",
   "execution_count": null,
   "metadata": {
    "colab": {},
    "colab_type": "code",
    "id": "fJEugQ-VE0sf"
   },
   "outputs": [],
   "source": [
    "# !wget https://storage.googleapis.com/img-hosting-bucket/Faces_HQ.hdf5"
   ]
  },
  {
   "cell_type": "code",
   "execution_count": 1,
   "metadata": {
    "colab": {
     "base_uri": "https://localhost:8080/",
     "height": 312
    },
    "colab_type": "code",
    "id": "T0CbUfjOFfnJ",
    "outputId": "3cba5bf4-9b6f-4355-c3b7-07e693b47730"
   },
   "outputs": [
    {
     "name": "stdout",
     "output_type": "stream",
     "text": [
      "Sun Mar 15 12:52:28 2020       \n",
      "+-----------------------------------------------------------------------------+\n",
      "| NVIDIA-SMI 384.81                 Driver Version: 418.88                    |\n",
      "|-------------------------------+----------------------+----------------------+\n",
      "| GPU  Name        Persistence-M| Bus-Id        Disp.A | Volatile Uncorr. ECC |\n",
      "| Fan  Temp  Perf  Pwr:Usage/Cap|         Memory-Usage | GPU-Util  Compute M. |\n",
      "|===============================+======================+======================|\n",
      "|   0  GeForce GTX 107...  Off  | 00000000:08:00.0 Off |                  N/A |\n",
      "| 27%   27C    P8     5W / 180W |      0MiB /  8119MiB |      0%      Default |\n",
      "+-------------------------------+----------------------+----------------------+\n",
      "                                                                               \n",
      "+-----------------------------------------------------------------------------+\n",
      "| Processes:                                                       GPU Memory |\n",
      "|  GPU       PID   Type   Process name                             Usage      |\n",
      "|=============================================================================|\n",
      "Internal error\n"
     ]
    }
   ],
   "source": [
    "gpu_info = !nvidia-smi\n",
    "gpu_info = '\\n'.join(gpu_info)\n",
    "if gpu_info.find('failed') >= 0:\n",
    "  print('Select the Runtime → \"Change runtime type\" menu to enable a GPU accelerator, ')\n",
    "  print('and then re-execute this cell.')\n",
    "else:\n",
    "  print(gpu_info)"
   ]
  },
  {
   "cell_type": "code",
   "execution_count": 2,
   "metadata": {
    "colab": {},
    "colab_type": "code",
    "id": "6pR6L5w39m4U"
   },
   "outputs": [],
   "source": [
    "%run DeepFake_Dataloader.py\n",
    "%run utils.py"
   ]
  },
  {
   "cell_type": "code",
   "execution_count": 3,
   "metadata": {
    "colab": {
     "base_uri": "https://localhost:8080/",
     "height": 35
    },
    "colab_type": "code",
    "id": "-HZyhY_V9t11",
    "outputId": "7f64df19-9098-4c6b-aa5b-9d9993f7c731"
   },
   "outputs": [
    {
     "name": "stdout",
     "output_type": "stream",
     "text": [
      "Requirement already satisfied: pykeops in /home/h1shen/.local/lib/python3.7/site-packages (1.3)\n",
      "Requirement already satisfied: GPUtil in /opt/conda/lib/python3.7/site-packages (from pykeops) (1.4.0)\n",
      "Requirement already satisfied: numpy in /opt/conda/lib/python3.7/site-packages (from pykeops) (1.16.4)\n",
      "Requirement already satisfied: kmeans-pytorch in /home/h1shen/.local/lib/python3.7/site-packages (0.3)\n"
     ]
    }
   ],
   "source": [
    "# imports pytorch\n",
    "import torch\n",
    "import torch.nn as nn\n",
    "import torchvision.transforms as transforms\n",
    "from torch.utils.data import Dataset, DataLoader\n",
    "\n",
    "# Numpy, Matplotlib, and PIL\n",
    "import numpy as np\n",
    "import matplotlib.pyplot as plt\n",
    "\n",
    "# K-means import\n",
    "!pip install pykeops --user\n",
    "from pykeops.torch import LazyTensor\n",
    "!pip install kmeans-pytorch --user\n",
    "from kmeans_pytorch import kmeans\n",
    "\n",
    "# general imports\n",
    "import pprint\n",
    "\n",
    "# My imports\n",
    "from DeepFake_Dataloader import get_dataloaders\n",
    "from models import LinearRegression, save_model, SVM, KMeans\n",
    "from utils import RunningAverage\n",
    "from train import train, evaluate\n",
    "\n",
    "device = torch.device(\"cuda:0\" if torch.cuda.is_available() else \"cpu\")"
   ]
  },
  {
   "cell_type": "code",
   "execution_count": 4,
   "metadata": {
    "colab": {},
    "colab_type": "code",
    "id": "v1JJsL9H9t14"
   },
   "outputs": [],
   "source": [
    "trn_dl, val_dl, tst_dl = get_dataloaders(dataset=DeepFakeHDF5Dataset())"
   ]
  },
  {
   "cell_type": "code",
   "execution_count": 14,
   "metadata": {},
   "outputs": [
    {
     "name": "stdout",
     "output_type": "stream",
     "text": [
      "60\n"
     ]
    }
   ],
   "source": [
    "a = dict(trn_dl)\n",
    "kk = list(a.keys())\n",
    "kk[1].shape\n",
    "nn = int(kk[1].shape[1]/3)\n",
    "print(nn)"
   ]
  },
  {
   "cell_type": "code",
   "execution_count": 8,
   "metadata": {
    "colab": {},
    "colab_type": "code",
    "id": "ftr4FTkt9m4b"
   },
   "outputs": [],
   "source": [
    "s_epoch      = 1\n",
    "num_epochs   = 300\n",
    "lr_rate      = 1e-2\n",
    "load_model   = False\n",
    "model_name   = 'LogisticRegressionModel'\n",
    "path         = './results/'\n",
    "\n",
    "lr_model = LinearRegression(182).to(device)\n",
    "criterion = torch.nn.BCEWithLogitsLoss()\n",
    "optimizer = torch.optim.SGD(lr_model.parameters(), lr=lr_rate, weight_decay=1e-3, momentum=0.9)\n",
    "\n",
    "if load_model:\n",
    "    lr_model.load_state_dict(torch.load(''))"
   ]
  },
  {
   "cell_type": "code",
   "execution_count": 9,
   "metadata": {
    "colab": {
     "base_uri": "https://localhost:8080/",
     "height": 1000
    },
    "colab_type": "code",
    "id": "mLc_eMyB9m4f",
    "outputId": "65d05b5e-3274-44dd-a3ac-bbf618ff030f"
   },
   "outputs": [
    {
     "data": {
      "text/html": [
       "\n",
       "        <p>Loss: 0.5404   36002 / 36002</p>\n",
       "        <progress value='36002' max='36002', style='width: 100%'>36002</progress>\n",
       "    "
      ],
      "text/plain": [
       "<IPython.core.display.HTML object>"
      ]
     },
     "metadata": {},
     "output_type": "display_data"
    },
    {
     "name": "stdout",
     "output_type": "stream",
     "text": [
      "Epoch:  1\n",
      "Training loss: 0.5404\n"
     ]
    },
    {
     "data": {
      "text/html": [
       "\n",
       "        <p>Loss: 0.4965   36002 / 36002</p>\n",
       "        <progress value='36002' max='36002', style='width: 100%'>36002</progress>\n",
       "    "
      ],
      "text/plain": [
       "<IPython.core.display.HTML object>"
      ]
     },
     "metadata": {},
     "output_type": "display_data"
    },
    {
     "name": "stdout",
     "output_type": "stream",
     "text": [
      "Training Loss:  0.4965\n",
      "Training accuracy: 76.3513%\n"
     ]
    },
    {
     "data": {
      "text/html": [
       "\n",
       "        <p>Loss: 0.4927   12000 / 12000</p>\n",
       "        <progress value='12000' max='12000', style='width: 100%'>12000</progress>\n",
       "    "
      ],
      "text/plain": [
       "<IPython.core.display.HTML object>"
      ]
     },
     "metadata": {},
     "output_type": "display_data"
    },
    {
     "name": "stdout",
     "output_type": "stream",
     "text": [
      "Validation Loss:  0.4927\n",
      "Validation accuracy: 76.3917%\n",
      "\"Best Loss\": 0.4927056162281239\n",
      "\n",
      "Validation Loss has gone up 0 times.\n",
      "\n"
     ]
    },
    {
     "data": {
      "text/html": [
       "\n",
       "        <p>Loss: 0.5006   36002 / 36002</p>\n",
       "        <progress value='36002' max='36002', style='width: 100%'>36002</progress>\n",
       "    "
      ],
      "text/plain": [
       "<IPython.core.display.HTML object>"
      ]
     },
     "metadata": {},
     "output_type": "display_data"
    },
    {
     "name": "stdout",
     "output_type": "stream",
     "text": [
      "Epoch:  2\n",
      "Training loss: 0.5006\n"
     ]
    },
    {
     "data": {
      "text/html": [
       "\n",
       "        <p>Loss: 0.4988   36002 / 36002</p>\n",
       "        <progress value='36002' max='36002', style='width: 100%'>36002</progress>\n",
       "    "
      ],
      "text/plain": [
       "<IPython.core.display.HTML object>"
      ]
     },
     "metadata": {},
     "output_type": "display_data"
    },
    {
     "name": "stdout",
     "output_type": "stream",
     "text": [
      "Training Loss:  0.4988\n",
      "Training accuracy: 76.0541%\n"
     ]
    },
    {
     "data": {
      "text/html": [
       "\n",
       "        <p>Loss: 0.4923   12000 / 12000</p>\n",
       "        <progress value='12000' max='12000', style='width: 100%'>12000</progress>\n",
       "    "
      ],
      "text/plain": [
       "<IPython.core.display.HTML object>"
      ]
     },
     "metadata": {},
     "output_type": "display_data"
    },
    {
     "name": "stdout",
     "output_type": "stream",
     "text": [
      "Validation Loss:  0.4923\n",
      "Validation accuracy: 76.7417%\n",
      "\"Best Loss\": 0.4922910006122386\n",
      "\n",
      "Validation Loss has gone up 0 times.\n",
      "\n"
     ]
    },
    {
     "data": {
      "text/html": [
       "\n",
       "        <p>Loss: 0.4899   36002 / 36002</p>\n",
       "        <progress value='36002' max='36002', style='width: 100%'>36002</progress>\n",
       "    "
      ],
      "text/plain": [
       "<IPython.core.display.HTML object>"
      ]
     },
     "metadata": {},
     "output_type": "display_data"
    },
    {
     "name": "stdout",
     "output_type": "stream",
     "text": [
      "Epoch:  3\n",
      "Training loss: 0.4899\n"
     ]
    },
    {
     "data": {
      "text/html": [
       "\n",
       "        <p>Loss: 0.5067   36002 / 36002</p>\n",
       "        <progress value='36002' max='36002', style='width: 100%'>36002</progress>\n",
       "    "
      ],
      "text/plain": [
       "<IPython.core.display.HTML object>"
      ]
     },
     "metadata": {},
     "output_type": "display_data"
    },
    {
     "name": "stdout",
     "output_type": "stream",
     "text": [
      "Training Loss:  0.5067\n",
      "Training accuracy: 74.3625%\n"
     ]
    },
    {
     "data": {
      "text/html": [
       "\n",
       "        <p>Loss: 0.5077   12000 / 12000</p>\n",
       "        <progress value='12000' max='12000', style='width: 100%'>12000</progress>\n",
       "    "
      ],
      "text/plain": [
       "<IPython.core.display.HTML object>"
      ]
     },
     "metadata": {},
     "output_type": "display_data"
    },
    {
     "name": "stdout",
     "output_type": "stream",
     "text": [
      "Validation Loss:  0.5077\n",
      "Validation accuracy: 74.1417%\n",
      "Validation Loss has gone up 1 times.\n",
      "\n"
     ]
    },
    {
     "data": {
      "text/html": [
       "\n",
       "        <p>Loss: 0.4876   36002 / 36002</p>\n",
       "        <progress value='36002' max='36002', style='width: 100%'>36002</progress>\n",
       "    "
      ],
      "text/plain": [
       "<IPython.core.display.HTML object>"
      ]
     },
     "metadata": {},
     "output_type": "display_data"
    },
    {
     "name": "stdout",
     "output_type": "stream",
     "text": [
      "Epoch:  4\n",
      "Training loss: 0.4876\n"
     ]
    },
    {
     "data": {
      "text/html": [
       "\n",
       "        <p>Loss: 0.4762   36002 / 36002</p>\n",
       "        <progress value='36002' max='36002', style='width: 100%'>36002</progress>\n",
       "    "
      ],
      "text/plain": [
       "<IPython.core.display.HTML object>"
      ]
     },
     "metadata": {},
     "output_type": "display_data"
    },
    {
     "name": "stdout",
     "output_type": "stream",
     "text": [
      "Training Loss:  0.4762\n",
      "Training accuracy: 77.7068%\n"
     ]
    },
    {
     "data": {
      "text/html": [
       "\n",
       "        <p>Loss: 0.4713   12000 / 12000</p>\n",
       "        <progress value='12000' max='12000', style='width: 100%'>12000</progress>\n",
       "    "
      ],
      "text/plain": [
       "<IPython.core.display.HTML object>"
      ]
     },
     "metadata": {},
     "output_type": "display_data"
    },
    {
     "name": "stdout",
     "output_type": "stream",
     "text": [
      "Validation Loss:  0.4713\n",
      "Validation accuracy: 78.1750%\n",
      "\"Best Loss\": 0.47133427794943467\n",
      "\n",
      "Validation Loss has gone up 0 times.\n",
      "\n"
     ]
    },
    {
     "data": {
      "text/html": [
       "\n",
       "        <p>Loss: 0.4815   36002 / 36002</p>\n",
       "        <progress value='36002' max='36002', style='width: 100%'>36002</progress>\n",
       "    "
      ],
      "text/plain": [
       "<IPython.core.display.HTML object>"
      ]
     },
     "metadata": {},
     "output_type": "display_data"
    },
    {
     "name": "stdout",
     "output_type": "stream",
     "text": [
      "Epoch:  5\n",
      "Training loss: 0.4815\n"
     ]
    },
    {
     "data": {
      "text/html": [
       "\n",
       "        <p>Loss: 0.4810   36002 / 36002</p>\n",
       "        <progress value='36002' max='36002', style='width: 100%'>36002</progress>\n",
       "    "
      ],
      "text/plain": [
       "<IPython.core.display.HTML object>"
      ]
     },
     "metadata": {},
     "output_type": "display_data"
    },
    {
     "name": "stdout",
     "output_type": "stream",
     "text": [
      "Training Loss:  0.481\n",
      "Training accuracy: 76.7457%\n"
     ]
    },
    {
     "data": {
      "text/html": [
       "\n",
       "        <p>Loss: 0.4800   12000 / 12000</p>\n",
       "        <progress value='12000' max='12000', style='width: 100%'>12000</progress>\n",
       "    "
      ],
      "text/plain": [
       "<IPython.core.display.HTML object>"
      ]
     },
     "metadata": {},
     "output_type": "display_data"
    },
    {
     "name": "stdout",
     "output_type": "stream",
     "text": [
      "Validation Loss:  0.48\n",
      "Validation accuracy: 76.7000%\n",
      "Validation Loss has gone up 1 times.\n",
      "\n"
     ]
    },
    {
     "data": {
      "text/html": [
       "\n",
       "        <p>Loss: 0.4789   36002 / 36002</p>\n",
       "        <progress value='36002' max='36002', style='width: 100%'>36002</progress>\n",
       "    "
      ],
      "text/plain": [
       "<IPython.core.display.HTML object>"
      ]
     },
     "metadata": {},
     "output_type": "display_data"
    },
    {
     "name": "stdout",
     "output_type": "stream",
     "text": [
      "Epoch:  6\n",
      "Training loss: 0.4789\n"
     ]
    },
    {
     "data": {
      "text/html": [
       "\n",
       "        <p>Loss: 0.4756   36002 / 36002</p>\n",
       "        <progress value='36002' max='36002', style='width: 100%'>36002</progress>\n",
       "    "
      ],
      "text/plain": [
       "<IPython.core.display.HTML object>"
      ]
     },
     "metadata": {},
     "output_type": "display_data"
    },
    {
     "name": "stdout",
     "output_type": "stream",
     "text": [
      "Training Loss:  0.4756\n",
      "Training accuracy: 77.2957%\n"
     ]
    },
    {
     "data": {
      "text/html": [
       "\n",
       "        <p>Loss: 0.4730   12000 / 12000</p>\n",
       "        <progress value='12000' max='12000', style='width: 100%'>12000</progress>\n",
       "    "
      ],
      "text/plain": [
       "<IPython.core.display.HTML object>"
      ]
     },
     "metadata": {},
     "output_type": "display_data"
    },
    {
     "name": "stdout",
     "output_type": "stream",
     "text": [
      "Validation Loss:  0.473\n",
      "Validation accuracy: 77.6917%\n",
      "Validation Loss has gone up 0 times.\n",
      "\n"
     ]
    },
    {
     "data": {
      "text/html": [
       "\n",
       "        <p>Loss: 0.4737   36002 / 36002</p>\n",
       "        <progress value='36002' max='36002', style='width: 100%'>36002</progress>\n",
       "    "
      ],
      "text/plain": [
       "<IPython.core.display.HTML object>"
      ]
     },
     "metadata": {},
     "output_type": "display_data"
    },
    {
     "name": "stdout",
     "output_type": "stream",
     "text": [
      "Epoch:  7\n",
      "Training loss: 0.4737\n"
     ]
    },
    {
     "data": {
      "text/html": [
       "\n",
       "        <p>Loss: 0.4708   36002 / 36002</p>\n",
       "        <progress value='36002' max='36002', style='width: 100%'>36002</progress>\n",
       "    "
      ],
      "text/plain": [
       "<IPython.core.display.HTML object>"
      ]
     },
     "metadata": {},
     "output_type": "display_data"
    },
    {
     "name": "stdout",
     "output_type": "stream",
     "text": [
      "Training Loss:  0.4708\n",
      "Training accuracy: 78.0012%\n"
     ]
    },
    {
     "data": {
      "text/html": [
       "\n",
       "        <p>Loss: 0.4657   12000 / 12000</p>\n",
       "        <progress value='12000' max='12000', style='width: 100%'>12000</progress>\n",
       "    "
      ],
      "text/plain": [
       "<IPython.core.display.HTML object>"
      ]
     },
     "metadata": {},
     "output_type": "display_data"
    },
    {
     "name": "stdout",
     "output_type": "stream",
     "text": [
      "Validation Loss:  0.4657\n",
      "Validation accuracy: 78.0917%\n",
      "\"Best Loss\": 0.46572185894276236\n",
      "\n",
      "Validation Loss has gone up 0 times.\n",
      "\n"
     ]
    },
    {
     "data": {
      "text/html": [
       "\n",
       "        <p>Loss: 0.4732   36002 / 36002</p>\n",
       "        <progress value='36002' max='36002', style='width: 100%'>36002</progress>\n",
       "    "
      ],
      "text/plain": [
       "<IPython.core.display.HTML object>"
      ]
     },
     "metadata": {},
     "output_type": "display_data"
    },
    {
     "name": "stdout",
     "output_type": "stream",
     "text": [
      "Epoch:  8\n",
      "Training loss: 0.4732\n"
     ]
    },
    {
     "data": {
      "text/html": [
       "\n",
       "        <p>Loss: 0.4588   36002 / 36002</p>\n",
       "        <progress value='36002' max='36002', style='width: 100%'>36002</progress>\n",
       "    "
      ],
      "text/plain": [
       "<IPython.core.display.HTML object>"
      ]
     },
     "metadata": {},
     "output_type": "display_data"
    },
    {
     "name": "stdout",
     "output_type": "stream",
     "text": [
      "Training Loss:  0.4588\n",
      "Training accuracy: 78.5484%\n"
     ]
    },
    {
     "data": {
      "text/html": [
       "\n",
       "        <p>Loss: 0.4561   12000 / 12000</p>\n",
       "        <progress value='12000' max='12000', style='width: 100%'>12000</progress>\n",
       "    "
      ],
      "text/plain": [
       "<IPython.core.display.HTML object>"
      ]
     },
     "metadata": {},
     "output_type": "display_data"
    },
    {
     "name": "stdout",
     "output_type": "stream",
     "text": [
      "Validation Loss:  0.4561\n",
      "Validation accuracy: 78.9833%\n",
      "\"Best Loss\": 0.4560878257802192\n",
      "\n",
      "Validation Loss has gone up 0 times.\n",
      "\n"
     ]
    },
    {
     "data": {
      "text/html": [
       "\n",
       "        <p>Loss: 0.4696   36002 / 36002</p>\n",
       "        <progress value='36002' max='36002', style='width: 100%'>36002</progress>\n",
       "    "
      ],
      "text/plain": [
       "<IPython.core.display.HTML object>"
      ]
     },
     "metadata": {},
     "output_type": "display_data"
    },
    {
     "name": "stdout",
     "output_type": "stream",
     "text": [
      "Epoch:  9\n",
      "Training loss: 0.4696\n"
     ]
    },
    {
     "data": {
      "text/html": [
       "\n",
       "        <p>Loss: 0.4941   36002 / 36002</p>\n",
       "        <progress value='36002' max='36002', style='width: 100%'>36002</progress>\n",
       "    "
      ],
      "text/plain": [
       "<IPython.core.display.HTML object>"
      ]
     },
     "metadata": {},
     "output_type": "display_data"
    },
    {
     "name": "stdout",
     "output_type": "stream",
     "text": [
      "Training Loss:  0.4941\n",
      "Training accuracy: 76.6819%\n"
     ]
    },
    {
     "data": {
      "text/html": [
       "\n",
       "        <p>Loss: 0.4872   12000 / 12000</p>\n",
       "        <progress value='12000' max='12000', style='width: 100%'>12000</progress>\n",
       "    "
      ],
      "text/plain": [
       "<IPython.core.display.HTML object>"
      ]
     },
     "metadata": {},
     "output_type": "display_data"
    },
    {
     "name": "stdout",
     "output_type": "stream",
     "text": [
      "Validation Loss:  0.4872\n",
      "Validation accuracy: 77.3917%\n",
      "Validation Loss has gone up 1 times.\n",
      "\n"
     ]
    },
    {
     "data": {
      "text/html": [
       "\n",
       "        <p>Loss: 0.4694   36002 / 36002</p>\n",
       "        <progress value='36002' max='36002', style='width: 100%'>36002</progress>\n",
       "    "
      ],
      "text/plain": [
       "<IPython.core.display.HTML object>"
      ]
     },
     "metadata": {},
     "output_type": "display_data"
    },
    {
     "name": "stdout",
     "output_type": "stream",
     "text": [
      "Epoch:  10\n",
      "Training loss: 0.4694\n"
     ]
    },
    {
     "data": {
      "text/html": [
       "\n",
       "        <p>Loss: 0.4709   36002 / 36002</p>\n",
       "        <progress value='36002' max='36002', style='width: 100%'>36002</progress>\n",
       "    "
      ],
      "text/plain": [
       "<IPython.core.display.HTML object>"
      ]
     },
     "metadata": {},
     "output_type": "display_data"
    },
    {
     "name": "stdout",
     "output_type": "stream",
     "text": [
      "Training Loss:  0.4709\n",
      "Training accuracy: 77.4846%\n"
     ]
    },
    {
     "data": {
      "text/html": [
       "\n",
       "        <p>Loss: 0.4696   12000 / 12000</p>\n",
       "        <progress value='12000' max='12000', style='width: 100%'>12000</progress>\n",
       "    "
      ],
      "text/plain": [
       "<IPython.core.display.HTML object>"
      ]
     },
     "metadata": {},
     "output_type": "display_data"
    },
    {
     "name": "stdout",
     "output_type": "stream",
     "text": [
      "Validation Loss:  0.4696\n",
      "Validation accuracy: 77.5167%\n",
      "Validation Loss has gone up 0 times.\n",
      "\n"
     ]
    },
    {
     "data": {
      "text/html": [
       "\n",
       "        <p>Loss: 0.4686   36002 / 36002</p>\n",
       "        <progress value='36002' max='36002', style='width: 100%'>36002</progress>\n",
       "    "
      ],
      "text/plain": [
       "<IPython.core.display.HTML object>"
      ]
     },
     "metadata": {},
     "output_type": "display_data"
    },
    {
     "name": "stdout",
     "output_type": "stream",
     "text": [
      "Epoch:  11\n",
      "Training loss: 0.4686\n"
     ]
    },
    {
     "data": {
      "text/html": [
       "\n",
       "        <p>Loss: 0.4864   36002 / 36002</p>\n",
       "        <progress value='36002' max='36002', style='width: 100%'>36002</progress>\n",
       "    "
      ],
      "text/plain": [
       "<IPython.core.display.HTML object>"
      ]
     },
     "metadata": {},
     "output_type": "display_data"
    },
    {
     "name": "stdout",
     "output_type": "stream",
     "text": [
      "Training Loss:  0.4864\n",
      "Training accuracy: 75.9041%\n"
     ]
    },
    {
     "data": {
      "text/html": [
       "\n",
       "        <p>Loss: 0.4866   12000 / 12000</p>\n",
       "        <progress value='12000' max='12000', style='width: 100%'>12000</progress>\n",
       "    "
      ],
      "text/plain": [
       "<IPython.core.display.HTML object>"
      ]
     },
     "metadata": {},
     "output_type": "display_data"
    },
    {
     "name": "stdout",
     "output_type": "stream",
     "text": [
      "Validation Loss:  0.4866\n",
      "Validation accuracy: 75.9250%\n",
      "Validation Loss has gone up 1 times.\n",
      "\n"
     ]
    },
    {
     "data": {
      "text/html": [
       "\n",
       "        <p>Loss: 0.4581   36002 / 36002</p>\n",
       "        <progress value='36002' max='36002', style='width: 100%'>36002</progress>\n",
       "    "
      ],
      "text/plain": [
       "<IPython.core.display.HTML object>"
      ]
     },
     "metadata": {},
     "output_type": "display_data"
    },
    {
     "name": "stdout",
     "output_type": "stream",
     "text": [
      "Epoch:  12\n",
      "Training loss: 0.4581\n"
     ]
    },
    {
     "data": {
      "text/html": [
       "\n",
       "        <p>Loss: 0.4876   36002 / 36002</p>\n",
       "        <progress value='36002' max='36002', style='width: 100%'>36002</progress>\n",
       "    "
      ],
      "text/plain": [
       "<IPython.core.display.HTML object>"
      ]
     },
     "metadata": {},
     "output_type": "display_data"
    },
    {
     "name": "stdout",
     "output_type": "stream",
     "text": [
      "Training Loss:  0.4876\n",
      "Training accuracy: 76.9041%\n"
     ]
    },
    {
     "data": {
      "text/html": [
       "\n",
       "        <p>Loss: 0.4807   12000 / 12000</p>\n",
       "        <progress value='12000' max='12000', style='width: 100%'>12000</progress>\n",
       "    "
      ],
      "text/plain": [
       "<IPython.core.display.HTML object>"
      ]
     },
     "metadata": {},
     "output_type": "display_data"
    },
    {
     "name": "stdout",
     "output_type": "stream",
     "text": [
      "Validation Loss:  0.4807\n",
      "Validation accuracy: 77.6167%\n",
      "Validation Loss has gone up 0 times.\n",
      "\n"
     ]
    },
    {
     "data": {
      "text/html": [
       "\n",
       "        <p>Loss: 0.4596   36002 / 36002</p>\n",
       "        <progress value='36002' max='36002', style='width: 100%'>36002</progress>\n",
       "    "
      ],
      "text/plain": [
       "<IPython.core.display.HTML object>"
      ]
     },
     "metadata": {},
     "output_type": "display_data"
    },
    {
     "name": "stdout",
     "output_type": "stream",
     "text": [
      "Epoch:  13\n",
      "Training loss: 0.4596\n"
     ]
    },
    {
     "data": {
      "text/html": [
       "\n",
       "        <p>Loss: 0.4458   36002 / 36002</p>\n",
       "        <progress value='36002' max='36002', style='width: 100%'>36002</progress>\n",
       "    "
      ],
      "text/plain": [
       "<IPython.core.display.HTML object>"
      ]
     },
     "metadata": {},
     "output_type": "display_data"
    },
    {
     "name": "stdout",
     "output_type": "stream",
     "text": [
      "Training Loss:  0.4458\n",
      "Training accuracy: 79.2650%\n"
     ]
    },
    {
     "data": {
      "text/html": [
       "\n",
       "        <p>Loss: 0.4447   12000 / 12000</p>\n",
       "        <progress value='12000' max='12000', style='width: 100%'>12000</progress>\n",
       "    "
      ],
      "text/plain": [
       "<IPython.core.display.HTML object>"
      ]
     },
     "metadata": {},
     "output_type": "display_data"
    },
    {
     "name": "stdout",
     "output_type": "stream",
     "text": [
      "Validation Loss:  0.4447\n",
      "Validation accuracy: 79.3667%\n",
      "\"Best Loss\": 0.44465108310922663\n",
      "\n",
      "Validation Loss has gone up 0 times.\n",
      "\n"
     ]
    },
    {
     "data": {
      "text/html": [
       "\n",
       "        <p>Loss: 0.4647   36002 / 36002</p>\n",
       "        <progress value='36002' max='36002', style='width: 100%'>36002</progress>\n",
       "    "
      ],
      "text/plain": [
       "<IPython.core.display.HTML object>"
      ]
     },
     "metadata": {},
     "output_type": "display_data"
    },
    {
     "name": "stdout",
     "output_type": "stream",
     "text": [
      "Epoch:  14\n",
      "Training loss: 0.4647\n"
     ]
    },
    {
     "data": {
      "text/html": [
       "\n",
       "        <p>Loss: 0.4646   36002 / 36002</p>\n",
       "        <progress value='36002' max='36002', style='width: 100%'>36002</progress>\n",
       "    "
      ],
      "text/plain": [
       "<IPython.core.display.HTML object>"
      ]
     },
     "metadata": {},
     "output_type": "display_data"
    },
    {
     "name": "stdout",
     "output_type": "stream",
     "text": [
      "Training Loss:  0.4646\n",
      "Training accuracy: 78.3984%\n"
     ]
    },
    {
     "data": {
      "text/html": [
       "\n",
       "        <p>Loss: 0.4579   12000 / 12000</p>\n",
       "        <progress value='12000' max='12000', style='width: 100%'>12000</progress>\n",
       "    "
      ],
      "text/plain": [
       "<IPython.core.display.HTML object>"
      ]
     },
     "metadata": {},
     "output_type": "display_data"
    },
    {
     "name": "stdout",
     "output_type": "stream",
     "text": [
      "Validation Loss:  0.4579\n",
      "Validation accuracy: 78.9417%\n",
      "Validation Loss has gone up 1 times.\n",
      "\n"
     ]
    },
    {
     "data": {
      "text/html": [
       "\n",
       "        <p>Loss: 0.4594   36002 / 36002</p>\n",
       "        <progress value='36002' max='36002', style='width: 100%'>36002</progress>\n",
       "    "
      ],
      "text/plain": [
       "<IPython.core.display.HTML object>"
      ]
     },
     "metadata": {},
     "output_type": "display_data"
    },
    {
     "name": "stdout",
     "output_type": "stream",
     "text": [
      "Epoch:  15\n",
      "Training loss: 0.4594\n"
     ]
    },
    {
     "data": {
      "text/html": [
       "\n",
       "        <p>Loss: 0.4652   36002 / 36002</p>\n",
       "        <progress value='36002' max='36002', style='width: 100%'>36002</progress>\n",
       "    "
      ],
      "text/plain": [
       "<IPython.core.display.HTML object>"
      ]
     },
     "metadata": {},
     "output_type": "display_data"
    },
    {
     "name": "stdout",
     "output_type": "stream",
     "text": [
      "Training Loss:  0.4652\n",
      "Training accuracy: 77.4790%\n"
     ]
    },
    {
     "data": {
      "text/html": [
       "\n",
       "        <p>Loss: 0.4658   12000 / 12000</p>\n",
       "        <progress value='12000' max='12000', style='width: 100%'>12000</progress>\n",
       "    "
      ],
      "text/plain": [
       "<IPython.core.display.HTML object>"
      ]
     },
     "metadata": {},
     "output_type": "display_data"
    },
    {
     "name": "stdout",
     "output_type": "stream",
     "text": [
      "Validation Loss:  0.4658\n",
      "Validation accuracy: 77.4417%\n",
      "Validation Loss has gone up 2 times.\n",
      "\n"
     ]
    }
   ],
   "source": [
    "\n",
    "train_losses, valid_losses = train(lr_model, \n",
    "                                   optimizer, \n",
    "                                   criterion, \n",
    "                                   trn_dl, \n",
    "                                   val_dl,\n",
    "                                   model_name,\n",
    "                                   path,\n",
    "                                   predicter=torch.nn.Sigmoid())"
   ]
  },
  {
   "cell_type": "code",
   "execution_count": 11,
   "metadata": {
    "colab": {
     "base_uri": "https://localhost:8080/",
     "height": 295
    },
    "colab_type": "code",
    "id": "I5fNHznp9m4i",
    "outputId": "a6576142-7f8a-4f7b-8acb-284f5cf5117c"
   },
   "outputs": [
    {
     "data": {
      "image/png": "[encoded data removed]",
      "text/plain": [
       "<Figure size 432x288 with 1 Axes>"
      ]
     },
     "metadata": {
      "needs_background": "light"
     },
     "output_type": "display_data"
    }
   ],
   "source": [
    "epochs = range(1, len(train_losses) + 1)\n",
    "epoch_ticks = [i if i % 5 == 0 else 0 for i in epochs]\n",
    "    \n",
    "# plt.figure(figsize=(10,6))\n",
    "plt.plot(epochs, train_losses, label='Training loss')\n",
    "plt.plot(epochs, valid_losses, label='Validation loss')\n",
    "plt.legend()\n",
    "plt.title('Learning curves')\n",
    "plt.xlabel('Epoch')\n",
    "plt.ylabel('Loss')\n",
    "plt.xticks(epoch_ticks)\n",
    "plt.show()"
   ]
  },
  {
   "cell_type": "code",
   "execution_count": 12,
   "metadata": {
    "colab": {
     "base_uri": "https://localhost:8080/",
     "height": 116
    },
    "colab_type": "code",
    "id": "vJeHSC4Y0gc1",
    "outputId": "c0fc8ae6-aa2d-413f-bcdd-42be4bbb347e"
   },
   "outputs": [
    {
     "data": {
      "text/html": [
       "\n",
       "        <p>Loss: 0.4624   12000 / 12000</p>\n",
       "        <progress value='12000' max='12000', style='width: 100%'>12000</progress>\n",
       "    "
      ],
      "text/plain": [
       "<IPython.core.display.HTML object>"
      ]
     },
     "metadata": {},
     "output_type": "display_data"
    },
    {
     "name": "stdout",
     "output_type": "stream",
     "text": [
      "Validation Loss:  0.4624\n",
      "Validation accuracy: 77.4750%\n"
     ]
    },
    {
     "data": {
      "text/plain": [
       "0.46236247268128905"
      ]
     },
     "execution_count": 12,
     "metadata": {},
     "output_type": "execute_result"
    }
   ],
   "source": [
    "test_losses = []\n",
    "evaluate(lr_model,\n",
    "         optimizer,\n",
    "         criterion,\n",
    "         0,\n",
    "         tst_dl,\n",
    "         test_losses,\n",
    "         \"\",\n",
    "         \"\",\n",
    "         acc_thresh=0.5,\n",
    "         predicter=torch.nn.Sigmoid(),\n",
    "         validation=False)"
   ]
  },
  {
   "cell_type": "code",
   "execution_count": 13,
   "metadata": {},
   "outputs": [
    {
     "data": {
      "text/html": [
       "\n",
       "        <p>Loss: 0.6247   36002 / 36002</p>\n",
       "        <progress value='36002' max='36002', style='width: 100%'>36002</progress>\n",
       "    "
      ],
      "text/plain": [
       "<IPython.core.display.HTML object>"
      ]
     },
     "metadata": {},
     "output_type": "display_data"
    },
    {
     "name": "stdout",
     "output_type": "stream",
     "text": [
      "Epoch:  1\n",
      "Training loss: 0.6247\n"
     ]
    },
    {
     "data": {
      "text/html": [
       "\n",
       "        <p>Loss: 0.6076   36002 / 36002</p>\n",
       "        <progress value='36002' max='36002', style='width: 100%'>36002</progress>\n",
       "    "
      ],
      "text/plain": [
       "<IPython.core.display.HTML object>"
      ]
     },
     "metadata": {},
     "output_type": "display_data"
    },
    {
     "name": "stdout",
     "output_type": "stream",
     "text": [
      "Training Loss:  0.6076\n",
      "Training accuracy: 68.1434%\n"
     ]
    },
    {
     "data": {
      "text/html": [
       "\n",
       "        <p>Loss: 0.6024   12000 / 12000</p>\n",
       "        <progress value='12000' max='12000', style='width: 100%'>12000</progress>\n",
       "    "
      ],
      "text/plain": [
       "<IPython.core.display.HTML object>"
      ]
     },
     "metadata": {},
     "output_type": "display_data"
    },
    {
     "name": "stdout",
     "output_type": "stream",
     "text": [
      "Validation Loss:  0.6024\n",
      "Validation accuracy: 68.3667%\n",
      "\"Best Loss\": 0.6023653732969405\n",
      "\n",
      "Validation Loss has gone up 0 times.\n",
      "\n"
     ]
    },
    {
     "data": {
      "text/html": [
       "\n",
       "        <p>Loss: 0.6109   36002 / 36002</p>\n",
       "        <progress value='36002' max='36002', style='width: 100%'>36002</progress>\n",
       "    "
      ],
      "text/plain": [
       "<IPython.core.display.HTML object>"
      ]
     },
     "metadata": {},
     "output_type": "display_data"
    },
    {
     "name": "stdout",
     "output_type": "stream",
     "text": [
      "Epoch:  2\n",
      "Training loss: 0.6109\n"
     ]
    },
    {
     "data": {
      "text/html": [
       "\n",
       "        <p>Loss: 0.6089   36002 / 36002</p>\n",
       "        <progress value='36002' max='36002', style='width: 100%'>36002</progress>\n",
       "    "
      ],
      "text/plain": [
       "<IPython.core.display.HTML object>"
      ]
     },
     "metadata": {},
     "output_type": "display_data"
    },
    {
     "name": "stdout",
     "output_type": "stream",
     "text": [
      "Training Loss:  0.6089\n",
      "Training accuracy: 68.5545%\n"
     ]
    },
    {
     "data": {
      "text/html": [
       "\n",
       "        <p>Loss: 0.6017   12000 / 12000</p>\n",
       "        <progress value='12000' max='12000', style='width: 100%'>12000</progress>\n",
       "    "
      ],
      "text/plain": [
       "<IPython.core.display.HTML object>"
      ]
     },
     "metadata": {},
     "output_type": "display_data"
    },
    {
     "name": "stdout",
     "output_type": "stream",
     "text": [
      "Validation Loss:  0.6017\n",
      "Validation accuracy: 68.9917%\n",
      "\"Best Loss\": 0.6017010744581832\n",
      "\n",
      "Validation Loss has gone up 0 times.\n",
      "\n"
     ]
    },
    {
     "data": {
      "text/html": [
       "\n",
       "        <p>Loss: 0.6086   36002 / 36002</p>\n",
       "        <progress value='36002' max='36002', style='width: 100%'>36002</progress>\n",
       "    "
      ],
      "text/plain": [
       "<IPython.core.display.HTML object>"
      ]
     },
     "metadata": {},
     "output_type": "display_data"
    },
    {
     "name": "stdout",
     "output_type": "stream",
     "text": [
      "Epoch:  3\n",
      "Training loss: 0.6086\n"
     ]
    },
    {
     "data": {
      "text/html": [
       "\n",
       "        <p>Loss: 0.6124   36002 / 36002</p>\n",
       "        <progress value='36002' max='36002', style='width: 100%'>36002</progress>\n",
       "    "
      ],
      "text/plain": [
       "<IPython.core.display.HTML object>"
      ]
     },
     "metadata": {},
     "output_type": "display_data"
    },
    {
     "name": "stdout",
     "output_type": "stream",
     "text": [
      "Training Loss:  0.6124\n",
      "Training accuracy: 66.0047%\n"
     ]
    },
    {
     "data": {
      "text/html": [
       "\n",
       "        <p>Loss: 0.6104   12000 / 12000</p>\n",
       "        <progress value='12000' max='12000', style='width: 100%'>12000</progress>\n",
       "    "
      ],
      "text/plain": [
       "<IPython.core.display.HTML object>"
      ]
     },
     "metadata": {},
     "output_type": "display_data"
    },
    {
     "name": "stdout",
     "output_type": "stream",
     "text": [
      "Validation Loss:  0.6104\n",
      "Validation accuracy: 66.0583%\n",
      "Validation Loss has gone up 1 times.\n",
      "\n"
     ]
    },
    {
     "data": {
      "text/html": [
       "\n",
       "        <p>Loss: 0.6068   36002 / 36002</p>\n",
       "        <progress value='36002' max='36002', style='width: 100%'>36002</progress>\n",
       "    "
      ],
      "text/plain": [
       "<IPython.core.display.HTML object>"
      ]
     },
     "metadata": {},
     "output_type": "display_data"
    },
    {
     "name": "stdout",
     "output_type": "stream",
     "text": [
      "Epoch:  4\n",
      "Training loss: 0.6068\n"
     ]
    },
    {
     "data": {
      "text/html": [
       "\n",
       "        <p>Loss: 0.6114   36002 / 36002</p>\n",
       "        <progress value='36002' max='36002', style='width: 100%'>36002</progress>\n",
       "    "
      ],
      "text/plain": [
       "<IPython.core.display.HTML object>"
      ]
     },
     "metadata": {},
     "output_type": "display_data"
    },
    {
     "name": "stdout",
     "output_type": "stream",
     "text": [
      "Training Loss:  0.6114\n",
      "Training accuracy: 66.0130%\n"
     ]
    },
    {
     "data": {
      "text/html": [
       "\n",
       "        <p>Loss: 0.6091   12000 / 12000</p>\n",
       "        <progress value='12000' max='12000', style='width: 100%'>12000</progress>\n",
       "    "
      ],
      "text/plain": [
       "<IPython.core.display.HTML object>"
      ]
     },
     "metadata": {},
     "output_type": "display_data"
    },
    {
     "name": "stdout",
     "output_type": "stream",
     "text": [
      "Validation Loss:  0.6091\n",
      "Validation accuracy: 66.1667%\n",
      "Validation Loss has gone up 0 times.\n",
      "\n"
     ]
    },
    {
     "data": {
      "text/html": [
       "\n",
       "        <p>Loss: 0.6099   36002 / 36002</p>\n",
       "        <progress value='36002' max='36002', style='width: 100%'>36002</progress>\n",
       "    "
      ],
      "text/plain": [
       "<IPython.core.display.HTML object>"
      ]
     },
     "metadata": {},
     "output_type": "display_data"
    },
    {
     "name": "stdout",
     "output_type": "stream",
     "text": [
      "Epoch:  5\n",
      "Training loss: 0.6099\n"
     ]
    },
    {
     "data": {
      "text/html": [
       "\n",
       "        <p>Loss: 0.6045   36002 / 36002</p>\n",
       "        <progress value='36002' max='36002', style='width: 100%'>36002</progress>\n",
       "    "
      ],
      "text/plain": [
       "<IPython.core.display.HTML object>"
      ]
     },
     "metadata": {},
     "output_type": "display_data"
    },
    {
     "name": "stdout",
     "output_type": "stream",
     "text": [
      "Training Loss:  0.6045\n",
      "Training accuracy: 67.7462%\n"
     ]
    },
    {
     "data": {
      "text/html": [
       "\n",
       "        <p>Loss: 0.6000   12000 / 12000</p>\n",
       "        <progress value='12000' max='12000', style='width: 100%'>12000</progress>\n",
       "    "
      ],
      "text/plain": [
       "<IPython.core.display.HTML object>"
      ]
     },
     "metadata": {},
     "output_type": "display_data"
    },
    {
     "name": "stdout",
     "output_type": "stream",
     "text": [
      "Validation Loss:  0.6\n",
      "Validation accuracy: 67.7417%\n",
      "\"Best Loss\": 0.5999640790705986\n",
      "\n",
      "Validation Loss has gone up 0 times.\n",
      "\n"
     ]
    },
    {
     "data": {
      "text/html": [
       "\n",
       "        <p>Loss: 0.6060   36002 / 36002</p>\n",
       "        <progress value='36002' max='36002', style='width: 100%'>36002</progress>\n",
       "    "
      ],
      "text/plain": [
       "<IPython.core.display.HTML object>"
      ]
     },
     "metadata": {},
     "output_type": "display_data"
    },
    {
     "name": "stdout",
     "output_type": "stream",
     "text": [
      "Epoch:  6\n",
      "Training loss: 0.606\n"
     ]
    },
    {
     "data": {
      "text/html": [
       "\n",
       "        <p>Loss: 0.6032   36002 / 36002</p>\n",
       "        <progress value='36002' max='36002', style='width: 100%'>36002</progress>\n",
       "    "
      ],
      "text/plain": [
       "<IPython.core.display.HTML object>"
      ]
     },
     "metadata": {},
     "output_type": "display_data"
    },
    {
     "name": "stdout",
     "output_type": "stream",
     "text": [
      "Training Loss:  0.6032\n",
      "Training accuracy: 68.2962%\n"
     ]
    },
    {
     "data": {
      "text/html": [
       "\n",
       "        <p>Loss: 0.5984   12000 / 12000</p>\n",
       "        <progress value='12000' max='12000', style='width: 100%'>12000</progress>\n",
       "    "
      ],
      "text/plain": [
       "<IPython.core.display.HTML object>"
      ]
     },
     "metadata": {},
     "output_type": "display_data"
    },
    {
     "name": "stdout",
     "output_type": "stream",
     "text": [
      "Validation Loss:  0.5984\n",
      "Validation accuracy: 68.3083%\n",
      "\"Best Loss\": 0.5984337596183126\n",
      "\n",
      "Validation Loss has gone up 0 times.\n",
      "\n"
     ]
    },
    {
     "data": {
      "text/html": [
       "\n",
       "        <p>Loss: 0.6081   36002 / 36002</p>\n",
       "        <progress value='36002' max='36002', style='width: 100%'>36002</progress>\n",
       "    "
      ],
      "text/plain": [
       "<IPython.core.display.HTML object>"
      ]
     },
     "metadata": {},
     "output_type": "display_data"
    },
    {
     "name": "stdout",
     "output_type": "stream",
     "text": [
      "Epoch:  7\n",
      "Training loss: 0.6081\n"
     ]
    },
    {
     "data": {
      "text/html": [
       "\n",
       "        <p>Loss: 0.6057   36002 / 36002</p>\n",
       "        <progress value='36002' max='36002', style='width: 100%'>36002</progress>\n",
       "    "
      ],
      "text/plain": [
       "<IPython.core.display.HTML object>"
      ]
     },
     "metadata": {},
     "output_type": "display_data"
    },
    {
     "name": "stdout",
     "output_type": "stream",
     "text": [
      "Training Loss:  0.6057\n",
      "Training accuracy: 67.2935%\n"
     ]
    },
    {
     "data": {
      "text/html": [
       "\n",
       "        <p>Loss: 0.6021   12000 / 12000</p>\n",
       "        <progress value='12000' max='12000', style='width: 100%'>12000</progress>\n",
       "    "
      ],
      "text/plain": [
       "<IPython.core.display.HTML object>"
      ]
     },
     "metadata": {},
     "output_type": "display_data"
    },
    {
     "name": "stdout",
     "output_type": "stream",
     "text": [
      "Validation Loss:  0.6021\n",
      "Validation accuracy: 67.0667%\n",
      "Validation Loss has gone up 1 times.\n",
      "\n"
     ]
    },
    {
     "data": {
      "text/html": [
       "\n",
       "        <p>Loss: 0.6070   36002 / 36002</p>\n",
       "        <progress value='36002' max='36002', style='width: 100%'>36002</progress>\n",
       "    "
      ],
      "text/plain": [
       "<IPython.core.display.HTML object>"
      ]
     },
     "metadata": {},
     "output_type": "display_data"
    },
    {
     "name": "stdout",
     "output_type": "stream",
     "text": [
      "Epoch:  8\n",
      "Training loss: 0.607\n"
     ]
    },
    {
     "data": {
      "text/html": [
       "\n",
       "        <p>Loss: 0.6022   36002 / 36002</p>\n",
       "        <progress value='36002' max='36002', style='width: 100%'>36002</progress>\n",
       "    "
      ],
      "text/plain": [
       "<IPython.core.display.HTML object>"
      ]
     },
     "metadata": {},
     "output_type": "display_data"
    },
    {
     "name": "stdout",
     "output_type": "stream",
     "text": [
      "Training Loss:  0.6022\n",
      "Training accuracy: 68.5629%\n"
     ]
    },
    {
     "data": {
      "text/html": [
       "\n",
       "        <p>Loss: 0.5979   12000 / 12000</p>\n",
       "        <progress value='12000' max='12000', style='width: 100%'>12000</progress>\n",
       "    "
      ],
      "text/plain": [
       "<IPython.core.display.HTML object>"
      ]
     },
     "metadata": {},
     "output_type": "display_data"
    },
    {
     "name": "stdout",
     "output_type": "stream",
     "text": [
      "Validation Loss:  0.5979\n",
      "Validation accuracy: 68.5500%\n",
      "\"Best Loss\": 0.5978994172938322\n",
      "\n",
      "Validation Loss has gone up 0 times.\n",
      "\n"
     ]
    },
    {
     "data": {
      "text/html": [
       "\n",
       "        <p>Loss: 0.6057   36002 / 36002</p>\n",
       "        <progress value='36002' max='36002', style='width: 100%'>36002</progress>\n",
       "    "
      ],
      "text/plain": [
       "<IPython.core.display.HTML object>"
      ]
     },
     "metadata": {},
     "output_type": "display_data"
    },
    {
     "name": "stdout",
     "output_type": "stream",
     "text": [
      "Epoch:  9\n",
      "Training loss: 0.6057\n"
     ]
    },
    {
     "data": {
      "text/html": [
       "\n",
       "        <p>Loss: 0.6077   36002 / 36002</p>\n",
       "        <progress value='36002' max='36002', style='width: 100%'>36002</progress>\n",
       "    "
      ],
      "text/plain": [
       "<IPython.core.display.HTML object>"
      ]
     },
     "metadata": {},
     "output_type": "display_data"
    },
    {
     "name": "stdout",
     "output_type": "stream",
     "text": [
      "Training Loss:  0.6077\n",
      "Training accuracy: 68.7712%\n"
     ]
    },
    {
     "data": {
      "text/html": [
       "\n",
       "        <p>Loss: 0.6001   12000 / 12000</p>\n",
       "        <progress value='12000' max='12000', style='width: 100%'>12000</progress>\n",
       "    "
      ],
      "text/plain": [
       "<IPython.core.display.HTML object>"
      ]
     },
     "metadata": {},
     "output_type": "display_data"
    },
    {
     "name": "stdout",
     "output_type": "stream",
     "text": [
      "Validation Loss:  0.6001\n",
      "Validation accuracy: 69.2667%\n",
      "Validation Loss has gone up 1 times.\n",
      "\n"
     ]
    },
    {
     "data": {
      "text/html": [
       "\n",
       "        <p>Loss: 0.6051   36002 / 36002</p>\n",
       "        <progress value='36002' max='36002', style='width: 100%'>36002</progress>\n",
       "    "
      ],
      "text/plain": [
       "<IPython.core.display.HTML object>"
      ]
     },
     "metadata": {},
     "output_type": "display_data"
    },
    {
     "name": "stdout",
     "output_type": "stream",
     "text": [
      "Epoch:  10\n",
      "Training loss: 0.6051\n"
     ]
    },
    {
     "data": {
      "text/html": [
       "\n",
       "        <p>Loss: 0.6028   36002 / 36002</p>\n",
       "        <progress value='36002' max='36002', style='width: 100%'>36002</progress>\n",
       "    "
      ],
      "text/plain": [
       "<IPython.core.display.HTML object>"
      ]
     },
     "metadata": {},
     "output_type": "display_data"
    },
    {
     "name": "stdout",
     "output_type": "stream",
     "text": [
      "Training Loss:  0.6028\n",
      "Training accuracy: 67.9546%\n"
     ]
    },
    {
     "data": {
      "text/html": [
       "\n",
       "        <p>Loss: 0.5997   12000 / 12000</p>\n",
       "        <progress value='12000' max='12000', style='width: 100%'>12000</progress>\n",
       "    "
      ],
      "text/plain": [
       "<IPython.core.display.HTML object>"
      ]
     },
     "metadata": {},
     "output_type": "display_data"
    },
    {
     "name": "stdout",
     "output_type": "stream",
     "text": [
      "Validation Loss:  0.5997\n",
      "Validation accuracy: 67.7500%\n",
      "Validation Loss has gone up 0 times.\n",
      "\n"
     ]
    },
    {
     "data": {
      "text/html": [
       "\n",
       "        <p>Loss: 0.6061   36002 / 36002</p>\n",
       "        <progress value='36002' max='36002', style='width: 100%'>36002</progress>\n",
       "    "
      ],
      "text/plain": [
       "<IPython.core.display.HTML object>"
      ]
     },
     "metadata": {},
     "output_type": "display_data"
    },
    {
     "name": "stdout",
     "output_type": "stream",
     "text": [
      "Epoch:  11\n",
      "Training loss: 0.6061\n"
     ]
    },
    {
     "data": {
      "text/html": [
       "\n",
       "        <p>Loss: 0.6036   36002 / 36002</p>\n",
       "        <progress value='36002' max='36002', style='width: 100%'>36002</progress>\n",
       "    "
      ],
      "text/plain": [
       "<IPython.core.display.HTML object>"
      ]
     },
     "metadata": {},
     "output_type": "display_data"
    },
    {
     "name": "stdout",
     "output_type": "stream",
     "text": [
      "Training Loss:  0.6036\n",
      "Training accuracy: 68.7767%\n"
     ]
    },
    {
     "data": {
      "text/html": [
       "\n",
       "        <p>Loss: 0.5978   12000 / 12000</p>\n",
       "        <progress value='12000' max='12000', style='width: 100%'>12000</progress>\n",
       "    "
      ],
      "text/plain": [
       "<IPython.core.display.HTML object>"
      ]
     },
     "metadata": {},
     "output_type": "display_data"
    },
    {
     "name": "stdout",
     "output_type": "stream",
     "text": [
      "Validation Loss:  0.5978\n",
      "Validation accuracy: 68.9500%\n",
      "\"Best Loss\": 0.5978322333477913\n",
      "\n",
      "Validation Loss has gone up 0 times.\n",
      "\n"
     ]
    },
    {
     "data": {
      "text/html": [
       "\n",
       "        <p>Loss: 0.6042   36002 / 36002</p>\n",
       "        <progress value='36002' max='36002', style='width: 100%'>36002</progress>\n",
       "    "
      ],
      "text/plain": [
       "<IPython.core.display.HTML object>"
      ]
     },
     "metadata": {},
     "output_type": "display_data"
    },
    {
     "name": "stdout",
     "output_type": "stream",
     "text": [
      "Epoch:  12\n",
      "Training loss: 0.6042\n"
     ]
    },
    {
     "data": {
      "text/html": [
       "\n",
       "        <p>Loss: 0.6181   36002 / 36002</p>\n",
       "        <progress value='36002' max='36002', style='width: 100%'>36002</progress>\n",
       "    "
      ],
      "text/plain": [
       "<IPython.core.display.HTML object>"
      ]
     },
     "metadata": {},
     "output_type": "display_data"
    },
    {
     "name": "stdout",
     "output_type": "stream",
     "text": [
      "Training Loss:  0.6181\n",
      "Training accuracy: 65.0464%\n"
     ]
    },
    {
     "data": {
      "text/html": [
       "\n",
       "        <p>Loss: 0.6180   12000 / 12000</p>\n",
       "        <progress value='12000' max='12000', style='width: 100%'>12000</progress>\n",
       "    "
      ],
      "text/plain": [
       "<IPython.core.display.HTML object>"
      ]
     },
     "metadata": {},
     "output_type": "display_data"
    },
    {
     "name": "stdout",
     "output_type": "stream",
     "text": [
      "Validation Loss:  0.618\n",
      "Validation accuracy: 65.1750%\n",
      "Validation Loss has gone up 1 times.\n",
      "\n"
     ]
    },
    {
     "data": {
      "text/html": [
       "\n",
       "        <p>Loss: 0.6059   36002 / 36002</p>\n",
       "        <progress value='36002' max='36002', style='width: 100%'>36002</progress>\n",
       "    "
      ],
      "text/plain": [
       "<IPython.core.display.HTML object>"
      ]
     },
     "metadata": {},
     "output_type": "display_data"
    },
    {
     "name": "stdout",
     "output_type": "stream",
     "text": [
      "Epoch:  13\n",
      "Training loss: 0.6059\n"
     ]
    },
    {
     "data": {
      "text/html": [
       "\n",
       "        <p>Loss: 0.6014   36002 / 36002</p>\n",
       "        <progress value='36002' max='36002', style='width: 100%'>36002</progress>\n",
       "    "
      ],
      "text/plain": [
       "<IPython.core.display.HTML object>"
      ]
     },
     "metadata": {},
     "output_type": "display_data"
    },
    {
     "name": "stdout",
     "output_type": "stream",
     "text": [
      "Training Loss:  0.6014\n",
      "Training accuracy: 68.6740%\n"
     ]
    },
    {
     "data": {
      "text/html": [
       "\n",
       "        <p>Loss: 0.5954   12000 / 12000</p>\n",
       "        <progress value='12000' max='12000', style='width: 100%'>12000</progress>\n",
       "    "
      ],
      "text/plain": [
       "<IPython.core.display.HTML object>"
      ]
     },
     "metadata": {},
     "output_type": "display_data"
    },
    {
     "name": "stdout",
     "output_type": "stream",
     "text": [
      "Validation Loss:  0.5954\n",
      "Validation accuracy: 68.8917%\n",
      "\"Best Loss\": 0.5954061220300959\n",
      "\n",
      "Validation Loss has gone up 0 times.\n",
      "\n"
     ]
    },
    {
     "data": {
      "text/html": [
       "\n",
       "        <p>Loss: 0.6081   36002 / 36002</p>\n",
       "        <progress value='36002' max='36002', style='width: 100%'>36002</progress>\n",
       "    "
      ],
      "text/plain": [
       "<IPython.core.display.HTML object>"
      ]
     },
     "metadata": {},
     "output_type": "display_data"
    },
    {
     "name": "stdout",
     "output_type": "stream",
     "text": [
      "Epoch:  14\n",
      "Training loss: 0.6081\n"
     ]
    },
    {
     "data": {
      "text/html": [
       "\n",
       "        <p>Loss: 0.6017   36002 / 36002</p>\n",
       "        <progress value='36002' max='36002', style='width: 100%'>36002</progress>\n",
       "    "
      ],
      "text/plain": [
       "<IPython.core.display.HTML object>"
      ]
     },
     "metadata": {},
     "output_type": "display_data"
    },
    {
     "name": "stdout",
     "output_type": "stream",
     "text": [
      "Training Loss:  0.6017\n",
      "Training accuracy: 68.7045%\n"
     ]
    },
    {
     "data": {
      "text/html": [
       "\n",
       "        <p>Loss: 0.5972   12000 / 12000</p>\n",
       "        <progress value='12000' max='12000', style='width: 100%'>12000</progress>\n",
       "    "
      ],
      "text/plain": [
       "<IPython.core.display.HTML object>"
      ]
     },
     "metadata": {},
     "output_type": "display_data"
    },
    {
     "name": "stdout",
     "output_type": "stream",
     "text": [
      "Validation Loss:  0.5972\n",
      "Validation accuracy: 69.0000%\n",
      "Validation Loss has gone up 1 times.\n",
      "\n"
     ]
    },
    {
     "data": {
      "text/html": [
       "\n",
       "        <p>Loss: 0.6063   36002 / 36002</p>\n",
       "        <progress value='36002' max='36002', style='width: 100%'>36002</progress>\n",
       "    "
      ],
      "text/plain": [
       "<IPython.core.display.HTML object>"
      ]
     },
     "metadata": {},
     "output_type": "display_data"
    },
    {
     "name": "stdout",
     "output_type": "stream",
     "text": [
      "Epoch:  15\n",
      "Training loss: 0.6063\n"
     ]
    },
    {
     "data": {
      "text/html": [
       "\n",
       "        <p>Loss: 0.6140   36002 / 36002</p>\n",
       "        <progress value='36002' max='36002', style='width: 100%'>36002</progress>\n",
       "    "
      ],
      "text/plain": [
       "<IPython.core.display.HTML object>"
      ]
     },
     "metadata": {},
     "output_type": "display_data"
    },
    {
     "name": "stdout",
     "output_type": "stream",
     "text": [
      "Training Loss:  0.614\n",
      "Training accuracy: 65.4825%\n"
     ]
    },
    {
     "data": {
      "text/html": [
       "\n",
       "        <p>Loss: 0.6129   12000 / 12000</p>\n",
       "        <progress value='12000' max='12000', style='width: 100%'>12000</progress>\n",
       "    "
      ],
      "text/plain": [
       "<IPython.core.display.HTML object>"
      ]
     },
     "metadata": {},
     "output_type": "display_data"
    },
    {
     "name": "stdout",
     "output_type": "stream",
     "text": [
      "Validation Loss:  0.6129\n",
      "Validation accuracy: 65.4333%\n",
      "Validation Loss has gone up 2 times.\n",
      "\n"
     ]
    },
    {
     "data": {
      "image/png": "[encoded data removed]",
      "text/plain": [
       "<Figure size 432x288 with 1 Axes>"
      ]
     },
     "metadata": {
      "needs_background": "light"
     },
     "output_type": "display_data"
    },
    {
     "data": {
      "text/html": [
       "\n",
       "        <p>Loss: 0.6190   12000 / 12000</p>\n",
       "        <progress value='12000' max='12000', style='width: 100%'>12000</progress>\n",
       "    "
      ],
      "text/plain": [
       "<IPython.core.display.HTML object>"
      ]
     },
     "metadata": {},
     "output_type": "display_data"
    },
    {
     "name": "stdout",
     "output_type": "stream",
     "text": [
      "Validation Loss:  0.619\n",
      "Validation accuracy: 65.0833%\n"
     ]
    },
    {
     "data": {
      "text/plain": [
       "0.6189568860733761"
      ]
     },
     "execution_count": 13,
     "metadata": {},
     "output_type": "execute_result"
    }
   ],
   "source": [
    "'''\n",
    "low pass\n",
    "'''\n",
    "s_epoch      = 1\n",
    "num_epochs   = 300\n",
    "lr_rate      = 1e-2\n",
    "load_model   = False\n",
    "model_name   = 'LogisticRegressionModel'\n",
    "path         = './results/'\n",
    "\n",
    "lr_model = LinearRegression(nn).to(device)\n",
    "criterion = torch.nn.BCEWithLogitsLoss()\n",
    "optimizer = torch.optim.SGD(lr_model.parameters(), lr=lr_rate, weight_decay=1e-3, momentum=0.9)\n",
    "\n",
    "if load_model:\n",
    "    lr_model.load_state_dict(torch.load(''))\n",
    "    \n",
    "choice = ['low_pass', 'band_pass', 'high_pass']\n",
    "\n",
    "train_losses, valid_losses = train(lr_model, \n",
    "                                   optimizer, \n",
    "                                   criterion, \n",
    "                                   trn_dl, \n",
    "                                   val_dl,\n",
    "                                   model_name,\n",
    "                                   path,\n",
    "                                   predicter=torch.nn.Sigmoid(),\n",
    "                                   choice = 'low_pass')\n",
    "\n",
    "epochs = range(1, len(train_losses) + 1)\n",
    "epoch_ticks = [i if i % 5 == 0 else 0 for i in epochs]\n",
    "    \n",
    "# plt.figure(figsize=(10,6))\n",
    "plt.plot(epochs, train_losses, label='Training loss')\n",
    "plt.plot(epochs, valid_losses, label='Validation loss')\n",
    "plt.legend()\n",
    "plt.title('Learning curves')\n",
    "plt.xlabel('Epoch')\n",
    "plt.ylabel('Loss')\n",
    "plt.xticks(epoch_ticks)\n",
    "plt.show()\n",
    "\n",
    "test_losses = []\n",
    "evaluate(lr_model,\n",
    "         optimizer,\n",
    "         criterion,\n",
    "         0,\n",
    "         tst_dl,\n",
    "         test_losses,\n",
    "         \"\",\n",
    "         \"\",\n",
    "         acc_thresh=0.5,\n",
    "         predicter=torch.nn.Sigmoid(),\n",
    "         validation=False,\n",
    "        choice = 'low_pass')"
   ]
  },
  {
   "cell_type": "code",
   "execution_count": 14,
   "metadata": {},
   "outputs": [
    {
     "data": {
      "text/html": [
       "\n",
       "        <p>Loss: 0.6679   36002 / 36002</p>\n",
       "        <progress value='36002' max='36002', style='width: 100%'>36002</progress>\n",
       "    "
      ],
      "text/plain": [
       "<IPython.core.display.HTML object>"
      ]
     },
     "metadata": {},
     "output_type": "display_data"
    },
    {
     "name": "stdout",
     "output_type": "stream",
     "text": [
      "Epoch:  1\n",
      "Training loss: 0.6679\n"
     ]
    },
    {
     "data": {
      "text/html": [
       "\n",
       "        <p>Loss: 0.6572   36002 / 36002</p>\n",
       "        <progress value='36002' max='36002', style='width: 100%'>36002</progress>\n",
       "    "
      ],
      "text/plain": [
       "<IPython.core.display.HTML object>"
      ]
     },
     "metadata": {},
     "output_type": "display_data"
    },
    {
     "name": "stdout",
     "output_type": "stream",
     "text": [
      "Training Loss:  0.6572\n",
      "Training accuracy: 59.8439%\n"
     ]
    },
    {
     "data": {
      "text/html": [
       "\n",
       "        <p>Loss: 0.6562   12000 / 12000</p>\n",
       "        <progress value='12000' max='12000', style='width: 100%'>12000</progress>\n",
       "    "
      ],
      "text/plain": [
       "<IPython.core.display.HTML object>"
      ]
     },
     "metadata": {},
     "output_type": "display_data"
    },
    {
     "name": "stdout",
     "output_type": "stream",
     "text": [
      "Validation Loss:  0.6562\n",
      "Validation accuracy: 60.0167%\n",
      "\"Best Loss\": 0.656237542629242\n",
      "\n",
      "Validation Loss has gone up 0 times.\n",
      "\n"
     ]
    },
    {
     "data": {
      "text/html": [
       "\n",
       "        <p>Loss: 0.6560   36002 / 36002</p>\n",
       "        <progress value='36002' max='36002', style='width: 100%'>36002</progress>\n",
       "    "
      ],
      "text/plain": [
       "<IPython.core.display.HTML object>"
      ]
     },
     "metadata": {},
     "output_type": "display_data"
    },
    {
     "name": "stdout",
     "output_type": "stream",
     "text": [
      "Epoch:  2\n",
      "Training loss: 0.656\n"
     ]
    },
    {
     "data": {
      "text/html": [
       "\n",
       "        <p>Loss: 0.6552   36002 / 36002</p>\n",
       "        <progress value='36002' max='36002', style='width: 100%'>36002</progress>\n",
       "    "
      ],
      "text/plain": [
       "<IPython.core.display.HTML object>"
      ]
     },
     "metadata": {},
     "output_type": "display_data"
    },
    {
     "name": "stdout",
     "output_type": "stream",
     "text": [
      "Training Loss:  0.6552\n",
      "Training accuracy: 59.1051%\n"
     ]
    },
    {
     "data": {
      "text/html": [
       "\n",
       "        <p>Loss: 0.6545   12000 / 12000</p>\n",
       "        <progress value='12000' max='12000', style='width: 100%'>12000</progress>\n",
       "    "
      ],
      "text/plain": [
       "<IPython.core.display.HTML object>"
      ]
     },
     "metadata": {},
     "output_type": "display_data"
    },
    {
     "name": "stdout",
     "output_type": "stream",
     "text": [
      "Validation Loss:  0.6545\n",
      "Validation accuracy: 59.5083%\n",
      "\"Best Loss\": 0.6544950617120624\n",
      "\n",
      "Validation Loss has gone up 0 times.\n",
      "\n"
     ]
    },
    {
     "data": {
      "text/html": [
       "\n",
       "        <p>Loss: 0.6504   36002 / 36002</p>\n",
       "        <progress value='36002' max='36002', style='width: 100%'>36002</progress>\n",
       "    "
      ],
      "text/plain": [
       "<IPython.core.display.HTML object>"
      ]
     },
     "metadata": {},
     "output_type": "display_data"
    },
    {
     "name": "stdout",
     "output_type": "stream",
     "text": [
      "Epoch:  3\n",
      "Training loss: 0.6504\n"
     ]
    },
    {
     "data": {
      "text/html": [
       "\n",
       "        <p>Loss: 0.6466   36002 / 36002</p>\n",
       "        <progress value='36002' max='36002', style='width: 100%'>36002</progress>\n",
       "    "
      ],
      "text/plain": [
       "<IPython.core.display.HTML object>"
      ]
     },
     "metadata": {},
     "output_type": "display_data"
    },
    {
     "name": "stdout",
     "output_type": "stream",
     "text": [
      "Training Loss:  0.6466\n",
      "Training accuracy: 62.1299%\n"
     ]
    },
    {
     "data": {
      "text/html": [
       "\n",
       "        <p>Loss: 0.6441   12000 / 12000</p>\n",
       "        <progress value='12000' max='12000', style='width: 100%'>12000</progress>\n",
       "    "
      ],
      "text/plain": [
       "<IPython.core.display.HTML object>"
      ]
     },
     "metadata": {},
     "output_type": "display_data"
    },
    {
     "name": "stdout",
     "output_type": "stream",
     "text": [
      "Validation Loss:  0.6441\n",
      "Validation accuracy: 62.5583%\n",
      "\"Best Loss\": 0.6440623072867702\n",
      "\n",
      "Validation Loss has gone up 0 times.\n",
      "\n"
     ]
    },
    {
     "data": {
      "text/html": [
       "\n",
       "        <p>Loss: 0.6476   36002 / 36002</p>\n",
       "        <progress value='36002' max='36002', style='width: 100%'>36002</progress>\n",
       "    "
      ],
      "text/plain": [
       "<IPython.core.display.HTML object>"
      ]
     },
     "metadata": {},
     "output_type": "display_data"
    },
    {
     "name": "stdout",
     "output_type": "stream",
     "text": [
      "Epoch:  4\n",
      "Training loss: 0.6476\n"
     ]
    },
    {
     "data": {
      "text/html": [
       "\n",
       "        <p>Loss: 0.6443   36002 / 36002</p>\n",
       "        <progress value='36002' max='36002', style='width: 100%'>36002</progress>\n",
       "    "
      ],
      "text/plain": [
       "<IPython.core.display.HTML object>"
      ]
     },
     "metadata": {},
     "output_type": "display_data"
    },
    {
     "name": "stdout",
     "output_type": "stream",
     "text": [
      "Training Loss:  0.6443\n",
      "Training accuracy: 62.5521%\n"
     ]
    },
    {
     "data": {
      "text/html": [
       "\n",
       "        <p>Loss: 0.6420   12000 / 12000</p>\n",
       "        <progress value='12000' max='12000', style='width: 100%'>12000</progress>\n",
       "    "
      ],
      "text/plain": [
       "<IPython.core.display.HTML object>"
      ]
     },
     "metadata": {},
     "output_type": "display_data"
    },
    {
     "name": "stdout",
     "output_type": "stream",
     "text": [
      "Validation Loss:  0.642\n",
      "Validation accuracy: 62.4667%\n",
      "\"Best Loss\": 0.6419933894847304\n",
      "\n",
      "Validation Loss has gone up 0 times.\n",
      "\n"
     ]
    },
    {
     "data": {
      "text/html": [
       "\n",
       "        <p>Loss: 0.6450   36002 / 36002</p>\n",
       "        <progress value='36002' max='36002', style='width: 100%'>36002</progress>\n",
       "    "
      ],
      "text/plain": [
       "<IPython.core.display.HTML object>"
      ]
     },
     "metadata": {},
     "output_type": "display_data"
    },
    {
     "name": "stdout",
     "output_type": "stream",
     "text": [
      "Epoch:  5\n",
      "Training loss: 0.645\n"
     ]
    },
    {
     "data": {
      "text/html": [
       "\n",
       "        <p>Loss: 0.6439   36002 / 36002</p>\n",
       "        <progress value='36002' max='36002', style='width: 100%'>36002</progress>\n",
       "    "
      ],
      "text/plain": [
       "<IPython.core.display.HTML object>"
      ]
     },
     "metadata": {},
     "output_type": "display_data"
    },
    {
     "name": "stdout",
     "output_type": "stream",
     "text": [
      "Training Loss:  0.6439\n",
      "Training accuracy: 62.2549%\n"
     ]
    },
    {
     "data": {
      "text/html": [
       "\n",
       "        <p>Loss: 0.6424   12000 / 12000</p>\n",
       "        <progress value='12000' max='12000', style='width: 100%'>12000</progress>\n",
       "    "
      ],
      "text/plain": [
       "<IPython.core.display.HTML object>"
      ]
     },
     "metadata": {},
     "output_type": "display_data"
    },
    {
     "name": "stdout",
     "output_type": "stream",
     "text": [
      "Validation Loss:  0.6424\n",
      "Validation accuracy: 62.3667%\n",
      "Validation Loss has gone up 1 times.\n",
      "\n"
     ]
    },
    {
     "data": {
      "text/html": [
       "\n",
       "        <p>Loss: 0.6428   36002 / 36002</p>\n",
       "        <progress value='36002' max='36002', style='width: 100%'>36002</progress>\n",
       "    "
      ],
      "text/plain": [
       "<IPython.core.display.HTML object>"
      ]
     },
     "metadata": {},
     "output_type": "display_data"
    },
    {
     "name": "stdout",
     "output_type": "stream",
     "text": [
      "Epoch:  6\n",
      "Training loss: 0.6428\n"
     ]
    },
    {
     "data": {
      "text/html": [
       "\n",
       "        <p>Loss: 0.6387   36002 / 36002</p>\n",
       "        <progress value='36002' max='36002', style='width: 100%'>36002</progress>\n",
       "    "
      ],
      "text/plain": [
       "<IPython.core.display.HTML object>"
      ]
     },
     "metadata": {},
     "output_type": "display_data"
    },
    {
     "name": "stdout",
     "output_type": "stream",
     "text": [
      "Training Loss:  0.6387\n",
      "Training accuracy: 63.6742%\n"
     ]
    },
    {
     "data": {
      "text/html": [
       "\n",
       "        <p>Loss: 0.6364   12000 / 12000</p>\n",
       "        <progress value='12000' max='12000', style='width: 100%'>12000</progress>\n",
       "    "
      ],
      "text/plain": [
       "<IPython.core.display.HTML object>"
      ]
     },
     "metadata": {},
     "output_type": "display_data"
    },
    {
     "name": "stdout",
     "output_type": "stream",
     "text": [
      "Validation Loss:  0.6364\n",
      "Validation accuracy: 63.7583%\n",
      "\"Best Loss\": 0.6364407057457784\n",
      "\n",
      "Validation Loss has gone up 0 times.\n",
      "\n"
     ]
    },
    {
     "data": {
      "text/html": [
       "\n",
       "        <p>Loss: 0.6386   36002 / 36002</p>\n",
       "        <progress value='36002' max='36002', style='width: 100%'>36002</progress>\n",
       "    "
      ],
      "text/plain": [
       "<IPython.core.display.HTML object>"
      ]
     },
     "metadata": {},
     "output_type": "display_data"
    },
    {
     "name": "stdout",
     "output_type": "stream",
     "text": [
      "Epoch:  7\n",
      "Training loss: 0.6386\n"
     ]
    },
    {
     "data": {
      "text/html": [
       "\n",
       "        <p>Loss: 0.6368   36002 / 36002</p>\n",
       "        <progress value='36002' max='36002', style='width: 100%'>36002</progress>\n",
       "    "
      ],
      "text/plain": [
       "<IPython.core.display.HTML object>"
      ]
     },
     "metadata": {},
     "output_type": "display_data"
    },
    {
     "name": "stdout",
     "output_type": "stream",
     "text": [
      "Training Loss:  0.6368\n",
      "Training accuracy: 65.3464%\n"
     ]
    },
    {
     "data": {
      "text/html": [
       "\n",
       "        <p>Loss: 0.6347   12000 / 12000</p>\n",
       "        <progress value='12000' max='12000', style='width: 100%'>12000</progress>\n",
       "    "
      ],
      "text/plain": [
       "<IPython.core.display.HTML object>"
      ]
     },
     "metadata": {},
     "output_type": "display_data"
    },
    {
     "name": "stdout",
     "output_type": "stream",
     "text": [
      "Validation Loss:  0.6347\n",
      "Validation accuracy: 65.7167%\n",
      "\"Best Loss\": 0.6346707851328746\n",
      "\n",
      "Validation Loss has gone up 0 times.\n",
      "\n"
     ]
    },
    {
     "data": {
      "text/html": [
       "\n",
       "        <p>Loss: 0.6354   36002 / 36002</p>\n",
       "        <progress value='36002' max='36002', style='width: 100%'>36002</progress>\n",
       "    "
      ],
      "text/plain": [
       "<IPython.core.display.HTML object>"
      ]
     },
     "metadata": {},
     "output_type": "display_data"
    },
    {
     "name": "stdout",
     "output_type": "stream",
     "text": [
      "Epoch:  8\n",
      "Training loss: 0.6354\n"
     ]
    },
    {
     "data": {
      "text/html": [
       "\n",
       "        <p>Loss: 0.6285   36002 / 36002</p>\n",
       "        <progress value='36002' max='36002', style='width: 100%'>36002</progress>\n",
       "    "
      ],
      "text/plain": [
       "<IPython.core.display.HTML object>"
      ]
     },
     "metadata": {},
     "output_type": "display_data"
    },
    {
     "name": "stdout",
     "output_type": "stream",
     "text": [
      "Training Loss:  0.6285\n",
      "Training accuracy: 64.2825%\n"
     ]
    },
    {
     "data": {
      "text/html": [
       "\n",
       "        <p>Loss: 0.6274   12000 / 12000</p>\n",
       "        <progress value='12000' max='12000', style='width: 100%'>12000</progress>\n",
       "    "
      ],
      "text/plain": [
       "<IPython.core.display.HTML object>"
      ]
     },
     "metadata": {},
     "output_type": "display_data"
    },
    {
     "name": "stdout",
     "output_type": "stream",
     "text": [
      "Validation Loss:  0.6274\n",
      "Validation accuracy: 64.6250%\n",
      "\"Best Loss\": 0.6273907327905615\n",
      "\n",
      "Validation Loss has gone up 0 times.\n",
      "\n"
     ]
    },
    {
     "data": {
      "text/html": [
       "\n",
       "        <p>Loss: 0.6325   36002 / 36002</p>\n",
       "        <progress value='36002' max='36002', style='width: 100%'>36002</progress>\n",
       "    "
      ],
      "text/plain": [
       "<IPython.core.display.HTML object>"
      ]
     },
     "metadata": {},
     "output_type": "display_data"
    },
    {
     "name": "stdout",
     "output_type": "stream",
     "text": [
      "Epoch:  9\n",
      "Training loss: 0.6325\n"
     ]
    },
    {
     "data": {
      "text/html": [
       "\n",
       "        <p>Loss: 0.6245   36002 / 36002</p>\n",
       "        <progress value='36002' max='36002', style='width: 100%'>36002</progress>\n",
       "    "
      ],
      "text/plain": [
       "<IPython.core.display.HTML object>"
      ]
     },
     "metadata": {},
     "output_type": "display_data"
    },
    {
     "name": "stdout",
     "output_type": "stream",
     "text": [
      "Training Loss:  0.6245\n",
      "Training accuracy: 65.9352%\n"
     ]
    },
    {
     "data": {
      "text/html": [
       "\n",
       "        <p>Loss: 0.6231   12000 / 12000</p>\n",
       "        <progress value='12000' max='12000', style='width: 100%'>12000</progress>\n",
       "    "
      ],
      "text/plain": [
       "<IPython.core.display.HTML object>"
      ]
     },
     "metadata": {},
     "output_type": "display_data"
    },
    {
     "name": "stdout",
     "output_type": "stream",
     "text": [
      "Validation Loss:  0.6231\n",
      "Validation accuracy: 66.2417%\n",
      "\"Best Loss\": 0.6230680073829405\n",
      "\n",
      "Validation Loss has gone up 0 times.\n",
      "\n"
     ]
    },
    {
     "data": {
      "text/html": [
       "\n",
       "        <p>Loss: 0.6298   36002 / 36002</p>\n",
       "        <progress value='36002' max='36002', style='width: 100%'>36002</progress>\n",
       "    "
      ],
      "text/plain": [
       "<IPython.core.display.HTML object>"
      ]
     },
     "metadata": {},
     "output_type": "display_data"
    },
    {
     "name": "stdout",
     "output_type": "stream",
     "text": [
      "Epoch:  10\n",
      "Training loss: 0.6298\n"
     ]
    },
    {
     "data": {
      "text/html": [
       "\n",
       "        <p>Loss: 0.6254   36002 / 36002</p>\n",
       "        <progress value='36002' max='36002', style='width: 100%'>36002</progress>\n",
       "    "
      ],
      "text/plain": [
       "<IPython.core.display.HTML object>"
      ]
     },
     "metadata": {},
     "output_type": "display_data"
    },
    {
     "name": "stdout",
     "output_type": "stream",
     "text": [
      "Training Loss:  0.6254\n",
      "Training accuracy: 64.2131%\n"
     ]
    },
    {
     "data": {
      "text/html": [
       "\n",
       "        <p>Loss: 0.6249   12000 / 12000</p>\n",
       "        <progress value='12000' max='12000', style='width: 100%'>12000</progress>\n",
       "    "
      ],
      "text/plain": [
       "<IPython.core.display.HTML object>"
      ]
     },
     "metadata": {},
     "output_type": "display_data"
    },
    {
     "name": "stdout",
     "output_type": "stream",
     "text": [
      "Validation Loss:  0.6249\n",
      "Validation accuracy: 64.0750%\n",
      "Validation Loss has gone up 1 times.\n",
      "\n"
     ]
    },
    {
     "data": {
      "text/html": [
       "\n",
       "        <p>Loss: 0.6289   36002 / 36002</p>\n",
       "        <progress value='36002' max='36002', style='width: 100%'>36002</progress>\n",
       "    "
      ],
      "text/plain": [
       "<IPython.core.display.HTML object>"
      ]
     },
     "metadata": {},
     "output_type": "display_data"
    },
    {
     "name": "stdout",
     "output_type": "stream",
     "text": [
      "Epoch:  11\n",
      "Training loss: 0.6289\n"
     ]
    },
    {
     "data": {
      "text/html": [
       "\n",
       "        <p>Loss: 0.6200   36002 / 36002</p>\n",
       "        <progress value='36002' max='36002', style='width: 100%'>36002</progress>\n",
       "    "
      ],
      "text/plain": [
       "<IPython.core.display.HTML object>"
      ]
     },
     "metadata": {},
     "output_type": "display_data"
    },
    {
     "name": "stdout",
     "output_type": "stream",
     "text": [
      "Training Loss:  0.62\n",
      "Training accuracy: 66.6491%\n"
     ]
    },
    {
     "data": {
      "text/html": [
       "\n",
       "        <p>Loss: 0.6185   12000 / 12000</p>\n",
       "        <progress value='12000' max='12000', style='width: 100%'>12000</progress>\n",
       "    "
      ],
      "text/plain": [
       "<IPython.core.display.HTML object>"
      ]
     },
     "metadata": {},
     "output_type": "display_data"
    },
    {
     "name": "stdout",
     "output_type": "stream",
     "text": [
      "Validation Loss:  0.6185\n",
      "Validation accuracy: 67.0250%\n",
      "\"Best Loss\": 0.618542011113877\n",
      "\n",
      "Validation Loss has gone up 0 times.\n",
      "\n"
     ]
    },
    {
     "data": {
      "text/html": [
       "\n",
       "        <p>Loss: 0.6247   36002 / 36002</p>\n",
       "        <progress value='36002' max='36002', style='width: 100%'>36002</progress>\n",
       "    "
      ],
      "text/plain": [
       "<IPython.core.display.HTML object>"
      ]
     },
     "metadata": {},
     "output_type": "display_data"
    },
    {
     "name": "stdout",
     "output_type": "stream",
     "text": [
      "Epoch:  12\n",
      "Training loss: 0.6247\n"
     ]
    },
    {
     "data": {
      "text/html": [
       "\n",
       "        <p>Loss: 0.6285   36002 / 36002</p>\n",
       "        <progress value='36002' max='36002', style='width: 100%'>36002</progress>\n",
       "    "
      ],
      "text/plain": [
       "<IPython.core.display.HTML object>"
      ]
     },
     "metadata": {},
     "output_type": "display_data"
    },
    {
     "name": "stdout",
     "output_type": "stream",
     "text": [
      "Training Loss:  0.6285\n",
      "Training accuracy: 64.9353%\n"
     ]
    },
    {
     "data": {
      "text/html": [
       "\n",
       "        <p>Loss: 0.6264   12000 / 12000</p>\n",
       "        <progress value='12000' max='12000', style='width: 100%'>12000</progress>\n",
       "    "
      ],
      "text/plain": [
       "<IPython.core.display.HTML object>"
      ]
     },
     "metadata": {},
     "output_type": "display_data"
    },
    {
     "name": "stdout",
     "output_type": "stream",
     "text": [
      "Validation Loss:  0.6264\n",
      "Validation accuracy: 65.2333%\n",
      "Validation Loss has gone up 1 times.\n",
      "\n"
     ]
    },
    {
     "data": {
      "text/html": [
       "\n",
       "        <p>Loss: 0.6243   36002 / 36002</p>\n",
       "        <progress value='36002' max='36002', style='width: 100%'>36002</progress>\n",
       "    "
      ],
      "text/plain": [
       "<IPython.core.display.HTML object>"
      ]
     },
     "metadata": {},
     "output_type": "display_data"
    },
    {
     "name": "stdout",
     "output_type": "stream",
     "text": [
      "Epoch:  13\n",
      "Training loss: 0.6243\n"
     ]
    },
    {
     "data": {
      "text/html": [
       "\n",
       "        <p>Loss: 0.6197   36002 / 36002</p>\n",
       "        <progress value='36002' max='36002', style='width: 100%'>36002</progress>\n",
       "    "
      ],
      "text/plain": [
       "<IPython.core.display.HTML object>"
      ]
     },
     "metadata": {},
     "output_type": "display_data"
    },
    {
     "name": "stdout",
     "output_type": "stream",
     "text": [
      "Training Loss:  0.6197\n",
      "Training accuracy: 65.8602%\n"
     ]
    },
    {
     "data": {
      "text/html": [
       "\n",
       "        <p>Loss: 0.6178   12000 / 12000</p>\n",
       "        <progress value='12000' max='12000', style='width: 100%'>12000</progress>\n",
       "    "
      ],
      "text/plain": [
       "<IPython.core.display.HTML object>"
      ]
     },
     "metadata": {},
     "output_type": "display_data"
    },
    {
     "name": "stdout",
     "output_type": "stream",
     "text": [
      "Validation Loss:  0.6178\n",
      "Validation accuracy: 66.2083%\n",
      "\"Best Loss\": 0.6178034455218213\n",
      "\n",
      "Validation Loss has gone up 0 times.\n",
      "\n"
     ]
    },
    {
     "data": {
      "text/html": [
       "\n",
       "        <p>Loss: 0.6236   36002 / 36002</p>\n",
       "        <progress value='36002' max='36002', style='width: 100%'>36002</progress>\n",
       "    "
      ],
      "text/plain": [
       "<IPython.core.display.HTML object>"
      ]
     },
     "metadata": {},
     "output_type": "display_data"
    },
    {
     "name": "stdout",
     "output_type": "stream",
     "text": [
      "Epoch:  14\n",
      "Training loss: 0.6236\n"
     ]
    },
    {
     "data": {
      "text/html": [
       "\n",
       "        <p>Loss: 0.6167   36002 / 36002</p>\n",
       "        <progress value='36002' max='36002', style='width: 100%'>36002</progress>\n",
       "    "
      ],
      "text/plain": [
       "<IPython.core.display.HTML object>"
      ]
     },
     "metadata": {},
     "output_type": "display_data"
    },
    {
     "name": "stdout",
     "output_type": "stream",
     "text": [
      "Training Loss:  0.6167\n",
      "Training accuracy: 66.0241%\n"
     ]
    },
    {
     "data": {
      "text/html": [
       "\n",
       "        <p>Loss: 0.6159   12000 / 12000</p>\n",
       "        <progress value='12000' max='12000', style='width: 100%'>12000</progress>\n",
       "    "
      ],
      "text/plain": [
       "<IPython.core.display.HTML object>"
      ]
     },
     "metadata": {},
     "output_type": "display_data"
    },
    {
     "name": "stdout",
     "output_type": "stream",
     "text": [
      "Validation Loss:  0.6159\n",
      "Validation accuracy: 66.4667%\n",
      "\"Best Loss\": 0.6159171785445926\n",
      "\n",
      "Validation Loss has gone up 0 times.\n",
      "\n"
     ]
    },
    {
     "data": {
      "text/html": [
       "\n",
       "        <p>Loss: 0.6240   36002 / 36002</p>\n",
       "        <progress value='36002' max='36002', style='width: 100%'>36002</progress>\n",
       "    "
      ],
      "text/plain": [
       "<IPython.core.display.HTML object>"
      ]
     },
     "metadata": {},
     "output_type": "display_data"
    },
    {
     "name": "stdout",
     "output_type": "stream",
     "text": [
      "Epoch:  15\n",
      "Training loss: 0.624\n"
     ]
    },
    {
     "data": {
      "text/html": [
       "\n",
       "        <p>Loss: 0.6201   36002 / 36002</p>\n",
       "        <progress value='36002' max='36002', style='width: 100%'>36002</progress>\n",
       "    "
      ],
      "text/plain": [
       "<IPython.core.display.HTML object>"
      ]
     },
     "metadata": {},
     "output_type": "display_data"
    },
    {
     "name": "stdout",
     "output_type": "stream",
     "text": [
      "Training Loss:  0.6201\n",
      "Training accuracy: 65.6102%\n"
     ]
    },
    {
     "data": {
      "text/html": [
       "\n",
       "        <p>Loss: 0.6188   12000 / 12000</p>\n",
       "        <progress value='12000' max='12000', style='width: 100%'>12000</progress>\n",
       "    "
      ],
      "text/plain": [
       "<IPython.core.display.HTML object>"
      ]
     },
     "metadata": {},
     "output_type": "display_data"
    },
    {
     "name": "stdout",
     "output_type": "stream",
     "text": [
      "Validation Loss:  0.6188\n",
      "Validation accuracy: 66.0083%\n",
      "Validation Loss has gone up 1 times.\n",
      "\n"
     ]
    },
    {
     "data": {
      "text/html": [
       "\n",
       "        <p>Loss: 0.6230   36002 / 36002</p>\n",
       "        <progress value='36002' max='36002', style='width: 100%'>36002</progress>\n",
       "    "
      ],
      "text/plain": [
       "<IPython.core.display.HTML object>"
      ]
     },
     "metadata": {},
     "output_type": "display_data"
    },
    {
     "name": "stdout",
     "output_type": "stream",
     "text": [
      "Epoch:  16\n",
      "Training loss: 0.623\n"
     ]
    },
    {
     "data": {
      "text/html": [
       "\n",
       "        <p>Loss: 0.6337   36002 / 36002</p>\n",
       "        <progress value='36002' max='36002', style='width: 100%'>36002</progress>\n",
       "    "
      ],
      "text/plain": [
       "<IPython.core.display.HTML object>"
      ]
     },
     "metadata": {},
     "output_type": "display_data"
    },
    {
     "name": "stdout",
     "output_type": "stream",
     "text": [
      "Training Loss:  0.6337\n",
      "Training accuracy: 64.5797%\n"
     ]
    },
    {
     "data": {
      "text/html": [
       "\n",
       "        <p>Loss: 0.6335   12000 / 12000</p>\n",
       "        <progress value='12000' max='12000', style='width: 100%'>12000</progress>\n",
       "    "
      ],
      "text/plain": [
       "<IPython.core.display.HTML object>"
      ]
     },
     "metadata": {},
     "output_type": "display_data"
    },
    {
     "name": "stdout",
     "output_type": "stream",
     "text": [
      "Validation Loss:  0.6335\n",
      "Validation accuracy: 64.3750%\n",
      "Validation Loss has gone up 2 times.\n",
      "\n"
     ]
    },
    {
     "data": {
      "image/png": "[encoded data removed]",
      "text/plain": [
       "<Figure size 432x288 with 1 Axes>"
      ]
     },
     "metadata": {
      "needs_background": "light"
     },
     "output_type": "display_data"
    },
    {
     "data": {
      "text/html": [
       "\n",
       "        <p>Loss: 0.6389   12000 / 12000</p>\n",
       "        <progress value='12000' max='12000', style='width: 100%'>12000</progress>\n",
       "    "
      ],
      "text/plain": [
       "<IPython.core.display.HTML object>"
      ]
     },
     "metadata": {},
     "output_type": "display_data"
    },
    {
     "name": "stdout",
     "output_type": "stream",
     "text": [
      "Validation Loss:  0.6389\n",
      "Validation accuracy: 64.0667%\n"
     ]
    },
    {
     "data": {
      "text/plain": [
       "0.6389449194390723"
      ]
     },
     "execution_count": 14,
     "metadata": {},
     "output_type": "execute_result"
    }
   ],
   "source": [
    "'''\n",
    "band pass\n",
    "'''\n",
    "\n",
    "s_epoch      = 1\n",
    "num_epochs   = 300\n",
    "lr_rate      = 1e-2\n",
    "load_model   = False\n",
    "model_name   = 'LogisticRegressionModel'\n",
    "path         = './results/'\n",
    "\n",
    "lr_model = LinearRegression(nn).to(device)\n",
    "criterion = torch.nn.BCEWithLogitsLoss()\n",
    "optimizer = torch.optim.SGD(lr_model.parameters(), lr=lr_rate, weight_decay=1e-3, momentum=0.9)\n",
    "\n",
    "if load_model:\n",
    "    lr_model.load_state_dict(torch.load(''))\n",
    "    \n",
    "choice = ['low_pass', 'band_pass', 'high_pass']\n",
    "\n",
    "train_losses, valid_losses = train(lr_model, \n",
    "                                   optimizer, \n",
    "                                   criterion, \n",
    "                                   trn_dl, \n",
    "                                   val_dl,\n",
    "                                   model_name,\n",
    "                                   path,\n",
    "                                   predicter=torch.nn.Sigmoid(),\n",
    "                                   choice = 'band_pass')\n",
    "\n",
    "epochs = range(1, len(train_losses) + 1)\n",
    "epoch_ticks = [i if i % 5 == 0 else 0 for i in epochs]\n",
    "    \n",
    "# plt.figure(figsize=(10,6))\n",
    "plt.plot(epochs, train_losses, label='Training loss')\n",
    "plt.plot(epochs, valid_losses, label='Validation loss')\n",
    "plt.legend()\n",
    "plt.title('Learning curves')\n",
    "plt.xlabel('Epoch')\n",
    "plt.ylabel('Loss')\n",
    "plt.xticks(epoch_ticks)\n",
    "plt.show()\n",
    "\n",
    "test_losses = []\n",
    "evaluate(lr_model,\n",
    "         optimizer,\n",
    "         criterion,\n",
    "         0,\n",
    "         tst_dl,\n",
    "         test_losses,\n",
    "         \"\",\n",
    "         \"\",\n",
    "         acc_thresh=0.5,\n",
    "         predicter=torch.nn.Sigmoid(),\n",
    "         validation=False,\n",
    "        choice = 'band_pass')"
   ]
  },
  {
   "cell_type": "code",
   "execution_count": 15,
   "metadata": {},
   "outputs": [
    {
     "data": {
      "text/html": [
       "\n",
       "        <p>Loss: 0.5613   36002 / 36002</p>\n",
       "        <progress value='36002' max='36002', style='width: 100%'>36002</progress>\n",
       "    "
      ],
      "text/plain": [
       "<IPython.core.display.HTML object>"
      ]
     },
     "metadata": {},
     "output_type": "display_data"
    },
    {
     "name": "stdout",
     "output_type": "stream",
     "text": [
      "Epoch:  1\n",
      "Training loss: 0.5613\n"
     ]
    },
    {
     "data": {
      "text/html": [
       "\n",
       "        <p>Loss: 0.5411   36002 / 36002</p>\n",
       "        <progress value='36002' max='36002', style='width: 100%'>36002</progress>\n",
       "    "
      ],
      "text/plain": [
       "<IPython.core.display.HTML object>"
      ]
     },
     "metadata": {},
     "output_type": "display_data"
    },
    {
     "name": "stdout",
     "output_type": "stream",
     "text": [
      "Training Loss:  0.5411\n",
      "Training accuracy: 73.4848%\n"
     ]
    },
    {
     "data": {
      "text/html": [
       "\n",
       "        <p>Loss: 0.5410   12000 / 12000</p>\n",
       "        <progress value='12000' max='12000', style='width: 100%'>12000</progress>\n",
       "    "
      ],
      "text/plain": [
       "<IPython.core.display.HTML object>"
      ]
     },
     "metadata": {},
     "output_type": "display_data"
    },
    {
     "name": "stdout",
     "output_type": "stream",
     "text": [
      "Validation Loss:  0.541\n",
      "Validation accuracy: 73.7000%\n",
      "\"Best Loss\": 0.5410221035176134\n",
      "\n",
      "Validation Loss has gone up 0 times.\n",
      "\n"
     ]
    },
    {
     "data": {
      "text/html": [
       "\n",
       "        <p>Loss: 0.5346   36002 / 36002</p>\n",
       "        <progress value='36002' max='36002', style='width: 100%'>36002</progress>\n",
       "    "
      ],
      "text/plain": [
       "<IPython.core.display.HTML object>"
      ]
     },
     "metadata": {},
     "output_type": "display_data"
    },
    {
     "name": "stdout",
     "output_type": "stream",
     "text": [
      "Epoch:  2\n",
      "Training loss: 0.5346\n"
     ]
    },
    {
     "data": {
      "text/html": [
       "\n",
       "        <p>Loss: 0.5275   36002 / 36002</p>\n",
       "        <progress value='36002' max='36002', style='width: 100%'>36002</progress>\n",
       "    "
      ],
      "text/plain": [
       "<IPython.core.display.HTML object>"
      ]
     },
     "metadata": {},
     "output_type": "display_data"
    },
    {
     "name": "stdout",
     "output_type": "stream",
     "text": [
      "Training Loss:  0.5275\n",
      "Training accuracy: 74.4181%\n"
     ]
    },
    {
     "data": {
      "text/html": [
       "\n",
       "        <p>Loss: 0.5276   12000 / 12000</p>\n",
       "        <progress value='12000' max='12000', style='width: 100%'>12000</progress>\n",
       "    "
      ],
      "text/plain": [
       "<IPython.core.display.HTML object>"
      ]
     },
     "metadata": {},
     "output_type": "display_data"
    },
    {
     "name": "stdout",
     "output_type": "stream",
     "text": [
      "Validation Loss:  0.5276\n",
      "Validation accuracy: 74.2500%\n",
      "\"Best Loss\": 0.5275648480400127\n",
      "\n",
      "Validation Loss has gone up 0 times.\n",
      "\n"
     ]
    },
    {
     "data": {
      "text/html": [
       "\n",
       "        <p>Loss: 0.5287   36002 / 36002</p>\n",
       "        <progress value='36002' max='36002', style='width: 100%'>36002</progress>\n",
       "    "
      ],
      "text/plain": [
       "<IPython.core.display.HTML object>"
      ]
     },
     "metadata": {},
     "output_type": "display_data"
    },
    {
     "name": "stdout",
     "output_type": "stream",
     "text": [
      "Epoch:  3\n",
      "Training loss: 0.5287\n"
     ]
    },
    {
     "data": {
      "text/html": [
       "\n",
       "        <p>Loss: 0.5332   36002 / 36002</p>\n",
       "        <progress value='36002' max='36002', style='width: 100%'>36002</progress>\n",
       "    "
      ],
      "text/plain": [
       "<IPython.core.display.HTML object>"
      ]
     },
     "metadata": {},
     "output_type": "display_data"
    },
    {
     "name": "stdout",
     "output_type": "stream",
     "text": [
      "Training Loss:  0.5332\n",
      "Training accuracy: 73.6654%\n"
     ]
    },
    {
     "data": {
      "text/html": [
       "\n",
       "        <p>Loss: 0.5322   12000 / 12000</p>\n",
       "        <progress value='12000' max='12000', style='width: 100%'>12000</progress>\n",
       "    "
      ],
      "text/plain": [
       "<IPython.core.display.HTML object>"
      ]
     },
     "metadata": {},
     "output_type": "display_data"
    },
    {
     "name": "stdout",
     "output_type": "stream",
     "text": [
      "Validation Loss:  0.5322\n",
      "Validation accuracy: 73.2250%\n",
      "Validation Loss has gone up 1 times.\n",
      "\n"
     ]
    },
    {
     "data": {
      "text/html": [
       "\n",
       "        <p>Loss: 0.5219   36002 / 36002</p>\n",
       "        <progress value='36002' max='36002', style='width: 100%'>36002</progress>\n",
       "    "
      ],
      "text/plain": [
       "<IPython.core.display.HTML object>"
      ]
     },
     "metadata": {},
     "output_type": "display_data"
    },
    {
     "name": "stdout",
     "output_type": "stream",
     "text": [
      "Epoch:  4\n",
      "Training loss: 0.5219\n"
     ]
    },
    {
     "data": {
      "text/html": [
       "\n",
       "        <p>Loss: 0.5170   36002 / 36002</p>\n",
       "        <progress value='36002' max='36002', style='width: 100%'>36002</progress>\n",
       "    "
      ],
      "text/plain": [
       "<IPython.core.display.HTML object>"
      ]
     },
     "metadata": {},
     "output_type": "display_data"
    },
    {
     "name": "stdout",
     "output_type": "stream",
     "text": [
      "Training Loss:  0.517\n",
      "Training accuracy: 74.9431%\n"
     ]
    },
    {
     "data": {
      "text/html": [
       "\n",
       "        <p>Loss: 0.5150   12000 / 12000</p>\n",
       "        <progress value='12000' max='12000', style='width: 100%'>12000</progress>\n",
       "    "
      ],
      "text/plain": [
       "<IPython.core.display.HTML object>"
      ]
     },
     "metadata": {},
     "output_type": "display_data"
    },
    {
     "name": "stdout",
     "output_type": "stream",
     "text": [
      "Validation Loss:  0.515\n",
      "Validation accuracy: 75.0417%\n",
      "\"Best Loss\": 0.5150166147566858\n",
      "\n",
      "Validation Loss has gone up 0 times.\n",
      "\n"
     ]
    },
    {
     "data": {
      "text/html": [
       "\n",
       "        <p>Loss: 0.5163   36002 / 36002</p>\n",
       "        <progress value='36002' max='36002', style='width: 100%'>36002</progress>\n",
       "    "
      ],
      "text/plain": [
       "<IPython.core.display.HTML object>"
      ]
     },
     "metadata": {},
     "output_type": "display_data"
    },
    {
     "name": "stdout",
     "output_type": "stream",
     "text": [
      "Epoch:  5\n",
      "Training loss: 0.5163\n"
     ]
    },
    {
     "data": {
      "text/html": [
       "\n",
       "        <p>Loss: 0.5145   36002 / 36002</p>\n",
       "        <progress value='36002' max='36002', style='width: 100%'>36002</progress>\n",
       "    "
      ],
      "text/plain": [
       "<IPython.core.display.HTML object>"
      ]
     },
     "metadata": {},
     "output_type": "display_data"
    },
    {
     "name": "stdout",
     "output_type": "stream",
     "text": [
      "Training Loss:  0.5145\n",
      "Training accuracy: 74.9708%\n"
     ]
    },
    {
     "data": {
      "text/html": [
       "\n",
       "        <p>Loss: 0.5125   12000 / 12000</p>\n",
       "        <progress value='12000' max='12000', style='width: 100%'>12000</progress>\n",
       "    "
      ],
      "text/plain": [
       "<IPython.core.display.HTML object>"
      ]
     },
     "metadata": {},
     "output_type": "display_data"
    },
    {
     "name": "stdout",
     "output_type": "stream",
     "text": [
      "Validation Loss:  0.5125\n",
      "Validation accuracy: 74.7833%\n",
      "\"Best Loss\": 0.5125017562445174\n",
      "\n",
      "Validation Loss has gone up 0 times.\n",
      "\n"
     ]
    },
    {
     "data": {
      "text/html": [
       "\n",
       "        <p>Loss: 0.5138   36002 / 36002</p>\n",
       "        <progress value='36002' max='36002', style='width: 100%'>36002</progress>\n",
       "    "
      ],
      "text/plain": [
       "<IPython.core.display.HTML object>"
      ]
     },
     "metadata": {},
     "output_type": "display_data"
    },
    {
     "name": "stdout",
     "output_type": "stream",
     "text": [
      "Epoch:  6\n",
      "Training loss: 0.5138\n"
     ]
    },
    {
     "data": {
      "text/html": [
       "\n",
       "        <p>Loss: 0.5112   36002 / 36002</p>\n",
       "        <progress value='36002' max='36002', style='width: 100%'>36002</progress>\n",
       "    "
      ],
      "text/plain": [
       "<IPython.core.display.HTML object>"
      ]
     },
     "metadata": {},
     "output_type": "display_data"
    },
    {
     "name": "stdout",
     "output_type": "stream",
     "text": [
      "Training Loss:  0.5112\n",
      "Training accuracy: 75.6680%\n"
     ]
    },
    {
     "data": {
      "text/html": [
       "\n",
       "        <p>Loss: 0.5080   12000 / 12000</p>\n",
       "        <progress value='12000' max='12000', style='width: 100%'>12000</progress>\n",
       "    "
      ],
      "text/plain": [
       "<IPython.core.display.HTML object>"
      ]
     },
     "metadata": {},
     "output_type": "display_data"
    },
    {
     "name": "stdout",
     "output_type": "stream",
     "text": [
      "Validation Loss:  0.508\n",
      "Validation accuracy: 76.0000%\n",
      "\"Best Loss\": 0.5080425793186145\n",
      "\n",
      "Validation Loss has gone up 0 times.\n",
      "\n"
     ]
    },
    {
     "data": {
      "text/html": [
       "\n",
       "        <p>Loss: 0.5104   36002 / 36002</p>\n",
       "        <progress value='36002' max='36002', style='width: 100%'>36002</progress>\n",
       "    "
      ],
      "text/plain": [
       "<IPython.core.display.HTML object>"
      ]
     },
     "metadata": {},
     "output_type": "display_data"
    },
    {
     "name": "stdout",
     "output_type": "stream",
     "text": [
      "Epoch:  7\n",
      "Training loss: 0.5104\n"
     ]
    },
    {
     "data": {
      "text/html": [
       "\n",
       "        <p>Loss: 0.5063   36002 / 36002</p>\n",
       "        <progress value='36002' max='36002', style='width: 100%'>36002</progress>\n",
       "    "
      ],
      "text/plain": [
       "<IPython.core.display.HTML object>"
      ]
     },
     "metadata": {},
     "output_type": "display_data"
    },
    {
     "name": "stdout",
     "output_type": "stream",
     "text": [
      "Training Loss:  0.5063\n",
      "Training accuracy: 75.4902%\n"
     ]
    },
    {
     "data": {
      "text/html": [
       "\n",
       "        <p>Loss: 0.5039   12000 / 12000</p>\n",
       "        <progress value='12000' max='12000', style='width: 100%'>12000</progress>\n",
       "    "
      ],
      "text/plain": [
       "<IPython.core.display.HTML object>"
      ]
     },
     "metadata": {},
     "output_type": "display_data"
    },
    {
     "name": "stdout",
     "output_type": "stream",
     "text": [
      "Validation Loss:  0.5039\n",
      "Validation accuracy: 75.6417%\n",
      "\"Best Loss\": 0.5039456106246786\n",
      "\n",
      "Validation Loss has gone up 0 times.\n",
      "\n"
     ]
    },
    {
     "data": {
      "text/html": [
       "\n",
       "        <p>Loss: 0.5087   36002 / 36002</p>\n",
       "        <progress value='36002' max='36002', style='width: 100%'>36002</progress>\n",
       "    "
      ],
      "text/plain": [
       "<IPython.core.display.HTML object>"
      ]
     },
     "metadata": {},
     "output_type": "display_data"
    },
    {
     "name": "stdout",
     "output_type": "stream",
     "text": [
      "Epoch:  8\n",
      "Training loss: 0.5087\n"
     ]
    },
    {
     "data": {
      "text/html": [
       "\n",
       "        <p>Loss: 0.5067   36002 / 36002</p>\n",
       "        <progress value='36002' max='36002', style='width: 100%'>36002</progress>\n",
       "    "
      ],
      "text/plain": [
       "<IPython.core.display.HTML object>"
      ]
     },
     "metadata": {},
     "output_type": "display_data"
    },
    {
     "name": "stdout",
     "output_type": "stream",
     "text": [
      "Training Loss:  0.5067\n",
      "Training accuracy: 75.4986%\n"
     ]
    },
    {
     "data": {
      "text/html": [
       "\n",
       "        <p>Loss: 0.5029   12000 / 12000</p>\n",
       "        <progress value='12000' max='12000', style='width: 100%'>12000</progress>\n",
       "    "
      ],
      "text/plain": [
       "<IPython.core.display.HTML object>"
      ]
     },
     "metadata": {},
     "output_type": "display_data"
    },
    {
     "name": "stdout",
     "output_type": "stream",
     "text": [
      "Validation Loss:  0.5029\n",
      "Validation accuracy: 75.3917%\n",
      "\"Best Loss\": 0.5028984828832299\n",
      "\n",
      "Validation Loss has gone up 0 times.\n",
      "\n"
     ]
    },
    {
     "data": {
      "text/html": [
       "\n",
       "        <p>Loss: 0.5083   36002 / 36002</p>\n",
       "        <progress value='36002' max='36002', style='width: 100%'>36002</progress>\n",
       "    "
      ],
      "text/plain": [
       "<IPython.core.display.HTML object>"
      ]
     },
     "metadata": {},
     "output_type": "display_data"
    },
    {
     "name": "stdout",
     "output_type": "stream",
     "text": [
      "Epoch:  9\n",
      "Training loss: 0.5083\n"
     ]
    },
    {
     "data": {
      "text/html": [
       "\n",
       "        <p>Loss: 0.4994   36002 / 36002</p>\n",
       "        <progress value='36002' max='36002', style='width: 100%'>36002</progress>\n",
       "    "
      ],
      "text/plain": [
       "<IPython.core.display.HTML object>"
      ]
     },
     "metadata": {},
     "output_type": "display_data"
    },
    {
     "name": "stdout",
     "output_type": "stream",
     "text": [
      "Training Loss:  0.4994\n",
      "Training accuracy: 76.1374%\n"
     ]
    },
    {
     "data": {
      "text/html": [
       "\n",
       "        <p>Loss: 0.4981   12000 / 12000</p>\n",
       "        <progress value='12000' max='12000', style='width: 100%'>12000</progress>\n",
       "    "
      ],
      "text/plain": [
       "<IPython.core.display.HTML object>"
      ]
     },
     "metadata": {},
     "output_type": "display_data"
    },
    {
     "name": "stdout",
     "output_type": "stream",
     "text": [
      "Validation Loss:  0.4981\n",
      "Validation accuracy: 76.4000%\n",
      "\"Best Loss\": 0.49814681423471335\n",
      "\n",
      "Validation Loss has gone up 0 times.\n",
      "\n"
     ]
    },
    {
     "data": {
      "text/html": [
       "\n",
       "        <p>Loss: 0.5038   36002 / 36002</p>\n",
       "        <progress value='36002' max='36002', style='width: 100%'>36002</progress>\n",
       "    "
      ],
      "text/plain": [
       "<IPython.core.display.HTML object>"
      ]
     },
     "metadata": {},
     "output_type": "display_data"
    },
    {
     "name": "stdout",
     "output_type": "stream",
     "text": [
      "Epoch:  10\n",
      "Training loss: 0.5038\n"
     ]
    },
    {
     "data": {
      "text/html": [
       "\n",
       "        <p>Loss: 0.5145   36002 / 36002</p>\n",
       "        <progress value='36002' max='36002', style='width: 100%'>36002</progress>\n",
       "    "
      ],
      "text/plain": [
       "<IPython.core.display.HTML object>"
      ]
     },
     "metadata": {},
     "output_type": "display_data"
    },
    {
     "name": "stdout",
     "output_type": "stream",
     "text": [
      "Training Loss:  0.5145\n",
      "Training accuracy: 75.4097%\n"
     ]
    },
    {
     "data": {
      "text/html": [
       "\n",
       "        <p>Loss: 0.5092   12000 / 12000</p>\n",
       "        <progress value='12000' max='12000', style='width: 100%'>12000</progress>\n",
       "    "
      ],
      "text/plain": [
       "<IPython.core.display.HTML object>"
      ]
     },
     "metadata": {},
     "output_type": "display_data"
    },
    {
     "name": "stdout",
     "output_type": "stream",
     "text": [
      "Validation Loss:  0.5092\n",
      "Validation accuracy: 76.1583%\n",
      "Validation Loss has gone up 1 times.\n",
      "\n"
     ]
    },
    {
     "data": {
      "text/html": [
       "\n",
       "        <p>Loss: 0.5056   36002 / 36002</p>\n",
       "        <progress value='36002' max='36002', style='width: 100%'>36002</progress>\n",
       "    "
      ],
      "text/plain": [
       "<IPython.core.display.HTML object>"
      ]
     },
     "metadata": {},
     "output_type": "display_data"
    },
    {
     "name": "stdout",
     "output_type": "stream",
     "text": [
      "Epoch:  11\n",
      "Training loss: 0.5056\n"
     ]
    },
    {
     "data": {
      "text/html": [
       "\n",
       "        <p>Loss: 0.5025   36002 / 36002</p>\n",
       "        <progress value='36002' max='36002', style='width: 100%'>36002</progress>\n",
       "    "
      ],
      "text/plain": [
       "<IPython.core.display.HTML object>"
      ]
     },
     "metadata": {},
     "output_type": "display_data"
    },
    {
     "name": "stdout",
     "output_type": "stream",
     "text": [
      "Training Loss:  0.5025\n",
      "Training accuracy: 75.2986%\n"
     ]
    },
    {
     "data": {
      "text/html": [
       "\n",
       "        <p>Loss: 0.4981   12000 / 12000</p>\n",
       "        <progress value='12000' max='12000', style='width: 100%'>12000</progress>\n",
       "    "
      ],
      "text/plain": [
       "<IPython.core.display.HTML object>"
      ]
     },
     "metadata": {},
     "output_type": "display_data"
    },
    {
     "name": "stdout",
     "output_type": "stream",
     "text": [
      "Validation Loss:  0.4981\n",
      "Validation accuracy: 75.9333%\n",
      "\"Best Loss\": 0.4981161118187803\n",
      "\n",
      "Validation Loss has gone up 0 times.\n",
      "\n"
     ]
    },
    {
     "data": {
      "text/html": [
       "\n",
       "        <p>Loss: 0.5040   36002 / 36002</p>\n",
       "        <progress value='36002' max='36002', style='width: 100%'>36002</progress>\n",
       "    "
      ],
      "text/plain": [
       "<IPython.core.display.HTML object>"
      ]
     },
     "metadata": {},
     "output_type": "display_data"
    },
    {
     "name": "stdout",
     "output_type": "stream",
     "text": [
      "Epoch:  12\n",
      "Training loss: 0.504\n"
     ]
    },
    {
     "data": {
      "text/html": [
       "\n",
       "        <p>Loss: 0.5036   36002 / 36002</p>\n",
       "        <progress value='36002' max='36002', style='width: 100%'>36002</progress>\n",
       "    "
      ],
      "text/plain": [
       "<IPython.core.display.HTML object>"
      ]
     },
     "metadata": {},
     "output_type": "display_data"
    },
    {
     "name": "stdout",
     "output_type": "stream",
     "text": [
      "Training Loss:  0.5036\n",
      "Training accuracy: 75.4486%\n"
     ]
    },
    {
     "data": {
      "text/html": [
       "\n",
       "        <p>Loss: 0.5001   12000 / 12000</p>\n",
       "        <progress value='12000' max='12000', style='width: 100%'>12000</progress>\n",
       "    "
      ],
      "text/plain": [
       "<IPython.core.display.HTML object>"
      ]
     },
     "metadata": {},
     "output_type": "display_data"
    },
    {
     "name": "stdout",
     "output_type": "stream",
     "text": [
      "Validation Loss:  0.5001\n",
      "Validation accuracy: 75.5833%\n",
      "Validation Loss has gone up 1 times.\n",
      "\n"
     ]
    },
    {
     "data": {
      "text/html": [
       "\n",
       "        <p>Loss: 0.5014   36002 / 36002</p>\n",
       "        <progress value='36002' max='36002', style='width: 100%'>36002</progress>\n",
       "    "
      ],
      "text/plain": [
       "<IPython.core.display.HTML object>"
      ]
     },
     "metadata": {},
     "output_type": "display_data"
    },
    {
     "name": "stdout",
     "output_type": "stream",
     "text": [
      "Epoch:  13\n",
      "Training loss: 0.5014\n"
     ]
    },
    {
     "data": {
      "text/html": [
       "\n",
       "        <p>Loss: 0.4947   36002 / 36002</p>\n",
       "        <progress value='36002' max='36002', style='width: 100%'>36002</progress>\n",
       "    "
      ],
      "text/plain": [
       "<IPython.core.display.HTML object>"
      ]
     },
     "metadata": {},
     "output_type": "display_data"
    },
    {
     "name": "stdout",
     "output_type": "stream",
     "text": [
      "Training Loss:  0.4947\n",
      "Training accuracy: 76.2291%\n"
     ]
    },
    {
     "data": {
      "text/html": [
       "\n",
       "        <p>Loss: 0.4918   12000 / 12000</p>\n",
       "        <progress value='12000' max='12000', style='width: 100%'>12000</progress>\n",
       "    "
      ],
      "text/plain": [
       "<IPython.core.display.HTML object>"
      ]
     },
     "metadata": {},
     "output_type": "display_data"
    },
    {
     "name": "stdout",
     "output_type": "stream",
     "text": [
      "Validation Loss:  0.4918\n",
      "Validation accuracy: 76.9917%\n",
      "\"Best Loss\": 0.4918105250343363\n",
      "\n",
      "Validation Loss has gone up 0 times.\n",
      "\n"
     ]
    },
    {
     "data": {
      "text/html": [
       "\n",
       "        <p>Loss: 0.5017   36002 / 36002</p>\n",
       "        <progress value='36002' max='36002', style='width: 100%'>36002</progress>\n",
       "    "
      ],
      "text/plain": [
       "<IPython.core.display.HTML object>"
      ]
     },
     "metadata": {},
     "output_type": "display_data"
    },
    {
     "name": "stdout",
     "output_type": "stream",
     "text": [
      "Epoch:  14\n",
      "Training loss: 0.5017\n"
     ]
    },
    {
     "data": {
      "text/html": [
       "\n",
       "        <p>Loss: 0.4954   36002 / 36002</p>\n",
       "        <progress value='36002' max='36002', style='width: 100%'>36002</progress>\n",
       "    "
      ],
      "text/plain": [
       "<IPython.core.display.HTML object>"
      ]
     },
     "metadata": {},
     "output_type": "display_data"
    },
    {
     "name": "stdout",
     "output_type": "stream",
     "text": [
      "Training Loss:  0.4954\n",
      "Training accuracy: 76.5152%\n"
     ]
    },
    {
     "data": {
      "text/html": [
       "\n",
       "        <p>Loss: 0.4924   12000 / 12000</p>\n",
       "        <progress value='12000' max='12000', style='width: 100%'>12000</progress>\n",
       "    "
      ],
      "text/plain": [
       "<IPython.core.display.HTML object>"
      ]
     },
     "metadata": {},
     "output_type": "display_data"
    },
    {
     "name": "stdout",
     "output_type": "stream",
     "text": [
      "Validation Loss:  0.4924\n",
      "Validation accuracy: 77.0667%\n",
      "Validation Loss has gone up 1 times.\n",
      "\n"
     ]
    },
    {
     "data": {
      "text/html": [
       "\n",
       "        <p>Loss: 0.4981   36002 / 36002</p>\n",
       "        <progress value='36002' max='36002', style='width: 100%'>36002</progress>\n",
       "    "
      ],
      "text/plain": [
       "<IPython.core.display.HTML object>"
      ]
     },
     "metadata": {},
     "output_type": "display_data"
    },
    {
     "name": "stdout",
     "output_type": "stream",
     "text": [
      "Epoch:  15\n",
      "Training loss: 0.4981\n"
     ]
    },
    {
     "data": {
      "text/html": [
       "\n",
       "        <p>Loss: 0.5084   36002 / 36002</p>\n",
       "        <progress value='36002' max='36002', style='width: 100%'>36002</progress>\n",
       "    "
      ],
      "text/plain": [
       "<IPython.core.display.HTML object>"
      ]
     },
     "metadata": {},
     "output_type": "display_data"
    },
    {
     "name": "stdout",
     "output_type": "stream",
     "text": [
      "Training Loss:  0.5084\n",
      "Training accuracy: 75.1180%\n"
     ]
    },
    {
     "data": {
      "text/html": [
       "\n",
       "        <p>Loss: 0.5070   12000 / 12000</p>\n",
       "        <progress value='12000' max='12000', style='width: 100%'>12000</progress>\n",
       "    "
      ],
      "text/plain": [
       "<IPython.core.display.HTML object>"
      ]
     },
     "metadata": {},
     "output_type": "display_data"
    },
    {
     "name": "stdout",
     "output_type": "stream",
     "text": [
      "Validation Loss:  0.507\n",
      "Validation accuracy: 75.0667%\n",
      "Validation Loss has gone up 2 times.\n",
      "\n"
     ]
    },
    {
     "data": {
      "image/png": "[encoded data removed]",
      "text/plain": [
       "<Figure size 432x288 with 1 Axes>"
      ]
     },
     "metadata": {
      "needs_background": "light"
     },
     "output_type": "display_data"
    },
    {
     "data": {
      "text/html": [
       "\n",
       "        <p>Loss: 0.5085   12000 / 12000</p>\n",
       "        <progress value='12000' max='12000', style='width: 100%'>12000</progress>\n",
       "    "
      ],
      "text/plain": [
       "<IPython.core.display.HTML object>"
      ]
     },
     "metadata": {},
     "output_type": "display_data"
    },
    {
     "name": "stdout",
     "output_type": "stream",
     "text": [
      "Validation Loss:  0.5085\n",
      "Validation accuracy: 74.4833%\n"
     ]
    },
    {
     "data": {
      "text/plain": [
       "0.5085330272608617"
      ]
     },
     "execution_count": 15,
     "metadata": {},
     "output_type": "execute_result"
    }
   ],
   "source": [
    "'''\n",
    "high pass\n",
    "'''\n",
    "\n",
    "s_epoch      = 1\n",
    "num_epochs   = 300\n",
    "lr_rate      = 1e-2\n",
    "load_model   = False\n",
    "model_name   = 'LogisticRegressionModel'\n",
    "path         = './results/'\n",
    "\n",
    "lr_model = LinearRegression(nn).to(device)\n",
    "criterion = torch.nn.BCEWithLogitsLoss()\n",
    "optimizer = torch.optim.SGD(lr_model.parameters(), lr=lr_rate, weight_decay=1e-3, momentum=0.9)\n",
    "\n",
    "if load_model:\n",
    "    lr_model.load_state_dict(torch.load(''))\n",
    "    \n",
    "choice = ['low_pass', 'band_pass', 'high_pass']\n",
    "\n",
    "train_losses, valid_losses = train(lr_model, \n",
    "                                   optimizer, \n",
    "                                   criterion, \n",
    "                                   trn_dl, \n",
    "                                   val_dl,\n",
    "                                   model_name,\n",
    "                                   path,\n",
    "                                   predicter=torch.nn.Sigmoid(),\n",
    "                                   choice = 'high_pass')\n",
    "\n",
    "epochs = range(1, len(train_losses) + 1)\n",
    "epoch_ticks = [i if i % 5 == 0 else 0 for i in epochs]\n",
    "    \n",
    "# plt.figure(figsize=(10,6))\n",
    "plt.plot(epochs, train_losses, label='Training loss')\n",
    "plt.plot(epochs, valid_losses, label='Validation loss')\n",
    "plt.legend()\n",
    "plt.title('Learning curves')\n",
    "plt.xlabel('Epoch')\n",
    "plt.ylabel('Loss')\n",
    "plt.xticks(epoch_ticks)\n",
    "plt.show()\n",
    "\n",
    "test_losses = []\n",
    "evaluate(lr_model,\n",
    "         optimizer,\n",
    "         criterion,\n",
    "         0,\n",
    "         tst_dl,\n",
    "         test_losses,\n",
    "         \"\",\n",
    "         \"\",\n",
    "         acc_thresh=0.5,\n",
    "         predicter=torch.nn.Sigmoid(),\n",
    "         validation=False,\n",
    "        choice = 'high_pass')"
   ]
  },
  {
   "cell_type": "code",
   "execution_count": null,
   "metadata": {},
   "outputs": [],
   "source": []
  },
  {
   "cell_type": "code",
   "execution_count": null,
   "metadata": {},
   "outputs": [],
   "source": []
  },
  {
   "cell_type": "code",
   "execution_count": null,
   "metadata": {},
   "outputs": [],
   "source": []
  },
  {
   "cell_type": "code",
   "execution_count": null,
   "metadata": {},
   "outputs": [],
   "source": []
  },
  {
   "cell_type": "code",
   "execution_count": 5,
   "metadata": {
    "colab": {},
    "colab_type": "code",
    "id": "eJtJVTthqp1u"
   },
   "outputs": [],
   "source": [
    "trn_dl, val_dl, tst_dl = get_dataloaders(dataset=DeepFakeHDF5Dataset_SVM())"
   ]
  },
  {
   "cell_type": "code",
   "execution_count": 26,
   "metadata": {
    "colab": {},
    "colab_type": "code",
    "id": "LnWcq8jHzLaP"
   },
   "outputs": [],
   "source": [
    "s_epoch      = 1\n",
    "num_epochs   = 300\n",
    "lr_rate      = 1e-2\n",
    "load_model   = False\n",
    "model_name   = 'SVMModel'\n",
    "path         = './results'\n",
    "\n",
    "svm_model = SVM(182).to(device)\n",
    "criterion = torch.nn.SoftMarginLoss()\n",
    "optimizer = torch.optim.SGD(svm_model.parameters(), lr=lr_rate, weight_decay=1e-3, momentum=0.9)\n",
    "\n",
    "if load_model:\n",
    "    svm_model.load_state_dict(torch.load(''))"
   ]
  },
  {
   "cell_type": "code",
   "execution_count": 28,
   "metadata": {
    "colab": {
     "base_uri": "https://localhost:8080/",
     "height": 1000
    },
    "colab_type": "code",
    "id": "YJRYtTfYz0rr",
    "outputId": "8c73f14c-ae51-4e47-e042-a27bf37dd6b2"
   },
   "outputs": [
    {
     "data": {
      "text/html": [
       "\n",
       "        <p>Loss: 0.5059   36002 / 36002</p>\n",
       "        <progress value='36002' max='36002', style='width: 100%'>36002</progress>\n",
       "    "
      ],
      "text/plain": [
       "<IPython.core.display.HTML object>"
      ]
     },
     "metadata": {},
     "output_type": "display_data"
    },
    {
     "name": "stdout",
     "output_type": "stream",
     "text": [
      "Epoch:  1\n",
      "Training loss: 0.5059\n"
     ]
    },
    {
     "data": {
      "text/html": [
       "\n",
       "        <p>Loss: 0.4889   36002 / 36002</p>\n",
       "        <progress value='36002' max='36002', style='width: 100%'>36002</progress>\n",
       "    "
      ],
      "text/plain": [
       "<IPython.core.display.HTML object>"
      ]
     },
     "metadata": {},
     "output_type": "display_data"
    },
    {
     "name": "stdout",
     "output_type": "stream",
     "text": [
      "Training Loss:  0.4889\n",
      "Training accuracy: 76.3041%\n"
     ]
    },
    {
     "data": {
      "text/html": [
       "\n",
       "        <p>Loss: 0.4942   12000 / 12000</p>\n",
       "        <progress value='12000' max='12000', style='width: 100%'>12000</progress>\n",
       "    "
      ],
      "text/plain": [
       "<IPython.core.display.HTML object>"
      ]
     },
     "metadata": {},
     "output_type": "display_data"
    },
    {
     "name": "stdout",
     "output_type": "stream",
     "text": [
      "Validation Loss:  0.4942\n",
      "Validation accuracy: 75.8250%\n",
      "\"Best Loss\": 0.49421626234308186\n",
      "\n",
      "Validation Loss has gone up 0 times.\n",
      "\n"
     ]
    },
    {
     "data": {
      "text/html": [
       "\n",
       "        <p>Loss: 0.4944   36002 / 36002</p>\n",
       "        <progress value='36002' max='36002', style='width: 100%'>36002</progress>\n",
       "    "
      ],
      "text/plain": [
       "<IPython.core.display.HTML object>"
      ]
     },
     "metadata": {},
     "output_type": "display_data"
    },
    {
     "name": "stdout",
     "output_type": "stream",
     "text": [
      "Epoch:  2\n",
      "Training loss: 0.4944\n"
     ]
    },
    {
     "data": {
      "text/html": [
       "\n",
       "        <p>Loss: 0.4807   36002 / 36002</p>\n",
       "        <progress value='36002' max='36002', style='width: 100%'>36002</progress>\n",
       "    "
      ],
      "text/plain": [
       "<IPython.core.display.HTML object>"
      ]
     },
     "metadata": {},
     "output_type": "display_data"
    },
    {
     "name": "stdout",
     "output_type": "stream",
     "text": [
      "Training Loss:  0.4807\n",
      "Training accuracy: 76.9430%\n"
     ]
    },
    {
     "data": {
      "text/html": [
       "\n",
       "        <p>Loss: 0.4835   12000 / 12000</p>\n",
       "        <progress value='12000' max='12000', style='width: 100%'>12000</progress>\n",
       "    "
      ],
      "text/plain": [
       "<IPython.core.display.HTML object>"
      ]
     },
     "metadata": {},
     "output_type": "display_data"
    },
    {
     "name": "stdout",
     "output_type": "stream",
     "text": [
      "Validation Loss:  0.4835\n",
      "Validation accuracy: 76.6000%\n",
      "\"Best Loss\": 0.48345110422753274\n",
      "\n",
      "Validation Loss has gone up 0 times.\n",
      "\n"
     ]
    },
    {
     "data": {
      "text/html": [
       "\n",
       "        <p>Loss: 0.4876   36002 / 36002</p>\n",
       "        <progress value='36002' max='36002', style='width: 100%'>36002</progress>\n",
       "    "
      ],
      "text/plain": [
       "<IPython.core.display.HTML object>"
      ]
     },
     "metadata": {},
     "output_type": "display_data"
    },
    {
     "name": "stdout",
     "output_type": "stream",
     "text": [
      "Epoch:  3\n",
      "Training loss: 0.4876\n"
     ]
    },
    {
     "data": {
      "text/html": [
       "\n",
       "        <p>Loss: 0.4752   36002 / 36002</p>\n",
       "        <progress value='36002' max='36002', style='width: 100%'>36002</progress>\n",
       "    "
      ],
      "text/plain": [
       "<IPython.core.display.HTML object>"
      ]
     },
     "metadata": {},
     "output_type": "display_data"
    },
    {
     "name": "stdout",
     "output_type": "stream",
     "text": [
      "Training Loss:  0.4752\n",
      "Training accuracy: 77.3457%\n"
     ]
    },
    {
     "data": {
      "text/html": [
       "\n",
       "        <p>Loss: 0.4781   12000 / 12000</p>\n",
       "        <progress value='12000' max='12000', style='width: 100%'>12000</progress>\n",
       "    "
      ],
      "text/plain": [
       "<IPython.core.display.HTML object>"
      ]
     },
     "metadata": {},
     "output_type": "display_data"
    },
    {
     "name": "stdout",
     "output_type": "stream",
     "text": [
      "Validation Loss:  0.4781\n",
      "Validation accuracy: 76.9083%\n",
      "\"Best Loss\": 0.47805628212208445\n",
      "\n",
      "Validation Loss has gone up 0 times.\n",
      "\n"
     ]
    },
    {
     "data": {
      "text/html": [
       "\n",
       "        <p>Loss: 0.4861   36002 / 36002</p>\n",
       "        <progress value='36002' max='36002', style='width: 100%'>36002</progress>\n",
       "    "
      ],
      "text/plain": [
       "<IPython.core.display.HTML object>"
      ]
     },
     "metadata": {},
     "output_type": "display_data"
    },
    {
     "name": "stdout",
     "output_type": "stream",
     "text": [
      "Epoch:  4\n",
      "Training loss: 0.4861\n"
     ]
    },
    {
     "data": {
      "text/html": [
       "\n",
       "        <p>Loss: 0.4806   36002 / 36002</p>\n",
       "        <progress value='36002' max='36002', style='width: 100%'>36002</progress>\n",
       "    "
      ],
      "text/plain": [
       "<IPython.core.display.HTML object>"
      ]
     },
     "metadata": {},
     "output_type": "display_data"
    },
    {
     "name": "stdout",
     "output_type": "stream",
     "text": [
      "Training Loss:  0.4806\n",
      "Training accuracy: 76.5485%\n"
     ]
    },
    {
     "data": {
      "text/html": [
       "\n",
       "        <p>Loss: 0.4847   12000 / 12000</p>\n",
       "        <progress value='12000' max='12000', style='width: 100%'>12000</progress>\n",
       "    "
      ],
      "text/plain": [
       "<IPython.core.display.HTML object>"
      ]
     },
     "metadata": {},
     "output_type": "display_data"
    },
    {
     "name": "stdout",
     "output_type": "stream",
     "text": [
      "Validation Loss:  0.4847\n",
      "Validation accuracy: 76.2083%\n",
      "Validation Loss has gone up 1 times.\n",
      "\n"
     ]
    },
    {
     "data": {
      "text/html": [
       "\n",
       "        <p>Loss: 0.4840   36002 / 36002</p>\n",
       "        <progress value='36002' max='36002', style='width: 100%'>36002</progress>\n",
       "    "
      ],
      "text/plain": [
       "<IPython.core.display.HTML object>"
      ]
     },
     "metadata": {},
     "output_type": "display_data"
    },
    {
     "name": "stdout",
     "output_type": "stream",
     "text": [
      "Epoch:  5\n",
      "Training loss: 0.484\n"
     ]
    },
    {
     "data": {
      "text/html": [
       "\n",
       "        <p>Loss: 0.5259   36002 / 36002</p>\n",
       "        <progress value='36002' max='36002', style='width: 100%'>36002</progress>\n",
       "    "
      ],
      "text/plain": [
       "<IPython.core.display.HTML object>"
      ]
     },
     "metadata": {},
     "output_type": "display_data"
    },
    {
     "name": "stdout",
     "output_type": "stream",
     "text": [
      "Training Loss:  0.5259\n",
      "Training accuracy: 72.6737%\n"
     ]
    },
    {
     "data": {
      "text/html": [
       "\n",
       "        <p>Loss: 0.5351   12000 / 12000</p>\n",
       "        <progress value='12000' max='12000', style='width: 100%'>12000</progress>\n",
       "    "
      ],
      "text/plain": [
       "<IPython.core.display.HTML object>"
      ]
     },
     "metadata": {},
     "output_type": "display_data"
    },
    {
     "name": "stdout",
     "output_type": "stream",
     "text": [
      "Validation Loss:  0.5351\n",
      "Validation accuracy: 72.2750%\n",
      "Validation Loss has gone up 2 times.\n",
      "\n"
     ]
    }
   ],
   "source": [
    "def svm_lbls(T):\n",
    "    T[torch.nonzero((T < 0.0))] = 0\n",
    "    return T\n",
    "\n",
    "train_losses, valid_losses = train(svm_model, \n",
    "                                   optimizer, \n",
    "                                   criterion, \n",
    "                                   trn_dl, \n",
    "                                   val_dl,\n",
    "                                   model_name,\n",
    "                                   path,\n",
    "                                   acc_thresh=0.0,\n",
    "                                   label_transform=svm_lbls,\n",
    "                                   predicter=nn.Tanh())"
   ]
  },
  {
   "cell_type": "code",
   "execution_count": 29,
   "metadata": {
    "colab": {
     "base_uri": "https://localhost:8080/",
     "height": 116
    },
    "colab_type": "code",
    "id": "3AEusYoYvD3m",
    "outputId": "8eb44b44-7a3f-48e4-bfcf-7c40927acb27"
   },
   "outputs": [
    {
     "data": {
      "text/html": [
       "\n",
       "        <p>Loss: 0.5209   12000 / 12000</p>\n",
       "        <progress value='12000' max='12000', style='width: 100%'>12000</progress>\n",
       "    "
      ],
      "text/plain": [
       "<IPython.core.display.HTML object>"
      ]
     },
     "metadata": {},
     "output_type": "display_data"
    },
    {
     "name": "stdout",
     "output_type": "stream",
     "text": [
      "Validation Loss:  0.5209\n",
      "Validation accuracy: 73.2000%\n"
     ]
    },
    {
     "data": {
      "text/plain": [
       "0.5209310406700096"
      ]
     },
     "execution_count": 29,
     "metadata": {},
     "output_type": "execute_result"
    }
   ],
   "source": [
    "test_losses = []\n",
    "evaluate(svm_model,\n",
    "         optimizer,\n",
    "         criterion,\n",
    "         0,\n",
    "         tst_dl,\n",
    "         test_losses,\n",
    "         \"\",\n",
    "         \"\",\n",
    "         acc_thresh=0.0,\n",
    "         label_transform=svm_lbls,\n",
    "         predicter=nn.Tanh(),\n",
    "         validation=False)"
   ]
  },
  {
   "cell_type": "code",
   "execution_count": 30,
   "metadata": {
    "colab": {
     "base_uri": "https://localhost:8080/",
     "height": 404
    },
    "colab_type": "code",
    "id": "UJsUtBUwrmeW",
    "outputId": "841ceaeb-b667-438b-eb31-3ecb9761e520"
   },
   "outputs": [
    {
     "data": {
      "image/png": "[encoded data removed]",
      "text/plain": [
       "<Figure size 720x432 with 1 Axes>"
      ]
     },
     "metadata": {
      "needs_background": "light"
     },
     "output_type": "display_data"
    }
   ],
   "source": [
    "epochs = range(1, len(train_losses) + 1)\n",
    "epoch_ticks = [i if i % 5 == 0 else 0 for i in epochs]\n",
    "    \n",
    "plt.figure(figsize=(10,6))\n",
    "plt.plot(epochs, train_losses, label='Training loss')\n",
    "plt.plot(epochs, valid_losses, label='Validation loss')\n",
    "plt.legend()\n",
    "plt.title('Learning curves')\n",
    "plt.xlabel('Epoch')\n",
    "plt.ylabel('Loss')\n",
    "plt.xticks(epoch_ticks)\n",
    "plt.show()"
   ]
  },
  {
   "cell_type": "code",
   "execution_count": 7,
   "metadata": {
    "scrolled": true
   },
   "outputs": [
    {
     "data": {
      "text/html": [
       "\n",
       "        <p>Loss: 0.6252   36002 / 36002</p>\n",
       "        <progress value='36002' max='36002', style='width: 100%'>36002</progress>\n",
       "    "
      ],
      "text/plain": [
       "<IPython.core.display.HTML object>"
      ]
     },
     "metadata": {},
     "output_type": "display_data"
    },
    {
     "name": "stdout",
     "output_type": "stream",
     "text": [
      "Epoch:  1\n",
      "Training loss: 0.6252\n"
     ]
    },
    {
     "data": {
      "text/html": [
       "\n",
       "        <p>Loss: 0.6212   36002 / 36002</p>\n",
       "        <progress value='36002' max='36002', style='width: 100%'>36002</progress>\n",
       "    "
      ],
      "text/plain": [
       "<IPython.core.display.HTML object>"
      ]
     },
     "metadata": {},
     "output_type": "display_data"
    },
    {
     "name": "stdout",
     "output_type": "stream",
     "text": [
      "Training Loss:  0.6212\n",
      "Training accuracy: 64.5547%\n"
     ]
    },
    {
     "data": {
      "text/html": [
       "\n",
       "        <p>Loss: 0.6174   12000 / 12000</p>\n",
       "        <progress value='12000' max='12000', style='width: 100%'>12000</progress>\n",
       "    "
      ],
      "text/plain": [
       "<IPython.core.display.HTML object>"
      ]
     },
     "metadata": {},
     "output_type": "display_data"
    },
    {
     "name": "stdout",
     "output_type": "stream",
     "text": [
      "Validation Loss:  0.6174\n",
      "Validation accuracy: 64.6000%\n",
      "\"Best Loss\": 0.6174027507609515\n",
      "\n",
      "Validation Loss has gone up 0 times.\n",
      "\n"
     ]
    },
    {
     "data": {
      "text/html": [
       "\n",
       "        <p>Loss: 0.6090   36002 / 36002</p>\n",
       "        <progress value='36002' max='36002', style='width: 100%'>36002</progress>\n",
       "    "
      ],
      "text/plain": [
       "<IPython.core.display.HTML object>"
      ]
     },
     "metadata": {},
     "output_type": "display_data"
    },
    {
     "name": "stdout",
     "output_type": "stream",
     "text": [
      "Epoch:  2\n",
      "Training loss: 0.609\n"
     ]
    },
    {
     "data": {
      "text/html": [
       "\n",
       "        <p>Loss: 0.6058   36002 / 36002</p>\n",
       "        <progress value='36002' max='36002', style='width: 100%'>36002</progress>\n",
       "    "
      ],
      "text/plain": [
       "<IPython.core.display.HTML object>"
      ]
     },
     "metadata": {},
     "output_type": "display_data"
    },
    {
     "name": "stdout",
     "output_type": "stream",
     "text": [
      "Training Loss:  0.6058\n",
      "Training accuracy: 68.5129%\n"
     ]
    },
    {
     "data": {
      "text/html": [
       "\n",
       "        <p>Loss: 0.5985   12000 / 12000</p>\n",
       "        <progress value='12000' max='12000', style='width: 100%'>12000</progress>\n",
       "    "
      ],
      "text/plain": [
       "<IPython.core.display.HTML object>"
      ]
     },
     "metadata": {},
     "output_type": "display_data"
    },
    {
     "name": "stdout",
     "output_type": "stream",
     "text": [
      "Validation Loss:  0.5985\n",
      "Validation accuracy: 69.3583%\n",
      "\"Best Loss\": 0.5984594840952692\n",
      "\n",
      "Validation Loss has gone up 0 times.\n",
      "\n"
     ]
    },
    {
     "data": {
      "text/html": [
       "\n",
       "        <p>Loss: 0.6069   36002 / 36002</p>\n",
       "        <progress value='36002' max='36002', style='width: 100%'>36002</progress>\n",
       "    "
      ],
      "text/plain": [
       "<IPython.core.display.HTML object>"
      ]
     },
     "metadata": {},
     "output_type": "display_data"
    },
    {
     "name": "stdout",
     "output_type": "stream",
     "text": [
      "Epoch:  3\n",
      "Training loss: 0.6069\n"
     ]
    },
    {
     "data": {
      "text/html": [
       "\n",
       "        <p>Loss: 0.6073   36002 / 36002</p>\n",
       "        <progress value='36002' max='36002', style='width: 100%'>36002</progress>\n",
       "    "
      ],
      "text/plain": [
       "<IPython.core.display.HTML object>"
      ]
     },
     "metadata": {},
     "output_type": "display_data"
    },
    {
     "name": "stdout",
     "output_type": "stream",
     "text": [
      "Training Loss:  0.6073\n",
      "Training accuracy: 68.5934%\n"
     ]
    },
    {
     "data": {
      "text/html": [
       "\n",
       "        <p>Loss: 0.5992   12000 / 12000</p>\n",
       "        <progress value='12000' max='12000', style='width: 100%'>12000</progress>\n",
       "    "
      ],
      "text/plain": [
       "<IPython.core.display.HTML object>"
      ]
     },
     "metadata": {},
     "output_type": "display_data"
    },
    {
     "name": "stdout",
     "output_type": "stream",
     "text": [
      "Validation Loss:  0.5992\n",
      "Validation accuracy: 69.5417%\n",
      "Validation Loss has gone up 1 times.\n",
      "\n"
     ]
    },
    {
     "data": {
      "text/html": [
       "\n",
       "        <p>Loss: 0.6088   36002 / 36002</p>\n",
       "        <progress value='36002' max='36002', style='width: 100%'>36002</progress>\n",
       "    "
      ],
      "text/plain": [
       "<IPython.core.display.HTML object>"
      ]
     },
     "metadata": {},
     "output_type": "display_data"
    },
    {
     "name": "stdout",
     "output_type": "stream",
     "text": [
      "Epoch:  4\n",
      "Training loss: 0.6088\n"
     ]
    },
    {
     "data": {
      "text/html": [
       "\n",
       "        <p>Loss: 0.6035   36002 / 36002</p>\n",
       "        <progress value='36002' max='36002', style='width: 100%'>36002</progress>\n",
       "    "
      ],
      "text/plain": [
       "<IPython.core.display.HTML object>"
      ]
     },
     "metadata": {},
     "output_type": "display_data"
    },
    {
     "name": "stdout",
     "output_type": "stream",
     "text": [
      "Training Loss:  0.6035\n",
      "Training accuracy: 68.0934%\n"
     ]
    },
    {
     "data": {
      "text/html": [
       "\n",
       "        <p>Loss: 0.5961   12000 / 12000</p>\n",
       "        <progress value='12000' max='12000', style='width: 100%'>12000</progress>\n",
       "    "
      ],
      "text/plain": [
       "<IPython.core.display.HTML object>"
      ]
     },
     "metadata": {},
     "output_type": "display_data"
    },
    {
     "name": "stdout",
     "output_type": "stream",
     "text": [
      "Validation Loss:  0.5961\n",
      "Validation accuracy: 68.6167%\n",
      "\"Best Loss\": 0.5961128688873129\n",
      "\n",
      "Validation Loss has gone up 0 times.\n",
      "\n"
     ]
    },
    {
     "data": {
      "text/html": [
       "\n",
       "        <p>Loss: 0.6078   36002 / 36002</p>\n",
       "        <progress value='36002' max='36002', style='width: 100%'>36002</progress>\n",
       "    "
      ],
      "text/plain": [
       "<IPython.core.display.HTML object>"
      ]
     },
     "metadata": {},
     "output_type": "display_data"
    },
    {
     "name": "stdout",
     "output_type": "stream",
     "text": [
      "Epoch:  5\n",
      "Training loss: 0.6078\n"
     ]
    },
    {
     "data": {
      "text/html": [
       "\n",
       "        <p>Loss: 0.6073   36002 / 36002</p>\n",
       "        <progress value='36002' max='36002', style='width: 100%'>36002</progress>\n",
       "    "
      ],
      "text/plain": [
       "<IPython.core.display.HTML object>"
      ]
     },
     "metadata": {},
     "output_type": "display_data"
    },
    {
     "name": "stdout",
     "output_type": "stream",
     "text": [
      "Training Loss:  0.6073\n",
      "Training accuracy: 66.8796%\n"
     ]
    },
    {
     "data": {
      "text/html": [
       "\n",
       "        <p>Loss: 0.6008   12000 / 12000</p>\n",
       "        <progress value='12000' max='12000', style='width: 100%'>12000</progress>\n",
       "    "
      ],
      "text/plain": [
       "<IPython.core.display.HTML object>"
      ]
     },
     "metadata": {},
     "output_type": "display_data"
    },
    {
     "name": "stdout",
     "output_type": "stream",
     "text": [
      "Validation Loss:  0.6008\n",
      "Validation accuracy: 67.4917%\n",
      "Validation Loss has gone up 1 times.\n",
      "\n"
     ]
    },
    {
     "data": {
      "text/html": [
       "\n",
       "        <p>Loss: 0.6071   36002 / 36002</p>\n",
       "        <progress value='36002' max='36002', style='width: 100%'>36002</progress>\n",
       "    "
      ],
      "text/plain": [
       "<IPython.core.display.HTML object>"
      ]
     },
     "metadata": {},
     "output_type": "display_data"
    },
    {
     "name": "stdout",
     "output_type": "stream",
     "text": [
      "Epoch:  6\n",
      "Training loss: 0.6071\n"
     ]
    },
    {
     "data": {
      "text/html": [
       "\n",
       "        <p>Loss: 0.6086   36002 / 36002</p>\n",
       "        <progress value='36002' max='36002', style='width: 100%'>36002</progress>\n",
       "    "
      ],
      "text/plain": [
       "<IPython.core.display.HTML object>"
      ]
     },
     "metadata": {},
     "output_type": "display_data"
    },
    {
     "name": "stdout",
     "output_type": "stream",
     "text": [
      "Training Loss:  0.6086\n",
      "Training accuracy: 68.6045%\n"
     ]
    },
    {
     "data": {
      "text/html": [
       "\n",
       "        <p>Loss: 0.6003   12000 / 12000</p>\n",
       "        <progress value='12000' max='12000', style='width: 100%'>12000</progress>\n",
       "    "
      ],
      "text/plain": [
       "<IPython.core.display.HTML object>"
      ]
     },
     "metadata": {},
     "output_type": "display_data"
    },
    {
     "name": "stdout",
     "output_type": "stream",
     "text": [
      "Validation Loss:  0.6003\n",
      "Validation accuracy: 69.3417%\n",
      "Validation Loss has gone up 0 times.\n",
      "\n"
     ]
    },
    {
     "data": {
      "text/html": [
       "\n",
       "        <p>Loss: 0.6060   36002 / 36002</p>\n",
       "        <progress value='36002' max='36002', style='width: 100%'>36002</progress>\n",
       "    "
      ],
      "text/plain": [
       "<IPython.core.display.HTML object>"
      ]
     },
     "metadata": {},
     "output_type": "display_data"
    },
    {
     "name": "stdout",
     "output_type": "stream",
     "text": [
      "Epoch:  7\n",
      "Training loss: 0.606\n"
     ]
    },
    {
     "data": {
      "text/html": [
       "\n",
       "        <p>Loss: 0.6033   36002 / 36002</p>\n",
       "        <progress value='36002' max='36002', style='width: 100%'>36002</progress>\n",
       "    "
      ],
      "text/plain": [
       "<IPython.core.display.HTML object>"
      ]
     },
     "metadata": {},
     "output_type": "display_data"
    },
    {
     "name": "stdout",
     "output_type": "stream",
     "text": [
      "Training Loss:  0.6033\n",
      "Training accuracy: 68.3351%\n"
     ]
    },
    {
     "data": {
      "text/html": [
       "\n",
       "        <p>Loss: 0.5954   12000 / 12000</p>\n",
       "        <progress value='12000' max='12000', style='width: 100%'>12000</progress>\n",
       "    "
      ],
      "text/plain": [
       "<IPython.core.display.HTML object>"
      ]
     },
     "metadata": {},
     "output_type": "display_data"
    },
    {
     "name": "stdout",
     "output_type": "stream",
     "text": [
      "Validation Loss:  0.5954\n",
      "Validation accuracy: 68.9167%\n",
      "\"Best Loss\": 0.5954465612452079\n",
      "\n",
      "Validation Loss has gone up 0 times.\n",
      "\n"
     ]
    },
    {
     "data": {
      "text/html": [
       "\n",
       "        <p>Loss: 0.6077   36002 / 36002</p>\n",
       "        <progress value='36002' max='36002', style='width: 100%'>36002</progress>\n",
       "    "
      ],
      "text/plain": [
       "<IPython.core.display.HTML object>"
      ]
     },
     "metadata": {},
     "output_type": "display_data"
    },
    {
     "name": "stdout",
     "output_type": "stream",
     "text": [
      "Epoch:  8\n",
      "Training loss: 0.6077\n"
     ]
    },
    {
     "data": {
      "text/html": [
       "\n",
       "        <p>Loss: 0.6074   36002 / 36002</p>\n",
       "        <progress value='36002' max='36002', style='width: 100%'>36002</progress>\n",
       "    "
      ],
      "text/plain": [
       "<IPython.core.display.HTML object>"
      ]
     },
     "metadata": {},
     "output_type": "display_data"
    },
    {
     "name": "stdout",
     "output_type": "stream",
     "text": [
      "Training Loss:  0.6074\n",
      "Training accuracy: 66.9324%\n"
     ]
    },
    {
     "data": {
      "text/html": [
       "\n",
       "        <p>Loss: 0.6006   12000 / 12000</p>\n",
       "        <progress value='12000' max='12000', style='width: 100%'>12000</progress>\n",
       "    "
      ],
      "text/plain": [
       "<IPython.core.display.HTML object>"
      ]
     },
     "metadata": {},
     "output_type": "display_data"
    },
    {
     "name": "stdout",
     "output_type": "stream",
     "text": [
      "Validation Loss:  0.6006\n",
      "Validation accuracy: 67.3333%\n",
      "Validation Loss has gone up 1 times.\n",
      "\n"
     ]
    },
    {
     "data": {
      "text/html": [
       "\n",
       "        <p>Loss: 0.6066   36002 / 36002</p>\n",
       "        <progress value='36002' max='36002', style='width: 100%'>36002</progress>\n",
       "    "
      ],
      "text/plain": [
       "<IPython.core.display.HTML object>"
      ]
     },
     "metadata": {},
     "output_type": "display_data"
    },
    {
     "name": "stdout",
     "output_type": "stream",
     "text": [
      "Epoch:  9\n",
      "Training loss: 0.6066\n"
     ]
    },
    {
     "data": {
      "text/html": [
       "\n",
       "        <p>Loss: 0.6019   36002 / 36002</p>\n",
       "        <progress value='36002' max='36002', style='width: 100%'>36002</progress>\n",
       "    "
      ],
      "text/plain": [
       "<IPython.core.display.HTML object>"
      ]
     },
     "metadata": {},
     "output_type": "display_data"
    },
    {
     "name": "stdout",
     "output_type": "stream",
     "text": [
      "Training Loss:  0.6019\n",
      "Training accuracy: 68.5156%\n"
     ]
    },
    {
     "data": {
      "text/html": [
       "\n",
       "        <p>Loss: 0.5943   12000 / 12000</p>\n",
       "        <progress value='12000' max='12000', style='width: 100%'>12000</progress>\n",
       "    "
      ],
      "text/plain": [
       "<IPython.core.display.HTML object>"
      ]
     },
     "metadata": {},
     "output_type": "display_data"
    },
    {
     "name": "stdout",
     "output_type": "stream",
     "text": [
      "Validation Loss:  0.5943\n",
      "Validation accuracy: 69.0250%\n",
      "\"Best Loss\": 0.5943059420332\n",
      "\n",
      "Validation Loss has gone up 0 times.\n",
      "\n"
     ]
    },
    {
     "data": {
      "text/html": [
       "\n",
       "        <p>Loss: 0.6072   36002 / 36002</p>\n",
       "        <progress value='36002' max='36002', style='width: 100%'>36002</progress>\n",
       "    "
      ],
      "text/plain": [
       "<IPython.core.display.HTML object>"
      ]
     },
     "metadata": {},
     "output_type": "display_data"
    },
    {
     "name": "stdout",
     "output_type": "stream",
     "text": [
      "Epoch:  10\n",
      "Training loss: 0.6072\n"
     ]
    },
    {
     "data": {
      "text/html": [
       "\n",
       "        <p>Loss: 0.6093   36002 / 36002</p>\n",
       "        <progress value='36002' max='36002', style='width: 100%'>36002</progress>\n",
       "    "
      ],
      "text/plain": [
       "<IPython.core.display.HTML object>"
      ]
     },
     "metadata": {},
     "output_type": "display_data"
    },
    {
     "name": "stdout",
     "output_type": "stream",
     "text": [
      "Training Loss:  0.6093\n",
      "Training accuracy: 66.6185%\n"
     ]
    },
    {
     "data": {
      "text/html": [
       "\n",
       "        <p>Loss: 0.6024   12000 / 12000</p>\n",
       "        <progress value='12000' max='12000', style='width: 100%'>12000</progress>\n",
       "    "
      ],
      "text/plain": [
       "<IPython.core.display.HTML object>"
      ]
     },
     "metadata": {},
     "output_type": "display_data"
    },
    {
     "name": "stdout",
     "output_type": "stream",
     "text": [
      "Validation Loss:  0.6024\n",
      "Validation accuracy: 67.2167%\n",
      "Validation Loss has gone up 1 times.\n",
      "\n"
     ]
    },
    {
     "data": {
      "text/html": [
       "\n",
       "        <p>Loss: 0.6079   36002 / 36002</p>\n",
       "        <progress value='36002' max='36002', style='width: 100%'>36002</progress>\n",
       "    "
      ],
      "text/plain": [
       "<IPython.core.display.HTML object>"
      ]
     },
     "metadata": {},
     "output_type": "display_data"
    },
    {
     "name": "stdout",
     "output_type": "stream",
     "text": [
      "Epoch:  11\n",
      "Training loss: 0.6079\n"
     ]
    },
    {
     "data": {
      "text/html": [
       "\n",
       "        <p>Loss: 0.6091   36002 / 36002</p>\n",
       "        <progress value='36002' max='36002', style='width: 100%'>36002</progress>\n",
       "    "
      ],
      "text/plain": [
       "<IPython.core.display.HTML object>"
      ]
     },
     "metadata": {},
     "output_type": "display_data"
    },
    {
     "name": "stdout",
     "output_type": "stream",
     "text": [
      "Training Loss:  0.6091\n",
      "Training accuracy: 68.5129%\n"
     ]
    },
    {
     "data": {
      "text/html": [
       "\n",
       "        <p>Loss: 0.6007   12000 / 12000</p>\n",
       "        <progress value='12000' max='12000', style='width: 100%'>12000</progress>\n",
       "    "
      ],
      "text/plain": [
       "<IPython.core.display.HTML object>"
      ]
     },
     "metadata": {},
     "output_type": "display_data"
    },
    {
     "name": "stdout",
     "output_type": "stream",
     "text": [
      "Validation Loss:  0.6007\n",
      "Validation accuracy: 69.4667%\n",
      "Validation Loss has gone up 0 times.\n",
      "\n"
     ]
    },
    {
     "data": {
      "text/html": [
       "\n",
       "        <p>Loss: 0.6067   36002 / 36002</p>\n",
       "        <progress value='36002' max='36002', style='width: 100%'>36002</progress>\n",
       "    "
      ],
      "text/plain": [
       "<IPython.core.display.HTML object>"
      ]
     },
     "metadata": {},
     "output_type": "display_data"
    },
    {
     "name": "stdout",
     "output_type": "stream",
     "text": [
      "Epoch:  12\n",
      "Training loss: 0.6067\n"
     ]
    },
    {
     "data": {
      "text/html": [
       "\n",
       "        <p>Loss: 0.6044   36002 / 36002</p>\n",
       "        <progress value='36002' max='36002', style='width: 100%'>36002</progress>\n",
       "    "
      ],
      "text/plain": [
       "<IPython.core.display.HTML object>"
      ]
     },
     "metadata": {},
     "output_type": "display_data"
    },
    {
     "name": "stdout",
     "output_type": "stream",
     "text": [
      "Training Loss:  0.6044\n",
      "Training accuracy: 67.5935%\n"
     ]
    },
    {
     "data": {
      "text/html": [
       "\n",
       "        <p>Loss: 0.5976   12000 / 12000</p>\n",
       "        <progress value='12000' max='12000', style='width: 100%'>12000</progress>\n",
       "    "
      ],
      "text/plain": [
       "<IPython.core.display.HTML object>"
      ]
     },
     "metadata": {},
     "output_type": "display_data"
    },
    {
     "name": "stdout",
     "output_type": "stream",
     "text": [
      "Validation Loss:  0.5976\n",
      "Validation accuracy: 67.8917%\n",
      "Validation Loss has gone up 0 times.\n",
      "\n"
     ]
    },
    {
     "data": {
      "text/html": [
       "\n",
       "        <p>Loss: 0.6058   36002 / 36002</p>\n",
       "        <progress value='36002' max='36002', style='width: 100%'>36002</progress>\n",
       "    "
      ],
      "text/plain": [
       "<IPython.core.display.HTML object>"
      ]
     },
     "metadata": {},
     "output_type": "display_data"
    },
    {
     "name": "stdout",
     "output_type": "stream",
     "text": [
      "Epoch:  13\n",
      "Training loss: 0.6058\n"
     ]
    },
    {
     "data": {
      "text/html": [
       "\n",
       "        <p>Loss: 0.6100   36002 / 36002</p>\n",
       "        <progress value='36002' max='36002', style='width: 100%'>36002</progress>\n",
       "    "
      ],
      "text/plain": [
       "<IPython.core.display.HTML object>"
      ]
     },
     "metadata": {},
     "output_type": "display_data"
    },
    {
     "name": "stdout",
     "output_type": "stream",
     "text": [
      "Training Loss:  0.61\n",
      "Training accuracy: 66.5713%\n"
     ]
    },
    {
     "data": {
      "text/html": [
       "\n",
       "        <p>Loss: 0.6026   12000 / 12000</p>\n",
       "        <progress value='12000' max='12000', style='width: 100%'>12000</progress>\n",
       "    "
      ],
      "text/plain": [
       "<IPython.core.display.HTML object>"
      ]
     },
     "metadata": {},
     "output_type": "display_data"
    },
    {
     "name": "stdout",
     "output_type": "stream",
     "text": [
      "Validation Loss:  0.6026\n",
      "Validation accuracy: 66.8167%\n",
      "Validation Loss has gone up 1 times.\n",
      "\n"
     ]
    },
    {
     "data": {
      "text/html": [
       "\n",
       "        <p>Loss: 0.6054   36002 / 36002</p>\n",
       "        <progress value='36002' max='36002', style='width: 100%'>36002</progress>\n",
       "    "
      ],
      "text/plain": [
       "<IPython.core.display.HTML object>"
      ]
     },
     "metadata": {},
     "output_type": "display_data"
    },
    {
     "name": "stdout",
     "output_type": "stream",
     "text": [
      "Epoch:  14\n",
      "Training loss: 0.6054\n"
     ]
    },
    {
     "data": {
      "text/html": [
       "\n",
       "        <p>Loss: 0.6071   36002 / 36002</p>\n",
       "        <progress value='36002' max='36002', style='width: 100%'>36002</progress>\n",
       "    "
      ],
      "text/plain": [
       "<IPython.core.display.HTML object>"
      ]
     },
     "metadata": {},
     "output_type": "display_data"
    },
    {
     "name": "stdout",
     "output_type": "stream",
     "text": [
      "Training Loss:  0.6071\n",
      "Training accuracy: 68.8073%\n"
     ]
    },
    {
     "data": {
      "text/html": [
       "\n",
       "        <p>Loss: 0.5990   12000 / 12000</p>\n",
       "        <progress value='12000' max='12000', style='width: 100%'>12000</progress>\n",
       "    "
      ],
      "text/plain": [
       "<IPython.core.display.HTML object>"
      ]
     },
     "metadata": {},
     "output_type": "display_data"
    },
    {
     "name": "stdout",
     "output_type": "stream",
     "text": [
      "Validation Loss:  0.599\n",
      "Validation accuracy: 69.4417%\n",
      "Validation Loss has gone up 0 times.\n",
      "\n"
     ]
    },
    {
     "data": {
      "text/html": [
       "\n",
       "        <p>Loss: 0.6052   36002 / 36002</p>\n",
       "        <progress value='36002' max='36002', style='width: 100%'>36002</progress>\n",
       "    "
      ],
      "text/plain": [
       "<IPython.core.display.HTML object>"
      ]
     },
     "metadata": {},
     "output_type": "display_data"
    },
    {
     "name": "stdout",
     "output_type": "stream",
     "text": [
      "Epoch:  15\n",
      "Training loss: 0.6052\n"
     ]
    },
    {
     "data": {
      "text/html": [
       "\n",
       "        <p>Loss: 0.6018   36002 / 36002</p>\n",
       "        <progress value='36002' max='36002', style='width: 100%'>36002</progress>\n",
       "    "
      ],
      "text/plain": [
       "<IPython.core.display.HTML object>"
      ]
     },
     "metadata": {},
     "output_type": "display_data"
    },
    {
     "name": "stdout",
     "output_type": "stream",
     "text": [
      "Training Loss:  0.6018\n",
      "Training accuracy: 68.7101%\n"
     ]
    },
    {
     "data": {
      "text/html": [
       "\n",
       "        <p>Loss: 0.5934   12000 / 12000</p>\n",
       "        <progress value='12000' max='12000', style='width: 100%'>12000</progress>\n",
       "    "
      ],
      "text/plain": [
       "<IPython.core.display.HTML object>"
      ]
     },
     "metadata": {},
     "output_type": "display_data"
    },
    {
     "name": "stdout",
     "output_type": "stream",
     "text": [
      "Validation Loss:  0.5934\n",
      "Validation accuracy: 69.4417%\n",
      "\"Best Loss\": 0.5934405688275681\n",
      "\n",
      "Validation Loss has gone up 0 times.\n",
      "\n"
     ]
    },
    {
     "data": {
      "text/html": [
       "\n",
       "        <p>Loss: 0.6052   36002 / 36002</p>\n",
       "        <progress value='36002' max='36002', style='width: 100%'>36002</progress>\n",
       "    "
      ],
      "text/plain": [
       "<IPython.core.display.HTML object>"
      ]
     },
     "metadata": {},
     "output_type": "display_data"
    },
    {
     "name": "stdout",
     "output_type": "stream",
     "text": [
      "Epoch:  16\n",
      "Training loss: 0.6052\n"
     ]
    },
    {
     "data": {
      "text/html": [
       "\n",
       "        <p>Loss: 0.6023   36002 / 36002</p>\n",
       "        <progress value='36002' max='36002', style='width: 100%'>36002</progress>\n",
       "    "
      ],
      "text/plain": [
       "<IPython.core.display.HTML object>"
      ]
     },
     "metadata": {},
     "output_type": "display_data"
    },
    {
     "name": "stdout",
     "output_type": "stream",
     "text": [
      "Training Loss:  0.6023\n",
      "Training accuracy: 68.2268%\n"
     ]
    },
    {
     "data": {
      "text/html": [
       "\n",
       "        <p>Loss: 0.5953   12000 / 12000</p>\n",
       "        <progress value='12000' max='12000', style='width: 100%'>12000</progress>\n",
       "    "
      ],
      "text/plain": [
       "<IPython.core.display.HTML object>"
      ]
     },
     "metadata": {},
     "output_type": "display_data"
    },
    {
     "name": "stdout",
     "output_type": "stream",
     "text": [
      "Validation Loss:  0.5953\n",
      "Validation accuracy: 68.6667%\n",
      "Validation Loss has gone up 1 times.\n",
      "\n"
     ]
    },
    {
     "data": {
      "text/html": [
       "\n",
       "        <p>Loss: 0.6033   36002 / 36002</p>\n",
       "        <progress value='36002' max='36002', style='width: 100%'>36002</progress>\n",
       "    "
      ],
      "text/plain": [
       "<IPython.core.display.HTML object>"
      ]
     },
     "metadata": {},
     "output_type": "display_data"
    },
    {
     "name": "stdout",
     "output_type": "stream",
     "text": [
      "Epoch:  17\n",
      "Training loss: 0.6033\n"
     ]
    },
    {
     "data": {
      "text/html": [
       "\n",
       "        <p>Loss: 0.6164   36002 / 36002</p>\n",
       "        <progress value='36002' max='36002', style='width: 100%'>36002</progress>\n",
       "    "
      ],
      "text/plain": [
       "<IPython.core.display.HTML object>"
      ]
     },
     "metadata": {},
     "output_type": "display_data"
    },
    {
     "name": "stdout",
     "output_type": "stream",
     "text": [
      "Training Loss:  0.6164\n",
      "Training accuracy: 67.8907%\n"
     ]
    },
    {
     "data": {
      "text/html": [
       "\n",
       "        <p>Loss: 0.6073   12000 / 12000</p>\n",
       "        <progress value='12000' max='12000', style='width: 100%'>12000</progress>\n",
       "    "
      ],
      "text/plain": [
       "<IPython.core.display.HTML object>"
      ]
     },
     "metadata": {},
     "output_type": "display_data"
    },
    {
     "name": "stdout",
     "output_type": "stream",
     "text": [
      "Validation Loss:  0.6073\n",
      "Validation accuracy: 68.7750%\n",
      "Validation Loss has gone up 2 times.\n",
      "\n"
     ]
    },
    {
     "data": {
      "text/html": [
       "\n",
       "        <p>Loss: 0.6227   12000 / 12000</p>\n",
       "        <progress value='12000' max='12000', style='width: 100%'>12000</progress>\n",
       "    "
      ],
      "text/plain": [
       "<IPython.core.display.HTML object>"
      ]
     },
     "metadata": {},
     "output_type": "display_data"
    },
    {
     "name": "stdout",
     "output_type": "stream",
     "text": [
      "Validation Loss:  0.6227\n",
      "Validation accuracy: 67.0833%\n"
     ]
    },
    {
     "data": {
      "image/png": "[encoded data removed]",
      "text/plain": [
       "<Figure size 720x432 with 1 Axes>"
      ]
     },
     "metadata": {
      "needs_background": "light"
     },
     "output_type": "display_data"
    }
   ],
   "source": [
    "'''\n",
    "low pass\n",
    "'''\n",
    "\n",
    "s_epoch      = 1\n",
    "num_epochs   = 300\n",
    "lr_rate      = 1e-2\n",
    "load_model   = False\n",
    "model_name   = 'SVMModel'\n",
    "path         = './results'\n",
    "\n",
    "svm_model = SVM(nn).to(device)\n",
    "criterion = torch.nn.SoftMarginLoss()\n",
    "optimizer = torch.optim.SGD(svm_model.parameters(), lr=lr_rate, weight_decay=1e-3, momentum=0.9)\n",
    "\n",
    "if load_model:\n",
    "    svm_model.load_state_dict(torch.load(''))\n",
    "    \n",
    "def svm_lbls(T):\n",
    "    T[torch.nonzero((T < 0.0))] = 0\n",
    "    return T\n",
    "\n",
    "train_losses, valid_losses = train(svm_model, \n",
    "                                   optimizer, \n",
    "                                   criterion, \n",
    "                                   trn_dl, \n",
    "                                   val_dl,\n",
    "                                   model_name,\n",
    "                                   path,\n",
    "                                   acc_thresh=0.0,\n",
    "                                   label_transform=svm_lbls,\n",
    "                                   predicter=nn.Tanh(),\n",
    "                                  choice = 'low_pass')\n",
    "test_losses = []\n",
    "evaluate(svm_model,\n",
    "         optimizer,\n",
    "         criterion,\n",
    "         0,\n",
    "         tst_dl,\n",
    "         test_losses,\n",
    "         \"\",\n",
    "         \"\",\n",
    "         acc_thresh=0.0,\n",
    "         label_transform=svm_lbls,\n",
    "         predicter=nn.Tanh(),\n",
    "         validation=False,\n",
    "        choice = 'low_pass')\n",
    "\n",
    "epochs = range(1, len(train_losses) + 1)\n",
    "epoch_ticks = [i if i % 5 == 0 else 0 for i in epochs]\n",
    "    \n",
    "plt.figure(figsize=(10,6))\n",
    "plt.plot(epochs, train_losses, label='Training loss')\n",
    "plt.plot(epochs, valid_losses, label='Validation loss')\n",
    "plt.legend()\n",
    "plt.title('Learning curves')\n",
    "plt.xlabel('Epoch')\n",
    "plt.ylabel('Loss')\n",
    "plt.xticks(epoch_ticks)\n",
    "plt.show()"
   ]
  },
  {
   "cell_type": "code",
   "execution_count": 8,
   "metadata": {},
   "outputs": [
    {
     "data": {
      "text/html": [
       "\n",
       "        <p>Loss: 0.6681   36002 / 36002</p>\n",
       "        <progress value='36002' max='36002', style='width: 100%'>36002</progress>\n",
       "    "
      ],
      "text/plain": [
       "<IPython.core.display.HTML object>"
      ]
     },
     "metadata": {},
     "output_type": "display_data"
    },
    {
     "name": "stdout",
     "output_type": "stream",
     "text": [
      "Epoch:  1\n",
      "Training loss: 0.6681\n"
     ]
    },
    {
     "data": {
      "text/html": [
       "\n",
       "        <p>Loss: 0.6580   36002 / 36002</p>\n",
       "        <progress value='36002' max='36002', style='width: 100%'>36002</progress>\n",
       "    "
      ],
      "text/plain": [
       "<IPython.core.display.HTML object>"
      ]
     },
     "metadata": {},
     "output_type": "display_data"
    },
    {
     "name": "stdout",
     "output_type": "stream",
     "text": [
      "Training Loss:  0.658\n",
      "Training accuracy: 59.6217%\n"
     ]
    },
    {
     "data": {
      "text/html": [
       "\n",
       "        <p>Loss: 0.6570   12000 / 12000</p>\n",
       "        <progress value='12000' max='12000', style='width: 100%'>12000</progress>\n",
       "    "
      ],
      "text/plain": [
       "<IPython.core.display.HTML object>"
      ]
     },
     "metadata": {},
     "output_type": "display_data"
    },
    {
     "name": "stdout",
     "output_type": "stream",
     "text": [
      "Validation Loss:  0.657\n",
      "Validation accuracy: 59.3167%\n",
      "\"Best Loss\": 0.6570053519086637\n",
      "\n",
      "Validation Loss has gone up 0 times.\n",
      "\n"
     ]
    },
    {
     "data": {
      "text/html": [
       "\n",
       "        <p>Loss: 0.6551   36002 / 36002</p>\n",
       "        <progress value='36002' max='36002', style='width: 100%'>36002</progress>\n",
       "    "
      ],
      "text/plain": [
       "<IPython.core.display.HTML object>"
      ]
     },
     "metadata": {},
     "output_type": "display_data"
    },
    {
     "name": "stdout",
     "output_type": "stream",
     "text": [
      "Epoch:  2\n",
      "Training loss: 0.6551\n"
     ]
    },
    {
     "data": {
      "text/html": [
       "\n",
       "        <p>Loss: 0.6524   36002 / 36002</p>\n",
       "        <progress value='36002' max='36002', style='width: 100%'>36002</progress>\n",
       "    "
      ],
      "text/plain": [
       "<IPython.core.display.HTML object>"
      ]
     },
     "metadata": {},
     "output_type": "display_data"
    },
    {
     "name": "stdout",
     "output_type": "stream",
     "text": [
      "Training Loss:  0.6524\n",
      "Training accuracy: 61.1049%\n"
     ]
    },
    {
     "data": {
      "text/html": [
       "\n",
       "        <p>Loss: 0.6506   12000 / 12000</p>\n",
       "        <progress value='12000' max='12000', style='width: 100%'>12000</progress>\n",
       "    "
      ],
      "text/plain": [
       "<IPython.core.display.HTML object>"
      ]
     },
     "metadata": {},
     "output_type": "display_data"
    },
    {
     "name": "stdout",
     "output_type": "stream",
     "text": [
      "Validation Loss:  0.6506\n",
      "Validation accuracy: 61.2833%\n",
      "\"Best Loss\": 0.6506097646469767\n",
      "\n",
      "Validation Loss has gone up 0 times.\n",
      "\n"
     ]
    },
    {
     "data": {
      "text/html": [
       "\n",
       "        <p>Loss: 0.6492   36002 / 36002</p>\n",
       "        <progress value='36002' max='36002', style='width: 100%'>36002</progress>\n",
       "    "
      ],
      "text/plain": [
       "<IPython.core.display.HTML object>"
      ]
     },
     "metadata": {},
     "output_type": "display_data"
    },
    {
     "name": "stdout",
     "output_type": "stream",
     "text": [
      "Epoch:  3\n",
      "Training loss: 0.6492\n"
     ]
    },
    {
     "data": {
      "text/html": [
       "\n",
       "        <p>Loss: 0.6485   36002 / 36002</p>\n",
       "        <progress value='36002' max='36002', style='width: 100%'>36002</progress>\n",
       "    "
      ],
      "text/plain": [
       "<IPython.core.display.HTML object>"
      ]
     },
     "metadata": {},
     "output_type": "display_data"
    },
    {
     "name": "stdout",
     "output_type": "stream",
     "text": [
      "Training Loss:  0.6485\n",
      "Training accuracy: 60.4716%\n"
     ]
    },
    {
     "data": {
      "text/html": [
       "\n",
       "        <p>Loss: 0.6467   12000 / 12000</p>\n",
       "        <progress value='12000' max='12000', style='width: 100%'>12000</progress>\n",
       "    "
      ],
      "text/plain": [
       "<IPython.core.display.HTML object>"
      ]
     },
     "metadata": {},
     "output_type": "display_data"
    },
    {
     "name": "stdout",
     "output_type": "stream",
     "text": [
      "Validation Loss:  0.6467\n",
      "Validation accuracy: 60.5000%\n",
      "\"Best Loss\": 0.6467382584480531\n",
      "\n",
      "Validation Loss has gone up 0 times.\n",
      "\n"
     ]
    },
    {
     "data": {
      "text/html": [
       "\n",
       "        <p>Loss: 0.6461   36002 / 36002</p>\n",
       "        <progress value='36002' max='36002', style='width: 100%'>36002</progress>\n",
       "    "
      ],
      "text/plain": [
       "<IPython.core.display.HTML object>"
      ]
     },
     "metadata": {},
     "output_type": "display_data"
    },
    {
     "name": "stdout",
     "output_type": "stream",
     "text": [
      "Epoch:  4\n",
      "Training loss: 0.6461\n"
     ]
    },
    {
     "data": {
      "text/html": [
       "\n",
       "        <p>Loss: 0.6425   36002 / 36002</p>\n",
       "        <progress value='36002' max='36002', style='width: 100%'>36002</progress>\n",
       "    "
      ],
      "text/plain": [
       "<IPython.core.display.HTML object>"
      ]
     },
     "metadata": {},
     "output_type": "display_data"
    },
    {
     "name": "stdout",
     "output_type": "stream",
     "text": [
      "Training Loss:  0.6425\n",
      "Training accuracy: 63.3743%\n"
     ]
    },
    {
     "data": {
      "text/html": [
       "\n",
       "        <p>Loss: 0.6405   12000 / 12000</p>\n",
       "        <progress value='12000' max='12000', style='width: 100%'>12000</progress>\n",
       "    "
      ],
      "text/plain": [
       "<IPython.core.display.HTML object>"
      ]
     },
     "metadata": {},
     "output_type": "display_data"
    },
    {
     "name": "stdout",
     "output_type": "stream",
     "text": [
      "Validation Loss:  0.6405\n",
      "Validation accuracy: 63.8750%\n",
      "\"Best Loss\": 0.6405202746391299\n",
      "\n",
      "Validation Loss has gone up 0 times.\n",
      "\n"
     ]
    },
    {
     "data": {
      "text/html": [
       "\n",
       "        <p>Loss: 0.6419   36002 / 36002</p>\n",
       "        <progress value='36002' max='36002', style='width: 100%'>36002</progress>\n",
       "    "
      ],
      "text/plain": [
       "<IPython.core.display.HTML object>"
      ]
     },
     "metadata": {},
     "output_type": "display_data"
    },
    {
     "name": "stdout",
     "output_type": "stream",
     "text": [
      "Epoch:  5\n",
      "Training loss: 0.6419\n"
     ]
    },
    {
     "data": {
      "text/html": [
       "\n",
       "        <p>Loss: 0.6440   36002 / 36002</p>\n",
       "        <progress value='36002' max='36002', style='width: 100%'>36002</progress>\n",
       "    "
      ],
      "text/plain": [
       "<IPython.core.display.HTML object>"
      ]
     },
     "metadata": {},
     "output_type": "display_data"
    },
    {
     "name": "stdout",
     "output_type": "stream",
     "text": [
      "Training Loss:  0.644\n",
      "Training accuracy: 60.8800%\n"
     ]
    },
    {
     "data": {
      "text/html": [
       "\n",
       "        <p>Loss: 0.6440   12000 / 12000</p>\n",
       "        <progress value='12000' max='12000', style='width: 100%'>12000</progress>\n",
       "    "
      ],
      "text/plain": [
       "<IPython.core.display.HTML object>"
      ]
     },
     "metadata": {},
     "output_type": "display_data"
    },
    {
     "name": "stdout",
     "output_type": "stream",
     "text": [
      "Validation Loss:  0.644\n",
      "Validation accuracy: 61.0167%\n",
      "Validation Loss has gone up 1 times.\n",
      "\n"
     ]
    },
    {
     "data": {
      "text/html": [
       "\n",
       "        <p>Loss: 0.6411   36002 / 36002</p>\n",
       "        <progress value='36002' max='36002', style='width: 100%'>36002</progress>\n",
       "    "
      ],
      "text/plain": [
       "<IPython.core.display.HTML object>"
      ]
     },
     "metadata": {},
     "output_type": "display_data"
    },
    {
     "name": "stdout",
     "output_type": "stream",
     "text": [
      "Epoch:  6\n",
      "Training loss: 0.6411\n"
     ]
    },
    {
     "data": {
      "text/html": [
       "\n",
       "        <p>Loss: 0.6342   36002 / 36002</p>\n",
       "        <progress value='36002' max='36002', style='width: 100%'>36002</progress>\n",
       "    "
      ],
      "text/plain": [
       "<IPython.core.display.HTML object>"
      ]
     },
     "metadata": {},
     "output_type": "display_data"
    },
    {
     "name": "stdout",
     "output_type": "stream",
     "text": [
      "Training Loss:  0.6342\n",
      "Training accuracy: 65.1714%\n"
     ]
    },
    {
     "data": {
      "text/html": [
       "\n",
       "        <p>Loss: 0.6324   12000 / 12000</p>\n",
       "        <progress value='12000' max='12000', style='width: 100%'>12000</progress>\n",
       "    "
      ],
      "text/plain": [
       "<IPython.core.display.HTML object>"
      ]
     },
     "metadata": {},
     "output_type": "display_data"
    },
    {
     "name": "stdout",
     "output_type": "stream",
     "text": [
      "Validation Loss:  0.6324\n",
      "Validation accuracy: 65.4417%\n",
      "\"Best Loss\": 0.6324396723128379\n",
      "\n",
      "Validation Loss has gone up 0 times.\n",
      "\n"
     ]
    },
    {
     "data": {
      "text/html": [
       "\n",
       "        <p>Loss: 0.6364   36002 / 36002</p>\n",
       "        <progress value='36002' max='36002', style='width: 100%'>36002</progress>\n",
       "    "
      ],
      "text/plain": [
       "<IPython.core.display.HTML object>"
      ]
     },
     "metadata": {},
     "output_type": "display_data"
    },
    {
     "name": "stdout",
     "output_type": "stream",
     "text": [
      "Epoch:  7\n",
      "Training loss: 0.6364\n"
     ]
    },
    {
     "data": {
      "text/html": [
       "\n",
       "        <p>Loss: 0.6320   36002 / 36002</p>\n",
       "        <progress value='36002' max='36002', style='width: 100%'>36002</progress>\n",
       "    "
      ],
      "text/plain": [
       "<IPython.core.display.HTML object>"
      ]
     },
     "metadata": {},
     "output_type": "display_data"
    },
    {
     "name": "stdout",
     "output_type": "stream",
     "text": [
      "Training Loss:  0.632\n",
      "Training accuracy: 64.6409%\n"
     ]
    },
    {
     "data": {
      "text/html": [
       "\n",
       "        <p>Loss: 0.6304   12000 / 12000</p>\n",
       "        <progress value='12000' max='12000', style='width: 100%'>12000</progress>\n",
       "    "
      ],
      "text/plain": [
       "<IPython.core.display.HTML object>"
      ]
     },
     "metadata": {},
     "output_type": "display_data"
    },
    {
     "name": "stdout",
     "output_type": "stream",
     "text": [
      "Validation Loss:  0.6304\n",
      "Validation accuracy: 64.9750%\n",
      "\"Best Loss\": 0.6303909560467338\n",
      "\n",
      "Validation Loss has gone up 0 times.\n",
      "\n"
     ]
    },
    {
     "data": {
      "text/html": [
       "\n",
       "        <p>Loss: 0.6341   36002 / 36002</p>\n",
       "        <progress value='36002' max='36002', style='width: 100%'>36002</progress>\n",
       "    "
      ],
      "text/plain": [
       "<IPython.core.display.HTML object>"
      ]
     },
     "metadata": {},
     "output_type": "display_data"
    },
    {
     "name": "stdout",
     "output_type": "stream",
     "text": [
      "Epoch:  8\n",
      "Training loss: 0.6341\n"
     ]
    },
    {
     "data": {
      "text/html": [
       "\n",
       "        <p>Loss: 0.6300   36002 / 36002</p>\n",
       "        <progress value='36002' max='36002', style='width: 100%'>36002</progress>\n",
       "    "
      ],
      "text/plain": [
       "<IPython.core.display.HTML object>"
      ]
     },
     "metadata": {},
     "output_type": "display_data"
    },
    {
     "name": "stdout",
     "output_type": "stream",
     "text": [
      "Training Loss:  0.63\n",
      "Training accuracy: 65.0353%\n"
     ]
    },
    {
     "data": {
      "text/html": [
       "\n",
       "        <p>Loss: 0.6274   12000 / 12000</p>\n",
       "        <progress value='12000' max='12000', style='width: 100%'>12000</progress>\n",
       "    "
      ],
      "text/plain": [
       "<IPython.core.display.HTML object>"
      ]
     },
     "metadata": {},
     "output_type": "display_data"
    },
    {
     "name": "stdout",
     "output_type": "stream",
     "text": [
      "Validation Loss:  0.6274\n",
      "Validation accuracy: 65.5667%\n",
      "\"Best Loss\": 0.6273759191340589\n",
      "\n",
      "Validation Loss has gone up 0 times.\n",
      "\n"
     ]
    },
    {
     "data": {
      "text/html": [
       "\n",
       "        <p>Loss: 0.6284   36002 / 36002</p>\n",
       "        <progress value='36002' max='36002', style='width: 100%'>36002</progress>\n",
       "    "
      ],
      "text/plain": [
       "<IPython.core.display.HTML object>"
      ]
     },
     "metadata": {},
     "output_type": "display_data"
    },
    {
     "name": "stdout",
     "output_type": "stream",
     "text": [
      "Epoch:  9\n",
      "Training loss: 0.6284\n"
     ]
    },
    {
     "data": {
      "text/html": [
       "\n",
       "        <p>Loss: 0.6328   36002 / 36002</p>\n",
       "        <progress value='36002' max='36002', style='width: 100%'>36002</progress>\n",
       "    "
      ],
      "text/plain": [
       "<IPython.core.display.HTML object>"
      ]
     },
     "metadata": {},
     "output_type": "display_data"
    },
    {
     "name": "stdout",
     "output_type": "stream",
     "text": [
      "Training Loss:  0.6328\n",
      "Training accuracy: 64.1909%\n"
     ]
    },
    {
     "data": {
      "text/html": [
       "\n",
       "        <p>Loss: 0.6303   12000 / 12000</p>\n",
       "        <progress value='12000' max='12000', style='width: 100%'>12000</progress>\n",
       "    "
      ],
      "text/plain": [
       "<IPython.core.display.HTML object>"
      ]
     },
     "metadata": {},
     "output_type": "display_data"
    },
    {
     "name": "stdout",
     "output_type": "stream",
     "text": [
      "Validation Loss:  0.6303\n",
      "Validation accuracy: 64.7583%\n",
      "Validation Loss has gone up 1 times.\n",
      "\n"
     ]
    },
    {
     "data": {
      "text/html": [
       "\n",
       "        <p>Loss: 0.6267   36002 / 36002</p>\n",
       "        <progress value='36002' max='36002', style='width: 100%'>36002</progress>\n",
       "    "
      ],
      "text/plain": [
       "<IPython.core.display.HTML object>"
      ]
     },
     "metadata": {},
     "output_type": "display_data"
    },
    {
     "name": "stdout",
     "output_type": "stream",
     "text": [
      "Epoch:  10\n",
      "Training loss: 0.6267\n"
     ]
    },
    {
     "data": {
      "text/html": [
       "\n",
       "        <p>Loss: 0.6210   36002 / 36002</p>\n",
       "        <progress value='36002' max='36002', style='width: 100%'>36002</progress>\n",
       "    "
      ],
      "text/plain": [
       "<IPython.core.display.HTML object>"
      ]
     },
     "metadata": {},
     "output_type": "display_data"
    },
    {
     "name": "stdout",
     "output_type": "stream",
     "text": [
      "Training Loss:  0.621\n",
      "Training accuracy: 65.7936%\n"
     ]
    },
    {
     "data": {
      "text/html": [
       "\n",
       "        <p>Loss: 0.6203   12000 / 12000</p>\n",
       "        <progress value='12000' max='12000', style='width: 100%'>12000</progress>\n",
       "    "
      ],
      "text/plain": [
       "<IPython.core.display.HTML object>"
      ]
     },
     "metadata": {},
     "output_type": "display_data"
    },
    {
     "name": "stdout",
     "output_type": "stream",
     "text": [
      "Validation Loss:  0.6203\n",
      "Validation accuracy: 65.5167%\n",
      "\"Best Loss\": 0.6203396948094063\n",
      "\n",
      "Validation Loss has gone up 0 times.\n",
      "\n"
     ]
    },
    {
     "data": {
      "text/html": [
       "\n",
       "        <p>Loss: 0.6233   36002 / 36002</p>\n",
       "        <progress value='36002' max='36002', style='width: 100%'>36002</progress>\n",
       "    "
      ],
      "text/plain": [
       "<IPython.core.display.HTML object>"
      ]
     },
     "metadata": {},
     "output_type": "display_data"
    },
    {
     "name": "stdout",
     "output_type": "stream",
     "text": [
      "Epoch:  11\n",
      "Training loss: 0.6233\n"
     ]
    },
    {
     "data": {
      "text/html": [
       "\n",
       "        <p>Loss: 0.6169   36002 / 36002</p>\n",
       "        <progress value='36002' max='36002', style='width: 100%'>36002</progress>\n",
       "    "
      ],
      "text/plain": [
       "<IPython.core.display.HTML object>"
      ]
     },
     "metadata": {},
     "output_type": "display_data"
    },
    {
     "name": "stdout",
     "output_type": "stream",
     "text": [
      "Training Loss:  0.6169\n",
      "Training accuracy: 66.8824%\n"
     ]
    },
    {
     "data": {
      "text/html": [
       "\n",
       "        <p>Loss: 0.6153   12000 / 12000</p>\n",
       "        <progress value='12000' max='12000', style='width: 100%'>12000</progress>\n",
       "    "
      ],
      "text/plain": [
       "<IPython.core.display.HTML object>"
      ]
     },
     "metadata": {},
     "output_type": "display_data"
    },
    {
     "name": "stdout",
     "output_type": "stream",
     "text": [
      "Validation Loss:  0.6153\n",
      "Validation accuracy: 67.4083%\n",
      "\"Best Loss\": 0.6153124450369086\n",
      "\n",
      "Validation Loss has gone up 0 times.\n",
      "\n"
     ]
    },
    {
     "data": {
      "text/html": [
       "\n",
       "        <p>Loss: 0.6270   36002 / 36002</p>\n",
       "        <progress value='36002' max='36002', style='width: 100%'>36002</progress>\n",
       "    "
      ],
      "text/plain": [
       "<IPython.core.display.HTML object>"
      ]
     },
     "metadata": {},
     "output_type": "display_data"
    },
    {
     "name": "stdout",
     "output_type": "stream",
     "text": [
      "Epoch:  12\n",
      "Training loss: 0.627\n"
     ]
    },
    {
     "data": {
      "text/html": [
       "\n",
       "        <p>Loss: 0.6398   36002 / 36002</p>\n",
       "        <progress value='36002' max='36002', style='width: 100%'>36002</progress>\n",
       "    "
      ],
      "text/plain": [
       "<IPython.core.display.HTML object>"
      ]
     },
     "metadata": {},
     "output_type": "display_data"
    },
    {
     "name": "stdout",
     "output_type": "stream",
     "text": [
      "Training Loss:  0.6398\n",
      "Training accuracy: 64.4020%\n"
     ]
    },
    {
     "data": {
      "text/html": [
       "\n",
       "        <p>Loss: 0.6373   12000 / 12000</p>\n",
       "        <progress value='12000' max='12000', style='width: 100%'>12000</progress>\n",
       "    "
      ],
      "text/plain": [
       "<IPython.core.display.HTML object>"
      ]
     },
     "metadata": {},
     "output_type": "display_data"
    },
    {
     "name": "stdout",
     "output_type": "stream",
     "text": [
      "Validation Loss:  0.6373\n",
      "Validation accuracy: 64.9000%\n",
      "Validation Loss has gone up 1 times.\n",
      "\n"
     ]
    },
    {
     "data": {
      "text/html": [
       "\n",
       "        <p>Loss: 0.6237   36002 / 36002</p>\n",
       "        <progress value='36002' max='36002', style='width: 100%'>36002</progress>\n",
       "    "
      ],
      "text/plain": [
       "<IPython.core.display.HTML object>"
      ]
     },
     "metadata": {},
     "output_type": "display_data"
    },
    {
     "name": "stdout",
     "output_type": "stream",
     "text": [
      "Epoch:  13\n",
      "Training loss: 0.6237\n"
     ]
    },
    {
     "data": {
      "text/html": [
       "\n",
       "        <p>Loss: 0.6391   36002 / 36002</p>\n",
       "        <progress value='36002' max='36002', style='width: 100%'>36002</progress>\n",
       "    "
      ],
      "text/plain": [
       "<IPython.core.display.HTML object>"
      ]
     },
     "metadata": {},
     "output_type": "display_data"
    },
    {
     "name": "stdout",
     "output_type": "stream",
     "text": [
      "Training Loss:  0.6391\n",
      "Training accuracy: 62.9715%\n"
     ]
    },
    {
     "data": {
      "text/html": [
       "\n",
       "        <p>Loss: 0.6372   12000 / 12000</p>\n",
       "        <progress value='12000' max='12000', style='width: 100%'>12000</progress>\n",
       "    "
      ],
      "text/plain": [
       "<IPython.core.display.HTML object>"
      ]
     },
     "metadata": {},
     "output_type": "display_data"
    },
    {
     "name": "stdout",
     "output_type": "stream",
     "text": [
      "Validation Loss:  0.6372\n",
      "Validation accuracy: 62.9000%\n",
      "Validation Loss has gone up 0 times.\n",
      "\n"
     ]
    },
    {
     "data": {
      "text/html": [
       "\n",
       "        <p>Loss: 0.6224   36002 / 36002</p>\n",
       "        <progress value='36002' max='36002', style='width: 100%'>36002</progress>\n",
       "    "
      ],
      "text/plain": [
       "<IPython.core.display.HTML object>"
      ]
     },
     "metadata": {},
     "output_type": "display_data"
    },
    {
     "name": "stdout",
     "output_type": "stream",
     "text": [
      "Epoch:  14\n",
      "Training loss: 0.6224\n"
     ]
    },
    {
     "data": {
      "text/html": [
       "\n",
       "        <p>Loss: 0.6142   36002 / 36002</p>\n",
       "        <progress value='36002' max='36002', style='width: 100%'>36002</progress>\n",
       "    "
      ],
      "text/plain": [
       "<IPython.core.display.HTML object>"
      ]
     },
     "metadata": {},
     "output_type": "display_data"
    },
    {
     "name": "stdout",
     "output_type": "stream",
     "text": [
      "Training Loss:  0.6142\n",
      "Training accuracy: 66.4519%\n"
     ]
    },
    {
     "data": {
      "text/html": [
       "\n",
       "        <p>Loss: 0.6126   12000 / 12000</p>\n",
       "        <progress value='12000' max='12000', style='width: 100%'>12000</progress>\n",
       "    "
      ],
      "text/plain": [
       "<IPython.core.display.HTML object>"
      ]
     },
     "metadata": {},
     "output_type": "display_data"
    },
    {
     "name": "stdout",
     "output_type": "stream",
     "text": [
      "Validation Loss:  0.6126\n",
      "Validation accuracy: 66.4833%\n",
      "\"Best Loss\": 0.6126396909673165\n",
      "\n",
      "Validation Loss has gone up 0 times.\n",
      "\n"
     ]
    },
    {
     "data": {
      "text/html": [
       "\n",
       "        <p>Loss: 0.6253   36002 / 36002</p>\n",
       "        <progress value='36002' max='36002', style='width: 100%'>36002</progress>\n",
       "    "
      ],
      "text/plain": [
       "<IPython.core.display.HTML object>"
      ]
     },
     "metadata": {},
     "output_type": "display_data"
    },
    {
     "name": "stdout",
     "output_type": "stream",
     "text": [
      "Epoch:  15\n",
      "Training loss: 0.6253\n"
     ]
    },
    {
     "data": {
      "text/html": [
       "\n",
       "        <p>Loss: 0.6172   36002 / 36002</p>\n",
       "        <progress value='36002' max='36002', style='width: 100%'>36002</progress>\n",
       "    "
      ],
      "text/plain": [
       "<IPython.core.display.HTML object>"
      ]
     },
     "metadata": {},
     "output_type": "display_data"
    },
    {
     "name": "stdout",
     "output_type": "stream",
     "text": [
      "Training Loss:  0.6172\n",
      "Training accuracy: 66.7796%\n"
     ]
    },
    {
     "data": {
      "text/html": [
       "\n",
       "        <p>Loss: 0.6149   12000 / 12000</p>\n",
       "        <progress value='12000' max='12000', style='width: 100%'>12000</progress>\n",
       "    "
      ],
      "text/plain": [
       "<IPython.core.display.HTML object>"
      ]
     },
     "metadata": {},
     "output_type": "display_data"
    },
    {
     "name": "stdout",
     "output_type": "stream",
     "text": [
      "Validation Loss:  0.6149\n",
      "Validation accuracy: 67.1667%\n",
      "Validation Loss has gone up 1 times.\n",
      "\n"
     ]
    },
    {
     "data": {
      "text/html": [
       "\n",
       "        <p>Loss: 0.6191   36002 / 36002</p>\n",
       "        <progress value='36002' max='36002', style='width: 100%'>36002</progress>\n",
       "    "
      ],
      "text/plain": [
       "<IPython.core.display.HTML object>"
      ]
     },
     "metadata": {},
     "output_type": "display_data"
    },
    {
     "name": "stdout",
     "output_type": "stream",
     "text": [
      "Epoch:  16\n",
      "Training loss: 0.6191\n"
     ]
    },
    {
     "data": {
      "text/html": [
       "\n",
       "        <p>Loss: 0.6133   36002 / 36002</p>\n",
       "        <progress value='36002' max='36002', style='width: 100%'>36002</progress>\n",
       "    "
      ],
      "text/plain": [
       "<IPython.core.display.HTML object>"
      ]
     },
     "metadata": {},
     "output_type": "display_data"
    },
    {
     "name": "stdout",
     "output_type": "stream",
     "text": [
      "Training Loss:  0.6133\n",
      "Training accuracy: 66.8241%\n"
     ]
    },
    {
     "data": {
      "text/html": [
       "\n",
       "        <p>Loss: 0.6116   12000 / 12000</p>\n",
       "        <progress value='12000' max='12000', style='width: 100%'>12000</progress>\n",
       "    "
      ],
      "text/plain": [
       "<IPython.core.display.HTML object>"
      ]
     },
     "metadata": {},
     "output_type": "display_data"
    },
    {
     "name": "stdout",
     "output_type": "stream",
     "text": [
      "Validation Loss:  0.6116\n",
      "Validation accuracy: 67.2500%\n",
      "\"Best Loss\": 0.6116071888741025\n",
      "\n",
      "Validation Loss has gone up 0 times.\n",
      "\n"
     ]
    },
    {
     "data": {
      "text/html": [
       "\n",
       "        <p>Loss: 0.6228   36002 / 36002</p>\n",
       "        <progress value='36002' max='36002', style='width: 100%'>36002</progress>\n",
       "    "
      ],
      "text/plain": [
       "<IPython.core.display.HTML object>"
      ]
     },
     "metadata": {},
     "output_type": "display_data"
    },
    {
     "name": "stdout",
     "output_type": "stream",
     "text": [
      "Epoch:  17\n",
      "Training loss: 0.6228\n"
     ]
    },
    {
     "data": {
      "text/html": [
       "\n",
       "        <p>Loss: 0.6203   36002 / 36002</p>\n",
       "        <progress value='36002' max='36002', style='width: 100%'>36002</progress>\n",
       "    "
      ],
      "text/plain": [
       "<IPython.core.display.HTML object>"
      ]
     },
     "metadata": {},
     "output_type": "display_data"
    },
    {
     "name": "stdout",
     "output_type": "stream",
     "text": [
      "Training Loss:  0.6203\n",
      "Training accuracy: 65.9102%\n"
     ]
    },
    {
     "data": {
      "text/html": [
       "\n",
       "        <p>Loss: 0.6183   12000 / 12000</p>\n",
       "        <progress value='12000' max='12000', style='width: 100%'>12000</progress>\n",
       "    "
      ],
      "text/plain": [
       "<IPython.core.display.HTML object>"
      ]
     },
     "metadata": {},
     "output_type": "display_data"
    },
    {
     "name": "stdout",
     "output_type": "stream",
     "text": [
      "Validation Loss:  0.6183\n",
      "Validation accuracy: 65.9583%\n",
      "Validation Loss has gone up 1 times.\n",
      "\n"
     ]
    },
    {
     "data": {
      "text/html": [
       "\n",
       "        <p>Loss: 0.6191   36002 / 36002</p>\n",
       "        <progress value='36002' max='36002', style='width: 100%'>36002</progress>\n",
       "    "
      ],
      "text/plain": [
       "<IPython.core.display.HTML object>"
      ]
     },
     "metadata": {},
     "output_type": "display_data"
    },
    {
     "name": "stdout",
     "output_type": "stream",
     "text": [
      "Epoch:  18\n",
      "Training loss: 0.6191\n"
     ]
    },
    {
     "data": {
      "text/html": [
       "\n",
       "        <p>Loss: 0.6271   36002 / 36002</p>\n",
       "        <progress value='36002' max='36002', style='width: 100%'>36002</progress>\n",
       "    "
      ],
      "text/plain": [
       "<IPython.core.display.HTML object>"
      ]
     },
     "metadata": {},
     "output_type": "display_data"
    },
    {
     "name": "stdout",
     "output_type": "stream",
     "text": [
      "Training Loss:  0.6271\n",
      "Training accuracy: 65.3936%\n"
     ]
    },
    {
     "data": {
      "text/html": [
       "\n",
       "        <p>Loss: 0.6248   12000 / 12000</p>\n",
       "        <progress value='12000' max='12000', style='width: 100%'>12000</progress>\n",
       "    "
      ],
      "text/plain": [
       "<IPython.core.display.HTML object>"
      ]
     },
     "metadata": {},
     "output_type": "display_data"
    },
    {
     "name": "stdout",
     "output_type": "stream",
     "text": [
      "Validation Loss:  0.6248\n",
      "Validation accuracy: 65.5667%\n",
      "Validation Loss has gone up 2 times.\n",
      "\n"
     ]
    },
    {
     "data": {
      "text/html": [
       "\n",
       "        <p>Loss: 0.6309   12000 / 12000</p>\n",
       "        <progress value='12000' max='12000', style='width: 100%'>12000</progress>\n",
       "    "
      ],
      "text/plain": [
       "<IPython.core.display.HTML object>"
      ]
     },
     "metadata": {},
     "output_type": "display_data"
    },
    {
     "name": "stdout",
     "output_type": "stream",
     "text": [
      "Validation Loss:  0.6309\n",
      "Validation accuracy: 64.5417%\n"
     ]
    },
    {
     "data": {
      "image/png": "[encoded data removed]",
      "text/plain": [
       "<Figure size 720x432 with 1 Axes>"
      ]
     },
     "metadata": {
      "needs_background": "light"
     },
     "output_type": "display_data"
    }
   ],
   "source": [
    "'''\n",
    "band pass\n",
    "'''\n",
    "\n",
    "s_epoch      = 1\n",
    "num_epochs   = 300\n",
    "lr_rate      = 1e-2\n",
    "load_model   = False\n",
    "model_name   = 'SVMModel'\n",
    "path         = './results'\n",
    "\n",
    "svm_model = SVM(nn).to(device)\n",
    "criterion = torch.nn.SoftMarginLoss()\n",
    "optimizer = torch.optim.SGD(svm_model.parameters(), lr=lr_rate, weight_decay=1e-3, momentum=0.9)\n",
    "\n",
    "if load_model:\n",
    "    svm_model.load_state_dict(torch.load(''))\n",
    "    \n",
    "def svm_lbls(T):\n",
    "    T[torch.nonzero((T < 0.0))] = 0\n",
    "    return T\n",
    "\n",
    "train_losses, valid_losses = train(svm_model, \n",
    "                                   optimizer, \n",
    "                                   criterion, \n",
    "                                   trn_dl, \n",
    "                                   val_dl,\n",
    "                                   model_name,\n",
    "                                   path,\n",
    "                                   acc_thresh=0.0,\n",
    "                                   label_transform=svm_lbls,\n",
    "                                   predicter=nn.Tanh(),\n",
    "                                  choice = 'band_pass')\n",
    "test_losses = []\n",
    "evaluate(svm_model,\n",
    "         optimizer,\n",
    "         criterion,\n",
    "         0,\n",
    "         tst_dl,\n",
    "         test_losses,\n",
    "         \"\",\n",
    "         \"\",\n",
    "         acc_thresh=0.0,\n",
    "         label_transform=svm_lbls,\n",
    "         predicter=nn.Tanh(),\n",
    "         validation=False,\n",
    "        choice = 'band_pass')\n",
    "\n",
    "epochs = range(1, len(train_losses) + 1)\n",
    "epoch_ticks = [i if i % 5 == 0 else 0 for i in epochs]\n",
    "    \n",
    "plt.figure(figsize=(10,6))\n",
    "plt.plot(epochs, train_losses, label='Training loss')\n",
    "plt.plot(epochs, valid_losses, label='Validation loss')\n",
    "plt.legend()\n",
    "plt.title('Learning curves')\n",
    "plt.xlabel('Epoch')\n",
    "plt.ylabel('Loss')\n",
    "plt.xticks(epoch_ticks)\n",
    "plt.show()"
   ]
  },
  {
   "cell_type": "code",
   "execution_count": 9,
   "metadata": {},
   "outputs": [
    {
     "data": {
      "text/html": [
       "\n",
       "        <p>Loss: 0.5582   36002 / 36002</p>\n",
       "        <progress value='36002' max='36002', style='width: 100%'>36002</progress>\n",
       "    "
      ],
      "text/plain": [
       "<IPython.core.display.HTML object>"
      ]
     },
     "metadata": {},
     "output_type": "display_data"
    },
    {
     "name": "stdout",
     "output_type": "stream",
     "text": [
      "Epoch:  1\n",
      "Training loss: 0.5582\n"
     ]
    },
    {
     "data": {
      "text/html": [
       "\n",
       "        <p>Loss: 0.5335   36002 / 36002</p>\n",
       "        <progress value='36002' max='36002', style='width: 100%'>36002</progress>\n",
       "    "
      ],
      "text/plain": [
       "<IPython.core.display.HTML object>"
      ]
     },
     "metadata": {},
     "output_type": "display_data"
    },
    {
     "name": "stdout",
     "output_type": "stream",
     "text": [
      "Training Loss:  0.5335\n",
      "Training accuracy: 74.1070%\n"
     ]
    },
    {
     "data": {
      "text/html": [
       "\n",
       "        <p>Loss: 0.5371   12000 / 12000</p>\n",
       "        <progress value='12000' max='12000', style='width: 100%'>12000</progress>\n",
       "    "
      ],
      "text/plain": [
       "<IPython.core.display.HTML object>"
      ]
     },
     "metadata": {},
     "output_type": "display_data"
    },
    {
     "name": "stdout",
     "output_type": "stream",
     "text": [
      "Validation Loss:  0.5371\n",
      "Validation accuracy: 73.5750%\n",
      "\"Best Loss\": 0.5370613514108864\n",
      "\n",
      "Validation Loss has gone up 0 times.\n",
      "\n"
     ]
    },
    {
     "data": {
      "text/html": [
       "\n",
       "        <p>Loss: 0.5300   36002 / 36002</p>\n",
       "        <progress value='36002' max='36002', style='width: 100%'>36002</progress>\n",
       "    "
      ],
      "text/plain": [
       "<IPython.core.display.HTML object>"
      ]
     },
     "metadata": {},
     "output_type": "display_data"
    },
    {
     "name": "stdout",
     "output_type": "stream",
     "text": [
      "Epoch:  2\n",
      "Training loss: 0.53\n"
     ]
    },
    {
     "data": {
      "text/html": [
       "\n",
       "        <p>Loss: 0.5479   36002 / 36002</p>\n",
       "        <progress value='36002' max='36002', style='width: 100%'>36002</progress>\n",
       "    "
      ],
      "text/plain": [
       "<IPython.core.display.HTML object>"
      ]
     },
     "metadata": {},
     "output_type": "display_data"
    },
    {
     "name": "stdout",
     "output_type": "stream",
     "text": [
      "Training Loss:  0.5479\n",
      "Training accuracy: 72.7793%\n"
     ]
    },
    {
     "data": {
      "text/html": [
       "\n",
       "        <p>Loss: 0.5490   12000 / 12000</p>\n",
       "        <progress value='12000' max='12000', style='width: 100%'>12000</progress>\n",
       "    "
      ],
      "text/plain": [
       "<IPython.core.display.HTML object>"
      ]
     },
     "metadata": {},
     "output_type": "display_data"
    },
    {
     "name": "stdout",
     "output_type": "stream",
     "text": [
      "Validation Loss:  0.549\n",
      "Validation accuracy: 72.3417%\n",
      "Validation Loss has gone up 1 times.\n",
      "\n"
     ]
    },
    {
     "data": {
      "text/html": [
       "\n",
       "        <p>Loss: 0.5231   36002 / 36002</p>\n",
       "        <progress value='36002' max='36002', style='width: 100%'>36002</progress>\n",
       "    "
      ],
      "text/plain": [
       "<IPython.core.display.HTML object>"
      ]
     },
     "metadata": {},
     "output_type": "display_data"
    },
    {
     "name": "stdout",
     "output_type": "stream",
     "text": [
      "Epoch:  3\n",
      "Training loss: 0.5231\n"
     ]
    },
    {
     "data": {
      "text/html": [
       "\n",
       "        <p>Loss: 0.5188   36002 / 36002</p>\n",
       "        <progress value='36002' max='36002', style='width: 100%'>36002</progress>\n",
       "    "
      ],
      "text/plain": [
       "<IPython.core.display.HTML object>"
      ]
     },
     "metadata": {},
     "output_type": "display_data"
    },
    {
     "name": "stdout",
     "output_type": "stream",
     "text": [
      "Training Loss:  0.5188\n",
      "Training accuracy: 74.5292%\n"
     ]
    },
    {
     "data": {
      "text/html": [
       "\n",
       "        <p>Loss: 0.5209   12000 / 12000</p>\n",
       "        <progress value='12000' max='12000', style='width: 100%'>12000</progress>\n",
       "    "
      ],
      "text/plain": [
       "<IPython.core.display.HTML object>"
      ]
     },
     "metadata": {},
     "output_type": "display_data"
    },
    {
     "name": "stdout",
     "output_type": "stream",
     "text": [
      "Validation Loss:  0.5209\n",
      "Validation accuracy: 74.3000%\n",
      "\"Best Loss\": 0.520895466525504\n",
      "\n",
      "Validation Loss has gone up 0 times.\n",
      "\n"
     ]
    },
    {
     "data": {
      "text/html": [
       "\n",
       "        <p>Loss: 0.5178   36002 / 36002</p>\n",
       "        <progress value='36002' max='36002', style='width: 100%'>36002</progress>\n",
       "    "
      ],
      "text/plain": [
       "<IPython.core.display.HTML object>"
      ]
     },
     "metadata": {},
     "output_type": "display_data"
    },
    {
     "name": "stdout",
     "output_type": "stream",
     "text": [
      "Epoch:  4\n",
      "Training loss: 0.5178\n"
     ]
    },
    {
     "data": {
      "text/html": [
       "\n",
       "        <p>Loss: 0.5130   36002 / 36002</p>\n",
       "        <progress value='36002' max='36002', style='width: 100%'>36002</progress>\n",
       "    "
      ],
      "text/plain": [
       "<IPython.core.display.HTML object>"
      ]
     },
     "metadata": {},
     "output_type": "display_data"
    },
    {
     "name": "stdout",
     "output_type": "stream",
     "text": [
      "Training Loss:  0.513\n",
      "Training accuracy: 75.2319%\n"
     ]
    },
    {
     "data": {
      "text/html": [
       "\n",
       "        <p>Loss: 0.5132   12000 / 12000</p>\n",
       "        <progress value='12000' max='12000', style='width: 100%'>12000</progress>\n",
       "    "
      ],
      "text/plain": [
       "<IPython.core.display.HTML object>"
      ]
     },
     "metadata": {},
     "output_type": "display_data"
    },
    {
     "name": "stdout",
     "output_type": "stream",
     "text": [
      "Validation Loss:  0.5132\n",
      "Validation accuracy: 75.1833%\n",
      "\"Best Loss\": 0.5132116294921715\n",
      "\n",
      "Validation Loss has gone up 0 times.\n",
      "\n"
     ]
    },
    {
     "data": {
      "text/html": [
       "\n",
       "        <p>Loss: 0.5140   36002 / 36002</p>\n",
       "        <progress value='36002' max='36002', style='width: 100%'>36002</progress>\n",
       "    "
      ],
      "text/plain": [
       "<IPython.core.display.HTML object>"
      ]
     },
     "metadata": {},
     "output_type": "display_data"
    },
    {
     "name": "stdout",
     "output_type": "stream",
     "text": [
      "Epoch:  5\n",
      "Training loss: 0.514\n"
     ]
    },
    {
     "data": {
      "text/html": [
       "\n",
       "        <p>Loss: 0.5099   36002 / 36002</p>\n",
       "        <progress value='36002' max='36002', style='width: 100%'>36002</progress>\n",
       "    "
      ],
      "text/plain": [
       "<IPython.core.display.HTML object>"
      ]
     },
     "metadata": {},
     "output_type": "display_data"
    },
    {
     "name": "stdout",
     "output_type": "stream",
     "text": [
      "Training Loss:  0.5099\n",
      "Training accuracy: 75.4958%\n"
     ]
    },
    {
     "data": {
      "text/html": [
       "\n",
       "        <p>Loss: 0.5114   12000 / 12000</p>\n",
       "        <progress value='12000' max='12000', style='width: 100%'>12000</progress>\n",
       "    "
      ],
      "text/plain": [
       "<IPython.core.display.HTML object>"
      ]
     },
     "metadata": {},
     "output_type": "display_data"
    },
    {
     "name": "stdout",
     "output_type": "stream",
     "text": [
      "Validation Loss:  0.5114\n",
      "Validation accuracy: 75.4083%\n",
      "\"Best Loss\": 0.5114462220288336\n",
      "\n",
      "Validation Loss has gone up 0 times.\n",
      "\n"
     ]
    },
    {
     "data": {
      "text/html": [
       "\n",
       "        <p>Loss: 0.5096   36002 / 36002</p>\n",
       "        <progress value='36002' max='36002', style='width: 100%'>36002</progress>\n",
       "    "
      ],
      "text/plain": [
       "<IPython.core.display.HTML object>"
      ]
     },
     "metadata": {},
     "output_type": "display_data"
    },
    {
     "name": "stdout",
     "output_type": "stream",
     "text": [
      "Epoch:  6\n",
      "Training loss: 0.5096\n"
     ]
    },
    {
     "data": {
      "text/html": [
       "\n",
       "        <p>Loss: 0.5056   36002 / 36002</p>\n",
       "        <progress value='36002' max='36002', style='width: 100%'>36002</progress>\n",
       "    "
      ],
      "text/plain": [
       "<IPython.core.display.HTML object>"
      ]
     },
     "metadata": {},
     "output_type": "display_data"
    },
    {
     "name": "stdout",
     "output_type": "stream",
     "text": [
      "Training Loss:  0.5056\n",
      "Training accuracy: 75.4208%\n"
     ]
    },
    {
     "data": {
      "text/html": [
       "\n",
       "        <p>Loss: 0.5085   12000 / 12000</p>\n",
       "        <progress value='12000' max='12000', style='width: 100%'>12000</progress>\n",
       "    "
      ],
      "text/plain": [
       "<IPython.core.display.HTML object>"
      ]
     },
     "metadata": {},
     "output_type": "display_data"
    },
    {
     "name": "stdout",
     "output_type": "stream",
     "text": [
      "Validation Loss:  0.5085\n",
      "Validation accuracy: 75.1083%\n",
      "\"Best Loss\": 0.5085436305467116\n",
      "\n",
      "Validation Loss has gone up 0 times.\n",
      "\n"
     ]
    },
    {
     "data": {
      "text/html": [
       "\n",
       "        <p>Loss: 0.5061   36002 / 36002</p>\n",
       "        <progress value='36002' max='36002', style='width: 100%'>36002</progress>\n",
       "    "
      ],
      "text/plain": [
       "<IPython.core.display.HTML object>"
      ]
     },
     "metadata": {},
     "output_type": "display_data"
    },
    {
     "name": "stdout",
     "output_type": "stream",
     "text": [
      "Epoch:  7\n",
      "Training loss: 0.5061\n"
     ]
    },
    {
     "data": {
      "text/html": [
       "\n",
       "        <p>Loss: 0.5058   36002 / 36002</p>\n",
       "        <progress value='36002' max='36002', style='width: 100%'>36002</progress>\n",
       "    "
      ],
      "text/plain": [
       "<IPython.core.display.HTML object>"
      ]
     },
     "metadata": {},
     "output_type": "display_data"
    },
    {
     "name": "stdout",
     "output_type": "stream",
     "text": [
      "Training Loss:  0.5058\n",
      "Training accuracy: 75.5764%\n"
     ]
    },
    {
     "data": {
      "text/html": [
       "\n",
       "        <p>Loss: 0.5086   12000 / 12000</p>\n",
       "        <progress value='12000' max='12000', style='width: 100%'>12000</progress>\n",
       "    "
      ],
      "text/plain": [
       "<IPython.core.display.HTML object>"
      ]
     },
     "metadata": {},
     "output_type": "display_data"
    },
    {
     "name": "stdout",
     "output_type": "stream",
     "text": [
      "Validation Loss:  0.5086\n",
      "Validation accuracy: 75.2333%\n",
      "Validation Loss has gone up 1 times.\n",
      "\n"
     ]
    },
    {
     "data": {
      "text/html": [
       "\n",
       "        <p>Loss: 0.5046   36002 / 36002</p>\n",
       "        <progress value='36002' max='36002', style='width: 100%'>36002</progress>\n",
       "    "
      ],
      "text/plain": [
       "<IPython.core.display.HTML object>"
      ]
     },
     "metadata": {},
     "output_type": "display_data"
    },
    {
     "name": "stdout",
     "output_type": "stream",
     "text": [
      "Epoch:  8\n",
      "Training loss: 0.5046\n"
     ]
    },
    {
     "data": {
      "text/html": [
       "\n",
       "        <p>Loss: 0.4982   36002 / 36002</p>\n",
       "        <progress value='36002' max='36002', style='width: 100%'>36002</progress>\n",
       "    "
      ],
      "text/plain": [
       "<IPython.core.display.HTML object>"
      ]
     },
     "metadata": {},
     "output_type": "display_data"
    },
    {
     "name": "stdout",
     "output_type": "stream",
     "text": [
      "Training Loss:  0.4982\n",
      "Training accuracy: 75.9402%\n"
     ]
    },
    {
     "data": {
      "text/html": [
       "\n",
       "        <p>Loss: 0.5015   12000 / 12000</p>\n",
       "        <progress value='12000' max='12000', style='width: 100%'>12000</progress>\n",
       "    "
      ],
      "text/plain": [
       "<IPython.core.display.HTML object>"
      ]
     },
     "metadata": {},
     "output_type": "display_data"
    },
    {
     "name": "stdout",
     "output_type": "stream",
     "text": [
      "Validation Loss:  0.5015\n",
      "Validation accuracy: 75.8167%\n",
      "\"Best Loss\": 0.501499263530082\n",
      "\n",
      "Validation Loss has gone up 0 times.\n",
      "\n"
     ]
    },
    {
     "data": {
      "text/html": [
       "\n",
       "        <p>Loss: 0.5031   36002 / 36002</p>\n",
       "        <progress value='36002' max='36002', style='width: 100%'>36002</progress>\n",
       "    "
      ],
      "text/plain": [
       "<IPython.core.display.HTML object>"
      ]
     },
     "metadata": {},
     "output_type": "display_data"
    },
    {
     "name": "stdout",
     "output_type": "stream",
     "text": [
      "Epoch:  9\n",
      "Training loss: 0.5031\n"
     ]
    },
    {
     "data": {
      "text/html": [
       "\n",
       "        <p>Loss: 0.5075   36002 / 36002</p>\n",
       "        <progress value='36002' max='36002', style='width: 100%'>36002</progress>\n",
       "    "
      ],
      "text/plain": [
       "<IPython.core.display.HTML object>"
      ]
     },
     "metadata": {},
     "output_type": "display_data"
    },
    {
     "name": "stdout",
     "output_type": "stream",
     "text": [
      "Training Loss:  0.5075\n",
      "Training accuracy: 75.5708%\n"
     ]
    },
    {
     "data": {
      "text/html": [
       "\n",
       "        <p>Loss: 0.5089   12000 / 12000</p>\n",
       "        <progress value='12000' max='12000', style='width: 100%'>12000</progress>\n",
       "    "
      ],
      "text/plain": [
       "<IPython.core.display.HTML object>"
      ]
     },
     "metadata": {},
     "output_type": "display_data"
    },
    {
     "name": "stdout",
     "output_type": "stream",
     "text": [
      "Validation Loss:  0.5089\n",
      "Validation accuracy: 75.3167%\n",
      "Validation Loss has gone up 1 times.\n",
      "\n"
     ]
    },
    {
     "data": {
      "text/html": [
       "\n",
       "        <p>Loss: 0.4987   36002 / 36002</p>\n",
       "        <progress value='36002' max='36002', style='width: 100%'>36002</progress>\n",
       "    "
      ],
      "text/plain": [
       "<IPython.core.display.HTML object>"
      ]
     },
     "metadata": {},
     "output_type": "display_data"
    },
    {
     "name": "stdout",
     "output_type": "stream",
     "text": [
      "Epoch:  10\n",
      "Training loss: 0.4987\n"
     ]
    },
    {
     "data": {
      "text/html": [
       "\n",
       "        <p>Loss: 0.5090   36002 / 36002</p>\n",
       "        <progress value='36002' max='36002', style='width: 100%'>36002</progress>\n",
       "    "
      ],
      "text/plain": [
       "<IPython.core.display.HTML object>"
      ]
     },
     "metadata": {},
     "output_type": "display_data"
    },
    {
     "name": "stdout",
     "output_type": "stream",
     "text": [
      "Training Loss:  0.509\n",
      "Training accuracy: 74.3514%\n"
     ]
    },
    {
     "data": {
      "text/html": [
       "\n",
       "        <p>Loss: 0.5119   12000 / 12000</p>\n",
       "        <progress value='12000' max='12000', style='width: 100%'>12000</progress>\n",
       "    "
      ],
      "text/plain": [
       "<IPython.core.display.HTML object>"
      ]
     },
     "metadata": {},
     "output_type": "display_data"
    },
    {
     "name": "stdout",
     "output_type": "stream",
     "text": [
      "Validation Loss:  0.5119\n",
      "Validation accuracy: 74.7083%\n",
      "Validation Loss has gone up 2 times.\n",
      "\n"
     ]
    },
    {
     "data": {
      "text/html": [
       "\n",
       "        <p>Loss: 0.5183   12000 / 12000</p>\n",
       "        <progress value='12000' max='12000', style='width: 100%'>12000</progress>\n",
       "    "
      ],
      "text/plain": [
       "<IPython.core.display.HTML object>"
      ]
     },
     "metadata": {},
     "output_type": "display_data"
    },
    {
     "name": "stdout",
     "output_type": "stream",
     "text": [
      "Validation Loss:  0.5183\n",
      "Validation accuracy: 73.7583%\n"
     ]
    },
    {
     "data": {
      "image/png": "[encoded data removed]",
      "text/plain": [
       "<Figure size 720x432 with 1 Axes>"
      ]
     },
     "metadata": {
      "needs_background": "light"
     },
     "output_type": "display_data"
    }
   ],
   "source": [
    "'''\n",
    "high pass\n",
    "'''\n",
    "\n",
    "s_epoch      = 1\n",
    "num_epochs   = 300\n",
    "lr_rate      = 1e-2\n",
    "load_model   = False\n",
    "model_name   = 'SVMModel'\n",
    "path         = './results'\n",
    "\n",
    "svm_model = SVM(nn).to(device)\n",
    "criterion = torch.nn.SoftMarginLoss()\n",
    "optimizer = torch.optim.SGD(svm_model.parameters(), lr=lr_rate, weight_decay=1e-3, momentum=0.9)\n",
    "\n",
    "if load_model:\n",
    "    svm_model.load_state_dict(torch.load(''))\n",
    "    \n",
    "def svm_lbls(T):\n",
    "    T[torch.nonzero((T < 0.0))] = 0\n",
    "    return T\n",
    "\n",
    "train_losses, valid_losses = train(svm_model, \n",
    "                                   optimizer, \n",
    "                                   criterion, \n",
    "                                   trn_dl, \n",
    "                                   val_dl,\n",
    "                                   model_name,\n",
    "                                   path,\n",
    "                                   acc_thresh=0.0,\n",
    "                                   label_transform=svm_lbls,\n",
    "                                   predicter=nn.Tanh(),\n",
    "                                  choice = 'high_pass')\n",
    "test_losses = []\n",
    "evaluate(svm_model,\n",
    "         optimizer,\n",
    "         criterion,\n",
    "         0,\n",
    "         tst_dl,\n",
    "         test_losses,\n",
    "         \"\",\n",
    "         \"\",\n",
    "         acc_thresh=0.0,\n",
    "         label_transform=svm_lbls,\n",
    "         predicter=nn.Tanh(),\n",
    "         validation=False,\n",
    "        choice = 'high_pass')\n",
    "\n",
    "epochs = range(1, len(train_losses) + 1)\n",
    "epoch_ticks = [i if i % 5 == 0 else 0 for i in epochs]\n",
    "    \n",
    "plt.figure(figsize=(10,6))\n",
    "plt.plot(epochs, train_losses, label='Training loss')\n",
    "plt.plot(epochs, valid_losses, label='Validation loss')\n",
    "plt.legend()\n",
    "plt.title('Learning curves')\n",
    "plt.xlabel('Epoch')\n",
    "plt.ylabel('Loss')\n",
    "plt.xticks(epoch_ticks)\n",
    "plt.show()"
   ]
  },
  {
   "cell_type": "code",
   "execution_count": null,
   "metadata": {},
   "outputs": [],
   "source": []
  },
  {
   "cell_type": "code",
   "execution_count": null,
   "metadata": {},
   "outputs": [],
   "source": []
  },
  {
   "cell_type": "code",
   "execution_count": null,
   "metadata": {},
   "outputs": [],
   "source": []
  },
  {
   "cell_type": "code",
   "execution_count": null,
   "metadata": {},
   "outputs": [],
   "source": []
  },
  {
   "cell_type": "code",
   "execution_count": null,
   "metadata": {},
   "outputs": [],
   "source": []
  },
  {
   "cell_type": "code",
   "execution_count": 10,
   "metadata": {
    "colab": {},
    "colab_type": "code",
    "id": "uzgC9YvV9foq"
   },
   "outputs": [],
   "source": [
    "full_dataloader = get_dataloaders(dataset=DeepFakeHDF5Dataset(), full_dataset=True)"
   ]
  },
  {
   "cell_type": "code",
   "execution_count": 11,
   "metadata": {
    "colab": {
     "base_uri": "https://localhost:8080/",
     "height": 35
    },
    "colab_type": "code",
    "id": "_kdXjvbBABLs",
    "outputId": "d4176e7e-ea07-4ad5-c14f-2744d5babc1c"
   },
   "outputs": [
    {
     "name": "stdout",
     "output_type": "stream",
     "text": [
      "torch.Size([60002, 182])\n"
     ]
    }
   ],
   "source": [
    "(x, y) = next(iter(full_dataloader))\n",
    "print(x.shape)"
   ]
  },
  {
   "cell_type": "code",
   "execution_count": 16,
   "metadata": {
    "colab": {
     "base_uri": "https://localhost:8080/",
     "height": 69
    },
    "colab_type": "code",
    "id": "xkGul8snDCr4",
    "outputId": "98a375a8-ed10-45bd-856b-6a056194ce37"
   },
   "outputs": [
    {
     "name": "stdout",
     "output_type": "stream",
     "text": [
      "K-means example with 60,002 points in dimension 182, K = 2:\n",
      "Timing for 50 iterations: 103.14213s = 50 x 2.06284s\n",
      "\n"
     ]
    }
   ],
   "source": [
    "# Manual Standardization\n",
    "from models import KMeans\n",
    "mu = torch.mean(x, dim=1).unsqueeze(-1)\n",
    "std = 1\n",
    "X = (x.sub(other=mu))/std\n",
    "cl, c = KMeans().run(X, K=2, Niter=50)"
   ]
  },
  {
   "cell_type": "code",
   "execution_count": 17,
   "metadata": {
    "colab": {
     "base_uri": "https://localhost:8080/",
     "height": 173
    },
    "colab_type": "code",
    "id": "x6mLjHp_HodB",
    "outputId": "0d7ca75a-086d-49ef-b0f9-44f831904a14"
   },
   "outputs": [
    {
     "name": "stdout",
     "output_type": "stream",
     "text": [
      "torch.Size([60002])\n",
      "torch.Size([2, 182])\n",
      "torch.Size([60002])\n",
      "tensor([0, 1, 1,  ..., 1, 1, 0])\n",
      "tensor([1, 0, 1,  ..., 0, 0, 0])\n",
      "tensor([-1,  1,  0,  ...,  1,  1,  0])\n",
      "torch.Size([60002])\n",
      "tensor([False, False,  True,  ..., False, False,  True])\n",
      "Accuracy: 0.521216 or 0.478784 \n"
     ]
    }
   ],
   "source": [
    "print(cl.size())\n",
    "print(c.size())\n",
    "y = y.squeeze(-1).long()\n",
    "print(y.size())\n",
    "print(cl)\n",
    "print(y)\n",
    "sub = (cl - y)\n",
    "print(sub)\n",
    "print(sub.size())\n",
    "print(cl == y)\n",
    "accuracy = 1 - torch.mean((cl == y).float())\n",
    "print(\"Accuracy: %f or %f \" % (accuracy, (1-accuracy)))"
   ]
  },
  {
   "cell_type": "code",
   "execution_count": 18,
   "metadata": {
    "colab": {
     "base_uri": "https://localhost:8080/",
     "height": 52
    },
    "colab_type": "code",
    "id": "QDlKzZ27NJ0B",
    "outputId": "90ea66f3-a5c3-4d16-da49-97c2a65cc0f7"
   },
   "outputs": [
    {
     "name": "stderr",
     "output_type": "stream",
     "text": [
      "[running kmeans]: 1it [00:00,  5.89it/s, center_shift=9194.229492, iteration=1, tol=0.000100]"
     ]
    },
    {
     "name": "stdout",
     "output_type": "stream",
     "text": [
      "running k-means on cuda:0..\n"
     ]
    },
    {
     "name": "stderr",
     "output_type": "stream",
     "text": [
      "[running kmeans]: 14it [00:02,  5.71it/s, center_shift=0.000000, iteration=14, tol=0.000100] \n"
     ]
    }
   ],
   "source": [
    "# data\n",
    "(x, y) = next(iter(full_dataloader))\n",
    "data_size, dims, num_clusters = x.size(0), 2, 2\n",
    "mu = torch.mean(x, dim=1).unsqueeze(-1)\n",
    "std = 1\n",
    "X = (x.sub(other=mu))/std\n",
    "# kmeans\n",
    "cluster_ids_x, cluster_centers = kmeans(\n",
    "    X=X, num_clusters=num_clusters, distance='euclidean', device=torch.device('cuda:0')\n",
    ")"
   ]
  },
  {
   "cell_type": "code",
   "execution_count": 19,
   "metadata": {
    "colab": {
     "base_uri": "https://localhost:8080/",
     "height": 69
    },
    "colab_type": "code",
    "id": "CX6jeEH1N906",
    "outputId": "a5cbc7a6-2851-4f7c-d263-70fedeeadb34"
   },
   "outputs": [
    {
     "name": "stdout",
     "output_type": "stream",
     "text": [
      "torch.Size([60002])\n",
      "tensor([0, 1, 1,  ..., 1, 0, 0])\n",
      "Accuracy: 0.478767 or 0.521233 \n"
     ]
    }
   ],
   "source": [
    "\n",
    "print(cluster_ids_x.size())\n",
    "print(cluster_ids_x)\n",
    "y = y.squeeze(-1).long()\n",
    "accuracy = torch.mean((cluster_ids_x == y).float())\n",
    "print(\"Accuracy: %f or %f \" % (accuracy, (1-accuracy)))"
   ]
  },
  {
   "cell_type": "code",
   "execution_count": 20,
   "metadata": {
    "colab": {
     "base_uri": "https://localhost:8080/",
     "height": 87
    },
    "colab_type": "code",
    "id": "qQnuahSabWp0",
    "outputId": "a958a835-a24e-4a3f-90ec-95ea38241d50"
   },
   "outputs": [
    {
     "name": "stdout",
     "output_type": "stream",
     "text": [
      "(60002,)\n",
      "(60002,)\n",
      "(60002,)\n",
      "Average KM: 0.4787673744208526 or 0.5212326255791474\n"
     ]
    }
   ],
   "source": [
    "from sklearn.cluster import KMeans\n",
    "k = 2\n",
    "kmeans = KMeans(n_clusters=k)\n",
    "kmeans = kmeans.fit(X)\n",
    "labels = kmeans.predict(X)\n",
    "Y = y.squeeze(-1).numpy()\n",
    "print(Y.shape)\n",
    "print(labels.shape)\n",
    "res =labels+Y\n",
    "cont=0\n",
    "print(res.shape)\n",
    "for z in range(len(res)):\n",
    "    if res[z] == 1:\n",
    "        cont+=1\n",
    "print(\"Average KM: \" + str(1-cont/len(res)) + \" or \" + str(cont/len(res)))"
   ]
  },
  {
   "cell_type": "code",
   "execution_count": null,
   "metadata": {},
   "outputs": [],
   "source": []
  },
  {
   "cell_type": "code",
   "execution_count": null,
   "metadata": {},
   "outputs": [],
   "source": []
  },
  {
   "cell_type": "code",
   "execution_count": 28,
   "metadata": {},
   "outputs": [
    {
     "name": "stdout",
     "output_type": "stream",
     "text": [
      "torch.Size([60002, 182])\n",
      "K-means example with 60,002 points in dimension 60, K = 2:\n",
      "Timing for 50 iterations: 34.65564s = 50 x 0.69311s\n",
      "\n"
     ]
    },
    {
     "name": "stderr",
     "output_type": "stream",
     "text": [
      "[running kmeans]: 1it [00:00,  8.90it/s, center_shift=13142.171875, iteration=1, tol=0.000100]"
     ]
    },
    {
     "name": "stdout",
     "output_type": "stream",
     "text": [
      "running k-means on cuda:0..\n"
     ]
    },
    {
     "name": "stderr",
     "output_type": "stream",
     "text": [
      "[running kmeans]: 15it [00:02,  5.96it/s, center_shift=0.000000, iteration=15, tol=0.000100]  "
     ]
    },
    {
     "name": "stdout",
     "output_type": "stream",
     "text": [
      "Accuracy: 0.478784 or 0.521216 \n"
     ]
    },
    {
     "name": "stderr",
     "output_type": "stream",
     "text": [
      "\n"
     ]
    }
   ],
   "source": [
    "'''\n",
    "low pass\n",
    "'''\n",
    "from models import KMeans\n",
    "from kmeans_pytorch import kmeans\n",
    "\n",
    "(x, y) = next(iter(full_dataloader))\n",
    "print(x.shape)\n",
    "nn = int(x.shape[1]/3)\n",
    "\n",
    "x = x[:, :nn]\n",
    "mu = torch.mean(x, dim=1).unsqueeze(-1)\n",
    "std = 1\n",
    "X = (x.sub(other=mu))/std\n",
    "cl, c = KMeans().run(X, K=2, Niter=50)\n",
    "y = y.squeeze(-1).long()\n",
    "sub = (cl - y)\n",
    "accuracy = 1 - torch.mean((cl == y).float())\n",
    "\n",
    "# data\n",
    "(x, y) = next(iter(full_dataloader))\n",
    "data_size, dims, num_clusters = x.size(0), 2, 2\n",
    "mu = torch.mean(x, dim=1).unsqueeze(-1)\n",
    "std = 1\n",
    "X = (x.sub(other=mu))/std\n",
    "# kmeans\n",
    "cluster_ids_x, cluster_centers = kmeans(\n",
    "    X=X, num_clusters=num_clusters, distance='euclidean', device=torch.device('cuda:0')\n",
    ")\n",
    "\n",
    "y = y.squeeze(-1).long()\n",
    "accuracy = torch.mean((cluster_ids_x == y).float())\n",
    "print(\"Accuracy: %f or %f \" % (accuracy, (1-accuracy)))"
   ]
  },
  {
   "cell_type": "code",
   "execution_count": 33,
   "metadata": {},
   "outputs": [
    {
     "name": "stdout",
     "output_type": "stream",
     "text": [
      "torch.Size([60002, 182]) torch.Size([60002, 1])\n",
      "K-means example with 60,002 points in dimension 60, K = 2:\n",
      "Timing for 50 iterations: 34.25104s = 50 x 0.68502s\n",
      "\n"
     ]
    },
    {
     "name": "stderr",
     "output_type": "stream",
     "text": [
      "[running kmeans]: 1it [00:00,  8.22it/s, center_shift=11711.589844, iteration=1, tol=0.000100]"
     ]
    },
    {
     "name": "stdout",
     "output_type": "stream",
     "text": [
      "running k-means on cuda:0..\n"
     ]
    },
    {
     "name": "stderr",
     "output_type": "stream",
     "text": [
      "[running kmeans]: 15it [00:02,  6.22it/s, center_shift=0.000000, iteration=15, tol=0.000100]  "
     ]
    },
    {
     "name": "stdout",
     "output_type": "stream",
     "text": [
      "Accuracy: 0.478767 or 0.521233 \n"
     ]
    },
    {
     "name": "stderr",
     "output_type": "stream",
     "text": [
      "\n"
     ]
    }
   ],
   "source": [
    "'''\n",
    "band pass\n",
    "'''\n",
    "from models import KMeans\n",
    "from kmeans_pytorch import kmeans\n",
    "\n",
    "(x, y) = next(iter(full_dataloader))\n",
    "print(x.shape, y.shape)\n",
    "nn = int(x.shape[1]/3)\n",
    "\n",
    "x = x[:, nn:2*nn]\n",
    "mu = torch.mean(x, dim=1).unsqueeze(-1)\n",
    "std = 1\n",
    "X = (x.sub(other=mu))/std\n",
    "cl, c = KMeans().run(X, K=2, Niter=50)\n",
    "y = y.squeeze(-1).long()\n",
    "sub = (cl - y)\n",
    "accuracy = 1 - torch.mean((cl == y).float())\n",
    "\n",
    "# data\n",
    "(x, y) = next(iter(full_dataloader))\n",
    "data_size, dims, num_clusters = x.size(0), 2, 2\n",
    "mu = torch.mean(x, dim=1).unsqueeze(-1)\n",
    "std = 1\n",
    "X = (x.sub(other=mu))/std\n",
    "# kmeans\n",
    "cluster_ids_x, cluster_centers = kmeans(\n",
    "    X=X, num_clusters=num_clusters, distance='euclidean', device=torch.device('cuda:0')\n",
    ")\n",
    "\n",
    "y = y.squeeze(-1).long()\n",
    "accuracy = torch.mean((cluster_ids_x == y).float())\n",
    "print(\"Accuracy: %f or %f \" % (accuracy, (1-accuracy)))"
   ]
  },
  {
   "cell_type": "code",
   "execution_count": 34,
   "metadata": {},
   "outputs": [
    {
     "name": "stdout",
     "output_type": "stream",
     "text": [
      "torch.Size([60002, 182])\n",
      "K-means example with 60,002 points in dimension 60, K = 2:\n",
      "Timing for 50 iterations: 34.04984s = 50 x 0.68100s\n",
      "\n"
     ]
    },
    {
     "name": "stderr",
     "output_type": "stream",
     "text": [
      "[running kmeans]: 1it [00:00,  5.82it/s, center_shift=10654.470703, iteration=1, tol=0.000100]"
     ]
    },
    {
     "name": "stdout",
     "output_type": "stream",
     "text": [
      "running k-means on cuda:0..\n"
     ]
    },
    {
     "name": "stderr",
     "output_type": "stream",
     "text": [
      "[running kmeans]: 12it [00:02,  5.71it/s, center_shift=0.000000, iteration=12, tol=0.000100]  "
     ]
    },
    {
     "name": "stdout",
     "output_type": "stream",
     "text": [
      "Accuracy: 0.521233 or 0.478767 \n"
     ]
    },
    {
     "name": "stderr",
     "output_type": "stream",
     "text": [
      "\n"
     ]
    }
   ],
   "source": [
    "'''\n",
    "high pass\n",
    "'''\n",
    "(x, y) = next(iter(full_dataloader))\n",
    "print(x.shape)\n",
    "nn = int(x.shape[1]/3)\n",
    "\n",
    "x = x[:, x.shape[1]-nn:]\n",
    "mu = torch.mean(x, dim=1).unsqueeze(-1)\n",
    "std = 1\n",
    "X = (x.sub(other=mu))/std\n",
    "cl, c = KMeans().run(X, K=2, Niter=50)\n",
    "y = y.squeeze(-1).long()\n",
    "sub = (cl - y)\n",
    "accuracy = 1 - torch.mean((cl == y).float())\n",
    "\n",
    "# data\n",
    "(x, y) = next(iter(full_dataloader))\n",
    "data_size, dims, num_clusters = x.size(0), 2, 2\n",
    "mu = torch.mean(x, dim=1).unsqueeze(-1)\n",
    "std = 1\n",
    "X = (x.sub(other=mu))/std\n",
    "# kmeans\n",
    "cluster_ids_x, cluster_centers = kmeans(\n",
    "    X=X, num_clusters=num_clusters, distance='euclidean', device=torch.device('cuda:0')\n",
    ")\n",
    "\n",
    "y = y.squeeze(-1).long()\n",
    "accuracy = torch.mean((cluster_ids_x == y).float())\n",
    "print(\"Accuracy: %f or %f \" % (accuracy, (1-accuracy)))"
   ]
  },
  {
   "cell_type": "code",
   "execution_count": null,
   "metadata": {
    "colab": {},
    "colab_type": "code",
    "id": "9dGAwCcD26iA"
   },
   "outputs": [],
   "source": [
    "# import numpy as np\n",
    "# import matplotlib.pyplot as plt\n",
    "# import pickle\n",
    "\n",
    "# num = 5\n",
    "# LR = 0\n",
    "# SVM = 0\n",
    "# SVM_r = 0\n",
    "# SVM_p = 0\n",
    "\n",
    "\n",
    "# for z in range(num):\n",
    "#     # read python dict back from the file\n",
    "#     data = None\n",
    "#     lbls = None\n",
    "#     og_d = None\n",
    "#     with h5py.File(fhq_hdf5_pt, 'r') as hdf5_file: \n",
    "#         data = hdf5_file['fft_data'][:]\n",
    "#         lbls = hdf5_file['lbl_data'][:]\n",
    "#         og_d = hdf5_file['orgn_data'][:]\n",
    "\n",
    "#     X = data \n",
    "#     y = lbls \n",
    "\n",
    "\n",
    "#     try:\n",
    "\n",
    "#         from sklearn.model_selection import train_test_split\n",
    "#         X_train, X_test, y_train, y_test = train_test_split(X, y, test_size = 0.2)\n",
    "\n",
    "#         from sklearn.svm import SVC\n",
    "#         svclassifier = SVC(kernel='linear')\n",
    "#         svclassifier.fit(X_train, y_train)\n",
    "#         #print('Accuracy on test set: {:.3f}'.format(svclassifier.score(X_test, y_test)))\n",
    "               \n",
    "#         from sklearn.svm import SVC\n",
    "#         svclassifier_r = SVC(C=3.1, kernel='rbf', gamma=0.00002)\n",
    "#         svclassifier_r.fit(X_train, y_train)\n",
    "#         #print('Accuracy on test set: {:.3f}'.format(svclassifier_r.score(X_test, y_test)))\n",
    "                \n",
    "#         from sklearn.svm import SVC\n",
    "#         svclassifier_p = SVC(kernel='poly')\n",
    "#         svclassifier_p.fit(X_train, y_train)\n",
    "#         #print('Accuracy on test set: {:.3f}'.format(svclassifier_p.score(X_test, y_test)))\n",
    "        \n",
    "#         from sklearn.linear_model import LogisticRegression\n",
    "#         logreg = LogisticRegression(solver='liblinear', max_iter=1000)\n",
    "#         logreg.fit(X_train, y_train)\n",
    "#         #print('Accuracy on test set: {:.3f}'.format(logreg.score(X_test, y_test)))\n",
    "\n",
    "        \n",
    "#         SVM+=svclassifier.score(X_test, y_test)\n",
    "#         SVM_r+=svclassifier_r.score(X_test, y_test)\n",
    "#         SVM_p+=svclassifier_p.score(X_test, y_test)\n",
    "#         LR+=logreg.score(X_test, y_test)\n",
    "\n",
    " \n",
    "#     except:\n",
    "#         num-=1\n",
    "#         print(num)\n",
    "    \n",
    "# print(\"Average SVM: \"+str(SVM/num))\n",
    "# print(\"Average SVM_r: \"+str(SVM_r/num))\n",
    "# print(\"Average SVM_p: \"+str(SVM_p/num))\n",
    "# print(\"Average LR: \"+str(LR/num))"
   ]
  },
  {
   "cell_type": "code",
   "execution_count": null,
   "metadata": {
    "colab": {},
    "colab_type": "code",
    "id": "_qo70U6j-HQk"
   },
   "outputs": [],
   "source": []
  }
 ],
 "metadata": {
  "accelerator": "GPU",
  "colab": {
   "authorship_tag": "ABX9TyMGw8pic1FqoXbB5dh4XY+h",
   "collapsed_sections": [],
   "include_colab_link": true,
   "machine_shape": "hm",
   "mount_file_id": "https://github.com/avilaJorge/CSE253_FinalProject/blob/master/DeepFakeDetectionModel.ipynb",
   "name": "DeepFakeDetectionModel",
   "provenance": []
  },
  "kernelspec": {
   "display_name": "Python 3",
   "language": "python",
   "name": "python3"
  },
  "language_info": {
   "codemirror_mode": {
    "name": "ipython",
    "version": 3
   },
   "file_extension": ".py",
   "mimetype": "text/x-python",
   "name": "python",
   "nbconvert_exporter": "python",
   "pygments_lexer": "ipython3",
   "version": "3.7.3"
  }
 },
 "nbformat": 4,
 "nbformat_minor": 4
}
