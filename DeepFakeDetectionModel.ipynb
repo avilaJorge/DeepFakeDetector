{
  "nbformat": 4,
  "nbformat_minor": 0,
  "metadata": {
    "colab": {
      "name": "DeepFakeDetectionModel",
      "provenance": [],
      "machine_shape": "hm",
      "mount_file_id": "1oUma_1hYvI7_NNVnKvHgVAbI1Y2xWoxt",
      "authorship_tag": "ABX9TyNYwy8pk5RP1WfSlFR9Do+P",
      "include_colab_link": true
    },
    "kernelspec": {
      "name": "python3",
      "display_name": "Python 3"
    },
    "accelerator": "GPU"
  },
  "cells": [
    {
      "cell_type": "markdown",
      "metadata": {
        "id": "view-in-github",
        "colab_type": "text"
      },
      "source": [
        "<a href=\"https://colab.research.google.com/github/avilaJorge/CSE253_FinalProject/blob/master/DeepFakeDetectionModel.ipynb\" target=\"_parent\"><img src=\"https://colab.research.google.com/assets/colab-badge.svg\" alt=\"Open In Colab\"/></a>"
      ]
    },
    {
      "cell_type": "code",
      "metadata": {
        "id": "VSYnllVOHnHI",
        "colab_type": "code",
        "colab": {}
      },
      "source": [
        "!pip install gdown"
      ],
      "execution_count": 0,
      "outputs": []
    },
    {
      "cell_type": "code",
      "metadata": {
        "id": "MrLJOWM70-3i",
        "colab_type": "code",
        "colab": {}
      },
      "source": [
        "# imports pytorch\n",
        "import torch\n",
        "import torchvision.transforms as transforms\n",
        "from torch.utils.data import DataLoader\n",
        "\n",
        "# Numpy, Matplotlib, and PIL\n",
        "import numpy as np\n",
        "import matplotlib.pyplot as plt\n",
        "from PIL import Image\n",
        "\n",
        "# general imports\n",
        "import gdown\n",
        "import pathlib\n",
        "import pprint\n",
        "import tarfile\n",
        "\n",
        "download = False \n",
        "\n",
        "faces_hq = 'https://drive.google.com/uc?id=15UDKEI5kEl_BHiBqmjmfaho2JCw267oU'\n",
        "faces_hq = 'https://drive.google.com/uc?id=1AqbGw82ueBP3fNNVCbXZgOPPFsh2uNXm'\n",
        "faces_hq = 'https://drive.google.com/uc?id=1-bvJ5rN81ZUPGi8a9LEiB-K_QNwyhelh'\n",
        "faces_hq = 'https://drive.google.com/uc?id=1V2EnCH3ExXEy-8Eu_JhV4RUTh6tKSRUy'\n",
        "faces_hq = 'https://drive.google.com/uc?id=1fBbXsaVvfgDtWi5y2zl9ZoZiO46lqlD5'\n",
        "faces_hq = 'https://drive.google.com/uc?id=1vyEAtaZ9bSwPhHLKObaXnVMu-9rHywX6'\n",
        "\n",
        "device = torch.device(\"cuda:0\" if torch.cuda.is_available() else \"cpu\")"
      ],
      "execution_count": 0,
      "outputs": []
    },
    {
      "cell_type": "code",
      "metadata": {
        "id": "Zpv-A0SDIauz",
        "colab_type": "code",
        "colab": {}
      },
      "source": [
        "if download:\n",
        "    gdown.download(faces_hq, 'hq_faces.tar.gz', quiet=False)\n",
        "    !tar -xvzf ./hq_faces.tar.gz"
      ],
      "execution_count": 0,
      "outputs": []
    },
    {
      "cell_type": "code",
      "metadata": {
        "id": "A1tFLgluxNiK",
        "colab_type": "code",
        "colab": {
          "base_uri": "https://localhost:8080/",
          "height": 312
        },
        "outputId": "9423ca48-88f8-4c7e-bb9a-86f2025e410e"
      },
      "source": [
        "gpu_info = !nvidia-smi\n",
        "gpu_info = '\\n'.join(gpu_info)\n",
        "if gpu_info.find('failed') >= 0:\n",
        "  print('Select the Runtime → \"Change runtime type\" menu to enable a GPU accelerator, ')\n",
        "  print('and then re-execute this cell.')\n",
        "else:\n",
        "  print(gpu_info)"
      ],
      "execution_count": 28,
      "outputs": [
        {
          "output_type": "stream",
          "text": [
            "Mon Mar  9 04:10:01 2020       \n",
            "+-----------------------------------------------------------------------------+\n",
            "| NVIDIA-SMI 418.87.01    Driver Version: 418.87.01    CUDA Version: 10.1     |\n",
            "|-------------------------------+----------------------+----------------------+\n",
            "| GPU  Name        Persistence-M| Bus-Id        Disp.A | Volatile Uncorr. ECC |\n",
            "| Fan  Temp  Perf  Pwr:Usage/Cap|         Memory-Usage | GPU-Util  Compute M. |\n",
            "|===============================+======================+======================|\n",
            "|   0  Tesla K80           Off  | 00000000:00:04.0 Off |                    0 |\n",
            "| N/A   30C    P8    28W / 149W |     11MiB / 11441MiB |      0%      Default |\n",
            "+-------------------------------+----------------------+----------------------+\n",
            "                                                                               \n",
            "+-----------------------------------------------------------------------------+\n",
            "| Processes:                                                       GPU Memory |\n",
            "|  GPU       PID   Type   Process name                             Usage      |\n",
            "|=============================================================================|\n",
            "|  No running processes found                                                 |\n",
            "+-----------------------------------------------------------------------------+\n"
          ],
          "name": "stdout"
        }
      ]
    },
    {
      "cell_type": "markdown",
      "metadata": {
        "id": "XqH3pTrASgsO",
        "colab_type": "text"
      },
      "source": [
        "Source: [Efficient Radial Profile](https://stackoverflow.com/questions/21242011/most-efficient-way-to-calculate-radial-profile)\n",
        "\n",
        "\n",
        "---\n",
        "\n",
        "\n",
        "***numpy.bincount***\n",
        "\n",
        "`numpy.bincount(x, weights=None, minlength=0)`\n",
        "\n",
        "Count number of occurrences of each value in array of non-negative ints.\n",
        "\n",
        "> The number of bins (of size 1) is one larger than the largest value in x. If minlength is specified, there will be at least this number of bins in the output array (though it will be longer if necessary, depending on the contents of x). Each bin gives the number of occurrences of its index value in x. If weights is specified the input array is weighted by it, i.e. if a value n is found at position i, `out[n] += weight[i]` instead of `out[n] += 1`.\n",
        "\n",
        "---\n",
        "\n"
      ]
    },
    {
      "cell_type": "code",
      "metadata": {
        "colab_type": "code",
        "id": "PGIMYckCTfS9",
        "colab": {}
      },
      "source": [
        "def np_radial_profile(data, center):\n",
        "    y, x = np.indices((data.shape))\n",
        "    r = np.sqrt((x - center[0])**2 + (y - center[1])**2)\n",
        "    r = r.astype(np.int)\n",
        "\n",
        "    tbin = np.bincount(r.ravel(), data.ravel())\n",
        "    nr = np.bincount(r.ravel())\n",
        "    radialprofile = tbin / nr\n",
        "    return radialprofile \n",
        "\n",
        "def radial_profile(data, center):\n",
        "    y, x = np.indices((data.shape))\n",
        "    y, x = torch.from_numpy(y).to(device), torch.from_numpy(x).to(device)\n",
        "\n",
        "    r = torch.stack((torch.sub(x, center[0]), torch.sub(y, center[1])), dim=2).float()\n",
        "    r = torch.norm(r, dim=2).long()\n",
        "    tbin = torch.bincount(r.view(r.numel()), data.view(data.numel()))\n",
        "    nr   = torch.bincount(r.view(r.numel()))\n",
        "\n",
        "    radialprofile = torch.div(tbin, nr)\n",
        "    return radialprofile\n",
        "\n",
        "def np_magnitude_spectrum(img):\n",
        "    f = np.fft.fft2(img2)\n",
        "    f = np.fft.fftshift(f)\n",
        "    return 20*np.log(np.abs(f))\n",
        "\n",
        "def magnitude_spectrum(img):\n",
        "    t_img =  torch.rfft(img, signal_ndim=2, onesided=False) * 255\n",
        "    shifts = (int(t_img.size()[0]/2), int(t_img.size()[1]/2))\n",
        "    t_img = torch.roll(t_img, shifts=shifts, dims=(0, 1))\n",
        "    return 20*torch.log(torch.norm(t_img, dim=2))\n"
      ],
      "execution_count": 0,
      "outputs": []
    },
    {
      "cell_type": "code",
      "metadata": {
        "id": "yzicYWt7MEaO",
        "colab_type": "code",
        "outputId": "885c570d-d043-4703-b585-ee3e097783bc",
        "colab": {
          "base_uri": "https://localhost:8080/",
          "height": 513
        }
      },
      "source": [
        "img2 = Image.open('./Frequency/Faces-HQ/celebA-HQ_10K/0.jpg')\n",
        "# display(img2)\n",
        "img2 = img2.convert('L')\n",
        "img2.save('greyscale.png')\n",
        "\n",
        "mag_spectrum = np_magnitude_spectrum(img2)\n",
        "rad2 = np_radial_profile(mag_spectrum, center=(mag_spectrum.shape[0]/2, mag_spectrum.shape[1]/2))\n",
        "plt.plot(rad2)\n",
        "plt.show()\n",
        "\n",
        "t_img = torch.from_numpy(np.asarray(img2)).squeeze(0).float().to(device)\n",
        "ms = magnitude_spectrum(t_img)\n",
        "rad2 = radial_profile(ms, center=(ms.shape[0]/2, ms.shape[1]/2))\n",
        "plt.plot(rad2.cpu())\n",
        "plt.show()"
      ],
      "execution_count": 33,
      "outputs": [
        {
          "output_type": "display_data",
          "data": {
            "text/plain": [
              "<Figure size 432x288 with 1 Axes>"
            ],
            "image/png": "[encoded data removed]"
          },
          "metadata": {
            "tags": [],
            "needs_background": "light"
          }
        },
        {
          "output_type": "display_data",
          "data": {
            "text/plain": [
              "<Figure size 432x288 with 1 Axes>"
            ],
            "image/png": "[encoded data removed]"
          },
          "metadata": {
            "tags": [],
            "needs_background": "light"
          }
        }
      ]
    }
  ]
}