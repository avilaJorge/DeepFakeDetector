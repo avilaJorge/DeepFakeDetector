{
 "cells": [
  {
   "cell_type": "markdown",
   "metadata": {
    "colab_type": "text",
    "id": "view-in-github"
   },
   "source": [
    "<a href=\"https://colab.research.google.com/github/avilaJorge/CSE253_FinalProject/blob/master/DeepFakeDetectionModel.ipynb\" target=\"_parent\"><img src=\"https://colab.research.google.com/assets/colab-badge.svg\" alt=\"Open In Colab\"/></a>"
   ]
  },
  {
   "cell_type": "code",
   "execution_count": 1,
   "metadata": {},
   "outputs": [],
   "source": [
    "%run DeepFake_Dataloader.py\n",
    "%run utils.py"
   ]
  },
  {
   "cell_type": "code",
   "execution_count": 2,
   "metadata": {
    "colab": {},
    "colab_type": "code",
    "id": "MrLJOWM70-3i"
   },
   "outputs": [],
   "source": [
    "# imports pytorch\n",
    "import torch\n",
    "import torchvision.transforms as transforms\n",
    "from torch.utils.data import Dataset, DataLoader\n",
    "\n",
    "# Numpy, Matplotlib, and PIL\n",
    "import numpy as np\n",
    "import matplotlib.pyplot as plt\n",
    "\n",
    "# general imports\n",
    "import pprint\n",
    "\n",
    "# My imports\n",
    "from DeepFake_Dataloader import get_dataloaders\n",
    "from models import LinearRegression, save_model\n",
    "from utils import RunningAverage\n",
    "\n",
    "device = torch.device(\"cuda:0\" if torch.cuda.is_available() else \"cpu\")"
   ]
  },
  {
   "cell_type": "code",
   "execution_count": 3,
   "metadata": {
    "colab": {},
    "colab_type": "code",
    "id": "PGIMYckCTfS9"
   },
   "outputs": [],
   "source": [
    "trn_dl, val_dl, tst_dl = get_dataloaders()"
   ]
  },
  {
   "cell_type": "code",
   "execution_count": 4,
   "metadata": {},
   "outputs": [],
   "source": [
    "s_epoch      = 1\n",
    "num_epochs   = 500\n",
    "log_step     = 10e5\n",
    "lr_rate      = 1e-3\n",
    "best_loss    = float('inf')\n",
    "prev_loss    = float('inf')\n",
    "loss_inc_cnt = 0\n",
    "stp_erly_cnt = 4\n",
    "stop_early   = False\n",
    "load_model   = False\n",
    "model_name   = 'LogisticRegressionModel'\n",
    "\n",
    "lr_model = LinearRegression(725, 1500, 250).to(device)\n",
    "criterion = torch.nn.BCELoss()\n",
    "optimizer = torch.optim.SGD(lr_model.parameters(), lr=lr_rate)\n",
    "\n",
    "if load_model:\n",
    "    lr_model.load_state_dict(torch.load(''))"
   ]
  },
  {
   "cell_type": "code",
   "execution_count": 5,
   "metadata": {},
   "outputs": [],
   "source": [
    "def train(model, dataloader, validation_loader):\n",
    "    \n",
    "    train_losses = []\n",
    "    valid_losses = []\n",
    "    \n",
    "    # Train the models\n",
    "    total_step = len(dataloader.dataset)\n",
    "    for epoch in range(s_epoch, num_epochs):\n",
    "        \n",
    "        # create a progress bar\n",
    "        progress = ProgressMonitor(length=total_step)\n",
    "                                   \n",
    "        train_loss = MovingAverage()\n",
    "        \n",
    "        for i, (x, y) in enumerate(dataloader):\n",
    "            optimizer.zero_grad()\n",
    "\n",
    "            # Move to GPU\n",
    "            x = x.to(device)\n",
    "            y = y.to(device)\n",
    "\n",
    "            # Forward, backward and optimize\n",
    "            pred = model(x)\n",
    "            loss = criterion(pred, y)\n",
    "            loss.backward()\n",
    "            optimizer.step()\n",
    "            loss=loss.item()\n",
    "                                   \n",
    "            # update average loss\n",
    "            train_loss.update(loss)\n",
    "\n",
    "            # update progress bar\n",
    "            progress.update(x.shape[0], train_loss)\n",
    "        \n",
    "        print('Epoch: ', epoch)\n",
    "        print('Training loss:', train_loss)\n",
    "        train_losses.append(train_loss.value)\n",
    "        evaluate(model, epoch, validation_loader, valid_losses)\n",
    "        if stop_early:\n",
    "            break\n",
    "    \n",
    "    return train_losses, valid_losses\n",
    "\n",
    "def evaluate(model, epoch, data_loader, valid_losses, validation=True):\n",
    "\n",
    "    global best_loss\n",
    "    global prev_loss\n",
    "    global loss_inc_cnt\n",
    "    global stop_early\n",
    "                            \n",
    "\n",
    "    # keep track of predictions\n",
    "    y_predics = []\n",
    "    y_targets = []\n",
    "    \n",
    "    with torch.no_grad():\n",
    "                            \n",
    "        total_step = len(data_loader.dataset)\n",
    "        \n",
    "        # create a progress bar\n",
    "        progress = ProgressMonitor(length=total_step)\n",
    "        \n",
    "        losses = RunningAverage()\n",
    "        \n",
    "        for i, (x, y) in enumerate(data_loader):\n",
    "\n",
    "            # Move to GPU\n",
    "            x = x.to(device)\n",
    "            y = y.to(device)\n",
    "\n",
    "            # Evaluate\n",
    "            pred = model(x)\n",
    "            \n",
    "            loss = criterion(pred, y).item()\n",
    "                            \n",
    "            losses.update(loss)\n",
    "            y_predics.extend((pred > 0.5).float())\n",
    "            y_targets.extend(y)\n",
    "            \n",
    "            # update progress bar\n",
    "            progress.update(x.shape[0], losses)\n",
    "                            \n",
    "                                   \n",
    "        \n",
    "        loss = losses.value\n",
    "        print(\"Validation Loss: \", losses)\n",
    "        valid_losses.append(losses.value)\n",
    "\n",
    "        # Calculate validation accuracy\n",
    "        y_pred = torch.tensor(y_predics, dtype=torch.int64)\n",
    "        y_targ = torch.tensor(y_targets, dtype=torch.int64)\n",
    "        accuracy = torch.mean((y_pred == y_targ).float())\n",
    "        print('Validation accuracy: {:.4f}%'.format(float(accuracy) * 100))\n",
    "\n",
    "        if validation:\n",
    "            if best_loss > loss:\n",
    "                best_loss = loss\n",
    "                print('\"Best Loss\": ' + str(best_loss) + '\\n')\n",
    "                save_model(model, 'Best-' + model_name, dt, path)\n",
    "\n",
    "            loss_inc_cnt = loss_inc_cnt + 1 if prev_loss < loss else 0\n",
    "            if loss_inc_cnt > 2: stop_early = True\n",
    "            save_model(model, model_name, dt, path)\n",
    "            print(\"Validation Loss has gone up %d times.\\n\" % (loss_inc_cnt))\n",
    "            prev_loss = loss\n",
    "            if stop_early: \n",
    "                return loss\n",
    "        \n",
    "        return loss\n"
   ]
  },
  {
   "cell_type": "code",
   "execution_count": 6,
   "metadata": {},
   "outputs": [
    {
     "data": {
      "text/html": [
       "\n",
       "        <p>Loss: 0.6900   24000 / 24000</p>\n",
       "        <progress value='24000' max='24000', style='width: 100%'>24000</progress>\n",
       "    "
      ],
      "text/plain": [
       "<IPython.core.display.HTML object>"
      ]
     },
     "metadata": {},
     "output_type": "display_data"
    },
    {
     "name": "stdout",
     "output_type": "stream",
     "text": [
      "Epoch:  1\n",
      "Training loss: 0.69\n"
     ]
    },
    {
     "data": {
      "text/html": [
       "\n",
       "        <p>Loss: 0.6817   8000 / 8000</p>\n",
       "        <progress value='8000' max='8000', style='width: 100%'>8000</progress>\n",
       "    "
      ],
      "text/plain": [
       "<IPython.core.display.HTML object>"
      ]
     },
     "metadata": {},
     "output_type": "display_data"
    },
    {
     "name": "stdout",
     "output_type": "stream",
     "text": [
      "Validation Loss:  0.6817\n",
      "Validation accuracy: 72.4625%\n",
      "\"Best Loss\": 0.6816674508154392\n",
      "\n",
      "Validation Loss has gone up 0 times.\n",
      "\n"
     ]
    },
    {
     "data": {
      "text/html": [
       "\n",
       "        <p>Loss: 0.6806   24000 / 24000</p>\n",
       "        <progress value='24000' max='24000', style='width: 100%'>24000</progress>\n",
       "    "
      ],
      "text/plain": [
       "<IPython.core.display.HTML object>"
      ]
     },
     "metadata": {},
     "output_type": "display_data"
    },
    {
     "name": "stdout",
     "output_type": "stream",
     "text": [
      "Epoch:  2\n",
      "Training loss: 0.6806\n"
     ]
    },
    {
     "data": {
      "text/html": [
       "\n",
       "        <p>Loss: 0.6780   8000 / 8000</p>\n",
       "        <progress value='8000' max='8000', style='width: 100%'>8000</progress>\n",
       "    "
      ],
      "text/plain": [
       "<IPython.core.display.HTML object>"
      ]
     },
     "metadata": {},
     "output_type": "display_data"
    },
    {
     "name": "stdout",
     "output_type": "stream",
     "text": [
      "Validation Loss:  0.678\n",
      "Validation accuracy: 97.2125%\n",
      "\"Best Loss\": 0.6779766827821732\n",
      "\n",
      "Validation Loss has gone up 0 times.\n",
      "\n"
     ]
    },
    {
     "data": {
      "text/html": [
       "\n",
       "        <p>Loss: 0.6779   24000 / 24000</p>\n",
       "        <progress value='24000' max='24000', style='width: 100%'>24000</progress>\n",
       "    "
      ],
      "text/plain": [
       "<IPython.core.display.HTML object>"
      ]
     },
     "metadata": {},
     "output_type": "display_data"
    },
    {
     "name": "stdout",
     "output_type": "stream",
     "text": [
      "Epoch:  3\n",
      "Training loss: 0.6779\n"
     ]
    },
    {
     "data": {
      "text/html": [
       "\n",
       "        <p>Loss: 0.6760   8000 / 8000</p>\n",
       "        <progress value='8000' max='8000', style='width: 100%'>8000</progress>\n",
       "    "
      ],
      "text/plain": [
       "<IPython.core.display.HTML object>"
      ]
     },
     "metadata": {},
     "output_type": "display_data"
    },
    {
     "name": "stdout",
     "output_type": "stream",
     "text": [
      "Validation Loss:  0.676\n",
      "Validation accuracy: 74.7375%\n",
      "\"Best Loss\": 0.6759824603796005\n",
      "\n",
      "Validation Loss has gone up 0 times.\n",
      "\n"
     ]
    },
    {
     "data": {
      "text/html": [
       "\n",
       "        <p>Loss: 0.6747   24000 / 24000</p>\n",
       "        <progress value='24000' max='24000', style='width: 100%'>24000</progress>\n",
       "    "
      ],
      "text/plain": [
       "<IPython.core.display.HTML object>"
      ]
     },
     "metadata": {},
     "output_type": "display_data"
    },
    {
     "name": "stdout",
     "output_type": "stream",
     "text": [
      "Epoch:  4\n",
      "Training loss: 0.6747\n"
     ]
    },
    {
     "data": {
      "text/html": [
       "\n",
       "        <p>Loss: 0.6722   8000 / 8000</p>\n",
       "        <progress value='8000' max='8000', style='width: 100%'>8000</progress>\n",
       "    "
      ],
      "text/plain": [
       "<IPython.core.display.HTML object>"
      ]
     },
     "metadata": {},
     "output_type": "display_data"
    },
    {
     "name": "stdout",
     "output_type": "stream",
     "text": [
      "Validation Loss:  0.6722\n",
      "Validation accuracy: 97.6000%\n",
      "\"Best Loss\": 0.6721863523125648\n",
      "\n",
      "Validation Loss has gone up 0 times.\n",
      "\n"
     ]
    },
    {
     "data": {
      "text/html": [
       "\n",
       "        <p>Loss: 0.6720   24000 / 24000</p>\n",
       "        <progress value='24000' max='24000', style='width: 100%'>24000</progress>\n",
       "    "
      ],
      "text/plain": [
       "<IPython.core.display.HTML object>"
      ]
     },
     "metadata": {},
     "output_type": "display_data"
    },
    {
     "name": "stdout",
     "output_type": "stream",
     "text": [
      "Epoch:  5\n",
      "Training loss: 0.672\n"
     ]
    },
    {
     "data": {
      "text/html": [
       "\n",
       "        <p>Loss: 0.6702   8000 / 8000</p>\n",
       "        <progress value='8000' max='8000', style='width: 100%'>8000</progress>\n",
       "    "
      ],
      "text/plain": [
       "<IPython.core.display.HTML object>"
      ]
     },
     "metadata": {},
     "output_type": "display_data"
    },
    {
     "name": "stdout",
     "output_type": "stream",
     "text": [
      "Validation Loss:  0.6702\n",
      "Validation accuracy: 95.9125%\n",
      "\"Best Loss\": 0.6701926738023758\n",
      "\n",
      "Validation Loss has gone up 0 times.\n",
      "\n"
     ]
    },
    {
     "data": {
      "text/html": [
       "\n",
       "        <p>Loss: 0.6697   24000 / 24000</p>\n",
       "        <progress value='24000' max='24000', style='width: 100%'>24000</progress>\n",
       "    "
      ],
      "text/plain": [
       "<IPython.core.display.HTML object>"
      ]
     },
     "metadata": {},
     "output_type": "display_data"
    },
    {
     "name": "stdout",
     "output_type": "stream",
     "text": [
      "Epoch:  6\n",
      "Training loss: 0.6697\n"
     ]
    },
    {
     "data": {
      "text/html": [
       "\n",
       "        <p>Loss: 0.6674   8000 / 8000</p>\n",
       "        <progress value='8000' max='8000', style='width: 100%'>8000</progress>\n",
       "    "
      ],
      "text/plain": [
       "<IPython.core.display.HTML object>"
      ]
     },
     "metadata": {},
     "output_type": "display_data"
    },
    {
     "name": "stdout",
     "output_type": "stream",
     "text": [
      "Validation Loss:  0.6674\n",
      "Validation accuracy: 96.0250%\n",
      "\"Best Loss\": 0.6674040704965591\n",
      "\n",
      "Validation Loss has gone up 0 times.\n",
      "\n"
     ]
    },
    {
     "data": {
      "text/html": [
       "\n",
       "        <p>Loss: 0.6672   24000 / 24000</p>\n",
       "        <progress value='24000' max='24000', style='width: 100%'>24000</progress>\n",
       "    "
      ],
      "text/plain": [
       "<IPython.core.display.HTML object>"
      ]
     },
     "metadata": {},
     "output_type": "display_data"
    },
    {
     "name": "stdout",
     "output_type": "stream",
     "text": [
      "Epoch:  7\n",
      "Training loss: 0.6672\n"
     ]
    },
    {
     "data": {
      "text/html": [
       "\n",
       "        <p>Loss: 0.6667   8000 / 8000</p>\n",
       "        <progress value='8000' max='8000', style='width: 100%'>8000</progress>\n",
       "    "
      ],
      "text/plain": [
       "<IPython.core.display.HTML object>"
      ]
     },
     "metadata": {},
     "output_type": "display_data"
    },
    {
     "name": "stdout",
     "output_type": "stream",
     "text": [
      "Validation Loss:  0.6667\n",
      "Validation accuracy: 75.8500%\n",
      "\"Best Loss\": 0.6666902378201485\n",
      "\n",
      "Validation Loss has gone up 0 times.\n",
      "\n"
     ]
    },
    {
     "data": {
      "text/html": [
       "\n",
       "        <p>Loss: 0.6652   24000 / 24000</p>\n",
       "        <progress value='24000' max='24000', style='width: 100%'>24000</progress>\n",
       "    "
      ],
      "text/plain": [
       "<IPython.core.display.HTML object>"
      ]
     },
     "metadata": {},
     "output_type": "display_data"
    },
    {
     "name": "stdout",
     "output_type": "stream",
     "text": [
      "Epoch:  8\n",
      "Training loss: 0.6652\n"
     ]
    },
    {
     "data": {
      "text/html": [
       "\n",
       "        <p>Loss: 0.6631   8000 / 8000</p>\n",
       "        <progress value='8000' max='8000', style='width: 100%'>8000</progress>\n",
       "    "
      ],
      "text/plain": [
       "<IPython.core.display.HTML object>"
      ]
     },
     "metadata": {},
     "output_type": "display_data"
    },
    {
     "name": "stdout",
     "output_type": "stream",
     "text": [
      "Validation Loss:  0.6631\n",
      "Validation accuracy: 96.1750%\n",
      "\"Best Loss\": 0.6630728840827942\n",
      "\n",
      "Validation Loss has gone up 0 times.\n",
      "\n"
     ]
    },
    {
     "data": {
      "text/html": [
       "\n",
       "        <p>Loss: 0.6629   24000 / 24000</p>\n",
       "        <progress value='24000' max='24000', style='width: 100%'>24000</progress>\n",
       "    "
      ],
      "text/plain": [
       "<IPython.core.display.HTML object>"
      ]
     },
     "metadata": {},
     "output_type": "display_data"
    },
    {
     "name": "stdout",
     "output_type": "stream",
     "text": [
      "Epoch:  9\n",
      "Training loss: 0.6629\n"
     ]
    },
    {
     "data": {
      "text/html": [
       "\n",
       "        <p>Loss: 0.6599   8000 / 8000</p>\n",
       "        <progress value='8000' max='8000', style='width: 100%'>8000</progress>\n",
       "    "
      ],
      "text/plain": [
       "<IPython.core.display.HTML object>"
      ]
     },
     "metadata": {},
     "output_type": "display_data"
    },
    {
     "name": "stdout",
     "output_type": "stream",
     "text": [
      "Validation Loss:  0.6599\n",
      "Validation accuracy: 97.1125%\n",
      "\"Best Loss\": 0.6598874814808369\n",
      "\n",
      "Validation Loss has gone up 0 times.\n",
      "\n"
     ]
    },
    {
     "data": {
      "text/html": [
       "\n",
       "        <p>Loss: 0.6584   24000 / 24000</p>\n",
       "        <progress value='24000' max='24000', style='width: 100%'>24000</progress>\n",
       "    "
      ],
      "text/plain": [
       "<IPython.core.display.HTML object>"
      ]
     },
     "metadata": {},
     "output_type": "display_data"
    },
    {
     "name": "stdout",
     "output_type": "stream",
     "text": [
      "Epoch:  10\n",
      "Training loss: 0.6584\n"
     ]
    },
    {
     "data": {
      "text/html": [
       "\n",
       "        <p>Loss: 0.6572   8000 / 8000</p>\n",
       "        <progress value='8000' max='8000', style='width: 100%'>8000</progress>\n",
       "    "
      ],
      "text/plain": [
       "<IPython.core.display.HTML object>"
      ]
     },
     "metadata": {},
     "output_type": "display_data"
    },
    {
     "name": "stdout",
     "output_type": "stream",
     "text": [
      "Validation Loss:  0.6572\n",
      "Validation accuracy: 94.9125%\n",
      "\"Best Loss\": 0.6571775786578655\n",
      "\n",
      "Validation Loss has gone up 0 times.\n",
      "\n"
     ]
    },
    {
     "data": {
      "text/html": [
       "\n",
       "        <p>Loss: 0.6561   24000 / 24000</p>\n",
       "        <progress value='24000' max='24000', style='width: 100%'>24000</progress>\n",
       "    "
      ],
      "text/plain": [
       "<IPython.core.display.HTML object>"
      ]
     },
     "metadata": {},
     "output_type": "display_data"
    },
    {
     "name": "stdout",
     "output_type": "stream",
     "text": [
      "Epoch:  11\n",
      "Training loss: 0.6561\n"
     ]
    },
    {
     "data": {
      "text/html": [
       "\n",
       "        <p>Loss: 0.6495   8000 / 8000</p>\n",
       "        <progress value='8000' max='8000', style='width: 100%'>8000</progress>\n",
       "    "
      ],
      "text/plain": [
       "<IPython.core.display.HTML object>"
      ]
     },
     "metadata": {},
     "output_type": "display_data"
    },
    {
     "name": "stdout",
     "output_type": "stream",
     "text": [
      "Validation Loss:  0.6495\n",
      "Validation accuracy: 97.1000%\n",
      "\"Best Loss\": 0.6494952961802483\n",
      "\n",
      "Validation Loss has gone up 0 times.\n",
      "\n"
     ]
    },
    {
     "data": {
      "text/html": [
       "\n",
       "        <p>Loss: 0.6511   24000 / 24000</p>\n",
       "        <progress value='24000' max='24000', style='width: 100%'>24000</progress>\n",
       "    "
      ],
      "text/plain": [
       "<IPython.core.display.HTML object>"
      ]
     },
     "metadata": {},
     "output_type": "display_data"
    },
    {
     "name": "stdout",
     "output_type": "stream",
     "text": [
      "Epoch:  12\n",
      "Training loss: 0.6511\n"
     ]
    },
    {
     "data": {
      "text/html": [
       "\n",
       "        <p>Loss: 0.6510   8000 / 8000</p>\n",
       "        <progress value='8000' max='8000', style='width: 100%'>8000</progress>\n",
       "    "
      ],
      "text/plain": [
       "<IPython.core.display.HTML object>"
      ]
     },
     "metadata": {},
     "output_type": "display_data"
    },
    {
     "name": "stdout",
     "output_type": "stream",
     "text": [
      "Validation Loss:  0.651\n",
      "Validation accuracy: 96.9500%\n",
      "Validation Loss has gone up 1 times.\n",
      "\n"
     ]
    },
    {
     "data": {
      "text/html": [
       "\n",
       "        <p>Loss: 0.6501   24000 / 24000</p>\n",
       "        <progress value='24000' max='24000', style='width: 100%'>24000</progress>\n",
       "    "
      ],
      "text/plain": [
       "<IPython.core.display.HTML object>"
      ]
     },
     "metadata": {},
     "output_type": "display_data"
    },
    {
     "name": "stdout",
     "output_type": "stream",
     "text": [
      "Epoch:  13\n",
      "Training loss: 0.6501\n"
     ]
    },
    {
     "data": {
      "text/html": [
       "\n",
       "        <p>Loss: 0.6457   8000 / 8000</p>\n",
       "        <progress value='8000' max='8000', style='width: 100%'>8000</progress>\n",
       "    "
      ],
      "text/plain": [
       "<IPython.core.display.HTML object>"
      ]
     },
     "metadata": {},
     "output_type": "display_data"
    },
    {
     "name": "stdout",
     "output_type": "stream",
     "text": [
      "Validation Loss:  0.6457\n",
      "Validation accuracy: 97.3750%\n",
      "\"Best Loss\": 0.6457155644893646\n",
      "\n",
      "Validation Loss has gone up 0 times.\n",
      "\n"
     ]
    },
    {
     "data": {
      "text/html": [
       "\n",
       "        <p>Loss: 0.6453   24000 / 24000</p>\n",
       "        <progress value='24000' max='24000', style='width: 100%'>24000</progress>\n",
       "    "
      ],
      "text/plain": [
       "<IPython.core.display.HTML object>"
      ]
     },
     "metadata": {},
     "output_type": "display_data"
    },
    {
     "name": "stdout",
     "output_type": "stream",
     "text": [
      "Epoch:  14\n",
      "Training loss: 0.6453\n"
     ]
    },
    {
     "data": {
      "text/html": [
       "\n",
       "        <p>Loss: 0.6430   8000 / 8000</p>\n",
       "        <progress value='8000' max='8000', style='width: 100%'>8000</progress>\n",
       "    "
      ],
      "text/plain": [
       "<IPython.core.display.HTML object>"
      ]
     },
     "metadata": {},
     "output_type": "display_data"
    },
    {
     "name": "stdout",
     "output_type": "stream",
     "text": [
      "Validation Loss:  0.643\n",
      "Validation accuracy: 98.1250%\n",
      "\"Best Loss\": 0.6430418565869331\n",
      "\n",
      "Validation Loss has gone up 0 times.\n",
      "\n"
     ]
    },
    {
     "data": {
      "text/html": [
       "\n",
       "        <p>Loss: 0.6439   24000 / 24000</p>\n",
       "        <progress value='24000' max='24000', style='width: 100%'>24000</progress>\n",
       "    "
      ],
      "text/plain": [
       "<IPython.core.display.HTML object>"
      ]
     },
     "metadata": {},
     "output_type": "display_data"
    },
    {
     "name": "stdout",
     "output_type": "stream",
     "text": [
      "Epoch:  15\n",
      "Training loss: 0.6439\n"
     ]
    },
    {
     "data": {
      "text/html": [
       "\n",
       "        <p>Loss: 0.6389   8000 / 8000</p>\n",
       "        <progress value='8000' max='8000', style='width: 100%'>8000</progress>\n",
       "    "
      ],
      "text/plain": [
       "<IPython.core.display.HTML object>"
      ]
     },
     "metadata": {},
     "output_type": "display_data"
    },
    {
     "name": "stdout",
     "output_type": "stream",
     "text": [
      "Validation Loss:  0.6389\n",
      "Validation accuracy: 97.2125%\n",
      "\"Best Loss\": 0.6388912536203861\n",
      "\n",
      "Validation Loss has gone up 0 times.\n",
      "\n"
     ]
    },
    {
     "data": {
      "text/html": [
       "\n",
       "        <p>Loss: 0.6376   24000 / 24000</p>\n",
       "        <progress value='24000' max='24000', style='width: 100%'>24000</progress>\n",
       "    "
      ],
      "text/plain": [
       "<IPython.core.display.HTML object>"
      ]
     },
     "metadata": {},
     "output_type": "display_data"
    },
    {
     "name": "stdout",
     "output_type": "stream",
     "text": [
      "Epoch:  16\n",
      "Training loss: 0.6376\n"
     ]
    },
    {
     "data": {
      "text/html": [
       "\n",
       "        <p>Loss: 0.6339   8000 / 8000</p>\n",
       "        <progress value='8000' max='8000', style='width: 100%'>8000</progress>\n",
       "    "
      ],
      "text/plain": [
       "<IPython.core.display.HTML object>"
      ]
     },
     "metadata": {},
     "output_type": "display_data"
    },
    {
     "name": "stdout",
     "output_type": "stream",
     "text": [
      "Validation Loss:  0.6339\n",
      "Validation accuracy: 97.9375%\n",
      "\"Best Loss\": 0.6338548585772514\n",
      "\n",
      "Validation Loss has gone up 0 times.\n",
      "\n"
     ]
    },
    {
     "data": {
      "text/html": [
       "\n",
       "        <p>Loss: 0.6345   24000 / 24000</p>\n",
       "        <progress value='24000' max='24000', style='width: 100%'>24000</progress>\n",
       "    "
      ],
      "text/plain": [
       "<IPython.core.display.HTML object>"
      ]
     },
     "metadata": {},
     "output_type": "display_data"
    },
    {
     "name": "stdout",
     "output_type": "stream",
     "text": [
      "Epoch:  17\n",
      "Training loss: 0.6345\n"
     ]
    },
    {
     "data": {
      "text/html": [
       "\n",
       "        <p>Loss: 0.6303   8000 / 8000</p>\n",
       "        <progress value='8000' max='8000', style='width: 100%'>8000</progress>\n",
       "    "
      ],
      "text/plain": [
       "<IPython.core.display.HTML object>"
      ]
     },
     "metadata": {},
     "output_type": "display_data"
    },
    {
     "name": "stdout",
     "output_type": "stream",
     "text": [
      "Validation Loss:  0.6303\n",
      "Validation accuracy: 97.3000%\n",
      "\"Best Loss\": 0.6302971988916397\n",
      "\n",
      "Validation Loss has gone up 0 times.\n",
      "\n"
     ]
    },
    {
     "data": {
      "text/html": [
       "\n",
       "        <p>Loss: 0.6299   24000 / 24000</p>\n",
       "        <progress value='24000' max='24000', style='width: 100%'>24000</progress>\n",
       "    "
      ],
      "text/plain": [
       "<IPython.core.display.HTML object>"
      ]
     },
     "metadata": {},
     "output_type": "display_data"
    },
    {
     "name": "stdout",
     "output_type": "stream",
     "text": [
      "Epoch:  18\n",
      "Training loss: 0.6299\n"
     ]
    },
    {
     "data": {
      "text/html": [
       "\n",
       "        <p>Loss: 0.6378   8000 / 8000</p>\n",
       "        <progress value='8000' max='8000', style='width: 100%'>8000</progress>\n",
       "    "
      ],
      "text/plain": [
       "<IPython.core.display.HTML object>"
      ]
     },
     "metadata": {},
     "output_type": "display_data"
    },
    {
     "name": "stdout",
     "output_type": "stream",
     "text": [
      "Validation Loss:  0.6378\n",
      "Validation accuracy: 92.5125%\n",
      "Validation Loss has gone up 1 times.\n",
      "\n"
     ]
    },
    {
     "data": {
      "text/html": [
       "\n",
       "        <p>Loss: 0.6322   24000 / 24000</p>\n",
       "        <progress value='24000' max='24000', style='width: 100%'>24000</progress>\n",
       "    "
      ],
      "text/plain": [
       "<IPython.core.display.HTML object>"
      ]
     },
     "metadata": {},
     "output_type": "display_data"
    },
    {
     "name": "stdout",
     "output_type": "stream",
     "text": [
      "Epoch:  19\n",
      "Training loss: 0.6322\n"
     ]
    },
    {
     "data": {
      "text/html": [
       "\n",
       "        <p>Loss: 0.6208   8000 / 8000</p>\n",
       "        <progress value='8000' max='8000', style='width: 100%'>8000</progress>\n",
       "    "
      ],
      "text/plain": [
       "<IPython.core.display.HTML object>"
      ]
     },
     "metadata": {},
     "output_type": "display_data"
    },
    {
     "name": "stdout",
     "output_type": "stream",
     "text": [
      "Validation Loss:  0.6208\n",
      "Validation accuracy: 96.8875%\n",
      "\"Best Loss\": 0.6207776963710785\n",
      "\n",
      "Validation Loss has gone up 0 times.\n",
      "\n"
     ]
    },
    {
     "data": {
      "text/html": [
       "\n",
       "        <p>Loss: 0.6199   24000 / 24000</p>\n",
       "        <progress value='24000' max='24000', style='width: 100%'>24000</progress>\n",
       "    "
      ],
      "text/plain": [
       "<IPython.core.display.HTML object>"
      ]
     },
     "metadata": {},
     "output_type": "display_data"
    },
    {
     "name": "stdout",
     "output_type": "stream",
     "text": [
      "Epoch:  20\n",
      "Training loss: 0.6199\n"
     ]
    },
    {
     "data": {
      "text/html": [
       "\n",
       "        <p>Loss: 0.6207   8000 / 8000</p>\n",
       "        <progress value='8000' max='8000', style='width: 100%'>8000</progress>\n",
       "    "
      ],
      "text/plain": [
       "<IPython.core.display.HTML object>"
      ]
     },
     "metadata": {},
     "output_type": "display_data"
    },
    {
     "name": "stdout",
     "output_type": "stream",
     "text": [
      "Validation Loss:  0.6207\n",
      "Validation accuracy: 96.7375%\n",
      "\"Best Loss\": 0.6206548064947128\n",
      "\n",
      "Validation Loss has gone up 0 times.\n",
      "\n"
     ]
    },
    {
     "data": {
      "text/html": [
       "\n",
       "        <p>Loss: 0.6224   24000 / 24000</p>\n",
       "        <progress value='24000' max='24000', style='width: 100%'>24000</progress>\n",
       "    "
      ],
      "text/plain": [
       "<IPython.core.display.HTML object>"
      ]
     },
     "metadata": {},
     "output_type": "display_data"
    },
    {
     "name": "stdout",
     "output_type": "stream",
     "text": [
      "Epoch:  21\n",
      "Training loss: 0.6224\n"
     ]
    },
    {
     "data": {
      "text/html": [
       "\n",
       "        <p>Loss: 0.6138   8000 / 8000</p>\n",
       "        <progress value='8000' max='8000', style='width: 100%'>8000</progress>\n",
       "    "
      ],
      "text/plain": [
       "<IPython.core.display.HTML object>"
      ]
     },
     "metadata": {},
     "output_type": "display_data"
    },
    {
     "name": "stdout",
     "output_type": "stream",
     "text": [
      "Validation Loss:  0.6138\n",
      "Validation accuracy: 96.9250%\n",
      "\"Best Loss\": 0.6137791015207767\n",
      "\n",
      "Validation Loss has gone up 0 times.\n",
      "\n"
     ]
    },
    {
     "data": {
      "text/html": [
       "\n",
       "        <p>Loss: 0.6154   24000 / 24000</p>\n",
       "        <progress value='24000' max='24000', style='width: 100%'>24000</progress>\n",
       "    "
      ],
      "text/plain": [
       "<IPython.core.display.HTML object>"
      ]
     },
     "metadata": {},
     "output_type": "display_data"
    },
    {
     "name": "stdout",
     "output_type": "stream",
     "text": [
      "Epoch:  22\n",
      "Training loss: 0.6154\n"
     ]
    },
    {
     "data": {
      "text/html": [
       "\n",
       "        <p>Loss: 0.6087   8000 / 8000</p>\n",
       "        <progress value='8000' max='8000', style='width: 100%'>8000</progress>\n",
       "    "
      ],
      "text/plain": [
       "<IPython.core.display.HTML object>"
      ]
     },
     "metadata": {},
     "output_type": "display_data"
    },
    {
     "name": "stdout",
     "output_type": "stream",
     "text": [
      "Validation Loss:  0.6087\n",
      "Validation accuracy: 97.6625%\n",
      "\"Best Loss\": 0.6086914837360382\n",
      "\n",
      "Validation Loss has gone up 0 times.\n",
      "\n"
     ]
    },
    {
     "data": {
      "text/html": [
       "\n",
       "        <p>Loss: 0.6095   24000 / 24000</p>\n",
       "        <progress value='24000' max='24000', style='width: 100%'>24000</progress>\n",
       "    "
      ],
      "text/plain": [
       "<IPython.core.display.HTML object>"
      ]
     },
     "metadata": {},
     "output_type": "display_data"
    },
    {
     "name": "stdout",
     "output_type": "stream",
     "text": [
      "Epoch:  23\n",
      "Training loss: 0.6095\n"
     ]
    },
    {
     "data": {
      "text/html": [
       "\n",
       "        <p>Loss: 0.6071   8000 / 8000</p>\n",
       "        <progress value='8000' max='8000', style='width: 100%'>8000</progress>\n",
       "    "
      ],
      "text/plain": [
       "<IPython.core.display.HTML object>"
      ]
     },
     "metadata": {},
     "output_type": "display_data"
    },
    {
     "name": "stdout",
     "output_type": "stream",
     "text": [
      "Validation Loss:  0.6071\n",
      "Validation accuracy: 96.8500%\n",
      "\"Best Loss\": 0.6070546247065066\n",
      "\n",
      "Validation Loss has gone up 0 times.\n",
      "\n"
     ]
    },
    {
     "data": {
      "text/html": [
       "\n",
       "        <p>Loss: 0.6064   24000 / 24000</p>\n",
       "        <progress value='24000' max='24000', style='width: 100%'>24000</progress>\n",
       "    "
      ],
      "text/plain": [
       "<IPython.core.display.HTML object>"
      ]
     },
     "metadata": {},
     "output_type": "display_data"
    },
    {
     "name": "stdout",
     "output_type": "stream",
     "text": [
      "Epoch:  24\n",
      "Training loss: 0.6064\n"
     ]
    },
    {
     "data": {
      "text/html": [
       "\n",
       "        <p>Loss: 0.6031   8000 / 8000</p>\n",
       "        <progress value='8000' max='8000', style='width: 100%'>8000</progress>\n",
       "    "
      ],
      "text/plain": [
       "<IPython.core.display.HTML object>"
      ]
     },
     "metadata": {},
     "output_type": "display_data"
    },
    {
     "name": "stdout",
     "output_type": "stream",
     "text": [
      "Validation Loss:  0.6031\n",
      "Validation accuracy: 93.7875%\n",
      "\"Best Loss\": 0.6030888371169567\n",
      "\n",
      "Validation Loss has gone up 0 times.\n",
      "\n"
     ]
    },
    {
     "data": {
      "text/html": [
       "\n",
       "        <p>Loss: 0.6054   24000 / 24000</p>\n",
       "        <progress value='24000' max='24000', style='width: 100%'>24000</progress>\n",
       "    "
      ],
      "text/plain": [
       "<IPython.core.display.HTML object>"
      ]
     },
     "metadata": {},
     "output_type": "display_data"
    },
    {
     "name": "stdout",
     "output_type": "stream",
     "text": [
      "Epoch:  25\n",
      "Training loss: 0.6054\n"
     ]
    },
    {
     "data": {
      "text/html": [
       "\n",
       "        <p>Loss: 0.5932   8000 / 8000</p>\n",
       "        <progress value='8000' max='8000', style='width: 100%'>8000</progress>\n",
       "    "
      ],
      "text/plain": [
       "<IPython.core.display.HTML object>"
      ]
     },
     "metadata": {},
     "output_type": "display_data"
    },
    {
     "name": "stdout",
     "output_type": "stream",
     "text": [
      "Validation Loss:  0.5932\n",
      "Validation accuracy: 96.3125%\n",
      "\"Best Loss\": 0.5931674391031265\n",
      "\n",
      "Validation Loss has gone up 0 times.\n",
      "\n"
     ]
    },
    {
     "data": {
      "text/html": [
       "\n",
       "        <p>Loss: 0.5933   24000 / 24000</p>\n",
       "        <progress value='24000' max='24000', style='width: 100%'>24000</progress>\n",
       "    "
      ],
      "text/plain": [
       "<IPython.core.display.HTML object>"
      ]
     },
     "metadata": {},
     "output_type": "display_data"
    },
    {
     "name": "stdout",
     "output_type": "stream",
     "text": [
      "Epoch:  26\n",
      "Training loss: 0.5933\n"
     ]
    },
    {
     "data": {
      "text/html": [
       "\n",
       "        <p>Loss: 0.5970   8000 / 8000</p>\n",
       "        <progress value='8000' max='8000', style='width: 100%'>8000</progress>\n",
       "    "
      ],
      "text/plain": [
       "<IPython.core.display.HTML object>"
      ]
     },
     "metadata": {},
     "output_type": "display_data"
    },
    {
     "name": "stdout",
     "output_type": "stream",
     "text": [
      "Validation Loss:  0.597\n",
      "Validation accuracy: 92.8875%\n",
      "Validation Loss has gone up 1 times.\n",
      "\n"
     ]
    },
    {
     "data": {
      "text/html": [
       "\n",
       "        <p>Loss: 0.5966   24000 / 24000</p>\n",
       "        <progress value='24000' max='24000', style='width: 100%'>24000</progress>\n",
       "    "
      ],
      "text/plain": [
       "<IPython.core.display.HTML object>"
      ]
     },
     "metadata": {},
     "output_type": "display_data"
    },
    {
     "name": "stdout",
     "output_type": "stream",
     "text": [
      "Epoch:  27\n",
      "Training loss: 0.5966\n"
     ]
    },
    {
     "data": {
      "text/html": [
       "\n",
       "        <p>Loss: 0.5885   8000 / 8000</p>\n",
       "        <progress value='8000' max='8000', style='width: 100%'>8000</progress>\n",
       "    "
      ],
      "text/plain": [
       "<IPython.core.display.HTML object>"
      ]
     },
     "metadata": {},
     "output_type": "display_data"
    },
    {
     "name": "stdout",
     "output_type": "stream",
     "text": [
      "Validation Loss:  0.5885\n",
      "Validation accuracy: 96.9750%\n",
      "\"Best Loss\": 0.5884986855089664\n",
      "\n",
      "Validation Loss has gone up 0 times.\n",
      "\n"
     ]
    },
    {
     "data": {
      "text/html": [
       "\n",
       "        <p>Loss: 0.5896   24000 / 24000</p>\n",
       "        <progress value='24000' max='24000', style='width: 100%'>24000</progress>\n",
       "    "
      ],
      "text/plain": [
       "<IPython.core.display.HTML object>"
      ]
     },
     "metadata": {},
     "output_type": "display_data"
    },
    {
     "name": "stdout",
     "output_type": "stream",
     "text": [
      "Epoch:  28\n",
      "Training loss: 0.5896\n"
     ]
    },
    {
     "data": {
      "text/html": [
       "\n",
       "        <p>Loss: 0.5830   8000 / 8000</p>\n",
       "        <progress value='8000' max='8000', style='width: 100%'>8000</progress>\n",
       "    "
      ],
      "text/plain": [
       "<IPython.core.display.HTML object>"
      ]
     },
     "metadata": {},
     "output_type": "display_data"
    },
    {
     "name": "stdout",
     "output_type": "stream",
     "text": [
      "Validation Loss:  0.583\n",
      "Validation accuracy: 97.7625%\n",
      "\"Best Loss\": 0.5829918198287487\n",
      "\n",
      "Validation Loss has gone up 0 times.\n",
      "\n"
     ]
    },
    {
     "data": {
      "text/html": [
       "\n",
       "        <p>Loss: 0.5821   24000 / 24000</p>\n",
       "        <progress value='24000' max='24000', style='width: 100%'>24000</progress>\n",
       "    "
      ],
      "text/plain": [
       "<IPython.core.display.HTML object>"
      ]
     },
     "metadata": {},
     "output_type": "display_data"
    },
    {
     "name": "stdout",
     "output_type": "stream",
     "text": [
      "Epoch:  29\n",
      "Training loss: 0.5821\n"
     ]
    },
    {
     "data": {
      "text/html": [
       "\n",
       "        <p>Loss: 0.6023   8000 / 8000</p>\n",
       "        <progress value='8000' max='8000', style='width: 100%'>8000</progress>\n",
       "    "
      ],
      "text/plain": [
       "<IPython.core.display.HTML object>"
      ]
     },
     "metadata": {},
     "output_type": "display_data"
    },
    {
     "name": "stdout",
     "output_type": "stream",
     "text": [
      "Validation Loss:  0.6023\n",
      "Validation accuracy: 87.9875%\n",
      "Validation Loss has gone up 1 times.\n",
      "\n"
     ]
    },
    {
     "data": {
      "text/html": [
       "\n",
       "        <p>Loss: 0.5962   24000 / 24000</p>\n",
       "        <progress value='24000' max='24000', style='width: 100%'>24000</progress>\n",
       "    "
      ],
      "text/plain": [
       "<IPython.core.display.HTML object>"
      ]
     },
     "metadata": {},
     "output_type": "display_data"
    },
    {
     "name": "stdout",
     "output_type": "stream",
     "text": [
      "Epoch:  30\n",
      "Training loss: 0.5962\n"
     ]
    },
    {
     "data": {
      "text/html": [
       "\n",
       "        <p>Loss: 0.5774   8000 / 8000</p>\n",
       "        <progress value='8000' max='8000', style='width: 100%'>8000</progress>\n",
       "    "
      ],
      "text/plain": [
       "<IPython.core.display.HTML object>"
      ]
     },
     "metadata": {},
     "output_type": "display_data"
    },
    {
     "name": "stdout",
     "output_type": "stream",
     "text": [
      "Validation Loss:  0.5774\n",
      "Validation accuracy: 96.7375%\n",
      "\"Best Loss\": 0.5773835480213165\n",
      "\n",
      "Validation Loss has gone up 0 times.\n",
      "\n"
     ]
    },
    {
     "data": {
      "text/html": [
       "\n",
       "        <p>Loss: 0.5796   24000 / 24000</p>\n",
       "        <progress value='24000' max='24000', style='width: 100%'>24000</progress>\n",
       "    "
      ],
      "text/plain": [
       "<IPython.core.display.HTML object>"
      ]
     },
     "metadata": {},
     "output_type": "display_data"
    },
    {
     "name": "stdout",
     "output_type": "stream",
     "text": [
      "Epoch:  31\n",
      "Training loss: 0.5796\n"
     ]
    },
    {
     "data": {
      "text/html": [
       "\n",
       "        <p>Loss: 0.5669   8000 / 8000</p>\n",
       "        <progress value='8000' max='8000', style='width: 100%'>8000</progress>\n",
       "    "
      ],
      "text/plain": [
       "<IPython.core.display.HTML object>"
      ]
     },
     "metadata": {},
     "output_type": "display_data"
    },
    {
     "name": "stdout",
     "output_type": "stream",
     "text": [
      "Validation Loss:  0.5669\n",
      "Validation accuracy: 97.7375%\n",
      "\"Best Loss\": 0.5668670274317265\n",
      "\n",
      "Validation Loss has gone up 0 times.\n",
      "\n"
     ]
    },
    {
     "data": {
      "text/html": [
       "\n",
       "        <p>Loss: 0.5654   24000 / 24000</p>\n",
       "        <progress value='24000' max='24000', style='width: 100%'>24000</progress>\n",
       "    "
      ],
      "text/plain": [
       "<IPython.core.display.HTML object>"
      ]
     },
     "metadata": {},
     "output_type": "display_data"
    },
    {
     "name": "stdout",
     "output_type": "stream",
     "text": [
      "Epoch:  32\n",
      "Training loss: 0.5654\n"
     ]
    },
    {
     "data": {
      "text/html": [
       "\n",
       "        <p>Loss: 0.5710   8000 / 8000</p>\n",
       "        <progress value='8000' max='8000', style='width: 100%'>8000</progress>\n",
       "    "
      ],
      "text/plain": [
       "<IPython.core.display.HTML object>"
      ]
     },
     "metadata": {},
     "output_type": "display_data"
    },
    {
     "name": "stdout",
     "output_type": "stream",
     "text": [
      "Validation Loss:  0.571\n",
      "Validation accuracy: 95.3500%\n",
      "Validation Loss has gone up 1 times.\n",
      "\n"
     ]
    },
    {
     "data": {
      "text/html": [
       "\n",
       "        <p>Loss: 0.5718   24000 / 24000</p>\n",
       "        <progress value='24000' max='24000', style='width: 100%'>24000</progress>\n",
       "    "
      ],
      "text/plain": [
       "<IPython.core.display.HTML object>"
      ]
     },
     "metadata": {},
     "output_type": "display_data"
    },
    {
     "name": "stdout",
     "output_type": "stream",
     "text": [
      "Epoch:  33\n",
      "Training loss: 0.5718\n"
     ]
    },
    {
     "data": {
      "text/html": [
       "\n",
       "        <p>Loss: 0.5578   8000 / 8000</p>\n",
       "        <progress value='8000' max='8000', style='width: 100%'>8000</progress>\n",
       "    "
      ],
      "text/plain": [
       "<IPython.core.display.HTML object>"
      ]
     },
     "metadata": {},
     "output_type": "display_data"
    },
    {
     "name": "stdout",
     "output_type": "stream",
     "text": [
      "Validation Loss:  0.5578\n",
      "Validation accuracy: 98.0500%\n",
      "\"Best Loss\": 0.5578147768974304\n",
      "\n",
      "Validation Loss has gone up 0 times.\n",
      "\n"
     ]
    },
    {
     "data": {
      "text/html": [
       "\n",
       "        <p>Loss: 0.5630   24000 / 24000</p>\n",
       "        <progress value='24000' max='24000', style='width: 100%'>24000</progress>\n",
       "    "
      ],
      "text/plain": [
       "<IPython.core.display.HTML object>"
      ]
     },
     "metadata": {},
     "output_type": "display_data"
    },
    {
     "name": "stdout",
     "output_type": "stream",
     "text": [
      "Epoch:  34\n",
      "Training loss: 0.563\n"
     ]
    },
    {
     "data": {
      "text/html": [
       "\n",
       "        <p>Loss: 0.5579   8000 / 8000</p>\n",
       "        <progress value='8000' max='8000', style='width: 100%'>8000</progress>\n",
       "    "
      ],
      "text/plain": [
       "<IPython.core.display.HTML object>"
      ]
     },
     "metadata": {},
     "output_type": "display_data"
    },
    {
     "name": "stdout",
     "output_type": "stream",
     "text": [
      "Validation Loss:  0.5579\n",
      "Validation accuracy: 97.4625%\n",
      "Validation Loss has gone up 1 times.\n",
      "\n"
     ]
    },
    {
     "data": {
      "text/html": [
       "\n",
       "        <p>Loss: 0.5628   24000 / 24000</p>\n",
       "        <progress value='24000' max='24000', style='width: 100%'>24000</progress>\n",
       "    "
      ],
      "text/plain": [
       "<IPython.core.display.HTML object>"
      ]
     },
     "metadata": {},
     "output_type": "display_data"
    },
    {
     "name": "stdout",
     "output_type": "stream",
     "text": [
      "Epoch:  35\n",
      "Training loss: 0.5628\n"
     ]
    },
    {
     "data": {
      "text/html": [
       "\n",
       "        <p>Loss: 0.5533   8000 / 8000</p>\n",
       "        <progress value='8000' max='8000', style='width: 100%'>8000</progress>\n",
       "    "
      ],
      "text/plain": [
       "<IPython.core.display.HTML object>"
      ]
     },
     "metadata": {},
     "output_type": "display_data"
    },
    {
     "name": "stdout",
     "output_type": "stream",
     "text": [
      "Validation Loss:  0.5533\n",
      "Validation accuracy: 96.7625%\n",
      "\"Best Loss\": 0.5533257126808167\n",
      "\n",
      "Validation Loss has gone up 0 times.\n",
      "\n"
     ]
    },
    {
     "data": {
      "text/html": [
       "\n",
       "        <p>Loss: 0.5546   24000 / 24000</p>\n",
       "        <progress value='24000' max='24000', style='width: 100%'>24000</progress>\n",
       "    "
      ],
      "text/plain": [
       "<IPython.core.display.HTML object>"
      ]
     },
     "metadata": {},
     "output_type": "display_data"
    },
    {
     "name": "stdout",
     "output_type": "stream",
     "text": [
      "Epoch:  36\n",
      "Training loss: 0.5546\n"
     ]
    },
    {
     "data": {
      "text/html": [
       "\n",
       "        <p>Loss: 0.5502   8000 / 8000</p>\n",
       "        <progress value='8000' max='8000', style='width: 100%'>8000</progress>\n",
       "    "
      ],
      "text/plain": [
       "<IPython.core.display.HTML object>"
      ]
     },
     "metadata": {},
     "output_type": "display_data"
    },
    {
     "name": "stdout",
     "output_type": "stream",
     "text": [
      "Validation Loss:  0.5502\n",
      "Validation accuracy: 95.9625%\n",
      "\"Best Loss\": 0.550211600959301\n",
      "\n",
      "Validation Loss has gone up 0 times.\n",
      "\n"
     ]
    },
    {
     "data": {
      "text/html": [
       "\n",
       "        <p>Loss: 0.5504   24000 / 24000</p>\n",
       "        <progress value='24000' max='24000', style='width: 100%'>24000</progress>\n",
       "    "
      ],
      "text/plain": [
       "<IPython.core.display.HTML object>"
      ]
     },
     "metadata": {},
     "output_type": "display_data"
    },
    {
     "name": "stdout",
     "output_type": "stream",
     "text": [
      "Epoch:  37\n",
      "Training loss: 0.5504\n"
     ]
    },
    {
     "data": {
      "text/html": [
       "\n",
       "        <p>Loss: 0.5417   8000 / 8000</p>\n",
       "        <progress value='8000' max='8000', style='width: 100%'>8000</progress>\n",
       "    "
      ],
      "text/plain": [
       "<IPython.core.display.HTML object>"
      ]
     },
     "metadata": {},
     "output_type": "display_data"
    },
    {
     "name": "stdout",
     "output_type": "stream",
     "text": [
      "Validation Loss:  0.5417\n",
      "Validation accuracy: 97.9000%\n",
      "\"Best Loss\": 0.5417055785655976\n",
      "\n",
      "Validation Loss has gone up 0 times.\n",
      "\n"
     ]
    },
    {
     "data": {
      "text/html": [
       "\n",
       "        <p>Loss: 0.5417   24000 / 24000</p>\n",
       "        <progress value='24000' max='24000', style='width: 100%'>24000</progress>\n",
       "    "
      ],
      "text/plain": [
       "<IPython.core.display.HTML object>"
      ]
     },
     "metadata": {},
     "output_type": "display_data"
    },
    {
     "name": "stdout",
     "output_type": "stream",
     "text": [
      "Epoch:  38\n",
      "Training loss: 0.5417\n"
     ]
    },
    {
     "data": {
      "text/html": [
       "\n",
       "        <p>Loss: 0.5369   8000 / 8000</p>\n",
       "        <progress value='8000' max='8000', style='width: 100%'>8000</progress>\n",
       "    "
      ],
      "text/plain": [
       "<IPython.core.display.HTML object>"
      ]
     },
     "metadata": {},
     "output_type": "display_data"
    },
    {
     "name": "stdout",
     "output_type": "stream",
     "text": [
      "Validation Loss:  0.5369\n",
      "Validation accuracy: 97.8125%\n",
      "\"Best Loss\": 0.5369181483983994\n",
      "\n",
      "Validation Loss has gone up 0 times.\n",
      "\n"
     ]
    },
    {
     "data": {
      "text/html": [
       "\n",
       "        <p>Loss: 0.5385   24000 / 24000</p>\n",
       "        <progress value='24000' max='24000', style='width: 100%'>24000</progress>\n",
       "    "
      ],
      "text/plain": [
       "<IPython.core.display.HTML object>"
      ]
     },
     "metadata": {},
     "output_type": "display_data"
    },
    {
     "name": "stdout",
     "output_type": "stream",
     "text": [
      "Epoch:  39\n",
      "Training loss: 0.5385\n"
     ]
    },
    {
     "data": {
      "text/html": [
       "\n",
       "        <p>Loss: 0.5352   8000 / 8000</p>\n",
       "        <progress value='8000' max='8000', style='width: 100%'>8000</progress>\n",
       "    "
      ],
      "text/plain": [
       "<IPython.core.display.HTML object>"
      ]
     },
     "metadata": {},
     "output_type": "display_data"
    },
    {
     "name": "stdout",
     "output_type": "stream",
     "text": [
      "Validation Loss:  0.5352\n",
      "Validation accuracy: 97.9125%\n",
      "\"Best Loss\": 0.5352153964340687\n",
      "\n",
      "Validation Loss has gone up 0 times.\n",
      "\n"
     ]
    },
    {
     "data": {
      "text/html": [
       "\n",
       "        <p>Loss: 0.5361   24000 / 24000</p>\n",
       "        <progress value='24000' max='24000', style='width: 100%'>24000</progress>\n",
       "    "
      ],
      "text/plain": [
       "<IPython.core.display.HTML object>"
      ]
     },
     "metadata": {},
     "output_type": "display_data"
    },
    {
     "name": "stdout",
     "output_type": "stream",
     "text": [
      "Epoch:  40\n",
      "Training loss: 0.5361\n"
     ]
    },
    {
     "data": {
      "text/html": [
       "\n",
       "        <p>Loss: 0.5349   8000 / 8000</p>\n",
       "        <progress value='8000' max='8000', style='width: 100%'>8000</progress>\n",
       "    "
      ],
      "text/plain": [
       "<IPython.core.display.HTML object>"
      ]
     },
     "metadata": {},
     "output_type": "display_data"
    },
    {
     "name": "stdout",
     "output_type": "stream",
     "text": [
      "Validation Loss:  0.5349\n",
      "Validation accuracy: 97.6750%\n",
      "\"Best Loss\": 0.5348772928118706\n",
      "\n",
      "Validation Loss has gone up 0 times.\n",
      "\n"
     ]
    },
    {
     "data": {
      "text/html": [
       "\n",
       "        <p>Loss: 0.5335   24000 / 24000</p>\n",
       "        <progress value='24000' max='24000', style='width: 100%'>24000</progress>\n",
       "    "
      ],
      "text/plain": [
       "<IPython.core.display.HTML object>"
      ]
     },
     "metadata": {},
     "output_type": "display_data"
    },
    {
     "name": "stdout",
     "output_type": "stream",
     "text": [
      "Epoch:  41\n",
      "Training loss: 0.5335\n"
     ]
    },
    {
     "data": {
      "text/html": [
       "\n",
       "        <p>Loss: 0.5529   8000 / 8000</p>\n",
       "        <progress value='8000' max='8000', style='width: 100%'>8000</progress>\n",
       "    "
      ],
      "text/plain": [
       "<IPython.core.display.HTML object>"
      ]
     },
     "metadata": {},
     "output_type": "display_data"
    },
    {
     "name": "stdout",
     "output_type": "stream",
     "text": [
      "Validation Loss:  0.5529\n",
      "Validation accuracy: 91.7875%\n",
      "Validation Loss has gone up 1 times.\n",
      "\n"
     ]
    },
    {
     "data": {
      "text/html": [
       "\n",
       "        <p>Loss: 0.5487   24000 / 24000</p>\n",
       "        <progress value='24000' max='24000', style='width: 100%'>24000</progress>\n",
       "    "
      ],
      "text/plain": [
       "<IPython.core.display.HTML object>"
      ]
     },
     "metadata": {},
     "output_type": "display_data"
    },
    {
     "name": "stdout",
     "output_type": "stream",
     "text": [
      "Epoch:  42\n",
      "Training loss: 0.5487\n"
     ]
    },
    {
     "data": {
      "text/html": [
       "\n",
       "        <p>Loss: 0.5205   8000 / 8000</p>\n",
       "        <progress value='8000' max='8000', style='width: 100%'>8000</progress>\n",
       "    "
      ],
      "text/plain": [
       "<IPython.core.display.HTML object>"
      ]
     },
     "metadata": {},
     "output_type": "display_data"
    },
    {
     "name": "stdout",
     "output_type": "stream",
     "text": [
      "Validation Loss:  0.5205\n",
      "Validation accuracy: 97.7125%\n",
      "\"Best Loss\": 0.5205423943698406\n",
      "\n",
      "Validation Loss has gone up 0 times.\n",
      "\n"
     ]
    },
    {
     "data": {
      "text/html": [
       "\n",
       "        <p>Loss: 0.5213   24000 / 24000</p>\n",
       "        <progress value='24000' max='24000', style='width: 100%'>24000</progress>\n",
       "    "
      ],
      "text/plain": [
       "<IPython.core.display.HTML object>"
      ]
     },
     "metadata": {},
     "output_type": "display_data"
    },
    {
     "name": "stdout",
     "output_type": "stream",
     "text": [
      "Epoch:  43\n",
      "Training loss: 0.5213\n"
     ]
    },
    {
     "data": {
      "text/html": [
       "\n",
       "        <p>Loss: 0.5141   8000 / 8000</p>\n",
       "        <progress value='8000' max='8000', style='width: 100%'>8000</progress>\n",
       "    "
      ],
      "text/plain": [
       "<IPython.core.display.HTML object>"
      ]
     },
     "metadata": {},
     "output_type": "display_data"
    },
    {
     "name": "stdout",
     "output_type": "stream",
     "text": [
      "Validation Loss:  0.5141\n",
      "Validation accuracy: 97.6750%\n",
      "\"Best Loss\": 0.5141438320279123\n",
      "\n",
      "Validation Loss has gone up 0 times.\n",
      "\n"
     ]
    },
    {
     "data": {
      "text/html": [
       "\n",
       "        <p>Loss: 0.5168   24000 / 24000</p>\n",
       "        <progress value='24000' max='24000', style='width: 100%'>24000</progress>\n",
       "    "
      ],
      "text/plain": [
       "<IPython.core.display.HTML object>"
      ]
     },
     "metadata": {},
     "output_type": "display_data"
    },
    {
     "name": "stdout",
     "output_type": "stream",
     "text": [
      "Epoch:  44\n",
      "Training loss: 0.5168\n"
     ]
    },
    {
     "data": {
      "text/html": [
       "\n",
       "        <p>Loss: 0.5405   8000 / 8000</p>\n",
       "        <progress value='8000' max='8000', style='width: 100%'>8000</progress>\n",
       "    "
      ],
      "text/plain": [
       "<IPython.core.display.HTML object>"
      ]
     },
     "metadata": {},
     "output_type": "display_data"
    },
    {
     "name": "stdout",
     "output_type": "stream",
     "text": [
      "Validation Loss:  0.5405\n",
      "Validation accuracy: 97.3000%\n",
      "Validation Loss has gone up 1 times.\n",
      "\n"
     ]
    },
    {
     "data": {
      "text/html": [
       "\n",
       "        <p>Loss: 0.5355   24000 / 24000</p>\n",
       "        <progress value='24000' max='24000', style='width: 100%'>24000</progress>\n",
       "    "
      ],
      "text/plain": [
       "<IPython.core.display.HTML object>"
      ]
     },
     "metadata": {},
     "output_type": "display_data"
    },
    {
     "name": "stdout",
     "output_type": "stream",
     "text": [
      "Epoch:  45\n",
      "Training loss: 0.5355\n"
     ]
    },
    {
     "data": {
      "text/html": [
       "\n",
       "        <p>Loss: 0.5046   8000 / 8000</p>\n",
       "        <progress value='8000' max='8000', style='width: 100%'>8000</progress>\n",
       "    "
      ],
      "text/plain": [
       "<IPython.core.display.HTML object>"
      ]
     },
     "metadata": {},
     "output_type": "display_data"
    },
    {
     "name": "stdout",
     "output_type": "stream",
     "text": [
      "Validation Loss:  0.5046\n",
      "Validation accuracy: 97.7250%\n",
      "\"Best Loss\": 0.504624929279089\n",
      "\n",
      "Validation Loss has gone up 0 times.\n",
      "\n"
     ]
    },
    {
     "data": {
      "text/html": [
       "\n",
       "        <p>Loss: 0.5121   24000 / 24000</p>\n",
       "        <progress value='24000' max='24000', style='width: 100%'>24000</progress>\n",
       "    "
      ],
      "text/plain": [
       "<IPython.core.display.HTML object>"
      ]
     },
     "metadata": {},
     "output_type": "display_data"
    },
    {
     "name": "stdout",
     "output_type": "stream",
     "text": [
      "Epoch:  46\n",
      "Training loss: 0.5121\n"
     ]
    },
    {
     "data": {
      "text/html": [
       "\n",
       "        <p>Loss: 0.5056   8000 / 8000</p>\n",
       "        <progress value='8000' max='8000', style='width: 100%'>8000</progress>\n",
       "    "
      ],
      "text/plain": [
       "<IPython.core.display.HTML object>"
      ]
     },
     "metadata": {},
     "output_type": "display_data"
    },
    {
     "name": "stdout",
     "output_type": "stream",
     "text": [
      "Validation Loss:  0.5056\n",
      "Validation accuracy: 97.8875%\n",
      "Validation Loss has gone up 1 times.\n",
      "\n"
     ]
    },
    {
     "data": {
      "text/html": [
       "\n",
       "        <p>Loss: 0.5169   24000 / 24000</p>\n",
       "        <progress value='24000' max='24000', style='width: 100%'>24000</progress>\n",
       "    "
      ],
      "text/plain": [
       "<IPython.core.display.HTML object>"
      ]
     },
     "metadata": {},
     "output_type": "display_data"
    },
    {
     "name": "stdout",
     "output_type": "stream",
     "text": [
      "Epoch:  47\n",
      "Training loss: 0.5169\n"
     ]
    },
    {
     "data": {
      "text/html": [
       "\n",
       "        <p>Loss: 0.5342   8000 / 8000</p>\n",
       "        <progress value='8000' max='8000', style='width: 100%'>8000</progress>\n",
       "    "
      ],
      "text/plain": [
       "<IPython.core.display.HTML object>"
      ]
     },
     "metadata": {},
     "output_type": "display_data"
    },
    {
     "name": "stdout",
     "output_type": "stream",
     "text": [
      "Validation Loss:  0.5342\n",
      "Validation accuracy: 92.7625%\n",
      "Validation Loss has gone up 2 times.\n",
      "\n"
     ]
    },
    {
     "data": {
      "text/html": [
       "\n",
       "        <p>Loss: 0.5314   24000 / 24000</p>\n",
       "        <progress value='24000' max='24000', style='width: 100%'>24000</progress>\n",
       "    "
      ],
      "text/plain": [
       "<IPython.core.display.HTML object>"
      ]
     },
     "metadata": {},
     "output_type": "display_data"
    },
    {
     "name": "stdout",
     "output_type": "stream",
     "text": [
      "Epoch:  48\n",
      "Training loss: 0.5314\n"
     ]
    },
    {
     "data": {
      "text/html": [
       "\n",
       "        <p>Loss: 0.5080   8000 / 8000</p>\n",
       "        <progress value='8000' max='8000', style='width: 100%'>8000</progress>\n",
       "    "
      ],
      "text/plain": [
       "<IPython.core.display.HTML object>"
      ]
     },
     "metadata": {},
     "output_type": "display_data"
    },
    {
     "name": "stdout",
     "output_type": "stream",
     "text": [
      "Validation Loss:  0.508\n",
      "Validation accuracy: 97.3500%\n",
      "Validation Loss has gone up 0 times.\n",
      "\n"
     ]
    },
    {
     "data": {
      "text/html": [
       "\n",
       "        <p>Loss: 0.5055   24000 / 24000</p>\n",
       "        <progress value='24000' max='24000', style='width: 100%'>24000</progress>\n",
       "    "
      ],
      "text/plain": [
       "<IPython.core.display.HTML object>"
      ]
     },
     "metadata": {},
     "output_type": "display_data"
    },
    {
     "name": "stdout",
     "output_type": "stream",
     "text": [
      "Epoch:  49\n",
      "Training loss: 0.5055\n"
     ]
    },
    {
     "data": {
      "text/html": [
       "\n",
       "        <p>Loss: 0.4897   8000 / 8000</p>\n",
       "        <progress value='8000' max='8000', style='width: 100%'>8000</progress>\n",
       "    "
      ],
      "text/plain": [
       "<IPython.core.display.HTML object>"
      ]
     },
     "metadata": {},
     "output_type": "display_data"
    },
    {
     "name": "stdout",
     "output_type": "stream",
     "text": [
      "Validation Loss:  0.4897\n",
      "Validation accuracy: 98.1750%\n",
      "\"Best Loss\": 0.4896808620542288\n",
      "\n",
      "Validation Loss has gone up 0 times.\n",
      "\n"
     ]
    },
    {
     "data": {
      "text/html": [
       "\n",
       "        <p>Loss: 0.4897   24000 / 24000</p>\n",
       "        <progress value='24000' max='24000', style='width: 100%'>24000</progress>\n",
       "    "
      ],
      "text/plain": [
       "<IPython.core.display.HTML object>"
      ]
     },
     "metadata": {},
     "output_type": "display_data"
    },
    {
     "name": "stdout",
     "output_type": "stream",
     "text": [
      "Epoch:  50\n",
      "Training loss: 0.4897\n"
     ]
    },
    {
     "data": {
      "text/html": [
       "\n",
       "        <p>Loss: 0.4848   8000 / 8000</p>\n",
       "        <progress value='8000' max='8000', style='width: 100%'>8000</progress>\n",
       "    "
      ],
      "text/plain": [
       "<IPython.core.display.HTML object>"
      ]
     },
     "metadata": {},
     "output_type": "display_data"
    },
    {
     "name": "stdout",
     "output_type": "stream",
     "text": [
      "Validation Loss:  0.4848\n",
      "Validation accuracy: 97.5875%\n",
      "\"Best Loss\": 0.48481164313852787\n",
      "\n",
      "Validation Loss has gone up 0 times.\n",
      "\n"
     ]
    },
    {
     "data": {
      "text/html": [
       "\n",
       "        <p>Loss: 0.4818   24000 / 24000</p>\n",
       "        <progress value='24000' max='24000', style='width: 100%'>24000</progress>\n",
       "    "
      ],
      "text/plain": [
       "<IPython.core.display.HTML object>"
      ]
     },
     "metadata": {},
     "output_type": "display_data"
    },
    {
     "name": "stdout",
     "output_type": "stream",
     "text": [
      "Epoch:  51\n",
      "Training loss: 0.4818\n"
     ]
    },
    {
     "data": {
      "text/html": [
       "\n",
       "        <p>Loss: 0.5354   8000 / 8000</p>\n",
       "        <progress value='8000' max='8000', style='width: 100%'>8000</progress>\n",
       "    "
      ],
      "text/plain": [
       "<IPython.core.display.HTML object>"
      ]
     },
     "metadata": {},
     "output_type": "display_data"
    },
    {
     "name": "stdout",
     "output_type": "stream",
     "text": [
      "Validation Loss:  0.5354\n",
      "Validation accuracy: 89.0125%\n",
      "Validation Loss has gone up 1 times.\n",
      "\n"
     ]
    },
    {
     "data": {
      "text/html": [
       "\n",
       "        <p>Loss: 0.5219   24000 / 24000</p>\n",
       "        <progress value='24000' max='24000', style='width: 100%'>24000</progress>\n",
       "    "
      ],
      "text/plain": [
       "<IPython.core.display.HTML object>"
      ]
     },
     "metadata": {},
     "output_type": "display_data"
    },
    {
     "name": "stdout",
     "output_type": "stream",
     "text": [
      "Epoch:  52\n",
      "Training loss: 0.5219\n"
     ]
    },
    {
     "data": {
      "text/html": [
       "\n",
       "        <p>Loss: 0.4854   8000 / 8000</p>\n",
       "        <progress value='8000' max='8000', style='width: 100%'>8000</progress>\n",
       "    "
      ],
      "text/plain": [
       "<IPython.core.display.HTML object>"
      ]
     },
     "metadata": {},
     "output_type": "display_data"
    },
    {
     "name": "stdout",
     "output_type": "stream",
     "text": [
      "Validation Loss:  0.4854\n",
      "Validation accuracy: 96.4250%\n",
      "Validation Loss has gone up 0 times.\n",
      "\n"
     ]
    },
    {
     "data": {
      "text/html": [
       "\n",
       "        <p>Loss: 0.4835   24000 / 24000</p>\n",
       "        <progress value='24000' max='24000', style='width: 100%'>24000</progress>\n",
       "    "
      ],
      "text/plain": [
       "<IPython.core.display.HTML object>"
      ]
     },
     "metadata": {},
     "output_type": "display_data"
    },
    {
     "name": "stdout",
     "output_type": "stream",
     "text": [
      "Epoch:  53\n",
      "Training loss: 0.4835\n"
     ]
    },
    {
     "data": {
      "text/html": [
       "\n",
       "        <p>Loss: 0.5172   8000 / 8000</p>\n",
       "        <progress value='8000' max='8000', style='width: 100%'>8000</progress>\n",
       "    "
      ],
      "text/plain": [
       "<IPython.core.display.HTML object>"
      ]
     },
     "metadata": {},
     "output_type": "display_data"
    },
    {
     "name": "stdout",
     "output_type": "stream",
     "text": [
      "Validation Loss:  0.5172\n",
      "Validation accuracy: 94.9625%\n",
      "Validation Loss has gone up 1 times.\n",
      "\n"
     ]
    },
    {
     "data": {
      "text/html": [
       "\n",
       "        <p>Loss: 0.4989   24000 / 24000</p>\n",
       "        <progress value='24000' max='24000', style='width: 100%'>24000</progress>\n",
       "    "
      ],
      "text/plain": [
       "<IPython.core.display.HTML object>"
      ]
     },
     "metadata": {},
     "output_type": "display_data"
    },
    {
     "name": "stdout",
     "output_type": "stream",
     "text": [
      "Epoch:  54\n",
      "Training loss: 0.4989\n"
     ]
    },
    {
     "data": {
      "text/html": [
       "\n",
       "        <p>Loss: 0.5012   8000 / 8000</p>\n",
       "        <progress value='8000' max='8000', style='width: 100%'>8000</progress>\n",
       "    "
      ],
      "text/plain": [
       "<IPython.core.display.HTML object>"
      ]
     },
     "metadata": {},
     "output_type": "display_data"
    },
    {
     "name": "stdout",
     "output_type": "stream",
     "text": [
      "Validation Loss:  0.5012\n",
      "Validation accuracy: 93.2250%\n",
      "Validation Loss has gone up 0 times.\n",
      "\n"
     ]
    },
    {
     "data": {
      "text/html": [
       "\n",
       "        <p>Loss: 0.5017   24000 / 24000</p>\n",
       "        <progress value='24000' max='24000', style='width: 100%'>24000</progress>\n",
       "    "
      ],
      "text/plain": [
       "<IPython.core.display.HTML object>"
      ]
     },
     "metadata": {},
     "output_type": "display_data"
    },
    {
     "name": "stdout",
     "output_type": "stream",
     "text": [
      "Epoch:  55\n",
      "Training loss: 0.5017\n"
     ]
    },
    {
     "data": {
      "text/html": [
       "\n",
       "        <p>Loss: 0.4656   8000 / 8000</p>\n",
       "        <progress value='8000' max='8000', style='width: 100%'>8000</progress>\n",
       "    "
      ],
      "text/plain": [
       "<IPython.core.display.HTML object>"
      ]
     },
     "metadata": {},
     "output_type": "display_data"
    },
    {
     "name": "stdout",
     "output_type": "stream",
     "text": [
      "Validation Loss:  0.4656\n",
      "Validation accuracy: 97.5875%\n",
      "\"Best Loss\": 0.4656176455318928\n",
      "\n",
      "Validation Loss has gone up 0 times.\n",
      "\n"
     ]
    },
    {
     "data": {
      "text/html": [
       "\n",
       "        <p>Loss: 0.4696   24000 / 24000</p>\n",
       "        <progress value='24000' max='24000', style='width: 100%'>24000</progress>\n",
       "    "
      ],
      "text/plain": [
       "<IPython.core.display.HTML object>"
      ]
     },
     "metadata": {},
     "output_type": "display_data"
    },
    {
     "name": "stdout",
     "output_type": "stream",
     "text": [
      "Epoch:  56\n",
      "Training loss: 0.4696\n"
     ]
    },
    {
     "data": {
      "text/html": [
       "\n",
       "        <p>Loss: 0.4598   8000 / 8000</p>\n",
       "        <progress value='8000' max='8000', style='width: 100%'>8000</progress>\n",
       "    "
      ],
      "text/plain": [
       "<IPython.core.display.HTML object>"
      ]
     },
     "metadata": {},
     "output_type": "display_data"
    },
    {
     "name": "stdout",
     "output_type": "stream",
     "text": [
      "Validation Loss:  0.4598\n",
      "Validation accuracy: 97.9125%\n",
      "\"Best Loss\": 0.4598058443516493\n",
      "\n",
      "Validation Loss has gone up 0 times.\n",
      "\n"
     ]
    },
    {
     "data": {
      "text/html": [
       "\n",
       "        <p>Loss: 0.4693   24000 / 24000</p>\n",
       "        <progress value='24000' max='24000', style='width: 100%'>24000</progress>\n",
       "    "
      ],
      "text/plain": [
       "<IPython.core.display.HTML object>"
      ]
     },
     "metadata": {},
     "output_type": "display_data"
    },
    {
     "name": "stdout",
     "output_type": "stream",
     "text": [
      "Epoch:  57\n",
      "Training loss: 0.4693\n"
     ]
    },
    {
     "data": {
      "text/html": [
       "\n",
       "        <p>Loss: 0.4716   8000 / 8000</p>\n",
       "        <progress value='8000' max='8000', style='width: 100%'>8000</progress>\n",
       "    "
      ],
      "text/plain": [
       "<IPython.core.display.HTML object>"
      ]
     },
     "metadata": {},
     "output_type": "display_data"
    },
    {
     "name": "stdout",
     "output_type": "stream",
     "text": [
      "Validation Loss:  0.4716\n",
      "Validation accuracy: 98.2000%\n",
      "Validation Loss has gone up 1 times.\n",
      "\n"
     ]
    },
    {
     "data": {
      "text/html": [
       "\n",
       "        <p>Loss: 0.4722   24000 / 24000</p>\n",
       "        <progress value='24000' max='24000', style='width: 100%'>24000</progress>\n",
       "    "
      ],
      "text/plain": [
       "<IPython.core.display.HTML object>"
      ]
     },
     "metadata": {},
     "output_type": "display_data"
    },
    {
     "name": "stdout",
     "output_type": "stream",
     "text": [
      "Epoch:  58\n",
      "Training loss: 0.4722\n"
     ]
    },
    {
     "data": {
      "text/html": [
       "\n",
       "        <p>Loss: 0.4534   8000 / 8000</p>\n",
       "        <progress value='8000' max='8000', style='width: 100%'>8000</progress>\n",
       "    "
      ],
      "text/plain": [
       "<IPython.core.display.HTML object>"
      ]
     },
     "metadata": {},
     "output_type": "display_data"
    },
    {
     "name": "stdout",
     "output_type": "stream",
     "text": [
      "Validation Loss:  0.4534\n",
      "Validation accuracy: 98.1250%\n",
      "\"Best Loss\": 0.4534422233700752\n",
      "\n",
      "Validation Loss has gone up 0 times.\n",
      "\n"
     ]
    },
    {
     "data": {
      "text/html": [
       "\n",
       "        <p>Loss: 0.4588   24000 / 24000</p>\n",
       "        <progress value='24000' max='24000', style='width: 100%'>24000</progress>\n",
       "    "
      ],
      "text/plain": [
       "<IPython.core.display.HTML object>"
      ]
     },
     "metadata": {},
     "output_type": "display_data"
    },
    {
     "name": "stdout",
     "output_type": "stream",
     "text": [
      "Epoch:  59\n",
      "Training loss: 0.4588\n"
     ]
    },
    {
     "data": {
      "text/html": [
       "\n",
       "        <p>Loss: 0.4494   8000 / 8000</p>\n",
       "        <progress value='8000' max='8000', style='width: 100%'>8000</progress>\n",
       "    "
      ],
      "text/plain": [
       "<IPython.core.display.HTML object>"
      ]
     },
     "metadata": {},
     "output_type": "display_data"
    },
    {
     "name": "stdout",
     "output_type": "stream",
     "text": [
      "Validation Loss:  0.4494\n",
      "Validation accuracy: 98.1500%\n",
      "\"Best Loss\": 0.4494159575551748\n",
      "\n",
      "Validation Loss has gone up 0 times.\n",
      "\n"
     ]
    },
    {
     "data": {
      "text/html": [
       "\n",
       "        <p>Loss: 0.4508   24000 / 24000</p>\n",
       "        <progress value='24000' max='24000', style='width: 100%'>24000</progress>\n",
       "    "
      ],
      "text/plain": [
       "<IPython.core.display.HTML object>"
      ]
     },
     "metadata": {},
     "output_type": "display_data"
    },
    {
     "name": "stdout",
     "output_type": "stream",
     "text": [
      "Epoch:  60\n",
      "Training loss: 0.4508\n"
     ]
    },
    {
     "data": {
      "text/html": [
       "\n",
       "        <p>Loss: 0.4657   8000 / 8000</p>\n",
       "        <progress value='8000' max='8000', style='width: 100%'>8000</progress>\n",
       "    "
      ],
      "text/plain": [
       "<IPython.core.display.HTML object>"
      ]
     },
     "metadata": {},
     "output_type": "display_data"
    },
    {
     "name": "stdout",
     "output_type": "stream",
     "text": [
      "Validation Loss:  0.4657\n",
      "Validation accuracy: 95.1750%\n",
      "Validation Loss has gone up 1 times.\n",
      "\n"
     ]
    },
    {
     "data": {
      "text/html": [
       "\n",
       "        <p>Loss: 0.4675   24000 / 24000</p>\n",
       "        <progress value='24000' max='24000', style='width: 100%'>24000</progress>\n",
       "    "
      ],
      "text/plain": [
       "<IPython.core.display.HTML object>"
      ]
     },
     "metadata": {},
     "output_type": "display_data"
    },
    {
     "name": "stdout",
     "output_type": "stream",
     "text": [
      "Epoch:  61\n",
      "Training loss: 0.4675\n"
     ]
    },
    {
     "data": {
      "text/html": [
       "\n",
       "        <p>Loss: 0.4424   8000 / 8000</p>\n",
       "        <progress value='8000' max='8000', style='width: 100%'>8000</progress>\n",
       "    "
      ],
      "text/plain": [
       "<IPython.core.display.HTML object>"
      ]
     },
     "metadata": {},
     "output_type": "display_data"
    },
    {
     "name": "stdout",
     "output_type": "stream",
     "text": [
      "Validation Loss:  0.4424\n",
      "Validation accuracy: 97.5625%\n",
      "\"Best Loss\": 0.4423595815896988\n",
      "\n",
      "Validation Loss has gone up 0 times.\n",
      "\n"
     ]
    },
    {
     "data": {
      "text/html": [
       "\n",
       "        <p>Loss: 0.4503   24000 / 24000</p>\n",
       "        <progress value='24000' max='24000', style='width: 100%'>24000</progress>\n",
       "    "
      ],
      "text/plain": [
       "<IPython.core.display.HTML object>"
      ]
     },
     "metadata": {},
     "output_type": "display_data"
    },
    {
     "name": "stdout",
     "output_type": "stream",
     "text": [
      "Epoch:  62\n",
      "Training loss: 0.4503\n"
     ]
    },
    {
     "data": {
      "text/html": [
       "\n",
       "        <p>Loss: 0.4373   8000 / 8000</p>\n",
       "        <progress value='8000' max='8000', style='width: 100%'>8000</progress>\n",
       "    "
      ],
      "text/plain": [
       "<IPython.core.display.HTML object>"
      ]
     },
     "metadata": {},
     "output_type": "display_data"
    },
    {
     "name": "stdout",
     "output_type": "stream",
     "text": [
      "Validation Loss:  0.4373\n",
      "Validation accuracy: 98.2250%\n",
      "\"Best Loss\": 0.43734103441238403\n",
      "\n",
      "Validation Loss has gone up 0 times.\n",
      "\n"
     ]
    },
    {
     "data": {
      "text/html": [
       "\n",
       "        <p>Loss: 0.4353   24000 / 24000</p>\n",
       "        <progress value='24000' max='24000', style='width: 100%'>24000</progress>\n",
       "    "
      ],
      "text/plain": [
       "<IPython.core.display.HTML object>"
      ]
     },
     "metadata": {},
     "output_type": "display_data"
    },
    {
     "name": "stdout",
     "output_type": "stream",
     "text": [
      "Epoch:  63\n",
      "Training loss: 0.4353\n"
     ]
    },
    {
     "data": {
      "text/html": [
       "\n",
       "        <p>Loss: 0.4362   8000 / 8000</p>\n",
       "        <progress value='8000' max='8000', style='width: 100%'>8000</progress>\n",
       "    "
      ],
      "text/plain": [
       "<IPython.core.display.HTML object>"
      ]
     },
     "metadata": {},
     "output_type": "display_data"
    },
    {
     "name": "stdout",
     "output_type": "stream",
     "text": [
      "Validation Loss:  0.4362\n",
      "Validation accuracy: 97.6375%\n",
      "\"Best Loss\": 0.4362086523324251\n",
      "\n",
      "Validation Loss has gone up 0 times.\n",
      "\n"
     ]
    },
    {
     "data": {
      "text/html": [
       "\n",
       "        <p>Loss: 0.4396   24000 / 24000</p>\n",
       "        <progress value='24000' max='24000', style='width: 100%'>24000</progress>\n",
       "    "
      ],
      "text/plain": [
       "<IPython.core.display.HTML object>"
      ]
     },
     "metadata": {},
     "output_type": "display_data"
    },
    {
     "name": "stdout",
     "output_type": "stream",
     "text": [
      "Epoch:  64\n",
      "Training loss: 0.4396\n"
     ]
    },
    {
     "data": {
      "text/html": [
       "\n",
       "        <p>Loss: 0.4381   8000 / 8000</p>\n",
       "        <progress value='8000' max='8000', style='width: 100%'>8000</progress>\n",
       "    "
      ],
      "text/plain": [
       "<IPython.core.display.HTML object>"
      ]
     },
     "metadata": {},
     "output_type": "display_data"
    },
    {
     "name": "stdout",
     "output_type": "stream",
     "text": [
      "Validation Loss:  0.4381\n",
      "Validation accuracy: 96.9750%\n",
      "Validation Loss has gone up 1 times.\n",
      "\n"
     ]
    },
    {
     "data": {
      "text/html": [
       "\n",
       "        <p>Loss: 0.4485   24000 / 24000</p>\n",
       "        <progress value='24000' max='24000', style='width: 100%'>24000</progress>\n",
       "    "
      ],
      "text/plain": [
       "<IPython.core.display.HTML object>"
      ]
     },
     "metadata": {},
     "output_type": "display_data"
    },
    {
     "name": "stdout",
     "output_type": "stream",
     "text": [
      "Epoch:  65\n",
      "Training loss: 0.4485\n"
     ]
    },
    {
     "data": {
      "text/html": [
       "\n",
       "        <p>Loss: 0.4614   8000 / 8000</p>\n",
       "        <progress value='8000' max='8000', style='width: 100%'>8000</progress>\n",
       "    "
      ],
      "text/plain": [
       "<IPython.core.display.HTML object>"
      ]
     },
     "metadata": {},
     "output_type": "display_data"
    },
    {
     "name": "stdout",
     "output_type": "stream",
     "text": [
      "Validation Loss:  0.4614\n",
      "Validation accuracy: 97.8500%\n",
      "Validation Loss has gone up 2 times.\n",
      "\n"
     ]
    },
    {
     "data": {
      "text/html": [
       "\n",
       "        <p>Loss: 0.4489   24000 / 24000</p>\n",
       "        <progress value='24000' max='24000', style='width: 100%'>24000</progress>\n",
       "    "
      ],
      "text/plain": [
       "<IPython.core.display.HTML object>"
      ]
     },
     "metadata": {},
     "output_type": "display_data"
    },
    {
     "name": "stdout",
     "output_type": "stream",
     "text": [
      "Epoch:  66\n",
      "Training loss: 0.4489\n"
     ]
    },
    {
     "data": {
      "text/html": [
       "\n",
       "        <p>Loss: 0.4200   8000 / 8000</p>\n",
       "        <progress value='8000' max='8000', style='width: 100%'>8000</progress>\n",
       "    "
      ],
      "text/plain": [
       "<IPython.core.display.HTML object>"
      ]
     },
     "metadata": {},
     "output_type": "display_data"
    },
    {
     "name": "stdout",
     "output_type": "stream",
     "text": [
      "Validation Loss:  0.42\n",
      "Validation accuracy: 98.3000%\n",
      "\"Best Loss\": 0.41997895017266273\n",
      "\n",
      "Validation Loss has gone up 0 times.\n",
      "\n"
     ]
    },
    {
     "data": {
      "text/html": [
       "\n",
       "        <p>Loss: 0.4310   24000 / 24000</p>\n",
       "        <progress value='24000' max='24000', style='width: 100%'>24000</progress>\n",
       "    "
      ],
      "text/plain": [
       "<IPython.core.display.HTML object>"
      ]
     },
     "metadata": {},
     "output_type": "display_data"
    },
    {
     "name": "stdout",
     "output_type": "stream",
     "text": [
      "Epoch:  67\n",
      "Training loss: 0.431\n"
     ]
    },
    {
     "data": {
      "text/html": [
       "\n",
       "        <p>Loss: 0.4297   8000 / 8000</p>\n",
       "        <progress value='8000' max='8000', style='width: 100%'>8000</progress>\n",
       "    "
      ],
      "text/plain": [
       "<IPython.core.display.HTML object>"
      ]
     },
     "metadata": {},
     "output_type": "display_data"
    },
    {
     "name": "stdout",
     "output_type": "stream",
     "text": [
      "Validation Loss:  0.4297\n",
      "Validation accuracy: 96.2375%\n",
      "Validation Loss has gone up 1 times.\n",
      "\n"
     ]
    },
    {
     "data": {
      "text/html": [
       "\n",
       "        <p>Loss: 0.4327   24000 / 24000</p>\n",
       "        <progress value='24000' max='24000', style='width: 100%'>24000</progress>\n",
       "    "
      ],
      "text/plain": [
       "<IPython.core.display.HTML object>"
      ]
     },
     "metadata": {},
     "output_type": "display_data"
    },
    {
     "name": "stdout",
     "output_type": "stream",
     "text": [
      "Epoch:  68\n",
      "Training loss: 0.4327\n"
     ]
    },
    {
     "data": {
      "text/html": [
       "\n",
       "        <p>Loss: 0.4132   8000 / 8000</p>\n",
       "        <progress value='8000' max='8000', style='width: 100%'>8000</progress>\n",
       "    "
      ],
      "text/plain": [
       "<IPython.core.display.HTML object>"
      ]
     },
     "metadata": {},
     "output_type": "display_data"
    },
    {
     "name": "stdout",
     "output_type": "stream",
     "text": [
      "Validation Loss:  0.4132\n",
      "Validation accuracy: 97.9375%\n",
      "\"Best Loss\": 0.41324604116380215\n",
      "\n",
      "Validation Loss has gone up 0 times.\n",
      "\n"
     ]
    },
    {
     "data": {
      "text/html": [
       "\n",
       "        <p>Loss: 0.4195   24000 / 24000</p>\n",
       "        <progress value='24000' max='24000', style='width: 100%'>24000</progress>\n",
       "    "
      ],
      "text/plain": [
       "<IPython.core.display.HTML object>"
      ]
     },
     "metadata": {},
     "output_type": "display_data"
    },
    {
     "name": "stdout",
     "output_type": "stream",
     "text": [
      "Epoch:  69\n",
      "Training loss: 0.4195\n"
     ]
    },
    {
     "data": {
      "text/html": [
       "\n",
       "        <p>Loss: 0.4079   8000 / 8000</p>\n",
       "        <progress value='8000' max='8000', style='width: 100%'>8000</progress>\n",
       "    "
      ],
      "text/plain": [
       "<IPython.core.display.HTML object>"
      ]
     },
     "metadata": {},
     "output_type": "display_data"
    },
    {
     "name": "stdout",
     "output_type": "stream",
     "text": [
      "Validation Loss:  0.4079\n",
      "Validation accuracy: 98.1500%\n",
      "\"Best Loss\": 0.4079429227858782\n",
      "\n",
      "Validation Loss has gone up 0 times.\n",
      "\n"
     ]
    },
    {
     "data": {
      "text/html": [
       "\n",
       "        <p>Loss: 0.4119   24000 / 24000</p>\n",
       "        <progress value='24000' max='24000', style='width: 100%'>24000</progress>\n",
       "    "
      ],
      "text/plain": [
       "<IPython.core.display.HTML object>"
      ]
     },
     "metadata": {},
     "output_type": "display_data"
    },
    {
     "name": "stdout",
     "output_type": "stream",
     "text": [
      "Epoch:  70\n",
      "Training loss: 0.4119\n"
     ]
    },
    {
     "data": {
      "text/html": [
       "\n",
       "        <p>Loss: 0.4092   8000 / 8000</p>\n",
       "        <progress value='8000' max='8000', style='width: 100%'>8000</progress>\n",
       "    "
      ],
      "text/plain": [
       "<IPython.core.display.HTML object>"
      ]
     },
     "metadata": {},
     "output_type": "display_data"
    },
    {
     "name": "stdout",
     "output_type": "stream",
     "text": [
      "Validation Loss:  0.4092\n",
      "Validation accuracy: 97.7625%\n",
      "Validation Loss has gone up 1 times.\n",
      "\n"
     ]
    },
    {
     "data": {
      "text/html": [
       "\n",
       "        <p>Loss: 0.4092   24000 / 24000</p>\n",
       "        <progress value='24000' max='24000', style='width: 100%'>24000</progress>\n",
       "    "
      ],
      "text/plain": [
       "<IPython.core.display.HTML object>"
      ]
     },
     "metadata": {},
     "output_type": "display_data"
    },
    {
     "name": "stdout",
     "output_type": "stream",
     "text": [
      "Epoch:  71\n",
      "Training loss: 0.4092\n"
     ]
    },
    {
     "data": {
      "text/html": [
       "\n",
       "        <p>Loss: 0.4051   8000 / 8000</p>\n",
       "        <progress value='8000' max='8000', style='width: 100%'>8000</progress>\n",
       "    "
      ],
      "text/plain": [
       "<IPython.core.display.HTML object>"
      ]
     },
     "metadata": {},
     "output_type": "display_data"
    },
    {
     "name": "stdout",
     "output_type": "stream",
     "text": [
      "Validation Loss:  0.4051\n",
      "Validation accuracy: 97.9250%\n",
      "\"Best Loss\": 0.4051328971982002\n",
      "\n",
      "Validation Loss has gone up 0 times.\n",
      "\n"
     ]
    },
    {
     "data": {
      "text/html": [
       "\n",
       "        <p>Loss: 0.4046   24000 / 24000</p>\n",
       "        <progress value='24000' max='24000', style='width: 100%'>24000</progress>\n",
       "    "
      ],
      "text/plain": [
       "<IPython.core.display.HTML object>"
      ]
     },
     "metadata": {},
     "output_type": "display_data"
    },
    {
     "name": "stdout",
     "output_type": "stream",
     "text": [
      "Epoch:  72\n",
      "Training loss: 0.4046\n"
     ]
    },
    {
     "data": {
      "text/html": [
       "\n",
       "        <p>Loss: 0.5356   8000 / 8000</p>\n",
       "        <progress value='8000' max='8000', style='width: 100%'>8000</progress>\n",
       "    "
      ],
      "text/plain": [
       "<IPython.core.display.HTML object>"
      ]
     },
     "metadata": {},
     "output_type": "display_data"
    },
    {
     "name": "stdout",
     "output_type": "stream",
     "text": [
      "Validation Loss:  0.5356\n",
      "Validation accuracy: 96.1625%\n",
      "Validation Loss has gone up 1 times.\n",
      "\n"
     ]
    },
    {
     "data": {
      "text/html": [
       "\n",
       "        <p>Loss: 0.5005   24000 / 24000</p>\n",
       "        <progress value='24000' max='24000', style='width: 100%'>24000</progress>\n",
       "    "
      ],
      "text/plain": [
       "<IPython.core.display.HTML object>"
      ]
     },
     "metadata": {},
     "output_type": "display_data"
    },
    {
     "name": "stdout",
     "output_type": "stream",
     "text": [
      "Epoch:  73\n",
      "Training loss: 0.5005\n"
     ]
    },
    {
     "data": {
      "text/html": [
       "\n",
       "        <p>Loss: 0.4052   8000 / 8000</p>\n",
       "        <progress value='8000' max='8000', style='width: 100%'>8000</progress>\n",
       "    "
      ],
      "text/plain": [
       "<IPython.core.display.HTML object>"
      ]
     },
     "metadata": {},
     "output_type": "display_data"
    },
    {
     "name": "stdout",
     "output_type": "stream",
     "text": [
      "Validation Loss:  0.4052\n",
      "Validation accuracy: 97.9125%\n",
      "Validation Loss has gone up 0 times.\n",
      "\n"
     ]
    },
    {
     "data": {
      "text/html": [
       "\n",
       "        <p>Loss: 0.4103   24000 / 24000</p>\n",
       "        <progress value='24000' max='24000', style='width: 100%'>24000</progress>\n",
       "    "
      ],
      "text/plain": [
       "<IPython.core.display.HTML object>"
      ]
     },
     "metadata": {},
     "output_type": "display_data"
    },
    {
     "name": "stdout",
     "output_type": "stream",
     "text": [
      "Epoch:  74\n",
      "Training loss: 0.4103\n"
     ]
    },
    {
     "data": {
      "text/html": [
       "\n",
       "        <p>Loss: 0.4042   8000 / 8000</p>\n",
       "        <progress value='8000' max='8000', style='width: 100%'>8000</progress>\n",
       "    "
      ],
      "text/plain": [
       "<IPython.core.display.HTML object>"
      ]
     },
     "metadata": {},
     "output_type": "display_data"
    },
    {
     "name": "stdout",
     "output_type": "stream",
     "text": [
      "Validation Loss:  0.4042\n",
      "Validation accuracy: 98.3500%\n",
      "\"Best Loss\": 0.4041560087352991\n",
      "\n",
      "Validation Loss has gone up 0 times.\n",
      "\n"
     ]
    },
    {
     "data": {
      "text/html": [
       "\n",
       "        <p>Loss: 0.4158   24000 / 24000</p>\n",
       "        <progress value='24000' max='24000', style='width: 100%'>24000</progress>\n",
       "    "
      ],
      "text/plain": [
       "<IPython.core.display.HTML object>"
      ]
     },
     "metadata": {},
     "output_type": "display_data"
    },
    {
     "name": "stdout",
     "output_type": "stream",
     "text": [
      "Epoch:  75\n",
      "Training loss: 0.4158\n"
     ]
    },
    {
     "data": {
      "text/html": [
       "\n",
       "        <p>Loss: 0.5804   8000 / 8000</p>\n",
       "        <progress value='8000' max='8000', style='width: 100%'>8000</progress>\n",
       "    "
      ],
      "text/plain": [
       "<IPython.core.display.HTML object>"
      ]
     },
     "metadata": {},
     "output_type": "display_data"
    },
    {
     "name": "stdout",
     "output_type": "stream",
     "text": [
      "Validation Loss:  0.5804\n",
      "Validation accuracy: 66.8875%\n",
      "Validation Loss has gone up 1 times.\n",
      "\n"
     ]
    },
    {
     "data": {
      "text/html": [
       "\n",
       "        <p>Loss: 0.5097   24000 / 24000</p>\n",
       "        <progress value='24000' max='24000', style='width: 100%'>24000</progress>\n",
       "    "
      ],
      "text/plain": [
       "<IPython.core.display.HTML object>"
      ]
     },
     "metadata": {},
     "output_type": "display_data"
    },
    {
     "name": "stdout",
     "output_type": "stream",
     "text": [
      "Epoch:  76\n",
      "Training loss: 0.5097\n"
     ]
    },
    {
     "data": {
      "text/html": [
       "\n",
       "        <p>Loss: 0.3924   8000 / 8000</p>\n",
       "        <progress value='8000' max='8000', style='width: 100%'>8000</progress>\n",
       "    "
      ],
      "text/plain": [
       "<IPython.core.display.HTML object>"
      ]
     },
     "metadata": {},
     "output_type": "display_data"
    },
    {
     "name": "stdout",
     "output_type": "stream",
     "text": [
      "Validation Loss:  0.3924\n",
      "Validation accuracy: 97.2375%\n",
      "\"Best Loss\": 0.39240223355591297\n",
      "\n",
      "Validation Loss has gone up 0 times.\n",
      "\n"
     ]
    },
    {
     "data": {
      "text/html": [
       "\n",
       "        <p>Loss: 0.4106   24000 / 24000</p>\n",
       "        <progress value='24000' max='24000', style='width: 100%'>24000</progress>\n",
       "    "
      ],
      "text/plain": [
       "<IPython.core.display.HTML object>"
      ]
     },
     "metadata": {},
     "output_type": "display_data"
    },
    {
     "name": "stdout",
     "output_type": "stream",
     "text": [
      "Epoch:  77\n",
      "Training loss: 0.4106\n"
     ]
    },
    {
     "data": {
      "text/html": [
       "\n",
       "        <p>Loss: 0.4092   8000 / 8000</p>\n",
       "        <progress value='8000' max='8000', style='width: 100%'>8000</progress>\n",
       "    "
      ],
      "text/plain": [
       "<IPython.core.display.HTML object>"
      ]
     },
     "metadata": {},
     "output_type": "display_data"
    },
    {
     "name": "stdout",
     "output_type": "stream",
     "text": [
      "Validation Loss:  0.4092\n",
      "Validation accuracy: 98.3500%\n",
      "Validation Loss has gone up 1 times.\n",
      "\n"
     ]
    },
    {
     "data": {
      "text/html": [
       "\n",
       "        <p>Loss: 0.4165   24000 / 24000</p>\n",
       "        <progress value='24000' max='24000', style='width: 100%'>24000</progress>\n",
       "    "
      ],
      "text/plain": [
       "<IPython.core.display.HTML object>"
      ]
     },
     "metadata": {},
     "output_type": "display_data"
    },
    {
     "name": "stdout",
     "output_type": "stream",
     "text": [
      "Epoch:  78\n",
      "Training loss: 0.4165\n"
     ]
    },
    {
     "data": {
      "text/html": [
       "\n",
       "        <p>Loss: 0.4644   8000 / 8000</p>\n",
       "        <progress value='8000' max='8000', style='width: 100%'>8000</progress>\n",
       "    "
      ],
      "text/plain": [
       "<IPython.core.display.HTML object>"
      ]
     },
     "metadata": {},
     "output_type": "display_data"
    },
    {
     "name": "stdout",
     "output_type": "stream",
     "text": [
      "Validation Loss:  0.4644\n",
      "Validation accuracy: 97.4750%\n",
      "Validation Loss has gone up 2 times.\n",
      "\n"
     ]
    },
    {
     "data": {
      "text/html": [
       "\n",
       "        <p>Loss: 0.4487   24000 / 24000</p>\n",
       "        <progress value='24000' max='24000', style='width: 100%'>24000</progress>\n",
       "    "
      ],
      "text/plain": [
       "<IPython.core.display.HTML object>"
      ]
     },
     "metadata": {},
     "output_type": "display_data"
    },
    {
     "name": "stdout",
     "output_type": "stream",
     "text": [
      "Epoch:  79\n",
      "Training loss: 0.4487\n"
     ]
    },
    {
     "data": {
      "text/html": [
       "\n",
       "        <p>Loss: 0.4044   8000 / 8000</p>\n",
       "        <progress value='8000' max='8000', style='width: 100%'>8000</progress>\n",
       "    "
      ],
      "text/plain": [
       "<IPython.core.display.HTML object>"
      ]
     },
     "metadata": {},
     "output_type": "display_data"
    },
    {
     "name": "stdout",
     "output_type": "stream",
     "text": [
      "Validation Loss:  0.4044\n",
      "Validation accuracy: 96.1625%\n",
      "Validation Loss has gone up 0 times.\n",
      "\n"
     ]
    },
    {
     "data": {
      "text/html": [
       "\n",
       "        <p>Loss: 0.3933   24000 / 24000</p>\n",
       "        <progress value='24000' max='24000', style='width: 100%'>24000</progress>\n",
       "    "
      ],
      "text/plain": [
       "<IPython.core.display.HTML object>"
      ]
     },
     "metadata": {},
     "output_type": "display_data"
    },
    {
     "name": "stdout",
     "output_type": "stream",
     "text": [
      "Epoch:  80\n",
      "Training loss: 0.3933\n"
     ]
    },
    {
     "data": {
      "text/html": [
       "\n",
       "        <p>Loss: 0.3903   8000 / 8000</p>\n",
       "        <progress value='8000' max='8000', style='width: 100%'>8000</progress>\n",
       "    "
      ],
      "text/plain": [
       "<IPython.core.display.HTML object>"
      ]
     },
     "metadata": {},
     "output_type": "display_data"
    },
    {
     "name": "stdout",
     "output_type": "stream",
     "text": [
      "Validation Loss:  0.3903\n",
      "Validation accuracy: 97.9000%\n",
      "\"Best Loss\": 0.39031817950308323\n",
      "\n",
      "Validation Loss has gone up 0 times.\n",
      "\n"
     ]
    },
    {
     "data": {
      "text/html": [
       "\n",
       "        <p>Loss: 0.4199   24000 / 24000</p>\n",
       "        <progress value='24000' max='24000', style='width: 100%'>24000</progress>\n",
       "    "
      ],
      "text/plain": [
       "<IPython.core.display.HTML object>"
      ]
     },
     "metadata": {},
     "output_type": "display_data"
    },
    {
     "name": "stdout",
     "output_type": "stream",
     "text": [
      "Epoch:  81\n",
      "Training loss: 0.4199\n"
     ]
    },
    {
     "data": {
      "text/html": [
       "\n",
       "        <p>Loss: 0.4157   8000 / 8000</p>\n",
       "        <progress value='8000' max='8000', style='width: 100%'>8000</progress>\n",
       "    "
      ],
      "text/plain": [
       "<IPython.core.display.HTML object>"
      ]
     },
     "metadata": {},
     "output_type": "display_data"
    },
    {
     "name": "stdout",
     "output_type": "stream",
     "text": [
      "Validation Loss:  0.4157\n",
      "Validation accuracy: 98.3500%\n",
      "Validation Loss has gone up 1 times.\n",
      "\n"
     ]
    },
    {
     "data": {
      "text/html": [
       "\n",
       "        <p>Loss: 0.4102   24000 / 24000</p>\n",
       "        <progress value='24000' max='24000', style='width: 100%'>24000</progress>\n",
       "    "
      ],
      "text/plain": [
       "<IPython.core.display.HTML object>"
      ]
     },
     "metadata": {},
     "output_type": "display_data"
    },
    {
     "name": "stdout",
     "output_type": "stream",
     "text": [
      "Epoch:  82\n",
      "Training loss: 0.4102\n"
     ]
    },
    {
     "data": {
      "text/html": [
       "\n",
       "        <p>Loss: 0.3982   8000 / 8000</p>\n",
       "        <progress value='8000' max='8000', style='width: 100%'>8000</progress>\n",
       "    "
      ],
      "text/plain": [
       "<IPython.core.display.HTML object>"
      ]
     },
     "metadata": {},
     "output_type": "display_data"
    },
    {
     "name": "stdout",
     "output_type": "stream",
     "text": [
      "Validation Loss:  0.3982\n",
      "Validation accuracy: 97.7500%\n",
      "Validation Loss has gone up 0 times.\n",
      "\n"
     ]
    },
    {
     "data": {
      "text/html": [
       "\n",
       "        <p>Loss: 0.4047   24000 / 24000</p>\n",
       "        <progress value='24000' max='24000', style='width: 100%'>24000</progress>\n",
       "    "
      ],
      "text/plain": [
       "<IPython.core.display.HTML object>"
      ]
     },
     "metadata": {},
     "output_type": "display_data"
    },
    {
     "name": "stdout",
     "output_type": "stream",
     "text": [
      "Epoch:  83\n",
      "Training loss: 0.4047\n"
     ]
    },
    {
     "data": {
      "text/html": [
       "\n",
       "        <p>Loss: 0.3944   8000 / 8000</p>\n",
       "        <progress value='8000' max='8000', style='width: 100%'>8000</progress>\n",
       "    "
      ],
      "text/plain": [
       "<IPython.core.display.HTML object>"
      ]
     },
     "metadata": {},
     "output_type": "display_data"
    },
    {
     "name": "stdout",
     "output_type": "stream",
     "text": [
      "Validation Loss:  0.3944\n",
      "Validation accuracy: 97.8125%\n",
      "Validation Loss has gone up 0 times.\n",
      "\n"
     ]
    },
    {
     "data": {
      "text/html": [
       "\n",
       "        <p>Loss: 0.4098   24000 / 24000</p>\n",
       "        <progress value='24000' max='24000', style='width: 100%'>24000</progress>\n",
       "    "
      ],
      "text/plain": [
       "<IPython.core.display.HTML object>"
      ]
     },
     "metadata": {},
     "output_type": "display_data"
    },
    {
     "name": "stdout",
     "output_type": "stream",
     "text": [
      "Epoch:  84\n",
      "Training loss: 0.4098\n"
     ]
    },
    {
     "data": {
      "text/html": [
       "\n",
       "        <p>Loss: 0.3895   8000 / 8000</p>\n",
       "        <progress value='8000' max='8000', style='width: 100%'>8000</progress>\n",
       "    "
      ],
      "text/plain": [
       "<IPython.core.display.HTML object>"
      ]
     },
     "metadata": {},
     "output_type": "display_data"
    },
    {
     "name": "stdout",
     "output_type": "stream",
     "text": [
      "Validation Loss:  0.3895\n",
      "Validation accuracy: 98.1375%\n",
      "\"Best Loss\": 0.38945213705301285\n",
      "\n",
      "Validation Loss has gone up 0 times.\n",
      "\n"
     ]
    },
    {
     "data": {
      "text/html": [
       "\n",
       "        <p>Loss: 0.3883   24000 / 24000</p>\n",
       "        <progress value='24000' max='24000', style='width: 100%'>24000</progress>\n",
       "    "
      ],
      "text/plain": [
       "<IPython.core.display.HTML object>"
      ]
     },
     "metadata": {},
     "output_type": "display_data"
    },
    {
     "name": "stdout",
     "output_type": "stream",
     "text": [
      "Epoch:  85\n",
      "Training loss: 0.3883\n"
     ]
    },
    {
     "data": {
      "text/html": [
       "\n",
       "        <p>Loss: 0.3749   8000 / 8000</p>\n",
       "        <progress value='8000' max='8000', style='width: 100%'>8000</progress>\n",
       "    "
      ],
      "text/plain": [
       "<IPython.core.display.HTML object>"
      ]
     },
     "metadata": {},
     "output_type": "display_data"
    },
    {
     "name": "stdout",
     "output_type": "stream",
     "text": [
      "Validation Loss:  0.3749\n",
      "Validation accuracy: 98.0625%\n",
      "\"Best Loss\": 0.374891921877861\n",
      "\n",
      "Validation Loss has gone up 0 times.\n",
      "\n"
     ]
    },
    {
     "data": {
      "text/html": [
       "\n",
       "        <p>Loss: 0.3760   24000 / 24000</p>\n",
       "        <progress value='24000' max='24000', style='width: 100%'>24000</progress>\n",
       "    "
      ],
      "text/plain": [
       "<IPython.core.display.HTML object>"
      ]
     },
     "metadata": {},
     "output_type": "display_data"
    },
    {
     "name": "stdout",
     "output_type": "stream",
     "text": [
      "Epoch:  86\n",
      "Training loss: 0.376\n"
     ]
    },
    {
     "data": {
      "text/html": [
       "\n",
       "        <p>Loss: 0.3678   8000 / 8000</p>\n",
       "        <progress value='8000' max='8000', style='width: 100%'>8000</progress>\n",
       "    "
      ],
      "text/plain": [
       "<IPython.core.display.HTML object>"
      ]
     },
     "metadata": {},
     "output_type": "display_data"
    },
    {
     "name": "stdout",
     "output_type": "stream",
     "text": [
      "Validation Loss:  0.3678\n",
      "Validation accuracy: 98.1750%\n",
      "\"Best Loss\": 0.3677535764873028\n",
      "\n",
      "Validation Loss has gone up 0 times.\n",
      "\n"
     ]
    },
    {
     "data": {
      "text/html": [
       "\n",
       "        <p>Loss: 0.3684   24000 / 24000</p>\n",
       "        <progress value='24000' max='24000', style='width: 100%'>24000</progress>\n",
       "    "
      ],
      "text/plain": [
       "<IPython.core.display.HTML object>"
      ]
     },
     "metadata": {},
     "output_type": "display_data"
    },
    {
     "name": "stdout",
     "output_type": "stream",
     "text": [
      "Epoch:  87\n",
      "Training loss: 0.3684\n"
     ]
    },
    {
     "data": {
      "text/html": [
       "\n",
       "        <p>Loss: 0.3636   8000 / 8000</p>\n",
       "        <progress value='8000' max='8000', style='width: 100%'>8000</progress>\n",
       "    "
      ],
      "text/plain": [
       "<IPython.core.display.HTML object>"
      ]
     },
     "metadata": {},
     "output_type": "display_data"
    },
    {
     "name": "stdout",
     "output_type": "stream",
     "text": [
      "Validation Loss:  0.3636\n",
      "Validation accuracy: 98.3125%\n",
      "\"Best Loss\": 0.3635974656790495\n",
      "\n",
      "Validation Loss has gone up 0 times.\n",
      "\n"
     ]
    },
    {
     "data": {
      "text/html": [
       "\n",
       "        <p>Loss: 0.3804   24000 / 24000</p>\n",
       "        <progress value='24000' max='24000', style='width: 100%'>24000</progress>\n",
       "    "
      ],
      "text/plain": [
       "<IPython.core.display.HTML object>"
      ]
     },
     "metadata": {},
     "output_type": "display_data"
    },
    {
     "name": "stdout",
     "output_type": "stream",
     "text": [
      "Epoch:  88\n",
      "Training loss: 0.3804\n"
     ]
    },
    {
     "data": {
      "text/html": [
       "\n",
       "        <p>Loss: 0.3740   8000 / 8000</p>\n",
       "        <progress value='8000' max='8000', style='width: 100%'>8000</progress>\n",
       "    "
      ],
      "text/plain": [
       "<IPython.core.display.HTML object>"
      ]
     },
     "metadata": {},
     "output_type": "display_data"
    },
    {
     "name": "stdout",
     "output_type": "stream",
     "text": [
      "Validation Loss:  0.374\n",
      "Validation accuracy: 98.3125%\n",
      "Validation Loss has gone up 1 times.\n",
      "\n"
     ]
    },
    {
     "data": {
      "text/html": [
       "\n",
       "        <p>Loss: 0.3819   24000 / 24000</p>\n",
       "        <progress value='24000' max='24000', style='width: 100%'>24000</progress>\n",
       "    "
      ],
      "text/plain": [
       "<IPython.core.display.HTML object>"
      ]
     },
     "metadata": {},
     "output_type": "display_data"
    },
    {
     "name": "stdout",
     "output_type": "stream",
     "text": [
      "Epoch:  89\n",
      "Training loss: 0.3819\n"
     ]
    },
    {
     "data": {
      "text/html": [
       "\n",
       "        <p>Loss: 0.3864   8000 / 8000</p>\n",
       "        <progress value='8000' max='8000', style='width: 100%'>8000</progress>\n",
       "    "
      ],
      "text/plain": [
       "<IPython.core.display.HTML object>"
      ]
     },
     "metadata": {},
     "output_type": "display_data"
    },
    {
     "name": "stdout",
     "output_type": "stream",
     "text": [
      "Validation Loss:  0.3864\n",
      "Validation accuracy: 98.3500%\n",
      "Validation Loss has gone up 2 times.\n",
      "\n"
     ]
    },
    {
     "data": {
      "text/html": [
       "\n",
       "        <p>Loss: 0.3803   24000 / 24000</p>\n",
       "        <progress value='24000' max='24000', style='width: 100%'>24000</progress>\n",
       "    "
      ],
      "text/plain": [
       "<IPython.core.display.HTML object>"
      ]
     },
     "metadata": {},
     "output_type": "display_data"
    },
    {
     "name": "stdout",
     "output_type": "stream",
     "text": [
      "Epoch:  90\n",
      "Training loss: 0.3803\n"
     ]
    },
    {
     "data": {
      "text/html": [
       "\n",
       "        <p>Loss: 0.3670   8000 / 8000</p>\n",
       "        <progress value='8000' max='8000', style='width: 100%'>8000</progress>\n",
       "    "
      ],
      "text/plain": [
       "<IPython.core.display.HTML object>"
      ]
     },
     "metadata": {},
     "output_type": "display_data"
    },
    {
     "name": "stdout",
     "output_type": "stream",
     "text": [
      "Validation Loss:  0.367\n",
      "Validation accuracy: 98.0625%\n",
      "Validation Loss has gone up 0 times.\n",
      "\n"
     ]
    },
    {
     "data": {
      "text/html": [
       "\n",
       "        <p>Loss: 0.3599   24000 / 24000</p>\n",
       "        <progress value='24000' max='24000', style='width: 100%'>24000</progress>\n",
       "    "
      ],
      "text/plain": [
       "<IPython.core.display.HTML object>"
      ]
     },
     "metadata": {},
     "output_type": "display_data"
    },
    {
     "name": "stdout",
     "output_type": "stream",
     "text": [
      "Epoch:  91\n",
      "Training loss: 0.3599\n"
     ]
    },
    {
     "data": {
      "text/html": [
       "\n",
       "        <p>Loss: 0.5349   8000 / 8000</p>\n",
       "        <progress value='8000' max='8000', style='width: 100%'>8000</progress>\n",
       "    "
      ],
      "text/plain": [
       "<IPython.core.display.HTML object>"
      ]
     },
     "metadata": {},
     "output_type": "display_data"
    },
    {
     "name": "stdout",
     "output_type": "stream",
     "text": [
      "Validation Loss:  0.5349\n",
      "Validation accuracy: 73.4250%\n",
      "Validation Loss has gone up 1 times.\n",
      "\n"
     ]
    },
    {
     "data": {
      "text/html": [
       "\n",
       "        <p>Loss: 0.4656   24000 / 24000</p>\n",
       "        <progress value='24000' max='24000', style='width: 100%'>24000</progress>\n",
       "    "
      ],
      "text/plain": [
       "<IPython.core.display.HTML object>"
      ]
     },
     "metadata": {},
     "output_type": "display_data"
    },
    {
     "name": "stdout",
     "output_type": "stream",
     "text": [
      "Epoch:  92\n",
      "Training loss: 0.4656\n"
     ]
    },
    {
     "data": {
      "text/html": [
       "\n",
       "        <p>Loss: 0.3303   8000 / 8000</p>\n",
       "        <progress value='8000' max='8000', style='width: 100%'>8000</progress>\n",
       "    "
      ],
      "text/plain": [
       "<IPython.core.display.HTML object>"
      ]
     },
     "metadata": {},
     "output_type": "display_data"
    },
    {
     "name": "stdout",
     "output_type": "stream",
     "text": [
      "Validation Loss:  0.3303\n",
      "Validation accuracy: 98.2750%\n",
      "\"Best Loss\": 0.33027832955121994\n",
      "\n",
      "Validation Loss has gone up 0 times.\n",
      "\n"
     ]
    },
    {
     "data": {
      "text/html": [
       "\n",
       "        <p>Loss: 0.3307   24000 / 24000</p>\n",
       "        <progress value='24000' max='24000', style='width: 100%'>24000</progress>\n",
       "    "
      ],
      "text/plain": [
       "<IPython.core.display.HTML object>"
      ]
     },
     "metadata": {},
     "output_type": "display_data"
    },
    {
     "name": "stdout",
     "output_type": "stream",
     "text": [
      "Epoch:  93\n",
      "Training loss: 0.3307\n"
     ]
    },
    {
     "data": {
      "text/html": [
       "\n",
       "        <p>Loss: 0.3510   8000 / 8000</p>\n",
       "        <progress value='8000' max='8000', style='width: 100%'>8000</progress>\n",
       "    "
      ],
      "text/plain": [
       "<IPython.core.display.HTML object>"
      ]
     },
     "metadata": {},
     "output_type": "display_data"
    },
    {
     "name": "stdout",
     "output_type": "stream",
     "text": [
      "Validation Loss:  0.351\n",
      "Validation accuracy: 96.2750%\n",
      "Validation Loss has gone up 1 times.\n",
      "\n"
     ]
    },
    {
     "data": {
      "text/html": [
       "\n",
       "        <p>Loss: 0.3865   24000 / 24000</p>\n",
       "        <progress value='24000' max='24000', style='width: 100%'>24000</progress>\n",
       "    "
      ],
      "text/plain": [
       "<IPython.core.display.HTML object>"
      ]
     },
     "metadata": {},
     "output_type": "display_data"
    },
    {
     "name": "stdout",
     "output_type": "stream",
     "text": [
      "Epoch:  94\n",
      "Training loss: 0.3865\n"
     ]
    },
    {
     "data": {
      "text/html": [
       "\n",
       "        <p>Loss: 0.3772   8000 / 8000</p>\n",
       "        <progress value='8000' max='8000', style='width: 100%'>8000</progress>\n",
       "    "
      ],
      "text/plain": [
       "<IPython.core.display.HTML object>"
      ]
     },
     "metadata": {},
     "output_type": "display_data"
    },
    {
     "name": "stdout",
     "output_type": "stream",
     "text": [
      "Validation Loss:  0.3772\n",
      "Validation accuracy: 97.8000%\n",
      "Validation Loss has gone up 2 times.\n",
      "\n"
     ]
    },
    {
     "data": {
      "text/html": [
       "\n",
       "        <p>Loss: 0.3894   24000 / 24000</p>\n",
       "        <progress value='24000' max='24000', style='width: 100%'>24000</progress>\n",
       "    "
      ],
      "text/plain": [
       "<IPython.core.display.HTML object>"
      ]
     },
     "metadata": {},
     "output_type": "display_data"
    },
    {
     "name": "stdout",
     "output_type": "stream",
     "text": [
      "Epoch:  95\n",
      "Training loss: 0.3894\n"
     ]
    },
    {
     "data": {
      "text/html": [
       "\n",
       "        <p>Loss: 0.4061   8000 / 8000</p>\n",
       "        <progress value='8000' max='8000', style='width: 100%'>8000</progress>\n",
       "    "
      ],
      "text/plain": [
       "<IPython.core.display.HTML object>"
      ]
     },
     "metadata": {},
     "output_type": "display_data"
    },
    {
     "name": "stdout",
     "output_type": "stream",
     "text": [
      "Validation Loss:  0.4061\n",
      "Validation accuracy: 98.3750%\n",
      "Validation Loss has gone up 3 times.\n",
      "\n"
     ]
    }
   ],
   "source": [
    "train_losses, valid_losses = train(lr_model, trn_dl, val_dl)"
   ]
  },
  {
   "cell_type": "code",
   "execution_count": 7,
   "metadata": {},
   "outputs": [
    {
     "data": {
      "image/png": "[encoded data removed]",
      "text/plain": [
       "<Figure size 720x432 with 1 Axes>"
      ]
     },
     "metadata": {
      "needs_background": "light"
     },
     "output_type": "display_data"
    }
   ],
   "source": [
    "epochs = range(1, len(train_losses) + 1)\n",
    "\n",
    "plt.figure(figsize=(10,6))\n",
    "plt.plot(epochs, train_losses, '-o', label='Training loss')\n",
    "plt.plot(epochs, valid_losses, '-o', label='Validation loss')\n",
    "plt.legend()\n",
    "plt.title('Learning curves')\n",
    "plt.xlabel('Epoch')\n",
    "plt.ylabel('Loss')\n",
    "plt.xticks(epochs)\n",
    "plt.show()"
   ]
  }
 ],
 "metadata": {
  "accelerator": "GPU",
  "colab": {
   "authorship_tag": "ABX9TyNYwy8pk5RP1WfSlFR9Do+P",
   "include_colab_link": true,
   "machine_shape": "hm",
   "mount_file_id": "1oUma_1hYvI7_NNVnKvHgVAbI1Y2xWoxt",
   "name": "DeepFakeDetectionModel",
   "provenance": []
  },
  "kernelspec": {
   "display_name": "Python 3",
   "language": "python",
   "name": "python3"
  },
  "language_info": {
   "codemirror_mode": {
    "name": "ipython",
    "version": 3
   },
   "file_extension": ".py",
   "mimetype": "text/x-python",
   "name": "python",
   "nbconvert_exporter": "python",
   "pygments_lexer": "ipython3",
   "version": "3.7.4"
  },
  "widgets": {
   "application/vnd.jupyter.widget-state+json": {
    "state": {},
    "version_major": 2,
    "version_minor": 0
   }
  }
 },
 "nbformat": 4,
 "nbformat_minor": 4
}
