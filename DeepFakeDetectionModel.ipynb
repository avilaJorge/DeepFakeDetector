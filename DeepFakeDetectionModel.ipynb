{
  "nbformat": 4,
  "nbformat_minor": 0,
  "metadata": {
    "colab": {
      "name": "DeepFakeDetectionModel",
      "provenance": [],
      "collapsed_sections": [],
      "machine_shape": "hm",
      "mount_file_id": "https://github.com/avilaJorge/CSE253_FinalProject/blob/master/DeepFakeDetectionModel.ipynb",
      "authorship_tag": "ABX9TyMeXoVAQ/aq9karJT6Ql9lj",
      "include_colab_link": true
    },
    "kernelspec": {
      "name": "python3",
      "display_name": "Python 3"
    },
    "accelerator": "GPU"
  },
  "cells": [
    {
      "cell_type": "markdown",
      "metadata": {
        "id": "view-in-github",
        "colab_type": "text"
      },
      "source": [
        "<a href=\"https://colab.research.google.com/github/avilaJorge/CSE253_FinalProject/blob/master/DeepFakeDetectionModel.ipynb\" target=\"_parent\"><img src=\"https://colab.research.google.com/assets/colab-badge.svg\" alt=\"Open In Colab\"/></a>"
      ]
    },
    {
      "cell_type": "code",
      "metadata": {
        "id": "boe54s6OzmGv",
        "colab_type": "code",
        "colab": {}
      },
      "source": [
        "# !rm -R ./Logistic_Regression/*\n",
        "# !mkdir Linear_Regression\n",
        "# !rm -R ./sample_data"
      ],
      "execution_count": 0,
      "outputs": []
    },
    {
      "cell_type": "code",
      "metadata": {
        "id": "YylQ7_8dYB_m",
        "colab_type": "code",
        "colab": {}
      },
      "source": [
        "!cp *.py /content/drive/My\\ Drive/CSE\\ 253/PA5/PyFiles\n",
        "!cp *.ipynb /content/drive/My\\ Drive/CSE\\ 253/PA5/PyFiles"
      ],
      "execution_count": 0,
      "outputs": []
    },
    {
      "cell_type": "code",
      "metadata": {
        "id": "fJEugQ-VE0sf",
        "colab_type": "code",
        "colab": {}
      },
      "source": [
        "# !wget https://storage.googleapis.com/img-hosting-bucket/Faces_HQ.hdf5"
      ],
      "execution_count": 0,
      "outputs": []
    },
    {
      "cell_type": "code",
      "metadata": {
        "id": "T0CbUfjOFfnJ",
        "colab_type": "code",
        "outputId": "a8dcf459-1e9b-4112-80e5-d8d74a734100",
        "colab": {
          "base_uri": "https://localhost:8080/",
          "height": 312
        }
      },
      "source": [
        "gpu_info = !nvidia-smi\n",
        "gpu_info = '\\n'.join(gpu_info)\n",
        "if gpu_info.find('failed') >= 0:\n",
        "  print('Select the Runtime → \"Change runtime type\" menu to enable a GPU accelerator, ')\n",
        "  print('and then re-execute this cell.')\n",
        "else:\n",
        "  print(gpu_info)"
      ],
      "execution_count": 4,
      "outputs": [
        {
          "output_type": "stream",
          "text": [
            "Thu Mar 12 08:13:17 2020       \n",
            "+-----------------------------------------------------------------------------+\n",
            "| NVIDIA-SMI 440.59       Driver Version: 418.67       CUDA Version: 10.1     |\n",
            "|-------------------------------+----------------------+----------------------+\n",
            "| GPU  Name        Persistence-M| Bus-Id        Disp.A | Volatile Uncorr. ECC |\n",
            "| Fan  Temp  Perf  Pwr:Usage/Cap|         Memory-Usage | GPU-Util  Compute M. |\n",
            "|===============================+======================+======================|\n",
            "|   0  Tesla P100-PCIE...  Off  | 00000000:00:04.0 Off |                    0 |\n",
            "| N/A   35C    P0    25W / 250W |      0MiB / 16280MiB |      0%      Default |\n",
            "+-------------------------------+----------------------+----------------------+\n",
            "                                                                               \n",
            "+-----------------------------------------------------------------------------+\n",
            "| Processes:                                                       GPU Memory |\n",
            "|  GPU       PID   Type   Process name                             Usage      |\n",
            "|=============================================================================|\n",
            "|  No running processes found                                                 |\n",
            "+-----------------------------------------------------------------------------+\n"
          ],
          "name": "stdout"
        }
      ]
    },
    {
      "cell_type": "code",
      "metadata": {
        "id": "6pR6L5w39m4U",
        "colab_type": "code",
        "colab": {}
      },
      "source": [
        "%run DeepFake_Dataloader.py\n",
        "%run utils.py"
      ],
      "execution_count": 0,
      "outputs": []
    },
    {
      "cell_type": "code",
      "metadata": {
        "colab_type": "code",
        "id": "-HZyhY_V9t11",
        "colab": {
          "base_uri": "https://localhost:8080/",
          "height": 35
        },
        "outputId": "ab97accb-745b-4b04-b65a-73cb67ff71fc"
      },
      "source": [
        "# imports pytorch\n",
        "import torch\n",
        "import torch.nn as nn\n",
        "import torchvision.transforms as transforms\n",
        "from torch.utils.data import Dataset, DataLoader\n",
        "\n",
        "# Numpy, Matplotlib, and PIL\n",
        "import numpy as np\n",
        "import matplotlib.pyplot as plt\n",
        "\n",
        "# K-means import\n",
        "# !pip install pykeops\n",
        "from pykeops.torch import LazyTensor\n",
        "!pip install kmeans-pytorch\n",
        "from kmeans_pytorch import kmeans\n",
        "\n",
        "# general imports\n",
        "import pprint\n",
        "\n",
        "# My imports\n",
        "from DeepFake_Dataloader import get_dataloaders\n",
        "from models import LinearRegression, save_model, SVM, KMeans\n",
        "from utils import RunningAverage\n",
        "from train import train, evaluate\n",
        "\n",
        "device = torch.device(\"cuda:0\" if torch.cuda.is_available() else \"cpu\")"
      ],
      "execution_count": 35,
      "outputs": [
        {
          "output_type": "stream",
          "text": [
            "Requirement already satisfied: kmeans-pytorch in /usr/local/lib/python3.6/dist-packages (0.3)\n"
          ],
          "name": "stdout"
        }
      ]
    },
    {
      "cell_type": "code",
      "metadata": {
        "colab_type": "code",
        "id": "v1JJsL9H9t14",
        "colab": {}
      },
      "source": [
        "trn_dl, val_dl, tst_dl = get_dataloaders(dataset=DeepFakeHDF5Dataset())"
      ],
      "execution_count": 0,
      "outputs": []
    },
    {
      "cell_type": "code",
      "metadata": {
        "id": "ftr4FTkt9m4b",
        "colab_type": "code",
        "colab": {}
      },
      "source": [
        "s_epoch      = 1\n",
        "num_epochs   = 300\n",
        "lr_rate      = 1e-2\n",
        "load_model   = False\n",
        "model_name   = 'LogisticRegressionModel'\n",
        "path         = '/content/Logistic_Regression'\n",
        "\n",
        "lr_model = LinearRegression(725).to(device)\n",
        "criterion = torch.nn.BCEWithLogitsLoss()\n",
        "optimizer = torch.optim.SGD(lr_model.parameters(), lr=lr_rate, weight_decay=1e-3, momentum=0.9)\n",
        "\n",
        "if load_model:\n",
        "    lr_model.load_state_dict(torch.load(''))"
      ],
      "execution_count": 0,
      "outputs": []
    },
    {
      "cell_type": "code",
      "metadata": {
        "id": "mLc_eMyB9m4f",
        "colab_type": "code",
        "outputId": "e06db4df-40f8-4da1-96cf-97b27c0b7c5e",
        "colab": {
          "base_uri": "https://localhost:8080/",
          "height": 1000
        }
      },
      "source": [
        "\n",
        "train_losses, valid_losses = train(lr_model, \n",
        "                                   optimizer, \n",
        "                                   criterion, \n",
        "                                   trn_dl, \n",
        "                                   val_dl,\n",
        "                                   model_name,\n",
        "                                   path,\n",
        "                                   predicter=torch.nn.Sigmoid())"
      ],
      "execution_count": 9,
      "outputs": [
        {
          "output_type": "display_data",
          "data": {
            "text/html": [
              "\n",
              "        <p>Loss: 0.0969   24000 / 24000</p>\n",
              "        <progress value='24000' max='24000', style='width: 100%'>24000</progress>\n",
              "    "
            ],
            "text/plain": [
              "<IPython.core.display.HTML object>"
            ]
          },
          "metadata": {
            "tags": []
          }
        },
        {
          "output_type": "stream",
          "text": [
            "Epoch:  1\n",
            "Training loss: 0.0969\n"
          ],
          "name": "stdout"
        },
        {
          "output_type": "display_data",
          "data": {
            "text/html": [
              "\n",
              "        <p>Loss: 0.0358   24000 / 24000</p>\n",
              "        <progress value='24000' max='24000', style='width: 100%'>24000</progress>\n",
              "    "
            ],
            "text/plain": [
              "<IPython.core.display.HTML object>"
            ]
          },
          "metadata": {
            "tags": []
          }
        },
        {
          "output_type": "stream",
          "text": [
            "Training Loss:  0.0358\n",
            "Training accuracy: 99.1792%\n"
          ],
          "name": "stdout"
        },
        {
          "output_type": "display_data",
          "data": {
            "text/html": [
              "\n",
              "        <p>Loss: 0.0395   8000 / 8000</p>\n",
              "        <progress value='8000' max='8000', style='width: 100%'>8000</progress>\n",
              "    "
            ],
            "text/plain": [
              "<IPython.core.display.HTML object>"
            ]
          },
          "metadata": {
            "tags": []
          }
        },
        {
          "output_type": "stream",
          "text": [
            "Validation Loss:  0.0395\n",
            "Validation accuracy: 99.1375%\n",
            "\"Best Loss\": 0.039457528763228944\n",
            "\n",
            "Validation Loss has gone up 0 times.\n",
            "\n"
          ],
          "name": "stdout"
        },
        {
          "output_type": "display_data",
          "data": {
            "text/html": [
              "\n",
              "        <p>Loss: 0.0279   24000 / 24000</p>\n",
              "        <progress value='24000' max='24000', style='width: 100%'>24000</progress>\n",
              "    "
            ],
            "text/plain": [
              "<IPython.core.display.HTML object>"
            ]
          },
          "metadata": {
            "tags": []
          }
        },
        {
          "output_type": "stream",
          "text": [
            "Epoch:  2\n",
            "Training loss: 0.0279\n"
          ],
          "name": "stdout"
        },
        {
          "output_type": "display_data",
          "data": {
            "text/html": [
              "\n",
              "        <p>Loss: 0.0231   24000 / 24000</p>\n",
              "        <progress value='24000' max='24000', style='width: 100%'>24000</progress>\n",
              "    "
            ],
            "text/plain": [
              "<IPython.core.display.HTML object>"
            ]
          },
          "metadata": {
            "tags": []
          }
        },
        {
          "output_type": "stream",
          "text": [
            "Training Loss:  0.0231\n",
            "Training accuracy: 99.5542%\n"
          ],
          "name": "stdout"
        },
        {
          "output_type": "display_data",
          "data": {
            "text/html": [
              "\n",
              "        <p>Loss: 0.0235   8000 / 8000</p>\n",
              "        <progress value='8000' max='8000', style='width: 100%'>8000</progress>\n",
              "    "
            ],
            "text/plain": [
              "<IPython.core.display.HTML object>"
            ]
          },
          "metadata": {
            "tags": []
          }
        },
        {
          "output_type": "stream",
          "text": [
            "Validation Loss:  0.0235\n",
            "Validation accuracy: 99.5500%\n",
            "\"Best Loss\": 0.023465569426734292\n",
            "\n",
            "Validation Loss has gone up 0 times.\n",
            "\n"
          ],
          "name": "stdout"
        },
        {
          "output_type": "display_data",
          "data": {
            "text/html": [
              "\n",
              "        <p>Loss: 0.0159   24000 / 24000</p>\n",
              "        <progress value='24000' max='24000', style='width: 100%'>24000</progress>\n",
              "    "
            ],
            "text/plain": [
              "<IPython.core.display.HTML object>"
            ]
          },
          "metadata": {
            "tags": []
          }
        },
        {
          "output_type": "stream",
          "text": [
            "Epoch:  3\n",
            "Training loss: 0.0159\n"
          ],
          "name": "stdout"
        },
        {
          "output_type": "display_data",
          "data": {
            "text/html": [
              "\n",
              "        <p>Loss: 0.0145   24000 / 24000</p>\n",
              "        <progress value='24000' max='24000', style='width: 100%'>24000</progress>\n",
              "    "
            ],
            "text/plain": [
              "<IPython.core.display.HTML object>"
            ]
          },
          "metadata": {
            "tags": []
          }
        },
        {
          "output_type": "stream",
          "text": [
            "Training Loss:  0.0145\n",
            "Training accuracy: 99.6542%\n"
          ],
          "name": "stdout"
        },
        {
          "output_type": "display_data",
          "data": {
            "text/html": [
              "\n",
              "        <p>Loss: 0.0152   8000 / 8000</p>\n",
              "        <progress value='8000' max='8000', style='width: 100%'>8000</progress>\n",
              "    "
            ],
            "text/plain": [
              "<IPython.core.display.HTML object>"
            ]
          },
          "metadata": {
            "tags": []
          }
        },
        {
          "output_type": "stream",
          "text": [
            "Validation Loss:  0.0152\n",
            "Validation accuracy: 99.6375%\n",
            "\"Best Loss\": 0.01521640817915637\n",
            "\n",
            "Validation Loss has gone up 0 times.\n",
            "\n"
          ],
          "name": "stdout"
        },
        {
          "output_type": "display_data",
          "data": {
            "text/html": [
              "\n",
              "        <p>Loss: 0.0114   24000 / 24000</p>\n",
              "        <progress value='24000' max='24000', style='width: 100%'>24000</progress>\n",
              "    "
            ],
            "text/plain": [
              "<IPython.core.display.HTML object>"
            ]
          },
          "metadata": {
            "tags": []
          }
        },
        {
          "output_type": "stream",
          "text": [
            "Epoch:  4\n",
            "Training loss: 0.0114\n"
          ],
          "name": "stdout"
        },
        {
          "output_type": "display_data",
          "data": {
            "text/html": [
              "\n",
              "        <p>Loss: 0.0085   24000 / 24000</p>\n",
              "        <progress value='24000' max='24000', style='width: 100%'>24000</progress>\n",
              "    "
            ],
            "text/plain": [
              "<IPython.core.display.HTML object>"
            ]
          },
          "metadata": {
            "tags": []
          }
        },
        {
          "output_type": "stream",
          "text": [
            "Training Loss:  0.0085\n",
            "Training accuracy: 99.8292%\n"
          ],
          "name": "stdout"
        },
        {
          "output_type": "display_data",
          "data": {
            "text/html": [
              "\n",
              "        <p>Loss: 0.0079   8000 / 8000</p>\n",
              "        <progress value='8000' max='8000', style='width: 100%'>8000</progress>\n",
              "    "
            ],
            "text/plain": [
              "<IPython.core.display.HTML object>"
            ]
          },
          "metadata": {
            "tags": []
          }
        },
        {
          "output_type": "stream",
          "text": [
            "Validation Loss:  0.0079\n",
            "Validation accuracy: 99.8000%\n",
            "\"Best Loss\": 0.007861305708213452\n",
            "\n",
            "Validation Loss has gone up 0 times.\n",
            "\n"
          ],
          "name": "stdout"
        },
        {
          "output_type": "display_data",
          "data": {
            "text/html": [
              "\n",
              "        <p>Loss: 0.0084   24000 / 24000</p>\n",
              "        <progress value='24000' max='24000', style='width: 100%'>24000</progress>\n",
              "    "
            ],
            "text/plain": [
              "<IPython.core.display.HTML object>"
            ]
          },
          "metadata": {
            "tags": []
          }
        },
        {
          "output_type": "stream",
          "text": [
            "Epoch:  5\n",
            "Training loss: 0.0084\n"
          ],
          "name": "stdout"
        },
        {
          "output_type": "display_data",
          "data": {
            "text/html": [
              "\n",
              "        <p>Loss: 0.0068   24000 / 24000</p>\n",
              "        <progress value='24000' max='24000', style='width: 100%'>24000</progress>\n",
              "    "
            ],
            "text/plain": [
              "<IPython.core.display.HTML object>"
            ]
          },
          "metadata": {
            "tags": []
          }
        },
        {
          "output_type": "stream",
          "text": [
            "Training Loss:  0.0068\n",
            "Training accuracy: 99.8708%\n"
          ],
          "name": "stdout"
        },
        {
          "output_type": "display_data",
          "data": {
            "text/html": [
              "\n",
              "        <p>Loss: 0.0060   8000 / 8000</p>\n",
              "        <progress value='8000' max='8000', style='width: 100%'>8000</progress>\n",
              "    "
            ],
            "text/plain": [
              "<IPython.core.display.HTML object>"
            ]
          },
          "metadata": {
            "tags": []
          }
        },
        {
          "output_type": "stream",
          "text": [
            "Validation Loss:  0.006\n",
            "Validation accuracy: 99.8875%\n",
            "\"Best Loss\": 0.0059842455112153565\n",
            "\n",
            "Validation Loss has gone up 0 times.\n",
            "\n"
          ],
          "name": "stdout"
        },
        {
          "output_type": "display_data",
          "data": {
            "text/html": [
              "\n",
              "        <p>Loss: 0.0068   24000 / 24000</p>\n",
              "        <progress value='24000' max='24000', style='width: 100%'>24000</progress>\n",
              "    "
            ],
            "text/plain": [
              "<IPython.core.display.HTML object>"
            ]
          },
          "metadata": {
            "tags": []
          }
        },
        {
          "output_type": "stream",
          "text": [
            "Epoch:  6\n",
            "Training loss: 0.0068\n"
          ],
          "name": "stdout"
        },
        {
          "output_type": "display_data",
          "data": {
            "text/html": [
              "\n",
              "        <p>Loss: 0.0061   24000 / 24000</p>\n",
              "        <progress value='24000' max='24000', style='width: 100%'>24000</progress>\n",
              "    "
            ],
            "text/plain": [
              "<IPython.core.display.HTML object>"
            ]
          },
          "metadata": {
            "tags": []
          }
        },
        {
          "output_type": "stream",
          "text": [
            "Training Loss:  0.0061\n",
            "Training accuracy: 99.8917%\n"
          ],
          "name": "stdout"
        },
        {
          "output_type": "display_data",
          "data": {
            "text/html": [
              "\n",
              "        <p>Loss: 0.0048   8000 / 8000</p>\n",
              "        <progress value='8000' max='8000', style='width: 100%'>8000</progress>\n",
              "    "
            ],
            "text/plain": [
              "<IPython.core.display.HTML object>"
            ]
          },
          "metadata": {
            "tags": []
          }
        },
        {
          "output_type": "stream",
          "text": [
            "Validation Loss:  0.0048\n",
            "Validation accuracy: 99.9375%\n",
            "\"Best Loss\": 0.004831068947659953\n",
            "\n",
            "Validation Loss has gone up 0 times.\n",
            "\n"
          ],
          "name": "stdout"
        },
        {
          "output_type": "display_data",
          "data": {
            "text/html": [
              "\n",
              "        <p>Loss: 0.0056   24000 / 24000</p>\n",
              "        <progress value='24000' max='24000', style='width: 100%'>24000</progress>\n",
              "    "
            ],
            "text/plain": [
              "<IPython.core.display.HTML object>"
            ]
          },
          "metadata": {
            "tags": []
          }
        },
        {
          "output_type": "stream",
          "text": [
            "Epoch:  7\n",
            "Training loss: 0.0056\n"
          ],
          "name": "stdout"
        },
        {
          "output_type": "display_data",
          "data": {
            "text/html": [
              "\n",
              "        <p>Loss: 0.0050   24000 / 24000</p>\n",
              "        <progress value='24000' max='24000', style='width: 100%'>24000</progress>\n",
              "    "
            ],
            "text/plain": [
              "<IPython.core.display.HTML object>"
            ]
          },
          "metadata": {
            "tags": []
          }
        },
        {
          "output_type": "stream",
          "text": [
            "Training Loss:  0.005\n",
            "Training accuracy: 99.9125%\n"
          ],
          "name": "stdout"
        },
        {
          "output_type": "display_data",
          "data": {
            "text/html": [
              "\n",
              "        <p>Loss: 0.0039   8000 / 8000</p>\n",
              "        <progress value='8000' max='8000', style='width: 100%'>8000</progress>\n",
              "    "
            ],
            "text/plain": [
              "<IPython.core.display.HTML object>"
            ]
          },
          "metadata": {
            "tags": []
          }
        },
        {
          "output_type": "stream",
          "text": [
            "Validation Loss:  0.0039\n",
            "Validation accuracy: 99.9625%\n",
            "\"Best Loss\": 0.0039238801488416285\n",
            "\n",
            "Validation Loss has gone up 0 times.\n",
            "\n"
          ],
          "name": "stdout"
        },
        {
          "output_type": "display_data",
          "data": {
            "text/html": [
              "\n",
              "        <p>Loss: 0.0051   24000 / 24000</p>\n",
              "        <progress value='24000' max='24000', style='width: 100%'>24000</progress>\n",
              "    "
            ],
            "text/plain": [
              "<IPython.core.display.HTML object>"
            ]
          },
          "metadata": {
            "tags": []
          }
        },
        {
          "output_type": "stream",
          "text": [
            "Epoch:  8\n",
            "Training loss: 0.0051\n"
          ],
          "name": "stdout"
        },
        {
          "output_type": "display_data",
          "data": {
            "text/html": [
              "\n",
              "        <p>Loss: 0.0043   24000 / 24000</p>\n",
              "        <progress value='24000' max='24000', style='width: 100%'>24000</progress>\n",
              "    "
            ],
            "text/plain": [
              "<IPython.core.display.HTML object>"
            ]
          },
          "metadata": {
            "tags": []
          }
        },
        {
          "output_type": "stream",
          "text": [
            "Training Loss:  0.0043\n",
            "Training accuracy: 99.9250%\n"
          ],
          "name": "stdout"
        },
        {
          "output_type": "display_data",
          "data": {
            "text/html": [
              "\n",
              "        <p>Loss: 0.0034   8000 / 8000</p>\n",
              "        <progress value='8000' max='8000', style='width: 100%'>8000</progress>\n",
              "    "
            ],
            "text/plain": [
              "<IPython.core.display.HTML object>"
            ]
          },
          "metadata": {
            "tags": []
          }
        },
        {
          "output_type": "stream",
          "text": [
            "Validation Loss:  0.0034\n",
            "Validation accuracy: 99.9625%\n",
            "\"Best Loss\": 0.0034001723416001786\n",
            "\n",
            "Validation Loss has gone up 0 times.\n",
            "\n"
          ],
          "name": "stdout"
        },
        {
          "output_type": "display_data",
          "data": {
            "text/html": [
              "\n",
              "        <p>Loss: 0.0046   24000 / 24000</p>\n",
              "        <progress value='24000' max='24000', style='width: 100%'>24000</progress>\n",
              "    "
            ],
            "text/plain": [
              "<IPython.core.display.HTML object>"
            ]
          },
          "metadata": {
            "tags": []
          }
        },
        {
          "output_type": "stream",
          "text": [
            "Epoch:  9\n",
            "Training loss: 0.0046\n"
          ],
          "name": "stdout"
        },
        {
          "output_type": "display_data",
          "data": {
            "text/html": [
              "\n",
              "        <p>Loss: 0.0041   24000 / 24000</p>\n",
              "        <progress value='24000' max='24000', style='width: 100%'>24000</progress>\n",
              "    "
            ],
            "text/plain": [
              "<IPython.core.display.HTML object>"
            ]
          },
          "metadata": {
            "tags": []
          }
        },
        {
          "output_type": "stream",
          "text": [
            "Training Loss:  0.0041\n",
            "Training accuracy: 99.9208%\n"
          ],
          "name": "stdout"
        },
        {
          "output_type": "display_data",
          "data": {
            "text/html": [
              "\n",
              "        <p>Loss: 0.0031   8000 / 8000</p>\n",
              "        <progress value='8000' max='8000', style='width: 100%'>8000</progress>\n",
              "    "
            ],
            "text/plain": [
              "<IPython.core.display.HTML object>"
            ]
          },
          "metadata": {
            "tags": []
          }
        },
        {
          "output_type": "stream",
          "text": [
            "Validation Loss:  0.0031\n",
            "Validation accuracy: 99.9625%\n",
            "\"Best Loss\": 0.003129964662967102\n",
            "\n",
            "Validation Loss has gone up 0 times.\n",
            "\n"
          ],
          "name": "stdout"
        },
        {
          "output_type": "display_data",
          "data": {
            "text/html": [
              "\n",
              "        <p>Loss: 0.0042   24000 / 24000</p>\n",
              "        <progress value='24000' max='24000', style='width: 100%'>24000</progress>\n",
              "    "
            ],
            "text/plain": [
              "<IPython.core.display.HTML object>"
            ]
          },
          "metadata": {
            "tags": []
          }
        },
        {
          "output_type": "stream",
          "text": [
            "Epoch:  10\n",
            "Training loss: 0.0042\n"
          ],
          "name": "stdout"
        },
        {
          "output_type": "display_data",
          "data": {
            "text/html": [
              "\n",
              "        <p>Loss: 0.0038   24000 / 24000</p>\n",
              "        <progress value='24000' max='24000', style='width: 100%'>24000</progress>\n",
              "    "
            ],
            "text/plain": [
              "<IPython.core.display.HTML object>"
            ]
          },
          "metadata": {
            "tags": []
          }
        },
        {
          "output_type": "stream",
          "text": [
            "Training Loss:  0.0038\n",
            "Training accuracy: 99.9292%\n"
          ],
          "name": "stdout"
        },
        {
          "output_type": "display_data",
          "data": {
            "text/html": [
              "\n",
              "        <p>Loss: 0.0029   8000 / 8000</p>\n",
              "        <progress value='8000' max='8000', style='width: 100%'>8000</progress>\n",
              "    "
            ],
            "text/plain": [
              "<IPython.core.display.HTML object>"
            ]
          },
          "metadata": {
            "tags": []
          }
        },
        {
          "output_type": "stream",
          "text": [
            "Validation Loss:  0.0029\n",
            "Validation accuracy: 99.9625%\n",
            "\"Best Loss\": 0.0028571705805093403\n",
            "\n",
            "Validation Loss has gone up 0 times.\n",
            "\n"
          ],
          "name": "stdout"
        },
        {
          "output_type": "display_data",
          "data": {
            "text/html": [
              "\n",
              "        <p>Loss: 0.0038   24000 / 24000</p>\n",
              "        <progress value='24000' max='24000', style='width: 100%'>24000</progress>\n",
              "    "
            ],
            "text/plain": [
              "<IPython.core.display.HTML object>"
            ]
          },
          "metadata": {
            "tags": []
          }
        },
        {
          "output_type": "stream",
          "text": [
            "Epoch:  11\n",
            "Training loss: 0.0038\n"
          ],
          "name": "stdout"
        },
        {
          "output_type": "display_data",
          "data": {
            "text/html": [
              "\n",
              "        <p>Loss: 0.0035   24000 / 24000</p>\n",
              "        <progress value='24000' max='24000', style='width: 100%'>24000</progress>\n",
              "    "
            ],
            "text/plain": [
              "<IPython.core.display.HTML object>"
            ]
          },
          "metadata": {
            "tags": []
          }
        },
        {
          "output_type": "stream",
          "text": [
            "Training Loss:  0.0035\n",
            "Training accuracy: 99.9333%\n"
          ],
          "name": "stdout"
        },
        {
          "output_type": "display_data",
          "data": {
            "text/html": [
              "\n",
              "        <p>Loss: 0.0026   8000 / 8000</p>\n",
              "        <progress value='8000' max='8000', style='width: 100%'>8000</progress>\n",
              "    "
            ],
            "text/plain": [
              "<IPython.core.display.HTML object>"
            ]
          },
          "metadata": {
            "tags": []
          }
        },
        {
          "output_type": "stream",
          "text": [
            "Validation Loss:  0.0026\n",
            "Validation accuracy: 99.9625%\n",
            "\"Best Loss\": 0.0026437991672003318\n",
            "\n",
            "Validation Loss has gone up 0 times.\n",
            "\n"
          ],
          "name": "stdout"
        },
        {
          "output_type": "display_data",
          "data": {
            "text/html": [
              "\n",
              "        <p>Loss: 0.0037   24000 / 24000</p>\n",
              "        <progress value='24000' max='24000', style='width: 100%'>24000</progress>\n",
              "    "
            ],
            "text/plain": [
              "<IPython.core.display.HTML object>"
            ]
          },
          "metadata": {
            "tags": []
          }
        },
        {
          "output_type": "stream",
          "text": [
            "Epoch:  12\n",
            "Training loss: 0.0037\n"
          ],
          "name": "stdout"
        },
        {
          "output_type": "display_data",
          "data": {
            "text/html": [
              "\n",
              "        <p>Loss: 0.0038   24000 / 24000</p>\n",
              "        <progress value='24000' max='24000', style='width: 100%'>24000</progress>\n",
              "    "
            ],
            "text/plain": [
              "<IPython.core.display.HTML object>"
            ]
          },
          "metadata": {
            "tags": []
          }
        },
        {
          "output_type": "stream",
          "text": [
            "Training Loss:  0.0038\n",
            "Training accuracy: 99.9417%\n"
          ],
          "name": "stdout"
        },
        {
          "output_type": "display_data",
          "data": {
            "text/html": [
              "\n",
              "        <p>Loss: 0.0030   8000 / 8000</p>\n",
              "        <progress value='8000' max='8000', style='width: 100%'>8000</progress>\n",
              "    "
            ],
            "text/plain": [
              "<IPython.core.display.HTML object>"
            ]
          },
          "metadata": {
            "tags": []
          }
        },
        {
          "output_type": "stream",
          "text": [
            "Validation Loss:  0.003\n",
            "Validation accuracy: 99.9625%\n",
            "Validation Loss has gone up 1 times.\n",
            "\n"
          ],
          "name": "stdout"
        },
        {
          "output_type": "display_data",
          "data": {
            "text/html": [
              "\n",
              "        <p>Loss: 0.0038   24000 / 24000</p>\n",
              "        <progress value='24000' max='24000', style='width: 100%'>24000</progress>\n",
              "    "
            ],
            "text/plain": [
              "<IPython.core.display.HTML object>"
            ]
          },
          "metadata": {
            "tags": []
          }
        },
        {
          "output_type": "stream",
          "text": [
            "Epoch:  13\n",
            "Training loss: 0.0038\n"
          ],
          "name": "stdout"
        },
        {
          "output_type": "display_data",
          "data": {
            "text/html": [
              "\n",
              "        <p>Loss: 0.0033   24000 / 24000</p>\n",
              "        <progress value='24000' max='24000', style='width: 100%'>24000</progress>\n",
              "    "
            ],
            "text/plain": [
              "<IPython.core.display.HTML object>"
            ]
          },
          "metadata": {
            "tags": []
          }
        },
        {
          "output_type": "stream",
          "text": [
            "Training Loss:  0.0033\n",
            "Training accuracy: 99.9417%\n"
          ],
          "name": "stdout"
        },
        {
          "output_type": "display_data",
          "data": {
            "text/html": [
              "\n",
              "        <p>Loss: 0.0024   8000 / 8000</p>\n",
              "        <progress value='8000' max='8000', style='width: 100%'>8000</progress>\n",
              "    "
            ],
            "text/plain": [
              "<IPython.core.display.HTML object>"
            ]
          },
          "metadata": {
            "tags": []
          }
        },
        {
          "output_type": "stream",
          "text": [
            "Validation Loss:  0.0024\n",
            "Validation accuracy: 99.9750%\n",
            "\"Best Loss\": 0.0024196703341745193\n",
            "\n",
            "Validation Loss has gone up 0 times.\n",
            "\n"
          ],
          "name": "stdout"
        },
        {
          "output_type": "display_data",
          "data": {
            "text/html": [
              "\n",
              "        <p>Loss: 0.0036   24000 / 24000</p>\n",
              "        <progress value='24000' max='24000', style='width: 100%'>24000</progress>\n",
              "    "
            ],
            "text/plain": [
              "<IPython.core.display.HTML object>"
            ]
          },
          "metadata": {
            "tags": []
          }
        },
        {
          "output_type": "stream",
          "text": [
            "Epoch:  14\n",
            "Training loss: 0.0036\n"
          ],
          "name": "stdout"
        },
        {
          "output_type": "display_data",
          "data": {
            "text/html": [
              "\n",
              "        <p>Loss: 0.0035   24000 / 24000</p>\n",
              "        <progress value='24000' max='24000', style='width: 100%'>24000</progress>\n",
              "    "
            ],
            "text/plain": [
              "<IPython.core.display.HTML object>"
            ]
          },
          "metadata": {
            "tags": []
          }
        },
        {
          "output_type": "stream",
          "text": [
            "Training Loss:  0.0035\n",
            "Training accuracy: 99.9542%\n"
          ],
          "name": "stdout"
        },
        {
          "output_type": "display_data",
          "data": {
            "text/html": [
              "\n",
              "        <p>Loss: 0.0026   8000 / 8000</p>\n",
              "        <progress value='8000' max='8000', style='width: 100%'>8000</progress>\n",
              "    "
            ],
            "text/plain": [
              "<IPython.core.display.HTML object>"
            ]
          },
          "metadata": {
            "tags": []
          }
        },
        {
          "output_type": "stream",
          "text": [
            "Validation Loss:  0.0026\n",
            "Validation accuracy: 99.9625%\n",
            "Validation Loss has gone up 1 times.\n",
            "\n"
          ],
          "name": "stdout"
        },
        {
          "output_type": "display_data",
          "data": {
            "text/html": [
              "\n",
              "        <p>Loss: 0.0035   24000 / 24000</p>\n",
              "        <progress value='24000' max='24000', style='width: 100%'>24000</progress>\n",
              "    "
            ],
            "text/plain": [
              "<IPython.core.display.HTML object>"
            ]
          },
          "metadata": {
            "tags": []
          }
        },
        {
          "output_type": "stream",
          "text": [
            "Epoch:  15\n",
            "Training loss: 0.0035\n"
          ],
          "name": "stdout"
        },
        {
          "output_type": "display_data",
          "data": {
            "text/html": [
              "\n",
              "        <p>Loss: 0.0034   24000 / 24000</p>\n",
              "        <progress value='24000' max='24000', style='width: 100%'>24000</progress>\n",
              "    "
            ],
            "text/plain": [
              "<IPython.core.display.HTML object>"
            ]
          },
          "metadata": {
            "tags": []
          }
        },
        {
          "output_type": "stream",
          "text": [
            "Training Loss:  0.0034\n",
            "Training accuracy: 99.9375%\n"
          ],
          "name": "stdout"
        },
        {
          "output_type": "display_data",
          "data": {
            "text/html": [
              "\n",
              "        <p>Loss: 0.0025   8000 / 8000</p>\n",
              "        <progress value='8000' max='8000', style='width: 100%'>8000</progress>\n",
              "    "
            ],
            "text/plain": [
              "<IPython.core.display.HTML object>"
            ]
          },
          "metadata": {
            "tags": []
          }
        },
        {
          "output_type": "stream",
          "text": [
            "Validation Loss:  0.0025\n",
            "Validation accuracy: 99.9625%\n",
            "Validation Loss has gone up 0 times.\n",
            "\n"
          ],
          "name": "stdout"
        },
        {
          "output_type": "display_data",
          "data": {
            "text/html": [
              "\n",
              "        <p>Loss: 0.0034   24000 / 24000</p>\n",
              "        <progress value='24000' max='24000', style='width: 100%'>24000</progress>\n",
              "    "
            ],
            "text/plain": [
              "<IPython.core.display.HTML object>"
            ]
          },
          "metadata": {
            "tags": []
          }
        },
        {
          "output_type": "stream",
          "text": [
            "Epoch:  16\n",
            "Training loss: 0.0034\n"
          ],
          "name": "stdout"
        },
        {
          "output_type": "display_data",
          "data": {
            "text/html": [
              "\n",
              "        <p>Loss: 0.0040   24000 / 24000</p>\n",
              "        <progress value='24000' max='24000', style='width: 100%'>24000</progress>\n",
              "    "
            ],
            "text/plain": [
              "<IPython.core.display.HTML object>"
            ]
          },
          "metadata": {
            "tags": []
          }
        },
        {
          "output_type": "stream",
          "text": [
            "Training Loss:  0.004\n",
            "Training accuracy: 99.9375%\n"
          ],
          "name": "stdout"
        },
        {
          "output_type": "display_data",
          "data": {
            "text/html": [
              "\n",
              "        <p>Loss: 0.0032   8000 / 8000</p>\n",
              "        <progress value='8000' max='8000', style='width: 100%'>8000</progress>\n",
              "    "
            ],
            "text/plain": [
              "<IPython.core.display.HTML object>"
            ]
          },
          "metadata": {
            "tags": []
          }
        },
        {
          "output_type": "stream",
          "text": [
            "Validation Loss:  0.0032\n",
            "Validation accuracy: 99.9625%\n",
            "Validation Loss has gone up 1 times.\n",
            "\n"
          ],
          "name": "stdout"
        },
        {
          "output_type": "display_data",
          "data": {
            "text/html": [
              "\n",
              "        <p>Loss: 0.0032   24000 / 24000</p>\n",
              "        <progress value='24000' max='24000', style='width: 100%'>24000</progress>\n",
              "    "
            ],
            "text/plain": [
              "<IPython.core.display.HTML object>"
            ]
          },
          "metadata": {
            "tags": []
          }
        },
        {
          "output_type": "stream",
          "text": [
            "Epoch:  17\n",
            "Training loss: 0.0032\n"
          ],
          "name": "stdout"
        },
        {
          "output_type": "display_data",
          "data": {
            "text/html": [
              "\n",
              "        <p>Loss: 0.0034   24000 / 24000</p>\n",
              "        <progress value='24000' max='24000', style='width: 100%'>24000</progress>\n",
              "    "
            ],
            "text/plain": [
              "<IPython.core.display.HTML object>"
            ]
          },
          "metadata": {
            "tags": []
          }
        },
        {
          "output_type": "stream",
          "text": [
            "Training Loss:  0.0034\n",
            "Training accuracy: 99.9417%\n"
          ],
          "name": "stdout"
        },
        {
          "output_type": "display_data",
          "data": {
            "text/html": [
              "\n",
              "        <p>Loss: 0.0027   8000 / 8000</p>\n",
              "        <progress value='8000' max='8000', style='width: 100%'>8000</progress>\n",
              "    "
            ],
            "text/plain": [
              "<IPython.core.display.HTML object>"
            ]
          },
          "metadata": {
            "tags": []
          }
        },
        {
          "output_type": "stream",
          "text": [
            "Validation Loss:  0.0027\n",
            "Validation accuracy: 99.9625%\n",
            "Validation Loss has gone up 0 times.\n",
            "\n"
          ],
          "name": "stdout"
        },
        {
          "output_type": "display_data",
          "data": {
            "text/html": [
              "\n",
              "        <p>Loss: 0.0032   24000 / 24000</p>\n",
              "        <progress value='24000' max='24000', style='width: 100%'>24000</progress>\n",
              "    "
            ],
            "text/plain": [
              "<IPython.core.display.HTML object>"
            ]
          },
          "metadata": {
            "tags": []
          }
        },
        {
          "output_type": "stream",
          "text": [
            "Epoch:  18\n",
            "Training loss: 0.0032\n"
          ],
          "name": "stdout"
        },
        {
          "output_type": "display_data",
          "data": {
            "text/html": [
              "\n",
              "        <p>Loss: 0.0037   24000 / 24000</p>\n",
              "        <progress value='24000' max='24000', style='width: 100%'>24000</progress>\n",
              "    "
            ],
            "text/plain": [
              "<IPython.core.display.HTML object>"
            ]
          },
          "metadata": {
            "tags": []
          }
        },
        {
          "output_type": "stream",
          "text": [
            "Training Loss:  0.0037\n",
            "Training accuracy: 99.9125%\n"
          ],
          "name": "stdout"
        },
        {
          "output_type": "display_data",
          "data": {
            "text/html": [
              "\n",
              "        <p>Loss: 0.0027   8000 / 8000</p>\n",
              "        <progress value='8000' max='8000', style='width: 100%'>8000</progress>\n",
              "    "
            ],
            "text/plain": [
              "<IPython.core.display.HTML object>"
            ]
          },
          "metadata": {
            "tags": []
          }
        },
        {
          "output_type": "stream",
          "text": [
            "Validation Loss:  0.0027\n",
            "Validation accuracy: 99.9625%\n",
            "Validation Loss has gone up 0 times.\n",
            "\n"
          ],
          "name": "stdout"
        },
        {
          "output_type": "display_data",
          "data": {
            "text/html": [
              "\n",
              "        <p>Loss: 0.0032   24000 / 24000</p>\n",
              "        <progress value='24000' max='24000', style='width: 100%'>24000</progress>\n",
              "    "
            ],
            "text/plain": [
              "<IPython.core.display.HTML object>"
            ]
          },
          "metadata": {
            "tags": []
          }
        },
        {
          "output_type": "stream",
          "text": [
            "Epoch:  19\n",
            "Training loss: 0.0032\n"
          ],
          "name": "stdout"
        },
        {
          "output_type": "display_data",
          "data": {
            "text/html": [
              "\n",
              "        <p>Loss: 0.0028   24000 / 24000</p>\n",
              "        <progress value='24000' max='24000', style='width: 100%'>24000</progress>\n",
              "    "
            ],
            "text/plain": [
              "<IPython.core.display.HTML object>"
            ]
          },
          "metadata": {
            "tags": []
          }
        },
        {
          "output_type": "stream",
          "text": [
            "Training Loss:  0.0028\n",
            "Training accuracy: 99.9625%\n"
          ],
          "name": "stdout"
        },
        {
          "output_type": "display_data",
          "data": {
            "text/html": [
              "\n",
              "        <p>Loss: 0.0021   8000 / 8000</p>\n",
              "        <progress value='8000' max='8000', style='width: 100%'>8000</progress>\n",
              "    "
            ],
            "text/plain": [
              "<IPython.core.display.HTML object>"
            ]
          },
          "metadata": {
            "tags": []
          }
        },
        {
          "output_type": "stream",
          "text": [
            "Validation Loss:  0.0021\n",
            "Validation accuracy: 99.9750%\n",
            "\"Best Loss\": 0.0020526579344674707\n",
            "\n",
            "Validation Loss has gone up 0 times.\n",
            "\n"
          ],
          "name": "stdout"
        },
        {
          "output_type": "display_data",
          "data": {
            "text/html": [
              "\n",
              "        <p>Loss: 0.0032   24000 / 24000</p>\n",
              "        <progress value='24000' max='24000', style='width: 100%'>24000</progress>\n",
              "    "
            ],
            "text/plain": [
              "<IPython.core.display.HTML object>"
            ]
          },
          "metadata": {
            "tags": []
          }
        },
        {
          "output_type": "stream",
          "text": [
            "Epoch:  20\n",
            "Training loss: 0.0032\n"
          ],
          "name": "stdout"
        },
        {
          "output_type": "display_data",
          "data": {
            "text/html": [
              "\n",
              "        <p>Loss: 0.0028   24000 / 24000</p>\n",
              "        <progress value='24000' max='24000', style='width: 100%'>24000</progress>\n",
              "    "
            ],
            "text/plain": [
              "<IPython.core.display.HTML object>"
            ]
          },
          "metadata": {
            "tags": []
          }
        },
        {
          "output_type": "stream",
          "text": [
            "Training Loss:  0.0028\n",
            "Training accuracy: 99.9458%\n"
          ],
          "name": "stdout"
        },
        {
          "output_type": "display_data",
          "data": {
            "text/html": [
              "\n",
              "        <p>Loss: 0.0020   8000 / 8000</p>\n",
              "        <progress value='8000' max='8000', style='width: 100%'>8000</progress>\n",
              "    "
            ],
            "text/plain": [
              "<IPython.core.display.HTML object>"
            ]
          },
          "metadata": {
            "tags": []
          }
        },
        {
          "output_type": "stream",
          "text": [
            "Validation Loss:  0.002\n",
            "Validation accuracy: 99.9750%\n",
            "\"Best Loss\": 0.002037792446254383\n",
            "\n",
            "Validation Loss has gone up 0 times.\n",
            "\n"
          ],
          "name": "stdout"
        },
        {
          "output_type": "display_data",
          "data": {
            "text/html": [
              "\n",
              "        <p>Loss: 0.0031   24000 / 24000</p>\n",
              "        <progress value='24000' max='24000', style='width: 100%'>24000</progress>\n",
              "    "
            ],
            "text/plain": [
              "<IPython.core.display.HTML object>"
            ]
          },
          "metadata": {
            "tags": []
          }
        },
        {
          "output_type": "stream",
          "text": [
            "Epoch:  21\n",
            "Training loss: 0.0031\n"
          ],
          "name": "stdout"
        },
        {
          "output_type": "display_data",
          "data": {
            "text/html": [
              "\n",
              "        <p>Loss: 0.0027   24000 / 24000</p>\n",
              "        <progress value='24000' max='24000', style='width: 100%'>24000</progress>\n",
              "    "
            ],
            "text/plain": [
              "<IPython.core.display.HTML object>"
            ]
          },
          "metadata": {
            "tags": []
          }
        },
        {
          "output_type": "stream",
          "text": [
            "Training Loss:  0.0027\n",
            "Training accuracy: 99.9500%\n"
          ],
          "name": "stdout"
        },
        {
          "output_type": "display_data",
          "data": {
            "text/html": [
              "\n",
              "        <p>Loss: 0.0020   8000 / 8000</p>\n",
              "        <progress value='8000' max='8000', style='width: 100%'>8000</progress>\n",
              "    "
            ],
            "text/plain": [
              "<IPython.core.display.HTML object>"
            ]
          },
          "metadata": {
            "tags": []
          }
        },
        {
          "output_type": "stream",
          "text": [
            "Validation Loss:  0.002\n",
            "Validation accuracy: 99.9625%\n",
            "\"Best Loss\": 0.001960417998599864\n",
            "\n",
            "Validation Loss has gone up 0 times.\n",
            "\n"
          ],
          "name": "stdout"
        },
        {
          "output_type": "display_data",
          "data": {
            "text/html": [
              "\n",
              "        <p>Loss: 0.0030   24000 / 24000</p>\n",
              "        <progress value='24000' max='24000', style='width: 100%'>24000</progress>\n",
              "    "
            ],
            "text/plain": [
              "<IPython.core.display.HTML object>"
            ]
          },
          "metadata": {
            "tags": []
          }
        },
        {
          "output_type": "stream",
          "text": [
            "Epoch:  22\n",
            "Training loss: 0.003\n"
          ],
          "name": "stdout"
        },
        {
          "output_type": "display_data",
          "data": {
            "text/html": [
              "\n",
              "        <p>Loss: 0.0027   24000 / 24000</p>\n",
              "        <progress value='24000' max='24000', style='width: 100%'>24000</progress>\n",
              "    "
            ],
            "text/plain": [
              "<IPython.core.display.HTML object>"
            ]
          },
          "metadata": {
            "tags": []
          }
        },
        {
          "output_type": "stream",
          "text": [
            "Training Loss:  0.0027\n",
            "Training accuracy: 99.9500%\n"
          ],
          "name": "stdout"
        },
        {
          "output_type": "display_data",
          "data": {
            "text/html": [
              "\n",
              "        <p>Loss: 0.0019   8000 / 8000</p>\n",
              "        <progress value='8000' max='8000', style='width: 100%'>8000</progress>\n",
              "    "
            ],
            "text/plain": [
              "<IPython.core.display.HTML object>"
            ]
          },
          "metadata": {
            "tags": []
          }
        },
        {
          "output_type": "stream",
          "text": [
            "Validation Loss:  0.0019\n",
            "Validation accuracy: 99.9750%\n",
            "\"Best Loss\": 0.0018990687408765386\n",
            "\n",
            "Validation Loss has gone up 0 times.\n",
            "\n"
          ],
          "name": "stdout"
        },
        {
          "output_type": "display_data",
          "data": {
            "text/html": [
              "\n",
              "        <p>Loss: 0.0030   24000 / 24000</p>\n",
              "        <progress value='24000' max='24000', style='width: 100%'>24000</progress>\n",
              "    "
            ],
            "text/plain": [
              "<IPython.core.display.HTML object>"
            ]
          },
          "metadata": {
            "tags": []
          }
        },
        {
          "output_type": "stream",
          "text": [
            "Epoch:  23\n",
            "Training loss: 0.003\n"
          ],
          "name": "stdout"
        },
        {
          "output_type": "display_data",
          "data": {
            "text/html": [
              "\n",
              "        <p>Loss: 0.0027   24000 / 24000</p>\n",
              "        <progress value='24000' max='24000', style='width: 100%'>24000</progress>\n",
              "    "
            ],
            "text/plain": [
              "<IPython.core.display.HTML object>"
            ]
          },
          "metadata": {
            "tags": []
          }
        },
        {
          "output_type": "stream",
          "text": [
            "Training Loss:  0.0027\n",
            "Training accuracy: 99.9500%\n"
          ],
          "name": "stdout"
        },
        {
          "output_type": "display_data",
          "data": {
            "text/html": [
              "\n",
              "        <p>Loss: 0.0022   8000 / 8000</p>\n",
              "        <progress value='8000' max='8000', style='width: 100%'>8000</progress>\n",
              "    "
            ],
            "text/plain": [
              "<IPython.core.display.HTML object>"
            ]
          },
          "metadata": {
            "tags": []
          }
        },
        {
          "output_type": "stream",
          "text": [
            "Validation Loss:  0.0022\n",
            "Validation accuracy: 99.9625%\n",
            "Validation Loss has gone up 1 times.\n",
            "\n"
          ],
          "name": "stdout"
        },
        {
          "output_type": "display_data",
          "data": {
            "text/html": [
              "\n",
              "        <p>Loss: 0.0031   24000 / 24000</p>\n",
              "        <progress value='24000' max='24000', style='width: 100%'>24000</progress>\n",
              "    "
            ],
            "text/plain": [
              "<IPython.core.display.HTML object>"
            ]
          },
          "metadata": {
            "tags": []
          }
        },
        {
          "output_type": "stream",
          "text": [
            "Epoch:  24\n",
            "Training loss: 0.0031\n"
          ],
          "name": "stdout"
        },
        {
          "output_type": "display_data",
          "data": {
            "text/html": [
              "\n",
              "        <p>Loss: 0.0035   24000 / 24000</p>\n",
              "        <progress value='24000' max='24000', style='width: 100%'>24000</progress>\n",
              "    "
            ],
            "text/plain": [
              "<IPython.core.display.HTML object>"
            ]
          },
          "metadata": {
            "tags": []
          }
        },
        {
          "output_type": "stream",
          "text": [
            "Training Loss:  0.0035\n",
            "Training accuracy: 99.9583%\n"
          ],
          "name": "stdout"
        },
        {
          "output_type": "display_data",
          "data": {
            "text/html": [
              "\n",
              "        <p>Loss: 0.0026   8000 / 8000</p>\n",
              "        <progress value='8000' max='8000', style='width: 100%'>8000</progress>\n",
              "    "
            ],
            "text/plain": [
              "<IPython.core.display.HTML object>"
            ]
          },
          "metadata": {
            "tags": []
          }
        },
        {
          "output_type": "stream",
          "text": [
            "Validation Loss:  0.0026\n",
            "Validation accuracy: 99.9750%\n",
            "Validation Loss has gone up 2 times.\n",
            "\n"
          ],
          "name": "stdout"
        }
      ]
    },
    {
      "cell_type": "code",
      "metadata": {
        "id": "I5fNHznp9m4i",
        "colab_type": "code",
        "outputId": "f44e53b8-b061-484e-eeb4-66aefeba2c2d",
        "colab": {
          "base_uri": "https://localhost:8080/",
          "height": 295
        }
      },
      "source": [
        "epochs = range(1, len(train_losses) + 1)\n",
        "epoch_ticks = [i if i % 5 == 0 else 0 for i in epochs]\n",
        "    \n",
        "# plt.figure(figsize=(10,6))\n",
        "plt.plot(epochs, train_losses, label='Training loss')\n",
        "plt.plot(epochs, valid_losses, label='Validation loss')\n",
        "plt.legend()\n",
        "plt.title('Learning curves')\n",
        "plt.xlabel('Epoch')\n",
        "plt.ylabel('Loss')\n",
        "plt.xticks(epoch_ticks)\n",
        "plt.show()"
      ],
      "execution_count": 10,
      "outputs": [
        {
          "output_type": "display_data",
          "data": {
            "image/png": "[encoded data removed]",
            "text/plain": [
              "<Figure size 432x288 with 1 Axes>"
            ]
          },
          "metadata": {
            "tags": []
          }
        }
      ]
    },
    {
      "cell_type": "code",
      "metadata": {
        "id": "vJeHSC4Y0gc1",
        "colab_type": "code",
        "colab": {
          "base_uri": "https://localhost:8080/",
          "height": 116
        },
        "outputId": "7da20463-bef7-4f3b-ecb8-85541e7e1032"
      },
      "source": [
        "test_losses = []\n",
        "evaluate(lr_model,\n",
        "         optimizer,\n",
        "         criterion,\n",
        "         0,\n",
        "         tst_dl,\n",
        "         test_losses,\n",
        "         \"\",\n",
        "         \"\",\n",
        "         acc_thresh=0.0,\n",
        "         predicter=torch.nn.Sigmoid(),\n",
        "         validation=False)"
      ],
      "execution_count": 24,
      "outputs": [
        {
          "output_type": "display_data",
          "data": {
            "text/html": [
              "\n",
              "        <p>Loss: 0.0027   8000 / 8000</p>\n",
              "        <progress value='8000' max='8000', style='width: 100%'>8000</progress>\n",
              "    "
            ],
            "text/plain": [
              "<IPython.core.display.HTML object>"
            ]
          },
          "metadata": {
            "tags": []
          }
        },
        {
          "output_type": "stream",
          "text": [
            "Validation Loss:  0.0027\n",
            "Validation accuracy: 49.7625%\n"
          ],
          "name": "stdout"
        },
        {
          "output_type": "execute_result",
          "data": {
            "text/plain": [
              "0.0027320865903877555"
            ]
          },
          "metadata": {
            "tags": []
          },
          "execution_count": 24
        }
      ]
    },
    {
      "cell_type": "code",
      "metadata": {
        "colab_type": "code",
        "id": "eJtJVTthqp1u",
        "colab": {}
      },
      "source": [
        "trn_dl, val_dl, tst_dl = get_dataloaders(dataset=DeepFakeHDF5Dataset_SVM())"
      ],
      "execution_count": 0,
      "outputs": []
    },
    {
      "cell_type": "code",
      "metadata": {
        "id": "LnWcq8jHzLaP",
        "colab_type": "code",
        "colab": {}
      },
      "source": [
        "s_epoch      = 1\n",
        "num_epochs   = 300\n",
        "lr_rate      = 1e-2\n",
        "load_model   = False\n",
        "model_name   = 'SVMModel'\n",
        "path         = '/content/SVM_Model'\n",
        "\n",
        "svm_model = SVM(725).to(device)\n",
        "criterion = torch.nn.SoftMarginLoss()\n",
        "optimizer = torch.optim.SGD(svm_model.parameters(), lr=lr_rate, weight_decay=1e-3, momentum=0.9)\n",
        "\n",
        "if load_model:\n",
        "    svm_model.load_state_dict(torch.load(''))"
      ],
      "execution_count": 0,
      "outputs": []
    },
    {
      "cell_type": "code",
      "metadata": {
        "id": "YJRYtTfYz0rr",
        "colab_type": "code",
        "outputId": "d6611520-a0bd-4d78-b776-6e79e6effef8",
        "colab": {
          "base_uri": "https://localhost:8080/",
          "height": 1000
        }
      },
      "source": [
        "def svm_lbls(T):\n",
        "    T[torch.nonzero((T < 0.0))] = 0\n",
        "    return T\n",
        "\n",
        "train_losses, valid_losses = train(svm_model, \n",
        "                                   optimizer, \n",
        "                                   criterion, \n",
        "                                   trn_dl, \n",
        "                                   val_dl,\n",
        "                                   model_name,\n",
        "                                   path,\n",
        "                                   acc_thresh=0.0,\n",
        "                                   label_transform=svm_lbls,\n",
        "                                   predicter=nn.Tanh())"
      ],
      "execution_count": 13,
      "outputs": [
        {
          "output_type": "display_data",
          "data": {
            "text/html": [
              "\n",
              "        <p>Loss: 0.0937   24000 / 24000</p>\n",
              "        <progress value='24000' max='24000', style='width: 100%'>24000</progress>\n",
              "    "
            ],
            "text/plain": [
              "<IPython.core.display.HTML object>"
            ]
          },
          "metadata": {
            "tags": []
          }
        },
        {
          "output_type": "stream",
          "text": [
            "Epoch:  1\n",
            "Training loss: 0.0937\n"
          ],
          "name": "stdout"
        },
        {
          "output_type": "display_data",
          "data": {
            "text/html": [
              "\n",
              "        <p>Loss: 0.0373   24000 / 24000</p>\n",
              "        <progress value='24000' max='24000', style='width: 100%'>24000</progress>\n",
              "    "
            ],
            "text/plain": [
              "<IPython.core.display.HTML object>"
            ]
          },
          "metadata": {
            "tags": []
          }
        },
        {
          "output_type": "stream",
          "text": [
            "Training Loss:  0.0373\n",
            "Training accuracy: 98.6792%\n"
          ],
          "name": "stdout"
        },
        {
          "output_type": "display_data",
          "data": {
            "text/html": [
              "\n",
              "        <p>Loss: 0.0352   8000 / 8000</p>\n",
              "        <progress value='8000' max='8000', style='width: 100%'>8000</progress>\n",
              "    "
            ],
            "text/plain": [
              "<IPython.core.display.HTML object>"
            ]
          },
          "metadata": {
            "tags": []
          }
        },
        {
          "output_type": "stream",
          "text": [
            "Validation Loss:  0.0352\n",
            "Validation accuracy: 98.6625%\n",
            "\"Best Loss\": 0.03519373051526527\n",
            "\n",
            "Validation Loss has gone up 0 times.\n",
            "\n"
          ],
          "name": "stdout"
        },
        {
          "output_type": "display_data",
          "data": {
            "text/html": [
              "\n",
              "        <p>Loss: 0.0291   24000 / 24000</p>\n",
              "        <progress value='24000' max='24000', style='width: 100%'>24000</progress>\n",
              "    "
            ],
            "text/plain": [
              "<IPython.core.display.HTML object>"
            ]
          },
          "metadata": {
            "tags": []
          }
        },
        {
          "output_type": "stream",
          "text": [
            "Epoch:  2\n",
            "Training loss: 0.0291\n"
          ],
          "name": "stdout"
        },
        {
          "output_type": "display_data",
          "data": {
            "text/html": [
              "\n",
              "        <p>Loss: 0.0185   24000 / 24000</p>\n",
              "        <progress value='24000' max='24000', style='width: 100%'>24000</progress>\n",
              "    "
            ],
            "text/plain": [
              "<IPython.core.display.HTML object>"
            ]
          },
          "metadata": {
            "tags": []
          }
        },
        {
          "output_type": "stream",
          "text": [
            "Training Loss:  0.0185\n",
            "Training accuracy: 99.2250%\n"
          ],
          "name": "stdout"
        },
        {
          "output_type": "display_data",
          "data": {
            "text/html": [
              "\n",
              "        <p>Loss: 0.0158   8000 / 8000</p>\n",
              "        <progress value='8000' max='8000', style='width: 100%'>8000</progress>\n",
              "    "
            ],
            "text/plain": [
              "<IPython.core.display.HTML object>"
            ]
          },
          "metadata": {
            "tags": []
          }
        },
        {
          "output_type": "stream",
          "text": [
            "Validation Loss:  0.0158\n",
            "Validation accuracy: 99.2000%\n",
            "\"Best Loss\": 0.015751132290692083\n",
            "\n",
            "Validation Loss has gone up 0 times.\n",
            "\n"
          ],
          "name": "stdout"
        },
        {
          "output_type": "display_data",
          "data": {
            "text/html": [
              "\n",
              "        <p>Loss: 0.0163   24000 / 24000</p>\n",
              "        <progress value='24000' max='24000', style='width: 100%'>24000</progress>\n",
              "    "
            ],
            "text/plain": [
              "<IPython.core.display.HTML object>"
            ]
          },
          "metadata": {
            "tags": []
          }
        },
        {
          "output_type": "stream",
          "text": [
            "Epoch:  3\n",
            "Training loss: 0.0163\n"
          ],
          "name": "stdout"
        },
        {
          "output_type": "display_data",
          "data": {
            "text/html": [
              "\n",
              "        <p>Loss: 0.0116   24000 / 24000</p>\n",
              "        <progress value='24000' max='24000', style='width: 100%'>24000</progress>\n",
              "    "
            ],
            "text/plain": [
              "<IPython.core.display.HTML object>"
            ]
          },
          "metadata": {
            "tags": []
          }
        },
        {
          "output_type": "stream",
          "text": [
            "Training Loss:  0.0116\n",
            "Training accuracy: 99.4083%\n"
          ],
          "name": "stdout"
        },
        {
          "output_type": "display_data",
          "data": {
            "text/html": [
              "\n",
              "        <p>Loss: 0.0095   8000 / 8000</p>\n",
              "        <progress value='8000' max='8000', style='width: 100%'>8000</progress>\n",
              "    "
            ],
            "text/plain": [
              "<IPython.core.display.HTML object>"
            ]
          },
          "metadata": {
            "tags": []
          }
        },
        {
          "output_type": "stream",
          "text": [
            "Validation Loss:  0.0095\n",
            "Validation accuracy: 99.4250%\n",
            "\"Best Loss\": 0.00952424494815724\n",
            "\n",
            "Validation Loss has gone up 0 times.\n",
            "\n"
          ],
          "name": "stdout"
        },
        {
          "output_type": "display_data",
          "data": {
            "text/html": [
              "\n",
              "        <p>Loss: 0.0112   24000 / 24000</p>\n",
              "        <progress value='24000' max='24000', style='width: 100%'>24000</progress>\n",
              "    "
            ],
            "text/plain": [
              "<IPython.core.display.HTML object>"
            ]
          },
          "metadata": {
            "tags": []
          }
        },
        {
          "output_type": "stream",
          "text": [
            "Epoch:  4\n",
            "Training loss: 0.0112\n"
          ],
          "name": "stdout"
        },
        {
          "output_type": "display_data",
          "data": {
            "text/html": [
              "\n",
              "        <p>Loss: 0.0086   24000 / 24000</p>\n",
              "        <progress value='24000' max='24000', style='width: 100%'>24000</progress>\n",
              "    "
            ],
            "text/plain": [
              "<IPython.core.display.HTML object>"
            ]
          },
          "metadata": {
            "tags": []
          }
        },
        {
          "output_type": "stream",
          "text": [
            "Training Loss:  0.0086\n",
            "Training accuracy: 99.4208%\n"
          ],
          "name": "stdout"
        },
        {
          "output_type": "display_data",
          "data": {
            "text/html": [
              "\n",
              "        <p>Loss: 0.0069   8000 / 8000</p>\n",
              "        <progress value='8000' max='8000', style='width: 100%'>8000</progress>\n",
              "    "
            ],
            "text/plain": [
              "<IPython.core.display.HTML object>"
            ]
          },
          "metadata": {
            "tags": []
          }
        },
        {
          "output_type": "stream",
          "text": [
            "Validation Loss:  0.0069\n",
            "Validation accuracy: 99.4625%\n",
            "\"Best Loss\": 0.006882227768766738\n",
            "\n",
            "Validation Loss has gone up 0 times.\n",
            "\n"
          ],
          "name": "stdout"
        },
        {
          "output_type": "display_data",
          "data": {
            "text/html": [
              "\n",
              "        <p>Loss: 0.0084   24000 / 24000</p>\n",
              "        <progress value='24000' max='24000', style='width: 100%'>24000</progress>\n",
              "    "
            ],
            "text/plain": [
              "<IPython.core.display.HTML object>"
            ]
          },
          "metadata": {
            "tags": []
          }
        },
        {
          "output_type": "stream",
          "text": [
            "Epoch:  5\n",
            "Training loss: 0.0084\n"
          ],
          "name": "stdout"
        },
        {
          "output_type": "display_data",
          "data": {
            "text/html": [
              "\n",
              "        <p>Loss: 0.0078   24000 / 24000</p>\n",
              "        <progress value='24000' max='24000', style='width: 100%'>24000</progress>\n",
              "    "
            ],
            "text/plain": [
              "<IPython.core.display.HTML object>"
            ]
          },
          "metadata": {
            "tags": []
          }
        },
        {
          "output_type": "stream",
          "text": [
            "Training Loss:  0.0078\n",
            "Training accuracy: 99.4167%\n"
          ],
          "name": "stdout"
        },
        {
          "output_type": "display_data",
          "data": {
            "text/html": [
              "\n",
              "        <p>Loss: 0.0059   8000 / 8000</p>\n",
              "        <progress value='8000' max='8000', style='width: 100%'>8000</progress>\n",
              "    "
            ],
            "text/plain": [
              "<IPython.core.display.HTML object>"
            ]
          },
          "metadata": {
            "tags": []
          }
        },
        {
          "output_type": "stream",
          "text": [
            "Validation Loss:  0.0059\n",
            "Validation accuracy: 99.5125%\n",
            "\"Best Loss\": 0.00592018572598814\n",
            "\n",
            "Validation Loss has gone up 0 times.\n",
            "\n"
          ],
          "name": "stdout"
        },
        {
          "output_type": "display_data",
          "data": {
            "text/html": [
              "\n",
              "        <p>Loss: 0.0073   24000 / 24000</p>\n",
              "        <progress value='24000' max='24000', style='width: 100%'>24000</progress>\n",
              "    "
            ],
            "text/plain": [
              "<IPython.core.display.HTML object>"
            ]
          },
          "metadata": {
            "tags": []
          }
        },
        {
          "output_type": "stream",
          "text": [
            "Epoch:  6\n",
            "Training loss: 0.0073\n"
          ],
          "name": "stdout"
        },
        {
          "output_type": "display_data",
          "data": {
            "text/html": [
              "\n",
              "        <p>Loss: 0.0094   24000 / 24000</p>\n",
              "        <progress value='24000' max='24000', style='width: 100%'>24000</progress>\n",
              "    "
            ],
            "text/plain": [
              "<IPython.core.display.HTML object>"
            ]
          },
          "metadata": {
            "tags": []
          }
        },
        {
          "output_type": "stream",
          "text": [
            "Training Loss:  0.0094\n",
            "Training accuracy: 99.4208%\n"
          ],
          "name": "stdout"
        },
        {
          "output_type": "display_data",
          "data": {
            "text/html": [
              "\n",
              "        <p>Loss: 0.0089   8000 / 8000</p>\n",
              "        <progress value='8000' max='8000', style='width: 100%'>8000</progress>\n",
              "    "
            ],
            "text/plain": [
              "<IPython.core.display.HTML object>"
            ]
          },
          "metadata": {
            "tags": []
          }
        },
        {
          "output_type": "stream",
          "text": [
            "Validation Loss:  0.0089\n",
            "Validation accuracy: 99.4375%\n",
            "Validation Loss has gone up 1 times.\n",
            "\n"
          ],
          "name": "stdout"
        },
        {
          "output_type": "display_data",
          "data": {
            "text/html": [
              "\n",
              "        <p>Loss: 0.0063   24000 / 24000</p>\n",
              "        <progress value='24000' max='24000', style='width: 100%'>24000</progress>\n",
              "    "
            ],
            "text/plain": [
              "<IPython.core.display.HTML object>"
            ]
          },
          "metadata": {
            "tags": []
          }
        },
        {
          "output_type": "stream",
          "text": [
            "Epoch:  7\n",
            "Training loss: 0.0063\n"
          ],
          "name": "stdout"
        },
        {
          "output_type": "display_data",
          "data": {
            "text/html": [
              "\n",
              "        <p>Loss: 0.0052   24000 / 24000</p>\n",
              "        <progress value='24000' max='24000', style='width: 100%'>24000</progress>\n",
              "    "
            ],
            "text/plain": [
              "<IPython.core.display.HTML object>"
            ]
          },
          "metadata": {
            "tags": []
          }
        },
        {
          "output_type": "stream",
          "text": [
            "Training Loss:  0.0052\n",
            "Training accuracy: 99.4792%\n"
          ],
          "name": "stdout"
        },
        {
          "output_type": "display_data",
          "data": {
            "text/html": [
              "\n",
              "        <p>Loss: 0.0042   8000 / 8000</p>\n",
              "        <progress value='8000' max='8000', style='width: 100%'>8000</progress>\n",
              "    "
            ],
            "text/plain": [
              "<IPython.core.display.HTML object>"
            ]
          },
          "metadata": {
            "tags": []
          }
        },
        {
          "output_type": "stream",
          "text": [
            "Validation Loss:  0.0042\n",
            "Validation accuracy: 99.5000%\n",
            "\"Best Loss\": 0.004158015525530256\n",
            "\n",
            "Validation Loss has gone up 0 times.\n",
            "\n"
          ],
          "name": "stdout"
        },
        {
          "output_type": "display_data",
          "data": {
            "text/html": [
              "\n",
              "        <p>Loss: 0.0054   24000 / 24000</p>\n",
              "        <progress value='24000' max='24000', style='width: 100%'>24000</progress>\n",
              "    "
            ],
            "text/plain": [
              "<IPython.core.display.HTML object>"
            ]
          },
          "metadata": {
            "tags": []
          }
        },
        {
          "output_type": "stream",
          "text": [
            "Epoch:  8\n",
            "Training loss: 0.0054\n"
          ],
          "name": "stdout"
        },
        {
          "output_type": "display_data",
          "data": {
            "text/html": [
              "\n",
              "        <p>Loss: 0.0048   24000 / 24000</p>\n",
              "        <progress value='24000' max='24000', style='width: 100%'>24000</progress>\n",
              "    "
            ],
            "text/plain": [
              "<IPython.core.display.HTML object>"
            ]
          },
          "metadata": {
            "tags": []
          }
        },
        {
          "output_type": "stream",
          "text": [
            "Training Loss:  0.0048\n",
            "Training accuracy: 99.5417%\n"
          ],
          "name": "stdout"
        },
        {
          "output_type": "display_data",
          "data": {
            "text/html": [
              "\n",
              "        <p>Loss: 0.0041   8000 / 8000</p>\n",
              "        <progress value='8000' max='8000', style='width: 100%'>8000</progress>\n",
              "    "
            ],
            "text/plain": [
              "<IPython.core.display.HTML object>"
            ]
          },
          "metadata": {
            "tags": []
          }
        },
        {
          "output_type": "stream",
          "text": [
            "Validation Loss:  0.0041\n",
            "Validation accuracy: 99.5500%\n",
            "\"Best Loss\": 0.00414557832418867\n",
            "\n",
            "Validation Loss has gone up 0 times.\n",
            "\n"
          ],
          "name": "stdout"
        },
        {
          "output_type": "display_data",
          "data": {
            "text/html": [
              "\n",
              "        <p>Loss: 0.0050   24000 / 24000</p>\n",
              "        <progress value='24000' max='24000', style='width: 100%'>24000</progress>\n",
              "    "
            ],
            "text/plain": [
              "<IPython.core.display.HTML object>"
            ]
          },
          "metadata": {
            "tags": []
          }
        },
        {
          "output_type": "stream",
          "text": [
            "Epoch:  9\n",
            "Training loss: 0.005\n"
          ],
          "name": "stdout"
        },
        {
          "output_type": "display_data",
          "data": {
            "text/html": [
              "\n",
              "        <p>Loss: 0.0048   24000 / 24000</p>\n",
              "        <progress value='24000' max='24000', style='width: 100%'>24000</progress>\n",
              "    "
            ],
            "text/plain": [
              "<IPython.core.display.HTML object>"
            ]
          },
          "metadata": {
            "tags": []
          }
        },
        {
          "output_type": "stream",
          "text": [
            "Training Loss:  0.0048\n",
            "Training accuracy: 99.5333%\n"
          ],
          "name": "stdout"
        },
        {
          "output_type": "display_data",
          "data": {
            "text/html": [
              "\n",
              "        <p>Loss: 0.0042   8000 / 8000</p>\n",
              "        <progress value='8000' max='8000', style='width: 100%'>8000</progress>\n",
              "    "
            ],
            "text/plain": [
              "<IPython.core.display.HTML object>"
            ]
          },
          "metadata": {
            "tags": []
          }
        },
        {
          "output_type": "stream",
          "text": [
            "Validation Loss:  0.0042\n",
            "Validation accuracy: 99.5375%\n",
            "Validation Loss has gone up 1 times.\n",
            "\n"
          ],
          "name": "stdout"
        },
        {
          "output_type": "display_data",
          "data": {
            "text/html": [
              "\n",
              "        <p>Loss: 0.0046   24000 / 24000</p>\n",
              "        <progress value='24000' max='24000', style='width: 100%'>24000</progress>\n",
              "    "
            ],
            "text/plain": [
              "<IPython.core.display.HTML object>"
            ]
          },
          "metadata": {
            "tags": []
          }
        },
        {
          "output_type": "stream",
          "text": [
            "Epoch:  10\n",
            "Training loss: 0.0046\n"
          ],
          "name": "stdout"
        },
        {
          "output_type": "display_data",
          "data": {
            "text/html": [
              "\n",
              "        <p>Loss: 0.0054   24000 / 24000</p>\n",
              "        <progress value='24000' max='24000', style='width: 100%'>24000</progress>\n",
              "    "
            ],
            "text/plain": [
              "<IPython.core.display.HTML object>"
            ]
          },
          "metadata": {
            "tags": []
          }
        },
        {
          "output_type": "stream",
          "text": [
            "Training Loss:  0.0054\n",
            "Training accuracy: 99.5125%\n"
          ],
          "name": "stdout"
        },
        {
          "output_type": "display_data",
          "data": {
            "text/html": [
              "\n",
              "        <p>Loss: 0.0042   8000 / 8000</p>\n",
              "        <progress value='8000' max='8000', style='width: 100%'>8000</progress>\n",
              "    "
            ],
            "text/plain": [
              "<IPython.core.display.HTML object>"
            ]
          },
          "metadata": {
            "tags": []
          }
        },
        {
          "output_type": "stream",
          "text": [
            "Validation Loss:  0.0042\n",
            "Validation accuracy: 99.4375%\n",
            "Validation Loss has gone up 2 times.\n",
            "\n"
          ],
          "name": "stdout"
        }
      ]
    },
    {
      "cell_type": "code",
      "metadata": {
        "id": "3AEusYoYvD3m",
        "colab_type": "code",
        "colab": {
          "base_uri": "https://localhost:8080/",
          "height": 116
        },
        "outputId": "3d2e0368-eb85-49b3-f089-b19164c0d738"
      },
      "source": [
        "test_losses = []\n",
        "evaluate(svm_model,\n",
        "         optimizer,\n",
        "         criterion,\n",
        "         0,\n",
        "         tst_dl,\n",
        "         test_losses,\n",
        "         \"\",\n",
        "         \"\",\n",
        "         acc_thresh=0.0,\n",
        "         label_transform=svm_lbls,\n",
        "         predicter=nn.Tanh(),\n",
        "         validation=False)"
      ],
      "execution_count": 14,
      "outputs": [
        {
          "output_type": "display_data",
          "data": {
            "text/html": [
              "\n",
              "        <p>Loss: 0.0044   8000 / 8000</p>\n",
              "        <progress value='8000' max='8000', style='width: 100%'>8000</progress>\n",
              "    "
            ],
            "text/plain": [
              "<IPython.core.display.HTML object>"
            ]
          },
          "metadata": {
            "tags": []
          }
        },
        {
          "output_type": "stream",
          "text": [
            "Validation Loss:  0.0044\n",
            "Validation accuracy: 99.4750%\n"
          ],
          "name": "stdout"
        },
        {
          "output_type": "execute_result",
          "data": {
            "text/plain": [
              "0.004411255558287459"
            ]
          },
          "metadata": {
            "tags": []
          },
          "execution_count": 14
        }
      ]
    },
    {
      "cell_type": "code",
      "metadata": {
        "id": "UJsUtBUwrmeW",
        "colab_type": "code",
        "colab": {
          "base_uri": "https://localhost:8080/",
          "height": 404
        },
        "outputId": "c35fce33-5d3f-4fcb-875b-0e441d05149d"
      },
      "source": [
        "epochs = range(1, len(train_losses) + 1)\n",
        "epoch_ticks = [i if i % 5 == 0 else 0 for i in epochs]\n",
        "    \n",
        "plt.figure(figsize=(10,6))\n",
        "plt.plot(epochs, train_losses, label='Training loss')\n",
        "plt.plot(epochs, valid_losses, label='Validation loss')\n",
        "plt.legend()\n",
        "plt.title('Learning curves')\n",
        "plt.xlabel('Epoch')\n",
        "plt.ylabel('Loss')\n",
        "plt.xticks(epoch_ticks)\n",
        "plt.show()"
      ],
      "execution_count": 15,
      "outputs": [
        {
          "output_type": "display_data",
          "data": {
            "image/png": "[encoded data removed]",
            "text/plain": [
              "<Figure size 720x432 with 1 Axes>"
            ]
          },
          "metadata": {
            "tags": []
          }
        }
      ]
    },
    {
      "cell_type": "code",
      "metadata": {
        "id": "uzgC9YvV9foq",
        "colab_type": "code",
        "colab": {}
      },
      "source": [
        "full_dataloader = get_dataloaders(dataset=DeepFakeHDF5Dataset(), full_dataset=True)"
      ],
      "execution_count": 0,
      "outputs": []
    },
    {
      "cell_type": "code",
      "metadata": {
        "id": "_kdXjvbBABLs",
        "colab_type": "code",
        "colab": {
          "base_uri": "https://localhost:8080/",
          "height": 35
        },
        "outputId": "a0cadb28-b49c-4a2c-dfc1-c62301cf4a07"
      },
      "source": [
        "(x, y) = next(iter(full_dataloader))\n",
        "print(x.shape)"
      ],
      "execution_count": 32,
      "outputs": [
        {
          "output_type": "stream",
          "text": [
            "torch.Size([40000, 725])\n"
          ],
          "name": "stdout"
        }
      ]
    },
    {
      "cell_type": "code",
      "metadata": {
        "id": "xkGul8snDCr4",
        "colab_type": "code",
        "colab": {
          "base_uri": "https://localhost:8080/",
          "height": 69
        },
        "outputId": "3294791b-a06c-4531-fdeb-73080287ae24"
      },
      "source": [
        "# Manual Standardization\n",
        "from models import KMeans\n",
        "mu = torch.mean(x, dim=1).unsqueeze(-1)\n",
        "std = 1\n",
        "X = (x.sub(other=mu))/std\n",
        "cl, c = KMeans().run(X, K=2, Niter=50)"
      ],
      "execution_count": 36,
      "outputs": [
        {
          "output_type": "stream",
          "text": [
            "K-means example with 40,000 points in dimension 725, K = 2:\n",
            "Timing for 50 iterations: 86.34692s = 50 x 1.72694s\n",
            "\n"
          ],
          "name": "stdout"
        }
      ]
    },
    {
      "cell_type": "code",
      "metadata": {
        "id": "x6mLjHp_HodB",
        "colab_type": "code",
        "colab": {
          "base_uri": "https://localhost:8080/",
          "height": 173
        },
        "outputId": "a3766f18-9524-4928-ea26-49449d8bfac2"
      },
      "source": [
        "print(cl.size())\n",
        "print(c.size())\n",
        "y = y.squeeze(-1).long()\n",
        "print(y.size())\n",
        "print(cl)\n",
        "print(y)\n",
        "sub = (cl - y)\n",
        "print(sub)\n",
        "print(sub.size())\n",
        "print(cl == y)\n",
        "accuracy = 1 - torch.mean((cl == y).float())\n",
        "print(accuracy)"
      ],
      "execution_count": 37,
      "outputs": [
        {
          "output_type": "stream",
          "text": [
            "torch.Size([40000])\n",
            "torch.Size([2, 725])\n",
            "torch.Size([40000])\n",
            "tensor([0, 0, 0,  ..., 1, 1, 0])\n",
            "tensor([1, 1, 1,  ..., 0, 0, 1])\n",
            "tensor([-1, -1, -1,  ...,  1,  1, -1])\n",
            "torch.Size([40000])\n",
            "tensor([False, False, False,  ..., False, False, False])\n",
            "tensor(0.9610)\n"
          ],
          "name": "stdout"
        }
      ]
    },
    {
      "cell_type": "code",
      "metadata": {
        "id": "QDlKzZ27NJ0B",
        "colab_type": "code",
        "colab": {
          "base_uri": "https://localhost:8080/",
          "height": 52
        },
        "outputId": "0a95770b-ca60-49b0-b61b-e3058fee6a45"
      },
      "source": [
        "# data\n",
        "(x, y) = next(iter(full_dataloader))\n",
        "data_size, dims, num_clusters = x.size(0), 2, 2\n",
        "mu = torch.mean(x, dim=1).unsqueeze(-1)\n",
        "std = 1\n",
        "X = (x.sub(other=mu))/std\n",
        "# kmeans\n",
        "cluster_ids_x, cluster_centers = kmeans(\n",
        "    X=X, num_clusters=num_clusters, distance='euclidean', device=torch.device('cuda:0')\n",
        ")"
      ],
      "execution_count": 38,
      "outputs": [
        {
          "output_type": "stream",
          "text": [
            "[running kmeans]: 1it [00:00,  8.20it/s, center_shift=119506.132812, iteration=1, tol=0.000100]"
          ],
          "name": "stderr"
        },
        {
          "output_type": "stream",
          "text": [
            "running k-means on cuda:0..\n"
          ],
          "name": "stdout"
        },
        {
          "output_type": "stream",
          "text": [
            "[running kmeans]: 13it [00:01,  8.78it/s, center_shift=0.000000, iteration=13, tol=0.000100]\n"
          ],
          "name": "stderr"
        }
      ]
    },
    {
      "cell_type": "code",
      "metadata": {
        "id": "CX6jeEH1N906",
        "colab_type": "code",
        "colab": {
          "base_uri": "https://localhost:8080/",
          "height": 69
        },
        "outputId": "47da1976-f419-4961-e8bf-f342c25ae100"
      },
      "source": [
        "\n",
        "print(cluster_ids_x.size())\n",
        "print(cluster_ids_x)\n",
        "y = y.squeeze(-1).long()\n",
        "accuracy = 1.0 - torch.mean((cluster_ids_x == y).float())\n",
        "print(accuracy)"
      ],
      "execution_count": 40,
      "outputs": [
        {
          "output_type": "stream",
          "text": [
            "torch.Size([40000])\n",
            "tensor([1, 0, 0,  ..., 0, 0, 0])\n",
            "tensor(0.9610)\n"
          ],
          "name": "stdout"
        }
      ]
    },
    {
      "cell_type": "code",
      "metadata": {
        "id": "qQnuahSabWp0",
        "colab_type": "code",
        "colab": {
          "base_uri": "https://localhost:8080/",
          "height": 87
        },
        "outputId": "6e68ad3e-4d0f-4ef2-f774-4348841f0037"
      },
      "source": [
        "from sklearn.cluster import KMeans\n",
        "k = 2\n",
        "kmeans = KMeans(n_clusters=k)\n",
        "kmeans = kmeans.fit(X)\n",
        "labels = kmeans.predict(X)\n",
        "Y = y.squeeze(-1).numpy()\n",
        "print(Y.shape)\n",
        "print(labels.shape)\n",
        "res =labels+Y\n",
        "cont=0\n",
        "print(res.shape)\n",
        "for z in range(len(res)):\n",
        "    if res[z] == 1:\n",
        "        cont+=1\n",
        "print(\"Average KM: \" + str(1-cont/len(res)) + \" or \" + str(cont/len(res)))"
      ],
      "execution_count": 44,
      "outputs": [
        {
          "output_type": "stream",
          "text": [
            "(40000,)\n",
            "(40000,)\n",
            "(40000,)\n",
            "Average KM: 0.961 or 0.039\n"
          ],
          "name": "stdout"
        }
      ]
    },
    {
      "cell_type": "code",
      "metadata": {
        "id": "9dGAwCcD26iA",
        "colab_type": "code",
        "colab": {}
      },
      "source": [
        "# import numpy as np\n",
        "# import matplotlib.pyplot as plt\n",
        "# import pickle\n",
        "\n",
        "# num = 5\n",
        "# LR = 0\n",
        "# SVM = 0\n",
        "# SVM_r = 0\n",
        "# SVM_p = 0\n",
        "\n",
        "\n",
        "# for z in range(num):\n",
        "#     # read python dict back from the file\n",
        "#     data = None\n",
        "#     lbls = None\n",
        "#     og_d = None\n",
        "#     with h5py.File(fhq_hdf5_pt, 'r') as hdf5_file: \n",
        "#         data = hdf5_file['fft_data'][:]\n",
        "#         lbls = hdf5_file['lbl_data'][:]\n",
        "#         og_d = hdf5_file['orgn_data'][:]\n",
        "\n",
        "#     X = data \n",
        "#     y = lbls \n",
        "\n",
        "\n",
        "#     try:\n",
        "\n",
        "#         from sklearn.model_selection import train_test_split\n",
        "#         X_train, X_test, y_train, y_test = train_test_split(X, y, test_size = 0.2)\n",
        "\n",
        "#         from sklearn.svm import SVC\n",
        "#         svclassifier = SVC(kernel='linear')\n",
        "#         svclassifier.fit(X_train, y_train)\n",
        "#         #print('Accuracy on test set: {:.3f}'.format(svclassifier.score(X_test, y_test)))\n",
        "               \n",
        "#         from sklearn.svm import SVC\n",
        "#         svclassifier_r = SVC(C=3.1, kernel='rbf', gamma=0.00002)\n",
        "#         svclassifier_r.fit(X_train, y_train)\n",
        "#         #print('Accuracy on test set: {:.3f}'.format(svclassifier_r.score(X_test, y_test)))\n",
        "                \n",
        "#         from sklearn.svm import SVC\n",
        "#         svclassifier_p = SVC(kernel='poly')\n",
        "#         svclassifier_p.fit(X_train, y_train)\n",
        "#         #print('Accuracy on test set: {:.3f}'.format(svclassifier_p.score(X_test, y_test)))\n",
        "        \n",
        "#         from sklearn.linear_model import LogisticRegression\n",
        "#         logreg = LogisticRegression(solver='liblinear', max_iter=1000)\n",
        "#         logreg.fit(X_train, y_train)\n",
        "#         #print('Accuracy on test set: {:.3f}'.format(logreg.score(X_test, y_test)))\n",
        "\n",
        "        \n",
        "#         SVM+=svclassifier.score(X_test, y_test)\n",
        "#         SVM_r+=svclassifier_r.score(X_test, y_test)\n",
        "#         SVM_p+=svclassifier_p.score(X_test, y_test)\n",
        "#         LR+=logreg.score(X_test, y_test)\n",
        "\n",
        " \n",
        "#     except:\n",
        "#         num-=1\n",
        "#         print(num)\n",
        "    \n",
        "# print(\"Average SVM: \"+str(SVM/num))\n",
        "# print(\"Average SVM_r: \"+str(SVM_r/num))\n",
        "# print(\"Average SVM_p: \"+str(SVM_p/num))\n",
        "# print(\"Average LR: \"+str(LR/num))"
      ],
      "execution_count": 0,
      "outputs": []
    },
    {
      "cell_type": "code",
      "metadata": {
        "id": "_qo70U6j-HQk",
        "colab_type": "code",
        "colab": {}
      },
      "source": [
        ""
      ],
      "execution_count": 0,
      "outputs": []
    }
  ]
}