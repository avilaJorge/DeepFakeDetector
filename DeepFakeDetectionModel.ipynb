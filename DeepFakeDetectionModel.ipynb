{
  "nbformat": 4,
  "nbformat_minor": 0,
  "metadata": {
    "colab": {
      "name": "DeepFakeDetectionModel",
      "provenance": [],
      "collapsed_sections": [],
      "machine_shape": "hm",
      "mount_file_id": "1oUma_1hYvI7_NNVnKvHgVAbI1Y2xWoxt",
      "authorship_tag": "ABX9TyNkrPygX9HI5HOYlJtuieNW",
      "include_colab_link": true
    },
    "kernelspec": {
      "name": "python3",
      "display_name": "Python 3"
    },
    "accelerator": "GPU"
  },
  "cells": [
    {
      "cell_type": "markdown",
      "metadata": {
        "id": "view-in-github",
        "colab_type": "text"
      },
      "source": [
        "<a href=\"https://colab.research.google.com/github/avilaJorge/CSE253_FinalProject/blob/master/DeepFakeDetectionModel.ipynb\" target=\"_parent\"><img src=\"https://colab.research.google.com/assets/colab-badge.svg\" alt=\"Open In Colab\"/></a>"
      ]
    },
    {
      "cell_type": "code",
      "metadata": {
        "id": "boe54s6OzmGv",
        "colab_type": "code",
        "colab": {}
      },
      "source": [
        "!rm -R ./Logistic_Regression/*"
      ],
      "execution_count": 0,
      "outputs": []
    },
    {
      "cell_type": "code",
      "metadata": {
        "id": "YylQ7_8dYB_m",
        "colab_type": "code",
        "colab": {}
      },
      "source": [
        "!cp *.py /content/drive/My\\ Drive/CSE\\ 253/PA5/PyFiles\n",
        "!cp *.ipynb /content/drive/My\\ Drive/CSE\\ 253/PA5/PyFiles"
      ],
      "execution_count": 0,
      "outputs": []
    },
    {
      "cell_type": "code",
      "metadata": {
        "id": "fJEugQ-VE0sf",
        "colab_type": "code",
        "colab": {}
      },
      "source": [
        "# !wget https://storage.googleapis.com/img-hosting-bucket/Faces_HQ.hdf5"
      ],
      "execution_count": 0,
      "outputs": []
    },
    {
      "cell_type": "code",
      "metadata": {
        "id": "T0CbUfjOFfnJ",
        "colab_type": "code",
        "outputId": "c8ce0099-7989-4517-ea25-2e8d1bdc171b",
        "colab": {
          "base_uri": "https://localhost:8080/",
          "height": 312
        }
      },
      "source": [
        "gpu_info = !nvidia-smi\n",
        "gpu_info = '\\n'.join(gpu_info)\n",
        "if gpu_info.find('failed') >= 0:\n",
        "  print('Select the Runtime → \"Change runtime type\" menu to enable a GPU accelerator, ')\n",
        "  print('and then re-execute this cell.')\n",
        "else:\n",
        "  print(gpu_info)"
      ],
      "execution_count": 4,
      "outputs": [
        {
          "output_type": "stream",
          "text": [
            "Wed Mar 11 09:03:18 2020       \n",
            "+-----------------------------------------------------------------------------+\n",
            "| NVIDIA-SMI 440.59       Driver Version: 418.67       CUDA Version: 10.1     |\n",
            "|-------------------------------+----------------------+----------------------+\n",
            "| GPU  Name        Persistence-M| Bus-Id        Disp.A | Volatile Uncorr. ECC |\n",
            "| Fan  Temp  Perf  Pwr:Usage/Cap|         Memory-Usage | GPU-Util  Compute M. |\n",
            "|===============================+======================+======================|\n",
            "|   0  Tesla P100-PCIE...  Off  | 00000000:00:04.0 Off |                    0 |\n",
            "| N/A   35C    P0    28W / 250W |      0MiB / 16280MiB |      0%      Default |\n",
            "+-------------------------------+----------------------+----------------------+\n",
            "                                                                               \n",
            "+-----------------------------------------------------------------------------+\n",
            "| Processes:                                                       GPU Memory |\n",
            "|  GPU       PID   Type   Process name                             Usage      |\n",
            "|=============================================================================|\n",
            "|  No running processes found                                                 |\n",
            "+-----------------------------------------------------------------------------+\n"
          ],
          "name": "stdout"
        }
      ]
    },
    {
      "cell_type": "code",
      "metadata": {
        "id": "6pR6L5w39m4U",
        "colab_type": "code",
        "colab": {}
      },
      "source": [
        "%run DeepFake_Dataloader.py\n",
        "%run utils.py"
      ],
      "execution_count": 0,
      "outputs": []
    },
    {
      "cell_type": "code",
      "metadata": {
        "colab_type": "code",
        "id": "-HZyhY_V9t11",
        "colab": {}
      },
      "source": [
        "# imports pytorch\n",
        "import torch\n",
        "import torch.nn as nn\n",
        "import torchvision.transforms as transforms\n",
        "from torch.utils.data import Dataset, DataLoader\n",
        "\n",
        "# Numpy, Matplotlib, and PIL\n",
        "import numpy as np\n",
        "import matplotlib.pyplot as plt\n",
        "\n",
        "# general imports\n",
        "import pprint\n",
        "\n",
        "# My imports\n",
        "from DeepFake_Dataloader import get_dataloaders\n",
        "from models import LinearRegression, save_model, SVM\n",
        "from utils import RunningAverage\n",
        "from train import train, evaluate\n",
        "\n",
        "device = torch.device(\"cuda:0\" if torch.cuda.is_available() else \"cpu\")"
      ],
      "execution_count": 0,
      "outputs": []
    },
    {
      "cell_type": "code",
      "metadata": {
        "colab_type": "code",
        "id": "v1JJsL9H9t14",
        "colab": {}
      },
      "source": [
        "trn_dl, val_dl, tst_dl = get_dataloaders(dataset=DeepFakeHDF5Dataset())"
      ],
      "execution_count": 0,
      "outputs": []
    },
    {
      "cell_type": "code",
      "metadata": {
        "id": "ftr4FTkt9m4b",
        "colab_type": "code",
        "colab": {}
      },
      "source": [
        "s_epoch      = 1\n",
        "num_epochs   = 300\n",
        "lr_rate      = 1e-2\n",
        "load_model   = False\n",
        "model_name   = 'LogisticRegressionModel'\n",
        "path         = '/content/Logistic_Regression'\n",
        "\n",
        "lr_model = LinearRegression(725).to(device)\n",
        "criterion = torch.nn.BCEWithLogitsLoss()\n",
        "optimizer = torch.optim.SGD(lr_model.parameters(), lr=lr_rate, weight_decay=1e-3, momentum=0.9)\n",
        "\n",
        "if load_model:\n",
        "    lr_model.load_state_dict(torch.load(''))"
      ],
      "execution_count": 0,
      "outputs": []
    },
    {
      "cell_type": "code",
      "metadata": {
        "id": "mLc_eMyB9m4f",
        "colab_type": "code",
        "outputId": "e08dee4f-49be-40c8-ae42-f7e7b8bb3a21",
        "colab": {
          "base_uri": "https://localhost:8080/",
          "height": 1000
        }
      },
      "source": [
        "\n",
        "train_losses, valid_losses = train(lr_model, \n",
        "                                   optimizer, \n",
        "                                   criterion, \n",
        "                                   trn_dl, \n",
        "                                   val_dl,\n",
        "                                   model_name,\n",
        "                                   path,\n",
        "                                   predicter=torch.nn.Sigmoid())"
      ],
      "execution_count": 9,
      "outputs": [
        {
          "output_type": "display_data",
          "data": {
            "text/html": [
              "\n",
              "        <p>Loss: 0.0909   24000 / 24000</p>\n",
              "        <progress value='24000' max='24000', style='width: 100%'>24000</progress>\n",
              "    "
            ],
            "text/plain": [
              "<IPython.core.display.HTML object>"
            ]
          },
          "metadata": {
            "tags": []
          }
        },
        {
          "output_type": "stream",
          "text": [
            "Epoch:  1\n",
            "Training loss: 0.0909\n"
          ],
          "name": "stdout"
        },
        {
          "output_type": "display_data",
          "data": {
            "text/html": [
              "\n",
              "        <p>Loss: 0.0338   24000 / 24000</p>\n",
              "        <progress value='24000' max='24000', style='width: 100%'>24000</progress>\n",
              "    "
            ],
            "text/plain": [
              "<IPython.core.display.HTML object>"
            ]
          },
          "metadata": {
            "tags": []
          }
        },
        {
          "output_type": "stream",
          "text": [
            "Training Loss:  0.0338\n",
            "Training accuracy: 99.2625%\n"
          ],
          "name": "stdout"
        },
        {
          "output_type": "display_data",
          "data": {
            "text/html": [
              "\n",
              "        <p>Loss: 0.0270   8000 / 8000</p>\n",
              "        <progress value='8000' max='8000', style='width: 100%'>8000</progress>\n",
              "    "
            ],
            "text/plain": [
              "<IPython.core.display.HTML object>"
            ]
          },
          "metadata": {
            "tags": []
          }
        },
        {
          "output_type": "stream",
          "text": [
            "Validation Loss:  0.027\n",
            "Validation accuracy: 99.4375%\n",
            "\"Best Loss\": 0.026981634841788383\n",
            "\n",
            "Validation Loss has gone up 0 times.\n",
            "\n"
          ],
          "name": "stdout"
        },
        {
          "output_type": "display_data",
          "data": {
            "text/html": [
              "\n",
              "        <p>Loss: 0.0258   24000 / 24000</p>\n",
              "        <progress value='24000' max='24000', style='width: 100%'>24000</progress>\n",
              "    "
            ],
            "text/plain": [
              "<IPython.core.display.HTML object>"
            ]
          },
          "metadata": {
            "tags": []
          }
        },
        {
          "output_type": "stream",
          "text": [
            "Epoch:  2\n",
            "Training loss: 0.0258\n"
          ],
          "name": "stdout"
        },
        {
          "output_type": "display_data",
          "data": {
            "text/html": [
              "\n",
              "        <p>Loss: 0.0170   24000 / 24000</p>\n",
              "        <progress value='24000' max='24000', style='width: 100%'>24000</progress>\n",
              "    "
            ],
            "text/plain": [
              "<IPython.core.display.HTML object>"
            ]
          },
          "metadata": {
            "tags": []
          }
        },
        {
          "output_type": "stream",
          "text": [
            "Training Loss:  0.017\n",
            "Training accuracy: 99.6583%\n"
          ],
          "name": "stdout"
        },
        {
          "output_type": "display_data",
          "data": {
            "text/html": [
              "\n",
              "        <p>Loss: 0.0149   8000 / 8000</p>\n",
              "        <progress value='8000' max='8000', style='width: 100%'>8000</progress>\n",
              "    "
            ],
            "text/plain": [
              "<IPython.core.display.HTML object>"
            ]
          },
          "metadata": {
            "tags": []
          }
        },
        {
          "output_type": "stream",
          "text": [
            "Validation Loss:  0.0149\n",
            "Validation accuracy: 99.8250%\n",
            "\"Best Loss\": 0.014902554740685792\n",
            "\n",
            "Validation Loss has gone up 0 times.\n",
            "\n"
          ],
          "name": "stdout"
        },
        {
          "output_type": "display_data",
          "data": {
            "text/html": [
              "\n",
              "        <p>Loss: 0.0140   24000 / 24000</p>\n",
              "        <progress value='24000' max='24000', style='width: 100%'>24000</progress>\n",
              "    "
            ],
            "text/plain": [
              "<IPython.core.display.HTML object>"
            ]
          },
          "metadata": {
            "tags": []
          }
        },
        {
          "output_type": "stream",
          "text": [
            "Epoch:  3\n",
            "Training loss: 0.014\n"
          ],
          "name": "stdout"
        },
        {
          "output_type": "display_data",
          "data": {
            "text/html": [
              "\n",
              "        <p>Loss: 0.0101   24000 / 24000</p>\n",
              "        <progress value='24000' max='24000', style='width: 100%'>24000</progress>\n",
              "    "
            ],
            "text/plain": [
              "<IPython.core.display.HTML object>"
            ]
          },
          "metadata": {
            "tags": []
          }
        },
        {
          "output_type": "stream",
          "text": [
            "Training Loss:  0.0101\n",
            "Training accuracy: 99.8083%\n"
          ],
          "name": "stdout"
        },
        {
          "output_type": "display_data",
          "data": {
            "text/html": [
              "\n",
              "        <p>Loss: 0.0098   8000 / 8000</p>\n",
              "        <progress value='8000' max='8000', style='width: 100%'>8000</progress>\n",
              "    "
            ],
            "text/plain": [
              "<IPython.core.display.HTML object>"
            ]
          },
          "metadata": {
            "tags": []
          }
        },
        {
          "output_type": "stream",
          "text": [
            "Validation Loss:  0.0098\n",
            "Validation accuracy: 99.8875%\n",
            "\"Best Loss\": 0.009778855309363397\n",
            "\n",
            "Validation Loss has gone up 0 times.\n",
            "\n"
          ],
          "name": "stdout"
        },
        {
          "output_type": "display_data",
          "data": {
            "text/html": [
              "\n",
              "        <p>Loss: 0.0090   24000 / 24000</p>\n",
              "        <progress value='24000' max='24000', style='width: 100%'>24000</progress>\n",
              "    "
            ],
            "text/plain": [
              "<IPython.core.display.HTML object>"
            ]
          },
          "metadata": {
            "tags": []
          }
        },
        {
          "output_type": "stream",
          "text": [
            "Epoch:  4\n",
            "Training loss: 0.009\n"
          ],
          "name": "stdout"
        },
        {
          "output_type": "display_data",
          "data": {
            "text/html": [
              "\n",
              "        <p>Loss: 0.0080   24000 / 24000</p>\n",
              "        <progress value='24000' max='24000', style='width: 100%'>24000</progress>\n",
              "    "
            ],
            "text/plain": [
              "<IPython.core.display.HTML object>"
            ]
          },
          "metadata": {
            "tags": []
          }
        },
        {
          "output_type": "stream",
          "text": [
            "Training Loss:  0.008\n",
            "Training accuracy: 99.8792%\n"
          ],
          "name": "stdout"
        },
        {
          "output_type": "display_data",
          "data": {
            "text/html": [
              "\n",
              "        <p>Loss: 0.0085   8000 / 8000</p>\n",
              "        <progress value='8000' max='8000', style='width: 100%'>8000</progress>\n",
              "    "
            ],
            "text/plain": [
              "<IPython.core.display.HTML object>"
            ]
          },
          "metadata": {
            "tags": []
          }
        },
        {
          "output_type": "stream",
          "text": [
            "Validation Loss:  0.0085\n",
            "Validation accuracy: 99.9000%\n",
            "\"Best Loss\": 0.00853749269634367\n",
            "\n",
            "Validation Loss has gone up 0 times.\n",
            "\n"
          ],
          "name": "stdout"
        },
        {
          "output_type": "display_data",
          "data": {
            "text/html": [
              "\n",
              "        <p>Loss: 0.0068   24000 / 24000</p>\n",
              "        <progress value='24000' max='24000', style='width: 100%'>24000</progress>\n",
              "    "
            ],
            "text/plain": [
              "<IPython.core.display.HTML object>"
            ]
          },
          "metadata": {
            "tags": []
          }
        },
        {
          "output_type": "stream",
          "text": [
            "Epoch:  5\n",
            "Training loss: 0.0068\n"
          ],
          "name": "stdout"
        },
        {
          "output_type": "display_data",
          "data": {
            "text/html": [
              "\n",
              "        <p>Loss: 0.0071   24000 / 24000</p>\n",
              "        <progress value='24000' max='24000', style='width: 100%'>24000</progress>\n",
              "    "
            ],
            "text/plain": [
              "<IPython.core.display.HTML object>"
            ]
          },
          "metadata": {
            "tags": []
          }
        },
        {
          "output_type": "stream",
          "text": [
            "Training Loss:  0.0071\n",
            "Training accuracy: 99.8292%\n"
          ],
          "name": "stdout"
        },
        {
          "output_type": "display_data",
          "data": {
            "text/html": [
              "\n",
              "        <p>Loss: 0.0070   8000 / 8000</p>\n",
              "        <progress value='8000' max='8000', style='width: 100%'>8000</progress>\n",
              "    "
            ],
            "text/plain": [
              "<IPython.core.display.HTML object>"
            ]
          },
          "metadata": {
            "tags": []
          }
        },
        {
          "output_type": "stream",
          "text": [
            "Validation Loss:  0.007\n",
            "Validation accuracy: 99.8875%\n",
            "\"Best Loss\": 0.006988705435235585\n",
            "\n",
            "Validation Loss has gone up 0 times.\n",
            "\n"
          ],
          "name": "stdout"
        },
        {
          "output_type": "display_data",
          "data": {
            "text/html": [
              "\n",
              "        <p>Loss: 0.0056   24000 / 24000</p>\n",
              "        <progress value='24000' max='24000', style='width: 100%'>24000</progress>\n",
              "    "
            ],
            "text/plain": [
              "<IPython.core.display.HTML object>"
            ]
          },
          "metadata": {
            "tags": []
          }
        },
        {
          "output_type": "stream",
          "text": [
            "Epoch:  6\n",
            "Training loss: 0.0056\n"
          ],
          "name": "stdout"
        },
        {
          "output_type": "display_data",
          "data": {
            "text/html": [
              "\n",
              "        <p>Loss: 0.0048   24000 / 24000</p>\n",
              "        <progress value='24000' max='24000', style='width: 100%'>24000</progress>\n",
              "    "
            ],
            "text/plain": [
              "<IPython.core.display.HTML object>"
            ]
          },
          "metadata": {
            "tags": []
          }
        },
        {
          "output_type": "stream",
          "text": [
            "Training Loss:  0.0048\n",
            "Training accuracy: 99.9000%\n"
          ],
          "name": "stdout"
        },
        {
          "output_type": "display_data",
          "data": {
            "text/html": [
              "\n",
              "        <p>Loss: 0.0052   8000 / 8000</p>\n",
              "        <progress value='8000' max='8000', style='width: 100%'>8000</progress>\n",
              "    "
            ],
            "text/plain": [
              "<IPython.core.display.HTML object>"
            ]
          },
          "metadata": {
            "tags": []
          }
        },
        {
          "output_type": "stream",
          "text": [
            "Validation Loss:  0.0052\n",
            "Validation accuracy: 99.9125%\n",
            "\"Best Loss\": 0.00518380723605376\n",
            "\n",
            "Validation Loss has gone up 0 times.\n",
            "\n"
          ],
          "name": "stdout"
        },
        {
          "output_type": "display_data",
          "data": {
            "text/html": [
              "\n",
              "        <p>Loss: 0.0051   24000 / 24000</p>\n",
              "        <progress value='24000' max='24000', style='width: 100%'>24000</progress>\n",
              "    "
            ],
            "text/plain": [
              "<IPython.core.display.HTML object>"
            ]
          },
          "metadata": {
            "tags": []
          }
        },
        {
          "output_type": "stream",
          "text": [
            "Epoch:  7\n",
            "Training loss: 0.0051\n"
          ],
          "name": "stdout"
        },
        {
          "output_type": "display_data",
          "data": {
            "text/html": [
              "\n",
              "        <p>Loss: 0.0043   24000 / 24000</p>\n",
              "        <progress value='24000' max='24000', style='width: 100%'>24000</progress>\n",
              "    "
            ],
            "text/plain": [
              "<IPython.core.display.HTML object>"
            ]
          },
          "metadata": {
            "tags": []
          }
        },
        {
          "output_type": "stream",
          "text": [
            "Training Loss:  0.0043\n",
            "Training accuracy: 99.9292%\n"
          ],
          "name": "stdout"
        },
        {
          "output_type": "display_data",
          "data": {
            "text/html": [
              "\n",
              "        <p>Loss: 0.0047   8000 / 8000</p>\n",
              "        <progress value='8000' max='8000', style='width: 100%'>8000</progress>\n",
              "    "
            ],
            "text/plain": [
              "<IPython.core.display.HTML object>"
            ]
          },
          "metadata": {
            "tags": []
          }
        },
        {
          "output_type": "stream",
          "text": [
            "Validation Loss:  0.0047\n",
            "Validation accuracy: 99.9250%\n",
            "\"Best Loss\": 0.004707567619218952\n",
            "\n",
            "Validation Loss has gone up 0 times.\n",
            "\n"
          ],
          "name": "stdout"
        },
        {
          "output_type": "display_data",
          "data": {
            "text/html": [
              "\n",
              "        <p>Loss: 0.0044   24000 / 24000</p>\n",
              "        <progress value='24000' max='24000', style='width: 100%'>24000</progress>\n",
              "    "
            ],
            "text/plain": [
              "<IPython.core.display.HTML object>"
            ]
          },
          "metadata": {
            "tags": []
          }
        },
        {
          "output_type": "stream",
          "text": [
            "Epoch:  8\n",
            "Training loss: 0.0044\n"
          ],
          "name": "stdout"
        },
        {
          "output_type": "display_data",
          "data": {
            "text/html": [
              "\n",
              "        <p>Loss: 0.0038   24000 / 24000</p>\n",
              "        <progress value='24000' max='24000', style='width: 100%'>24000</progress>\n",
              "    "
            ],
            "text/plain": [
              "<IPython.core.display.HTML object>"
            ]
          },
          "metadata": {
            "tags": []
          }
        },
        {
          "output_type": "stream",
          "text": [
            "Training Loss:  0.0038\n",
            "Training accuracy: 99.9208%\n"
          ],
          "name": "stdout"
        },
        {
          "output_type": "display_data",
          "data": {
            "text/html": [
              "\n",
              "        <p>Loss: 0.0044   8000 / 8000</p>\n",
              "        <progress value='8000' max='8000', style='width: 100%'>8000</progress>\n",
              "    "
            ],
            "text/plain": [
              "<IPython.core.display.HTML object>"
            ]
          },
          "metadata": {
            "tags": []
          }
        },
        {
          "output_type": "stream",
          "text": [
            "Validation Loss:  0.0044\n",
            "Validation accuracy: 99.9125%\n",
            "\"Best Loss\": 0.004360992095566222\n",
            "\n",
            "Validation Loss has gone up 0 times.\n",
            "\n"
          ],
          "name": "stdout"
        },
        {
          "output_type": "display_data",
          "data": {
            "text/html": [
              "\n",
              "        <p>Loss: 0.0039   24000 / 24000</p>\n",
              "        <progress value='24000' max='24000', style='width: 100%'>24000</progress>\n",
              "    "
            ],
            "text/plain": [
              "<IPython.core.display.HTML object>"
            ]
          },
          "metadata": {
            "tags": []
          }
        },
        {
          "output_type": "stream",
          "text": [
            "Epoch:  9\n",
            "Training loss: 0.0039\n"
          ],
          "name": "stdout"
        },
        {
          "output_type": "display_data",
          "data": {
            "text/html": [
              "\n",
              "        <p>Loss: 0.0059   24000 / 24000</p>\n",
              "        <progress value='24000' max='24000', style='width: 100%'>24000</progress>\n",
              "    "
            ],
            "text/plain": [
              "<IPython.core.display.HTML object>"
            ]
          },
          "metadata": {
            "tags": []
          }
        },
        {
          "output_type": "stream",
          "text": [
            "Training Loss:  0.0059\n",
            "Training accuracy: 99.9167%\n"
          ],
          "name": "stdout"
        },
        {
          "output_type": "display_data",
          "data": {
            "text/html": [
              "\n",
              "        <p>Loss: 0.0064   8000 / 8000</p>\n",
              "        <progress value='8000' max='8000', style='width: 100%'>8000</progress>\n",
              "    "
            ],
            "text/plain": [
              "<IPython.core.display.HTML object>"
            ]
          },
          "metadata": {
            "tags": []
          }
        },
        {
          "output_type": "stream",
          "text": [
            "Validation Loss:  0.0064\n",
            "Validation accuracy: 99.9125%\n",
            "Validation Loss has gone up 1 times.\n",
            "\n"
          ],
          "name": "stdout"
        },
        {
          "output_type": "display_data",
          "data": {
            "text/html": [
              "\n",
              "        <p>Loss: 0.0037   24000 / 24000</p>\n",
              "        <progress value='24000' max='24000', style='width: 100%'>24000</progress>\n",
              "    "
            ],
            "text/plain": [
              "<IPython.core.display.HTML object>"
            ]
          },
          "metadata": {
            "tags": []
          }
        },
        {
          "output_type": "stream",
          "text": [
            "Epoch:  10\n",
            "Training loss: 0.0037\n"
          ],
          "name": "stdout"
        },
        {
          "output_type": "display_data",
          "data": {
            "text/html": [
              "\n",
              "        <p>Loss: 0.0033   24000 / 24000</p>\n",
              "        <progress value='24000' max='24000', style='width: 100%'>24000</progress>\n",
              "    "
            ],
            "text/plain": [
              "<IPython.core.display.HTML object>"
            ]
          },
          "metadata": {
            "tags": []
          }
        },
        {
          "output_type": "stream",
          "text": [
            "Training Loss:  0.0033\n",
            "Training accuracy: 99.9417%\n"
          ],
          "name": "stdout"
        },
        {
          "output_type": "display_data",
          "data": {
            "text/html": [
              "\n",
              "        <p>Loss: 0.0041   8000 / 8000</p>\n",
              "        <progress value='8000' max='8000', style='width: 100%'>8000</progress>\n",
              "    "
            ],
            "text/plain": [
              "<IPython.core.display.HTML object>"
            ]
          },
          "metadata": {
            "tags": []
          }
        },
        {
          "output_type": "stream",
          "text": [
            "Validation Loss:  0.0041\n",
            "Validation accuracy: 99.9375%\n",
            "\"Best Loss\": 0.004065467426294668\n",
            "\n",
            "Validation Loss has gone up 0 times.\n",
            "\n"
          ],
          "name": "stdout"
        },
        {
          "output_type": "display_data",
          "data": {
            "text/html": [
              "\n",
              "        <p>Loss: 0.0035   24000 / 24000</p>\n",
              "        <progress value='24000' max='24000', style='width: 100%'>24000</progress>\n",
              "    "
            ],
            "text/plain": [
              "<IPython.core.display.HTML object>"
            ]
          },
          "metadata": {
            "tags": []
          }
        },
        {
          "output_type": "stream",
          "text": [
            "Epoch:  11\n",
            "Training loss: 0.0035\n"
          ],
          "name": "stdout"
        },
        {
          "output_type": "display_data",
          "data": {
            "text/html": [
              "\n",
              "        <p>Loss: 0.0032   24000 / 24000</p>\n",
              "        <progress value='24000' max='24000', style='width: 100%'>24000</progress>\n",
              "    "
            ],
            "text/plain": [
              "<IPython.core.display.HTML object>"
            ]
          },
          "metadata": {
            "tags": []
          }
        },
        {
          "output_type": "stream",
          "text": [
            "Training Loss:  0.0032\n",
            "Training accuracy: 99.9458%\n"
          ],
          "name": "stdout"
        },
        {
          "output_type": "display_data",
          "data": {
            "text/html": [
              "\n",
              "        <p>Loss: 0.0039   8000 / 8000</p>\n",
              "        <progress value='8000' max='8000', style='width: 100%'>8000</progress>\n",
              "    "
            ],
            "text/plain": [
              "<IPython.core.display.HTML object>"
            ]
          },
          "metadata": {
            "tags": []
          }
        },
        {
          "output_type": "stream",
          "text": [
            "Validation Loss:  0.0039\n",
            "Validation accuracy: 99.9375%\n",
            "\"Best Loss\": 0.003885717287341813\n",
            "\n",
            "Validation Loss has gone up 0 times.\n",
            "\n"
          ],
          "name": "stdout"
        },
        {
          "output_type": "display_data",
          "data": {
            "text/html": [
              "\n",
              "        <p>Loss: 0.0033   24000 / 24000</p>\n",
              "        <progress value='24000' max='24000', style='width: 100%'>24000</progress>\n",
              "    "
            ],
            "text/plain": [
              "<IPython.core.display.HTML object>"
            ]
          },
          "metadata": {
            "tags": []
          }
        },
        {
          "output_type": "stream",
          "text": [
            "Epoch:  12\n",
            "Training loss: 0.0033\n"
          ],
          "name": "stdout"
        },
        {
          "output_type": "display_data",
          "data": {
            "text/html": [
              "\n",
              "        <p>Loss: 0.0030   24000 / 24000</p>\n",
              "        <progress value='24000' max='24000', style='width: 100%'>24000</progress>\n",
              "    "
            ],
            "text/plain": [
              "<IPython.core.display.HTML object>"
            ]
          },
          "metadata": {
            "tags": []
          }
        },
        {
          "output_type": "stream",
          "text": [
            "Training Loss:  0.003\n",
            "Training accuracy: 99.9500%\n"
          ],
          "name": "stdout"
        },
        {
          "output_type": "display_data",
          "data": {
            "text/html": [
              "\n",
              "        <p>Loss: 0.0037   8000 / 8000</p>\n",
              "        <progress value='8000' max='8000', style='width: 100%'>8000</progress>\n",
              "    "
            ],
            "text/plain": [
              "<IPython.core.display.HTML object>"
            ]
          },
          "metadata": {
            "tags": []
          }
        },
        {
          "output_type": "stream",
          "text": [
            "Validation Loss:  0.0037\n",
            "Validation accuracy: 99.9250%\n",
            "\"Best Loss\": 0.003672694983256478\n",
            "\n",
            "Validation Loss has gone up 0 times.\n",
            "\n"
          ],
          "name": "stdout"
        },
        {
          "output_type": "display_data",
          "data": {
            "text/html": [
              "\n",
              "        <p>Loss: 0.0033   24000 / 24000</p>\n",
              "        <progress value='24000' max='24000', style='width: 100%'>24000</progress>\n",
              "    "
            ],
            "text/plain": [
              "<IPython.core.display.HTML object>"
            ]
          },
          "metadata": {
            "tags": []
          }
        },
        {
          "output_type": "stream",
          "text": [
            "Epoch:  13\n",
            "Training loss: 0.0033\n"
          ],
          "name": "stdout"
        },
        {
          "output_type": "display_data",
          "data": {
            "text/html": [
              "\n",
              "        <p>Loss: 0.0029   24000 / 24000</p>\n",
              "        <progress value='24000' max='24000', style='width: 100%'>24000</progress>\n",
              "    "
            ],
            "text/plain": [
              "<IPython.core.display.HTML object>"
            ]
          },
          "metadata": {
            "tags": []
          }
        },
        {
          "output_type": "stream",
          "text": [
            "Training Loss:  0.0029\n",
            "Training accuracy: 99.9458%\n"
          ],
          "name": "stdout"
        },
        {
          "output_type": "display_data",
          "data": {
            "text/html": [
              "\n",
              "        <p>Loss: 0.0036   8000 / 8000</p>\n",
              "        <progress value='8000' max='8000', style='width: 100%'>8000</progress>\n",
              "    "
            ],
            "text/plain": [
              "<IPython.core.display.HTML object>"
            ]
          },
          "metadata": {
            "tags": []
          }
        },
        {
          "output_type": "stream",
          "text": [
            "Validation Loss:  0.0036\n",
            "Validation accuracy: 99.9250%\n",
            "\"Best Loss\": 0.0036129790676077676\n",
            "\n",
            "Validation Loss has gone up 0 times.\n",
            "\n"
          ],
          "name": "stdout"
        },
        {
          "output_type": "display_data",
          "data": {
            "text/html": [
              "\n",
              "        <p>Loss: 0.0030   24000 / 24000</p>\n",
              "        <progress value='24000' max='24000', style='width: 100%'>24000</progress>\n",
              "    "
            ],
            "text/plain": [
              "<IPython.core.display.HTML object>"
            ]
          },
          "metadata": {
            "tags": []
          }
        },
        {
          "output_type": "stream",
          "text": [
            "Epoch:  14\n",
            "Training loss: 0.003\n"
          ],
          "name": "stdout"
        },
        {
          "output_type": "display_data",
          "data": {
            "text/html": [
              "\n",
              "        <p>Loss: 0.0030   24000 / 24000</p>\n",
              "        <progress value='24000' max='24000', style='width: 100%'>24000</progress>\n",
              "    "
            ],
            "text/plain": [
              "<IPython.core.display.HTML object>"
            ]
          },
          "metadata": {
            "tags": []
          }
        },
        {
          "output_type": "stream",
          "text": [
            "Training Loss:  0.003\n",
            "Training accuracy: 99.9500%\n"
          ],
          "name": "stdout"
        },
        {
          "output_type": "display_data",
          "data": {
            "text/html": [
              "\n",
              "        <p>Loss: 0.0037   8000 / 8000</p>\n",
              "        <progress value='8000' max='8000', style='width: 100%'>8000</progress>\n",
              "    "
            ],
            "text/plain": [
              "<IPython.core.display.HTML object>"
            ]
          },
          "metadata": {
            "tags": []
          }
        },
        {
          "output_type": "stream",
          "text": [
            "Validation Loss:  0.0037\n",
            "Validation accuracy: 99.9375%\n",
            "Validation Loss has gone up 1 times.\n",
            "\n"
          ],
          "name": "stdout"
        },
        {
          "output_type": "display_data",
          "data": {
            "text/html": [
              "\n",
              "        <p>Loss: 0.0030   24000 / 24000</p>\n",
              "        <progress value='24000' max='24000', style='width: 100%'>24000</progress>\n",
              "    "
            ],
            "text/plain": [
              "<IPython.core.display.HTML object>"
            ]
          },
          "metadata": {
            "tags": []
          }
        },
        {
          "output_type": "stream",
          "text": [
            "Epoch:  15\n",
            "Training loss: 0.003\n"
          ],
          "name": "stdout"
        },
        {
          "output_type": "display_data",
          "data": {
            "text/html": [
              "\n",
              "        <p>Loss: 0.0027   24000 / 24000</p>\n",
              "        <progress value='24000' max='24000', style='width: 100%'>24000</progress>\n",
              "    "
            ],
            "text/plain": [
              "<IPython.core.display.HTML object>"
            ]
          },
          "metadata": {
            "tags": []
          }
        },
        {
          "output_type": "stream",
          "text": [
            "Training Loss:  0.0027\n",
            "Training accuracy: 99.9458%\n"
          ],
          "name": "stdout"
        },
        {
          "output_type": "display_data",
          "data": {
            "text/html": [
              "\n",
              "        <p>Loss: 0.0034   8000 / 8000</p>\n",
              "        <progress value='8000' max='8000', style='width: 100%'>8000</progress>\n",
              "    "
            ],
            "text/plain": [
              "<IPython.core.display.HTML object>"
            ]
          },
          "metadata": {
            "tags": []
          }
        },
        {
          "output_type": "stream",
          "text": [
            "Validation Loss:  0.0034\n",
            "Validation accuracy: 99.9250%\n",
            "\"Best Loss\": 0.003393291121548308\n",
            "\n",
            "Validation Loss has gone up 0 times.\n",
            "\n"
          ],
          "name": "stdout"
        },
        {
          "output_type": "display_data",
          "data": {
            "text/html": [
              "\n",
              "        <p>Loss: 0.0028   24000 / 24000</p>\n",
              "        <progress value='24000' max='24000', style='width: 100%'>24000</progress>\n",
              "    "
            ],
            "text/plain": [
              "<IPython.core.display.HTML object>"
            ]
          },
          "metadata": {
            "tags": []
          }
        },
        {
          "output_type": "stream",
          "text": [
            "Epoch:  16\n",
            "Training loss: 0.0028\n"
          ],
          "name": "stdout"
        },
        {
          "output_type": "display_data",
          "data": {
            "text/html": [
              "\n",
              "        <p>Loss: 0.0028   24000 / 24000</p>\n",
              "        <progress value='24000' max='24000', style='width: 100%'>24000</progress>\n",
              "    "
            ],
            "text/plain": [
              "<IPython.core.display.HTML object>"
            ]
          },
          "metadata": {
            "tags": []
          }
        },
        {
          "output_type": "stream",
          "text": [
            "Training Loss:  0.0028\n",
            "Training accuracy: 99.9583%\n"
          ],
          "name": "stdout"
        },
        {
          "output_type": "display_data",
          "data": {
            "text/html": [
              "\n",
              "        <p>Loss: 0.0035   8000 / 8000</p>\n",
              "        <progress value='8000' max='8000', style='width: 100%'>8000</progress>\n",
              "    "
            ],
            "text/plain": [
              "<IPython.core.display.HTML object>"
            ]
          },
          "metadata": {
            "tags": []
          }
        },
        {
          "output_type": "stream",
          "text": [
            "Validation Loss:  0.0035\n",
            "Validation accuracy: 99.9250%\n",
            "Validation Loss has gone up 1 times.\n",
            "\n"
          ],
          "name": "stdout"
        },
        {
          "output_type": "display_data",
          "data": {
            "text/html": [
              "\n",
              "        <p>Loss: 0.0028   24000 / 24000</p>\n",
              "        <progress value='24000' max='24000', style='width: 100%'>24000</progress>\n",
              "    "
            ],
            "text/plain": [
              "<IPython.core.display.HTML object>"
            ]
          },
          "metadata": {
            "tags": []
          }
        },
        {
          "output_type": "stream",
          "text": [
            "Epoch:  17\n",
            "Training loss: 0.0028\n"
          ],
          "name": "stdout"
        },
        {
          "output_type": "display_data",
          "data": {
            "text/html": [
              "\n",
              "        <p>Loss: 0.0026   24000 / 24000</p>\n",
              "        <progress value='24000' max='24000', style='width: 100%'>24000</progress>\n",
              "    "
            ],
            "text/plain": [
              "<IPython.core.display.HTML object>"
            ]
          },
          "metadata": {
            "tags": []
          }
        },
        {
          "output_type": "stream",
          "text": [
            "Training Loss:  0.0026\n",
            "Training accuracy: 99.9625%\n"
          ],
          "name": "stdout"
        },
        {
          "output_type": "display_data",
          "data": {
            "text/html": [
              "\n",
              "        <p>Loss: 0.0033   8000 / 8000</p>\n",
              "        <progress value='8000' max='8000', style='width: 100%'>8000</progress>\n",
              "    "
            ],
            "text/plain": [
              "<IPython.core.display.HTML object>"
            ]
          },
          "metadata": {
            "tags": []
          }
        },
        {
          "output_type": "stream",
          "text": [
            "Validation Loss:  0.0033\n",
            "Validation accuracy: 99.9250%\n",
            "\"Best Loss\": 0.003325480356117681\n",
            "\n",
            "Validation Loss has gone up 0 times.\n",
            "\n"
          ],
          "name": "stdout"
        },
        {
          "output_type": "display_data",
          "data": {
            "text/html": [
              "\n",
              "        <p>Loss: 0.0028   24000 / 24000</p>\n",
              "        <progress value='24000' max='24000', style='width: 100%'>24000</progress>\n",
              "    "
            ],
            "text/plain": [
              "<IPython.core.display.HTML object>"
            ]
          },
          "metadata": {
            "tags": []
          }
        },
        {
          "output_type": "stream",
          "text": [
            "Epoch:  18\n",
            "Training loss: 0.0028\n"
          ],
          "name": "stdout"
        },
        {
          "output_type": "display_data",
          "data": {
            "text/html": [
              "\n",
              "        <p>Loss: 0.0027   24000 / 24000</p>\n",
              "        <progress value='24000' max='24000', style='width: 100%'>24000</progress>\n",
              "    "
            ],
            "text/plain": [
              "<IPython.core.display.HTML object>"
            ]
          },
          "metadata": {
            "tags": []
          }
        },
        {
          "output_type": "stream",
          "text": [
            "Training Loss:  0.0027\n",
            "Training accuracy: 99.9583%\n"
          ],
          "name": "stdout"
        },
        {
          "output_type": "display_data",
          "data": {
            "text/html": [
              "\n",
              "        <p>Loss: 0.0034   8000 / 8000</p>\n",
              "        <progress value='8000' max='8000', style='width: 100%'>8000</progress>\n",
              "    "
            ],
            "text/plain": [
              "<IPython.core.display.HTML object>"
            ]
          },
          "metadata": {
            "tags": []
          }
        },
        {
          "output_type": "stream",
          "text": [
            "Validation Loss:  0.0034\n",
            "Validation accuracy: 99.9250%\n",
            "Validation Loss has gone up 1 times.\n",
            "\n"
          ],
          "name": "stdout"
        },
        {
          "output_type": "display_data",
          "data": {
            "text/html": [
              "\n",
              "        <p>Loss: 0.0027   24000 / 24000</p>\n",
              "        <progress value='24000' max='24000', style='width: 100%'>24000</progress>\n",
              "    "
            ],
            "text/plain": [
              "<IPython.core.display.HTML object>"
            ]
          },
          "metadata": {
            "tags": []
          }
        },
        {
          "output_type": "stream",
          "text": [
            "Epoch:  19\n",
            "Training loss: 0.0027\n"
          ],
          "name": "stdout"
        },
        {
          "output_type": "display_data",
          "data": {
            "text/html": [
              "\n",
              "        <p>Loss: 0.0026   24000 / 24000</p>\n",
              "        <progress value='24000' max='24000', style='width: 100%'>24000</progress>\n",
              "    "
            ],
            "text/plain": [
              "<IPython.core.display.HTML object>"
            ]
          },
          "metadata": {
            "tags": []
          }
        },
        {
          "output_type": "stream",
          "text": [
            "Training Loss:  0.0026\n",
            "Training accuracy: 99.9583%\n"
          ],
          "name": "stdout"
        },
        {
          "output_type": "display_data",
          "data": {
            "text/html": [
              "\n",
              "        <p>Loss: 0.0033   8000 / 8000</p>\n",
              "        <progress value='8000' max='8000', style='width: 100%'>8000</progress>\n",
              "    "
            ],
            "text/plain": [
              "<IPython.core.display.HTML object>"
            ]
          },
          "metadata": {
            "tags": []
          }
        },
        {
          "output_type": "stream",
          "text": [
            "Validation Loss:  0.0033\n",
            "Validation accuracy: 99.9250%\n",
            "\"Best Loss\": 0.0032608196848914737\n",
            "\n",
            "Validation Loss has gone up 0 times.\n",
            "\n"
          ],
          "name": "stdout"
        },
        {
          "output_type": "display_data",
          "data": {
            "text/html": [
              "\n",
              "        <p>Loss: 0.0028   24000 / 24000</p>\n",
              "        <progress value='24000' max='24000', style='width: 100%'>24000</progress>\n",
              "    "
            ],
            "text/plain": [
              "<IPython.core.display.HTML object>"
            ]
          },
          "metadata": {
            "tags": []
          }
        },
        {
          "output_type": "stream",
          "text": [
            "Epoch:  20\n",
            "Training loss: 0.0028\n"
          ],
          "name": "stdout"
        },
        {
          "output_type": "display_data",
          "data": {
            "text/html": [
              "\n",
              "        <p>Loss: 0.0026   24000 / 24000</p>\n",
              "        <progress value='24000' max='24000', style='width: 100%'>24000</progress>\n",
              "    "
            ],
            "text/plain": [
              "<IPython.core.display.HTML object>"
            ]
          },
          "metadata": {
            "tags": []
          }
        },
        {
          "output_type": "stream",
          "text": [
            "Training Loss:  0.0026\n",
            "Training accuracy: 99.9667%\n"
          ],
          "name": "stdout"
        },
        {
          "output_type": "display_data",
          "data": {
            "text/html": [
              "\n",
              "        <p>Loss: 0.0033   8000 / 8000</p>\n",
              "        <progress value='8000' max='8000', style='width: 100%'>8000</progress>\n",
              "    "
            ],
            "text/plain": [
              "<IPython.core.display.HTML object>"
            ]
          },
          "metadata": {
            "tags": []
          }
        },
        {
          "output_type": "stream",
          "text": [
            "Validation Loss:  0.0033\n",
            "Validation accuracy: 99.9250%\n",
            "Validation Loss has gone up 1 times.\n",
            "\n"
          ],
          "name": "stdout"
        },
        {
          "output_type": "display_data",
          "data": {
            "text/html": [
              "\n",
              "        <p>Loss: 0.0028   24000 / 24000</p>\n",
              "        <progress value='24000' max='24000', style='width: 100%'>24000</progress>\n",
              "    "
            ],
            "text/plain": [
              "<IPython.core.display.HTML object>"
            ]
          },
          "metadata": {
            "tags": []
          }
        },
        {
          "output_type": "stream",
          "text": [
            "Epoch:  21\n",
            "Training loss: 0.0028\n"
          ],
          "name": "stdout"
        },
        {
          "output_type": "display_data",
          "data": {
            "text/html": [
              "\n",
              "        <p>Loss: 0.0028   24000 / 24000</p>\n",
              "        <progress value='24000' max='24000', style='width: 100%'>24000</progress>\n",
              "    "
            ],
            "text/plain": [
              "<IPython.core.display.HTML object>"
            ]
          },
          "metadata": {
            "tags": []
          }
        },
        {
          "output_type": "stream",
          "text": [
            "Training Loss:  0.0028\n",
            "Training accuracy: 99.9750%\n"
          ],
          "name": "stdout"
        },
        {
          "output_type": "display_data",
          "data": {
            "text/html": [
              "\n",
              "        <p>Loss: 0.0033   8000 / 8000</p>\n",
              "        <progress value='8000' max='8000', style='width: 100%'>8000</progress>\n",
              "    "
            ],
            "text/plain": [
              "<IPython.core.display.HTML object>"
            ]
          },
          "metadata": {
            "tags": []
          }
        },
        {
          "output_type": "stream",
          "text": [
            "Validation Loss:  0.0033\n",
            "Validation accuracy: 99.9500%\n",
            "Validation Loss has gone up 2 times.\n",
            "\n"
          ],
          "name": "stdout"
        }
      ]
    },
    {
      "cell_type": "code",
      "metadata": {
        "id": "I5fNHznp9m4i",
        "colab_type": "code",
        "outputId": "0c52b9c8-1d33-4660-ef60-a4b10c98ed36",
        "colab": {
          "base_uri": "https://localhost:8080/",
          "height": 295
        }
      },
      "source": [
        "epochs = range(1, len(train_losses) + 1)\n",
        "epoch_ticks = [i if i % 5 == 0 else 0 for i in epochs]\n",
        "    \n",
        "# plt.figure(figsize=(10,6))\n",
        "plt.plot(epochs, train_losses, label='Training loss')\n",
        "plt.plot(epochs, valid_losses, label='Validation loss')\n",
        "plt.legend()\n",
        "plt.title('Learning curves')\n",
        "plt.xlabel('Epoch')\n",
        "plt.ylabel('Loss')\n",
        "plt.xticks(epoch_ticks)\n",
        "plt.show()"
      ],
      "execution_count": 10,
      "outputs": [
        {
          "output_type": "display_data",
          "data": {
            "image/png": "[encoded data removed]",
            "text/plain": [
              "<Figure size 432x288 with 1 Axes>"
            ]
          },
          "metadata": {
            "tags": []
          }
        }
      ]
    },
    {
      "cell_type": "code",
      "metadata": {
        "id": "jCqgefkjz5Ai",
        "colab_type": "code",
        "colab": {}
      },
      "source": [
        "trn_dl, val_dl, tst_dl = get_dataloaders(dataset=DeepFakeHDF5Dataset_SVM())"
      ],
      "execution_count": 0,
      "outputs": []
    },
    {
      "cell_type": "code",
      "metadata": {
        "id": "LnWcq8jHzLaP",
        "colab_type": "code",
        "colab": {}
      },
      "source": [
        "s_epoch      = 1\n",
        "num_epochs   = 300\n",
        "lr_rate      = 1e-3\n",
        "load_model   = False\n",
        "model_name   = 'SVMModel'\n",
        "path         = '/content/SVM_Model'\n",
        "\n",
        "svm_model = SVM(725).to(device)\n",
        "criterion = torch.nn.HingeEmbeddingLoss()\n",
        "optimizer = torch.optim.SGD(svm_model.parameters(), lr=lr_rate, weight_decay=1e-3, momentum=0.9)\n",
        "\n",
        "if load_model:\n",
        "    svm_model.load_state_dict(torch.load(''))"
      ],
      "execution_count": 0,
      "outputs": []
    },
    {
      "cell_type": "code",
      "metadata": {
        "id": "YJRYtTfYz0rr",
        "colab_type": "code",
        "colab": {
          "base_uri": "https://localhost:8080/",
          "height": 1000
        },
        "outputId": "bd84eda6-83e9-499d-c75a-c69544d2983d"
      },
      "source": [
        "\n",
        "train_losses, valid_losses = train(svm_model, \n",
        "                                   optimizer, \n",
        "                                   criterion, \n",
        "                                   trn_dl, \n",
        "                                   val_dl,\n",
        "                                   model_name,\n",
        "                                   path,\n",
        "                                   predicter=torch.nn.Sigmoid())"
      ],
      "execution_count": 15,
      "outputs": [
        {
          "output_type": "display_data",
          "data": {
            "text/html": [
              "\n",
              "        <p>Loss: 0.5103   24000 / 24000</p>\n",
              "        <progress value='24000' max='24000', style='width: 100%'>24000</progress>\n",
              "    "
            ],
            "text/plain": [
              "<IPython.core.display.HTML object>"
            ]
          },
          "metadata": {
            "tags": []
          }
        },
        {
          "output_type": "stream",
          "text": [
            "Epoch:  1\n",
            "Training loss: 0.5103\n"
          ],
          "name": "stdout"
        },
        {
          "output_type": "display_data",
          "data": {
            "text/html": [
              "\n",
              "        <p>Loss: 0.5067   24000 / 24000</p>\n",
              "        <progress value='24000' max='24000', style='width: 100%'>24000</progress>\n",
              "    "
            ],
            "text/plain": [
              "<IPython.core.display.HTML object>"
            ]
          },
          "metadata": {
            "tags": []
          }
        },
        {
          "output_type": "stream",
          "text": [
            "Training Loss:  0.5067\n",
            "Training accuracy: 0.0000%\n"
          ],
          "name": "stdout"
        },
        {
          "output_type": "display_data",
          "data": {
            "text/html": [
              "\n",
              "        <p>Loss: 0.5122   8000 / 8000</p>\n",
              "        <progress value='8000' max='8000', style='width: 100%'>8000</progress>\n",
              "    "
            ],
            "text/plain": [
              "<IPython.core.display.HTML object>"
            ]
          },
          "metadata": {
            "tags": []
          }
        },
        {
          "output_type": "stream",
          "text": [
            "Validation Loss:  0.5122\n",
            "Validation accuracy: 0.0000%\n",
            "\"Best Loss\": 0.5121561029837244\n",
            "\n",
            "Validation Loss has gone up 0 times.\n",
            "\n"
          ],
          "name": "stdout"
        },
        {
          "output_type": "display_data",
          "data": {
            "text/html": [
              "\n",
              "        <p>Loss: 0.5198   24000 / 24000</p>\n",
              "        <progress value='24000' max='24000', style='width: 100%'>24000</progress>\n",
              "    "
            ],
            "text/plain": [
              "<IPython.core.display.HTML object>"
            ]
          },
          "metadata": {
            "tags": []
          }
        },
        {
          "output_type": "stream",
          "text": [
            "Epoch:  2\n",
            "Training loss: 0.5198\n"
          ],
          "name": "stdout"
        },
        {
          "output_type": "display_data",
          "data": {
            "text/html": [
              "\n",
              "        <p>Loss: 0.5019   24000 / 24000</p>\n",
              "        <progress value='24000' max='24000', style='width: 100%'>24000</progress>\n",
              "    "
            ],
            "text/plain": [
              "<IPython.core.display.HTML object>"
            ]
          },
          "metadata": {
            "tags": []
          }
        },
        {
          "output_type": "stream",
          "text": [
            "Training Loss:  0.5019\n",
            "Training accuracy: 0.5000%\n"
          ],
          "name": "stdout"
        },
        {
          "output_type": "display_data",
          "data": {
            "text/html": [
              "\n",
              "        <p>Loss: 0.5039   8000 / 8000</p>\n",
              "        <progress value='8000' max='8000', style='width: 100%'>8000</progress>\n",
              "    "
            ],
            "text/plain": [
              "<IPython.core.display.HTML object>"
            ]
          },
          "metadata": {
            "tags": []
          }
        },
        {
          "output_type": "stream",
          "text": [
            "Validation Loss:  0.5039\n",
            "Validation accuracy: 0.5875%\n",
            "\"Best Loss\": 0.5038876779495726\n",
            "\n",
            "Validation Loss has gone up 0 times.\n",
            "\n"
          ],
          "name": "stdout"
        },
        {
          "output_type": "display_data",
          "data": {
            "text/html": [
              "\n",
              "        <p>Loss: 0.5048   24000 / 24000</p>\n",
              "        <progress value='24000' max='24000', style='width: 100%'>24000</progress>\n",
              "    "
            ],
            "text/plain": [
              "<IPython.core.display.HTML object>"
            ]
          },
          "metadata": {
            "tags": []
          }
        },
        {
          "output_type": "stream",
          "text": [
            "Epoch:  3\n",
            "Training loss: 0.5048\n"
          ],
          "name": "stdout"
        },
        {
          "output_type": "display_data",
          "data": {
            "text/html": [
              "\n",
              "        <p>Loss: 0.5167   24000 / 24000</p>\n",
              "        <progress value='24000' max='24000', style='width: 100%'>24000</progress>\n",
              "    "
            ],
            "text/plain": [
              "<IPython.core.display.HTML object>"
            ]
          },
          "metadata": {
            "tags": []
          }
        },
        {
          "output_type": "stream",
          "text": [
            "Training Loss:  0.5167\n",
            "Training accuracy: 0.0000%\n"
          ],
          "name": "stdout"
        },
        {
          "output_type": "display_data",
          "data": {
            "text/html": [
              "\n",
              "        <p>Loss: 0.5187   8000 / 8000</p>\n",
              "        <progress value='8000' max='8000', style='width: 100%'>8000</progress>\n",
              "    "
            ],
            "text/plain": [
              "<IPython.core.display.HTML object>"
            ]
          },
          "metadata": {
            "tags": []
          }
        },
        {
          "output_type": "stream",
          "text": [
            "Validation Loss:  0.5187\n",
            "Validation accuracy: 0.0000%\n",
            "Validation Loss has gone up 1 times.\n",
            "\n"
          ],
          "name": "stdout"
        },
        {
          "output_type": "display_data",
          "data": {
            "text/html": [
              "\n",
              "        <p>Loss: 0.5372   24000 / 24000</p>\n",
              "        <progress value='24000' max='24000', style='width: 100%'>24000</progress>\n",
              "    "
            ],
            "text/plain": [
              "<IPython.core.display.HTML object>"
            ]
          },
          "metadata": {
            "tags": []
          }
        },
        {
          "output_type": "stream",
          "text": [
            "Epoch:  4\n",
            "Training loss: 0.5372\n"
          ],
          "name": "stdout"
        },
        {
          "output_type": "display_data",
          "data": {
            "text/html": [
              "\n",
              "        <p>Loss: 0.5101   24000 / 24000</p>\n",
              "        <progress value='24000' max='24000', style='width: 100%'>24000</progress>\n",
              "    "
            ],
            "text/plain": [
              "<IPython.core.display.HTML object>"
            ]
          },
          "metadata": {
            "tags": []
          }
        },
        {
          "output_type": "stream",
          "text": [
            "Training Loss:  0.5101\n",
            "Training accuracy: 0.0000%\n"
          ],
          "name": "stdout"
        },
        {
          "output_type": "display_data",
          "data": {
            "text/html": [
              "\n",
              "        <p>Loss: 0.5133   8000 / 8000</p>\n",
              "        <progress value='8000' max='8000', style='width: 100%'>8000</progress>\n",
              "    "
            ],
            "text/plain": [
              "<IPython.core.display.HTML object>"
            ]
          },
          "metadata": {
            "tags": []
          }
        },
        {
          "output_type": "stream",
          "text": [
            "Validation Loss:  0.5133\n",
            "Validation accuracy: 0.0000%\n",
            "Validation Loss has gone up 0 times.\n",
            "\n"
          ],
          "name": "stdout"
        },
        {
          "output_type": "display_data",
          "data": {
            "text/html": [
              "\n",
              "        <p>Loss: 0.4932   24000 / 24000</p>\n",
              "        <progress value='24000' max='24000', style='width: 100%'>24000</progress>\n",
              "    "
            ],
            "text/plain": [
              "<IPython.core.display.HTML object>"
            ]
          },
          "metadata": {
            "tags": []
          }
        },
        {
          "output_type": "stream",
          "text": [
            "Epoch:  5\n",
            "Training loss: 0.4932\n"
          ],
          "name": "stdout"
        },
        {
          "output_type": "display_data",
          "data": {
            "text/html": [
              "\n",
              "        <p>Loss: 0.5249   24000 / 24000</p>\n",
              "        <progress value='24000' max='24000', style='width: 100%'>24000</progress>\n",
              "    "
            ],
            "text/plain": [
              "<IPython.core.display.HTML object>"
            ]
          },
          "metadata": {
            "tags": []
          }
        },
        {
          "output_type": "stream",
          "text": [
            "Training Loss:  0.5249\n",
            "Training accuracy: 0.0000%\n"
          ],
          "name": "stdout"
        },
        {
          "output_type": "display_data",
          "data": {
            "text/html": [
              "\n",
              "        <p>Loss: 0.5307   8000 / 8000</p>\n",
              "        <progress value='8000' max='8000', style='width: 100%'>8000</progress>\n",
              "    "
            ],
            "text/plain": [
              "<IPython.core.display.HTML object>"
            ]
          },
          "metadata": {
            "tags": []
          }
        },
        {
          "output_type": "stream",
          "text": [
            "Validation Loss:  0.5307\n",
            "Validation accuracy: 0.0000%\n",
            "Validation Loss has gone up 1 times.\n",
            "\n"
          ],
          "name": "stdout"
        },
        {
          "output_type": "display_data",
          "data": {
            "text/html": [
              "\n",
              "        <p>Loss: 0.5322   24000 / 24000</p>\n",
              "        <progress value='24000' max='24000', style='width: 100%'>24000</progress>\n",
              "    "
            ],
            "text/plain": [
              "<IPython.core.display.HTML object>"
            ]
          },
          "metadata": {
            "tags": []
          }
        },
        {
          "output_type": "stream",
          "text": [
            "Epoch:  6\n",
            "Training loss: 0.5322\n"
          ],
          "name": "stdout"
        },
        {
          "output_type": "display_data",
          "data": {
            "text/html": [
              "\n",
              "        <p>Loss: 0.5150   24000 / 24000</p>\n",
              "        <progress value='24000' max='24000', style='width: 100%'>24000</progress>\n",
              "    "
            ],
            "text/plain": [
              "<IPython.core.display.HTML object>"
            ]
          },
          "metadata": {
            "tags": []
          }
        },
        {
          "output_type": "stream",
          "text": [
            "Training Loss:  0.515\n",
            "Training accuracy: 0.0000%\n"
          ],
          "name": "stdout"
        },
        {
          "output_type": "display_data",
          "data": {
            "text/html": [
              "\n",
              "        <p>Loss: 0.5170   8000 / 8000</p>\n",
              "        <progress value='8000' max='8000', style='width: 100%'>8000</progress>\n",
              "    "
            ],
            "text/plain": [
              "<IPython.core.display.HTML object>"
            ]
          },
          "metadata": {
            "tags": []
          }
        },
        {
          "output_type": "stream",
          "text": [
            "Validation Loss:  0.517\n",
            "Validation accuracy: 0.0000%\n",
            "Validation Loss has gone up 0 times.\n",
            "\n"
          ],
          "name": "stdout"
        },
        {
          "output_type": "display_data",
          "data": {
            "text/html": [
              "\n",
              "        <p>Loss: 0.5188   24000 / 24000</p>\n",
              "        <progress value='24000' max='24000', style='width: 100%'>24000</progress>\n",
              "    "
            ],
            "text/plain": [
              "<IPython.core.display.HTML object>"
            ]
          },
          "metadata": {
            "tags": []
          }
        },
        {
          "output_type": "stream",
          "text": [
            "Epoch:  7\n",
            "Training loss: 0.5188\n"
          ],
          "name": "stdout"
        },
        {
          "output_type": "display_data",
          "data": {
            "text/html": [
              "\n",
              "        <p>Loss: 0.5024   24000 / 24000</p>\n",
              "        <progress value='24000' max='24000', style='width: 100%'>24000</progress>\n",
              "    "
            ],
            "text/plain": [
              "<IPython.core.display.HTML object>"
            ]
          },
          "metadata": {
            "tags": []
          }
        },
        {
          "output_type": "stream",
          "text": [
            "Training Loss:  0.5024\n",
            "Training accuracy: 0.0250%\n"
          ],
          "name": "stdout"
        },
        {
          "output_type": "display_data",
          "data": {
            "text/html": [
              "\n",
              "        <p>Loss: 0.5039   8000 / 8000</p>\n",
              "        <progress value='8000' max='8000', style='width: 100%'>8000</progress>\n",
              "    "
            ],
            "text/plain": [
              "<IPython.core.display.HTML object>"
            ]
          },
          "metadata": {
            "tags": []
          }
        },
        {
          "output_type": "stream",
          "text": [
            "Validation Loss:  0.5039\n",
            "Validation accuracy: 0.0125%\n",
            "\"Best Loss\": 0.5038763294144281\n",
            "\n",
            "Validation Loss has gone up 0 times.\n",
            "\n"
          ],
          "name": "stdout"
        },
        {
          "output_type": "display_data",
          "data": {
            "text/html": [
              "\n",
              "        <p>Loss: 0.5093   24000 / 24000</p>\n",
              "        <progress value='24000' max='24000', style='width: 100%'>24000</progress>\n",
              "    "
            ],
            "text/plain": [
              "<IPython.core.display.HTML object>"
            ]
          },
          "metadata": {
            "tags": []
          }
        },
        {
          "output_type": "stream",
          "text": [
            "Epoch:  8\n",
            "Training loss: 0.5093\n"
          ],
          "name": "stdout"
        },
        {
          "output_type": "display_data",
          "data": {
            "text/html": [
              "\n",
              "        <p>Loss: 0.5058   24000 / 24000</p>\n",
              "        <progress value='24000' max='24000', style='width: 100%'>24000</progress>\n",
              "    "
            ],
            "text/plain": [
              "<IPython.core.display.HTML object>"
            ]
          },
          "metadata": {
            "tags": []
          }
        },
        {
          "output_type": "stream",
          "text": [
            "Training Loss:  0.5058\n",
            "Training accuracy: 0.0000%\n"
          ],
          "name": "stdout"
        },
        {
          "output_type": "display_data",
          "data": {
            "text/html": [
              "\n",
              "        <p>Loss: 0.5109   8000 / 8000</p>\n",
              "        <progress value='8000' max='8000', style='width: 100%'>8000</progress>\n",
              "    "
            ],
            "text/plain": [
              "<IPython.core.display.HTML object>"
            ]
          },
          "metadata": {
            "tags": []
          }
        },
        {
          "output_type": "stream",
          "text": [
            "Validation Loss:  0.5109\n",
            "Validation accuracy: 0.0000%\n",
            "Validation Loss has gone up 1 times.\n",
            "\n"
          ],
          "name": "stdout"
        },
        {
          "output_type": "display_data",
          "data": {
            "text/html": [
              "\n",
              "        <p>Loss: 0.5108   24000 / 24000</p>\n",
              "        <progress value='24000' max='24000', style='width: 100%'>24000</progress>\n",
              "    "
            ],
            "text/plain": [
              "<IPython.core.display.HTML object>"
            ]
          },
          "metadata": {
            "tags": []
          }
        },
        {
          "output_type": "stream",
          "text": [
            "Epoch:  9\n",
            "Training loss: 0.5108\n"
          ],
          "name": "stdout"
        },
        {
          "output_type": "display_data",
          "data": {
            "text/html": [
              "\n",
              "        <p>Loss: 0.5005   24000 / 24000</p>\n",
              "        <progress value='24000' max='24000', style='width: 100%'>24000</progress>\n",
              "    "
            ],
            "text/plain": [
              "<IPython.core.display.HTML object>"
            ]
          },
          "metadata": {
            "tags": []
          }
        },
        {
          "output_type": "stream",
          "text": [
            "Training Loss:  0.5005\n",
            "Training accuracy: 6.7208%\n"
          ],
          "name": "stdout"
        },
        {
          "output_type": "display_data",
          "data": {
            "text/html": [
              "\n",
              "        <p>Loss: 0.5019   8000 / 8000</p>\n",
              "        <progress value='8000' max='8000', style='width: 100%'>8000</progress>\n",
              "    "
            ],
            "text/plain": [
              "<IPython.core.display.HTML object>"
            ]
          },
          "metadata": {
            "tags": []
          }
        },
        {
          "output_type": "stream",
          "text": [
            "Validation Loss:  0.5019\n",
            "Validation accuracy: 6.7125%\n",
            "\"Best Loss\": 0.5018653604719373\n",
            "\n",
            "Validation Loss has gone up 0 times.\n",
            "\n"
          ],
          "name": "stdout"
        },
        {
          "output_type": "display_data",
          "data": {
            "text/html": [
              "\n",
              "        <p>Loss: 0.5082   24000 / 24000</p>\n",
              "        <progress value='24000' max='24000', style='width: 100%'>24000</progress>\n",
              "    "
            ],
            "text/plain": [
              "<IPython.core.display.HTML object>"
            ]
          },
          "metadata": {
            "tags": []
          }
        },
        {
          "output_type": "stream",
          "text": [
            "Epoch:  10\n",
            "Training loss: 0.5082\n"
          ],
          "name": "stdout"
        },
        {
          "output_type": "display_data",
          "data": {
            "text/html": [
              "\n",
              "        <p>Loss: 0.4994   24000 / 24000</p>\n",
              "        <progress value='24000' max='24000', style='width: 100%'>24000</progress>\n",
              "    "
            ],
            "text/plain": [
              "<IPython.core.display.HTML object>"
            ]
          },
          "metadata": {
            "tags": []
          }
        },
        {
          "output_type": "stream",
          "text": [
            "Training Loss:  0.4994\n",
            "Training accuracy: 25.3625%\n"
          ],
          "name": "stdout"
        },
        {
          "output_type": "display_data",
          "data": {
            "text/html": [
              "\n",
              "        <p>Loss: 0.5005   8000 / 8000</p>\n",
              "        <progress value='8000' max='8000', style='width: 100%'>8000</progress>\n",
              "    "
            ],
            "text/plain": [
              "<IPython.core.display.HTML object>"
            ]
          },
          "metadata": {
            "tags": []
          }
        },
        {
          "output_type": "stream",
          "text": [
            "Validation Loss:  0.5005\n",
            "Validation accuracy: 24.8500%\n",
            "\"Best Loss\": 0.5004827455868797\n",
            "\n",
            "Validation Loss has gone up 0 times.\n",
            "\n"
          ],
          "name": "stdout"
        },
        {
          "output_type": "display_data",
          "data": {
            "text/html": [
              "\n",
              "        <p>Loss: 0.5056   24000 / 24000</p>\n",
              "        <progress value='24000' max='24000', style='width: 100%'>24000</progress>\n",
              "    "
            ],
            "text/plain": [
              "<IPython.core.display.HTML object>"
            ]
          },
          "metadata": {
            "tags": []
          }
        },
        {
          "output_type": "stream",
          "text": [
            "Epoch:  11\n",
            "Training loss: 0.5056\n"
          ],
          "name": "stdout"
        },
        {
          "output_type": "display_data",
          "data": {
            "text/html": [
              "\n",
              "        <p>Loss: 0.4986   24000 / 24000</p>\n",
              "        <progress value='24000' max='24000', style='width: 100%'>24000</progress>\n",
              "    "
            ],
            "text/plain": [
              "<IPython.core.display.HTML object>"
            ]
          },
          "metadata": {
            "tags": []
          }
        },
        {
          "output_type": "stream",
          "text": [
            "Training Loss:  0.4986\n",
            "Training accuracy: 47.1167%\n"
          ],
          "name": "stdout"
        },
        {
          "output_type": "display_data",
          "data": {
            "text/html": [
              "\n",
              "        <p>Loss: 0.4991   8000 / 8000</p>\n",
              "        <progress value='8000' max='8000', style='width: 100%'>8000</progress>\n",
              "    "
            ],
            "text/plain": [
              "<IPython.core.display.HTML object>"
            ]
          },
          "metadata": {
            "tags": []
          }
        },
        {
          "output_type": "stream",
          "text": [
            "Validation Loss:  0.4991\n",
            "Validation accuracy: 46.8875%\n",
            "\"Best Loss\": 0.49908166745352367\n",
            "\n",
            "Validation Loss has gone up 0 times.\n",
            "\n"
          ],
          "name": "stdout"
        },
        {
          "output_type": "display_data",
          "data": {
            "text/html": [
              "\n",
              "        <p>Loss: 0.5041   24000 / 24000</p>\n",
              "        <progress value='24000' max='24000', style='width: 100%'>24000</progress>\n",
              "    "
            ],
            "text/plain": [
              "<IPython.core.display.HTML object>"
            ]
          },
          "metadata": {
            "tags": []
          }
        },
        {
          "output_type": "stream",
          "text": [
            "Epoch:  12\n",
            "Training loss: 0.5041\n"
          ],
          "name": "stdout"
        },
        {
          "output_type": "display_data",
          "data": {
            "text/html": [
              "\n",
              "        <p>Loss: 0.5021   24000 / 24000</p>\n",
              "        <progress value='24000' max='24000', style='width: 100%'>24000</progress>\n",
              "    "
            ],
            "text/plain": [
              "<IPython.core.display.HTML object>"
            ]
          },
          "metadata": {
            "tags": []
          }
        },
        {
          "output_type": "stream",
          "text": [
            "Training Loss:  0.5021\n",
            "Training accuracy: 0.0000%\n"
          ],
          "name": "stdout"
        },
        {
          "output_type": "display_data",
          "data": {
            "text/html": [
              "\n",
              "        <p>Loss: 0.5038   8000 / 8000</p>\n",
              "        <progress value='8000' max='8000', style='width: 100%'>8000</progress>\n",
              "    "
            ],
            "text/plain": [
              "<IPython.core.display.HTML object>"
            ]
          },
          "metadata": {
            "tags": []
          }
        },
        {
          "output_type": "stream",
          "text": [
            "Validation Loss:  0.5038\n",
            "Validation accuracy: 0.0000%\n",
            "Validation Loss has gone up 1 times.\n",
            "\n"
          ],
          "name": "stdout"
        },
        {
          "output_type": "display_data",
          "data": {
            "text/html": [
              "\n",
              "        <p>Loss: 0.5064   24000 / 24000</p>\n",
              "        <progress value='24000' max='24000', style='width: 100%'>24000</progress>\n",
              "    "
            ],
            "text/plain": [
              "<IPython.core.display.HTML object>"
            ]
          },
          "metadata": {
            "tags": []
          }
        },
        {
          "output_type": "stream",
          "text": [
            "Epoch:  13\n",
            "Training loss: 0.5064\n"
          ],
          "name": "stdout"
        },
        {
          "output_type": "display_data",
          "data": {
            "text/html": [
              "\n",
              "        <p>Loss: 0.5040   24000 / 24000</p>\n",
              "        <progress value='24000' max='24000', style='width: 100%'>24000</progress>\n",
              "    "
            ],
            "text/plain": [
              "<IPython.core.display.HTML object>"
            ]
          },
          "metadata": {
            "tags": []
          }
        },
        {
          "output_type": "stream",
          "text": [
            "Training Loss:  0.504\n",
            "Training accuracy: 0.0000%\n"
          ],
          "name": "stdout"
        },
        {
          "output_type": "display_data",
          "data": {
            "text/html": [
              "\n",
              "        <p>Loss: 0.5045   8000 / 8000</p>\n",
              "        <progress value='8000' max='8000', style='width: 100%'>8000</progress>\n",
              "    "
            ],
            "text/plain": [
              "<IPython.core.display.HTML object>"
            ]
          },
          "metadata": {
            "tags": []
          }
        },
        {
          "output_type": "stream",
          "text": [
            "Validation Loss:  0.5045\n",
            "Validation accuracy: 0.0000%\n",
            "Validation Loss has gone up 2 times.\n",
            "\n"
          ],
          "name": "stdout"
        }
      ]
    },
    {
      "cell_type": "code",
      "metadata": {
        "id": "9dGAwCcD26iA",
        "colab_type": "code",
        "colab": {}
      },
      "source": [
        "# import numpy as np\n",
        "# import matplotlib.pyplot as plt\n",
        "# import pickle\n",
        "\n",
        "# num = 5\n",
        "# LR = 0\n",
        "# SVM = 0\n",
        "# SVM_r = 0\n",
        "# SVM_p = 0\n",
        "\n",
        "\n",
        "# for z in range(num):\n",
        "#     # read python dict back from the file\n",
        "#     data = None\n",
        "#     lbls = None\n",
        "#     og_d = None\n",
        "#     with h5py.File(fhq_hdf5_pt, 'r') as hdf5_file: \n",
        "#         data = hdf5_file['fft_data'][:]\n",
        "#         lbls = hdf5_file['lbl_data'][:]\n",
        "#         og_d = hdf5_file['orgn_data'][:]\n",
        "\n",
        "#     X = data \n",
        "#     y = lbls \n",
        "\n",
        "\n",
        "#     try:\n",
        "\n",
        "#         from sklearn.model_selection import train_test_split\n",
        "#         X_train, X_test, y_train, y_test = train_test_split(X, y, test_size = 0.2)\n",
        "\n",
        "#         from sklearn.svm import SVC\n",
        "#         svclassifier = SVC(kernel='linear')\n",
        "#         svclassifier.fit(X_train, y_train)\n",
        "#         #print('Accuracy on test set: {:.3f}'.format(svclassifier.score(X_test, y_test)))\n",
        "               \n",
        "#         from sklearn.svm import SVC\n",
        "#         svclassifier_r = SVC(C=3.1, kernel='rbf', gamma=0.00002)\n",
        "#         svclassifier_r.fit(X_train, y_train)\n",
        "#         #print('Accuracy on test set: {:.3f}'.format(svclassifier_r.score(X_test, y_test)))\n",
        "                \n",
        "#         from sklearn.svm import SVC\n",
        "#         svclassifier_p = SVC(kernel='poly')\n",
        "#         svclassifier_p.fit(X_train, y_train)\n",
        "#         #print('Accuracy on test set: {:.3f}'.format(svclassifier_p.score(X_test, y_test)))\n",
        "        \n",
        "#         from sklearn.linear_model import LogisticRegression\n",
        "#         logreg = LogisticRegression(solver='liblinear', max_iter=1000)\n",
        "#         logreg.fit(X_train, y_train)\n",
        "#         #print('Accuracy on test set: {:.3f}'.format(logreg.score(X_test, y_test)))\n",
        "\n",
        "        \n",
        "#         SVM+=svclassifier.score(X_test, y_test)\n",
        "#         SVM_r+=svclassifier_r.score(X_test, y_test)\n",
        "#         SVM_p+=svclassifier_p.score(X_test, y_test)\n",
        "#         LR+=logreg.score(X_test, y_test)\n",
        "\n",
        " \n",
        "#     except:\n",
        "#         num-=1\n",
        "#         print(num)\n",
        "    \n",
        "# print(\"Average SVM: \"+str(SVM/num))\n",
        "# print(\"Average SVM_r: \"+str(SVM_r/num))\n",
        "# print(\"Average SVM_p: \"+str(SVM_p/num))\n",
        "# print(\"Average LR: \"+str(LR/num))"
      ],
      "execution_count": 0,
      "outputs": []
    }
  ]
}