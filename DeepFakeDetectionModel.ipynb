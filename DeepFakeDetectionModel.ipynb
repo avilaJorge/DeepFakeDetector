{
  "nbformat": 4,
  "nbformat_minor": 0,
  "metadata": {
    "colab": {
      "name": "DeepFakeDetectionModel",
      "provenance": [],
      "collapsed_sections": [],
      "machine_shape": "hm",
      "mount_file_id": "1oUma_1hYvI7_NNVnKvHgVAbI1Y2xWoxt",
      "authorship_tag": "ABX9TyNQij8TL1ddKegsyJiUr3SD",
      "include_colab_link": true
    },
    "kernelspec": {
      "name": "python3",
      "display_name": "Python 3"
    },
    "accelerator": "GPU"
  },
  "cells": [
    {
      "cell_type": "markdown",
      "metadata": {
        "id": "view-in-github",
        "colab_type": "text"
      },
      "source": [
        "<a href=\"https://colab.research.google.com/github/avilaJorge/CSE253_FinalProject/blob/master/DeepFakeDetectionModel.ipynb\" target=\"_parent\"><img src=\"https://colab.research.google.com/assets/colab-badge.svg\" alt=\"Open In Colab\"/></a>"
      ]
    },
    {
      "cell_type": "code",
      "metadata": {
        "id": "boe54s6OzmGv",
        "colab_type": "code",
        "colab": {}
      },
      "source": [
        "# !rm -R ./Logistic_Regression/*"
      ],
      "execution_count": 0,
      "outputs": []
    },
    {
      "cell_type": "code",
      "metadata": {
        "id": "YylQ7_8dYB_m",
        "colab_type": "code",
        "colab": {}
      },
      "source": [
        "!cp *.py /content/drive/My\\ Drive/CSE\\ 253/PA5/PyFiles\n",
        "!cp *.ipynb /content/drive/My\\ Drive/CSE\\ 253/PA5/PyFiles"
      ],
      "execution_count": 0,
      "outputs": []
    },
    {
      "cell_type": "code",
      "metadata": {
        "id": "fJEugQ-VE0sf",
        "colab_type": "code",
        "colab": {}
      },
      "source": [
        "# !wget https://storage.googleapis.com/img-hosting-bucket/Faces_HQ.hdf5"
      ],
      "execution_count": 0,
      "outputs": []
    },
    {
      "cell_type": "code",
      "metadata": {
        "id": "T0CbUfjOFfnJ",
        "colab_type": "code",
        "outputId": "fc05969d-8a91-4172-8093-cf7d1807005c",
        "colab": {
          "base_uri": "https://localhost:8080/",
          "height": 312
        }
      },
      "source": [
        "gpu_info = !nvidia-smi\n",
        "gpu_info = '\\n'.join(gpu_info)\n",
        "if gpu_info.find('failed') >= 0:\n",
        "  print('Select the Runtime → \"Change runtime type\" menu to enable a GPU accelerator, ')\n",
        "  print('and then re-execute this cell.')\n",
        "else:\n",
        "  print(gpu_info)"
      ],
      "execution_count": 4,
      "outputs": [
        {
          "output_type": "stream",
          "text": [
            "Wed Mar 11 08:28:49 2020       \n",
            "+-----------------------------------------------------------------------------+\n",
            "| NVIDIA-SMI 440.59       Driver Version: 418.67       CUDA Version: 10.1     |\n",
            "|-------------------------------+----------------------+----------------------+\n",
            "| GPU  Name        Persistence-M| Bus-Id        Disp.A | Volatile Uncorr. ECC |\n",
            "| Fan  Temp  Perf  Pwr:Usage/Cap|         Memory-Usage | GPU-Util  Compute M. |\n",
            "|===============================+======================+======================|\n",
            "|   0  Tesla P100-PCIE...  Off  | 00000000:00:04.0 Off |                    0 |\n",
            "| N/A   35C    P0    28W / 250W |      0MiB / 16280MiB |      0%      Default |\n",
            "+-------------------------------+----------------------+----------------------+\n",
            "                                                                               \n",
            "+-----------------------------------------------------------------------------+\n",
            "| Processes:                                                       GPU Memory |\n",
            "|  GPU       PID   Type   Process name                             Usage      |\n",
            "|=============================================================================|\n",
            "|  No running processes found                                                 |\n",
            "+-----------------------------------------------------------------------------+\n"
          ],
          "name": "stdout"
        }
      ]
    },
    {
      "cell_type": "code",
      "metadata": {
        "id": "6pR6L5w39m4U",
        "colab_type": "code",
        "colab": {}
      },
      "source": [
        "%run DeepFake_Dataloader.py\n",
        "%run utils.py"
      ],
      "execution_count": 0,
      "outputs": []
    },
    {
      "cell_type": "code",
      "metadata": {
        "colab_type": "code",
        "id": "-HZyhY_V9t11",
        "colab": {}
      },
      "source": [
        "# imports pytorch\n",
        "import torch\n",
        "import torch.nn as nn\n",
        "import torchvision.transforms as transforms\n",
        "from torch.utils.data import Dataset, DataLoader\n",
        "\n",
        "# Numpy, Matplotlib, and PIL\n",
        "import numpy as np\n",
        "import matplotlib.pyplot as plt\n",
        "\n",
        "# general imports\n",
        "import pprint\n",
        "\n",
        "# My imports\n",
        "from DeepFake_Dataloader import get_dataloaders\n",
        "from models import LinearRegression, save_model\n",
        "from utils import RunningAverage\n",
        "from train import train, evaluate\n",
        "\n",
        "device = torch.device(\"cuda:0\" if torch.cuda.is_available() else \"cpu\")"
      ],
      "execution_count": 0,
      "outputs": []
    },
    {
      "cell_type": "code",
      "metadata": {
        "colab_type": "code",
        "id": "v1JJsL9H9t14",
        "colab": {}
      },
      "source": [
        "trn_dl, val_dl, tst_dl = get_dataloaders()"
      ],
      "execution_count": 0,
      "outputs": []
    },
    {
      "cell_type": "code",
      "metadata": {
        "id": "ftr4FTkt9m4b",
        "colab_type": "code",
        "colab": {}
      },
      "source": [
        "s_epoch      = 1\n",
        "num_epochs   = 300\n",
        "lr_rate      = 1e-2\n",
        "load_model   = False\n",
        "model_name   = 'LogisticRegressionModel'\n",
        "path         = '/content/Logistic_Regression'\n",
        "\n",
        "lr_model = LinearRegression(725).to(device)\n",
        "criterion = torch.nn.BCEWithLogitsLoss()\n",
        "optimizer = torch.optim.SGD(lr_model.parameters(), lr=lr_rate, weight_decay=1e-3, momentum=0.9)\n",
        "\n",
        "if load_model:\n",
        "    lr_model.load_state_dict(torch.load(''))"
      ],
      "execution_count": 0,
      "outputs": []
    },
    {
      "cell_type": "code",
      "metadata": {
        "id": "mLc_eMyB9m4f",
        "colab_type": "code",
        "outputId": "a857b608-4c56-4279-9bcc-b3406bfbffcb",
        "colab": {
          "base_uri": "https://localhost:8080/",
          "height": 1000
        }
      },
      "source": [
        "\n",
        "train_losses, valid_losses = train(lr_model, \n",
        "                                   optimizer, \n",
        "                                   criterion, \n",
        "                                   trn_dl, \n",
        "                                   val_dl,\n",
        "                                   model_name,\n",
        "                                   path,\n",
        "                                   predicter=torch.nn.Sigmoid())"
      ],
      "execution_count": 9,
      "outputs": [
        {
          "output_type": "display_data",
          "data": {
            "text/html": [
              "\n",
              "        <p>Loss: 0.0974   24000 / 24000</p>\n",
              "        <progress value='24000' max='24000', style='width: 100%'>24000</progress>\n",
              "    "
            ],
            "text/plain": [
              "<IPython.core.display.HTML object>"
            ]
          },
          "metadata": {
            "tags": []
          }
        },
        {
          "output_type": "stream",
          "text": [
            "Epoch:  1\n",
            "Training loss: 0.0974\n"
          ],
          "name": "stdout"
        },
        {
          "output_type": "display_data",
          "data": {
            "text/html": [
              "\n",
              "        <p>Loss: 0.0371   24000 / 24000</p>\n",
              "        <progress value='24000' max='24000', style='width: 100%'>24000</progress>\n",
              "    "
            ],
            "text/plain": [
              "<IPython.core.display.HTML object>"
            ]
          },
          "metadata": {
            "tags": []
          }
        },
        {
          "output_type": "stream",
          "text": [
            "Training Loss:  0.0371\n",
            "Training accuracy: 99.1542%\n"
          ],
          "name": "stdout"
        },
        {
          "output_type": "display_data",
          "data": {
            "text/html": [
              "\n",
              "        <p>Loss: 0.0356   8000 / 8000</p>\n",
              "        <progress value='8000' max='8000', style='width: 100%'>8000</progress>\n",
              "    "
            ],
            "text/plain": [
              "<IPython.core.display.HTML object>"
            ]
          },
          "metadata": {
            "tags": []
          }
        },
        {
          "output_type": "stream",
          "text": [
            "Validation Loss:  0.0356\n",
            "Validation accuracy: 99.2375%\n",
            "\"Best Loss\": 0.035592312510642744\n",
            "\n",
            "Validation Loss has gone up 0 times.\n",
            "\n"
          ],
          "name": "stdout"
        },
        {
          "output_type": "display_data",
          "data": {
            "text/html": [
              "\n",
              "        <p>Loss: 0.0267   24000 / 24000</p>\n",
              "        <progress value='24000' max='24000', style='width: 100%'>24000</progress>\n",
              "    "
            ],
            "text/plain": [
              "<IPython.core.display.HTML object>"
            ]
          },
          "metadata": {
            "tags": []
          }
        },
        {
          "output_type": "stream",
          "text": [
            "Epoch:  2\n",
            "Training loss: 0.0267\n"
          ],
          "name": "stdout"
        },
        {
          "output_type": "display_data",
          "data": {
            "text/html": [
              "\n",
              "        <p>Loss: 0.0190   24000 / 24000</p>\n",
              "        <progress value='24000' max='24000', style='width: 100%'>24000</progress>\n",
              "    "
            ],
            "text/plain": [
              "<IPython.core.display.HTML object>"
            ]
          },
          "metadata": {
            "tags": []
          }
        },
        {
          "output_type": "stream",
          "text": [
            "Training Loss:  0.019\n",
            "Training accuracy: 99.5458%\n"
          ],
          "name": "stdout"
        },
        {
          "output_type": "display_data",
          "data": {
            "text/html": [
              "\n",
              "        <p>Loss: 0.0192   8000 / 8000</p>\n",
              "        <progress value='8000' max='8000', style='width: 100%'>8000</progress>\n",
              "    "
            ],
            "text/plain": [
              "<IPython.core.display.HTML object>"
            ]
          },
          "metadata": {
            "tags": []
          }
        },
        {
          "output_type": "stream",
          "text": [
            "Validation Loss:  0.0192\n",
            "Validation accuracy: 99.6125%\n",
            "\"Best Loss\": 0.01917904607271628\n",
            "\n",
            "Validation Loss has gone up 0 times.\n",
            "\n"
          ],
          "name": "stdout"
        },
        {
          "output_type": "display_data",
          "data": {
            "text/html": [
              "\n",
              "        <p>Loss: 0.0159   24000 / 24000</p>\n",
              "        <progress value='24000' max='24000', style='width: 100%'>24000</progress>\n",
              "    "
            ],
            "text/plain": [
              "<IPython.core.display.HTML object>"
            ]
          },
          "metadata": {
            "tags": []
          }
        },
        {
          "output_type": "stream",
          "text": [
            "Epoch:  3\n",
            "Training loss: 0.0159\n"
          ],
          "name": "stdout"
        },
        {
          "output_type": "display_data",
          "data": {
            "text/html": [
              "\n",
              "        <p>Loss: 0.0136   24000 / 24000</p>\n",
              "        <progress value='24000' max='24000', style='width: 100%'>24000</progress>\n",
              "    "
            ],
            "text/plain": [
              "<IPython.core.display.HTML object>"
            ]
          },
          "metadata": {
            "tags": []
          }
        },
        {
          "output_type": "stream",
          "text": [
            "Training Loss:  0.0136\n",
            "Training accuracy: 99.7208%\n"
          ],
          "name": "stdout"
        },
        {
          "output_type": "display_data",
          "data": {
            "text/html": [
              "\n",
              "        <p>Loss: 0.0142   8000 / 8000</p>\n",
              "        <progress value='8000' max='8000', style='width: 100%'>8000</progress>\n",
              "    "
            ],
            "text/plain": [
              "<IPython.core.display.HTML object>"
            ]
          },
          "metadata": {
            "tags": []
          }
        },
        {
          "output_type": "stream",
          "text": [
            "Validation Loss:  0.0142\n",
            "Validation accuracy: 99.7000%\n",
            "\"Best Loss\": 0.014237646634380022\n",
            "\n",
            "Validation Loss has gone up 0 times.\n",
            "\n"
          ],
          "name": "stdout"
        },
        {
          "output_type": "display_data",
          "data": {
            "text/html": [
              "\n",
              "        <p>Loss: 0.0110   24000 / 24000</p>\n",
              "        <progress value='24000' max='24000', style='width: 100%'>24000</progress>\n",
              "    "
            ],
            "text/plain": [
              "<IPython.core.display.HTML object>"
            ]
          },
          "metadata": {
            "tags": []
          }
        },
        {
          "output_type": "stream",
          "text": [
            "Epoch:  4\n",
            "Training loss: 0.011\n"
          ],
          "name": "stdout"
        },
        {
          "output_type": "display_data",
          "data": {
            "text/html": [
              "\n",
              "        <p>Loss: 0.0105   24000 / 24000</p>\n",
              "        <progress value='24000' max='24000', style='width: 100%'>24000</progress>\n",
              "    "
            ],
            "text/plain": [
              "<IPython.core.display.HTML object>"
            ]
          },
          "metadata": {
            "tags": []
          }
        },
        {
          "output_type": "stream",
          "text": [
            "Training Loss:  0.0105\n",
            "Training accuracy: 99.7875%\n"
          ],
          "name": "stdout"
        },
        {
          "output_type": "display_data",
          "data": {
            "text/html": [
              "\n",
              "        <p>Loss: 0.0110   8000 / 8000</p>\n",
              "        <progress value='8000' max='8000', style='width: 100%'>8000</progress>\n",
              "    "
            ],
            "text/plain": [
              "<IPython.core.display.HTML object>"
            ]
          },
          "metadata": {
            "tags": []
          }
        },
        {
          "output_type": "stream",
          "text": [
            "Validation Loss:  0.011\n",
            "Validation accuracy: 99.7750%\n",
            "\"Best Loss\": 0.010999635057819505\n",
            "\n",
            "Validation Loss has gone up 0 times.\n",
            "\n"
          ],
          "name": "stdout"
        },
        {
          "output_type": "display_data",
          "data": {
            "text/html": [
              "\n",
              "        <p>Loss: 0.0080   24000 / 24000</p>\n",
              "        <progress value='24000' max='24000', style='width: 100%'>24000</progress>\n",
              "    "
            ],
            "text/plain": [
              "<IPython.core.display.HTML object>"
            ]
          },
          "metadata": {
            "tags": []
          }
        },
        {
          "output_type": "stream",
          "text": [
            "Epoch:  5\n",
            "Training loss: 0.008\n"
          ],
          "name": "stdout"
        },
        {
          "output_type": "display_data",
          "data": {
            "text/html": [
              "\n",
              "        <p>Loss: 0.0072   24000 / 24000</p>\n",
              "        <progress value='24000' max='24000', style='width: 100%'>24000</progress>\n",
              "    "
            ],
            "text/plain": [
              "<IPython.core.display.HTML object>"
            ]
          },
          "metadata": {
            "tags": []
          }
        },
        {
          "output_type": "stream",
          "text": [
            "Training Loss:  0.0072\n",
            "Training accuracy: 99.8208%\n"
          ],
          "name": "stdout"
        },
        {
          "output_type": "display_data",
          "data": {
            "text/html": [
              "\n",
              "        <p>Loss: 0.0077   8000 / 8000</p>\n",
              "        <progress value='8000' max='8000', style='width: 100%'>8000</progress>\n",
              "    "
            ],
            "text/plain": [
              "<IPython.core.display.HTML object>"
            ]
          },
          "metadata": {
            "tags": []
          }
        },
        {
          "output_type": "stream",
          "text": [
            "Validation Loss:  0.0077\n",
            "Validation accuracy: 99.8625%\n",
            "\"Best Loss\": 0.007692827033765968\n",
            "\n",
            "Validation Loss has gone up 0 times.\n",
            "\n"
          ],
          "name": "stdout"
        },
        {
          "output_type": "display_data",
          "data": {
            "text/html": [
              "\n",
              "        <p>Loss: 0.0067   24000 / 24000</p>\n",
              "        <progress value='24000' max='24000', style='width: 100%'>24000</progress>\n",
              "    "
            ],
            "text/plain": [
              "<IPython.core.display.HTML object>"
            ]
          },
          "metadata": {
            "tags": []
          }
        },
        {
          "output_type": "stream",
          "text": [
            "Epoch:  6\n",
            "Training loss: 0.0067\n"
          ],
          "name": "stdout"
        },
        {
          "output_type": "display_data",
          "data": {
            "text/html": [
              "\n",
              "        <p>Loss: 0.0060   24000 / 24000</p>\n",
              "        <progress value='24000' max='24000', style='width: 100%'>24000</progress>\n",
              "    "
            ],
            "text/plain": [
              "<IPython.core.display.HTML object>"
            ]
          },
          "metadata": {
            "tags": []
          }
        },
        {
          "output_type": "stream",
          "text": [
            "Training Loss:  0.006\n",
            "Training accuracy: 99.8542%\n"
          ],
          "name": "stdout"
        },
        {
          "output_type": "display_data",
          "data": {
            "text/html": [
              "\n",
              "        <p>Loss: 0.0062   8000 / 8000</p>\n",
              "        <progress value='8000' max='8000', style='width: 100%'>8000</progress>\n",
              "    "
            ],
            "text/plain": [
              "<IPython.core.display.HTML object>"
            ]
          },
          "metadata": {
            "tags": []
          }
        },
        {
          "output_type": "stream",
          "text": [
            "Validation Loss:  0.0062\n",
            "Validation accuracy: 99.8750%\n",
            "\"Best Loss\": 0.006209434710428237\n",
            "\n",
            "Validation Loss has gone up 0 times.\n",
            "\n"
          ],
          "name": "stdout"
        },
        {
          "output_type": "display_data",
          "data": {
            "text/html": [
              "\n",
              "        <p>Loss: 0.0055   24000 / 24000</p>\n",
              "        <progress value='24000' max='24000', style='width: 100%'>24000</progress>\n",
              "    "
            ],
            "text/plain": [
              "<IPython.core.display.HTML object>"
            ]
          },
          "metadata": {
            "tags": []
          }
        },
        {
          "output_type": "stream",
          "text": [
            "Epoch:  7\n",
            "Training loss: 0.0055\n"
          ],
          "name": "stdout"
        },
        {
          "output_type": "display_data",
          "data": {
            "text/html": [
              "\n",
              "        <p>Loss: 0.0051   24000 / 24000</p>\n",
              "        <progress value='24000' max='24000', style='width: 100%'>24000</progress>\n",
              "    "
            ],
            "text/plain": [
              "<IPython.core.display.HTML object>"
            ]
          },
          "metadata": {
            "tags": []
          }
        },
        {
          "output_type": "stream",
          "text": [
            "Training Loss:  0.0051\n",
            "Training accuracy: 99.9208%\n"
          ],
          "name": "stdout"
        },
        {
          "output_type": "display_data",
          "data": {
            "text/html": [
              "\n",
              "        <p>Loss: 0.0054   8000 / 8000</p>\n",
              "        <progress value='8000' max='8000', style='width: 100%'>8000</progress>\n",
              "    "
            ],
            "text/plain": [
              "<IPython.core.display.HTML object>"
            ]
          },
          "metadata": {
            "tags": []
          }
        },
        {
          "output_type": "stream",
          "text": [
            "Validation Loss:  0.0054\n",
            "Validation accuracy: 99.9250%\n",
            "\"Best Loss\": 0.005366702966894659\n",
            "\n",
            "Validation Loss has gone up 0 times.\n",
            "\n"
          ],
          "name": "stdout"
        },
        {
          "output_type": "display_data",
          "data": {
            "text/html": [
              "\n",
              "        <p>Loss: 0.0054   24000 / 24000</p>\n",
              "        <progress value='24000' max='24000', style='width: 100%'>24000</progress>\n",
              "    "
            ],
            "text/plain": [
              "<IPython.core.display.HTML object>"
            ]
          },
          "metadata": {
            "tags": []
          }
        },
        {
          "output_type": "stream",
          "text": [
            "Epoch:  8\n",
            "Training loss: 0.0054\n"
          ],
          "name": "stdout"
        },
        {
          "output_type": "display_data",
          "data": {
            "text/html": [
              "\n",
              "        <p>Loss: 0.0059   24000 / 24000</p>\n",
              "        <progress value='24000' max='24000', style='width: 100%'>24000</progress>\n",
              "    "
            ],
            "text/plain": [
              "<IPython.core.display.HTML object>"
            ]
          },
          "metadata": {
            "tags": []
          }
        },
        {
          "output_type": "stream",
          "text": [
            "Training Loss:  0.0059\n",
            "Training accuracy: 99.9000%\n"
          ],
          "name": "stdout"
        },
        {
          "output_type": "display_data",
          "data": {
            "text/html": [
              "\n",
              "        <p>Loss: 0.0058   8000 / 8000</p>\n",
              "        <progress value='8000' max='8000', style='width: 100%'>8000</progress>\n",
              "    "
            ],
            "text/plain": [
              "<IPython.core.display.HTML object>"
            ]
          },
          "metadata": {
            "tags": []
          }
        },
        {
          "output_type": "stream",
          "text": [
            "Validation Loss:  0.0058\n",
            "Validation accuracy: 99.9250%\n",
            "Validation Loss has gone up 1 times.\n",
            "\n"
          ],
          "name": "stdout"
        },
        {
          "output_type": "display_data",
          "data": {
            "text/html": [
              "\n",
              "        <p>Loss: 0.0047   24000 / 24000</p>\n",
              "        <progress value='24000' max='24000', style='width: 100%'>24000</progress>\n",
              "    "
            ],
            "text/plain": [
              "<IPython.core.display.HTML object>"
            ]
          },
          "metadata": {
            "tags": []
          }
        },
        {
          "output_type": "stream",
          "text": [
            "Epoch:  9\n",
            "Training loss: 0.0047\n"
          ],
          "name": "stdout"
        },
        {
          "output_type": "display_data",
          "data": {
            "text/html": [
              "\n",
              "        <p>Loss: 0.0044   24000 / 24000</p>\n",
              "        <progress value='24000' max='24000', style='width: 100%'>24000</progress>\n",
              "    "
            ],
            "text/plain": [
              "<IPython.core.display.HTML object>"
            ]
          },
          "metadata": {
            "tags": []
          }
        },
        {
          "output_type": "stream",
          "text": [
            "Training Loss:  0.0044\n",
            "Training accuracy: 99.9083%\n"
          ],
          "name": "stdout"
        },
        {
          "output_type": "display_data",
          "data": {
            "text/html": [
              "\n",
              "        <p>Loss: 0.0046   8000 / 8000</p>\n",
              "        <progress value='8000' max='8000', style='width: 100%'>8000</progress>\n",
              "    "
            ],
            "text/plain": [
              "<IPython.core.display.HTML object>"
            ]
          },
          "metadata": {
            "tags": []
          }
        },
        {
          "output_type": "stream",
          "text": [
            "Validation Loss:  0.0046\n",
            "Validation accuracy: 99.9125%\n",
            "\"Best Loss\": 0.004640302525663245\n",
            "\n",
            "Validation Loss has gone up 0 times.\n",
            "\n"
          ],
          "name": "stdout"
        },
        {
          "output_type": "display_data",
          "data": {
            "text/html": [
              "\n",
              "        <p>Loss: 0.0043   24000 / 24000</p>\n",
              "        <progress value='24000' max='24000', style='width: 100%'>24000</progress>\n",
              "    "
            ],
            "text/plain": [
              "<IPython.core.display.HTML object>"
            ]
          },
          "metadata": {
            "tags": []
          }
        },
        {
          "output_type": "stream",
          "text": [
            "Epoch:  10\n",
            "Training loss: 0.0043\n"
          ],
          "name": "stdout"
        },
        {
          "output_type": "display_data",
          "data": {
            "text/html": [
              "\n",
              "        <p>Loss: 0.0040   24000 / 24000</p>\n",
              "        <progress value='24000' max='24000', style='width: 100%'>24000</progress>\n",
              "    "
            ],
            "text/plain": [
              "<IPython.core.display.HTML object>"
            ]
          },
          "metadata": {
            "tags": []
          }
        },
        {
          "output_type": "stream",
          "text": [
            "Training Loss:  0.004\n",
            "Training accuracy: 99.9292%\n"
          ],
          "name": "stdout"
        },
        {
          "output_type": "display_data",
          "data": {
            "text/html": [
              "\n",
              "        <p>Loss: 0.0044   8000 / 8000</p>\n",
              "        <progress value='8000' max='8000', style='width: 100%'>8000</progress>\n",
              "    "
            ],
            "text/plain": [
              "<IPython.core.display.HTML object>"
            ]
          },
          "metadata": {
            "tags": []
          }
        },
        {
          "output_type": "stream",
          "text": [
            "Validation Loss:  0.0044\n",
            "Validation accuracy: 99.9125%\n",
            "\"Best Loss\": 0.004386175324075988\n",
            "\n",
            "Validation Loss has gone up 0 times.\n",
            "\n"
          ],
          "name": "stdout"
        },
        {
          "output_type": "display_data",
          "data": {
            "text/html": [
              "\n",
              "        <p>Loss: 0.0042   24000 / 24000</p>\n",
              "        <progress value='24000' max='24000', style='width: 100%'>24000</progress>\n",
              "    "
            ],
            "text/plain": [
              "<IPython.core.display.HTML object>"
            ]
          },
          "metadata": {
            "tags": []
          }
        },
        {
          "output_type": "stream",
          "text": [
            "Epoch:  11\n",
            "Training loss: 0.0042\n"
          ],
          "name": "stdout"
        },
        {
          "output_type": "display_data",
          "data": {
            "text/html": [
              "\n",
              "        <p>Loss: 0.0038   24000 / 24000</p>\n",
              "        <progress value='24000' max='24000', style='width: 100%'>24000</progress>\n",
              "    "
            ],
            "text/plain": [
              "<IPython.core.display.HTML object>"
            ]
          },
          "metadata": {
            "tags": []
          }
        },
        {
          "output_type": "stream",
          "text": [
            "Training Loss:  0.0038\n",
            "Training accuracy: 99.9292%\n"
          ],
          "name": "stdout"
        },
        {
          "output_type": "display_data",
          "data": {
            "text/html": [
              "\n",
              "        <p>Loss: 0.0041   8000 / 8000</p>\n",
              "        <progress value='8000' max='8000', style='width: 100%'>8000</progress>\n",
              "    "
            ],
            "text/plain": [
              "<IPython.core.display.HTML object>"
            ]
          },
          "metadata": {
            "tags": []
          }
        },
        {
          "output_type": "stream",
          "text": [
            "Validation Loss:  0.0041\n",
            "Validation accuracy: 99.9125%\n",
            "\"Best Loss\": 0.004092083233112973\n",
            "\n",
            "Validation Loss has gone up 0 times.\n",
            "\n"
          ],
          "name": "stdout"
        },
        {
          "output_type": "display_data",
          "data": {
            "text/html": [
              "\n",
              "        <p>Loss: 0.0041   24000 / 24000</p>\n",
              "        <progress value='24000' max='24000', style='width: 100%'>24000</progress>\n",
              "    "
            ],
            "text/plain": [
              "<IPython.core.display.HTML object>"
            ]
          },
          "metadata": {
            "tags": []
          }
        },
        {
          "output_type": "stream",
          "text": [
            "Epoch:  12\n",
            "Training loss: 0.0041\n"
          ],
          "name": "stdout"
        },
        {
          "output_type": "display_data",
          "data": {
            "text/html": [
              "\n",
              "        <p>Loss: 0.0036   24000 / 24000</p>\n",
              "        <progress value='24000' max='24000', style='width: 100%'>24000</progress>\n",
              "    "
            ],
            "text/plain": [
              "<IPython.core.display.HTML object>"
            ]
          },
          "metadata": {
            "tags": []
          }
        },
        {
          "output_type": "stream",
          "text": [
            "Training Loss:  0.0036\n",
            "Training accuracy: 99.9417%\n"
          ],
          "name": "stdout"
        },
        {
          "output_type": "display_data",
          "data": {
            "text/html": [
              "\n",
              "        <p>Loss: 0.0038   8000 / 8000</p>\n",
              "        <progress value='8000' max='8000', style='width: 100%'>8000</progress>\n",
              "    "
            ],
            "text/plain": [
              "<IPython.core.display.HTML object>"
            ]
          },
          "metadata": {
            "tags": []
          }
        },
        {
          "output_type": "stream",
          "text": [
            "Validation Loss:  0.0038\n",
            "Validation accuracy: 99.9250%\n",
            "\"Best Loss\": 0.0037800071766555653\n",
            "\n",
            "Validation Loss has gone up 0 times.\n",
            "\n"
          ],
          "name": "stdout"
        },
        {
          "output_type": "display_data",
          "data": {
            "text/html": [
              "\n",
              "        <p>Loss: 0.0042   24000 / 24000</p>\n",
              "        <progress value='24000' max='24000', style='width: 100%'>24000</progress>\n",
              "    "
            ],
            "text/plain": [
              "<IPython.core.display.HTML object>"
            ]
          },
          "metadata": {
            "tags": []
          }
        },
        {
          "output_type": "stream",
          "text": [
            "Epoch:  13\n",
            "Training loss: 0.0042\n"
          ],
          "name": "stdout"
        },
        {
          "output_type": "display_data",
          "data": {
            "text/html": [
              "\n",
              "        <p>Loss: 0.0034   24000 / 24000</p>\n",
              "        <progress value='24000' max='24000', style='width: 100%'>24000</progress>\n",
              "    "
            ],
            "text/plain": [
              "<IPython.core.display.HTML object>"
            ]
          },
          "metadata": {
            "tags": []
          }
        },
        {
          "output_type": "stream",
          "text": [
            "Training Loss:  0.0034\n",
            "Training accuracy: 99.9458%\n"
          ],
          "name": "stdout"
        },
        {
          "output_type": "display_data",
          "data": {
            "text/html": [
              "\n",
              "        <p>Loss: 0.0036   8000 / 8000</p>\n",
              "        <progress value='8000' max='8000', style='width: 100%'>8000</progress>\n",
              "    "
            ],
            "text/plain": [
              "<IPython.core.display.HTML object>"
            ]
          },
          "metadata": {
            "tags": []
          }
        },
        {
          "output_type": "stream",
          "text": [
            "Validation Loss:  0.0036\n",
            "Validation accuracy: 99.9250%\n",
            "\"Best Loss\": 0.003637878093979366\n",
            "\n",
            "Validation Loss has gone up 0 times.\n",
            "\n"
          ],
          "name": "stdout"
        },
        {
          "output_type": "display_data",
          "data": {
            "text/html": [
              "\n",
              "        <p>Loss: 0.0036   24000 / 24000</p>\n",
              "        <progress value='24000' max='24000', style='width: 100%'>24000</progress>\n",
              "    "
            ],
            "text/plain": [
              "<IPython.core.display.HTML object>"
            ]
          },
          "metadata": {
            "tags": []
          }
        },
        {
          "output_type": "stream",
          "text": [
            "Epoch:  14\n",
            "Training loss: 0.0036\n"
          ],
          "name": "stdout"
        },
        {
          "output_type": "display_data",
          "data": {
            "text/html": [
              "\n",
              "        <p>Loss: 0.0036   24000 / 24000</p>\n",
              "        <progress value='24000' max='24000', style='width: 100%'>24000</progress>\n",
              "    "
            ],
            "text/plain": [
              "<IPython.core.display.HTML object>"
            ]
          },
          "metadata": {
            "tags": []
          }
        },
        {
          "output_type": "stream",
          "text": [
            "Training Loss:  0.0036\n",
            "Training accuracy: 99.9375%\n"
          ],
          "name": "stdout"
        },
        {
          "output_type": "display_data",
          "data": {
            "text/html": [
              "\n",
              "        <p>Loss: 0.0037   8000 / 8000</p>\n",
              "        <progress value='8000' max='8000', style='width: 100%'>8000</progress>\n",
              "    "
            ],
            "text/plain": [
              "<IPython.core.display.HTML object>"
            ]
          },
          "metadata": {
            "tags": []
          }
        },
        {
          "output_type": "stream",
          "text": [
            "Validation Loss:  0.0037\n",
            "Validation accuracy: 99.9250%\n",
            "Validation Loss has gone up 1 times.\n",
            "\n"
          ],
          "name": "stdout"
        },
        {
          "output_type": "display_data",
          "data": {
            "text/html": [
              "\n",
              "        <p>Loss: 0.0040   24000 / 24000</p>\n",
              "        <progress value='24000' max='24000', style='width: 100%'>24000</progress>\n",
              "    "
            ],
            "text/plain": [
              "<IPython.core.display.HTML object>"
            ]
          },
          "metadata": {
            "tags": []
          }
        },
        {
          "output_type": "stream",
          "text": [
            "Epoch:  15\n",
            "Training loss: 0.004\n"
          ],
          "name": "stdout"
        },
        {
          "output_type": "display_data",
          "data": {
            "text/html": [
              "\n",
              "        <p>Loss: 0.0033   24000 / 24000</p>\n",
              "        <progress value='24000' max='24000', style='width: 100%'>24000</progress>\n",
              "    "
            ],
            "text/plain": [
              "<IPython.core.display.HTML object>"
            ]
          },
          "metadata": {
            "tags": []
          }
        },
        {
          "output_type": "stream",
          "text": [
            "Training Loss:  0.0033\n",
            "Training accuracy: 99.9542%\n"
          ],
          "name": "stdout"
        },
        {
          "output_type": "display_data",
          "data": {
            "text/html": [
              "\n",
              "        <p>Loss: 0.0034   8000 / 8000</p>\n",
              "        <progress value='8000' max='8000', style='width: 100%'>8000</progress>\n",
              "    "
            ],
            "text/plain": [
              "<IPython.core.display.HTML object>"
            ]
          },
          "metadata": {
            "tags": []
          }
        },
        {
          "output_type": "stream",
          "text": [
            "Validation Loss:  0.0034\n",
            "Validation accuracy: 99.9375%\n",
            "\"Best Loss\": 0.0034322141436859965\n",
            "\n",
            "Validation Loss has gone up 0 times.\n",
            "\n"
          ],
          "name": "stdout"
        },
        {
          "output_type": "display_data",
          "data": {
            "text/html": [
              "\n",
              "        <p>Loss: 0.0038   24000 / 24000</p>\n",
              "        <progress value='24000' max='24000', style='width: 100%'>24000</progress>\n",
              "    "
            ],
            "text/plain": [
              "<IPython.core.display.HTML object>"
            ]
          },
          "metadata": {
            "tags": []
          }
        },
        {
          "output_type": "stream",
          "text": [
            "Epoch:  16\n",
            "Training loss: 0.0038\n"
          ],
          "name": "stdout"
        },
        {
          "output_type": "display_data",
          "data": {
            "text/html": [
              "\n",
              "        <p>Loss: 0.0032   24000 / 24000</p>\n",
              "        <progress value='24000' max='24000', style='width: 100%'>24000</progress>\n",
              "    "
            ],
            "text/plain": [
              "<IPython.core.display.HTML object>"
            ]
          },
          "metadata": {
            "tags": []
          }
        },
        {
          "output_type": "stream",
          "text": [
            "Training Loss:  0.0032\n",
            "Training accuracy: 99.9500%\n"
          ],
          "name": "stdout"
        },
        {
          "output_type": "display_data",
          "data": {
            "text/html": [
              "\n",
              "        <p>Loss: 0.0033   8000 / 8000</p>\n",
              "        <progress value='8000' max='8000', style='width: 100%'>8000</progress>\n",
              "    "
            ],
            "text/plain": [
              "<IPython.core.display.HTML object>"
            ]
          },
          "metadata": {
            "tags": []
          }
        },
        {
          "output_type": "stream",
          "text": [
            "Validation Loss:  0.0033\n",
            "Validation accuracy: 99.9375%\n",
            "\"Best Loss\": 0.003310412849440047\n",
            "\n",
            "Validation Loss has gone up 0 times.\n",
            "\n"
          ],
          "name": "stdout"
        },
        {
          "output_type": "display_data",
          "data": {
            "text/html": [
              "\n",
              "        <p>Loss: 0.0034   24000 / 24000</p>\n",
              "        <progress value='24000' max='24000', style='width: 100%'>24000</progress>\n",
              "    "
            ],
            "text/plain": [
              "<IPython.core.display.HTML object>"
            ]
          },
          "metadata": {
            "tags": []
          }
        },
        {
          "output_type": "stream",
          "text": [
            "Epoch:  17\n",
            "Training loss: 0.0034\n"
          ],
          "name": "stdout"
        },
        {
          "output_type": "display_data",
          "data": {
            "text/html": [
              "\n",
              "        <p>Loss: 0.0047   24000 / 24000</p>\n",
              "        <progress value='24000' max='24000', style='width: 100%'>24000</progress>\n",
              "    "
            ],
            "text/plain": [
              "<IPython.core.display.HTML object>"
            ]
          },
          "metadata": {
            "tags": []
          }
        },
        {
          "output_type": "stream",
          "text": [
            "Training Loss:  0.0047\n",
            "Training accuracy: 99.9375%\n"
          ],
          "name": "stdout"
        },
        {
          "output_type": "display_data",
          "data": {
            "text/html": [
              "\n",
              "        <p>Loss: 0.0046   8000 / 8000</p>\n",
              "        <progress value='8000' max='8000', style='width: 100%'>8000</progress>\n",
              "    "
            ],
            "text/plain": [
              "<IPython.core.display.HTML object>"
            ]
          },
          "metadata": {
            "tags": []
          }
        },
        {
          "output_type": "stream",
          "text": [
            "Validation Loss:  0.0046\n",
            "Validation accuracy: 99.9500%\n",
            "Validation Loss has gone up 1 times.\n",
            "\n"
          ],
          "name": "stdout"
        },
        {
          "output_type": "display_data",
          "data": {
            "text/html": [
              "\n",
              "        <p>Loss: 0.0033   24000 / 24000</p>\n",
              "        <progress value='24000' max='24000', style='width: 100%'>24000</progress>\n",
              "    "
            ],
            "text/plain": [
              "<IPython.core.display.HTML object>"
            ]
          },
          "metadata": {
            "tags": []
          }
        },
        {
          "output_type": "stream",
          "text": [
            "Epoch:  18\n",
            "Training loss: 0.0033\n"
          ],
          "name": "stdout"
        },
        {
          "output_type": "display_data",
          "data": {
            "text/html": [
              "\n",
              "        <p>Loss: 0.0048   24000 / 24000</p>\n",
              "        <progress value='24000' max='24000', style='width: 100%'>24000</progress>\n",
              "    "
            ],
            "text/plain": [
              "<IPython.core.display.HTML object>"
            ]
          },
          "metadata": {
            "tags": []
          }
        },
        {
          "output_type": "stream",
          "text": [
            "Training Loss:  0.0048\n",
            "Training accuracy: 99.9042%\n"
          ],
          "name": "stdout"
        },
        {
          "output_type": "display_data",
          "data": {
            "text/html": [
              "\n",
              "        <p>Loss: 0.0045   8000 / 8000</p>\n",
              "        <progress value='8000' max='8000', style='width: 100%'>8000</progress>\n",
              "    "
            ],
            "text/plain": [
              "<IPython.core.display.HTML object>"
            ]
          },
          "metadata": {
            "tags": []
          }
        },
        {
          "output_type": "stream",
          "text": [
            "Validation Loss:  0.0045\n",
            "Validation accuracy: 99.9375%\n",
            "Validation Loss has gone up 0 times.\n",
            "\n"
          ],
          "name": "stdout"
        },
        {
          "output_type": "display_data",
          "data": {
            "text/html": [
              "\n",
              "        <p>Loss: 0.0033   24000 / 24000</p>\n",
              "        <progress value='24000' max='24000', style='width: 100%'>24000</progress>\n",
              "    "
            ],
            "text/plain": [
              "<IPython.core.display.HTML object>"
            ]
          },
          "metadata": {
            "tags": []
          }
        },
        {
          "output_type": "stream",
          "text": [
            "Epoch:  19\n",
            "Training loss: 0.0033\n"
          ],
          "name": "stdout"
        },
        {
          "output_type": "display_data",
          "data": {
            "text/html": [
              "\n",
              "        <p>Loss: 0.0031   24000 / 24000</p>\n",
              "        <progress value='24000' max='24000', style='width: 100%'>24000</progress>\n",
              "    "
            ],
            "text/plain": [
              "<IPython.core.display.HTML object>"
            ]
          },
          "metadata": {
            "tags": []
          }
        },
        {
          "output_type": "stream",
          "text": [
            "Training Loss:  0.0031\n",
            "Training accuracy: 99.9542%\n"
          ],
          "name": "stdout"
        },
        {
          "output_type": "display_data",
          "data": {
            "text/html": [
              "\n",
              "        <p>Loss: 0.0031   8000 / 8000</p>\n",
              "        <progress value='8000' max='8000', style='width: 100%'>8000</progress>\n",
              "    "
            ],
            "text/plain": [
              "<IPython.core.display.HTML object>"
            ]
          },
          "metadata": {
            "tags": []
          }
        },
        {
          "output_type": "stream",
          "text": [
            "Validation Loss:  0.0031\n",
            "Validation accuracy: 99.9500%\n",
            "\"Best Loss\": 0.0030590173379991138\n",
            "\n",
            "Validation Loss has gone up 0 times.\n",
            "\n"
          ],
          "name": "stdout"
        },
        {
          "output_type": "display_data",
          "data": {
            "text/html": [
              "\n",
              "        <p>Loss: 0.0034   24000 / 24000</p>\n",
              "        <progress value='24000' max='24000', style='width: 100%'>24000</progress>\n",
              "    "
            ],
            "text/plain": [
              "<IPython.core.display.HTML object>"
            ]
          },
          "metadata": {
            "tags": []
          }
        },
        {
          "output_type": "stream",
          "text": [
            "Epoch:  20\n",
            "Training loss: 0.0034\n"
          ],
          "name": "stdout"
        },
        {
          "output_type": "display_data",
          "data": {
            "text/html": [
              "\n",
              "        <p>Loss: 0.0031   24000 / 24000</p>\n",
              "        <progress value='24000' max='24000', style='width: 100%'>24000</progress>\n",
              "    "
            ],
            "text/plain": [
              "<IPython.core.display.HTML object>"
            ]
          },
          "metadata": {
            "tags": []
          }
        },
        {
          "output_type": "stream",
          "text": [
            "Training Loss:  0.0031\n",
            "Training accuracy: 99.9500%\n"
          ],
          "name": "stdout"
        },
        {
          "output_type": "display_data",
          "data": {
            "text/html": [
              "\n",
              "        <p>Loss: 0.0034   8000 / 8000</p>\n",
              "        <progress value='8000' max='8000', style='width: 100%'>8000</progress>\n",
              "    "
            ],
            "text/plain": [
              "<IPython.core.display.HTML object>"
            ]
          },
          "metadata": {
            "tags": []
          }
        },
        {
          "output_type": "stream",
          "text": [
            "Validation Loss:  0.0034\n",
            "Validation accuracy: 99.9250%\n",
            "Validation Loss has gone up 1 times.\n",
            "\n"
          ],
          "name": "stdout"
        },
        {
          "output_type": "display_data",
          "data": {
            "text/html": [
              "\n",
              "        <p>Loss: 0.0033   24000 / 24000</p>\n",
              "        <progress value='24000' max='24000', style='width: 100%'>24000</progress>\n",
              "    "
            ],
            "text/plain": [
              "<IPython.core.display.HTML object>"
            ]
          },
          "metadata": {
            "tags": []
          }
        },
        {
          "output_type": "stream",
          "text": [
            "Epoch:  21\n",
            "Training loss: 0.0033\n"
          ],
          "name": "stdout"
        },
        {
          "output_type": "display_data",
          "data": {
            "text/html": [
              "\n",
              "        <p>Loss: 0.0039   24000 / 24000</p>\n",
              "        <progress value='24000' max='24000', style='width: 100%'>24000</progress>\n",
              "    "
            ],
            "text/plain": [
              "<IPython.core.display.HTML object>"
            ]
          },
          "metadata": {
            "tags": []
          }
        },
        {
          "output_type": "stream",
          "text": [
            "Training Loss:  0.0039\n",
            "Training accuracy: 99.9500%\n"
          ],
          "name": "stdout"
        },
        {
          "output_type": "display_data",
          "data": {
            "text/html": [
              "\n",
              "        <p>Loss: 0.0038   8000 / 8000</p>\n",
              "        <progress value='8000' max='8000', style='width: 100%'>8000</progress>\n",
              "    "
            ],
            "text/plain": [
              "<IPython.core.display.HTML object>"
            ]
          },
          "metadata": {
            "tags": []
          }
        },
        {
          "output_type": "stream",
          "text": [
            "Validation Loss:  0.0038\n",
            "Validation accuracy: 99.9625%\n",
            "Validation Loss has gone up 2 times.\n",
            "\n"
          ],
          "name": "stdout"
        }
      ]
    },
    {
      "cell_type": "code",
      "metadata": {
        "id": "I5fNHznp9m4i",
        "colab_type": "code",
        "outputId": "4b0fc99d-f745-4acf-b455-6e5f6dffb549",
        "colab": {
          "base_uri": "https://localhost:8080/",
          "height": 295
        }
      },
      "source": [
        "epochs = range(1, len(train_losses) + 1)\n",
        "epoch_ticks = [i if i % 5 == 0 else 0 for i in epochs]\n",
        "    \n",
        "# plt.figure(figsize=(10,6))\n",
        "plt.plot(epochs, train_losses, label='Training loss')\n",
        "plt.plot(epochs, valid_losses, label='Validation loss')\n",
        "plt.legend()\n",
        "plt.title('Learning curves')\n",
        "plt.xlabel('Epoch')\n",
        "plt.ylabel('Loss')\n",
        "plt.xticks(epoch_ticks)\n",
        "plt.show()"
      ],
      "execution_count": 10,
      "outputs": [
        {
          "output_type": "display_data",
          "data": {
            "image/png": "[encoded data removed]",
            "text/plain": [
              "<Figure size 432x288 with 1 Axes>"
            ]
          },
          "metadata": {
            "tags": []
          }
        }
      ]
    },
    {
      "cell_type": "code",
      "metadata": {
        "id": "RTssTM2vs-2g",
        "colab_type": "code",
        "colab": {}
      },
      "source": [
        ""
      ],
      "execution_count": 0,
      "outputs": []
    },
    {
      "cell_type": "code",
      "metadata": {
        "id": "9dGAwCcD26iA",
        "colab_type": "code",
        "colab": {}
      },
      "source": [
        "# import numpy as np\n",
        "# import matplotlib.pyplot as plt\n",
        "# import pickle\n",
        "\n",
        "# num = 5\n",
        "# LR = 0\n",
        "# SVM = 0\n",
        "# SVM_r = 0\n",
        "# SVM_p = 0\n",
        "\n",
        "\n",
        "# for z in range(num):\n",
        "#     # read python dict back from the file\n",
        "#     data = None\n",
        "#     lbls = None\n",
        "#     og_d = None\n",
        "#     with h5py.File(fhq_hdf5_pt, 'r') as hdf5_file: \n",
        "#         data = hdf5_file['fft_data'][:]\n",
        "#         lbls = hdf5_file['lbl_data'][:]\n",
        "#         og_d = hdf5_file['orgn_data'][:]\n",
        "\n",
        "#     X = data \n",
        "#     y = lbls \n",
        "\n",
        "\n",
        "#     try:\n",
        "\n",
        "#         from sklearn.model_selection import train_test_split\n",
        "#         X_train, X_test, y_train, y_test = train_test_split(X, y, test_size = 0.2)\n",
        "\n",
        "#         from sklearn.svm import SVC\n",
        "#         svclassifier = SVC(kernel='linear')\n",
        "#         svclassifier.fit(X_train, y_train)\n",
        "#         #print('Accuracy on test set: {:.3f}'.format(svclassifier.score(X_test, y_test)))\n",
        "               \n",
        "#         from sklearn.svm import SVC\n",
        "#         svclassifier_r = SVC(C=3.1, kernel='rbf', gamma=0.00002)\n",
        "#         svclassifier_r.fit(X_train, y_train)\n",
        "#         #print('Accuracy on test set: {:.3f}'.format(svclassifier_r.score(X_test, y_test)))\n",
        "                \n",
        "#         from sklearn.svm import SVC\n",
        "#         svclassifier_p = SVC(kernel='poly')\n",
        "#         svclassifier_p.fit(X_train, y_train)\n",
        "#         #print('Accuracy on test set: {:.3f}'.format(svclassifier_p.score(X_test, y_test)))\n",
        "        \n",
        "#         from sklearn.linear_model import LogisticRegression\n",
        "#         logreg = LogisticRegression(solver='liblinear', max_iter=1000)\n",
        "#         logreg.fit(X_train, y_train)\n",
        "#         #print('Accuracy on test set: {:.3f}'.format(logreg.score(X_test, y_test)))\n",
        "\n",
        "        \n",
        "#         SVM+=svclassifier.score(X_test, y_test)\n",
        "#         SVM_r+=svclassifier_r.score(X_test, y_test)\n",
        "#         SVM_p+=svclassifier_p.score(X_test, y_test)\n",
        "#         LR+=logreg.score(X_test, y_test)\n",
        "\n",
        " \n",
        "#     except:\n",
        "#         num-=1\n",
        "#         print(num)\n",
        "    \n",
        "# print(\"Average SVM: \"+str(SVM/num))\n",
        "# print(\"Average SVM_r: \"+str(SVM_r/num))\n",
        "# print(\"Average SVM_p: \"+str(SVM_p/num))\n",
        "# print(\"Average LR: \"+str(LR/num))"
      ],
      "execution_count": 0,
      "outputs": []
    }
  ]
}