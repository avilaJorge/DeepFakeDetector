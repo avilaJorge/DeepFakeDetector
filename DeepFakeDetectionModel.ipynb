{
  "nbformat": 4,
  "nbformat_minor": 0,
  "metadata": {
    "accelerator": "GPU",
    "colab": {
      "name": "DeepFakeDetectionModel.ipynb",
      "provenance": [],
      "collapsed_sections": [],
      "toc_visible": true,
      "machine_shape": "hm",
      "include_colab_link": true
    },
    "kernelspec": {
      "name": "python3",
      "display_name": "Python 3"
    },
    "language_info": {
      "codemirror_mode": {
        "name": "ipython",
        "version": 3
      },
      "file_extension": ".py",
      "mimetype": "text/x-python",
      "name": "python",
      "nbconvert_exporter": "python",
      "pygments_lexer": "ipython3",
      "version": "3.7.4"
    }
  },
  "cells": [
    {
      "cell_type": "markdown",
      "metadata": {
        "id": "view-in-github",
        "colab_type": "text"
      },
      "source": [
        "<a href=\"https://colab.research.google.com/github/avilaJorge/CSE253_FinalProject/blob/master/DeepFakeDetectionModel.ipynb\" target=\"_parent\"><img src=\"https://colab.research.google.com/assets/colab-badge.svg\" alt=\"Open In Colab\"/></a>"
      ]
    },
    {
      "cell_type": "code",
      "metadata": {
        "colab_type": "code",
        "id": "boe54s6OzmGv",
        "colab": {}
      },
      "source": [
        "# !rm -R ./Logistic_Regression/*\n",
        "# !mkdir Linear_Regression\n",
        "# !rm -R ./sample_data\n",
        "# !wget https://storage.googleapis.com/img-hosting-bucket/Faces_HQ.hdf5"
      ],
      "execution_count": 0,
      "outputs": []
    },
    {
      "cell_type": "code",
      "metadata": {
        "colab_type": "code",
        "id": "YylQ7_8dYB_m",
        "outputId": "23959eac-8d2f-4c94-f1ea-b5a8399bad61",
        "colab": {
          "base_uri": "https://localhost:8080/",
          "height": 35
        }
      },
      "source": [
        "!cp *.py /content/drive/My\\ Drive/CSE253/PA5/PyFiles\n",
        "!cp *.ipynb /content/drive/My\\ Drive/CSE253/PA5/PyFiles"
      ],
      "execution_count": 0,
      "outputs": [
        {
          "output_type": "stream",
          "text": [
            "cp: cannot stat '*.ipynb': No such file or directory\n"
          ],
          "name": "stdout"
        }
      ]
    },
    {
      "cell_type": "code",
      "metadata": {
        "id": "MsIpdKK2362D",
        "colab_type": "code",
        "outputId": "d1a07e0f-5e71-4ef8-87d1-17bc88093b4e",
        "colab": {
          "base_uri": "https://localhost:8080/",
          "height": 35
        }
      },
      "source": [
        "from google.colab import drive\n",
        "drive.mount('/content/drive')"
      ],
      "execution_count": 0,
      "outputs": [
        {
          "output_type": "stream",
          "text": [
            "Drive already mounted at /content/drive; to attempt to forcibly remount, call drive.mount(\"/content/drive\", force_remount=True).\n"
          ],
          "name": "stdout"
        }
      ]
    },
    {
      "cell_type": "code",
      "metadata": {
        "colab_type": "code",
        "id": "fJEugQ-VE0sf",
        "colab": {}
      },
      "source": [
        "# !wget https://storage.googleapis.com/img-hosting-bucket/Faces_HQ.hdf5\n",
        "# !wget https://storage.googleapis.com/img-hosting-bucket/LSUN.hdf5\n",
        "# !wget https://storage.googleapis.com/img-hosting-bucket/LSUN_256.hdf5\n",
        "# !wget https://storage.googleapis.com/img-hosting-bucket/LSUN_BCCC_256.hdf5\n",
        "# !wget https://storage.googleapis.com/img-hosting-bucket/LSUN_BCC_256.hdf5\n",
        "# !wget https://storage.googleapis.com/img-hosting-bucket/LSUN_Cars.hdf5"
      ],
      "execution_count": 0,
      "outputs": []
    },
    {
      "cell_type": "code",
      "metadata": {
        "colab_type": "code",
        "id": "T0CbUfjOFfnJ",
        "outputId": "fa968942-50de-4adc-9f98-2cf8e4bd1ea3",
        "colab": {
          "base_uri": "https://localhost:8080/",
          "height": 312
        }
      },
      "source": [
        "gpu_info = !nvidia-smi\n",
        "gpu_info = '\\n'.join(gpu_info)\n",
        "if gpu_info.find('failed') >= 0:\n",
        "  print('Select the Runtime → \"Change runtime type\" menu to enable a GPU accelerator, ')\n",
        "  print('and then re-execute this cell.')\n",
        "else:\n",
        "  print(gpu_info)"
      ],
      "execution_count": 0,
      "outputs": [
        {
          "output_type": "stream",
          "text": [
            "Tue Mar 17 10:13:31 2020       \n",
            "+-----------------------------------------------------------------------------+\n",
            "| NVIDIA-SMI 440.59       Driver Version: 418.67       CUDA Version: 10.1     |\n",
            "|-------------------------------+----------------------+----------------------+\n",
            "| GPU  Name        Persistence-M| Bus-Id        Disp.A | Volatile Uncorr. ECC |\n",
            "| Fan  Temp  Perf  Pwr:Usage/Cap|         Memory-Usage | GPU-Util  Compute M. |\n",
            "|===============================+======================+======================|\n",
            "|   0  Tesla P100-PCIE...  Off  | 00000000:00:04.0 Off |                    0 |\n",
            "| N/A   36C    P0    26W / 250W |      0MiB / 16280MiB |      0%      Default |\n",
            "+-------------------------------+----------------------+----------------------+\n",
            "                                                                               \n",
            "+-----------------------------------------------------------------------------+\n",
            "| Processes:                                                       GPU Memory |\n",
            "|  GPU       PID   Type   Process name                             Usage      |\n",
            "|=============================================================================|\n",
            "|  No running processes found                                                 |\n",
            "+-----------------------------------------------------------------------------+\n"
          ],
          "name": "stdout"
        }
      ]
    },
    {
      "cell_type": "code",
      "metadata": {
        "colab_type": "code",
        "id": "6pR6L5w39m4U",
        "colab": {}
      },
      "source": [
        "%run DeepFake_Dataloader.py\n",
        "%run utils.py"
      ],
      "execution_count": 0,
      "outputs": []
    },
    {
      "cell_type": "code",
      "metadata": {
        "colab_type": "code",
        "id": "-HZyhY_V9t11",
        "colab": {}
      },
      "source": [
        "# imports pytorch\n",
        "import torch\n",
        "import torch.nn as nn\n",
        "import torchvision.transforms as transforms\n",
        "from torch.utils.data import Dataset, DataLoader\n",
        "\n",
        "# Numpy, Matplotlib, and PIL\n",
        "import numpy as np\n",
        "import matplotlib.pyplot as plt\n",
        "\n",
        "# K-means import\n",
        "# !pip install pykeops\n",
        "from pykeops.torch import LazyTensor\n",
        "# !pip install kmeans-pytorch\n",
        "from kmeans_pytorch import kmeans\n",
        "\n",
        "# general imports\n",
        "import pprint\n",
        "\n",
        "# My imports\n",
        "from DeepFake_Dataloader import get_dataloaders\n",
        "from models import LinearRegression, save_model, SVM, KMeans\n",
        "from utils import RunningAverage\n",
        "from train import train, evaluate\n",
        "\n",
        "device = torch.device(\"cuda:0\" if torch.cuda.is_available() else \"cpu\")"
      ],
      "execution_count": 0,
      "outputs": []
    },
    {
      "cell_type": "code",
      "metadata": {
        "colab_type": "code",
        "id": "v1JJsL9H9t14",
        "colab": {}
      },
      "source": [
        "trn_dl, val_dl, tst_dl = get_dataloaders(\n",
        "    dataset=DeepFakeHDF5Dataset(hdf5_path='/content/LSUN_BCCC_256.hdf5'),\n",
        "    batch_size=128,\n",
        "    num_workers=8\n",
        "    )"
      ],
      "execution_count": 0,
      "outputs": []
    },
    {
      "cell_type": "code",
      "metadata": {
        "colab_type": "code",
        "id": "ftr4FTkt9m4b",
        "colab": {}
      },
      "source": [
        "s_epoch      = 1\n",
        "num_epochs   = 300\n",
        "lr_rate      = 1e-2\n",
        "in_vec_len   = 182                                                                                                                                                                                                                                                                                                                                                                                                                                                                                                                                                                                                                                                                                                                                                                                                                                                                                                                                                                                                                                                                                                                                                                                                                                                                                                                       \n",
        "load_model   = False\n",
        "model_name   = 'LogisticRegressionModel'\n",
        "path         = '/content/Logistic_Regression'\n",
        "\n",
        "lr_model = LinearRegression(in_vec_len).to(device)\n",
        "criterion = torch.nn.BCEWithLogitsLoss()\n",
        "optimizer = torch.optim.SGD(lr_model.parameters(), lr=lr_rate, weight_decay=1e-3, momentum=0.9)"
      ],
      "execution_count": 0,
      "outputs": []
    },
    {
      "cell_type": "code",
      "metadata": {
        "colab_type": "code",
        "id": "mLc_eMyB9m4f",
        "outputId": "3e257780-fb97-4d15-9847-76cda1866b64",
        "colab": {
          "base_uri": "https://localhost:8080/",
          "height": 1000
        }
      },
      "source": [
        "\n",
        "train_losses, valid_losses = train(lr_model, \n",
        "                                   optimizer, \n",
        "                                   criterion, \n",
        "                                   trn_dl, \n",
        "                                   val_dl,\n",
        "                                   model_name,\n",
        "                                   path,\n",
        "                                   num_epochs=num_epochs,\n",
        "                                   predicter=torch.nn.Sigmoid())"
      ],
      "execution_count": 0,
      "outputs": [
        {
          "output_type": "display_data",
          "data": {
            "text/html": [
              "\n",
              "        <p>Loss: 0.5167   48003 / 48003</p>\n",
              "        <progress value='48003' max='48003', style='width: 100%'>48003</progress>\n",
              "    "
            ],
            "text/plain": [
              "<IPython.core.display.HTML object>"
            ]
          },
          "metadata": {
            "tags": []
          }
        },
        {
          "output_type": "stream",
          "text": [
            "Epoch:  1\n",
            "Training loss: 0.5167\n"
          ],
          "name": "stdout"
        },
        {
          "output_type": "display_data",
          "data": {
            "text/html": [
              "\n",
              "        <p>Loss: 0.5218   48003 / 48003</p>\n",
              "        <progress value='48003' max='48003', style='width: 100%'>48003</progress>\n",
              "    "
            ],
            "text/plain": [
              "<IPython.core.display.HTML object>"
            ]
          },
          "metadata": {
            "tags": []
          }
        },
        {
          "output_type": "stream",
          "text": [
            "Training Loss:  0.5218\n",
            "Training accuracy: 74.9245%\n"
          ],
          "name": "stdout"
        },
        {
          "output_type": "display_data",
          "data": {
            "text/html": [
              "\n",
              "        <p>Loss: 0.5240   16000 / 16000</p>\n",
              "        <progress value='16000' max='16000', style='width: 100%'>16000</progress>\n",
              "    "
            ],
            "text/plain": [
              "<IPython.core.display.HTML object>"
            ]
          },
          "metadata": {
            "tags": []
          }
        },
        {
          "output_type": "stream",
          "text": [
            "Validation Loss:  0.524\n",
            "Validation accuracy: 74.9062%\n",
            "\"Best Loss\": 0.5240010802745815\n",
            "\n",
            "Validation Loss has gone up 0 times.\n",
            "\n"
          ],
          "name": "stdout"
        },
        {
          "output_type": "display_data",
          "data": {
            "text/html": [
              "\n",
              "        <p>Loss: 0.4545   48003 / 48003</p>\n",
              "        <progress value='48003' max='48003', style='width: 100%'>48003</progress>\n",
              "    "
            ],
            "text/plain": [
              "<IPython.core.display.HTML object>"
            ]
          },
          "metadata": {
            "tags": []
          }
        },
        {
          "output_type": "stream",
          "text": [
            "Epoch:  2\n",
            "Training loss: 0.4545\n"
          ],
          "name": "stdout"
        },
        {
          "output_type": "display_data",
          "data": {
            "text/html": [
              "\n",
              "        <p>Loss: 0.5627   48003 / 48003</p>\n",
              "        <progress value='48003' max='48003', style='width: 100%'>48003</progress>\n",
              "    "
            ],
            "text/plain": [
              "<IPython.core.display.HTML object>"
            ]
          },
          "metadata": {
            "tags": []
          }
        },
        {
          "output_type": "stream",
          "text": [
            "Training Loss:  0.5627\n",
            "Training accuracy: 70.0040%\n"
          ],
          "name": "stdout"
        },
        {
          "output_type": "display_data",
          "data": {
            "text/html": [
              "\n",
              "        <p>Loss: 0.5600   16000 / 16000</p>\n",
              "        <progress value='16000' max='16000', style='width: 100%'>16000</progress>\n",
              "    "
            ],
            "text/plain": [
              "<IPython.core.display.HTML object>"
            ]
          },
          "metadata": {
            "tags": []
          }
        },
        {
          "output_type": "stream",
          "text": [
            "Validation Loss:  0.56\n",
            "Validation accuracy: 70.1750%\n",
            "Validation Loss has gone up 1 times.\n",
            "\n"
          ],
          "name": "stdout"
        },
        {
          "output_type": "display_data",
          "data": {
            "text/html": [
              "\n",
              "        <p>Loss: 0.4448   48003 / 48003</p>\n",
              "        <progress value='48003' max='48003', style='width: 100%'>48003</progress>\n",
              "    "
            ],
            "text/plain": [
              "<IPython.core.display.HTML object>"
            ]
          },
          "metadata": {
            "tags": []
          }
        },
        {
          "output_type": "stream",
          "text": [
            "Epoch:  3\n",
            "Training loss: 0.4448\n"
          ],
          "name": "stdout"
        },
        {
          "output_type": "display_data",
          "data": {
            "text/html": [
              "\n",
              "        <p>Loss: 0.4268   48003 / 48003</p>\n",
              "        <progress value='48003' max='48003', style='width: 100%'>48003</progress>\n",
              "    "
            ],
            "text/plain": [
              "<IPython.core.display.HTML object>"
            ]
          },
          "metadata": {
            "tags": []
          }
        },
        {
          "output_type": "stream",
          "text": [
            "Training Loss:  0.4268\n",
            "Training accuracy: 80.3096%\n"
          ],
          "name": "stdout"
        },
        {
          "output_type": "display_data",
          "data": {
            "text/html": [
              "\n",
              "        <p>Loss: 0.4261   16000 / 16000</p>\n",
              "        <progress value='16000' max='16000', style='width: 100%'>16000</progress>\n",
              "    "
            ],
            "text/plain": [
              "<IPython.core.display.HTML object>"
            ]
          },
          "metadata": {
            "tags": []
          }
        },
        {
          "output_type": "stream",
          "text": [
            "Validation Loss:  0.4261\n",
            "Validation accuracy: 80.6875%\n",
            "\"Best Loss\": 0.4260555176734924\n",
            "\n",
            "Validation Loss has gone up 0 times.\n",
            "\n"
          ],
          "name": "stdout"
        },
        {
          "output_type": "display_data",
          "data": {
            "text/html": [
              "\n",
              "        <p>Loss: 0.4345   48003 / 48003</p>\n",
              "        <progress value='48003' max='48003', style='width: 100%'>48003</progress>\n",
              "    "
            ],
            "text/plain": [
              "<IPython.core.display.HTML object>"
            ]
          },
          "metadata": {
            "tags": []
          }
        },
        {
          "output_type": "stream",
          "text": [
            "Epoch:  4\n",
            "Training loss: 0.4345\n"
          ],
          "name": "stdout"
        },
        {
          "output_type": "display_data",
          "data": {
            "text/html": [
              "\n",
              "        <p>Loss: 0.4216   48003 / 48003</p>\n",
              "        <progress value='48003' max='48003', style='width: 100%'>48003</progress>\n",
              "    "
            ],
            "text/plain": [
              "<IPython.core.display.HTML object>"
            ]
          },
          "metadata": {
            "tags": []
          }
        },
        {
          "output_type": "stream",
          "text": [
            "Training Loss:  0.4216\n",
            "Training accuracy: 81.5032%\n"
          ],
          "name": "stdout"
        },
        {
          "output_type": "display_data",
          "data": {
            "text/html": [
              "\n",
              "        <p>Loss: 0.4236   16000 / 16000</p>\n",
              "        <progress value='16000' max='16000', style='width: 100%'>16000</progress>\n",
              "    "
            ],
            "text/plain": [
              "<IPython.core.display.HTML object>"
            ]
          },
          "metadata": {
            "tags": []
          }
        },
        {
          "output_type": "stream",
          "text": [
            "Validation Loss:  0.4236\n",
            "Validation accuracy: 81.2813%\n",
            "\"Best Loss\": 0.4235819661617279\n",
            "\n",
            "Validation Loss has gone up 0 times.\n",
            "\n"
          ],
          "name": "stdout"
        },
        {
          "output_type": "display_data",
          "data": {
            "text/html": [
              "\n",
              "        <p>Loss: 0.4219   48003 / 48003</p>\n",
              "        <progress value='48003' max='48003', style='width: 100%'>48003</progress>\n",
              "    "
            ],
            "text/plain": [
              "<IPython.core.display.HTML object>"
            ]
          },
          "metadata": {
            "tags": []
          }
        },
        {
          "output_type": "stream",
          "text": [
            "Epoch:  5\n",
            "Training loss: 0.4219\n"
          ],
          "name": "stdout"
        },
        {
          "output_type": "display_data",
          "data": {
            "text/html": [
              "\n",
              "        <p>Loss: 0.6055   48003 / 48003</p>\n",
              "        <progress value='48003' max='48003', style='width: 100%'>48003</progress>\n",
              "    "
            ],
            "text/plain": [
              "<IPython.core.display.HTML object>"
            ]
          },
          "metadata": {
            "tags": []
          }
        },
        {
          "output_type": "stream",
          "text": [
            "Training Loss:  0.6055\n",
            "Training accuracy: 71.4185%\n"
          ],
          "name": "stdout"
        },
        {
          "output_type": "display_data",
          "data": {
            "text/html": [
              "\n",
              "        <p>Loss: 0.6106   16000 / 16000</p>\n",
              "        <progress value='16000' max='16000', style='width: 100%'>16000</progress>\n",
              "    "
            ],
            "text/plain": [
              "<IPython.core.display.HTML object>"
            ]
          },
          "metadata": {
            "tags": []
          }
        },
        {
          "output_type": "stream",
          "text": [
            "Validation Loss:  0.6106\n",
            "Validation accuracy: 71.2313%\n",
            "Validation Loss has gone up 1 times.\n",
            "\n"
          ],
          "name": "stdout"
        },
        {
          "output_type": "display_data",
          "data": {
            "text/html": [
              "\n",
              "        <p>Loss: 0.4274   48003 / 48003</p>\n",
              "        <progress value='48003' max='48003', style='width: 100%'>48003</progress>\n",
              "    "
            ],
            "text/plain": [
              "<IPython.core.display.HTML object>"
            ]
          },
          "metadata": {
            "tags": []
          }
        },
        {
          "output_type": "stream",
          "text": [
            "Epoch:  6\n",
            "Training loss: 0.4274\n"
          ],
          "name": "stdout"
        },
        {
          "output_type": "display_data",
          "data": {
            "text/html": [
              "\n",
              "        <p>Loss: 0.6027   48003 / 48003</p>\n",
              "        <progress value='48003' max='48003', style='width: 100%'>48003</progress>\n",
              "    "
            ],
            "text/plain": [
              "<IPython.core.display.HTML object>"
            ]
          },
          "metadata": {
            "tags": []
          }
        },
        {
          "output_type": "stream",
          "text": [
            "Training Loss:  0.6027\n",
            "Training accuracy: 71.5518%\n"
          ],
          "name": "stdout"
        },
        {
          "output_type": "display_data",
          "data": {
            "text/html": [
              "\n",
              "        <p>Loss: 0.6099   16000 / 16000</p>\n",
              "        <progress value='16000' max='16000', style='width: 100%'>16000</progress>\n",
              "    "
            ],
            "text/plain": [
              "<IPython.core.display.HTML object>"
            ]
          },
          "metadata": {
            "tags": []
          }
        },
        {
          "output_type": "stream",
          "text": [
            "Validation Loss:  0.6099\n",
            "Validation accuracy: 71.2812%\n",
            "Validation Loss has gone up 0 times.\n",
            "\n"
          ],
          "name": "stdout"
        },
        {
          "output_type": "display_data",
          "data": {
            "text/html": [
              "\n",
              "        <p>Loss: 0.4236   48003 / 48003</p>\n",
              "        <progress value='48003' max='48003', style='width: 100%'>48003</progress>\n",
              "    "
            ],
            "text/plain": [
              "<IPython.core.display.HTML object>"
            ]
          },
          "metadata": {
            "tags": []
          }
        },
        {
          "output_type": "stream",
          "text": [
            "Epoch:  7\n",
            "Training loss: 0.4236\n"
          ],
          "name": "stdout"
        },
        {
          "output_type": "display_data",
          "data": {
            "text/html": [
              "\n",
              "        <p>Loss: 0.4030   48003 / 48003</p>\n",
              "        <progress value='48003' max='48003', style='width: 100%'>48003</progress>\n",
              "    "
            ],
            "text/plain": [
              "<IPython.core.display.HTML object>"
            ]
          },
          "metadata": {
            "tags": []
          }
        },
        {
          "output_type": "stream",
          "text": [
            "Training Loss:  0.403\n",
            "Training accuracy: 81.9907%\n"
          ],
          "name": "stdout"
        },
        {
          "output_type": "display_data",
          "data": {
            "text/html": [
              "\n",
              "        <p>Loss: 0.4037   16000 / 16000</p>\n",
              "        <progress value='16000' max='16000', style='width: 100%'>16000</progress>\n",
              "    "
            ],
            "text/plain": [
              "<IPython.core.display.HTML object>"
            ]
          },
          "metadata": {
            "tags": []
          }
        },
        {
          "output_type": "stream",
          "text": [
            "Validation Loss:  0.4037\n",
            "Validation accuracy: 82.2250%\n",
            "\"Best Loss\": 0.4036865310668945\n",
            "\n",
            "Validation Loss has gone up 0 times.\n",
            "\n"
          ],
          "name": "stdout"
        },
        {
          "output_type": "display_data",
          "data": {
            "text/html": [
              "\n",
              "        <p>Loss: 0.4186   48003 / 48003</p>\n",
              "        <progress value='48003' max='48003', style='width: 100%'>48003</progress>\n",
              "    "
            ],
            "text/plain": [
              "<IPython.core.display.HTML object>"
            ]
          },
          "metadata": {
            "tags": []
          }
        },
        {
          "output_type": "stream",
          "text": [
            "Epoch:  8\n",
            "Training loss: 0.4186\n"
          ],
          "name": "stdout"
        },
        {
          "output_type": "display_data",
          "data": {
            "text/html": [
              "\n",
              "        <p>Loss: 0.4289   48003 / 48003</p>\n",
              "        <progress value='48003' max='48003', style='width: 100%'>48003</progress>\n",
              "    "
            ],
            "text/plain": [
              "<IPython.core.display.HTML object>"
            ]
          },
          "metadata": {
            "tags": []
          }
        },
        {
          "output_type": "stream",
          "text": [
            "Training Loss:  0.4289\n",
            "Training accuracy: 79.4096%\n"
          ],
          "name": "stdout"
        },
        {
          "output_type": "display_data",
          "data": {
            "text/html": [
              "\n",
              "        <p>Loss: 0.4288   16000 / 16000</p>\n",
              "        <progress value='16000' max='16000', style='width: 100%'>16000</progress>\n",
              "    "
            ],
            "text/plain": [
              "<IPython.core.display.HTML object>"
            ]
          },
          "metadata": {
            "tags": []
          }
        },
        {
          "output_type": "stream",
          "text": [
            "Validation Loss:  0.4288\n",
            "Validation accuracy: 79.8500%\n",
            "Validation Loss has gone up 1 times.\n",
            "\n"
          ],
          "name": "stdout"
        },
        {
          "output_type": "display_data",
          "data": {
            "text/html": [
              "\n",
              "        <p>Loss: 0.4223   48003 / 48003</p>\n",
              "        <progress value='48003' max='48003', style='width: 100%'>48003</progress>\n",
              "    "
            ],
            "text/plain": [
              "<IPython.core.display.HTML object>"
            ]
          },
          "metadata": {
            "tags": []
          }
        },
        {
          "output_type": "stream",
          "text": [
            "Epoch:  9\n",
            "Training loss: 0.4223\n"
          ],
          "name": "stdout"
        },
        {
          "output_type": "display_data",
          "data": {
            "text/html": [
              "\n",
              "        <p>Loss: 0.5996   48003 / 48003</p>\n",
              "        <progress value='48003' max='48003', style='width: 100%'>48003</progress>\n",
              "    "
            ],
            "text/plain": [
              "<IPython.core.display.HTML object>"
            ]
          },
          "metadata": {
            "tags": []
          }
        },
        {
          "output_type": "stream",
          "text": [
            "Training Loss:  0.5996\n",
            "Training accuracy: 71.7122%\n"
          ],
          "name": "stdout"
        },
        {
          "output_type": "display_data",
          "data": {
            "text/html": [
              "\n",
              "        <p>Loss: 0.6076   16000 / 16000</p>\n",
              "        <progress value='16000' max='16000', style='width: 100%'>16000</progress>\n",
              "    "
            ],
            "text/plain": [
              "<IPython.core.display.HTML object>"
            ]
          },
          "metadata": {
            "tags": []
          }
        },
        {
          "output_type": "stream",
          "text": [
            "Validation Loss:  0.6076\n",
            "Validation accuracy: 71.3750%\n",
            "Validation Loss has gone up 2 times.\n",
            "\n"
          ],
          "name": "stdout"
        }
      ]
    },
    {
      "cell_type": "code",
      "metadata": {
        "colab_type": "code",
        "id": "I5fNHznp9m4i",
        "outputId": "a10b4ab2-3b34-43ae-be08-278cfeea9a91",
        "colab": {
          "base_uri": "https://localhost:8080/",
          "height": 235
        }
      },
      "source": [
        "epochs = range(1, len(train_losses) + 1)\n",
        "epoch_ticks = [i if i % 5 == 0 else 0 for i in epochs]\n",
        "    \n",
        "plt.figure(figsize=(10,6))\n",
        "plt.plot(epochs, train_losses, label='Training loss')\n",
        "plt.plot(epochs, valid_losses, label='Validation loss')\n",
        "plt.legend()\n",
        "plt.title('Learning Curves for Logistic Regression\\nlr=1e-2, weight_decay=1e-3, momentum=0.9')\n",
        "plt.xlabel('Epoch')\n",
        "plt.ylabel('Loss')\n",
        "plt.xticks(epoch_ticks)\n",
        "plt.savefig('lr_train.jpg', dpi=300)\n",
        "plt.show()\n"
      ],
      "execution_count": 0,
      "outputs": [
        {
          "output_type": "error",
          "ename": "NameError",
          "evalue": "ignored",
          "traceback": [
            "\u001b[0;31m---------------------------------------------------------------------------\u001b[0m",
            "\u001b[0;31mNameError\u001b[0m                                 Traceback (most recent call last)",
            "\u001b[0;32m<ipython-input-1-ca97b1fba139>\u001b[0m in \u001b[0;36m<module>\u001b[0;34m()\u001b[0m\n\u001b[0;32m----> 1\u001b[0;31m \u001b[0mepochs\u001b[0m \u001b[0;34m=\u001b[0m \u001b[0mrange\u001b[0m\u001b[0;34m(\u001b[0m\u001b[0;36m1\u001b[0m\u001b[0;34m,\u001b[0m \u001b[0mlen\u001b[0m\u001b[0;34m(\u001b[0m\u001b[0mtrain_losses\u001b[0m\u001b[0;34m)\u001b[0m \u001b[0;34m+\u001b[0m \u001b[0;36m1\u001b[0m\u001b[0;34m)\u001b[0m\u001b[0;34m\u001b[0m\u001b[0;34m\u001b[0m\u001b[0m\n\u001b[0m\u001b[1;32m      2\u001b[0m \u001b[0mepoch_ticks\u001b[0m \u001b[0;34m=\u001b[0m \u001b[0;34m[\u001b[0m\u001b[0mi\u001b[0m \u001b[0;32mif\u001b[0m \u001b[0mi\u001b[0m \u001b[0;34m%\u001b[0m \u001b[0;36m5\u001b[0m \u001b[0;34m==\u001b[0m \u001b[0;36m0\u001b[0m \u001b[0;32melse\u001b[0m \u001b[0;36m0\u001b[0m \u001b[0;32mfor\u001b[0m \u001b[0mi\u001b[0m \u001b[0;32min\u001b[0m \u001b[0mepochs\u001b[0m\u001b[0;34m]\u001b[0m\u001b[0;34m\u001b[0m\u001b[0;34m\u001b[0m\u001b[0m\n\u001b[1;32m      3\u001b[0m \u001b[0;34m\u001b[0m\u001b[0m\n\u001b[1;32m      4\u001b[0m \u001b[0mplt\u001b[0m\u001b[0;34m.\u001b[0m\u001b[0mfigure\u001b[0m\u001b[0;34m(\u001b[0m\u001b[0mfigsize\u001b[0m\u001b[0;34m=\u001b[0m\u001b[0;34m(\u001b[0m\u001b[0;36m10\u001b[0m\u001b[0;34m,\u001b[0m\u001b[0;36m6\u001b[0m\u001b[0;34m)\u001b[0m\u001b[0;34m)\u001b[0m\u001b[0;34m\u001b[0m\u001b[0;34m\u001b[0m\u001b[0m\n\u001b[1;32m      5\u001b[0m \u001b[0mplt\u001b[0m\u001b[0;34m.\u001b[0m\u001b[0mplot\u001b[0m\u001b[0;34m(\u001b[0m\u001b[0mepochs\u001b[0m\u001b[0;34m,\u001b[0m \u001b[0mtrain_losses\u001b[0m\u001b[0;34m,\u001b[0m \u001b[0mlabel\u001b[0m\u001b[0;34m=\u001b[0m\u001b[0;34m'Training loss'\u001b[0m\u001b[0;34m)\u001b[0m\u001b[0;34m\u001b[0m\u001b[0;34m\u001b[0m\u001b[0m\n",
            "\u001b[0;31mNameError\u001b[0m: name 'train_losses' is not defined"
          ]
        }
      ]
    },
    {
      "cell_type": "code",
      "metadata": {
        "colab_type": "code",
        "id": "vJeHSC4Y0gc1",
        "outputId": "63ed805f-8de9-40fc-e0bf-e8e0122671e0",
        "colab": {
          "base_uri": "https://localhost:8080/",
          "height": 116
        }
      },
      "source": [
        "test_losses = []\n",
        "evaluate(lr_model,\n",
        "         optimizer,\n",
        "         criterion,\n",
        "         0,\n",
        "         tst_dl,\n",
        "         test_losses,\n",
        "         \"\",\n",
        "         \"\",\n",
        "         acc_thresh=0.5,\n",
        "         predicter=torch.nn.Sigmoid(),\n",
        "         validation=False)"
      ],
      "execution_count": 0,
      "outputs": [
        {
          "output_type": "display_data",
          "data": {
            "text/html": [
              "\n",
              "        <p>Loss: 0.4160   16000 / 16000</p>\n",
              "        <progress value='16000' max='16000', style='width: 100%'>16000</progress>\n",
              "    "
            ],
            "text/plain": [
              "<IPython.core.display.HTML object>"
            ]
          },
          "metadata": {
            "tags": []
          }
        },
        {
          "output_type": "stream",
          "text": [
            "Validation Loss:  0.416\n",
            "Validation accuracy: 81.6188%\n"
          ],
          "name": "stdout"
        },
        {
          "output_type": "execute_result",
          "data": {
            "text/plain": [
              "0.41598751735687256"
            ]
          },
          "metadata": {
            "tags": []
          },
          "execution_count": 7
        }
      ]
    },
    {
      "cell_type": "code",
      "metadata": {
        "colab_type": "code",
        "id": "eJtJVTthqp1u",
        "outputId": "c18d6e13-21a4-48b4-ae40-154c802a9b48",
        "colab": {
          "base_uri": "https://localhost:8080/",
          "height": 311
        }
      },
      "source": [
        "trn_dl, val_dl, tst_dl = get_dataloaders(dataset=DeepFakeHDF5Dataset_SVM(hdf5_path='/content/LSUN_BCCC_256.hdf5'))"
      ],
      "execution_count": 0,
      "outputs": [
        {
          "output_type": "error",
          "ename": "TypeError",
          "evalue": "ignored",
          "traceback": [
            "\u001b[0;31m---------------------------------------------------------------------------\u001b[0m",
            "\u001b[0;31mTypeError\u001b[0m                                 Traceback (most recent call last)",
            "\u001b[0;32m<ipython-input-13-c26d4d4d8f93>\u001b[0m in \u001b[0;36m<module>\u001b[0;34m()\u001b[0m\n\u001b[0;32m----> 1\u001b[0;31m \u001b[0mtrn_dl\u001b[0m\u001b[0;34m,\u001b[0m \u001b[0mval_dl\u001b[0m\u001b[0;34m,\u001b[0m \u001b[0mtst_dl\u001b[0m \u001b[0;34m=\u001b[0m \u001b[0mget_dataloaders\u001b[0m\u001b[0;34m(\u001b[0m\u001b[0mdataset\u001b[0m\u001b[0;34m=\u001b[0m\u001b[0mDeepFakeHDF5Dataset_SVM\u001b[0m\u001b[0;34m(\u001b[0m\u001b[0mhdf5_path\u001b[0m\u001b[0;34m=\u001b[0m\u001b[0;34m'/content/LSUN_BCCC_256.hdf5'\u001b[0m\u001b[0;34m)\u001b[0m\u001b[0;34m)\u001b[0m\u001b[0;34m\u001b[0m\u001b[0;34m\u001b[0m\u001b[0m\n\u001b[0m",
            "\u001b[0;32m/content/DeepFake_Dataloader.py\u001b[0m in \u001b[0;36m__init__\u001b[0;34m(self, hdf5_path)\u001b[0m\n\u001b[1;32m    255\u001b[0m \u001b[0;34m\u001b[0m\u001b[0m\n\u001b[1;32m    256\u001b[0m     \u001b[0;32mdef\u001b[0m \u001b[0m__init__\u001b[0m\u001b[0;34m(\u001b[0m\u001b[0mself\u001b[0m\u001b[0;34m,\u001b[0m \u001b[0mhdf5_path\u001b[0m\u001b[0;34m=\u001b[0m\u001b[0;32mNone\u001b[0m\u001b[0;34m)\u001b[0m\u001b[0;34m:\u001b[0m\u001b[0;34m\u001b[0m\u001b[0;34m\u001b[0m\u001b[0m\n\u001b[0;32m--> 257\u001b[0;31m         \u001b[0msuper\u001b[0m\u001b[0;34m(\u001b[0m\u001b[0mDeepFakeHDF5Dataset_SVM\u001b[0m\u001b[0;34m,\u001b[0m \u001b[0mself\u001b[0m\u001b[0;34m)\u001b[0m\u001b[0;34m.\u001b[0m\u001b[0m__init__\u001b[0m\u001b[0;34m(\u001b[0m\u001b[0;34m)\u001b[0m\u001b[0;34m\u001b[0m\u001b[0;34m\u001b[0m\u001b[0m\n\u001b[0m\u001b[1;32m    258\u001b[0m \u001b[0;34m\u001b[0m\u001b[0m\n\u001b[1;32m    259\u001b[0m     \u001b[0;32mdef\u001b[0m \u001b[0m__getitem__\u001b[0m\u001b[0;34m(\u001b[0m\u001b[0mself\u001b[0m\u001b[0;34m,\u001b[0m \u001b[0mindex\u001b[0m\u001b[0;34m)\u001b[0m\u001b[0;34m:\u001b[0m\u001b[0;34m\u001b[0m\u001b[0;34m\u001b[0m\u001b[0m\n",
            "\u001b[0;32m/content/DeepFake_Dataloader.py\u001b[0m in \u001b[0;36m__init__\u001b[0;34m(self, hdf5_path, queries)\u001b[0m\n\u001b[1;32m    231\u001b[0m         \u001b[0mself\u001b[0m\u001b[0;34m.\u001b[0m\u001b[0mlbls\u001b[0m \u001b[0;34m=\u001b[0m \u001b[0;32mNone\u001b[0m\u001b[0;34m\u001b[0m\u001b[0;34m\u001b[0m\u001b[0m\n\u001b[1;32m    232\u001b[0m         \u001b[0mself\u001b[0m\u001b[0;34m.\u001b[0m\u001b[0mog_d\u001b[0m \u001b[0;34m=\u001b[0m \u001b[0;32mNone\u001b[0m\u001b[0;34m\u001b[0m\u001b[0;34m\u001b[0m\u001b[0m\n\u001b[0;32m--> 233\u001b[0;31m         \u001b[0;32mwith\u001b[0m \u001b[0mh5py\u001b[0m\u001b[0;34m.\u001b[0m\u001b[0mFile\u001b[0m\u001b[0;34m(\u001b[0m\u001b[0mhdf5_path\u001b[0m\u001b[0;34m,\u001b[0m \u001b[0;34m'r'\u001b[0m\u001b[0;34m)\u001b[0m \u001b[0;32mas\u001b[0m \u001b[0mhdf5_file\u001b[0m\u001b[0;34m:\u001b[0m\u001b[0;34m\u001b[0m\u001b[0;34m\u001b[0m\u001b[0m\n\u001b[0m\u001b[1;32m    234\u001b[0m             \u001b[0mself\u001b[0m\u001b[0;34m.\u001b[0m\u001b[0mog_d\u001b[0m \u001b[0;34m=\u001b[0m \u001b[0mhdf5_file\u001b[0m\u001b[0;34m[\u001b[0m\u001b[0;34m'orgn_data'\u001b[0m\u001b[0;34m]\u001b[0m\u001b[0;34m[\u001b[0m\u001b[0;34m:\u001b[0m\u001b[0;34m]\u001b[0m\u001b[0;34m\u001b[0m\u001b[0;34m\u001b[0m\u001b[0m\n\u001b[1;32m    235\u001b[0m             \u001b[0;32mif\u001b[0m \u001b[0mlen\u001b[0m\u001b[0;34m(\u001b[0m\u001b[0mqueries\u001b[0m\u001b[0;34m)\u001b[0m \u001b[0;34m>\u001b[0m \u001b[0;36m0\u001b[0m\u001b[0;34m:\u001b[0m\u001b[0;34m\u001b[0m\u001b[0;34m\u001b[0m\u001b[0m\n",
            "\u001b[0;32m/usr/local/lib/python3.6/dist-packages/h5py/_hl/files.py\u001b[0m in \u001b[0;36m__init__\u001b[0;34m(self, name, mode, driver, libver, userblock_size, swmr, **kwds)\u001b[0m\n\u001b[1;32m    307\u001b[0m                 \u001b[0mfid\u001b[0m \u001b[0;34m=\u001b[0m \u001b[0mh5i\u001b[0m\u001b[0;34m.\u001b[0m\u001b[0mget_file_id\u001b[0m\u001b[0;34m(\u001b[0m\u001b[0mname\u001b[0m\u001b[0;34m)\u001b[0m\u001b[0;34m\u001b[0m\u001b[0;34m\u001b[0m\u001b[0m\n\u001b[1;32m    308\u001b[0m         \u001b[0;32melse\u001b[0m\u001b[0;34m:\u001b[0m\u001b[0;34m\u001b[0m\u001b[0;34m\u001b[0m\u001b[0m\n\u001b[0;32m--> 309\u001b[0;31m             \u001b[0mname\u001b[0m \u001b[0;34m=\u001b[0m \u001b[0mfilename_encode\u001b[0m\u001b[0;34m(\u001b[0m\u001b[0mname\u001b[0m\u001b[0;34m)\u001b[0m\u001b[0;34m\u001b[0m\u001b[0;34m\u001b[0m\u001b[0m\n\u001b[0m\u001b[1;32m    310\u001b[0m             \u001b[0;32mwith\u001b[0m \u001b[0mphil\u001b[0m\u001b[0;34m:\u001b[0m\u001b[0;34m\u001b[0m\u001b[0;34m\u001b[0m\u001b[0m\n\u001b[1;32m    311\u001b[0m                 \u001b[0mfapl\u001b[0m \u001b[0;34m=\u001b[0m \u001b[0mmake_fapl\u001b[0m\u001b[0;34m(\u001b[0m\u001b[0mdriver\u001b[0m\u001b[0;34m,\u001b[0m \u001b[0mlibver\u001b[0m\u001b[0;34m,\u001b[0m \u001b[0;34m**\u001b[0m\u001b[0mkwds\u001b[0m\u001b[0;34m)\u001b[0m\u001b[0;34m\u001b[0m\u001b[0;34m\u001b[0m\u001b[0m\n",
            "\u001b[0;32m/usr/local/lib/python3.6/dist-packages/h5py/_hl/compat.py\u001b[0m in \u001b[0;36mfilename_encode\u001b[0;34m(filename)\u001b[0m\n\u001b[1;32m    109\u001b[0m     \u001b[0mfilenames\u001b[0m \u001b[0;32min\u001b[0m \u001b[0mh5py\u001b[0m \u001b[0;32mfor\u001b[0m \u001b[0mmore\u001b[0m \u001b[0minformation\u001b[0m\u001b[0;34m.\u001b[0m\u001b[0;34m\u001b[0m\u001b[0;34m\u001b[0m\u001b[0m\n\u001b[1;32m    110\u001b[0m     \"\"\"\n\u001b[0;32m--> 111\u001b[0;31m     \u001b[0mfilename\u001b[0m \u001b[0;34m=\u001b[0m \u001b[0mfspath\u001b[0m\u001b[0;34m(\u001b[0m\u001b[0mfilename\u001b[0m\u001b[0;34m)\u001b[0m\u001b[0;34m\u001b[0m\u001b[0;34m\u001b[0m\u001b[0m\n\u001b[0m\u001b[1;32m    112\u001b[0m     \u001b[0;32mif\u001b[0m \u001b[0msys\u001b[0m\u001b[0;34m.\u001b[0m\u001b[0mplatform\u001b[0m \u001b[0;34m==\u001b[0m \u001b[0;34m\"win32\"\u001b[0m\u001b[0;34m:\u001b[0m\u001b[0;34m\u001b[0m\u001b[0;34m\u001b[0m\u001b[0m\n\u001b[1;32m    113\u001b[0m         \u001b[0;32mif\u001b[0m \u001b[0misinstance\u001b[0m\u001b[0;34m(\u001b[0m\u001b[0mfilename\u001b[0m\u001b[0;34m,\u001b[0m \u001b[0msix\u001b[0m\u001b[0;34m.\u001b[0m\u001b[0mtext_type\u001b[0m\u001b[0;34m)\u001b[0m\u001b[0;34m:\u001b[0m\u001b[0;34m\u001b[0m\u001b[0;34m\u001b[0m\u001b[0m\n",
            "\u001b[0;31mTypeError\u001b[0m: expected str, bytes or os.PathLike object, not NoneType"
          ]
        }
      ]
    },
    {
      "cell_type": "code",
      "metadata": {
        "colab_type": "code",
        "id": "LnWcq8jHzLaP",
        "colab": {}
      },
      "source": [
        "s_epoch      = 1\n",
        "num_epochs   = 300\n",
        "lr_rate      = 1e-2\n",
        "load_model   = False\n",
        "model_name   = 'SVMModel'\n",
        "path         = '/content/SVM_Model'\n",
        "\n",
        "svm_model = SVM(in_vector_len).to(device)\n",
        "criterion = torch.nn.SoftMarginLoss()\n",
        "optimizer = torch.optim.SGD(svm_model.parameters(), lr=lr_rate, weight_decay=1e-3, momentum=0.9)\n",
        "\n",
        "if load_model:\n",
        "    svm_model.load_state_dict(torch.load(''))"
      ],
      "execution_count": 0,
      "outputs": []
    },
    {
      "cell_type": "code",
      "metadata": {
        "colab_type": "code",
        "id": "YJRYtTfYz0rr",
        "outputId": "3a08a930-25b8-46fc-ed8e-5be334d74981",
        "colab": {
          "base_uri": "https://localhost:8080/",
          "height": 1000
        }
      },
      "source": [
        "def svm_lbls(T):\n",
        "    T[torch.nonzero((T < 0.0))] = 0\n",
        "    return T\n",
        "\n",
        "train_losses, valid_losses = train(svm_model, \n",
        "                                   optimizer, \n",
        "                                   criterion, \n",
        "                                   trn_dl, \n",
        "                                   val_dl,\n",
        "                                   model_name,\n",
        "                                   path,\n",
        "                                   acc_thresh=0.0,\n",
        "                                   label_transform=svm_lbls,\n",
        "                                   predicter=nn.Tanh())"
      ],
      "execution_count": 0,
      "outputs": [
        {
          "output_type": "display_data",
          "data": {
            "text/html": [
              "\n",
              "        <p>Loss: 0.0978   24000 / 24000</p>\n",
              "        <progress value='24000' max='24000', style='width: 100%'>24000</progress>\n",
              "    "
            ],
            "text/plain": [
              "<IPython.core.display.HTML object>"
            ]
          },
          "metadata": {
            "tags": []
          }
        },
        {
          "output_type": "stream",
          "text": [
            "Epoch:  1\n",
            "Training loss: 0.0978\n"
          ],
          "name": "stdout"
        },
        {
          "output_type": "display_data",
          "data": {
            "text/html": [
              "\n",
              "        <p>Loss: 0.0367   24000 / 24000</p>\n",
              "        <progress value='24000' max='24000', style='width: 100%'>24000</progress>\n",
              "    "
            ],
            "text/plain": [
              "<IPython.core.display.HTML object>"
            ]
          },
          "metadata": {
            "tags": []
          }
        },
        {
          "output_type": "stream",
          "text": [
            "Training Loss:  0.0367\n",
            "Training accuracy: 98.7333%\n"
          ],
          "name": "stdout"
        },
        {
          "output_type": "display_data",
          "data": {
            "text/html": [
              "\n",
              "        <p>Loss: 0.0362   8000 / 8000</p>\n",
              "        <progress value='8000' max='8000', style='width: 100%'>8000</progress>\n",
              "    "
            ],
            "text/plain": [
              "<IPython.core.display.HTML object>"
            ]
          },
          "metadata": {
            "tags": []
          }
        },
        {
          "output_type": "stream",
          "text": [
            "Validation Loss:  0.0362\n",
            "Validation accuracy: 98.7125%\n",
            "\"Best Loss\": 0.036177474029717\n",
            "\n",
            "Validation Loss has gone up 0 times.\n",
            "\n"
          ],
          "name": "stdout"
        },
        {
          "output_type": "display_data",
          "data": {
            "text/html": [
              "\n",
              "        <p>Loss: 0.0289   24000 / 24000</p>\n",
              "        <progress value='24000' max='24000', style='width: 100%'>24000</progress>\n",
              "    "
            ],
            "text/plain": [
              "<IPython.core.display.HTML object>"
            ]
          },
          "metadata": {
            "tags": []
          }
        },
        {
          "output_type": "stream",
          "text": [
            "Epoch:  2\n",
            "Training loss: 0.0289\n"
          ],
          "name": "stdout"
        },
        {
          "output_type": "display_data",
          "data": {
            "text/html": [
              "\n",
              "        <p>Loss: 0.0217   24000 / 24000</p>\n",
              "        <progress value='24000' max='24000', style='width: 100%'>24000</progress>\n",
              "    "
            ],
            "text/plain": [
              "<IPython.core.display.HTML object>"
            ]
          },
          "metadata": {
            "tags": []
          }
        },
        {
          "output_type": "stream",
          "text": [
            "Training Loss:  0.0217\n",
            "Training accuracy: 99.1333%\n"
          ],
          "name": "stdout"
        },
        {
          "output_type": "display_data",
          "data": {
            "text/html": [
              "\n",
              "        <p>Loss: 0.0217   8000 / 8000</p>\n",
              "        <progress value='8000' max='8000', style='width: 100%'>8000</progress>\n",
              "    "
            ],
            "text/plain": [
              "<IPython.core.display.HTML object>"
            ]
          },
          "metadata": {
            "tags": []
          }
        },
        {
          "output_type": "stream",
          "text": [
            "Validation Loss:  0.0217\n",
            "Validation accuracy: 99.0625%\n",
            "\"Best Loss\": 0.021669833994810542\n",
            "\n",
            "Validation Loss has gone up 0 times.\n",
            "\n"
          ],
          "name": "stdout"
        },
        {
          "output_type": "display_data",
          "data": {
            "text/html": [
              "\n",
              "        <p>Loss: 0.0174   24000 / 24000</p>\n",
              "        <progress value='24000' max='24000', style='width: 100%'>24000</progress>\n",
              "    "
            ],
            "text/plain": [
              "<IPython.core.display.HTML object>"
            ]
          },
          "metadata": {
            "tags": []
          }
        },
        {
          "output_type": "stream",
          "text": [
            "Epoch:  3\n",
            "Training loss: 0.0174\n"
          ],
          "name": "stdout"
        },
        {
          "output_type": "display_data",
          "data": {
            "text/html": [
              "\n",
              "        <p>Loss: 0.0115   24000 / 24000</p>\n",
              "        <progress value='24000' max='24000', style='width: 100%'>24000</progress>\n",
              "    "
            ],
            "text/plain": [
              "<IPython.core.display.HTML object>"
            ]
          },
          "metadata": {
            "tags": []
          }
        },
        {
          "output_type": "stream",
          "text": [
            "Training Loss:  0.0115\n",
            "Training accuracy: 99.4042%\n"
          ],
          "name": "stdout"
        },
        {
          "output_type": "display_data",
          "data": {
            "text/html": [
              "\n",
              "        <p>Loss: 0.0112   8000 / 8000</p>\n",
              "        <progress value='8000' max='8000', style='width: 100%'>8000</progress>\n",
              "    "
            ],
            "text/plain": [
              "<IPython.core.display.HTML object>"
            ]
          },
          "metadata": {
            "tags": []
          }
        },
        {
          "output_type": "stream",
          "text": [
            "Validation Loss:  0.0112\n",
            "Validation accuracy: 99.4125%\n",
            "\"Best Loss\": 0.011232316445943616\n",
            "\n",
            "Validation Loss has gone up 0 times.\n",
            "\n"
          ],
          "name": "stdout"
        },
        {
          "output_type": "display_data",
          "data": {
            "text/html": [
              "\n",
              "        <p>Loss: 0.0104   24000 / 24000</p>\n",
              "        <progress value='24000' max='24000', style='width: 100%'>24000</progress>\n",
              "    "
            ],
            "text/plain": [
              "<IPython.core.display.HTML object>"
            ]
          },
          "metadata": {
            "tags": []
          }
        },
        {
          "output_type": "stream",
          "text": [
            "Epoch:  4\n",
            "Training loss: 0.0104\n"
          ],
          "name": "stdout"
        },
        {
          "output_type": "display_data",
          "data": {
            "text/html": [
              "\n",
              "        <p>Loss: 0.0088   24000 / 24000</p>\n",
              "        <progress value='24000' max='24000', style='width: 100%'>24000</progress>\n",
              "    "
            ],
            "text/plain": [
              "<IPython.core.display.HTML object>"
            ]
          },
          "metadata": {
            "tags": []
          }
        },
        {
          "output_type": "stream",
          "text": [
            "Training Loss:  0.0088\n",
            "Training accuracy: 99.4292%\n"
          ],
          "name": "stdout"
        },
        {
          "output_type": "display_data",
          "data": {
            "text/html": [
              "\n",
              "        <p>Loss: 0.0082   8000 / 8000</p>\n",
              "        <progress value='8000' max='8000', style='width: 100%'>8000</progress>\n",
              "    "
            ],
            "text/plain": [
              "<IPython.core.display.HTML object>"
            ]
          },
          "metadata": {
            "tags": []
          }
        },
        {
          "output_type": "stream",
          "text": [
            "Validation Loss:  0.0082\n",
            "Validation accuracy: 99.4875%\n",
            "\"Best Loss\": 0.00817433439771689\n",
            "\n",
            "Validation Loss has gone up 0 times.\n",
            "\n"
          ],
          "name": "stdout"
        },
        {
          "output_type": "display_data",
          "data": {
            "text/html": [
              "\n",
              "        <p>Loss: 0.0083   24000 / 24000</p>\n",
              "        <progress value='24000' max='24000', style='width: 100%'>24000</progress>\n",
              "    "
            ],
            "text/plain": [
              "<IPython.core.display.HTML object>"
            ]
          },
          "metadata": {
            "tags": []
          }
        },
        {
          "output_type": "stream",
          "text": [
            "Epoch:  5\n",
            "Training loss: 0.0083\n"
          ],
          "name": "stdout"
        },
        {
          "output_type": "display_data",
          "data": {
            "text/html": [
              "\n",
              "        <p>Loss: 0.0066   24000 / 24000</p>\n",
              "        <progress value='24000' max='24000', style='width: 100%'>24000</progress>\n",
              "    "
            ],
            "text/plain": [
              "<IPython.core.display.HTML object>"
            ]
          },
          "metadata": {
            "tags": []
          }
        },
        {
          "output_type": "stream",
          "text": [
            "Training Loss:  0.0066\n",
            "Training accuracy: 99.4875%\n"
          ],
          "name": "stdout"
        },
        {
          "output_type": "display_data",
          "data": {
            "text/html": [
              "\n",
              "        <p>Loss: 0.0067   8000 / 8000</p>\n",
              "        <progress value='8000' max='8000', style='width: 100%'>8000</progress>\n",
              "    "
            ],
            "text/plain": [
              "<IPython.core.display.HTML object>"
            ]
          },
          "metadata": {
            "tags": []
          }
        },
        {
          "output_type": "stream",
          "text": [
            "Validation Loss:  0.0067\n",
            "Validation accuracy: 99.4500%\n",
            "\"Best Loss\": 0.006681958743784989\n",
            "\n",
            "Validation Loss has gone up 0 times.\n",
            "\n"
          ],
          "name": "stdout"
        },
        {
          "output_type": "display_data",
          "data": {
            "text/html": [
              "\n",
              "        <p>Loss: 0.0066   24000 / 24000</p>\n",
              "        <progress value='24000' max='24000', style='width: 100%'>24000</progress>\n",
              "    "
            ],
            "text/plain": [
              "<IPython.core.display.HTML object>"
            ]
          },
          "metadata": {
            "tags": []
          }
        },
        {
          "output_type": "stream",
          "text": [
            "Epoch:  6\n",
            "Training loss: 0.0066\n"
          ],
          "name": "stdout"
        },
        {
          "output_type": "display_data",
          "data": {
            "text/html": [
              "\n",
              "        <p>Loss: 0.0056   24000 / 24000</p>\n",
              "        <progress value='24000' max='24000', style='width: 100%'>24000</progress>\n",
              "    "
            ],
            "text/plain": [
              "<IPython.core.display.HTML object>"
            ]
          },
          "metadata": {
            "tags": []
          }
        },
        {
          "output_type": "stream",
          "text": [
            "Training Loss:  0.0056\n",
            "Training accuracy: 99.5375%\n"
          ],
          "name": "stdout"
        },
        {
          "output_type": "display_data",
          "data": {
            "text/html": [
              "\n",
              "        <p>Loss: 0.0055   8000 / 8000</p>\n",
              "        <progress value='8000' max='8000', style='width: 100%'>8000</progress>\n",
              "    "
            ],
            "text/plain": [
              "<IPython.core.display.HTML object>"
            ]
          },
          "metadata": {
            "tags": []
          }
        },
        {
          "output_type": "stream",
          "text": [
            "Validation Loss:  0.0055\n",
            "Validation accuracy: 99.5625%\n",
            "\"Best Loss\": 0.00554581182373185\n",
            "\n",
            "Validation Loss has gone up 0 times.\n",
            "\n"
          ],
          "name": "stdout"
        },
        {
          "output_type": "display_data",
          "data": {
            "text/html": [
              "\n",
              "        <p>Loss: 0.0057   24000 / 24000</p>\n",
              "        <progress value='24000' max='24000', style='width: 100%'>24000</progress>\n",
              "    "
            ],
            "text/plain": [
              "<IPython.core.display.HTML object>"
            ]
          },
          "metadata": {
            "tags": []
          }
        },
        {
          "output_type": "stream",
          "text": [
            "Epoch:  7\n",
            "Training loss: 0.0057\n"
          ],
          "name": "stdout"
        },
        {
          "output_type": "display_data",
          "data": {
            "text/html": [
              "\n",
              "        <p>Loss: 0.0049   24000 / 24000</p>\n",
              "        <progress value='24000' max='24000', style='width: 100%'>24000</progress>\n",
              "    "
            ],
            "text/plain": [
              "<IPython.core.display.HTML object>"
            ]
          },
          "metadata": {
            "tags": []
          }
        },
        {
          "output_type": "stream",
          "text": [
            "Training Loss:  0.0049\n",
            "Training accuracy: 99.5125%\n"
          ],
          "name": "stdout"
        },
        {
          "output_type": "display_data",
          "data": {
            "text/html": [
              "\n",
              "        <p>Loss: 0.0050   8000 / 8000</p>\n",
              "        <progress value='8000' max='8000', style='width: 100%'>8000</progress>\n",
              "    "
            ],
            "text/plain": [
              "<IPython.core.display.HTML object>"
            ]
          },
          "metadata": {
            "tags": []
          }
        },
        {
          "output_type": "stream",
          "text": [
            "Validation Loss:  0.005\n",
            "Validation accuracy: 99.5875%\n",
            "\"Best Loss\": 0.004957580689473877\n",
            "\n",
            "Validation Loss has gone up 0 times.\n",
            "\n"
          ],
          "name": "stdout"
        },
        {
          "output_type": "display_data",
          "data": {
            "text/html": [
              "\n",
              "        <p>Loss: 0.0052   24000 / 24000</p>\n",
              "        <progress value='24000' max='24000', style='width: 100%'>24000</progress>\n",
              "    "
            ],
            "text/plain": [
              "<IPython.core.display.HTML object>"
            ]
          },
          "metadata": {
            "tags": []
          }
        },
        {
          "output_type": "stream",
          "text": [
            "Epoch:  8\n",
            "Training loss: 0.0052\n"
          ],
          "name": "stdout"
        },
        {
          "output_type": "display_data",
          "data": {
            "text/html": [
              "\n",
              "        <p>Loss: 0.0045   24000 / 24000</p>\n",
              "        <progress value='24000' max='24000', style='width: 100%'>24000</progress>\n",
              "    "
            ],
            "text/plain": [
              "<IPython.core.display.HTML object>"
            ]
          },
          "metadata": {
            "tags": []
          }
        },
        {
          "output_type": "stream",
          "text": [
            "Training Loss:  0.0045\n",
            "Training accuracy: 99.5083%\n"
          ],
          "name": "stdout"
        },
        {
          "output_type": "display_data",
          "data": {
            "text/html": [
              "\n",
              "        <p>Loss: 0.0044   8000 / 8000</p>\n",
              "        <progress value='8000' max='8000', style='width: 100%'>8000</progress>\n",
              "    "
            ],
            "text/plain": [
              "<IPython.core.display.HTML object>"
            ]
          },
          "metadata": {
            "tags": []
          }
        },
        {
          "output_type": "stream",
          "text": [
            "Validation Loss:  0.0044\n",
            "Validation accuracy: 99.5875%\n",
            "\"Best Loss\": 0.004428680411480841\n",
            "\n",
            "Validation Loss has gone up 0 times.\n",
            "\n"
          ],
          "name": "stdout"
        },
        {
          "output_type": "display_data",
          "data": {
            "text/html": [
              "\n",
              "        <p>Loss: 0.0048   24000 / 24000</p>\n",
              "        <progress value='24000' max='24000', style='width: 100%'>24000</progress>\n",
              "    "
            ],
            "text/plain": [
              "<IPython.core.display.HTML object>"
            ]
          },
          "metadata": {
            "tags": []
          }
        },
        {
          "output_type": "stream",
          "text": [
            "Epoch:  9\n",
            "Training loss: 0.0048\n"
          ],
          "name": "stdout"
        },
        {
          "output_type": "display_data",
          "data": {
            "text/html": [
              "\n",
              "        <p>Loss: 0.0042   24000 / 24000</p>\n",
              "        <progress value='24000' max='24000', style='width: 100%'>24000</progress>\n",
              "    "
            ],
            "text/plain": [
              "<IPython.core.display.HTML object>"
            ]
          },
          "metadata": {
            "tags": []
          }
        },
        {
          "output_type": "stream",
          "text": [
            "Training Loss:  0.0042\n",
            "Training accuracy: 99.5167%\n"
          ],
          "name": "stdout"
        },
        {
          "output_type": "display_data",
          "data": {
            "text/html": [
              "\n",
              "        <p>Loss: 0.0044   8000 / 8000</p>\n",
              "        <progress value='8000' max='8000', style='width: 100%'>8000</progress>\n",
              "    "
            ],
            "text/plain": [
              "<IPython.core.display.HTML object>"
            ]
          },
          "metadata": {
            "tags": []
          }
        },
        {
          "output_type": "stream",
          "text": [
            "Validation Loss:  0.0044\n",
            "Validation accuracy: 99.5375%\n",
            "Validation Loss has gone up 1 times.\n",
            "\n"
          ],
          "name": "stdout"
        },
        {
          "output_type": "display_data",
          "data": {
            "text/html": [
              "\n",
              "        <p>Loss: 0.0043   24000 / 24000</p>\n",
              "        <progress value='24000' max='24000', style='width: 100%'>24000</progress>\n",
              "    "
            ],
            "text/plain": [
              "<IPython.core.display.HTML object>"
            ]
          },
          "metadata": {
            "tags": []
          }
        },
        {
          "output_type": "stream",
          "text": [
            "Epoch:  10\n",
            "Training loss: 0.0043\n"
          ],
          "name": "stdout"
        },
        {
          "output_type": "display_data",
          "data": {
            "text/html": [
              "\n",
              "        <p>Loss: 0.0038   24000 / 24000</p>\n",
              "        <progress value='24000' max='24000', style='width: 100%'>24000</progress>\n",
              "    "
            ],
            "text/plain": [
              "<IPython.core.display.HTML object>"
            ]
          },
          "metadata": {
            "tags": []
          }
        },
        {
          "output_type": "stream",
          "text": [
            "Training Loss:  0.0038\n",
            "Training accuracy: 99.4792%\n"
          ],
          "name": "stdout"
        },
        {
          "output_type": "display_data",
          "data": {
            "text/html": [
              "\n",
              "        <p>Loss: 0.0038   8000 / 8000</p>\n",
              "        <progress value='8000' max='8000', style='width: 100%'>8000</progress>\n",
              "    "
            ],
            "text/plain": [
              "<IPython.core.display.HTML object>"
            ]
          },
          "metadata": {
            "tags": []
          }
        },
        {
          "output_type": "stream",
          "text": [
            "Validation Loss:  0.0038\n",
            "Validation accuracy: 99.5375%\n",
            "\"Best Loss\": 0.0037898623064855142\n",
            "\n",
            "Validation Loss has gone up 0 times.\n",
            "\n"
          ],
          "name": "stdout"
        },
        {
          "output_type": "display_data",
          "data": {
            "text/html": [
              "\n",
              "        <p>Loss: 0.0045   24000 / 24000</p>\n",
              "        <progress value='24000' max='24000', style='width: 100%'>24000</progress>\n",
              "    "
            ],
            "text/plain": [
              "<IPython.core.display.HTML object>"
            ]
          },
          "metadata": {
            "tags": []
          }
        },
        {
          "output_type": "stream",
          "text": [
            "Epoch:  11\n",
            "Training loss: 0.0045\n"
          ],
          "name": "stdout"
        },
        {
          "output_type": "display_data",
          "data": {
            "text/html": [
              "\n",
              "        <p>Loss: 0.0036   24000 / 24000</p>\n",
              "        <progress value='24000' max='24000', style='width: 100%'>24000</progress>\n",
              "    "
            ],
            "text/plain": [
              "<IPython.core.display.HTML object>"
            ]
          },
          "metadata": {
            "tags": []
          }
        },
        {
          "output_type": "stream",
          "text": [
            "Training Loss:  0.0036\n",
            "Training accuracy: 99.5375%\n"
          ],
          "name": "stdout"
        },
        {
          "output_type": "display_data",
          "data": {
            "text/html": [
              "\n",
              "        <p>Loss: 0.0036   8000 / 8000</p>\n",
              "        <progress value='8000' max='8000', style='width: 100%'>8000</progress>\n",
              "    "
            ],
            "text/plain": [
              "<IPython.core.display.HTML object>"
            ]
          },
          "metadata": {
            "tags": []
          }
        },
        {
          "output_type": "stream",
          "text": [
            "Validation Loss:  0.0036\n",
            "Validation accuracy: 99.5875%\n",
            "\"Best Loss\": 0.003585968307951199\n",
            "\n",
            "Validation Loss has gone up 0 times.\n",
            "\n"
          ],
          "name": "stdout"
        },
        {
          "output_type": "display_data",
          "data": {
            "text/html": [
              "\n",
              "        <p>Loss: 0.0039   24000 / 24000</p>\n",
              "        <progress value='24000' max='24000', style='width: 100%'>24000</progress>\n",
              "    "
            ],
            "text/plain": [
              "<IPython.core.display.HTML object>"
            ]
          },
          "metadata": {
            "tags": []
          }
        },
        {
          "output_type": "stream",
          "text": [
            "Epoch:  12\n",
            "Training loss: 0.0039\n"
          ],
          "name": "stdout"
        },
        {
          "output_type": "display_data",
          "data": {
            "text/html": [
              "\n",
              "        <p>Loss: 0.0035   24000 / 24000</p>\n",
              "        <progress value='24000' max='24000', style='width: 100%'>24000</progress>\n",
              "    "
            ],
            "text/plain": [
              "<IPython.core.display.HTML object>"
            ]
          },
          "metadata": {
            "tags": []
          }
        },
        {
          "output_type": "stream",
          "text": [
            "Training Loss:  0.0035\n",
            "Training accuracy: 99.5833%\n"
          ],
          "name": "stdout"
        },
        {
          "output_type": "display_data",
          "data": {
            "text/html": [
              "\n",
              "        <p>Loss: 0.0035   8000 / 8000</p>\n",
              "        <progress value='8000' max='8000', style='width: 100%'>8000</progress>\n",
              "    "
            ],
            "text/plain": [
              "<IPython.core.display.HTML object>"
            ]
          },
          "metadata": {
            "tags": []
          }
        },
        {
          "output_type": "stream",
          "text": [
            "Validation Loss:  0.0035\n",
            "Validation accuracy: 99.5750%\n",
            "\"Best Loss\": 0.003520814105979212\n",
            "\n",
            "Validation Loss has gone up 0 times.\n",
            "\n"
          ],
          "name": "stdout"
        },
        {
          "output_type": "display_data",
          "data": {
            "text/html": [
              "\n",
              "        <p>Loss: 0.0037   24000 / 24000</p>\n",
              "        <progress value='24000' max='24000', style='width: 100%'>24000</progress>\n",
              "    "
            ],
            "text/plain": [
              "<IPython.core.display.HTML object>"
            ]
          },
          "metadata": {
            "tags": []
          }
        },
        {
          "output_type": "stream",
          "text": [
            "Epoch:  13\n",
            "Training loss: 0.0037\n"
          ],
          "name": "stdout"
        },
        {
          "output_type": "display_data",
          "data": {
            "text/html": [
              "\n",
              "        <p>Loss: 0.0048   24000 / 24000</p>\n",
              "        <progress value='24000' max='24000', style='width: 100%'>24000</progress>\n",
              "    "
            ],
            "text/plain": [
              "<IPython.core.display.HTML object>"
            ]
          },
          "metadata": {
            "tags": []
          }
        },
        {
          "output_type": "stream",
          "text": [
            "Training Loss:  0.0048\n",
            "Training accuracy: 99.5167%\n"
          ],
          "name": "stdout"
        },
        {
          "output_type": "display_data",
          "data": {
            "text/html": [
              "\n",
              "        <p>Loss: 0.0053   8000 / 8000</p>\n",
              "        <progress value='8000' max='8000', style='width: 100%'>8000</progress>\n",
              "    "
            ],
            "text/plain": [
              "<IPython.core.display.HTML object>"
            ]
          },
          "metadata": {
            "tags": []
          }
        },
        {
          "output_type": "stream",
          "text": [
            "Validation Loss:  0.0053\n",
            "Validation accuracy: 99.5750%\n",
            "Validation Loss has gone up 1 times.\n",
            "\n"
          ],
          "name": "stdout"
        },
        {
          "output_type": "display_data",
          "data": {
            "text/html": [
              "\n",
              "        <p>Loss: 0.0038   24000 / 24000</p>\n",
              "        <progress value='24000' max='24000', style='width: 100%'>24000</progress>\n",
              "    "
            ],
            "text/plain": [
              "<IPython.core.display.HTML object>"
            ]
          },
          "metadata": {
            "tags": []
          }
        },
        {
          "output_type": "stream",
          "text": [
            "Epoch:  14\n",
            "Training loss: 0.0038\n"
          ],
          "name": "stdout"
        },
        {
          "output_type": "display_data",
          "data": {
            "text/html": [
              "\n",
              "        <p>Loss: 0.0036   24000 / 24000</p>\n",
              "        <progress value='24000' max='24000', style='width: 100%'>24000</progress>\n",
              "    "
            ],
            "text/plain": [
              "<IPython.core.display.HTML object>"
            ]
          },
          "metadata": {
            "tags": []
          }
        },
        {
          "output_type": "stream",
          "text": [
            "Training Loss:  0.0036\n",
            "Training accuracy: 99.5792%\n"
          ],
          "name": "stdout"
        },
        {
          "output_type": "display_data",
          "data": {
            "text/html": [
              "\n",
              "        <p>Loss: 0.0036   8000 / 8000</p>\n",
              "        <progress value='8000' max='8000', style='width: 100%'>8000</progress>\n",
              "    "
            ],
            "text/plain": [
              "<IPython.core.display.HTML object>"
            ]
          },
          "metadata": {
            "tags": []
          }
        },
        {
          "output_type": "stream",
          "text": [
            "Validation Loss:  0.0036\n",
            "Validation accuracy: 99.5750%\n",
            "Validation Loss has gone up 0 times.\n",
            "\n"
          ],
          "name": "stdout"
        },
        {
          "output_type": "display_data",
          "data": {
            "text/html": [
              "\n",
              "        <p>Loss: 0.0035   24000 / 24000</p>\n",
              "        <progress value='24000' max='24000', style='width: 100%'>24000</progress>\n",
              "    "
            ],
            "text/plain": [
              "<IPython.core.display.HTML object>"
            ]
          },
          "metadata": {
            "tags": []
          }
        },
        {
          "output_type": "stream",
          "text": [
            "Epoch:  15\n",
            "Training loss: 0.0035\n"
          ],
          "name": "stdout"
        },
        {
          "output_type": "display_data",
          "data": {
            "text/html": [
              "\n",
              "        <p>Loss: 0.0033   24000 / 24000</p>\n",
              "        <progress value='24000' max='24000', style='width: 100%'>24000</progress>\n",
              "    "
            ],
            "text/plain": [
              "<IPython.core.display.HTML object>"
            ]
          },
          "metadata": {
            "tags": []
          }
        },
        {
          "output_type": "stream",
          "text": [
            "Training Loss:  0.0033\n",
            "Training accuracy: 99.5125%\n"
          ],
          "name": "stdout"
        },
        {
          "output_type": "display_data",
          "data": {
            "text/html": [
              "\n",
              "        <p>Loss: 0.0032   8000 / 8000</p>\n",
              "        <progress value='8000' max='8000', style='width: 100%'>8000</progress>\n",
              "    "
            ],
            "text/plain": [
              "<IPython.core.display.HTML object>"
            ]
          },
          "metadata": {
            "tags": []
          }
        },
        {
          "output_type": "stream",
          "text": [
            "Validation Loss:  0.0032\n",
            "Validation accuracy: 99.5750%\n",
            "\"Best Loss\": 0.0032471835156828764\n",
            "\n",
            "Validation Loss has gone up 0 times.\n",
            "\n"
          ],
          "name": "stdout"
        },
        {
          "output_type": "display_data",
          "data": {
            "text/html": [
              "\n",
              "        <p>Loss: 0.0037   24000 / 24000</p>\n",
              "        <progress value='24000' max='24000', style='width: 100%'>24000</progress>\n",
              "    "
            ],
            "text/plain": [
              "<IPython.core.display.HTML object>"
            ]
          },
          "metadata": {
            "tags": []
          }
        },
        {
          "output_type": "stream",
          "text": [
            "Epoch:  16\n",
            "Training loss: 0.0037\n"
          ],
          "name": "stdout"
        },
        {
          "output_type": "display_data",
          "data": {
            "text/html": [
              "\n",
              "        <p>Loss: 0.0032   24000 / 24000</p>\n",
              "        <progress value='24000' max='24000', style='width: 100%'>24000</progress>\n",
              "    "
            ],
            "text/plain": [
              "<IPython.core.display.HTML object>"
            ]
          },
          "metadata": {
            "tags": []
          }
        },
        {
          "output_type": "stream",
          "text": [
            "Training Loss:  0.0032\n",
            "Training accuracy: 99.5167%\n"
          ],
          "name": "stdout"
        },
        {
          "output_type": "display_data",
          "data": {
            "text/html": [
              "\n",
              "        <p>Loss: 0.0030   8000 / 8000</p>\n",
              "        <progress value='8000' max='8000', style='width: 100%'>8000</progress>\n",
              "    "
            ],
            "text/plain": [
              "<IPython.core.display.HTML object>"
            ]
          },
          "metadata": {
            "tags": []
          }
        },
        {
          "output_type": "stream",
          "text": [
            "Validation Loss:  0.003\n",
            "Validation accuracy: 99.6125%\n",
            "\"Best Loss\": 0.003045659438366928\n",
            "\n",
            "Validation Loss has gone up 0 times.\n",
            "\n"
          ],
          "name": "stdout"
        },
        {
          "output_type": "display_data",
          "data": {
            "text/html": [
              "\n",
              "        <p>Loss: 0.0036   24000 / 24000</p>\n",
              "        <progress value='24000' max='24000', style='width: 100%'>24000</progress>\n",
              "    "
            ],
            "text/plain": [
              "<IPython.core.display.HTML object>"
            ]
          },
          "metadata": {
            "tags": []
          }
        },
        {
          "output_type": "stream",
          "text": [
            "Epoch:  17\n",
            "Training loss: 0.0036\n"
          ],
          "name": "stdout"
        },
        {
          "output_type": "display_data",
          "data": {
            "text/html": [
              "\n",
              "        <p>Loss: 0.0032   24000 / 24000</p>\n",
              "        <progress value='24000' max='24000', style='width: 100%'>24000</progress>\n",
              "    "
            ],
            "text/plain": [
              "<IPython.core.display.HTML object>"
            ]
          },
          "metadata": {
            "tags": []
          }
        },
        {
          "output_type": "stream",
          "text": [
            "Training Loss:  0.0032\n",
            "Training accuracy: 99.5167%\n"
          ],
          "name": "stdout"
        },
        {
          "output_type": "display_data",
          "data": {
            "text/html": [
              "\n",
              "        <p>Loss: 0.0028   8000 / 8000</p>\n",
              "        <progress value='8000' max='8000', style='width: 100%'>8000</progress>\n",
              "    "
            ],
            "text/plain": [
              "<IPython.core.display.HTML object>"
            ]
          },
          "metadata": {
            "tags": []
          }
        },
        {
          "output_type": "stream",
          "text": [
            "Validation Loss:  0.0028\n",
            "Validation accuracy: 99.5875%\n",
            "\"Best Loss\": 0.0028282582588005987\n",
            "\n",
            "Validation Loss has gone up 0 times.\n",
            "\n"
          ],
          "name": "stdout"
        },
        {
          "output_type": "display_data",
          "data": {
            "text/html": [
              "\n",
              "        <p>Loss: 0.0034   24000 / 24000</p>\n",
              "        <progress value='24000' max='24000', style='width: 100%'>24000</progress>\n",
              "    "
            ],
            "text/plain": [
              "<IPython.core.display.HTML object>"
            ]
          },
          "metadata": {
            "tags": []
          }
        },
        {
          "output_type": "stream",
          "text": [
            "Epoch:  18\n",
            "Training loss: 0.0034\n"
          ],
          "name": "stdout"
        },
        {
          "output_type": "display_data",
          "data": {
            "text/html": [
              "\n",
              "        <p>Loss: 0.0038   24000 / 24000</p>\n",
              "        <progress value='24000' max='24000', style='width: 100%'>24000</progress>\n",
              "    "
            ],
            "text/plain": [
              "<IPython.core.display.HTML object>"
            ]
          },
          "metadata": {
            "tags": []
          }
        },
        {
          "output_type": "stream",
          "text": [
            "Training Loss:  0.0038\n",
            "Training accuracy: 99.6042%\n"
          ],
          "name": "stdout"
        },
        {
          "output_type": "display_data",
          "data": {
            "text/html": [
              "\n",
              "        <p>Loss: 0.0038   8000 / 8000</p>\n",
              "        <progress value='8000' max='8000', style='width: 100%'>8000</progress>\n",
              "    "
            ],
            "text/plain": [
              "<IPython.core.display.HTML object>"
            ]
          },
          "metadata": {
            "tags": []
          }
        },
        {
          "output_type": "stream",
          "text": [
            "Validation Loss:  0.0038\n",
            "Validation accuracy: 99.6375%\n",
            "Validation Loss has gone up 1 times.\n",
            "\n"
          ],
          "name": "stdout"
        },
        {
          "output_type": "display_data",
          "data": {
            "text/html": [
              "\n",
              "        <p>Loss: 0.0034   24000 / 24000</p>\n",
              "        <progress value='24000' max='24000', style='width: 100%'>24000</progress>\n",
              "    "
            ],
            "text/plain": [
              "<IPython.core.display.HTML object>"
            ]
          },
          "metadata": {
            "tags": []
          }
        },
        {
          "output_type": "stream",
          "text": [
            "Epoch:  19\n",
            "Training loss: 0.0034\n"
          ],
          "name": "stdout"
        },
        {
          "output_type": "display_data",
          "data": {
            "text/html": [
              "\n",
              "        <p>Loss: 0.0034   24000 / 24000</p>\n",
              "        <progress value='24000' max='24000', style='width: 100%'>24000</progress>\n",
              "    "
            ],
            "text/plain": [
              "<IPython.core.display.HTML object>"
            ]
          },
          "metadata": {
            "tags": []
          }
        },
        {
          "output_type": "stream",
          "text": [
            "Training Loss:  0.0034\n",
            "Training accuracy: 99.5542%\n"
          ],
          "name": "stdout"
        },
        {
          "output_type": "display_data",
          "data": {
            "text/html": [
              "\n",
              "        <p>Loss: 0.0032   8000 / 8000</p>\n",
              "        <progress value='8000' max='8000', style='width: 100%'>8000</progress>\n",
              "    "
            ],
            "text/plain": [
              "<IPython.core.display.HTML object>"
            ]
          },
          "metadata": {
            "tags": []
          }
        },
        {
          "output_type": "stream",
          "text": [
            "Validation Loss:  0.0032\n",
            "Validation accuracy: 99.5250%\n",
            "Validation Loss has gone up 0 times.\n",
            "\n"
          ],
          "name": "stdout"
        },
        {
          "output_type": "display_data",
          "data": {
            "text/html": [
              "\n",
              "        <p>Loss: 0.0034   24000 / 24000</p>\n",
              "        <progress value='24000' max='24000', style='width: 100%'>24000</progress>\n",
              "    "
            ],
            "text/plain": [
              "<IPython.core.display.HTML object>"
            ]
          },
          "metadata": {
            "tags": []
          }
        },
        {
          "output_type": "stream",
          "text": [
            "Epoch:  20\n",
            "Training loss: 0.0034\n"
          ],
          "name": "stdout"
        },
        {
          "output_type": "display_data",
          "data": {
            "text/html": [
              "\n",
              "        <p>Loss: 0.0029   24000 / 24000</p>\n",
              "        <progress value='24000' max='24000', style='width: 100%'>24000</progress>\n",
              "    "
            ],
            "text/plain": [
              "<IPython.core.display.HTML object>"
            ]
          },
          "metadata": {
            "tags": []
          }
        },
        {
          "output_type": "stream",
          "text": [
            "Training Loss:  0.0029\n",
            "Training accuracy: 99.5542%\n"
          ],
          "name": "stdout"
        },
        {
          "output_type": "display_data",
          "data": {
            "text/html": [
              "\n",
              "        <p>Loss: 0.0027   8000 / 8000</p>\n",
              "        <progress value='8000' max='8000', style='width: 100%'>8000</progress>\n",
              "    "
            ],
            "text/plain": [
              "<IPython.core.display.HTML object>"
            ]
          },
          "metadata": {
            "tags": []
          }
        },
        {
          "output_type": "stream",
          "text": [
            "Validation Loss:  0.0027\n",
            "Validation accuracy: 99.6125%\n",
            "\"Best Loss\": 0.002673173997743381\n",
            "\n",
            "Validation Loss has gone up 0 times.\n",
            "\n"
          ],
          "name": "stdout"
        },
        {
          "output_type": "display_data",
          "data": {
            "text/html": [
              "\n",
              "        <p>Loss: 0.0030   24000 / 24000</p>\n",
              "        <progress value='24000' max='24000', style='width: 100%'>24000</progress>\n",
              "    "
            ],
            "text/plain": [
              "<IPython.core.display.HTML object>"
            ]
          },
          "metadata": {
            "tags": []
          }
        },
        {
          "output_type": "stream",
          "text": [
            "Epoch:  21\n",
            "Training loss: 0.003\n"
          ],
          "name": "stdout"
        },
        {
          "output_type": "display_data",
          "data": {
            "text/html": [
              "\n",
              "        <p>Loss: 0.0032   24000 / 24000</p>\n",
              "        <progress value='24000' max='24000', style='width: 100%'>24000</progress>\n",
              "    "
            ],
            "text/plain": [
              "<IPython.core.display.HTML object>"
            ]
          },
          "metadata": {
            "tags": []
          }
        },
        {
          "output_type": "stream",
          "text": [
            "Training Loss:  0.0032\n",
            "Training accuracy: 99.5625%\n"
          ],
          "name": "stdout"
        },
        {
          "output_type": "display_data",
          "data": {
            "text/html": [
              "\n",
              "        <p>Loss: 0.0030   8000 / 8000</p>\n",
              "        <progress value='8000' max='8000', style='width: 100%'>8000</progress>\n",
              "    "
            ],
            "text/plain": [
              "<IPython.core.display.HTML object>"
            ]
          },
          "metadata": {
            "tags": []
          }
        },
        {
          "output_type": "stream",
          "text": [
            "Validation Loss:  0.003\n",
            "Validation accuracy: 99.5875%\n",
            "Validation Loss has gone up 1 times.\n",
            "\n"
          ],
          "name": "stdout"
        },
        {
          "output_type": "display_data",
          "data": {
            "text/html": [
              "\n",
              "        <p>Loss: 0.0032   24000 / 24000</p>\n",
              "        <progress value='24000' max='24000', style='width: 100%'>24000</progress>\n",
              "    "
            ],
            "text/plain": [
              "<IPython.core.display.HTML object>"
            ]
          },
          "metadata": {
            "tags": []
          }
        },
        {
          "output_type": "stream",
          "text": [
            "Epoch:  22\n",
            "Training loss: 0.0032\n"
          ],
          "name": "stdout"
        },
        {
          "output_type": "display_data",
          "data": {
            "text/html": [
              "\n",
              "        <p>Loss: 0.0038   24000 / 24000</p>\n",
              "        <progress value='24000' max='24000', style='width: 100%'>24000</progress>\n",
              "    "
            ],
            "text/plain": [
              "<IPython.core.display.HTML object>"
            ]
          },
          "metadata": {
            "tags": []
          }
        },
        {
          "output_type": "stream",
          "text": [
            "Training Loss:  0.0038\n",
            "Training accuracy: 99.6000%\n"
          ],
          "name": "stdout"
        },
        {
          "output_type": "display_data",
          "data": {
            "text/html": [
              "\n",
              "        <p>Loss: 0.0037   8000 / 8000</p>\n",
              "        <progress value='8000' max='8000', style='width: 100%'>8000</progress>\n",
              "    "
            ],
            "text/plain": [
              "<IPython.core.display.HTML object>"
            ]
          },
          "metadata": {
            "tags": []
          }
        },
        {
          "output_type": "stream",
          "text": [
            "Validation Loss:  0.0037\n",
            "Validation accuracy: 99.4875%\n",
            "Validation Loss has gone up 2 times.\n",
            "\n"
          ],
          "name": "stdout"
        }
      ]
    },
    {
      "cell_type": "code",
      "metadata": {
        "colab_type": "code",
        "id": "3AEusYoYvD3m",
        "outputId": "ac4e3d1e-5704-4a6f-b94f-c2c02a37639d",
        "colab": {
          "base_uri": "https://localhost:8080/",
          "height": 116
        }
      },
      "source": [
        "test_losses = []\n",
        "evaluate(svm_model,\n",
        "         optimizer,\n",
        "         criterion,\n",
        "         0,\n",
        "         tst_dl,\n",
        "         test_losses,\n",
        "         \"\",\n",
        "         \"\",\n",
        "         acc_thresh=0.0,\n",
        "         label_transform=svm_lbls,\n",
        "         predicter=nn.Tanh(),\n",
        "         validation=False)"
      ],
      "execution_count": 0,
      "outputs": [
        {
          "output_type": "display_data",
          "data": {
            "text/html": [
              "\n",
              "        <p>Loss: 0.0037   8000 / 8000</p>\n",
              "        <progress value='8000' max='8000', style='width: 100%'>8000</progress>\n",
              "    "
            ],
            "text/plain": [
              "<IPython.core.display.HTML object>"
            ]
          },
          "metadata": {
            "tags": []
          }
        },
        {
          "output_type": "stream",
          "text": [
            "Validation Loss:  0.0037\n",
            "Validation accuracy: 99.5375%\n"
          ],
          "name": "stdout"
        },
        {
          "output_type": "execute_result",
          "data": {
            "text/plain": [
              "0.0037232280472323056"
            ]
          },
          "metadata": {
            "tags": []
          },
          "execution_count": 16
        }
      ]
    },
    {
      "cell_type": "code",
      "metadata": {
        "colab_type": "code",
        "id": "UJsUtBUwrmeW",
        "outputId": "0dc2426f-c58e-46e4-d211-a65bb6271418",
        "colab": {
          "base_uri": "https://localhost:8080/",
          "height": 310
        }
      },
      "source": [
        "epochs = range(1, len(train_losses) + 1)\n",
        "epoch_ticks = [i if i % 5 == 0 else 0 for i in epochs]\n",
        "    \n",
        "# plt.figure(figsize=(10,6))\n",
        "plt.plot(epochs, train_losses, label='Training loss')\n",
        "plt.plot(epochs, valid_losses, label='Validation loss')\n",
        "plt.legend()\n",
        "plt.title('Learning Curves for SVM\\nlr=1e-2, weight_decay=1e-3, momentum=0.9')\n",
        "plt.xlabel('Epoch')\n",
        "plt.ylabel('Loss')\n",
        "plt.xticks(epoch_ticks)\n",
        "plt.savefig(\"svm_train.jpg\", dpi=300)\n",
        "plt.show()"
      ],
      "execution_count": 0,
      "outputs": [
        {
          "output_type": "display_data",
          "data": {
            "image/png": "[encoded data removed]",
            "text/plain": [
              "<Figure size 432x288 with 1 Axes>"
            ]
          },
          "metadata": {
            "tags": []
          }
        }
      ]
    },
    {
      "cell_type": "code",
      "metadata": {
        "colab_type": "code",
        "id": "uzgC9YvV9foq",
        "colab": {}
      },
      "source": [
        "full_dataloader = get_dataloaders(dataset=DeepFakeHDF5Dataset(), full_dataset=True)"
      ],
      "execution_count": 0,
      "outputs": []
    },
    {
      "cell_type": "code",
      "metadata": {
        "colab_type": "code",
        "id": "_kdXjvbBABLs",
        "outputId": "d4176e7e-ea07-4ad5-c14f-2744d5babc1c",
        "colab": {
          "base_uri": "https://localhost:8080/",
          "height": 35
        }
      },
      "source": [
        "(x, y) = next(iter(full_dataloader))\n",
        "print(x.shape)"
      ],
      "execution_count": 0,
      "outputs": [
        {
          "output_type": "stream",
          "text": [
            "torch.Size([40000, 725])\n"
          ],
          "name": "stdout"
        }
      ]
    },
    {
      "cell_type": "code",
      "metadata": {
        "colab_type": "code",
        "id": "xkGul8snDCr4",
        "outputId": "98a375a8-ed10-45bd-856b-6a056194ce37",
        "colab": {
          "base_uri": "https://localhost:8080/",
          "height": 69
        }
      },
      "source": [
        "# Manual Standardization\n",
        "from models import KMeans\n",
        "mu = torch.mean(x, dim=1).unsqueeze(-1)\n",
        "std = 1\n",
        "X = (x.sub(other=mu))/std\n",
        "cl, c = KMeans().run(X, K=2, Niter=50)"
      ],
      "execution_count": 0,
      "outputs": [
        {
          "output_type": "stream",
          "text": [
            "K-means example with 40,000 points in dimension 725, K = 2:\n",
            "Timing for 50 iterations: 81.15923s = 50 x 1.62318s\n",
            "\n"
          ],
          "name": "stdout"
        }
      ]
    },
    {
      "cell_type": "code",
      "metadata": {
        "colab_type": "code",
        "id": "x6mLjHp_HodB",
        "outputId": "0d7ca75a-086d-49ef-b0f9-44f831904a14",
        "colab": {
          "base_uri": "https://localhost:8080/",
          "height": 173
        }
      },
      "source": [
        "print(cl.size())\n",
        "print(c.size())\n",
        "y = y.squeeze(-1).long()\n",
        "print(y.size())\n",
        "print(cl)\n",
        "print(y)\n",
        "sub = (cl - y)\n",
        "print(sub)\n",
        "print(sub.size())\n",
        "print(cl == y)\n",
        "accuracy = 1 - torch.mean((cl == y).float())\n",
        "print(\"Accuracy: %f or %f \" % (accuracy, (1-accuracy)))"
      ],
      "execution_count": 0,
      "outputs": [
        {
          "output_type": "stream",
          "text": [
            "torch.Size([40000])\n",
            "torch.Size([2, 725])\n",
            "torch.Size([40000])\n",
            "tensor([0, 0, 1,  ..., 0, 1, 0])\n",
            "tensor([1, 1, 0,  ..., 1, 0, 1])\n",
            "tensor([-1, -1,  1,  ..., -1,  1, -1])\n",
            "torch.Size([40000])\n",
            "tensor([False, False, False,  ..., False, False, False])\n",
            "Accuracy: 0.961000 or 0.039000 \n"
          ],
          "name": "stdout"
        }
      ]
    },
    {
      "cell_type": "code",
      "metadata": {
        "colab_type": "code",
        "id": "QDlKzZ27NJ0B",
        "outputId": "90ea66f3-a5c3-4d16-da49-97c2a65cc0f7",
        "colab": {
          "base_uri": "https://localhost:8080/",
          "height": 52
        }
      },
      "source": [
        "# data\n",
        "(x, y) = next(iter(full_dataloader))\n",
        "data_size, dims, num_clusters = x.size(0), 2, 2\n",
        "mu = torch.mean(x, dim=1).unsqueeze(-1)\n",
        "std = 1\n",
        "X = (x.sub(other=mu))/std\n",
        "# kmeans\n",
        "cluster_ids_x, cluster_centers = kmeans(\n",
        "    X=X, num_clusters=num_clusters, distance='euclidean', device=torch.device('cuda:0')\n",
        ")"
      ],
      "execution_count": 0,
      "outputs": [
        {
          "output_type": "stream",
          "text": [
            "[running kmeans]: 0it [00:00, ?it/s]"
          ],
          "name": "stderr"
        },
        {
          "output_type": "stream",
          "text": [
            "running k-means on cuda:0..\n"
          ],
          "name": "stdout"
        },
        {
          "output_type": "stream",
          "text": [
            "[running kmeans]: 9it [00:01,  7.74it/s, center_shift=0.000000, iteration=9, tol=0.000100]\n"
          ],
          "name": "stderr"
        }
      ]
    },
    {
      "cell_type": "code",
      "metadata": {
        "colab_type": "code",
        "id": "CX6jeEH1N906",
        "outputId": "a5cbc7a6-2851-4f7c-d263-70fedeeadb34",
        "colab": {
          "base_uri": "https://localhost:8080/",
          "height": 69
        }
      },
      "source": [
        "\n",
        "print(cluster_ids_x.size())\n",
        "print(cluster_ids_x)\n",
        "y = y.squeeze(-1).long()\n",
        "accuracy = torch.mean((cluster_ids_x == y).float())\n",
        "print(\"Accuracy: %f or %f \" % (accuracy, (1-accuracy)))"
      ],
      "execution_count": 0,
      "outputs": [
        {
          "output_type": "stream",
          "text": [
            "torch.Size([40000])\n",
            "tensor([1, 1, 0,  ..., 0, 0, 1])\n",
            "Accuracy: 0.961000 or 0.039000 \n"
          ],
          "name": "stdout"
        }
      ]
    },
    {
      "cell_type": "code",
      "metadata": {
        "colab_type": "code",
        "id": "qQnuahSabWp0",
        "outputId": "a958a835-a24e-4a3f-90ec-95ea38241d50",
        "colab": {
          "base_uri": "https://localhost:8080/",
          "height": 87
        }
      },
      "source": [
        "from sklearn.cluster import KMeans\n",
        "k = 2\n",
        "kmeans = KMeans(n_clusters=k)\n",
        "kmeans = kmeans.fit(X)\n",
        "labels = kmeans.predict(X)\n",
        "Y = y.squeeze(-1).numpy()\n",
        "print(Y.shape)\n",
        "print(labels.shape)\n",
        "res =labels+Y\n",
        "cont=0\n",
        "print(res.shape)\n",
        "for z in range(len(res)):\n",
        "    if res[z] == 1:\n",
        "        cont+=1\n",
        "print(\"Average KM: \" + str(1-cont/len(res)) + \" or \" + str(cont/len(res)))"
      ],
      "execution_count": 0,
      "outputs": [
        {
          "output_type": "stream",
          "text": [
            "(40000,)\n",
            "(40000,)\n",
            "(40000,)\n",
            "Average KM: 0.961 or 0.039\n"
          ],
          "name": "stdout"
        }
      ]
    },
    {
      "cell_type": "code",
      "metadata": {
        "colab_type": "code",
        "id": "9dGAwCcD26iA",
        "colab": {}
      },
      "source": [
        "# import numpy as np\n",
        "# import matplotlib.pyplot as plt\n",
        "# import pickle\n",
        "\n",
        "# num = 5\n",
        "# LR = 0\n",
        "# SVM = 0\n",
        "# SVM_r = 0\n",
        "# SVM_p = 0\n",
        "\n",
        "\n",
        "# for z in range(num):\n",
        "#     # read python dict back from the file\n",
        "#     data = None\n",
        "#     lbls = None\n",
        "#     og_d = None\n",
        "#     with h5py.File(fhq_hdf5_pt, 'r') as hdf5_file: \n",
        "#         data = hdf5_file['fft_data'][:]\n",
        "#         lbls = hdf5_file['lbl_data'][:]\n",
        "#         og_d = hdf5_file['orgn_data'][:]\n",
        "\n",
        "#     X = data \n",
        "#     y = lbls \n",
        "\n",
        "\n",
        "#     try:\n",
        "\n",
        "#         from sklearn.model_selection import train_test_split\n",
        "#         X_train, X_test, y_train, y_test = train_test_split(X, y, test_size = 0.2)\n",
        "\n",
        "#         from sklearn.svm import SVC\n",
        "#         svclassifier = SVC(kernel='linear')\n",
        "#         svclassifier.fit(X_train, y_train)\n",
        "#         #print('Accuracy on test set: {:.3f}'.format(svclassifier.score(X_test, y_test)))\n",
        "               \n",
        "#         from sklearn.svm import SVC\n",
        "#         svclassifier_r = SVC(C=3.1, kernel='rbf', gamma=0.00002)\n",
        "#         svclassifier_r.fit(X_train, y_train)\n",
        "#         #print('Accuracy on test set: {:.3f}'.format(svclassifier_r.score(X_test, y_test)))\n",
        "                \n",
        "#         from sklearn.svm import SVC\n",
        "#         svclassifier_p = SVC(kernel='poly')\n",
        "#         svclassifier_p.fit(X_train, y_train)\n",
        "#         #print('Accuracy on test set: {:.3f}'.format(svclassifier_p.score(X_test, y_test)))\n",
        "        \n",
        "#         from sklearn.linear_model import LogisticRegression\n",
        "#         logreg = LogisticRegression(solver='liblinear', max_iter=1000)\n",
        "#         logreg.fit(X_train, y_train)\n",
        "#         #print('Accuracy on test set: {:.3f}'.format(logreg.score(X_test, y_test)))\n",
        "\n",
        "        \n",
        "#         SVM+=svclassifier.score(X_test, y_test)\n",
        "#         SVM_r+=svclassifier_r.score(X_test, y_test)\n",
        "#         SVM_p+=svclassifier_p.score(X_test, y_test)\n",
        "#         LR+=logreg.score(X_test, y_test)\n",
        "\n",
        " \n",
        "#     except:\n",
        "#         num-=1\n",
        "#         print(num)\n",
        "    \n",
        "# print(\"Average SVM: \"+str(SVM/num))\n",
        "# print(\"Average SVM_r: \"+str(SVM_r/num))\n",
        "# print(\"Average SVM_p: \"+str(SVM_p/num))\n",
        "# print(\"Average LR: \"+str(LR/num))"
      ],
      "execution_count": 0,
      "outputs": []
    },
    {
      "cell_type": "markdown",
      "metadata": {
        "id": "_MYNb6Ls8ifO",
        "colab_type": "text"
      },
      "source": [
        "# CSE253_FinalProject\n",
        "\n",
        "## Pre-Processed Datasets\n",
        "\n",
        "***Faces_HQ.hdf5***\n",
        "- Contains pre-processed images from [paper dataset](https://storage.googleapis.com/img-hosting-bucket/unmasking.pdf)\n",
        "- https://storage.googleapis.com/img-hosting-bucket/Faces_HQ.hdf5\n",
        "\n",
        "*The following datasets contain images generated by StyleGAN2 for cars, cats and churches and StyleGAN1 for bedrooms.  All real images are from LSUN.*\n",
        "\n",
        "*Pre-processing on cars results in a 1x363 vector while all other datasets used result in a 1x182 vector.*\n",
        "\n",
        "***LSUN.hdf5*** \n",
        "- Includes cats, cars, and churches with padding on the pre-processed vectors of cats and churches.  \n",
        "- This dataset was created to test the model on images of varying sizes.\n",
        "- https://storage.googleapis.com/img-hosting-bucket/LSUN.hdf5\n",
        "\n",
        "***LSUN_BCC_256.hdf5***\n",
        "- Dataset containing only images of size ![formula](https://render.githubusercontent.com/render/math?math=256^2)\n",
        "- Includes cats, churches, and bedrooms.\n",
        "- https://storage.googleapis.com/img-hosting-bucket/LSUN_BCC_256.hdf5\n",
        "\n",
        "***LSUN_256.hdf5***\n",
        "- Dataset containing only images of size ![formula](https://render.githubusercontent.com/render/math?math=256^2)\n",
        "- Includes cats and churches.\n",
        "- https://storage.googleapis.com/img-hosting-bucket/LSUN_256.hdf5\n",
        "\n",
        "***LSUN_Cars.hdf5***\n",
        "- Dataset containing only cars of size ![formula](https://render.githubusercontent.com/render/math?math=512^2)\n",
        "- https://storage.googleapis.com/img-hosting-bucket/LSUN_Cars.hdf5"
      ]
    }
  ]
}