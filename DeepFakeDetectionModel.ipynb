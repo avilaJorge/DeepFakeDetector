{
 "cells": [
  {
   "cell_type": "markdown",
   "metadata": {
    "colab_type": "text",
    "id": "view-in-github"
   },
   "source": [
    "<a href=\"https://colab.research.google.com/github/avilaJorge/CSE253_FinalProject/blob/master/DeepFakeDetectionModel.ipynb\" target=\"_parent\"><img src=\"https://colab.research.google.com/assets/colab-badge.svg\" alt=\"Open In Colab\"/></a>"
   ]
  },
  {
   "cell_type": "code",
   "execution_count": null,
   "metadata": {
    "colab": {},
    "colab_type": "code",
    "id": "boe54s6OzmGv"
   },
   "outputs": [],
   "source": [
    "# !rm -R ./Logistic_Regression/*\n",
    "# !mkdir Linear_Regression\n",
    "# !rm -R ./sample_data"
   ]
  },
  {
   "cell_type": "code",
   "execution_count": null,
   "metadata": {
    "colab": {},
    "colab_type": "code",
    "id": "YylQ7_8dYB_m"
   },
   "outputs": [],
   "source": [
    "!cp *.py /content/drive/My\\ Drive/CSE\\ 253/PA5/PyFiles\n",
    "!cp *.ipynb /content/drive/My\\ Drive/CSE\\ 253/PA5/PyFiles"
   ]
  },
  {
   "cell_type": "code",
   "execution_count": null,
   "metadata": {
    "colab": {},
    "colab_type": "code",
    "id": "fJEugQ-VE0sf"
   },
   "outputs": [],
   "source": [
    "# !wget https://storage.googleapis.com/img-hosting-bucket/Faces_HQ.hdf5"
   ]
  },
  {
   "cell_type": "code",
   "execution_count": 4,
   "metadata": {
    "colab": {
     "base_uri": "https://localhost:8080/",
     "height": 312
    },
    "colab_type": "code",
    "id": "T0CbUfjOFfnJ",
    "outputId": "3cba5bf4-9b6f-4355-c3b7-07e693b47730"
   },
   "outputs": [
    {
     "name": "stdout",
     "output_type": "stream",
     "text": [
      "Thu Mar 12 08:43:09 2020       \n",
      "+-----------------------------------------------------------------------------+\n",
      "| NVIDIA-SMI 440.59       Driver Version: 418.67       CUDA Version: 10.1     |\n",
      "|-------------------------------+----------------------+----------------------+\n",
      "| GPU  Name        Persistence-M| Bus-Id        Disp.A | Volatile Uncorr. ECC |\n",
      "| Fan  Temp  Perf  Pwr:Usage/Cap|         Memory-Usage | GPU-Util  Compute M. |\n",
      "|===============================+======================+======================|\n",
      "|   0  Tesla P100-PCIE...  Off  | 00000000:00:04.0 Off |                    0 |\n",
      "| N/A   36C    P0    26W / 250W |      0MiB / 16280MiB |      0%      Default |\n",
      "+-------------------------------+----------------------+----------------------+\n",
      "                                                                               \n",
      "+-----------------------------------------------------------------------------+\n",
      "| Processes:                                                       GPU Memory |\n",
      "|  GPU       PID   Type   Process name                             Usage      |\n",
      "|=============================================================================|\n",
      "|  No running processes found                                                 |\n",
      "+-----------------------------------------------------------------------------+\n"
     ]
    }
   ],
   "source": [
    "gpu_info = !nvidia-smi\n",
    "gpu_info = '\\n'.join(gpu_info)\n",
    "if gpu_info.find('failed') >= 0:\n",
    "  print('Select the Runtime → \"Change runtime type\" menu to enable a GPU accelerator, ')\n",
    "  print('and then re-execute this cell.')\n",
    "else:\n",
    "  print(gpu_info)"
   ]
  },
  {
   "cell_type": "code",
   "execution_count": null,
   "metadata": {
    "colab": {},
    "colab_type": "code",
    "id": "6pR6L5w39m4U"
   },
   "outputs": [],
   "source": [
    "%run DeepFake_Dataloader.py\n",
    "%run utils.py"
   ]
  },
  {
   "cell_type": "code",
   "execution_count": 6,
   "metadata": {
    "colab": {
     "base_uri": "https://localhost:8080/",
     "height": 35
    },
    "colab_type": "code",
    "id": "-HZyhY_V9t11",
    "outputId": "7f64df19-9098-4c6b-aa5b-9d9993f7c731"
   },
   "outputs": [
    {
     "name": "stdout",
     "output_type": "stream",
     "text": [
      "Requirement already satisfied: kmeans-pytorch in /usr/local/lib/python3.6/dist-packages (0.3)\n"
     ]
    }
   ],
   "source": [
    "# imports pytorch\n",
    "import torch\n",
    "import torch.nn as nn\n",
    "import torchvision.transforms as transforms\n",
    "from torch.utils.data import Dataset, DataLoader\n",
    "\n",
    "# Numpy, Matplotlib, and PIL\n",
    "import numpy as np\n",
    "import matplotlib.pyplot as plt\n",
    "\n",
    "# K-means import\n",
    "# !pip install pykeops\n",
    "from pykeops.torch import LazyTensor\n",
    "!pip install kmeans-pytorch\n",
    "from kmeans_pytorch import kmeans\n",
    "\n",
    "# general imports\n",
    "import pprint\n",
    "\n",
    "# My imports\n",
    "from DeepFake_Dataloader import get_dataloaders\n",
    "from models import LinearRegression, save_model, SVM, KMeans\n",
    "from utils import RunningAverage\n",
    "from train import train, evaluate\n",
    "\n",
    "device = torch.device(\"cuda:0\" if torch.cuda.is_available() else \"cpu\")"
   ]
  },
  {
   "cell_type": "code",
   "execution_count": null,
   "metadata": {
    "colab": {},
    "colab_type": "code",
    "id": "v1JJsL9H9t14"
   },
   "outputs": [],
   "source": [
    "trn_dl, val_dl, tst_dl = get_dataloaders(dataset=DeepFakeHDF5Dataset())"
   ]
  },
  {
   "cell_type": "code",
   "execution_count": null,
   "metadata": {
    "colab": {},
    "colab_type": "code",
    "id": "ftr4FTkt9m4b"
   },
   "outputs": [],
   "source": [
    "s_epoch      = 1\n",
    "num_epochs   = 300\n",
    "lr_rate      = 1e-2\n",
    "load_model   = False\n",
    "model_name   = 'LogisticRegressionModel'\n",
    "path         = '/content/Logistic_Regression'\n",
    "\n",
    "lr_model = LinearRegression(725).to(device)\n",
    "criterion = torch.nn.BCEWithLogitsLoss()\n",
    "optimizer = torch.optim.SGD(lr_model.parameters(), lr=lr_rate, weight_decay=1e-3, momentum=0.9)\n",
    "\n",
    "if load_model:\n",
    "    lr_model.load_state_dict(torch.load(''))"
   ]
  },
  {
   "cell_type": "code",
   "execution_count": 9,
   "metadata": {
    "colab": {
     "base_uri": "https://localhost:8080/",
     "height": 1000
    },
    "colab_type": "code",
    "id": "mLc_eMyB9m4f",
    "outputId": "65d05b5e-3274-44dd-a3ac-bbf618ff030f"
   },
   "outputs": [
    {
     "data": {
      "text/html": [
       "\n",
       "        <p>Loss: 0.0954   24000 / 24000</p>\n",
       "        <progress value='24000' max='24000', style='width: 100%'>24000</progress>\n",
       "    "
      ],
      "text/plain": [
       "<IPython.core.display.HTML object>"
      ]
     },
     "metadata": {
      "tags": []
     },
     "output_type": "display_data"
    },
    {
     "name": "stdout",
     "output_type": "stream",
     "text": [
      "Epoch:  1\n",
      "Training loss: 0.0954\n"
     ]
    },
    {
     "data": {
      "text/html": [
       "\n",
       "        <p>Loss: 0.0348   24000 / 24000</p>\n",
       "        <progress value='24000' max='24000', style='width: 100%'>24000</progress>\n",
       "    "
      ],
      "text/plain": [
       "<IPython.core.display.HTML object>"
      ]
     },
     "metadata": {
      "tags": []
     },
     "output_type": "display_data"
    },
    {
     "name": "stdout",
     "output_type": "stream",
     "text": [
      "Training Loss:  0.0348\n",
      "Training accuracy: 99.2500%\n"
     ]
    },
    {
     "data": {
      "text/html": [
       "\n",
       "        <p>Loss: 0.0364   8000 / 8000</p>\n",
       "        <progress value='8000' max='8000', style='width: 100%'>8000</progress>\n",
       "    "
      ],
      "text/plain": [
       "<IPython.core.display.HTML object>"
      ]
     },
     "metadata": {
      "tags": []
     },
     "output_type": "display_data"
    },
    {
     "name": "stdout",
     "output_type": "stream",
     "text": [
      "Validation Loss:  0.0364\n",
      "Validation accuracy: 99.0750%\n",
      "\"Best Loss\": 0.03640377691518221\n",
      "\n",
      "Validation Loss has gone up 0 times.\n",
      "\n"
     ]
    },
    {
     "data": {
      "text/html": [
       "\n",
       "        <p>Loss: 0.0269   24000 / 24000</p>\n",
       "        <progress value='24000' max='24000', style='width: 100%'>24000</progress>\n",
       "    "
      ],
      "text/plain": [
       "<IPython.core.display.HTML object>"
      ]
     },
     "metadata": {
      "tags": []
     },
     "output_type": "display_data"
    },
    {
     "name": "stdout",
     "output_type": "stream",
     "text": [
      "Epoch:  2\n",
      "Training loss: 0.0269\n"
     ]
    },
    {
     "data": {
      "text/html": [
       "\n",
       "        <p>Loss: 0.0201   24000 / 24000</p>\n",
       "        <progress value='24000' max='24000', style='width: 100%'>24000</progress>\n",
       "    "
      ],
      "text/plain": [
       "<IPython.core.display.HTML object>"
      ]
     },
     "metadata": {
      "tags": []
     },
     "output_type": "display_data"
    },
    {
     "name": "stdout",
     "output_type": "stream",
     "text": [
      "Training Loss:  0.0201\n",
      "Training accuracy: 99.6083%\n"
     ]
    },
    {
     "data": {
      "text/html": [
       "\n",
       "        <p>Loss: 0.0206   8000 / 8000</p>\n",
       "        <progress value='8000' max='8000', style='width: 100%'>8000</progress>\n",
       "    "
      ],
      "text/plain": [
       "<IPython.core.display.HTML object>"
      ]
     },
     "metadata": {
      "tags": []
     },
     "output_type": "display_data"
    },
    {
     "name": "stdout",
     "output_type": "stream",
     "text": [
      "Validation Loss:  0.0206\n",
      "Validation accuracy: 99.5875%\n",
      "\"Best Loss\": 0.02061001178882425\n",
      "\n",
      "Validation Loss has gone up 0 times.\n",
      "\n"
     ]
    },
    {
     "data": {
      "text/html": [
       "\n",
       "        <p>Loss: 0.0153   24000 / 24000</p>\n",
       "        <progress value='24000' max='24000', style='width: 100%'>24000</progress>\n",
       "    "
      ],
      "text/plain": [
       "<IPython.core.display.HTML object>"
      ]
     },
     "metadata": {
      "tags": []
     },
     "output_type": "display_data"
    },
    {
     "name": "stdout",
     "output_type": "stream",
     "text": [
      "Epoch:  3\n",
      "Training loss: 0.0153\n"
     ]
    },
    {
     "data": {
      "text/html": [
       "\n",
       "        <p>Loss: 0.0117   24000 / 24000</p>\n",
       "        <progress value='24000' max='24000', style='width: 100%'>24000</progress>\n",
       "    "
      ],
      "text/plain": [
       "<IPython.core.display.HTML object>"
      ]
     },
     "metadata": {
      "tags": []
     },
     "output_type": "display_data"
    },
    {
     "name": "stdout",
     "output_type": "stream",
     "text": [
      "Training Loss:  0.0117\n",
      "Training accuracy: 99.7792%\n"
     ]
    },
    {
     "data": {
      "text/html": [
       "\n",
       "        <p>Loss: 0.0125   8000 / 8000</p>\n",
       "        <progress value='8000' max='8000', style='width: 100%'>8000</progress>\n",
       "    "
      ],
      "text/plain": [
       "<IPython.core.display.HTML object>"
      ]
     },
     "metadata": {
      "tags": []
     },
     "output_type": "display_data"
    },
    {
     "name": "stdout",
     "output_type": "stream",
     "text": [
      "Validation Loss:  0.0125\n",
      "Validation accuracy: 99.7500%\n",
      "\"Best Loss\": 0.012451472289357628\n",
      "\n",
      "Validation Loss has gone up 0 times.\n",
      "\n"
     ]
    },
    {
     "data": {
      "text/html": [
       "\n",
       "        <p>Loss: 0.0103   24000 / 24000</p>\n",
       "        <progress value='24000' max='24000', style='width: 100%'>24000</progress>\n",
       "    "
      ],
      "text/plain": [
       "<IPython.core.display.HTML object>"
      ]
     },
     "metadata": {
      "tags": []
     },
     "output_type": "display_data"
    },
    {
     "name": "stdout",
     "output_type": "stream",
     "text": [
      "Epoch:  4\n",
      "Training loss: 0.0103\n"
     ]
    },
    {
     "data": {
      "text/html": [
       "\n",
       "        <p>Loss: 0.0091   24000 / 24000</p>\n",
       "        <progress value='24000' max='24000', style='width: 100%'>24000</progress>\n",
       "    "
      ],
      "text/plain": [
       "<IPython.core.display.HTML object>"
      ]
     },
     "metadata": {
      "tags": []
     },
     "output_type": "display_data"
    },
    {
     "name": "stdout",
     "output_type": "stream",
     "text": [
      "Training Loss:  0.0091\n",
      "Training accuracy: 99.8667%\n"
     ]
    },
    {
     "data": {
      "text/html": [
       "\n",
       "        <p>Loss: 0.0100   8000 / 8000</p>\n",
       "        <progress value='8000' max='8000', style='width: 100%'>8000</progress>\n",
       "    "
      ],
      "text/plain": [
       "<IPython.core.display.HTML object>"
      ]
     },
     "metadata": {
      "tags": []
     },
     "output_type": "display_data"
    },
    {
     "name": "stdout",
     "output_type": "stream",
     "text": [
      "Validation Loss:  0.01\n",
      "Validation accuracy: 99.8125%\n",
      "\"Best Loss\": 0.010014388466342578\n",
      "\n",
      "Validation Loss has gone up 0 times.\n",
      "\n"
     ]
    },
    {
     "data": {
      "text/html": [
       "\n",
       "        <p>Loss: 0.0080   24000 / 24000</p>\n",
       "        <progress value='24000' max='24000', style='width: 100%'>24000</progress>\n",
       "    "
      ],
      "text/plain": [
       "<IPython.core.display.HTML object>"
      ]
     },
     "metadata": {
      "tags": []
     },
     "output_type": "display_data"
    },
    {
     "name": "stdout",
     "output_type": "stream",
     "text": [
      "Epoch:  5\n",
      "Training loss: 0.008\n"
     ]
    },
    {
     "data": {
      "text/html": [
       "\n",
       "        <p>Loss: 0.0066   24000 / 24000</p>\n",
       "        <progress value='24000' max='24000', style='width: 100%'>24000</progress>\n",
       "    "
      ],
      "text/plain": [
       "<IPython.core.display.HTML object>"
      ]
     },
     "metadata": {
      "tags": []
     },
     "output_type": "display_data"
    },
    {
     "name": "stdout",
     "output_type": "stream",
     "text": [
      "Training Loss:  0.0066\n",
      "Training accuracy: 99.8625%\n"
     ]
    },
    {
     "data": {
      "text/html": [
       "\n",
       "        <p>Loss: 0.0076   8000 / 8000</p>\n",
       "        <progress value='8000' max='8000', style='width: 100%'>8000</progress>\n",
       "    "
      ],
      "text/plain": [
       "<IPython.core.display.HTML object>"
      ]
     },
     "metadata": {
      "tags": []
     },
     "output_type": "display_data"
    },
    {
     "name": "stdout",
     "output_type": "stream",
     "text": [
      "Validation Loss:  0.0076\n",
      "Validation accuracy: 99.8375%\n",
      "\"Best Loss\": 0.007578937397781937\n",
      "\n",
      "Validation Loss has gone up 0 times.\n",
      "\n"
     ]
    },
    {
     "data": {
      "text/html": [
       "\n",
       "        <p>Loss: 0.0063   24000 / 24000</p>\n",
       "        <progress value='24000' max='24000', style='width: 100%'>24000</progress>\n",
       "    "
      ],
      "text/plain": [
       "<IPython.core.display.HTML object>"
      ]
     },
     "metadata": {
      "tags": []
     },
     "output_type": "display_data"
    },
    {
     "name": "stdout",
     "output_type": "stream",
     "text": [
      "Epoch:  6\n",
      "Training loss: 0.0063\n"
     ]
    },
    {
     "data": {
      "text/html": [
       "\n",
       "        <p>Loss: 0.0051   24000 / 24000</p>\n",
       "        <progress value='24000' max='24000', style='width: 100%'>24000</progress>\n",
       "    "
      ],
      "text/plain": [
       "<IPython.core.display.HTML object>"
      ]
     },
     "metadata": {
      "tags": []
     },
     "output_type": "display_data"
    },
    {
     "name": "stdout",
     "output_type": "stream",
     "text": [
      "Training Loss:  0.0051\n",
      "Training accuracy: 99.8958%\n"
     ]
    },
    {
     "data": {
      "text/html": [
       "\n",
       "        <p>Loss: 0.0059   8000 / 8000</p>\n",
       "        <progress value='8000' max='8000', style='width: 100%'>8000</progress>\n",
       "    "
      ],
      "text/plain": [
       "<IPython.core.display.HTML object>"
      ]
     },
     "metadata": {
      "tags": []
     },
     "output_type": "display_data"
    },
    {
     "name": "stdout",
     "output_type": "stream",
     "text": [
      "Validation Loss:  0.0059\n",
      "Validation accuracy: 99.9000%\n",
      "\"Best Loss\": 0.005880722746489541\n",
      "\n",
      "Validation Loss has gone up 0 times.\n",
      "\n"
     ]
    },
    {
     "data": {
      "text/html": [
       "\n",
       "        <p>Loss: 0.0053   24000 / 24000</p>\n",
       "        <progress value='24000' max='24000', style='width: 100%'>24000</progress>\n",
       "    "
      ],
      "text/plain": [
       "<IPython.core.display.HTML object>"
      ]
     },
     "metadata": {
      "tags": []
     },
     "output_type": "display_data"
    },
    {
     "name": "stdout",
     "output_type": "stream",
     "text": [
      "Epoch:  7\n",
      "Training loss: 0.0053\n"
     ]
    },
    {
     "data": {
      "text/html": [
       "\n",
       "        <p>Loss: 0.0050   24000 / 24000</p>\n",
       "        <progress value='24000' max='24000', style='width: 100%'>24000</progress>\n",
       "    "
      ],
      "text/plain": [
       "<IPython.core.display.HTML object>"
      ]
     },
     "metadata": {
      "tags": []
     },
     "output_type": "display_data"
    },
    {
     "name": "stdout",
     "output_type": "stream",
     "text": [
      "Training Loss:  0.005\n",
      "Training accuracy: 99.8875%\n"
     ]
    },
    {
     "data": {
      "text/html": [
       "\n",
       "        <p>Loss: 0.0058   8000 / 8000</p>\n",
       "        <progress value='8000' max='8000', style='width: 100%'>8000</progress>\n",
       "    "
      ],
      "text/plain": [
       "<IPython.core.display.HTML object>"
      ]
     },
     "metadata": {
      "tags": []
     },
     "output_type": "display_data"
    },
    {
     "name": "stdout",
     "output_type": "stream",
     "text": [
      "Validation Loss:  0.0058\n",
      "Validation accuracy: 99.8875%\n",
      "\"Best Loss\": 0.005813206743729848\n",
      "\n",
      "Validation Loss has gone up 0 times.\n",
      "\n"
     ]
    },
    {
     "data": {
      "text/html": [
       "\n",
       "        <p>Loss: 0.0050   24000 / 24000</p>\n",
       "        <progress value='24000' max='24000', style='width: 100%'>24000</progress>\n",
       "    "
      ],
      "text/plain": [
       "<IPython.core.display.HTML object>"
      ]
     },
     "metadata": {
      "tags": []
     },
     "output_type": "display_data"
    },
    {
     "name": "stdout",
     "output_type": "stream",
     "text": [
      "Epoch:  8\n",
      "Training loss: 0.005\n"
     ]
    },
    {
     "data": {
      "text/html": [
       "\n",
       "        <p>Loss: 0.0057   24000 / 24000</p>\n",
       "        <progress value='24000' max='24000', style='width: 100%'>24000</progress>\n",
       "    "
      ],
      "text/plain": [
       "<IPython.core.display.HTML object>"
      ]
     },
     "metadata": {
      "tags": []
     },
     "output_type": "display_data"
    },
    {
     "name": "stdout",
     "output_type": "stream",
     "text": [
      "Training Loss:  0.0057\n",
      "Training accuracy: 99.9125%\n"
     ]
    },
    {
     "data": {
      "text/html": [
       "\n",
       "        <p>Loss: 0.0065   8000 / 8000</p>\n",
       "        <progress value='8000' max='8000', style='width: 100%'>8000</progress>\n",
       "    "
      ],
      "text/plain": [
       "<IPython.core.display.HTML object>"
      ]
     },
     "metadata": {
      "tags": []
     },
     "output_type": "display_data"
    },
    {
     "name": "stdout",
     "output_type": "stream",
     "text": [
      "Validation Loss:  0.0065\n",
      "Validation accuracy: 99.8500%\n",
      "Validation Loss has gone up 1 times.\n",
      "\n"
     ]
    },
    {
     "data": {
      "text/html": [
       "\n",
       "        <p>Loss: 0.0042   24000 / 24000</p>\n",
       "        <progress value='24000' max='24000', style='width: 100%'>24000</progress>\n",
       "    "
      ],
      "text/plain": [
       "<IPython.core.display.HTML object>"
      ]
     },
     "metadata": {
      "tags": []
     },
     "output_type": "display_data"
    },
    {
     "name": "stdout",
     "output_type": "stream",
     "text": [
      "Epoch:  9\n",
      "Training loss: 0.0042\n"
     ]
    },
    {
     "data": {
      "text/html": [
       "\n",
       "        <p>Loss: 0.0035   24000 / 24000</p>\n",
       "        <progress value='24000' max='24000', style='width: 100%'>24000</progress>\n",
       "    "
      ],
      "text/plain": [
       "<IPython.core.display.HTML object>"
      ]
     },
     "metadata": {
      "tags": []
     },
     "output_type": "display_data"
    },
    {
     "name": "stdout",
     "output_type": "stream",
     "text": [
      "Training Loss:  0.0035\n",
      "Training accuracy: 99.9500%\n"
     ]
    },
    {
     "data": {
      "text/html": [
       "\n",
       "        <p>Loss: 0.0043   8000 / 8000</p>\n",
       "        <progress value='8000' max='8000', style='width: 100%'>8000</progress>\n",
       "    "
      ],
      "text/plain": [
       "<IPython.core.display.HTML object>"
      ]
     },
     "metadata": {
      "tags": []
     },
     "output_type": "display_data"
    },
    {
     "name": "stdout",
     "output_type": "stream",
     "text": [
      "Validation Loss:  0.0043\n",
      "Validation accuracy: 99.9000%\n",
      "\"Best Loss\": 0.004312858556485956\n",
      "\n",
      "Validation Loss has gone up 0 times.\n",
      "\n"
     ]
    },
    {
     "data": {
      "text/html": [
       "\n",
       "        <p>Loss: 0.0039   24000 / 24000</p>\n",
       "        <progress value='24000' max='24000', style='width: 100%'>24000</progress>\n",
       "    "
      ],
      "text/plain": [
       "<IPython.core.display.HTML object>"
      ]
     },
     "metadata": {
      "tags": []
     },
     "output_type": "display_data"
    },
    {
     "name": "stdout",
     "output_type": "stream",
     "text": [
      "Epoch:  10\n",
      "Training loss: 0.0039\n"
     ]
    },
    {
     "data": {
      "text/html": [
       "\n",
       "        <p>Loss: 0.0036   24000 / 24000</p>\n",
       "        <progress value='24000' max='24000', style='width: 100%'>24000</progress>\n",
       "    "
      ],
      "text/plain": [
       "<IPython.core.display.HTML object>"
      ]
     },
     "metadata": {
      "tags": []
     },
     "output_type": "display_data"
    },
    {
     "name": "stdout",
     "output_type": "stream",
     "text": [
      "Training Loss:  0.0036\n",
      "Training accuracy: 99.9542%\n"
     ]
    },
    {
     "data": {
      "text/html": [
       "\n",
       "        <p>Loss: 0.0044   8000 / 8000</p>\n",
       "        <progress value='8000' max='8000', style='width: 100%'>8000</progress>\n",
       "    "
      ],
      "text/plain": [
       "<IPython.core.display.HTML object>"
      ]
     },
     "metadata": {
      "tags": []
     },
     "output_type": "display_data"
    },
    {
     "name": "stdout",
     "output_type": "stream",
     "text": [
      "Validation Loss:  0.0044\n",
      "Validation accuracy: 99.9250%\n",
      "Validation Loss has gone up 1 times.\n",
      "\n"
     ]
    },
    {
     "data": {
      "text/html": [
       "\n",
       "        <p>Loss: 0.0036   24000 / 24000</p>\n",
       "        <progress value='24000' max='24000', style='width: 100%'>24000</progress>\n",
       "    "
      ],
      "text/plain": [
       "<IPython.core.display.HTML object>"
      ]
     },
     "metadata": {
      "tags": []
     },
     "output_type": "display_data"
    },
    {
     "name": "stdout",
     "output_type": "stream",
     "text": [
      "Epoch:  11\n",
      "Training loss: 0.0036\n"
     ]
    },
    {
     "data": {
      "text/html": [
       "\n",
       "        <p>Loss: 0.0054   24000 / 24000</p>\n",
       "        <progress value='24000' max='24000', style='width: 100%'>24000</progress>\n",
       "    "
      ],
      "text/plain": [
       "<IPython.core.display.HTML object>"
      ]
     },
     "metadata": {
      "tags": []
     },
     "output_type": "display_data"
    },
    {
     "name": "stdout",
     "output_type": "stream",
     "text": [
      "Training Loss:  0.0054\n",
      "Training accuracy: 99.9125%\n"
     ]
    },
    {
     "data": {
      "text/html": [
       "\n",
       "        <p>Loss: 0.0062   8000 / 8000</p>\n",
       "        <progress value='8000' max='8000', style='width: 100%'>8000</progress>\n",
       "    "
      ],
      "text/plain": [
       "<IPython.core.display.HTML object>"
      ]
     },
     "metadata": {
      "tags": []
     },
     "output_type": "display_data"
    },
    {
     "name": "stdout",
     "output_type": "stream",
     "text": [
      "Validation Loss:  0.0062\n",
      "Validation accuracy: 99.9000%\n",
      "Validation Loss has gone up 2 times.\n",
      "\n"
     ]
    }
   ],
   "source": [
    "\n",
    "train_losses, valid_losses = train(lr_model, \n",
    "                                   optimizer, \n",
    "                                   criterion, \n",
    "                                   trn_dl, \n",
    "                                   val_dl,\n",
    "                                   model_name,\n",
    "                                   path,\n",
    "                                   predicter=torch.nn.Sigmoid())"
   ]
  },
  {
   "cell_type": "code",
   "execution_count": 10,
   "metadata": {
    "colab": {
     "base_uri": "https://localhost:8080/",
     "height": 295
    },
    "colab_type": "code",
    "id": "I5fNHznp9m4i",
    "outputId": "a6576142-7f8a-4f7b-8acb-284f5cf5117c"
   },
   "outputs": [
    {
     "data": {
      "image/png": "[encoded data removed]",
      "text/plain": [
       "<Figure size 432x288 with 1 Axes>"
      ]
     },
     "metadata": {
      "tags": []
     },
     "output_type": "display_data"
    }
   ],
   "source": [
    "epochs = range(1, len(train_losses) + 1)\n",
    "epoch_ticks = [i if i % 5 == 0 else 0 for i in epochs]\n",
    "    \n",
    "# plt.figure(figsize=(10,6))\n",
    "plt.plot(epochs, train_losses, label='Training loss')\n",
    "plt.plot(epochs, valid_losses, label='Validation loss')\n",
    "plt.legend()\n",
    "plt.title('Learning curves')\n",
    "plt.xlabel('Epoch')\n",
    "plt.ylabel('Loss')\n",
    "plt.xticks(epoch_ticks)\n",
    "plt.show()"
   ]
  },
  {
   "cell_type": "code",
   "execution_count": 11,
   "metadata": {
    "colab": {
     "base_uri": "https://localhost:8080/",
     "height": 116
    },
    "colab_type": "code",
    "id": "vJeHSC4Y0gc1",
    "outputId": "c0fc8ae6-aa2d-413f-bcdd-42be4bbb347e"
   },
   "outputs": [
    {
     "data": {
      "text/html": [
       "\n",
       "        <p>Loss: 0.0071   8000 / 8000</p>\n",
       "        <progress value='8000' max='8000', style='width: 100%'>8000</progress>\n",
       "    "
      ],
      "text/plain": [
       "<IPython.core.display.HTML object>"
      ]
     },
     "metadata": {
      "tags": []
     },
     "output_type": "display_data"
    },
    {
     "name": "stdout",
     "output_type": "stream",
     "text": [
      "Validation Loss:  0.0071\n",
      "Validation accuracy: 50.9000%\n"
     ]
    },
    {
     "data": {
      "text/plain": [
       "0.00711160440677925"
      ]
     },
     "execution_count": 11,
     "metadata": {
      "tags": []
     },
     "output_type": "execute_result"
    }
   ],
   "source": [
    "test_losses = []\n",
    "evaluate(lr_model,\n",
    "         optimizer,\n",
    "         criterion,\n",
    "         0,\n",
    "         tst_dl,\n",
    "         test_losses,\n",
    "         \"\",\n",
    "         \"\",\n",
    "         acc_thresh=0.0,\n",
    "         predicter=torch.nn.Sigmoid(),\n",
    "         validation=False)"
   ]
  },
  {
   "cell_type": "code",
   "execution_count": null,
   "metadata": {
    "colab": {},
    "colab_type": "code",
    "id": "eJtJVTthqp1u"
   },
   "outputs": [],
   "source": [
    "trn_dl, val_dl, tst_dl = get_dataloaders(dataset=DeepFakeHDF5Dataset_SVM())"
   ]
  },
  {
   "cell_type": "code",
   "execution_count": null,
   "metadata": {
    "colab": {},
    "colab_type": "code",
    "id": "LnWcq8jHzLaP"
   },
   "outputs": [],
   "source": [
    "s_epoch      = 1\n",
    "num_epochs   = 300\n",
    "lr_rate      = 1e-2\n",
    "load_model   = False\n",
    "model_name   = 'SVMModel'\n",
    "path         = '/content/SVM_Model'\n",
    "\n",
    "svm_model = SVM(725).to(device)\n",
    "criterion = torch.nn.SoftMarginLoss()\n",
    "optimizer = torch.optim.SGD(svm_model.parameters(), lr=lr_rate, weight_decay=1e-3, momentum=0.9)\n",
    "\n",
    "if load_model:\n",
    "    svm_model.load_state_dict(torch.load(''))"
   ]
  },
  {
   "cell_type": "code",
   "execution_count": 14,
   "metadata": {
    "colab": {
     "base_uri": "https://localhost:8080/",
     "height": 1000
    },
    "colab_type": "code",
    "id": "YJRYtTfYz0rr",
    "outputId": "8c73f14c-ae51-4e47-e042-a27bf37dd6b2"
   },
   "outputs": [
    {
     "data": {
      "text/html": [
       "\n",
       "        <p>Loss: 0.0947   24000 / 24000</p>\n",
       "        <progress value='24000' max='24000', style='width: 100%'>24000</progress>\n",
       "    "
      ],
      "text/plain": [
       "<IPython.core.display.HTML object>"
      ]
     },
     "metadata": {
      "tags": []
     },
     "output_type": "display_data"
    },
    {
     "name": "stdout",
     "output_type": "stream",
     "text": [
      "Epoch:  1\n",
      "Training loss: 0.0947\n"
     ]
    },
    {
     "data": {
      "text/html": [
       "\n",
       "        <p>Loss: 0.0358   24000 / 24000</p>\n",
       "        <progress value='24000' max='24000', style='width: 100%'>24000</progress>\n",
       "    "
      ],
      "text/plain": [
       "<IPython.core.display.HTML object>"
      ]
     },
     "metadata": {
      "tags": []
     },
     "output_type": "display_data"
    },
    {
     "name": "stdout",
     "output_type": "stream",
     "text": [
      "Training Loss:  0.0358\n",
      "Training accuracy: 98.8500%\n"
     ]
    },
    {
     "data": {
      "text/html": [
       "\n",
       "        <p>Loss: 0.0327   8000 / 8000</p>\n",
       "        <progress value='8000' max='8000', style='width: 100%'>8000</progress>\n",
       "    "
      ],
      "text/plain": [
       "<IPython.core.display.HTML object>"
      ]
     },
     "metadata": {
      "tags": []
     },
     "output_type": "display_data"
    },
    {
     "name": "stdout",
     "output_type": "stream",
     "text": [
      "Validation Loss:  0.0327\n",
      "Validation accuracy: 98.9000%\n",
      "\"Best Loss\": 0.032653076810732706\n",
      "\n",
      "Validation Loss has gone up 0 times.\n",
      "\n"
     ]
    },
    {
     "data": {
      "text/html": [
       "\n",
       "        <p>Loss: 0.0300   24000 / 24000</p>\n",
       "        <progress value='24000' max='24000', style='width: 100%'>24000</progress>\n",
       "    "
      ],
      "text/plain": [
       "<IPython.core.display.HTML object>"
      ]
     },
     "metadata": {
      "tags": []
     },
     "output_type": "display_data"
    },
    {
     "name": "stdout",
     "output_type": "stream",
     "text": [
      "Epoch:  2\n",
      "Training loss: 0.03\n"
     ]
    },
    {
     "data": {
      "text/html": [
       "\n",
       "        <p>Loss: 0.0229   24000 / 24000</p>\n",
       "        <progress value='24000' max='24000', style='width: 100%'>24000</progress>\n",
       "    "
      ],
      "text/plain": [
       "<IPython.core.display.HTML object>"
      ]
     },
     "metadata": {
      "tags": []
     },
     "output_type": "display_data"
    },
    {
     "name": "stdout",
     "output_type": "stream",
     "text": [
      "Training Loss:  0.0229\n",
      "Training accuracy: 99.1458%\n"
     ]
    },
    {
     "data": {
      "text/html": [
       "\n",
       "        <p>Loss: 0.0212   8000 / 8000</p>\n",
       "        <progress value='8000' max='8000', style='width: 100%'>8000</progress>\n",
       "    "
      ],
      "text/plain": [
       "<IPython.core.display.HTML object>"
      ]
     },
     "metadata": {
      "tags": []
     },
     "output_type": "display_data"
    },
    {
     "name": "stdout",
     "output_type": "stream",
     "text": [
      "Validation Loss:  0.0212\n",
      "Validation accuracy: 99.1625%\n",
      "\"Best Loss\": 0.021208668925932476\n",
      "\n",
      "Validation Loss has gone up 0 times.\n",
      "\n"
     ]
    },
    {
     "data": {
      "text/html": [
       "\n",
       "        <p>Loss: 0.0164   24000 / 24000</p>\n",
       "        <progress value='24000' max='24000', style='width: 100%'>24000</progress>\n",
       "    "
      ],
      "text/plain": [
       "<IPython.core.display.HTML object>"
      ]
     },
     "metadata": {
      "tags": []
     },
     "output_type": "display_data"
    },
    {
     "name": "stdout",
     "output_type": "stream",
     "text": [
      "Epoch:  3\n",
      "Training loss: 0.0164\n"
     ]
    },
    {
     "data": {
      "text/html": [
       "\n",
       "        <p>Loss: 0.0122   24000 / 24000</p>\n",
       "        <progress value='24000' max='24000', style='width: 100%'>24000</progress>\n",
       "    "
      ],
      "text/plain": [
       "<IPython.core.display.HTML object>"
      ]
     },
     "metadata": {
      "tags": []
     },
     "output_type": "display_data"
    },
    {
     "name": "stdout",
     "output_type": "stream",
     "text": [
      "Training Loss:  0.0122\n",
      "Training accuracy: 99.3708%\n"
     ]
    },
    {
     "data": {
      "text/html": [
       "\n",
       "        <p>Loss: 0.0102   8000 / 8000</p>\n",
       "        <progress value='8000' max='8000', style='width: 100%'>8000</progress>\n",
       "    "
      ],
      "text/plain": [
       "<IPython.core.display.HTML object>"
      ]
     },
     "metadata": {
      "tags": []
     },
     "output_type": "display_data"
    },
    {
     "name": "stdout",
     "output_type": "stream",
     "text": [
      "Validation Loss:  0.0102\n",
      "Validation accuracy: 99.3875%\n",
      "\"Best Loss\": 0.0101682975489114\n",
      "\n",
      "Validation Loss has gone up 0 times.\n",
      "\n"
     ]
    },
    {
     "data": {
      "text/html": [
       "\n",
       "        <p>Loss: 0.0113   24000 / 24000</p>\n",
       "        <progress value='24000' max='24000', style='width: 100%'>24000</progress>\n",
       "    "
      ],
      "text/plain": [
       "<IPython.core.display.HTML object>"
      ]
     },
     "metadata": {
      "tags": []
     },
     "output_type": "display_data"
    },
    {
     "name": "stdout",
     "output_type": "stream",
     "text": [
      "Epoch:  4\n",
      "Training loss: 0.0113\n"
     ]
    },
    {
     "data": {
      "text/html": [
       "\n",
       "        <p>Loss: 0.0086   24000 / 24000</p>\n",
       "        <progress value='24000' max='24000', style='width: 100%'>24000</progress>\n",
       "    "
      ],
      "text/plain": [
       "<IPython.core.display.HTML object>"
      ]
     },
     "metadata": {
      "tags": []
     },
     "output_type": "display_data"
    },
    {
     "name": "stdout",
     "output_type": "stream",
     "text": [
      "Training Loss:  0.0086\n",
      "Training accuracy: 99.3542%\n"
     ]
    },
    {
     "data": {
      "text/html": [
       "\n",
       "        <p>Loss: 0.0071   8000 / 8000</p>\n",
       "        <progress value='8000' max='8000', style='width: 100%'>8000</progress>\n",
       "    "
      ],
      "text/plain": [
       "<IPython.core.display.HTML object>"
      ]
     },
     "metadata": {
      "tags": []
     },
     "output_type": "display_data"
    },
    {
     "name": "stdout",
     "output_type": "stream",
     "text": [
      "Validation Loss:  0.0071\n",
      "Validation accuracy: 99.5625%\n",
      "\"Best Loss\": 0.007134441001754667\n",
      "\n",
      "Validation Loss has gone up 0 times.\n",
      "\n"
     ]
    },
    {
     "data": {
      "text/html": [
       "\n",
       "        <p>Loss: 0.0084   24000 / 24000</p>\n",
       "        <progress value='24000' max='24000', style='width: 100%'>24000</progress>\n",
       "    "
      ],
      "text/plain": [
       "<IPython.core.display.HTML object>"
      ]
     },
     "metadata": {
      "tags": []
     },
     "output_type": "display_data"
    },
    {
     "name": "stdout",
     "output_type": "stream",
     "text": [
      "Epoch:  5\n",
      "Training loss: 0.0084\n"
     ]
    },
    {
     "data": {
      "text/html": [
       "\n",
       "        <p>Loss: 0.0076   24000 / 24000</p>\n",
       "        <progress value='24000' max='24000', style='width: 100%'>24000</progress>\n",
       "    "
      ],
      "text/plain": [
       "<IPython.core.display.HTML object>"
      ]
     },
     "metadata": {
      "tags": []
     },
     "output_type": "display_data"
    },
    {
     "name": "stdout",
     "output_type": "stream",
     "text": [
      "Training Loss:  0.0076\n",
      "Training accuracy: 99.4792%\n"
     ]
    },
    {
     "data": {
      "text/html": [
       "\n",
       "        <p>Loss: 0.0065   8000 / 8000</p>\n",
       "        <progress value='8000' max='8000', style='width: 100%'>8000</progress>\n",
       "    "
      ],
      "text/plain": [
       "<IPython.core.display.HTML object>"
      ]
     },
     "metadata": {
      "tags": []
     },
     "output_type": "display_data"
    },
    {
     "name": "stdout",
     "output_type": "stream",
     "text": [
      "Validation Loss:  0.0065\n",
      "Validation accuracy: 99.5250%\n",
      "\"Best Loss\": 0.0065249792994960904\n",
      "\n",
      "Validation Loss has gone up 0 times.\n",
      "\n"
     ]
    },
    {
     "data": {
      "text/html": [
       "\n",
       "        <p>Loss: 0.0072   24000 / 24000</p>\n",
       "        <progress value='24000' max='24000', style='width: 100%'>24000</progress>\n",
       "    "
      ],
      "text/plain": [
       "<IPython.core.display.HTML object>"
      ]
     },
     "metadata": {
      "tags": []
     },
     "output_type": "display_data"
    },
    {
     "name": "stdout",
     "output_type": "stream",
     "text": [
      "Epoch:  6\n",
      "Training loss: 0.0072\n"
     ]
    },
    {
     "data": {
      "text/html": [
       "\n",
       "        <p>Loss: 0.0060   24000 / 24000</p>\n",
       "        <progress value='24000' max='24000', style='width: 100%'>24000</progress>\n",
       "    "
      ],
      "text/plain": [
       "<IPython.core.display.HTML object>"
      ]
     },
     "metadata": {
      "tags": []
     },
     "output_type": "display_data"
    },
    {
     "name": "stdout",
     "output_type": "stream",
     "text": [
      "Training Loss:  0.006\n",
      "Training accuracy: 99.4792%\n"
     ]
    },
    {
     "data": {
      "text/html": [
       "\n",
       "        <p>Loss: 0.0051   8000 / 8000</p>\n",
       "        <progress value='8000' max='8000', style='width: 100%'>8000</progress>\n",
       "    "
      ],
      "text/plain": [
       "<IPython.core.display.HTML object>"
      ]
     },
     "metadata": {
      "tags": []
     },
     "output_type": "display_data"
    },
    {
     "name": "stdout",
     "output_type": "stream",
     "text": [
      "Validation Loss:  0.0051\n",
      "Validation accuracy: 99.5625%\n",
      "\"Best Loss\": 0.005149718083899527\n",
      "\n",
      "Validation Loss has gone up 0 times.\n",
      "\n"
     ]
    },
    {
     "data": {
      "text/html": [
       "\n",
       "        <p>Loss: 0.0065   24000 / 24000</p>\n",
       "        <progress value='24000' max='24000', style='width: 100%'>24000</progress>\n",
       "    "
      ],
      "text/plain": [
       "<IPython.core.display.HTML object>"
      ]
     },
     "metadata": {
      "tags": []
     },
     "output_type": "display_data"
    },
    {
     "name": "stdout",
     "output_type": "stream",
     "text": [
      "Epoch:  7\n",
      "Training loss: 0.0065\n"
     ]
    },
    {
     "data": {
      "text/html": [
       "\n",
       "        <p>Loss: 0.0059   24000 / 24000</p>\n",
       "        <progress value='24000' max='24000', style='width: 100%'>24000</progress>\n",
       "    "
      ],
      "text/plain": [
       "<IPython.core.display.HTML object>"
      ]
     },
     "metadata": {
      "tags": []
     },
     "output_type": "display_data"
    },
    {
     "name": "stdout",
     "output_type": "stream",
     "text": [
      "Training Loss:  0.0059\n",
      "Training accuracy: 99.4500%\n"
     ]
    },
    {
     "data": {
      "text/html": [
       "\n",
       "        <p>Loss: 0.0047   8000 / 8000</p>\n",
       "        <progress value='8000' max='8000', style='width: 100%'>8000</progress>\n",
       "    "
      ],
      "text/plain": [
       "<IPython.core.display.HTML object>"
      ]
     },
     "metadata": {
      "tags": []
     },
     "output_type": "display_data"
    },
    {
     "name": "stdout",
     "output_type": "stream",
     "text": [
      "Validation Loss:  0.0047\n",
      "Validation accuracy: 99.5000%\n",
      "\"Best Loss\": 0.004654205435635671\n",
      "\n",
      "Validation Loss has gone up 0 times.\n",
      "\n"
     ]
    },
    {
     "data": {
      "text/html": [
       "\n",
       "        <p>Loss: 0.0055   24000 / 24000</p>\n",
       "        <progress value='24000' max='24000', style='width: 100%'>24000</progress>\n",
       "    "
      ],
      "text/plain": [
       "<IPython.core.display.HTML object>"
      ]
     },
     "metadata": {
      "tags": []
     },
     "output_type": "display_data"
    },
    {
     "name": "stdout",
     "output_type": "stream",
     "text": [
      "Epoch:  8\n",
      "Training loss: 0.0055\n"
     ]
    },
    {
     "data": {
      "text/html": [
       "\n",
       "        <p>Loss: 0.0064   24000 / 24000</p>\n",
       "        <progress value='24000' max='24000', style='width: 100%'>24000</progress>\n",
       "    "
      ],
      "text/plain": [
       "<IPython.core.display.HTML object>"
      ]
     },
     "metadata": {
      "tags": []
     },
     "output_type": "display_data"
    },
    {
     "name": "stdout",
     "output_type": "stream",
     "text": [
      "Training Loss:  0.0064\n",
      "Training accuracy: 99.4542%\n"
     ]
    },
    {
     "data": {
      "text/html": [
       "\n",
       "        <p>Loss: 0.0057   8000 / 8000</p>\n",
       "        <progress value='8000' max='8000', style='width: 100%'>8000</progress>\n",
       "    "
      ],
      "text/plain": [
       "<IPython.core.display.HTML object>"
      ]
     },
     "metadata": {
      "tags": []
     },
     "output_type": "display_data"
    },
    {
     "name": "stdout",
     "output_type": "stream",
     "text": [
      "Validation Loss:  0.0057\n",
      "Validation accuracy: 99.5000%\n",
      "Validation Loss has gone up 1 times.\n",
      "\n"
     ]
    },
    {
     "data": {
      "text/html": [
       "\n",
       "        <p>Loss: 0.0051   24000 / 24000</p>\n",
       "        <progress value='24000' max='24000', style='width: 100%'>24000</progress>\n",
       "    "
      ],
      "text/plain": [
       "<IPython.core.display.HTML object>"
      ]
     },
     "metadata": {
      "tags": []
     },
     "output_type": "display_data"
    },
    {
     "name": "stdout",
     "output_type": "stream",
     "text": [
      "Epoch:  9\n",
      "Training loss: 0.0051\n"
     ]
    },
    {
     "data": {
      "text/html": [
       "\n",
       "        <p>Loss: 0.0054   24000 / 24000</p>\n",
       "        <progress value='24000' max='24000', style='width: 100%'>24000</progress>\n",
       "    "
      ],
      "text/plain": [
       "<IPython.core.display.HTML object>"
      ]
     },
     "metadata": {
      "tags": []
     },
     "output_type": "display_data"
    },
    {
     "name": "stdout",
     "output_type": "stream",
     "text": [
      "Training Loss:  0.0054\n",
      "Training accuracy: 99.4708%\n"
     ]
    },
    {
     "data": {
      "text/html": [
       "\n",
       "        <p>Loss: 0.0046   8000 / 8000</p>\n",
       "        <progress value='8000' max='8000', style='width: 100%'>8000</progress>\n",
       "    "
      ],
      "text/plain": [
       "<IPython.core.display.HTML object>"
      ]
     },
     "metadata": {
      "tags": []
     },
     "output_type": "display_data"
    },
    {
     "name": "stdout",
     "output_type": "stream",
     "text": [
      "Validation Loss:  0.0046\n",
      "Validation accuracy: 99.6000%\n",
      "\"Best Loss\": 0.004600205878165388\n",
      "\n",
      "Validation Loss has gone up 0 times.\n",
      "\n"
     ]
    },
    {
     "data": {
      "text/html": [
       "\n",
       "        <p>Loss: 0.0049   24000 / 24000</p>\n",
       "        <progress value='24000' max='24000', style='width: 100%'>24000</progress>\n",
       "    "
      ],
      "text/plain": [
       "<IPython.core.display.HTML object>"
      ]
     },
     "metadata": {
      "tags": []
     },
     "output_type": "display_data"
    },
    {
     "name": "stdout",
     "output_type": "stream",
     "text": [
      "Epoch:  10\n",
      "Training loss: 0.0049\n"
     ]
    },
    {
     "data": {
      "text/html": [
       "\n",
       "        <p>Loss: 0.0048   24000 / 24000</p>\n",
       "        <progress value='24000' max='24000', style='width: 100%'>24000</progress>\n",
       "    "
      ],
      "text/plain": [
       "<IPython.core.display.HTML object>"
      ]
     },
     "metadata": {
      "tags": []
     },
     "output_type": "display_data"
    },
    {
     "name": "stdout",
     "output_type": "stream",
     "text": [
      "Training Loss:  0.0048\n",
      "Training accuracy: 99.5542%\n"
     ]
    },
    {
     "data": {
      "text/html": [
       "\n",
       "        <p>Loss: 0.0042   8000 / 8000</p>\n",
       "        <progress value='8000' max='8000', style='width: 100%'>8000</progress>\n",
       "    "
      ],
      "text/plain": [
       "<IPython.core.display.HTML object>"
      ]
     },
     "metadata": {
      "tags": []
     },
     "output_type": "display_data"
    },
    {
     "name": "stdout",
     "output_type": "stream",
     "text": [
      "Validation Loss:  0.0042\n",
      "Validation accuracy: 99.5875%\n",
      "\"Best Loss\": 0.004168719736977467\n",
      "\n",
      "Validation Loss has gone up 0 times.\n",
      "\n"
     ]
    },
    {
     "data": {
      "text/html": [
       "\n",
       "        <p>Loss: 0.0045   24000 / 24000</p>\n",
       "        <progress value='24000' max='24000', style='width: 100%'>24000</progress>\n",
       "    "
      ],
      "text/plain": [
       "<IPython.core.display.HTML object>"
      ]
     },
     "metadata": {
      "tags": []
     },
     "output_type": "display_data"
    },
    {
     "name": "stdout",
     "output_type": "stream",
     "text": [
      "Epoch:  11\n",
      "Training loss: 0.0045\n"
     ]
    },
    {
     "data": {
      "text/html": [
       "\n",
       "        <p>Loss: 0.0043   24000 / 24000</p>\n",
       "        <progress value='24000' max='24000', style='width: 100%'>24000</progress>\n",
       "    "
      ],
      "text/plain": [
       "<IPython.core.display.HTML object>"
      ]
     },
     "metadata": {
      "tags": []
     },
     "output_type": "display_data"
    },
    {
     "name": "stdout",
     "output_type": "stream",
     "text": [
      "Training Loss:  0.0043\n",
      "Training accuracy: 99.5125%\n"
     ]
    },
    {
     "data": {
      "text/html": [
       "\n",
       "        <p>Loss: 0.0034   8000 / 8000</p>\n",
       "        <progress value='8000' max='8000', style='width: 100%'>8000</progress>\n",
       "    "
      ],
      "text/plain": [
       "<IPython.core.display.HTML object>"
      ]
     },
     "metadata": {
      "tags": []
     },
     "output_type": "display_data"
    },
    {
     "name": "stdout",
     "output_type": "stream",
     "text": [
      "Validation Loss:  0.0034\n",
      "Validation accuracy: 99.5750%\n",
      "\"Best Loss\": 0.0033508189556573234\n",
      "\n",
      "Validation Loss has gone up 0 times.\n",
      "\n"
     ]
    },
    {
     "data": {
      "text/html": [
       "\n",
       "        <p>Loss: 0.0047   24000 / 24000</p>\n",
       "        <progress value='24000' max='24000', style='width: 100%'>24000</progress>\n",
       "    "
      ],
      "text/plain": [
       "<IPython.core.display.HTML object>"
      ]
     },
     "metadata": {
      "tags": []
     },
     "output_type": "display_data"
    },
    {
     "name": "stdout",
     "output_type": "stream",
     "text": [
      "Epoch:  12\n",
      "Training loss: 0.0047\n"
     ]
    },
    {
     "data": {
      "text/html": [
       "\n",
       "        <p>Loss: 0.0039   24000 / 24000</p>\n",
       "        <progress value='24000' max='24000', style='width: 100%'>24000</progress>\n",
       "    "
      ],
      "text/plain": [
       "<IPython.core.display.HTML object>"
      ]
     },
     "metadata": {
      "tags": []
     },
     "output_type": "display_data"
    },
    {
     "name": "stdout",
     "output_type": "stream",
     "text": [
      "Training Loss:  0.0039\n",
      "Training accuracy: 99.4833%\n"
     ]
    },
    {
     "data": {
      "text/html": [
       "\n",
       "        <p>Loss: 0.0031   8000 / 8000</p>\n",
       "        <progress value='8000' max='8000', style='width: 100%'>8000</progress>\n",
       "    "
      ],
      "text/plain": [
       "<IPython.core.display.HTML object>"
      ]
     },
     "metadata": {
      "tags": []
     },
     "output_type": "display_data"
    },
    {
     "name": "stdout",
     "output_type": "stream",
     "text": [
      "Validation Loss:  0.0031\n",
      "Validation accuracy: 99.5375%\n",
      "\"Best Loss\": 0.0031171333347816783\n",
      "\n",
      "Validation Loss has gone up 0 times.\n",
      "\n"
     ]
    },
    {
     "data": {
      "text/html": [
       "\n",
       "        <p>Loss: 0.0042   24000 / 24000</p>\n",
       "        <progress value='24000' max='24000', style='width: 100%'>24000</progress>\n",
       "    "
      ],
      "text/plain": [
       "<IPython.core.display.HTML object>"
      ]
     },
     "metadata": {
      "tags": []
     },
     "output_type": "display_data"
    },
    {
     "name": "stdout",
     "output_type": "stream",
     "text": [
      "Epoch:  13\n",
      "Training loss: 0.0042\n"
     ]
    },
    {
     "data": {
      "text/html": [
       "\n",
       "        <p>Loss: 0.0037   24000 / 24000</p>\n",
       "        <progress value='24000' max='24000', style='width: 100%'>24000</progress>\n",
       "    "
      ],
      "text/plain": [
       "<IPython.core.display.HTML object>"
      ]
     },
     "metadata": {
      "tags": []
     },
     "output_type": "display_data"
    },
    {
     "name": "stdout",
     "output_type": "stream",
     "text": [
      "Training Loss:  0.0037\n",
      "Training accuracy: 99.5000%\n"
     ]
    },
    {
     "data": {
      "text/html": [
       "\n",
       "        <p>Loss: 0.0029   8000 / 8000</p>\n",
       "        <progress value='8000' max='8000', style='width: 100%'>8000</progress>\n",
       "    "
      ],
      "text/plain": [
       "<IPython.core.display.HTML object>"
      ]
     },
     "metadata": {
      "tags": []
     },
     "output_type": "display_data"
    },
    {
     "name": "stdout",
     "output_type": "stream",
     "text": [
      "Validation Loss:  0.0029\n",
      "Validation accuracy: 99.6500%\n",
      "\"Best Loss\": 0.0028958722583151287\n",
      "\n",
      "Validation Loss has gone up 0 times.\n",
      "\n"
     ]
    },
    {
     "data": {
      "text/html": [
       "\n",
       "        <p>Loss: 0.0039   24000 / 24000</p>\n",
       "        <progress value='24000' max='24000', style='width: 100%'>24000</progress>\n",
       "    "
      ],
      "text/plain": [
       "<IPython.core.display.HTML object>"
      ]
     },
     "metadata": {
      "tags": []
     },
     "output_type": "display_data"
    },
    {
     "name": "stdout",
     "output_type": "stream",
     "text": [
      "Epoch:  14\n",
      "Training loss: 0.0039\n"
     ]
    },
    {
     "data": {
      "text/html": [
       "\n",
       "        <p>Loss: 0.0036   24000 / 24000</p>\n",
       "        <progress value='24000' max='24000', style='width: 100%'>24000</progress>\n",
       "    "
      ],
      "text/plain": [
       "<IPython.core.display.HTML object>"
      ]
     },
     "metadata": {
      "tags": []
     },
     "output_type": "display_data"
    },
    {
     "name": "stdout",
     "output_type": "stream",
     "text": [
      "Training Loss:  0.0036\n",
      "Training accuracy: 99.5333%\n"
     ]
    },
    {
     "data": {
      "text/html": [
       "\n",
       "        <p>Loss: 0.0027   8000 / 8000</p>\n",
       "        <progress value='8000' max='8000', style='width: 100%'>8000</progress>\n",
       "    "
      ],
      "text/plain": [
       "<IPython.core.display.HTML object>"
      ]
     },
     "metadata": {
      "tags": []
     },
     "output_type": "display_data"
    },
    {
     "name": "stdout",
     "output_type": "stream",
     "text": [
      "Validation Loss:  0.0027\n",
      "Validation accuracy: 99.5500%\n",
      "\"Best Loss\": 0.002721344214117539\n",
      "\n",
      "Validation Loss has gone up 0 times.\n",
      "\n"
     ]
    },
    {
     "data": {
      "text/html": [
       "\n",
       "        <p>Loss: 0.0040   24000 / 24000</p>\n",
       "        <progress value='24000' max='24000', style='width: 100%'>24000</progress>\n",
       "    "
      ],
      "text/plain": [
       "<IPython.core.display.HTML object>"
      ]
     },
     "metadata": {
      "tags": []
     },
     "output_type": "display_data"
    },
    {
     "name": "stdout",
     "output_type": "stream",
     "text": [
      "Epoch:  15\n",
      "Training loss: 0.004\n"
     ]
    },
    {
     "data": {
      "text/html": [
       "\n",
       "        <p>Loss: 0.0035   24000 / 24000</p>\n",
       "        <progress value='24000' max='24000', style='width: 100%'>24000</progress>\n",
       "    "
      ],
      "text/plain": [
       "<IPython.core.display.HTML object>"
      ]
     },
     "metadata": {
      "tags": []
     },
     "output_type": "display_data"
    },
    {
     "name": "stdout",
     "output_type": "stream",
     "text": [
      "Training Loss:  0.0035\n",
      "Training accuracy: 99.5708%\n"
     ]
    },
    {
     "data": {
      "text/html": [
       "\n",
       "        <p>Loss: 0.0028   8000 / 8000</p>\n",
       "        <progress value='8000' max='8000', style='width: 100%'>8000</progress>\n",
       "    "
      ],
      "text/plain": [
       "<IPython.core.display.HTML object>"
      ]
     },
     "metadata": {
      "tags": []
     },
     "output_type": "display_data"
    },
    {
     "name": "stdout",
     "output_type": "stream",
     "text": [
      "Validation Loss:  0.0028\n",
      "Validation accuracy: 99.5375%\n",
      "Validation Loss has gone up 1 times.\n",
      "\n"
     ]
    },
    {
     "data": {
      "text/html": [
       "\n",
       "        <p>Loss: 0.0037   24000 / 24000</p>\n",
       "        <progress value='24000' max='24000', style='width: 100%'>24000</progress>\n",
       "    "
      ],
      "text/plain": [
       "<IPython.core.display.HTML object>"
      ]
     },
     "metadata": {
      "tags": []
     },
     "output_type": "display_data"
    },
    {
     "name": "stdout",
     "output_type": "stream",
     "text": [
      "Epoch:  16\n",
      "Training loss: 0.0037\n"
     ]
    },
    {
     "data": {
      "text/html": [
       "\n",
       "        <p>Loss: 0.0036   24000 / 24000</p>\n",
       "        <progress value='24000' max='24000', style='width: 100%'>24000</progress>\n",
       "    "
      ],
      "text/plain": [
       "<IPython.core.display.HTML object>"
      ]
     },
     "metadata": {
      "tags": []
     },
     "output_type": "display_data"
    },
    {
     "name": "stdout",
     "output_type": "stream",
     "text": [
      "Training Loss:  0.0036\n",
      "Training accuracy: 99.5042%\n"
     ]
    },
    {
     "data": {
      "text/html": [
       "\n",
       "        <p>Loss: 0.0029   8000 / 8000</p>\n",
       "        <progress value='8000' max='8000', style='width: 100%'>8000</progress>\n",
       "    "
      ],
      "text/plain": [
       "<IPython.core.display.HTML object>"
      ]
     },
     "metadata": {
      "tags": []
     },
     "output_type": "display_data"
    },
    {
     "name": "stdout",
     "output_type": "stream",
     "text": [
      "Validation Loss:  0.0029\n",
      "Validation accuracy: 99.5125%\n",
      "Validation Loss has gone up 2 times.\n",
      "\n"
     ]
    }
   ],
   "source": [
    "def svm_lbls(T):\n",
    "    T[torch.nonzero((T < 0.0))] = 0\n",
    "    return T\n",
    "\n",
    "train_losses, valid_losses = train(svm_model, \n",
    "                                   optimizer, \n",
    "                                   criterion, \n",
    "                                   trn_dl, \n",
    "                                   val_dl,\n",
    "                                   model_name,\n",
    "                                   path,\n",
    "                                   acc_thresh=0.0,\n",
    "                                   label_transform=svm_lbls,\n",
    "                                   predicter=nn.Tanh())"
   ]
  },
  {
   "cell_type": "code",
   "execution_count": 15,
   "metadata": {
    "colab": {
     "base_uri": "https://localhost:8080/",
     "height": 116
    },
    "colab_type": "code",
    "id": "3AEusYoYvD3m",
    "outputId": "8eb44b44-7a3f-48e4-bfcf-7c40927acb27"
   },
   "outputs": [
    {
     "data": {
      "text/html": [
       "\n",
       "        <p>Loss: 0.0023   8000 / 8000</p>\n",
       "        <progress value='8000' max='8000', style='width: 100%'>8000</progress>\n",
       "    "
      ],
      "text/plain": [
       "<IPython.core.display.HTML object>"
      ]
     },
     "metadata": {
      "tags": []
     },
     "output_type": "display_data"
    },
    {
     "name": "stdout",
     "output_type": "stream",
     "text": [
      "Validation Loss:  0.0023\n",
      "Validation accuracy: 99.6125%\n"
     ]
    },
    {
     "data": {
      "text/plain": [
       "0.0022793708476311863"
      ]
     },
     "execution_count": 15,
     "metadata": {
      "tags": []
     },
     "output_type": "execute_result"
    }
   ],
   "source": [
    "test_losses = []\n",
    "evaluate(svm_model,\n",
    "         optimizer,\n",
    "         criterion,\n",
    "         0,\n",
    "         tst_dl,\n",
    "         test_losses,\n",
    "         \"\",\n",
    "         \"\",\n",
    "         acc_thresh=0.0,\n",
    "         label_transform=svm_lbls,\n",
    "         predicter=nn.Tanh(),\n",
    "         validation=False)"
   ]
  },
  {
   "cell_type": "code",
   "execution_count": 16,
   "metadata": {
    "colab": {
     "base_uri": "https://localhost:8080/",
     "height": 404
    },
    "colab_type": "code",
    "id": "UJsUtBUwrmeW",
    "outputId": "841ceaeb-b667-438b-eb31-3ecb9761e520"
   },
   "outputs": [
    {
     "data": {
      "image/png": "[encoded data removed]",
      "text/plain": [
       "<Figure size 720x432 with 1 Axes>"
      ]
     },
     "metadata": {
      "tags": []
     },
     "output_type": "display_data"
    }
   ],
   "source": [
    "epochs = range(1, len(train_losses) + 1)\n",
    "epoch_ticks = [i if i % 5 == 0 else 0 for i in epochs]\n",
    "    \n",
    "plt.figure(figsize=(10,6))\n",
    "plt.plot(epochs, train_losses, label='Training loss')\n",
    "plt.plot(epochs, valid_losses, label='Validation loss')\n",
    "plt.legend()\n",
    "plt.title('Learning curves')\n",
    "plt.xlabel('Epoch')\n",
    "plt.ylabel('Loss')\n",
    "plt.xticks(epoch_ticks)\n",
    "plt.show()"
   ]
  },
  {
   "cell_type": "code",
   "execution_count": null,
   "metadata": {
    "colab": {},
    "colab_type": "code",
    "id": "uzgC9YvV9foq"
   },
   "outputs": [],
   "source": [
    "full_dataloader = get_dataloaders(dataset=DeepFakeHDF5Dataset(), full_dataset=True)"
   ]
  },
  {
   "cell_type": "code",
   "execution_count": 18,
   "metadata": {
    "colab": {
     "base_uri": "https://localhost:8080/",
     "height": 35
    },
    "colab_type": "code",
    "id": "_kdXjvbBABLs",
    "outputId": "d4176e7e-ea07-4ad5-c14f-2744d5babc1c"
   },
   "outputs": [
    {
     "name": "stdout",
     "output_type": "stream",
     "text": [
      "torch.Size([40000, 725])\n"
     ]
    }
   ],
   "source": [
    "(x, y) = next(iter(full_dataloader))\n",
    "print(x.shape)"
   ]
  },
  {
   "cell_type": "code",
   "execution_count": 19,
   "metadata": {
    "colab": {
     "base_uri": "https://localhost:8080/",
     "height": 69
    },
    "colab_type": "code",
    "id": "xkGul8snDCr4",
    "outputId": "98a375a8-ed10-45bd-856b-6a056194ce37"
   },
   "outputs": [
    {
     "name": "stdout",
     "output_type": "stream",
     "text": [
      "K-means example with 40,000 points in dimension 725, K = 2:\n",
      "Timing for 50 iterations: 81.15923s = 50 x 1.62318s\n",
      "\n"
     ]
    }
   ],
   "source": [
    "# Manual Standardization\n",
    "from models import KMeans\n",
    "mu = torch.mean(x, dim=1).unsqueeze(-1)\n",
    "std = 1\n",
    "X = (x.sub(other=mu))/std\n",
    "cl, c = KMeans().run(X, K=2, Niter=50)"
   ]
  },
  {
   "cell_type": "code",
   "execution_count": 20,
   "metadata": {
    "colab": {
     "base_uri": "https://localhost:8080/",
     "height": 173
    },
    "colab_type": "code",
    "id": "x6mLjHp_HodB",
    "outputId": "0d7ca75a-086d-49ef-b0f9-44f831904a14"
   },
   "outputs": [
    {
     "name": "stdout",
     "output_type": "stream",
     "text": [
      "torch.Size([40000])\n",
      "torch.Size([2, 725])\n",
      "torch.Size([40000])\n",
      "tensor([0, 0, 1,  ..., 0, 1, 0])\n",
      "tensor([1, 1, 0,  ..., 1, 0, 1])\n",
      "tensor([-1, -1,  1,  ..., -1,  1, -1])\n",
      "torch.Size([40000])\n",
      "tensor([False, False, False,  ..., False, False, False])\n",
      "Accuracy: 0.961000 or 0.039000 \n"
     ]
    }
   ],
   "source": [
    "print(cl.size())\n",
    "print(c.size())\n",
    "y = y.squeeze(-1).long()\n",
    "print(y.size())\n",
    "print(cl)\n",
    "print(y)\n",
    "sub = (cl - y)\n",
    "print(sub)\n",
    "print(sub.size())\n",
    "print(cl == y)\n",
    "accuracy = 1 - torch.mean((cl == y).float())\n",
    "print(\"Accuracy: %f or %f \" % (accuracy, (1-accuracy)))"
   ]
  },
  {
   "cell_type": "code",
   "execution_count": 21,
   "metadata": {
    "colab": {
     "base_uri": "https://localhost:8080/",
     "height": 52
    },
    "colab_type": "code",
    "id": "QDlKzZ27NJ0B",
    "outputId": "90ea66f3-a5c3-4d16-da49-97c2a65cc0f7"
   },
   "outputs": [
    {
     "name": "stderr",
     "output_type": "stream",
     "text": [
      "[running kmeans]: 0it [00:00, ?it/s]"
     ]
    },
    {
     "name": "stdout",
     "output_type": "stream",
     "text": [
      "running k-means on cuda:0..\n"
     ]
    },
    {
     "name": "stderr",
     "output_type": "stream",
     "text": [
      "[running kmeans]: 9it [00:01,  7.74it/s, center_shift=0.000000, iteration=9, tol=0.000100]\n"
     ]
    }
   ],
   "source": [
    "# data\n",
    "(x, y) = next(iter(full_dataloader))\n",
    "data_size, dims, num_clusters = x.size(0), 2, 2\n",
    "mu = torch.mean(x, dim=1).unsqueeze(-1)\n",
    "std = 1\n",
    "X = (x.sub(other=mu))/std\n",
    "# kmeans\n",
    "cluster_ids_x, cluster_centers = kmeans(\n",
    "    X=X, num_clusters=num_clusters, distance='euclidean', device=torch.device('cuda:0')\n",
    ")"
   ]
  },
  {
   "cell_type": "code",
   "execution_count": 22,
   "metadata": {
    "colab": {
     "base_uri": "https://localhost:8080/",
     "height": 69
    },
    "colab_type": "code",
    "id": "CX6jeEH1N906",
    "outputId": "a5cbc7a6-2851-4f7c-d263-70fedeeadb34"
   },
   "outputs": [
    {
     "name": "stdout",
     "output_type": "stream",
     "text": [
      "torch.Size([40000])\n",
      "tensor([1, 1, 0,  ..., 0, 0, 1])\n",
      "Accuracy: 0.961000 or 0.039000 \n"
     ]
    }
   ],
   "source": [
    "\n",
    "print(cluster_ids_x.size())\n",
    "print(cluster_ids_x)\n",
    "y = y.squeeze(-1).long()\n",
    "accuracy = torch.mean((cluster_ids_x == y).float())\n",
    "print(\"Accuracy: %f or %f \" % (accuracy, (1-accuracy)))"
   ]
  },
  {
   "cell_type": "code",
   "execution_count": 23,
   "metadata": {
    "colab": {
     "base_uri": "https://localhost:8080/",
     "height": 87
    },
    "colab_type": "code",
    "id": "qQnuahSabWp0",
    "outputId": "a958a835-a24e-4a3f-90ec-95ea38241d50"
   },
   "outputs": [
    {
     "name": "stdout",
     "output_type": "stream",
     "text": [
      "(40000,)\n",
      "(40000,)\n",
      "(40000,)\n",
      "Average KM: 0.961 or 0.039\n"
     ]
    }
   ],
   "source": [
    "from sklearn.cluster import KMeans\n",
    "k = 2\n",
    "kmeans = KMeans(n_clusters=k)\n",
    "kmeans = kmeans.fit(X)\n",
    "labels = kmeans.predict(X)\n",
    "Y = y.squeeze(-1).numpy()\n",
    "print(Y.shape)\n",
    "print(labels.shape)\n",
    "res =labels+Y\n",
    "cont=0\n",
    "print(res.shape)\n",
    "for z in range(len(res)):\n",
    "    if res[z] == 1:\n",
    "        cont+=1\n",
    "print(\"Average KM: \" + str(1-cont/len(res)) + \" or \" + str(cont/len(res)))"
   ]
  },
  {
   "cell_type": "code",
   "execution_count": null,
   "metadata": {
    "colab": {},
    "colab_type": "code",
    "id": "9dGAwCcD26iA"
   },
   "outputs": [],
   "source": [
    "# import numpy as np\n",
    "# import matplotlib.pyplot as plt\n",
    "# import pickle\n",
    "\n",
    "# num = 5\n",
    "# LR = 0\n",
    "# SVM = 0\n",
    "# SVM_r = 0\n",
    "# SVM_p = 0\n",
    "\n",
    "\n",
    "# for z in range(num):\n",
    "#     # read python dict back from the file\n",
    "#     data = None\n",
    "#     lbls = None\n",
    "#     og_d = None\n",
    "#     with h5py.File(fhq_hdf5_pt, 'r') as hdf5_file: \n",
    "#         data = hdf5_file['fft_data'][:]\n",
    "#         lbls = hdf5_file['lbl_data'][:]\n",
    "#         og_d = hdf5_file['orgn_data'][:]\n",
    "\n",
    "#     X = data \n",
    "#     y = lbls \n",
    "\n",
    "\n",
    "#     try:\n",
    "\n",
    "#         from sklearn.model_selection import train_test_split\n",
    "#         X_train, X_test, y_train, y_test = train_test_split(X, y, test_size = 0.2)\n",
    "\n",
    "#         from sklearn.svm import SVC\n",
    "#         svclassifier = SVC(kernel='linear')\n",
    "#         svclassifier.fit(X_train, y_train)\n",
    "#         #print('Accuracy on test set: {:.3f}'.format(svclassifier.score(X_test, y_test)))\n",
    "               \n",
    "#         from sklearn.svm import SVC\n",
    "#         svclassifier_r = SVC(C=3.1, kernel='rbf', gamma=0.00002)\n",
    "#         svclassifier_r.fit(X_train, y_train)\n",
    "#         #print('Accuracy on test set: {:.3f}'.format(svclassifier_r.score(X_test, y_test)))\n",
    "                \n",
    "#         from sklearn.svm import SVC\n",
    "#         svclassifier_p = SVC(kernel='poly')\n",
    "#         svclassifier_p.fit(X_train, y_train)\n",
    "#         #print('Accuracy on test set: {:.3f}'.format(svclassifier_p.score(X_test, y_test)))\n",
    "        \n",
    "#         from sklearn.linear_model import LogisticRegression\n",
    "#         logreg = LogisticRegression(solver='liblinear', max_iter=1000)\n",
    "#         logreg.fit(X_train, y_train)\n",
    "#         #print('Accuracy on test set: {:.3f}'.format(logreg.score(X_test, y_test)))\n",
    "\n",
    "        \n",
    "#         SVM+=svclassifier.score(X_test, y_test)\n",
    "#         SVM_r+=svclassifier_r.score(X_test, y_test)\n",
    "#         SVM_p+=svclassifier_p.score(X_test, y_test)\n",
    "#         LR+=logreg.score(X_test, y_test)\n",
    "\n",
    " \n",
    "#     except:\n",
    "#         num-=1\n",
    "#         print(num)\n",
    "    \n",
    "# print(\"Average SVM: \"+str(SVM/num))\n",
    "# print(\"Average SVM_r: \"+str(SVM_r/num))\n",
    "# print(\"Average SVM_p: \"+str(SVM_p/num))\n",
    "# print(\"Average LR: \"+str(LR/num))"
   ]
  },
  {
   "cell_type": "code",
   "execution_count": null,
   "metadata": {
    "colab": {},
    "colab_type": "code",
    "id": "_qo70U6j-HQk"
   },
   "outputs": [],
   "source": []
  }
 ],
 "metadata": {
  "accelerator": "GPU",
  "colab": {
   "authorship_tag": "ABX9TyMGw8pic1FqoXbB5dh4XY+h",
   "collapsed_sections": [],
   "include_colab_link": true,
   "machine_shape": "hm",
   "mount_file_id": "https://github.com/avilaJorge/CSE253_FinalProject/blob/master/DeepFakeDetectionModel.ipynb",
   "name": "DeepFakeDetectionModel",
   "provenance": []
  },
  "kernelspec": {
   "display_name": "Python 3",
   "language": "python",
   "name": "python3"
  },
  "language_info": {
   "codemirror_mode": {
    "name": "ipython",
    "version": 3
   },
   "file_extension": ".py",
   "mimetype": "text/x-python",
   "name": "python",
   "nbconvert_exporter": "python",
   "pygments_lexer": "ipython3",
   "version": "3.7.4"
  }
 },
 "nbformat": 4,
 "nbformat_minor": 4
}
