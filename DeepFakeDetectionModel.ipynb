{
  "nbformat": 4,
  "nbformat_minor": 0,
  "metadata": {
    "accelerator": "GPU",
    "colab": {
      "name": "DeepFakeDetectionModel.ipynb",
      "provenance": [],
      "collapsed_sections": [],
      "machine_shape": "hm",
      "include_colab_link": true
    },
    "kernelspec": {
      "name": "python3",
      "display_name": "Python 3"
    },
    "language_info": {
      "codemirror_mode": {
        "name": "ipython",
        "version": 3
      },
      "file_extension": ".py",
      "mimetype": "text/x-python",
      "name": "python",
      "nbconvert_exporter": "python",
      "pygments_lexer": "ipython3",
      "version": "3.7.4"
    }
  },
  "cells": [
    {
      "cell_type": "markdown",
      "metadata": {
        "id": "view-in-github",
        "colab_type": "text"
      },
      "source": [
        "<a href=\"https://colab.research.google.com/github/avilaJorge/CSE253_FinalProject/blob/master/DeepFakeDetectionModel.ipynb\" target=\"_parent\"><img src=\"https://colab.research.google.com/assets/colab-badge.svg\" alt=\"Open In Colab\"/></a>"
      ]
    },
    {
      "cell_type": "code",
      "metadata": {
        "colab_type": "code",
        "id": "boe54s6OzmGv",
        "colab": {
          "base_uri": "https://localhost:8080/",
          "height": 208
        },
        "outputId": "ea2189dd-2a86-4484-a021-99299066f472"
      },
      "source": [
        "# !rm -R ./Logistic_Regression/*\n",
        "# !mkdir Linear_Regression\n",
        "# !rm -R ./sample_data\n",
        "# !wget https://storage.googleapis.com/img-hosting-bucket/Faces_HQ.hdf5"
      ],
      "execution_count": 1,
      "outputs": [
        {
          "output_type": "stream",
          "text": [
            "--2020-03-14 06:26:23--  https://storage.googleapis.com/img-hosting-bucket/Faces_HQ.hdf5\n",
            "Resolving storage.googleapis.com (storage.googleapis.com)... 74.125.31.128, 2607:f8b0:400c:c07::80\n",
            "Connecting to storage.googleapis.com (storage.googleapis.com)|74.125.31.128|:443... connected.\n",
            "HTTP request sent, awaiting response... 200 OK\n",
            "Length: 116322048 (111M) [application/octet-stream]\n",
            "Saving to: ‘Faces_HQ.hdf5’\n",
            "\n",
            "Faces_HQ.hdf5       100%[===================>] 110.93M   102MB/s    in 1.1s    \n",
            "\n",
            "2020-03-14 06:26:25 (102 MB/s) - ‘Faces_HQ.hdf5’ saved [116322048/116322048]\n",
            "\n"
          ],
          "name": "stdout"
        }
      ]
    },
    {
      "cell_type": "code",
      "metadata": {
        "colab_type": "code",
        "id": "YylQ7_8dYB_m",
        "colab": {}
      },
      "source": [
        "!cp *.py /content/drive/My\\ Drive/CSE\\ 253/PA5/PyFiles\n",
        "!cp *.ipynb /content/drive/My\\ Drive/CSE\\ 253/PA5/PyFiles"
      ],
      "execution_count": 0,
      "outputs": []
    },
    {
      "cell_type": "code",
      "metadata": {
        "colab_type": "code",
        "id": "fJEugQ-VE0sf",
        "colab": {}
      },
      "source": [
        "# !wget https://storage.googleapis.com/img-hosting-bucket/Faces_HQ.hdf5"
      ],
      "execution_count": 0,
      "outputs": []
    },
    {
      "cell_type": "code",
      "metadata": {
        "colab_type": "code",
        "id": "T0CbUfjOFfnJ",
        "outputId": "c7d1a1d4-47d6-49ca-a03b-dd54263d6ae8",
        "colab": {
          "base_uri": "https://localhost:8080/",
          "height": 312
        }
      },
      "source": [
        "gpu_info = !nvidia-smi\n",
        "gpu_info = '\\n'.join(gpu_info)\n",
        "if gpu_info.find('failed') >= 0:\n",
        "  print('Select the Runtime → \"Change runtime type\" menu to enable a GPU accelerator, ')\n",
        "  print('and then re-execute this cell.')\n",
        "else:\n",
        "  print(gpu_info)"
      ],
      "execution_count": 1,
      "outputs": [
        {
          "output_type": "stream",
          "text": [
            "Sat Mar 14 06:33:04 2020       \n",
            "+-----------------------------------------------------------------------------+\n",
            "| NVIDIA-SMI 440.59       Driver Version: 418.67       CUDA Version: 10.1     |\n",
            "|-------------------------------+----------------------+----------------------+\n",
            "| GPU  Name        Persistence-M| Bus-Id        Disp.A | Volatile Uncorr. ECC |\n",
            "| Fan  Temp  Perf  Pwr:Usage/Cap|         Memory-Usage | GPU-Util  Compute M. |\n",
            "|===============================+======================+======================|\n",
            "|   0  Tesla P100-PCIE...  Off  | 00000000:00:04.0 Off |                    0 |\n",
            "| N/A   39C    P0    28W / 250W |      0MiB / 16280MiB |      0%      Default |\n",
            "+-------------------------------+----------------------+----------------------+\n",
            "                                                                               \n",
            "+-----------------------------------------------------------------------------+\n",
            "| Processes:                                                       GPU Memory |\n",
            "|  GPU       PID   Type   Process name                             Usage      |\n",
            "|=============================================================================|\n",
            "|  No running processes found                                                 |\n",
            "+-----------------------------------------------------------------------------+\n"
          ],
          "name": "stdout"
        }
      ]
    },
    {
      "cell_type": "code",
      "metadata": {
        "colab_type": "code",
        "id": "6pR6L5w39m4U",
        "colab": {}
      },
      "source": [
        "%run DeepFake_Dataloader.py\n",
        "%run utils.py"
      ],
      "execution_count": 0,
      "outputs": []
    },
    {
      "cell_type": "code",
      "metadata": {
        "colab_type": "code",
        "id": "-HZyhY_V9t11",
        "outputId": "513c5983-cb44-4ac5-8400-c7198680c00d",
        "colab": {
          "base_uri": "https://localhost:8080/",
          "height": 35
        }
      },
      "source": [
        "# imports pytorch\n",
        "import torch\n",
        "import torch.nn as nn\n",
        "import torchvision.transforms as transforms\n",
        "from torch.utils.data import Dataset, DataLoader\n",
        "\n",
        "# Numpy, Matplotlib, and PIL\n",
        "import numpy as np\n",
        "import matplotlib.pyplot as plt\n",
        "\n",
        "# K-means import\n",
        "# !pip install pykeops\n",
        "from pykeops.torch import LazyTensor\n",
        "!pip install kmeans-pytorch\n",
        "from kmeans_pytorch import kmeans\n",
        "\n",
        "# general imports\n",
        "import pprint\n",
        "\n",
        "# My imports\n",
        "from DeepFake_Dataloader import get_dataloaders\n",
        "from models import LinearRegression, save_model, SVM, KMeans\n",
        "from utils import RunningAverage\n",
        "from train import train, evaluate\n",
        "\n",
        "device = torch.device(\"cuda:0\" if torch.cuda.is_available() else \"cpu\")"
      ],
      "execution_count": 2,
      "outputs": [
        {
          "output_type": "stream",
          "text": [
            "Requirement already satisfied: kmeans-pytorch in /usr/local/lib/python3.6/dist-packages (0.3)\n"
          ],
          "name": "stdout"
        }
      ]
    },
    {
      "cell_type": "code",
      "metadata": {
        "colab_type": "code",
        "id": "v1JJsL9H9t14",
        "colab": {}
      },
      "source": [
        "trn_dl, val_dl, tst_dl = get_dataloaders(dataset=DeepFakeHDF5Dataset)"
      ],
      "execution_count": 0,
      "outputs": []
    },
    {
      "cell_type": "code",
      "metadata": {
        "colab_type": "code",
        "id": "ftr4FTkt9m4b",
        "colab": {}
      },
      "source": [
        "s_epoch      = 1\n",
        "num_epochs   = 300\n",
        "lr_rate      = 1e-2\n",
        "load_model   = False\n",
        "model_name   = 'LogisticRegressionModel'\n",
        "path         = '/content/Logistic_Regression'\n",
        "\n",
        "lr_model = LinearRegression(725).to(device)\n",
        "criterion = torch.nn.BCEWithLogitsLoss()\n",
        "optimizer = torch.optim.SGD(lr_model.parameters(), lr=lr_rate, weight_decay=1e-3, momentum=0.9)\n",
        "\n",
        "if load_model:\n",
        "    lr_model.load_state_dict(torch.load(''))"
      ],
      "execution_count": 0,
      "outputs": []
    },
    {
      "cell_type": "code",
      "metadata": {
        "colab_type": "code",
        "id": "mLc_eMyB9m4f",
        "outputId": "98de6076-a860-4fe9-cc7a-3b511e5cc998",
        "colab": {
          "base_uri": "https://localhost:8080/",
          "height": 1000
        }
      },
      "source": [
        "\n",
        "train_losses, valid_losses = train(lr_model, \n",
        "                                   optimizer, \n",
        "                                   criterion, \n",
        "                                   trn_dl, \n",
        "                                   val_dl,\n",
        "                                   model_name,\n",
        "                                   path,\n",
        "                                   predicter=torch.nn.Sigmoid())"
      ],
      "execution_count": 5,
      "outputs": [
        {
          "output_type": "display_data",
          "data": {
            "text/html": [
              "\n",
              "        <p>Loss: 0.0971   24000 / 24000</p>\n",
              "        <progress value='24000' max='24000', style='width: 100%'>24000</progress>\n",
              "    "
            ],
            "text/plain": [
              "<IPython.core.display.HTML object>"
            ]
          },
          "metadata": {
            "tags": []
          }
        },
        {
          "output_type": "stream",
          "text": [
            "Epoch:  1\n",
            "Training loss: 0.0971\n"
          ],
          "name": "stdout"
        },
        {
          "output_type": "display_data",
          "data": {
            "text/html": [
              "\n",
              "        <p>Loss: 0.0392   24000 / 24000</p>\n",
              "        <progress value='24000' max='24000', style='width: 100%'>24000</progress>\n",
              "    "
            ],
            "text/plain": [
              "<IPython.core.display.HTML object>"
            ]
          },
          "metadata": {
            "tags": []
          }
        },
        {
          "output_type": "stream",
          "text": [
            "Training Loss:  0.0392\n",
            "Training accuracy: 99.1208%\n"
          ],
          "name": "stdout"
        },
        {
          "output_type": "display_data",
          "data": {
            "text/html": [
              "\n",
              "        <p>Loss: 0.0354   8000 / 8000</p>\n",
              "        <progress value='8000' max='8000', style='width: 100%'>8000</progress>\n",
              "    "
            ],
            "text/plain": [
              "<IPython.core.display.HTML object>"
            ]
          },
          "metadata": {
            "tags": []
          }
        },
        {
          "output_type": "stream",
          "text": [
            "Validation Loss:  0.0354\n",
            "Validation accuracy: 99.0750%\n",
            "\"Best Loss\": 0.03539348080281227\n",
            "\n",
            "Validation Loss has gone up 0 times.\n",
            "\n"
          ],
          "name": "stdout"
        },
        {
          "output_type": "display_data",
          "data": {
            "text/html": [
              "\n",
              "        <p>Loss: 0.0284   24000 / 24000</p>\n",
              "        <progress value='24000' max='24000', style='width: 100%'>24000</progress>\n",
              "    "
            ],
            "text/plain": [
              "<IPython.core.display.HTML object>"
            ]
          },
          "metadata": {
            "tags": []
          }
        },
        {
          "output_type": "stream",
          "text": [
            "Epoch:  2\n",
            "Training loss: 0.0284\n"
          ],
          "name": "stdout"
        },
        {
          "output_type": "display_data",
          "data": {
            "text/html": [
              "\n",
              "        <p>Loss: 0.0187   24000 / 24000</p>\n",
              "        <progress value='24000' max='24000', style='width: 100%'>24000</progress>\n",
              "    "
            ],
            "text/plain": [
              "<IPython.core.display.HTML object>"
            ]
          },
          "metadata": {
            "tags": []
          }
        },
        {
          "output_type": "stream",
          "text": [
            "Training Loss:  0.0187\n",
            "Training accuracy: 99.6417%\n"
          ],
          "name": "stdout"
        },
        {
          "output_type": "display_data",
          "data": {
            "text/html": [
              "\n",
              "        <p>Loss: 0.0156   8000 / 8000</p>\n",
              "        <progress value='8000' max='8000', style='width: 100%'>8000</progress>\n",
              "    "
            ],
            "text/plain": [
              "<IPython.core.display.HTML object>"
            ]
          },
          "metadata": {
            "tags": []
          }
        },
        {
          "output_type": "stream",
          "text": [
            "Validation Loss:  0.0156\n",
            "Validation accuracy: 99.7125%\n",
            "\"Best Loss\": 0.015631777038502086\n",
            "\n",
            "Validation Loss has gone up 0 times.\n",
            "\n"
          ],
          "name": "stdout"
        },
        {
          "output_type": "display_data",
          "data": {
            "text/html": [
              "\n",
              "        <p>Loss: 0.0161   24000 / 24000</p>\n",
              "        <progress value='24000' max='24000', style='width: 100%'>24000</progress>\n",
              "    "
            ],
            "text/plain": [
              "<IPython.core.display.HTML object>"
            ]
          },
          "metadata": {
            "tags": []
          }
        },
        {
          "output_type": "stream",
          "text": [
            "Epoch:  3\n",
            "Training loss: 0.0161\n"
          ],
          "name": "stdout"
        },
        {
          "output_type": "display_data",
          "data": {
            "text/html": [
              "\n",
              "        <p>Loss: 0.0119   24000 / 24000</p>\n",
              "        <progress value='24000' max='24000', style='width: 100%'>24000</progress>\n",
              "    "
            ],
            "text/plain": [
              "<IPython.core.display.HTML object>"
            ]
          },
          "metadata": {
            "tags": []
          }
        },
        {
          "output_type": "stream",
          "text": [
            "Training Loss:  0.0119\n",
            "Training accuracy: 99.7667%\n"
          ],
          "name": "stdout"
        },
        {
          "output_type": "display_data",
          "data": {
            "text/html": [
              "\n",
              "        <p>Loss: 0.0099   8000 / 8000</p>\n",
              "        <progress value='8000' max='8000', style='width: 100%'>8000</progress>\n",
              "    "
            ],
            "text/plain": [
              "<IPython.core.display.HTML object>"
            ]
          },
          "metadata": {
            "tags": []
          }
        },
        {
          "output_type": "stream",
          "text": [
            "Validation Loss:  0.0099\n",
            "Validation accuracy: 99.8375%\n",
            "\"Best Loss\": 0.009928361261411316\n",
            "\n",
            "Validation Loss has gone up 0 times.\n",
            "\n"
          ],
          "name": "stdout"
        },
        {
          "output_type": "display_data",
          "data": {
            "text/html": [
              "\n",
              "        <p>Loss: 0.0108   24000 / 24000</p>\n",
              "        <progress value='24000' max='24000', style='width: 100%'>24000</progress>\n",
              "    "
            ],
            "text/plain": [
              "<IPython.core.display.HTML object>"
            ]
          },
          "metadata": {
            "tags": []
          }
        },
        {
          "output_type": "stream",
          "text": [
            "Epoch:  4\n",
            "Training loss: 0.0108\n"
          ],
          "name": "stdout"
        },
        {
          "output_type": "display_data",
          "data": {
            "text/html": [
              "\n",
              "        <p>Loss: 0.0080   24000 / 24000</p>\n",
              "        <progress value='24000' max='24000', style='width: 100%'>24000</progress>\n",
              "    "
            ],
            "text/plain": [
              "<IPython.core.display.HTML object>"
            ]
          },
          "metadata": {
            "tags": []
          }
        },
        {
          "output_type": "stream",
          "text": [
            "Training Loss:  0.008\n",
            "Training accuracy: 99.8292%\n"
          ],
          "name": "stdout"
        },
        {
          "output_type": "display_data",
          "data": {
            "text/html": [
              "\n",
              "        <p>Loss: 0.0069   8000 / 8000</p>\n",
              "        <progress value='8000' max='8000', style='width: 100%'>8000</progress>\n",
              "    "
            ],
            "text/plain": [
              "<IPython.core.display.HTML object>"
            ]
          },
          "metadata": {
            "tags": []
          }
        },
        {
          "output_type": "stream",
          "text": [
            "Validation Loss:  0.0069\n",
            "Validation accuracy: 99.8625%\n",
            "\"Best Loss\": 0.006900007988045376\n",
            "\n",
            "Validation Loss has gone up 0 times.\n",
            "\n"
          ],
          "name": "stdout"
        },
        {
          "output_type": "display_data",
          "data": {
            "text/html": [
              "\n",
              "        <p>Loss: 0.0080   24000 / 24000</p>\n",
              "        <progress value='24000' max='24000', style='width: 100%'>24000</progress>\n",
              "    "
            ],
            "text/plain": [
              "<IPython.core.display.HTML object>"
            ]
          },
          "metadata": {
            "tags": []
          }
        },
        {
          "output_type": "stream",
          "text": [
            "Epoch:  5\n",
            "Training loss: 0.008\n"
          ],
          "name": "stdout"
        },
        {
          "output_type": "display_data",
          "data": {
            "text/html": [
              "\n",
              "        <p>Loss: 0.0064   24000 / 24000</p>\n",
              "        <progress value='24000' max='24000', style='width: 100%'>24000</progress>\n",
              "    "
            ],
            "text/plain": [
              "<IPython.core.display.HTML object>"
            ]
          },
          "metadata": {
            "tags": []
          }
        },
        {
          "output_type": "stream",
          "text": [
            "Training Loss:  0.0064\n",
            "Training accuracy: 99.9083%\n"
          ],
          "name": "stdout"
        },
        {
          "output_type": "display_data",
          "data": {
            "text/html": [
              "\n",
              "        <p>Loss: 0.0057   8000 / 8000</p>\n",
              "        <progress value='8000' max='8000', style='width: 100%'>8000</progress>\n",
              "    "
            ],
            "text/plain": [
              "<IPython.core.display.HTML object>"
            ]
          },
          "metadata": {
            "tags": []
          }
        },
        {
          "output_type": "stream",
          "text": [
            "Validation Loss:  0.0057\n",
            "Validation accuracy: 99.9125%\n",
            "\"Best Loss\": 0.00569925720744308\n",
            "\n",
            "Validation Loss has gone up 0 times.\n",
            "\n"
          ],
          "name": "stdout"
        },
        {
          "output_type": "display_data",
          "data": {
            "text/html": [
              "\n",
              "        <p>Loss: 0.0062   24000 / 24000</p>\n",
              "        <progress value='24000' max='24000', style='width: 100%'>24000</progress>\n",
              "    "
            ],
            "text/plain": [
              "<IPython.core.display.HTML object>"
            ]
          },
          "metadata": {
            "tags": []
          }
        },
        {
          "output_type": "stream",
          "text": [
            "Epoch:  6\n",
            "Training loss: 0.0062\n"
          ],
          "name": "stdout"
        },
        {
          "output_type": "display_data",
          "data": {
            "text/html": [
              "\n",
              "        <p>Loss: 0.0056   24000 / 24000</p>\n",
              "        <progress value='24000' max='24000', style='width: 100%'>24000</progress>\n",
              "    "
            ],
            "text/plain": [
              "<IPython.core.display.HTML object>"
            ]
          },
          "metadata": {
            "tags": []
          }
        },
        {
          "output_type": "stream",
          "text": [
            "Training Loss:  0.0056\n",
            "Training accuracy: 99.9083%\n"
          ],
          "name": "stdout"
        },
        {
          "output_type": "display_data",
          "data": {
            "text/html": [
              "\n",
              "        <p>Loss: 0.0050   8000 / 8000</p>\n",
              "        <progress value='8000' max='8000', style='width: 100%'>8000</progress>\n",
              "    "
            ],
            "text/plain": [
              "<IPython.core.display.HTML object>"
            ]
          },
          "metadata": {
            "tags": []
          }
        },
        {
          "output_type": "stream",
          "text": [
            "Validation Loss:  0.005\n",
            "Validation accuracy: 99.9125%\n",
            "\"Best Loss\": 0.0049509519622439446\n",
            "\n",
            "Validation Loss has gone up 0 times.\n",
            "\n"
          ],
          "name": "stdout"
        },
        {
          "output_type": "display_data",
          "data": {
            "text/html": [
              "\n",
              "        <p>Loss: 0.0057   24000 / 24000</p>\n",
              "        <progress value='24000' max='24000', style='width: 100%'>24000</progress>\n",
              "    "
            ],
            "text/plain": [
              "<IPython.core.display.HTML object>"
            ]
          },
          "metadata": {
            "tags": []
          }
        },
        {
          "output_type": "stream",
          "text": [
            "Epoch:  7\n",
            "Training loss: 0.0057\n"
          ],
          "name": "stdout"
        },
        {
          "output_type": "display_data",
          "data": {
            "text/html": [
              "\n",
              "        <p>Loss: 0.0049   24000 / 24000</p>\n",
              "        <progress value='24000' max='24000', style='width: 100%'>24000</progress>\n",
              "    "
            ],
            "text/plain": [
              "<IPython.core.display.HTML object>"
            ]
          },
          "metadata": {
            "tags": []
          }
        },
        {
          "output_type": "stream",
          "text": [
            "Training Loss:  0.0049\n",
            "Training accuracy: 99.9292%\n"
          ],
          "name": "stdout"
        },
        {
          "output_type": "display_data",
          "data": {
            "text/html": [
              "\n",
              "        <p>Loss: 0.0043   8000 / 8000</p>\n",
              "        <progress value='8000' max='8000', style='width: 100%'>8000</progress>\n",
              "    "
            ],
            "text/plain": [
              "<IPython.core.display.HTML object>"
            ]
          },
          "metadata": {
            "tags": []
          }
        },
        {
          "output_type": "stream",
          "text": [
            "Validation Loss:  0.0043\n",
            "Validation accuracy: 99.9500%\n",
            "\"Best Loss\": 0.004308317675225672\n",
            "\n",
            "Validation Loss has gone up 0 times.\n",
            "\n"
          ],
          "name": "stdout"
        },
        {
          "output_type": "display_data",
          "data": {
            "text/html": [
              "\n",
              "        <p>Loss: 0.0048   24000 / 24000</p>\n",
              "        <progress value='24000' max='24000', style='width: 100%'>24000</progress>\n",
              "    "
            ],
            "text/plain": [
              "<IPython.core.display.HTML object>"
            ]
          },
          "metadata": {
            "tags": []
          }
        },
        {
          "output_type": "stream",
          "text": [
            "Epoch:  8\n",
            "Training loss: 0.0048\n"
          ],
          "name": "stdout"
        },
        {
          "output_type": "display_data",
          "data": {
            "text/html": [
              "\n",
              "        <p>Loss: 0.0042   24000 / 24000</p>\n",
              "        <progress value='24000' max='24000', style='width: 100%'>24000</progress>\n",
              "    "
            ],
            "text/plain": [
              "<IPython.core.display.HTML object>"
            ]
          },
          "metadata": {
            "tags": []
          }
        },
        {
          "output_type": "stream",
          "text": [
            "Training Loss:  0.0042\n",
            "Training accuracy: 99.9375%\n"
          ],
          "name": "stdout"
        },
        {
          "output_type": "display_data",
          "data": {
            "text/html": [
              "\n",
              "        <p>Loss: 0.0040   8000 / 8000</p>\n",
              "        <progress value='8000' max='8000', style='width: 100%'>8000</progress>\n",
              "    "
            ],
            "text/plain": [
              "<IPython.core.display.HTML object>"
            ]
          },
          "metadata": {
            "tags": []
          }
        },
        {
          "output_type": "stream",
          "text": [
            "Validation Loss:  0.004\n",
            "Validation accuracy: 99.9375%\n",
            "\"Best Loss\": 0.004026317438628111\n",
            "\n",
            "Validation Loss has gone up 0 times.\n",
            "\n"
          ],
          "name": "stdout"
        },
        {
          "output_type": "display_data",
          "data": {
            "text/html": [
              "\n",
              "        <p>Loss: 0.0047   24000 / 24000</p>\n",
              "        <progress value='24000' max='24000', style='width: 100%'>24000</progress>\n",
              "    "
            ],
            "text/plain": [
              "<IPython.core.display.HTML object>"
            ]
          },
          "metadata": {
            "tags": []
          }
        },
        {
          "output_type": "stream",
          "text": [
            "Epoch:  9\n",
            "Training loss: 0.0047\n"
          ],
          "name": "stdout"
        },
        {
          "output_type": "display_data",
          "data": {
            "text/html": [
              "\n",
              "        <p>Loss: 0.0040   24000 / 24000</p>\n",
              "        <progress value='24000' max='24000', style='width: 100%'>24000</progress>\n",
              "    "
            ],
            "text/plain": [
              "<IPython.core.display.HTML object>"
            ]
          },
          "metadata": {
            "tags": []
          }
        },
        {
          "output_type": "stream",
          "text": [
            "Training Loss:  0.004\n",
            "Training accuracy: 99.9375%\n"
          ],
          "name": "stdout"
        },
        {
          "output_type": "display_data",
          "data": {
            "text/html": [
              "\n",
              "        <p>Loss: 0.0033   8000 / 8000</p>\n",
              "        <progress value='8000' max='8000', style='width: 100%'>8000</progress>\n",
              "    "
            ],
            "text/plain": [
              "<IPython.core.display.HTML object>"
            ]
          },
          "metadata": {
            "tags": []
          }
        },
        {
          "output_type": "stream",
          "text": [
            "Validation Loss:  0.0033\n",
            "Validation accuracy: 99.9375%\n",
            "\"Best Loss\": 0.0033330763486908777\n",
            "\n",
            "Validation Loss has gone up 0 times.\n",
            "\n"
          ],
          "name": "stdout"
        },
        {
          "output_type": "display_data",
          "data": {
            "text/html": [
              "\n",
              "        <p>Loss: 0.0044   24000 / 24000</p>\n",
              "        <progress value='24000' max='24000', style='width: 100%'>24000</progress>\n",
              "    "
            ],
            "text/plain": [
              "<IPython.core.display.HTML object>"
            ]
          },
          "metadata": {
            "tags": []
          }
        },
        {
          "output_type": "stream",
          "text": [
            "Epoch:  10\n",
            "Training loss: 0.0044\n"
          ],
          "name": "stdout"
        },
        {
          "output_type": "display_data",
          "data": {
            "text/html": [
              "\n",
              "        <p>Loss: 0.0050   24000 / 24000</p>\n",
              "        <progress value='24000' max='24000', style='width: 100%'>24000</progress>\n",
              "    "
            ],
            "text/plain": [
              "<IPython.core.display.HTML object>"
            ]
          },
          "metadata": {
            "tags": []
          }
        },
        {
          "output_type": "stream",
          "text": [
            "Training Loss:  0.005\n",
            "Training accuracy: 99.9167%\n"
          ],
          "name": "stdout"
        },
        {
          "output_type": "display_data",
          "data": {
            "text/html": [
              "\n",
              "        <p>Loss: 0.0041   8000 / 8000</p>\n",
              "        <progress value='8000' max='8000', style='width: 100%'>8000</progress>\n",
              "    "
            ],
            "text/plain": [
              "<IPython.core.display.HTML object>"
            ]
          },
          "metadata": {
            "tags": []
          }
        },
        {
          "output_type": "stream",
          "text": [
            "Validation Loss:  0.0041\n",
            "Validation accuracy: 99.9250%\n",
            "Validation Loss has gone up 1 times.\n",
            "\n"
          ],
          "name": "stdout"
        },
        {
          "output_type": "display_data",
          "data": {
            "text/html": [
              "\n",
              "        <p>Loss: 0.0041   24000 / 24000</p>\n",
              "        <progress value='24000' max='24000', style='width: 100%'>24000</progress>\n",
              "    "
            ],
            "text/plain": [
              "<IPython.core.display.HTML object>"
            ]
          },
          "metadata": {
            "tags": []
          }
        },
        {
          "output_type": "stream",
          "text": [
            "Epoch:  11\n",
            "Training loss: 0.0041\n"
          ],
          "name": "stdout"
        },
        {
          "output_type": "display_data",
          "data": {
            "text/html": [
              "\n",
              "        <p>Loss: 0.0036   24000 / 24000</p>\n",
              "        <progress value='24000' max='24000', style='width: 100%'>24000</progress>\n",
              "    "
            ],
            "text/plain": [
              "<IPython.core.display.HTML object>"
            ]
          },
          "metadata": {
            "tags": []
          }
        },
        {
          "output_type": "stream",
          "text": [
            "Training Loss:  0.0036\n",
            "Training accuracy: 99.9458%\n"
          ],
          "name": "stdout"
        },
        {
          "output_type": "display_data",
          "data": {
            "text/html": [
              "\n",
              "        <p>Loss: 0.0029   8000 / 8000</p>\n",
              "        <progress value='8000' max='8000', style='width: 100%'>8000</progress>\n",
              "    "
            ],
            "text/plain": [
              "<IPython.core.display.HTML object>"
            ]
          },
          "metadata": {
            "tags": []
          }
        },
        {
          "output_type": "stream",
          "text": [
            "Validation Loss:  0.0029\n",
            "Validation accuracy: 99.9375%\n",
            "\"Best Loss\": 0.002919164209050082\n",
            "\n",
            "Validation Loss has gone up 0 times.\n",
            "\n"
          ],
          "name": "stdout"
        },
        {
          "output_type": "display_data",
          "data": {
            "text/html": [
              "\n",
              "        <p>Loss: 0.0038   24000 / 24000</p>\n",
              "        <progress value='24000' max='24000', style='width: 100%'>24000</progress>\n",
              "    "
            ],
            "text/plain": [
              "<IPython.core.display.HTML object>"
            ]
          },
          "metadata": {
            "tags": []
          }
        },
        {
          "output_type": "stream",
          "text": [
            "Epoch:  12\n",
            "Training loss: 0.0038\n"
          ],
          "name": "stdout"
        },
        {
          "output_type": "display_data",
          "data": {
            "text/html": [
              "\n",
              "        <p>Loss: 0.0033   24000 / 24000</p>\n",
              "        <progress value='24000' max='24000', style='width: 100%'>24000</progress>\n",
              "    "
            ],
            "text/plain": [
              "<IPython.core.display.HTML object>"
            ]
          },
          "metadata": {
            "tags": []
          }
        },
        {
          "output_type": "stream",
          "text": [
            "Training Loss:  0.0033\n",
            "Training accuracy: 99.9500%\n"
          ],
          "name": "stdout"
        },
        {
          "output_type": "display_data",
          "data": {
            "text/html": [
              "\n",
              "        <p>Loss: 0.0025   8000 / 8000</p>\n",
              "        <progress value='8000' max='8000', style='width: 100%'>8000</progress>\n",
              "    "
            ],
            "text/plain": [
              "<IPython.core.display.HTML object>"
            ]
          },
          "metadata": {
            "tags": []
          }
        },
        {
          "output_type": "stream",
          "text": [
            "Validation Loss:  0.0025\n",
            "Validation accuracy: 99.9375%\n",
            "\"Best Loss\": 0.00254628184576711\n",
            "\n",
            "Validation Loss has gone up 0 times.\n",
            "\n"
          ],
          "name": "stdout"
        },
        {
          "output_type": "display_data",
          "data": {
            "text/html": [
              "\n",
              "        <p>Loss: 0.0036   24000 / 24000</p>\n",
              "        <progress value='24000' max='24000', style='width: 100%'>24000</progress>\n",
              "    "
            ],
            "text/plain": [
              "<IPython.core.display.HTML object>"
            ]
          },
          "metadata": {
            "tags": []
          }
        },
        {
          "output_type": "stream",
          "text": [
            "Epoch:  13\n",
            "Training loss: 0.0036\n"
          ],
          "name": "stdout"
        },
        {
          "output_type": "display_data",
          "data": {
            "text/html": [
              "\n",
              "        <p>Loss: 0.0034   24000 / 24000</p>\n",
              "        <progress value='24000' max='24000', style='width: 100%'>24000</progress>\n",
              "    "
            ],
            "text/plain": [
              "<IPython.core.display.HTML object>"
            ]
          },
          "metadata": {
            "tags": []
          }
        },
        {
          "output_type": "stream",
          "text": [
            "Training Loss:  0.0034\n",
            "Training accuracy: 99.9500%\n"
          ],
          "name": "stdout"
        },
        {
          "output_type": "display_data",
          "data": {
            "text/html": [
              "\n",
              "        <p>Loss: 0.0028   8000 / 8000</p>\n",
              "        <progress value='8000' max='8000', style='width: 100%'>8000</progress>\n",
              "    "
            ],
            "text/plain": [
              "<IPython.core.display.HTML object>"
            ]
          },
          "metadata": {
            "tags": []
          }
        },
        {
          "output_type": "stream",
          "text": [
            "Validation Loss:  0.0028\n",
            "Validation accuracy: 99.9375%\n",
            "Validation Loss has gone up 1 times.\n",
            "\n"
          ],
          "name": "stdout"
        },
        {
          "output_type": "display_data",
          "data": {
            "text/html": [
              "\n",
              "        <p>Loss: 0.0036   24000 / 24000</p>\n",
              "        <progress value='24000' max='24000', style='width: 100%'>24000</progress>\n",
              "    "
            ],
            "text/plain": [
              "<IPython.core.display.HTML object>"
            ]
          },
          "metadata": {
            "tags": []
          }
        },
        {
          "output_type": "stream",
          "text": [
            "Epoch:  14\n",
            "Training loss: 0.0036\n"
          ],
          "name": "stdout"
        },
        {
          "output_type": "display_data",
          "data": {
            "text/html": [
              "\n",
              "        <p>Loss: 0.0033   24000 / 24000</p>\n",
              "        <progress value='24000' max='24000', style='width: 100%'>24000</progress>\n",
              "    "
            ],
            "text/plain": [
              "<IPython.core.display.HTML object>"
            ]
          },
          "metadata": {
            "tags": []
          }
        },
        {
          "output_type": "stream",
          "text": [
            "Training Loss:  0.0033\n",
            "Training accuracy: 99.9583%\n"
          ],
          "name": "stdout"
        },
        {
          "output_type": "display_data",
          "data": {
            "text/html": [
              "\n",
              "        <p>Loss: 0.0025   8000 / 8000</p>\n",
              "        <progress value='8000' max='8000', style='width: 100%'>8000</progress>\n",
              "    "
            ],
            "text/plain": [
              "<IPython.core.display.HTML object>"
            ]
          },
          "metadata": {
            "tags": []
          }
        },
        {
          "output_type": "stream",
          "text": [
            "Validation Loss:  0.0025\n",
            "Validation accuracy: 99.9625%\n",
            "\"Best Loss\": 0.0025177830941088145\n",
            "\n",
            "Validation Loss has gone up 0 times.\n",
            "\n"
          ],
          "name": "stdout"
        },
        {
          "output_type": "display_data",
          "data": {
            "text/html": [
              "\n",
              "        <p>Loss: 0.0034   24000 / 24000</p>\n",
              "        <progress value='24000' max='24000', style='width: 100%'>24000</progress>\n",
              "    "
            ],
            "text/plain": [
              "<IPython.core.display.HTML object>"
            ]
          },
          "metadata": {
            "tags": []
          }
        },
        {
          "output_type": "stream",
          "text": [
            "Epoch:  15\n",
            "Training loss: 0.0034\n"
          ],
          "name": "stdout"
        },
        {
          "output_type": "display_data",
          "data": {
            "text/html": [
              "\n",
              "        <p>Loss: 0.0032   24000 / 24000</p>\n",
              "        <progress value='24000' max='24000', style='width: 100%'>24000</progress>\n",
              "    "
            ],
            "text/plain": [
              "<IPython.core.display.HTML object>"
            ]
          },
          "metadata": {
            "tags": []
          }
        },
        {
          "output_type": "stream",
          "text": [
            "Training Loss:  0.0032\n",
            "Training accuracy: 99.9458%\n"
          ],
          "name": "stdout"
        },
        {
          "output_type": "display_data",
          "data": {
            "text/html": [
              "\n",
              "        <p>Loss: 0.0025   8000 / 8000</p>\n",
              "        <progress value='8000' max='8000', style='width: 100%'>8000</progress>\n",
              "    "
            ],
            "text/plain": [
              "<IPython.core.display.HTML object>"
            ]
          },
          "metadata": {
            "tags": []
          }
        },
        {
          "output_type": "stream",
          "text": [
            "Validation Loss:  0.0025\n",
            "Validation accuracy: 99.9500%\n",
            "\"Best Loss\": 0.0024635963805300725\n",
            "\n",
            "Validation Loss has gone up 0 times.\n",
            "\n"
          ],
          "name": "stdout"
        },
        {
          "output_type": "display_data",
          "data": {
            "text/html": [
              "\n",
              "        <p>Loss: 0.0034   24000 / 24000</p>\n",
              "        <progress value='24000' max='24000', style='width: 100%'>24000</progress>\n",
              "    "
            ],
            "text/plain": [
              "<IPython.core.display.HTML object>"
            ]
          },
          "metadata": {
            "tags": []
          }
        },
        {
          "output_type": "stream",
          "text": [
            "Epoch:  16\n",
            "Training loss: 0.0034\n"
          ],
          "name": "stdout"
        },
        {
          "output_type": "display_data",
          "data": {
            "text/html": [
              "\n",
              "        <p>Loss: 0.0031   24000 / 24000</p>\n",
              "        <progress value='24000' max='24000', style='width: 100%'>24000</progress>\n",
              "    "
            ],
            "text/plain": [
              "<IPython.core.display.HTML object>"
            ]
          },
          "metadata": {
            "tags": []
          }
        },
        {
          "output_type": "stream",
          "text": [
            "Training Loss:  0.0031\n",
            "Training accuracy: 99.9458%\n"
          ],
          "name": "stdout"
        },
        {
          "output_type": "display_data",
          "data": {
            "text/html": [
              "\n",
              "        <p>Loss: 0.0023   8000 / 8000</p>\n",
              "        <progress value='8000' max='8000', style='width: 100%'>8000</progress>\n",
              "    "
            ],
            "text/plain": [
              "<IPython.core.display.HTML object>"
            ]
          },
          "metadata": {
            "tags": []
          }
        },
        {
          "output_type": "stream",
          "text": [
            "Validation Loss:  0.0023\n",
            "Validation accuracy: 99.9500%\n",
            "\"Best Loss\": 0.0023230569047247257\n",
            "\n",
            "Validation Loss has gone up 0 times.\n",
            "\n"
          ],
          "name": "stdout"
        },
        {
          "output_type": "display_data",
          "data": {
            "text/html": [
              "\n",
              "        <p>Loss: 0.0037   24000 / 24000</p>\n",
              "        <progress value='24000' max='24000', style='width: 100%'>24000</progress>\n",
              "    "
            ],
            "text/plain": [
              "<IPython.core.display.HTML object>"
            ]
          },
          "metadata": {
            "tags": []
          }
        },
        {
          "output_type": "stream",
          "text": [
            "Epoch:  17\n",
            "Training loss: 0.0037\n"
          ],
          "name": "stdout"
        },
        {
          "output_type": "display_data",
          "data": {
            "text/html": [
              "\n",
              "        <p>Loss: 0.0030   24000 / 24000</p>\n",
              "        <progress value='24000' max='24000', style='width: 100%'>24000</progress>\n",
              "    "
            ],
            "text/plain": [
              "<IPython.core.display.HTML object>"
            ]
          },
          "metadata": {
            "tags": []
          }
        },
        {
          "output_type": "stream",
          "text": [
            "Training Loss:  0.003\n",
            "Training accuracy: 99.9542%\n"
          ],
          "name": "stdout"
        },
        {
          "output_type": "display_data",
          "data": {
            "text/html": [
              "\n",
              "        <p>Loss: 0.0022   8000 / 8000</p>\n",
              "        <progress value='8000' max='8000', style='width: 100%'>8000</progress>\n",
              "    "
            ],
            "text/plain": [
              "<IPython.core.display.HTML object>"
            ]
          },
          "metadata": {
            "tags": []
          }
        },
        {
          "output_type": "stream",
          "text": [
            "Validation Loss:  0.0022\n",
            "Validation accuracy: 99.9500%\n",
            "\"Best Loss\": 0.0022002405723527303\n",
            "\n",
            "Validation Loss has gone up 0 times.\n",
            "\n"
          ],
          "name": "stdout"
        },
        {
          "output_type": "display_data",
          "data": {
            "text/html": [
              "\n",
              "        <p>Loss: 0.0032   24000 / 24000</p>\n",
              "        <progress value='24000' max='24000', style='width: 100%'>24000</progress>\n",
              "    "
            ],
            "text/plain": [
              "<IPython.core.display.HTML object>"
            ]
          },
          "metadata": {
            "tags": []
          }
        },
        {
          "output_type": "stream",
          "text": [
            "Epoch:  18\n",
            "Training loss: 0.0032\n"
          ],
          "name": "stdout"
        },
        {
          "output_type": "display_data",
          "data": {
            "text/html": [
              "\n",
              "        <p>Loss: 0.0043   24000 / 24000</p>\n",
              "        <progress value='24000' max='24000', style='width: 100%'>24000</progress>\n",
              "    "
            ],
            "text/plain": [
              "<IPython.core.display.HTML object>"
            ]
          },
          "metadata": {
            "tags": []
          }
        },
        {
          "output_type": "stream",
          "text": [
            "Training Loss:  0.0043\n",
            "Training accuracy: 99.9500%\n"
          ],
          "name": "stdout"
        },
        {
          "output_type": "display_data",
          "data": {
            "text/html": [
              "\n",
              "        <p>Loss: 0.0034   8000 / 8000</p>\n",
              "        <progress value='8000' max='8000', style='width: 100%'>8000</progress>\n",
              "    "
            ],
            "text/plain": [
              "<IPython.core.display.HTML object>"
            ]
          },
          "metadata": {
            "tags": []
          }
        },
        {
          "output_type": "stream",
          "text": [
            "Validation Loss:  0.0034\n",
            "Validation accuracy: 99.9500%\n",
            "Validation Loss has gone up 1 times.\n",
            "\n"
          ],
          "name": "stdout"
        },
        {
          "output_type": "display_data",
          "data": {
            "text/html": [
              "\n",
              "        <p>Loss: 0.0033   24000 / 24000</p>\n",
              "        <progress value='24000' max='24000', style='width: 100%'>24000</progress>\n",
              "    "
            ],
            "text/plain": [
              "<IPython.core.display.HTML object>"
            ]
          },
          "metadata": {
            "tags": []
          }
        },
        {
          "output_type": "stream",
          "text": [
            "Epoch:  19\n",
            "Training loss: 0.0033\n"
          ],
          "name": "stdout"
        },
        {
          "output_type": "display_data",
          "data": {
            "text/html": [
              "\n",
              "        <p>Loss: 0.0037   24000 / 24000</p>\n",
              "        <progress value='24000' max='24000', style='width: 100%'>24000</progress>\n",
              "    "
            ],
            "text/plain": [
              "<IPython.core.display.HTML object>"
            ]
          },
          "metadata": {
            "tags": []
          }
        },
        {
          "output_type": "stream",
          "text": [
            "Training Loss:  0.0037\n",
            "Training accuracy: 99.9542%\n"
          ],
          "name": "stdout"
        },
        {
          "output_type": "display_data",
          "data": {
            "text/html": [
              "\n",
              "        <p>Loss: 0.0030   8000 / 8000</p>\n",
              "        <progress value='8000' max='8000', style='width: 100%'>8000</progress>\n",
              "    "
            ],
            "text/plain": [
              "<IPython.core.display.HTML object>"
            ]
          },
          "metadata": {
            "tags": []
          }
        },
        {
          "output_type": "stream",
          "text": [
            "Validation Loss:  0.003\n",
            "Validation accuracy: 99.9625%\n",
            "Validation Loss has gone up 0 times.\n",
            "\n"
          ],
          "name": "stdout"
        },
        {
          "output_type": "display_data",
          "data": {
            "text/html": [
              "\n",
              "        <p>Loss: 0.0030   24000 / 24000</p>\n",
              "        <progress value='24000' max='24000', style='width: 100%'>24000</progress>\n",
              "    "
            ],
            "text/plain": [
              "<IPython.core.display.HTML object>"
            ]
          },
          "metadata": {
            "tags": []
          }
        },
        {
          "output_type": "stream",
          "text": [
            "Epoch:  20\n",
            "Training loss: 0.003\n"
          ],
          "name": "stdout"
        },
        {
          "output_type": "display_data",
          "data": {
            "text/html": [
              "\n",
              "        <p>Loss: 0.0029   24000 / 24000</p>\n",
              "        <progress value='24000' max='24000', style='width: 100%'>24000</progress>\n",
              "    "
            ],
            "text/plain": [
              "<IPython.core.display.HTML object>"
            ]
          },
          "metadata": {
            "tags": []
          }
        },
        {
          "output_type": "stream",
          "text": [
            "Training Loss:  0.0029\n",
            "Training accuracy: 99.9542%\n"
          ],
          "name": "stdout"
        },
        {
          "output_type": "display_data",
          "data": {
            "text/html": [
              "\n",
              "        <p>Loss: 0.0021   8000 / 8000</p>\n",
              "        <progress value='8000' max='8000', style='width: 100%'>8000</progress>\n",
              "    "
            ],
            "text/plain": [
              "<IPython.core.display.HTML object>"
            ]
          },
          "metadata": {
            "tags": []
          }
        },
        {
          "output_type": "stream",
          "text": [
            "Validation Loss:  0.0021\n",
            "Validation accuracy: 99.9625%\n",
            "\"Best Loss\": 0.0020561999759622037\n",
            "\n",
            "Validation Loss has gone up 0 times.\n",
            "\n"
          ],
          "name": "stdout"
        },
        {
          "output_type": "display_data",
          "data": {
            "text/html": [
              "\n",
              "        <p>Loss: 0.0031   24000 / 24000</p>\n",
              "        <progress value='24000' max='24000', style='width: 100%'>24000</progress>\n",
              "    "
            ],
            "text/plain": [
              "<IPython.core.display.HTML object>"
            ]
          },
          "metadata": {
            "tags": []
          }
        },
        {
          "output_type": "stream",
          "text": [
            "Epoch:  21\n",
            "Training loss: 0.0031\n"
          ],
          "name": "stdout"
        },
        {
          "output_type": "display_data",
          "data": {
            "text/html": [
              "\n",
              "        <p>Loss: 0.0036   24000 / 24000</p>\n",
              "        <progress value='24000' max='24000', style='width: 100%'>24000</progress>\n",
              "    "
            ],
            "text/plain": [
              "<IPython.core.display.HTML object>"
            ]
          },
          "metadata": {
            "tags": []
          }
        },
        {
          "output_type": "stream",
          "text": [
            "Training Loss:  0.0036\n",
            "Training accuracy: 99.9542%\n"
          ],
          "name": "stdout"
        },
        {
          "output_type": "display_data",
          "data": {
            "text/html": [
              "\n",
              "        <p>Loss: 0.0026   8000 / 8000</p>\n",
              "        <progress value='8000' max='8000', style='width: 100%'>8000</progress>\n",
              "    "
            ],
            "text/plain": [
              "<IPython.core.display.HTML object>"
            ]
          },
          "metadata": {
            "tags": []
          }
        },
        {
          "output_type": "stream",
          "text": [
            "Validation Loss:  0.0026\n",
            "Validation accuracy: 99.9625%\n",
            "Validation Loss has gone up 1 times.\n",
            "\n"
          ],
          "name": "stdout"
        },
        {
          "output_type": "display_data",
          "data": {
            "text/html": [
              "\n",
              "        <p>Loss: 0.0032   24000 / 24000</p>\n",
              "        <progress value='24000' max='24000', style='width: 100%'>24000</progress>\n",
              "    "
            ],
            "text/plain": [
              "<IPython.core.display.HTML object>"
            ]
          },
          "metadata": {
            "tags": []
          }
        },
        {
          "output_type": "stream",
          "text": [
            "Epoch:  22\n",
            "Training loss: 0.0032\n"
          ],
          "name": "stdout"
        },
        {
          "output_type": "display_data",
          "data": {
            "text/html": [
              "\n",
              "        <p>Loss: 0.0029   24000 / 24000</p>\n",
              "        <progress value='24000' max='24000', style='width: 100%'>24000</progress>\n",
              "    "
            ],
            "text/plain": [
              "<IPython.core.display.HTML object>"
            ]
          },
          "metadata": {
            "tags": []
          }
        },
        {
          "output_type": "stream",
          "text": [
            "Training Loss:  0.0029\n",
            "Training accuracy: 99.9625%\n"
          ],
          "name": "stdout"
        },
        {
          "output_type": "display_data",
          "data": {
            "text/html": [
              "\n",
              "        <p>Loss: 0.0021   8000 / 8000</p>\n",
              "        <progress value='8000' max='8000', style='width: 100%'>8000</progress>\n",
              "    "
            ],
            "text/plain": [
              "<IPython.core.display.HTML object>"
            ]
          },
          "metadata": {
            "tags": []
          }
        },
        {
          "output_type": "stream",
          "text": [
            "Validation Loss:  0.0021\n",
            "Validation accuracy: 99.9625%\n",
            "Validation Loss has gone up 0 times.\n",
            "\n"
          ],
          "name": "stdout"
        },
        {
          "output_type": "display_data",
          "data": {
            "text/html": [
              "\n",
              "        <p>Loss: 0.0031   24000 / 24000</p>\n",
              "        <progress value='24000' max='24000', style='width: 100%'>24000</progress>\n",
              "    "
            ],
            "text/plain": [
              "<IPython.core.display.HTML object>"
            ]
          },
          "metadata": {
            "tags": []
          }
        },
        {
          "output_type": "stream",
          "text": [
            "Epoch:  23\n",
            "Training loss: 0.0031\n"
          ],
          "name": "stdout"
        },
        {
          "output_type": "display_data",
          "data": {
            "text/html": [
              "\n",
              "        <p>Loss: 0.0028   24000 / 24000</p>\n",
              "        <progress value='24000' max='24000', style='width: 100%'>24000</progress>\n",
              "    "
            ],
            "text/plain": [
              "<IPython.core.display.HTML object>"
            ]
          },
          "metadata": {
            "tags": []
          }
        },
        {
          "output_type": "stream",
          "text": [
            "Training Loss:  0.0028\n",
            "Training accuracy: 99.9583%\n"
          ],
          "name": "stdout"
        },
        {
          "output_type": "display_data",
          "data": {
            "text/html": [
              "\n",
              "        <p>Loss: 0.0019   8000 / 8000</p>\n",
              "        <progress value='8000' max='8000', style='width: 100%'>8000</progress>\n",
              "    "
            ],
            "text/plain": [
              "<IPython.core.display.HTML object>"
            ]
          },
          "metadata": {
            "tags": []
          }
        },
        {
          "output_type": "stream",
          "text": [
            "Validation Loss:  0.0019\n",
            "Validation accuracy: 99.9750%\n",
            "\"Best Loss\": 0.0019122106217158339\n",
            "\n",
            "Validation Loss has gone up 0 times.\n",
            "\n"
          ],
          "name": "stdout"
        },
        {
          "output_type": "display_data",
          "data": {
            "text/html": [
              "\n",
              "        <p>Loss: 0.0031   24000 / 24000</p>\n",
              "        <progress value='24000' max='24000', style='width: 100%'>24000</progress>\n",
              "    "
            ],
            "text/plain": [
              "<IPython.core.display.HTML object>"
            ]
          },
          "metadata": {
            "tags": []
          }
        },
        {
          "output_type": "stream",
          "text": [
            "Epoch:  24\n",
            "Training loss: 0.0031\n"
          ],
          "name": "stdout"
        },
        {
          "output_type": "display_data",
          "data": {
            "text/html": [
              "\n",
              "        <p>Loss: 0.0032   24000 / 24000</p>\n",
              "        <progress value='24000' max='24000', style='width: 100%'>24000</progress>\n",
              "    "
            ],
            "text/plain": [
              "<IPython.core.display.HTML object>"
            ]
          },
          "metadata": {
            "tags": []
          }
        },
        {
          "output_type": "stream",
          "text": [
            "Training Loss:  0.0032\n",
            "Training accuracy: 99.9458%\n"
          ],
          "name": "stdout"
        },
        {
          "output_type": "display_data",
          "data": {
            "text/html": [
              "\n",
              "        <p>Loss: 0.0023   8000 / 8000</p>\n",
              "        <progress value='8000' max='8000', style='width: 100%'>8000</progress>\n",
              "    "
            ],
            "text/plain": [
              "<IPython.core.display.HTML object>"
            ]
          },
          "metadata": {
            "tags": []
          }
        },
        {
          "output_type": "stream",
          "text": [
            "Validation Loss:  0.0023\n",
            "Validation accuracy: 99.9875%\n",
            "Validation Loss has gone up 1 times.\n",
            "\n"
          ],
          "name": "stdout"
        },
        {
          "output_type": "display_data",
          "data": {
            "text/html": [
              "\n",
              "        <p>Loss: 0.0031   24000 / 24000</p>\n",
              "        <progress value='24000' max='24000', style='width: 100%'>24000</progress>\n",
              "    "
            ],
            "text/plain": [
              "<IPython.core.display.HTML object>"
            ]
          },
          "metadata": {
            "tags": []
          }
        },
        {
          "output_type": "stream",
          "text": [
            "Epoch:  25\n",
            "Training loss: 0.0031\n"
          ],
          "name": "stdout"
        },
        {
          "output_type": "display_data",
          "data": {
            "text/html": [
              "\n",
              "        <p>Loss: 0.0029   24000 / 24000</p>\n",
              "        <progress value='24000' max='24000', style='width: 100%'>24000</progress>\n",
              "    "
            ],
            "text/plain": [
              "<IPython.core.display.HTML object>"
            ]
          },
          "metadata": {
            "tags": []
          }
        },
        {
          "output_type": "stream",
          "text": [
            "Training Loss:  0.0029\n",
            "Training accuracy: 99.9583%\n"
          ],
          "name": "stdout"
        },
        {
          "output_type": "display_data",
          "data": {
            "text/html": [
              "\n",
              "        <p>Loss: 0.0020   8000 / 8000</p>\n",
              "        <progress value='8000' max='8000', style='width: 100%'>8000</progress>\n",
              "    "
            ],
            "text/plain": [
              "<IPython.core.display.HTML object>"
            ]
          },
          "metadata": {
            "tags": []
          }
        },
        {
          "output_type": "stream",
          "text": [
            "Validation Loss:  0.002\n",
            "Validation accuracy: 99.9875%\n",
            "Validation Loss has gone up 0 times.\n",
            "\n"
          ],
          "name": "stdout"
        },
        {
          "output_type": "display_data",
          "data": {
            "text/html": [
              "\n",
              "        <p>Loss: 0.0031   24000 / 24000</p>\n",
              "        <progress value='24000' max='24000', style='width: 100%'>24000</progress>\n",
              "    "
            ],
            "text/plain": [
              "<IPython.core.display.HTML object>"
            ]
          },
          "metadata": {
            "tags": []
          }
        },
        {
          "output_type": "stream",
          "text": [
            "Epoch:  26\n",
            "Training loss: 0.0031\n"
          ],
          "name": "stdout"
        },
        {
          "output_type": "display_data",
          "data": {
            "text/html": [
              "\n",
              "        <p>Loss: 0.0029   24000 / 24000</p>\n",
              "        <progress value='24000' max='24000', style='width: 100%'>24000</progress>\n",
              "    "
            ],
            "text/plain": [
              "<IPython.core.display.HTML object>"
            ]
          },
          "metadata": {
            "tags": []
          }
        },
        {
          "output_type": "stream",
          "text": [
            "Training Loss:  0.0029\n",
            "Training accuracy: 99.9667%\n"
          ],
          "name": "stdout"
        },
        {
          "output_type": "display_data",
          "data": {
            "text/html": [
              "\n",
              "        <p>Loss: 0.0023   8000 / 8000</p>\n",
              "        <progress value='8000' max='8000', style='width: 100%'>8000</progress>\n",
              "    "
            ],
            "text/plain": [
              "<IPython.core.display.HTML object>"
            ]
          },
          "metadata": {
            "tags": []
          }
        },
        {
          "output_type": "stream",
          "text": [
            "Validation Loss:  0.0023\n",
            "Validation accuracy: 99.9625%\n",
            "Validation Loss has gone up 1 times.\n",
            "\n"
          ],
          "name": "stdout"
        },
        {
          "output_type": "display_data",
          "data": {
            "text/html": [
              "\n",
              "        <p>Loss: 0.0029   24000 / 24000</p>\n",
              "        <progress value='24000' max='24000', style='width: 100%'>24000</progress>\n",
              "    "
            ],
            "text/plain": [
              "<IPython.core.display.HTML object>"
            ]
          },
          "metadata": {
            "tags": []
          }
        },
        {
          "output_type": "stream",
          "text": [
            "Epoch:  27\n",
            "Training loss: 0.0029\n"
          ],
          "name": "stdout"
        },
        {
          "output_type": "display_data",
          "data": {
            "text/html": [
              "\n",
              "        <p>Loss: 0.0034   24000 / 24000</p>\n",
              "        <progress value='24000' max='24000', style='width: 100%'>24000</progress>\n",
              "    "
            ],
            "text/plain": [
              "<IPython.core.display.HTML object>"
            ]
          },
          "metadata": {
            "tags": []
          }
        },
        {
          "output_type": "stream",
          "text": [
            "Training Loss:  0.0034\n",
            "Training accuracy: 99.9542%\n"
          ],
          "name": "stdout"
        },
        {
          "output_type": "display_data",
          "data": {
            "text/html": [
              "\n",
              "        <p>Loss: 0.0025   8000 / 8000</p>\n",
              "        <progress value='8000' max='8000', style='width: 100%'>8000</progress>\n",
              "    "
            ],
            "text/plain": [
              "<IPython.core.display.HTML object>"
            ]
          },
          "metadata": {
            "tags": []
          }
        },
        {
          "output_type": "stream",
          "text": [
            "Validation Loss:  0.0025\n",
            "Validation accuracy: 99.9750%\n",
            "Validation Loss has gone up 2 times.\n",
            "\n"
          ],
          "name": "stdout"
        }
      ]
    },
    {
      "cell_type": "code",
      "metadata": {
        "colab_type": "code",
        "id": "I5fNHznp9m4i",
        "outputId": "9d90ec27-b241-42f6-f550-727435e6e612",
        "colab": {
          "base_uri": "https://localhost:8080/",
          "height": 310
        }
      },
      "source": [
        "epochs = range(1, len(train_losses) + 1)\n",
        "epoch_ticks = [i if i % 5 == 0 else 0 for i in epochs]\n",
        "    \n",
        "# plt.figure(figsize=(10,6))\n",
        "plt.plot(epochs, train_losses, label='Training loss')\n",
        "plt.plot(epochs, valid_losses, label='Validation loss')\n",
        "plt.legend()\n",
        "plt.title('Learning Curves for Logistic Regression\\nlr=1e-2, weight_decay=1e-3, momentum=0.9')\n",
        "plt.xlabel('Epoch')\n",
        "plt.ylabel('Loss')\n",
        "plt.xticks(epoch_ticks)\n",
        "plt.savefig('lr_train.jpg', dpi=300)\n",
        "plt.show()\n"
      ],
      "execution_count": 8,
      "outputs": [
        {
          "output_type": "display_data",
          "data": {
            "image/png": "[encoded data removed]",
            "text/plain": [
              "<Figure size 432x288 with 1 Axes>"
            ]
          },
          "metadata": {
            "tags": []
          }
        }
      ]
    },
    {
      "cell_type": "code",
      "metadata": {
        "colab_type": "code",
        "id": "vJeHSC4Y0gc1",
        "outputId": "f80d3148-653d-483b-cbdb-4766dd98d2cc",
        "colab": {
          "base_uri": "https://localhost:8080/",
          "height": 116
        }
      },
      "source": [
        "test_losses = []\n",
        "evaluate(lr_model,\n",
        "         optimizer,\n",
        "         criterion,\n",
        "         0,\n",
        "         tst_dl,\n",
        "         test_losses,\n",
        "         \"\",\n",
        "         \"\",\n",
        "         acc_thresh=0.5,\n",
        "         predicter=torch.nn.Sigmoid(),\n",
        "         validation=False)"
      ],
      "execution_count": 11,
      "outputs": [
        {
          "output_type": "display_data",
          "data": {
            "text/html": [
              "\n",
              "        <p>Loss: 0.3492   8000 / 8000</p>\n",
              "        <progress value='8000' max='8000', style='width: 100%'>8000</progress>\n",
              "    "
            ],
            "text/plain": [
              "<IPython.core.display.HTML object>"
            ]
          },
          "metadata": {
            "tags": []
          }
        },
        {
          "output_type": "stream",
          "text": [
            "Validation Loss:  0.3492\n",
            "Validation accuracy: 99.9250%\n"
          ],
          "name": "stdout"
        },
        {
          "output_type": "execute_result",
          "data": {
            "text/plain": [
              "0.34921380830189536"
            ]
          },
          "metadata": {
            "tags": []
          },
          "execution_count": 11
        }
      ]
    },
    {
      "cell_type": "code",
      "metadata": {
        "colab_type": "code",
        "id": "eJtJVTthqp1u",
        "colab": {}
      },
      "source": [
        "trn_dl, val_dl, tst_dl = get_dataloaders(dataset=DeepFakeHDF5Dataset_SVM)"
      ],
      "execution_count": 0,
      "outputs": []
    },
    {
      "cell_type": "code",
      "metadata": {
        "colab_type": "code",
        "id": "LnWcq8jHzLaP",
        "colab": {}
      },
      "source": [
        "s_epoch      = 1\n",
        "num_epochs   = 300\n",
        "lr_rate      = 1e-2\n",
        "load_model   = False\n",
        "model_name   = 'SVMModel'\n",
        "path         = '/content/SVM_Model'\n",
        "\n",
        "svm_model = SVM(725).to(device)\n",
        "criterion = torch.nn.SoftMarginLoss()\n",
        "optimizer = torch.optim.SGD(svm_model.parameters(), lr=lr_rate, weight_decay=1e-3, momentum=0.9)\n",
        "\n",
        "if load_model:\n",
        "    svm_model.load_state_dict(torch.load(''))"
      ],
      "execution_count": 0,
      "outputs": []
    },
    {
      "cell_type": "code",
      "metadata": {
        "colab_type": "code",
        "id": "YJRYtTfYz0rr",
        "outputId": "3a08a930-25b8-46fc-ed8e-5be334d74981",
        "colab": {
          "base_uri": "https://localhost:8080/",
          "height": 1000
        }
      },
      "source": [
        "def svm_lbls(T):\n",
        "    T[torch.nonzero((T < 0.0))] = 0\n",
        "    return T\n",
        "\n",
        "train_losses, valid_losses = train(svm_model, \n",
        "                                   optimizer, \n",
        "                                   criterion, \n",
        "                                   trn_dl, \n",
        "                                   val_dl,\n",
        "                                   model_name,\n",
        "                                   path,\n",
        "                                   acc_thresh=0.0,\n",
        "                                   label_transform=svm_lbls,\n",
        "                                   predicter=nn.Tanh())"
      ],
      "execution_count": 15,
      "outputs": [
        {
          "output_type": "display_data",
          "data": {
            "text/html": [
              "\n",
              "        <p>Loss: 0.0978   24000 / 24000</p>\n",
              "        <progress value='24000' max='24000', style='width: 100%'>24000</progress>\n",
              "    "
            ],
            "text/plain": [
              "<IPython.core.display.HTML object>"
            ]
          },
          "metadata": {
            "tags": []
          }
        },
        {
          "output_type": "stream",
          "text": [
            "Epoch:  1\n",
            "Training loss: 0.0978\n"
          ],
          "name": "stdout"
        },
        {
          "output_type": "display_data",
          "data": {
            "text/html": [
              "\n",
              "        <p>Loss: 0.0367   24000 / 24000</p>\n",
              "        <progress value='24000' max='24000', style='width: 100%'>24000</progress>\n",
              "    "
            ],
            "text/plain": [
              "<IPython.core.display.HTML object>"
            ]
          },
          "metadata": {
            "tags": []
          }
        },
        {
          "output_type": "stream",
          "text": [
            "Training Loss:  0.0367\n",
            "Training accuracy: 98.7333%\n"
          ],
          "name": "stdout"
        },
        {
          "output_type": "display_data",
          "data": {
            "text/html": [
              "\n",
              "        <p>Loss: 0.0362   8000 / 8000</p>\n",
              "        <progress value='8000' max='8000', style='width: 100%'>8000</progress>\n",
              "    "
            ],
            "text/plain": [
              "<IPython.core.display.HTML object>"
            ]
          },
          "metadata": {
            "tags": []
          }
        },
        {
          "output_type": "stream",
          "text": [
            "Validation Loss:  0.0362\n",
            "Validation accuracy: 98.7125%\n",
            "\"Best Loss\": 0.036177474029717\n",
            "\n",
            "Validation Loss has gone up 0 times.\n",
            "\n"
          ],
          "name": "stdout"
        },
        {
          "output_type": "display_data",
          "data": {
            "text/html": [
              "\n",
              "        <p>Loss: 0.0289   24000 / 24000</p>\n",
              "        <progress value='24000' max='24000', style='width: 100%'>24000</progress>\n",
              "    "
            ],
            "text/plain": [
              "<IPython.core.display.HTML object>"
            ]
          },
          "metadata": {
            "tags": []
          }
        },
        {
          "output_type": "stream",
          "text": [
            "Epoch:  2\n",
            "Training loss: 0.0289\n"
          ],
          "name": "stdout"
        },
        {
          "output_type": "display_data",
          "data": {
            "text/html": [
              "\n",
              "        <p>Loss: 0.0217   24000 / 24000</p>\n",
              "        <progress value='24000' max='24000', style='width: 100%'>24000</progress>\n",
              "    "
            ],
            "text/plain": [
              "<IPython.core.display.HTML object>"
            ]
          },
          "metadata": {
            "tags": []
          }
        },
        {
          "output_type": "stream",
          "text": [
            "Training Loss:  0.0217\n",
            "Training accuracy: 99.1333%\n"
          ],
          "name": "stdout"
        },
        {
          "output_type": "display_data",
          "data": {
            "text/html": [
              "\n",
              "        <p>Loss: 0.0217   8000 / 8000</p>\n",
              "        <progress value='8000' max='8000', style='width: 100%'>8000</progress>\n",
              "    "
            ],
            "text/plain": [
              "<IPython.core.display.HTML object>"
            ]
          },
          "metadata": {
            "tags": []
          }
        },
        {
          "output_type": "stream",
          "text": [
            "Validation Loss:  0.0217\n",
            "Validation accuracy: 99.0625%\n",
            "\"Best Loss\": 0.021669833994810542\n",
            "\n",
            "Validation Loss has gone up 0 times.\n",
            "\n"
          ],
          "name": "stdout"
        },
        {
          "output_type": "display_data",
          "data": {
            "text/html": [
              "\n",
              "        <p>Loss: 0.0174   24000 / 24000</p>\n",
              "        <progress value='24000' max='24000', style='width: 100%'>24000</progress>\n",
              "    "
            ],
            "text/plain": [
              "<IPython.core.display.HTML object>"
            ]
          },
          "metadata": {
            "tags": []
          }
        },
        {
          "output_type": "stream",
          "text": [
            "Epoch:  3\n",
            "Training loss: 0.0174\n"
          ],
          "name": "stdout"
        },
        {
          "output_type": "display_data",
          "data": {
            "text/html": [
              "\n",
              "        <p>Loss: 0.0115   24000 / 24000</p>\n",
              "        <progress value='24000' max='24000', style='width: 100%'>24000</progress>\n",
              "    "
            ],
            "text/plain": [
              "<IPython.core.display.HTML object>"
            ]
          },
          "metadata": {
            "tags": []
          }
        },
        {
          "output_type": "stream",
          "text": [
            "Training Loss:  0.0115\n",
            "Training accuracy: 99.4042%\n"
          ],
          "name": "stdout"
        },
        {
          "output_type": "display_data",
          "data": {
            "text/html": [
              "\n",
              "        <p>Loss: 0.0112   8000 / 8000</p>\n",
              "        <progress value='8000' max='8000', style='width: 100%'>8000</progress>\n",
              "    "
            ],
            "text/plain": [
              "<IPython.core.display.HTML object>"
            ]
          },
          "metadata": {
            "tags": []
          }
        },
        {
          "output_type": "stream",
          "text": [
            "Validation Loss:  0.0112\n",
            "Validation accuracy: 99.4125%\n",
            "\"Best Loss\": 0.011232316445943616\n",
            "\n",
            "Validation Loss has gone up 0 times.\n",
            "\n"
          ],
          "name": "stdout"
        },
        {
          "output_type": "display_data",
          "data": {
            "text/html": [
              "\n",
              "        <p>Loss: 0.0104   24000 / 24000</p>\n",
              "        <progress value='24000' max='24000', style='width: 100%'>24000</progress>\n",
              "    "
            ],
            "text/plain": [
              "<IPython.core.display.HTML object>"
            ]
          },
          "metadata": {
            "tags": []
          }
        },
        {
          "output_type": "stream",
          "text": [
            "Epoch:  4\n",
            "Training loss: 0.0104\n"
          ],
          "name": "stdout"
        },
        {
          "output_type": "display_data",
          "data": {
            "text/html": [
              "\n",
              "        <p>Loss: 0.0088   24000 / 24000</p>\n",
              "        <progress value='24000' max='24000', style='width: 100%'>24000</progress>\n",
              "    "
            ],
            "text/plain": [
              "<IPython.core.display.HTML object>"
            ]
          },
          "metadata": {
            "tags": []
          }
        },
        {
          "output_type": "stream",
          "text": [
            "Training Loss:  0.0088\n",
            "Training accuracy: 99.4292%\n"
          ],
          "name": "stdout"
        },
        {
          "output_type": "display_data",
          "data": {
            "text/html": [
              "\n",
              "        <p>Loss: 0.0082   8000 / 8000</p>\n",
              "        <progress value='8000' max='8000', style='width: 100%'>8000</progress>\n",
              "    "
            ],
            "text/plain": [
              "<IPython.core.display.HTML object>"
            ]
          },
          "metadata": {
            "tags": []
          }
        },
        {
          "output_type": "stream",
          "text": [
            "Validation Loss:  0.0082\n",
            "Validation accuracy: 99.4875%\n",
            "\"Best Loss\": 0.00817433439771689\n",
            "\n",
            "Validation Loss has gone up 0 times.\n",
            "\n"
          ],
          "name": "stdout"
        },
        {
          "output_type": "display_data",
          "data": {
            "text/html": [
              "\n",
              "        <p>Loss: 0.0083   24000 / 24000</p>\n",
              "        <progress value='24000' max='24000', style='width: 100%'>24000</progress>\n",
              "    "
            ],
            "text/plain": [
              "<IPython.core.display.HTML object>"
            ]
          },
          "metadata": {
            "tags": []
          }
        },
        {
          "output_type": "stream",
          "text": [
            "Epoch:  5\n",
            "Training loss: 0.0083\n"
          ],
          "name": "stdout"
        },
        {
          "output_type": "display_data",
          "data": {
            "text/html": [
              "\n",
              "        <p>Loss: 0.0066   24000 / 24000</p>\n",
              "        <progress value='24000' max='24000', style='width: 100%'>24000</progress>\n",
              "    "
            ],
            "text/plain": [
              "<IPython.core.display.HTML object>"
            ]
          },
          "metadata": {
            "tags": []
          }
        },
        {
          "output_type": "stream",
          "text": [
            "Training Loss:  0.0066\n",
            "Training accuracy: 99.4875%\n"
          ],
          "name": "stdout"
        },
        {
          "output_type": "display_data",
          "data": {
            "text/html": [
              "\n",
              "        <p>Loss: 0.0067   8000 / 8000</p>\n",
              "        <progress value='8000' max='8000', style='width: 100%'>8000</progress>\n",
              "    "
            ],
            "text/plain": [
              "<IPython.core.display.HTML object>"
            ]
          },
          "metadata": {
            "tags": []
          }
        },
        {
          "output_type": "stream",
          "text": [
            "Validation Loss:  0.0067\n",
            "Validation accuracy: 99.4500%\n",
            "\"Best Loss\": 0.006681958743784989\n",
            "\n",
            "Validation Loss has gone up 0 times.\n",
            "\n"
          ],
          "name": "stdout"
        },
        {
          "output_type": "display_data",
          "data": {
            "text/html": [
              "\n",
              "        <p>Loss: 0.0066   24000 / 24000</p>\n",
              "        <progress value='24000' max='24000', style='width: 100%'>24000</progress>\n",
              "    "
            ],
            "text/plain": [
              "<IPython.core.display.HTML object>"
            ]
          },
          "metadata": {
            "tags": []
          }
        },
        {
          "output_type": "stream",
          "text": [
            "Epoch:  6\n",
            "Training loss: 0.0066\n"
          ],
          "name": "stdout"
        },
        {
          "output_type": "display_data",
          "data": {
            "text/html": [
              "\n",
              "        <p>Loss: 0.0056   24000 / 24000</p>\n",
              "        <progress value='24000' max='24000', style='width: 100%'>24000</progress>\n",
              "    "
            ],
            "text/plain": [
              "<IPython.core.display.HTML object>"
            ]
          },
          "metadata": {
            "tags": []
          }
        },
        {
          "output_type": "stream",
          "text": [
            "Training Loss:  0.0056\n",
            "Training accuracy: 99.5375%\n"
          ],
          "name": "stdout"
        },
        {
          "output_type": "display_data",
          "data": {
            "text/html": [
              "\n",
              "        <p>Loss: 0.0055   8000 / 8000</p>\n",
              "        <progress value='8000' max='8000', style='width: 100%'>8000</progress>\n",
              "    "
            ],
            "text/plain": [
              "<IPython.core.display.HTML object>"
            ]
          },
          "metadata": {
            "tags": []
          }
        },
        {
          "output_type": "stream",
          "text": [
            "Validation Loss:  0.0055\n",
            "Validation accuracy: 99.5625%\n",
            "\"Best Loss\": 0.00554581182373185\n",
            "\n",
            "Validation Loss has gone up 0 times.\n",
            "\n"
          ],
          "name": "stdout"
        },
        {
          "output_type": "display_data",
          "data": {
            "text/html": [
              "\n",
              "        <p>Loss: 0.0057   24000 / 24000</p>\n",
              "        <progress value='24000' max='24000', style='width: 100%'>24000</progress>\n",
              "    "
            ],
            "text/plain": [
              "<IPython.core.display.HTML object>"
            ]
          },
          "metadata": {
            "tags": []
          }
        },
        {
          "output_type": "stream",
          "text": [
            "Epoch:  7\n",
            "Training loss: 0.0057\n"
          ],
          "name": "stdout"
        },
        {
          "output_type": "display_data",
          "data": {
            "text/html": [
              "\n",
              "        <p>Loss: 0.0049   24000 / 24000</p>\n",
              "        <progress value='24000' max='24000', style='width: 100%'>24000</progress>\n",
              "    "
            ],
            "text/plain": [
              "<IPython.core.display.HTML object>"
            ]
          },
          "metadata": {
            "tags": []
          }
        },
        {
          "output_type": "stream",
          "text": [
            "Training Loss:  0.0049\n",
            "Training accuracy: 99.5125%\n"
          ],
          "name": "stdout"
        },
        {
          "output_type": "display_data",
          "data": {
            "text/html": [
              "\n",
              "        <p>Loss: 0.0050   8000 / 8000</p>\n",
              "        <progress value='8000' max='8000', style='width: 100%'>8000</progress>\n",
              "    "
            ],
            "text/plain": [
              "<IPython.core.display.HTML object>"
            ]
          },
          "metadata": {
            "tags": []
          }
        },
        {
          "output_type": "stream",
          "text": [
            "Validation Loss:  0.005\n",
            "Validation accuracy: 99.5875%\n",
            "\"Best Loss\": 0.004957580689473877\n",
            "\n",
            "Validation Loss has gone up 0 times.\n",
            "\n"
          ],
          "name": "stdout"
        },
        {
          "output_type": "display_data",
          "data": {
            "text/html": [
              "\n",
              "        <p>Loss: 0.0052   24000 / 24000</p>\n",
              "        <progress value='24000' max='24000', style='width: 100%'>24000</progress>\n",
              "    "
            ],
            "text/plain": [
              "<IPython.core.display.HTML object>"
            ]
          },
          "metadata": {
            "tags": []
          }
        },
        {
          "output_type": "stream",
          "text": [
            "Epoch:  8\n",
            "Training loss: 0.0052\n"
          ],
          "name": "stdout"
        },
        {
          "output_type": "display_data",
          "data": {
            "text/html": [
              "\n",
              "        <p>Loss: 0.0045   24000 / 24000</p>\n",
              "        <progress value='24000' max='24000', style='width: 100%'>24000</progress>\n",
              "    "
            ],
            "text/plain": [
              "<IPython.core.display.HTML object>"
            ]
          },
          "metadata": {
            "tags": []
          }
        },
        {
          "output_type": "stream",
          "text": [
            "Training Loss:  0.0045\n",
            "Training accuracy: 99.5083%\n"
          ],
          "name": "stdout"
        },
        {
          "output_type": "display_data",
          "data": {
            "text/html": [
              "\n",
              "        <p>Loss: 0.0044   8000 / 8000</p>\n",
              "        <progress value='8000' max='8000', style='width: 100%'>8000</progress>\n",
              "    "
            ],
            "text/plain": [
              "<IPython.core.display.HTML object>"
            ]
          },
          "metadata": {
            "tags": []
          }
        },
        {
          "output_type": "stream",
          "text": [
            "Validation Loss:  0.0044\n",
            "Validation accuracy: 99.5875%\n",
            "\"Best Loss\": 0.004428680411480841\n",
            "\n",
            "Validation Loss has gone up 0 times.\n",
            "\n"
          ],
          "name": "stdout"
        },
        {
          "output_type": "display_data",
          "data": {
            "text/html": [
              "\n",
              "        <p>Loss: 0.0048   24000 / 24000</p>\n",
              "        <progress value='24000' max='24000', style='width: 100%'>24000</progress>\n",
              "    "
            ],
            "text/plain": [
              "<IPython.core.display.HTML object>"
            ]
          },
          "metadata": {
            "tags": []
          }
        },
        {
          "output_type": "stream",
          "text": [
            "Epoch:  9\n",
            "Training loss: 0.0048\n"
          ],
          "name": "stdout"
        },
        {
          "output_type": "display_data",
          "data": {
            "text/html": [
              "\n",
              "        <p>Loss: 0.0042   24000 / 24000</p>\n",
              "        <progress value='24000' max='24000', style='width: 100%'>24000</progress>\n",
              "    "
            ],
            "text/plain": [
              "<IPython.core.display.HTML object>"
            ]
          },
          "metadata": {
            "tags": []
          }
        },
        {
          "output_type": "stream",
          "text": [
            "Training Loss:  0.0042\n",
            "Training accuracy: 99.5167%\n"
          ],
          "name": "stdout"
        },
        {
          "output_type": "display_data",
          "data": {
            "text/html": [
              "\n",
              "        <p>Loss: 0.0044   8000 / 8000</p>\n",
              "        <progress value='8000' max='8000', style='width: 100%'>8000</progress>\n",
              "    "
            ],
            "text/plain": [
              "<IPython.core.display.HTML object>"
            ]
          },
          "metadata": {
            "tags": []
          }
        },
        {
          "output_type": "stream",
          "text": [
            "Validation Loss:  0.0044\n",
            "Validation accuracy: 99.5375%\n",
            "Validation Loss has gone up 1 times.\n",
            "\n"
          ],
          "name": "stdout"
        },
        {
          "output_type": "display_data",
          "data": {
            "text/html": [
              "\n",
              "        <p>Loss: 0.0043   24000 / 24000</p>\n",
              "        <progress value='24000' max='24000', style='width: 100%'>24000</progress>\n",
              "    "
            ],
            "text/plain": [
              "<IPython.core.display.HTML object>"
            ]
          },
          "metadata": {
            "tags": []
          }
        },
        {
          "output_type": "stream",
          "text": [
            "Epoch:  10\n",
            "Training loss: 0.0043\n"
          ],
          "name": "stdout"
        },
        {
          "output_type": "display_data",
          "data": {
            "text/html": [
              "\n",
              "        <p>Loss: 0.0038   24000 / 24000</p>\n",
              "        <progress value='24000' max='24000', style='width: 100%'>24000</progress>\n",
              "    "
            ],
            "text/plain": [
              "<IPython.core.display.HTML object>"
            ]
          },
          "metadata": {
            "tags": []
          }
        },
        {
          "output_type": "stream",
          "text": [
            "Training Loss:  0.0038\n",
            "Training accuracy: 99.4792%\n"
          ],
          "name": "stdout"
        },
        {
          "output_type": "display_data",
          "data": {
            "text/html": [
              "\n",
              "        <p>Loss: 0.0038   8000 / 8000</p>\n",
              "        <progress value='8000' max='8000', style='width: 100%'>8000</progress>\n",
              "    "
            ],
            "text/plain": [
              "<IPython.core.display.HTML object>"
            ]
          },
          "metadata": {
            "tags": []
          }
        },
        {
          "output_type": "stream",
          "text": [
            "Validation Loss:  0.0038\n",
            "Validation accuracy: 99.5375%\n",
            "\"Best Loss\": 0.0037898623064855142\n",
            "\n",
            "Validation Loss has gone up 0 times.\n",
            "\n"
          ],
          "name": "stdout"
        },
        {
          "output_type": "display_data",
          "data": {
            "text/html": [
              "\n",
              "        <p>Loss: 0.0045   24000 / 24000</p>\n",
              "        <progress value='24000' max='24000', style='width: 100%'>24000</progress>\n",
              "    "
            ],
            "text/plain": [
              "<IPython.core.display.HTML object>"
            ]
          },
          "metadata": {
            "tags": []
          }
        },
        {
          "output_type": "stream",
          "text": [
            "Epoch:  11\n",
            "Training loss: 0.0045\n"
          ],
          "name": "stdout"
        },
        {
          "output_type": "display_data",
          "data": {
            "text/html": [
              "\n",
              "        <p>Loss: 0.0036   24000 / 24000</p>\n",
              "        <progress value='24000' max='24000', style='width: 100%'>24000</progress>\n",
              "    "
            ],
            "text/plain": [
              "<IPython.core.display.HTML object>"
            ]
          },
          "metadata": {
            "tags": []
          }
        },
        {
          "output_type": "stream",
          "text": [
            "Training Loss:  0.0036\n",
            "Training accuracy: 99.5375%\n"
          ],
          "name": "stdout"
        },
        {
          "output_type": "display_data",
          "data": {
            "text/html": [
              "\n",
              "        <p>Loss: 0.0036   8000 / 8000</p>\n",
              "        <progress value='8000' max='8000', style='width: 100%'>8000</progress>\n",
              "    "
            ],
            "text/plain": [
              "<IPython.core.display.HTML object>"
            ]
          },
          "metadata": {
            "tags": []
          }
        },
        {
          "output_type": "stream",
          "text": [
            "Validation Loss:  0.0036\n",
            "Validation accuracy: 99.5875%\n",
            "\"Best Loss\": 0.003585968307951199\n",
            "\n",
            "Validation Loss has gone up 0 times.\n",
            "\n"
          ],
          "name": "stdout"
        },
        {
          "output_type": "display_data",
          "data": {
            "text/html": [
              "\n",
              "        <p>Loss: 0.0039   24000 / 24000</p>\n",
              "        <progress value='24000' max='24000', style='width: 100%'>24000</progress>\n",
              "    "
            ],
            "text/plain": [
              "<IPython.core.display.HTML object>"
            ]
          },
          "metadata": {
            "tags": []
          }
        },
        {
          "output_type": "stream",
          "text": [
            "Epoch:  12\n",
            "Training loss: 0.0039\n"
          ],
          "name": "stdout"
        },
        {
          "output_type": "display_data",
          "data": {
            "text/html": [
              "\n",
              "        <p>Loss: 0.0035   24000 / 24000</p>\n",
              "        <progress value='24000' max='24000', style='width: 100%'>24000</progress>\n",
              "    "
            ],
            "text/plain": [
              "<IPython.core.display.HTML object>"
            ]
          },
          "metadata": {
            "tags": []
          }
        },
        {
          "output_type": "stream",
          "text": [
            "Training Loss:  0.0035\n",
            "Training accuracy: 99.5833%\n"
          ],
          "name": "stdout"
        },
        {
          "output_type": "display_data",
          "data": {
            "text/html": [
              "\n",
              "        <p>Loss: 0.0035   8000 / 8000</p>\n",
              "        <progress value='8000' max='8000', style='width: 100%'>8000</progress>\n",
              "    "
            ],
            "text/plain": [
              "<IPython.core.display.HTML object>"
            ]
          },
          "metadata": {
            "tags": []
          }
        },
        {
          "output_type": "stream",
          "text": [
            "Validation Loss:  0.0035\n",
            "Validation accuracy: 99.5750%\n",
            "\"Best Loss\": 0.003520814105979212\n",
            "\n",
            "Validation Loss has gone up 0 times.\n",
            "\n"
          ],
          "name": "stdout"
        },
        {
          "output_type": "display_data",
          "data": {
            "text/html": [
              "\n",
              "        <p>Loss: 0.0037   24000 / 24000</p>\n",
              "        <progress value='24000' max='24000', style='width: 100%'>24000</progress>\n",
              "    "
            ],
            "text/plain": [
              "<IPython.core.display.HTML object>"
            ]
          },
          "metadata": {
            "tags": []
          }
        },
        {
          "output_type": "stream",
          "text": [
            "Epoch:  13\n",
            "Training loss: 0.0037\n"
          ],
          "name": "stdout"
        },
        {
          "output_type": "display_data",
          "data": {
            "text/html": [
              "\n",
              "        <p>Loss: 0.0048   24000 / 24000</p>\n",
              "        <progress value='24000' max='24000', style='width: 100%'>24000</progress>\n",
              "    "
            ],
            "text/plain": [
              "<IPython.core.display.HTML object>"
            ]
          },
          "metadata": {
            "tags": []
          }
        },
        {
          "output_type": "stream",
          "text": [
            "Training Loss:  0.0048\n",
            "Training accuracy: 99.5167%\n"
          ],
          "name": "stdout"
        },
        {
          "output_type": "display_data",
          "data": {
            "text/html": [
              "\n",
              "        <p>Loss: 0.0053   8000 / 8000</p>\n",
              "        <progress value='8000' max='8000', style='width: 100%'>8000</progress>\n",
              "    "
            ],
            "text/plain": [
              "<IPython.core.display.HTML object>"
            ]
          },
          "metadata": {
            "tags": []
          }
        },
        {
          "output_type": "stream",
          "text": [
            "Validation Loss:  0.0053\n",
            "Validation accuracy: 99.5750%\n",
            "Validation Loss has gone up 1 times.\n",
            "\n"
          ],
          "name": "stdout"
        },
        {
          "output_type": "display_data",
          "data": {
            "text/html": [
              "\n",
              "        <p>Loss: 0.0038   24000 / 24000</p>\n",
              "        <progress value='24000' max='24000', style='width: 100%'>24000</progress>\n",
              "    "
            ],
            "text/plain": [
              "<IPython.core.display.HTML object>"
            ]
          },
          "metadata": {
            "tags": []
          }
        },
        {
          "output_type": "stream",
          "text": [
            "Epoch:  14\n",
            "Training loss: 0.0038\n"
          ],
          "name": "stdout"
        },
        {
          "output_type": "display_data",
          "data": {
            "text/html": [
              "\n",
              "        <p>Loss: 0.0036   24000 / 24000</p>\n",
              "        <progress value='24000' max='24000', style='width: 100%'>24000</progress>\n",
              "    "
            ],
            "text/plain": [
              "<IPython.core.display.HTML object>"
            ]
          },
          "metadata": {
            "tags": []
          }
        },
        {
          "output_type": "stream",
          "text": [
            "Training Loss:  0.0036\n",
            "Training accuracy: 99.5792%\n"
          ],
          "name": "stdout"
        },
        {
          "output_type": "display_data",
          "data": {
            "text/html": [
              "\n",
              "        <p>Loss: 0.0036   8000 / 8000</p>\n",
              "        <progress value='8000' max='8000', style='width: 100%'>8000</progress>\n",
              "    "
            ],
            "text/plain": [
              "<IPython.core.display.HTML object>"
            ]
          },
          "metadata": {
            "tags": []
          }
        },
        {
          "output_type": "stream",
          "text": [
            "Validation Loss:  0.0036\n",
            "Validation accuracy: 99.5750%\n",
            "Validation Loss has gone up 0 times.\n",
            "\n"
          ],
          "name": "stdout"
        },
        {
          "output_type": "display_data",
          "data": {
            "text/html": [
              "\n",
              "        <p>Loss: 0.0035   24000 / 24000</p>\n",
              "        <progress value='24000' max='24000', style='width: 100%'>24000</progress>\n",
              "    "
            ],
            "text/plain": [
              "<IPython.core.display.HTML object>"
            ]
          },
          "metadata": {
            "tags": []
          }
        },
        {
          "output_type": "stream",
          "text": [
            "Epoch:  15\n",
            "Training loss: 0.0035\n"
          ],
          "name": "stdout"
        },
        {
          "output_type": "display_data",
          "data": {
            "text/html": [
              "\n",
              "        <p>Loss: 0.0033   24000 / 24000</p>\n",
              "        <progress value='24000' max='24000', style='width: 100%'>24000</progress>\n",
              "    "
            ],
            "text/plain": [
              "<IPython.core.display.HTML object>"
            ]
          },
          "metadata": {
            "tags": []
          }
        },
        {
          "output_type": "stream",
          "text": [
            "Training Loss:  0.0033\n",
            "Training accuracy: 99.5125%\n"
          ],
          "name": "stdout"
        },
        {
          "output_type": "display_data",
          "data": {
            "text/html": [
              "\n",
              "        <p>Loss: 0.0032   8000 / 8000</p>\n",
              "        <progress value='8000' max='8000', style='width: 100%'>8000</progress>\n",
              "    "
            ],
            "text/plain": [
              "<IPython.core.display.HTML object>"
            ]
          },
          "metadata": {
            "tags": []
          }
        },
        {
          "output_type": "stream",
          "text": [
            "Validation Loss:  0.0032\n",
            "Validation accuracy: 99.5750%\n",
            "\"Best Loss\": 0.0032471835156828764\n",
            "\n",
            "Validation Loss has gone up 0 times.\n",
            "\n"
          ],
          "name": "stdout"
        },
        {
          "output_type": "display_data",
          "data": {
            "text/html": [
              "\n",
              "        <p>Loss: 0.0037   24000 / 24000</p>\n",
              "        <progress value='24000' max='24000', style='width: 100%'>24000</progress>\n",
              "    "
            ],
            "text/plain": [
              "<IPython.core.display.HTML object>"
            ]
          },
          "metadata": {
            "tags": []
          }
        },
        {
          "output_type": "stream",
          "text": [
            "Epoch:  16\n",
            "Training loss: 0.0037\n"
          ],
          "name": "stdout"
        },
        {
          "output_type": "display_data",
          "data": {
            "text/html": [
              "\n",
              "        <p>Loss: 0.0032   24000 / 24000</p>\n",
              "        <progress value='24000' max='24000', style='width: 100%'>24000</progress>\n",
              "    "
            ],
            "text/plain": [
              "<IPython.core.display.HTML object>"
            ]
          },
          "metadata": {
            "tags": []
          }
        },
        {
          "output_type": "stream",
          "text": [
            "Training Loss:  0.0032\n",
            "Training accuracy: 99.5167%\n"
          ],
          "name": "stdout"
        },
        {
          "output_type": "display_data",
          "data": {
            "text/html": [
              "\n",
              "        <p>Loss: 0.0030   8000 / 8000</p>\n",
              "        <progress value='8000' max='8000', style='width: 100%'>8000</progress>\n",
              "    "
            ],
            "text/plain": [
              "<IPython.core.display.HTML object>"
            ]
          },
          "metadata": {
            "tags": []
          }
        },
        {
          "output_type": "stream",
          "text": [
            "Validation Loss:  0.003\n",
            "Validation accuracy: 99.6125%\n",
            "\"Best Loss\": 0.003045659438366928\n",
            "\n",
            "Validation Loss has gone up 0 times.\n",
            "\n"
          ],
          "name": "stdout"
        },
        {
          "output_type": "display_data",
          "data": {
            "text/html": [
              "\n",
              "        <p>Loss: 0.0036   24000 / 24000</p>\n",
              "        <progress value='24000' max='24000', style='width: 100%'>24000</progress>\n",
              "    "
            ],
            "text/plain": [
              "<IPython.core.display.HTML object>"
            ]
          },
          "metadata": {
            "tags": []
          }
        },
        {
          "output_type": "stream",
          "text": [
            "Epoch:  17\n",
            "Training loss: 0.0036\n"
          ],
          "name": "stdout"
        },
        {
          "output_type": "display_data",
          "data": {
            "text/html": [
              "\n",
              "        <p>Loss: 0.0032   24000 / 24000</p>\n",
              "        <progress value='24000' max='24000', style='width: 100%'>24000</progress>\n",
              "    "
            ],
            "text/plain": [
              "<IPython.core.display.HTML object>"
            ]
          },
          "metadata": {
            "tags": []
          }
        },
        {
          "output_type": "stream",
          "text": [
            "Training Loss:  0.0032\n",
            "Training accuracy: 99.5167%\n"
          ],
          "name": "stdout"
        },
        {
          "output_type": "display_data",
          "data": {
            "text/html": [
              "\n",
              "        <p>Loss: 0.0028   8000 / 8000</p>\n",
              "        <progress value='8000' max='8000', style='width: 100%'>8000</progress>\n",
              "    "
            ],
            "text/plain": [
              "<IPython.core.display.HTML object>"
            ]
          },
          "metadata": {
            "tags": []
          }
        },
        {
          "output_type": "stream",
          "text": [
            "Validation Loss:  0.0028\n",
            "Validation accuracy: 99.5875%\n",
            "\"Best Loss\": 0.0028282582588005987\n",
            "\n",
            "Validation Loss has gone up 0 times.\n",
            "\n"
          ],
          "name": "stdout"
        },
        {
          "output_type": "display_data",
          "data": {
            "text/html": [
              "\n",
              "        <p>Loss: 0.0034   24000 / 24000</p>\n",
              "        <progress value='24000' max='24000', style='width: 100%'>24000</progress>\n",
              "    "
            ],
            "text/plain": [
              "<IPython.core.display.HTML object>"
            ]
          },
          "metadata": {
            "tags": []
          }
        },
        {
          "output_type": "stream",
          "text": [
            "Epoch:  18\n",
            "Training loss: 0.0034\n"
          ],
          "name": "stdout"
        },
        {
          "output_type": "display_data",
          "data": {
            "text/html": [
              "\n",
              "        <p>Loss: 0.0038   24000 / 24000</p>\n",
              "        <progress value='24000' max='24000', style='width: 100%'>24000</progress>\n",
              "    "
            ],
            "text/plain": [
              "<IPython.core.display.HTML object>"
            ]
          },
          "metadata": {
            "tags": []
          }
        },
        {
          "output_type": "stream",
          "text": [
            "Training Loss:  0.0038\n",
            "Training accuracy: 99.6042%\n"
          ],
          "name": "stdout"
        },
        {
          "output_type": "display_data",
          "data": {
            "text/html": [
              "\n",
              "        <p>Loss: 0.0038   8000 / 8000</p>\n",
              "        <progress value='8000' max='8000', style='width: 100%'>8000</progress>\n",
              "    "
            ],
            "text/plain": [
              "<IPython.core.display.HTML object>"
            ]
          },
          "metadata": {
            "tags": []
          }
        },
        {
          "output_type": "stream",
          "text": [
            "Validation Loss:  0.0038\n",
            "Validation accuracy: 99.6375%\n",
            "Validation Loss has gone up 1 times.\n",
            "\n"
          ],
          "name": "stdout"
        },
        {
          "output_type": "display_data",
          "data": {
            "text/html": [
              "\n",
              "        <p>Loss: 0.0034   24000 / 24000</p>\n",
              "        <progress value='24000' max='24000', style='width: 100%'>24000</progress>\n",
              "    "
            ],
            "text/plain": [
              "<IPython.core.display.HTML object>"
            ]
          },
          "metadata": {
            "tags": []
          }
        },
        {
          "output_type": "stream",
          "text": [
            "Epoch:  19\n",
            "Training loss: 0.0034\n"
          ],
          "name": "stdout"
        },
        {
          "output_type": "display_data",
          "data": {
            "text/html": [
              "\n",
              "        <p>Loss: 0.0034   24000 / 24000</p>\n",
              "        <progress value='24000' max='24000', style='width: 100%'>24000</progress>\n",
              "    "
            ],
            "text/plain": [
              "<IPython.core.display.HTML object>"
            ]
          },
          "metadata": {
            "tags": []
          }
        },
        {
          "output_type": "stream",
          "text": [
            "Training Loss:  0.0034\n",
            "Training accuracy: 99.5542%\n"
          ],
          "name": "stdout"
        },
        {
          "output_type": "display_data",
          "data": {
            "text/html": [
              "\n",
              "        <p>Loss: 0.0032   8000 / 8000</p>\n",
              "        <progress value='8000' max='8000', style='width: 100%'>8000</progress>\n",
              "    "
            ],
            "text/plain": [
              "<IPython.core.display.HTML object>"
            ]
          },
          "metadata": {
            "tags": []
          }
        },
        {
          "output_type": "stream",
          "text": [
            "Validation Loss:  0.0032\n",
            "Validation accuracy: 99.5250%\n",
            "Validation Loss has gone up 0 times.\n",
            "\n"
          ],
          "name": "stdout"
        },
        {
          "output_type": "display_data",
          "data": {
            "text/html": [
              "\n",
              "        <p>Loss: 0.0034   24000 / 24000</p>\n",
              "        <progress value='24000' max='24000', style='width: 100%'>24000</progress>\n",
              "    "
            ],
            "text/plain": [
              "<IPython.core.display.HTML object>"
            ]
          },
          "metadata": {
            "tags": []
          }
        },
        {
          "output_type": "stream",
          "text": [
            "Epoch:  20\n",
            "Training loss: 0.0034\n"
          ],
          "name": "stdout"
        },
        {
          "output_type": "display_data",
          "data": {
            "text/html": [
              "\n",
              "        <p>Loss: 0.0029   24000 / 24000</p>\n",
              "        <progress value='24000' max='24000', style='width: 100%'>24000</progress>\n",
              "    "
            ],
            "text/plain": [
              "<IPython.core.display.HTML object>"
            ]
          },
          "metadata": {
            "tags": []
          }
        },
        {
          "output_type": "stream",
          "text": [
            "Training Loss:  0.0029\n",
            "Training accuracy: 99.5542%\n"
          ],
          "name": "stdout"
        },
        {
          "output_type": "display_data",
          "data": {
            "text/html": [
              "\n",
              "        <p>Loss: 0.0027   8000 / 8000</p>\n",
              "        <progress value='8000' max='8000', style='width: 100%'>8000</progress>\n",
              "    "
            ],
            "text/plain": [
              "<IPython.core.display.HTML object>"
            ]
          },
          "metadata": {
            "tags": []
          }
        },
        {
          "output_type": "stream",
          "text": [
            "Validation Loss:  0.0027\n",
            "Validation accuracy: 99.6125%\n",
            "\"Best Loss\": 0.002673173997743381\n",
            "\n",
            "Validation Loss has gone up 0 times.\n",
            "\n"
          ],
          "name": "stdout"
        },
        {
          "output_type": "display_data",
          "data": {
            "text/html": [
              "\n",
              "        <p>Loss: 0.0030   24000 / 24000</p>\n",
              "        <progress value='24000' max='24000', style='width: 100%'>24000</progress>\n",
              "    "
            ],
            "text/plain": [
              "<IPython.core.display.HTML object>"
            ]
          },
          "metadata": {
            "tags": []
          }
        },
        {
          "output_type": "stream",
          "text": [
            "Epoch:  21\n",
            "Training loss: 0.003\n"
          ],
          "name": "stdout"
        },
        {
          "output_type": "display_data",
          "data": {
            "text/html": [
              "\n",
              "        <p>Loss: 0.0032   24000 / 24000</p>\n",
              "        <progress value='24000' max='24000', style='width: 100%'>24000</progress>\n",
              "    "
            ],
            "text/plain": [
              "<IPython.core.display.HTML object>"
            ]
          },
          "metadata": {
            "tags": []
          }
        },
        {
          "output_type": "stream",
          "text": [
            "Training Loss:  0.0032\n",
            "Training accuracy: 99.5625%\n"
          ],
          "name": "stdout"
        },
        {
          "output_type": "display_data",
          "data": {
            "text/html": [
              "\n",
              "        <p>Loss: 0.0030   8000 / 8000</p>\n",
              "        <progress value='8000' max='8000', style='width: 100%'>8000</progress>\n",
              "    "
            ],
            "text/plain": [
              "<IPython.core.display.HTML object>"
            ]
          },
          "metadata": {
            "tags": []
          }
        },
        {
          "output_type": "stream",
          "text": [
            "Validation Loss:  0.003\n",
            "Validation accuracy: 99.5875%\n",
            "Validation Loss has gone up 1 times.\n",
            "\n"
          ],
          "name": "stdout"
        },
        {
          "output_type": "display_data",
          "data": {
            "text/html": [
              "\n",
              "        <p>Loss: 0.0032   24000 / 24000</p>\n",
              "        <progress value='24000' max='24000', style='width: 100%'>24000</progress>\n",
              "    "
            ],
            "text/plain": [
              "<IPython.core.display.HTML object>"
            ]
          },
          "metadata": {
            "tags": []
          }
        },
        {
          "output_type": "stream",
          "text": [
            "Epoch:  22\n",
            "Training loss: 0.0032\n"
          ],
          "name": "stdout"
        },
        {
          "output_type": "display_data",
          "data": {
            "text/html": [
              "\n",
              "        <p>Loss: 0.0038   24000 / 24000</p>\n",
              "        <progress value='24000' max='24000', style='width: 100%'>24000</progress>\n",
              "    "
            ],
            "text/plain": [
              "<IPython.core.display.HTML object>"
            ]
          },
          "metadata": {
            "tags": []
          }
        },
        {
          "output_type": "stream",
          "text": [
            "Training Loss:  0.0038\n",
            "Training accuracy: 99.6000%\n"
          ],
          "name": "stdout"
        },
        {
          "output_type": "display_data",
          "data": {
            "text/html": [
              "\n",
              "        <p>Loss: 0.0037   8000 / 8000</p>\n",
              "        <progress value='8000' max='8000', style='width: 100%'>8000</progress>\n",
              "    "
            ],
            "text/plain": [
              "<IPython.core.display.HTML object>"
            ]
          },
          "metadata": {
            "tags": []
          }
        },
        {
          "output_type": "stream",
          "text": [
            "Validation Loss:  0.0037\n",
            "Validation accuracy: 99.4875%\n",
            "Validation Loss has gone up 2 times.\n",
            "\n"
          ],
          "name": "stdout"
        }
      ]
    },
    {
      "cell_type": "code",
      "metadata": {
        "colab_type": "code",
        "id": "3AEusYoYvD3m",
        "outputId": "ac4e3d1e-5704-4a6f-b94f-c2c02a37639d",
        "colab": {
          "base_uri": "https://localhost:8080/",
          "height": 116
        }
      },
      "source": [
        "test_losses = []\n",
        "evaluate(svm_model,\n",
        "         optimizer,\n",
        "         criterion,\n",
        "         0,\n",
        "         tst_dl,\n",
        "         test_losses,\n",
        "         \"\",\n",
        "         \"\",\n",
        "         acc_thresh=0.0,\n",
        "         label_transform=svm_lbls,\n",
        "         predicter=nn.Tanh(),\n",
        "         validation=False)"
      ],
      "execution_count": 16,
      "outputs": [
        {
          "output_type": "display_data",
          "data": {
            "text/html": [
              "\n",
              "        <p>Loss: 0.0037   8000 / 8000</p>\n",
              "        <progress value='8000' max='8000', style='width: 100%'>8000</progress>\n",
              "    "
            ],
            "text/plain": [
              "<IPython.core.display.HTML object>"
            ]
          },
          "metadata": {
            "tags": []
          }
        },
        {
          "output_type": "stream",
          "text": [
            "Validation Loss:  0.0037\n",
            "Validation accuracy: 99.5375%\n"
          ],
          "name": "stdout"
        },
        {
          "output_type": "execute_result",
          "data": {
            "text/plain": [
              "0.0037232280472323056"
            ]
          },
          "metadata": {
            "tags": []
          },
          "execution_count": 16
        }
      ]
    },
    {
      "cell_type": "code",
      "metadata": {
        "colab_type": "code",
        "id": "UJsUtBUwrmeW",
        "outputId": "0dc2426f-c58e-46e4-d211-a65bb6271418",
        "colab": {
          "base_uri": "https://localhost:8080/",
          "height": 310
        }
      },
      "source": [
        "epochs = range(1, len(train_losses) + 1)\n",
        "epoch_ticks = [i if i % 5 == 0 else 0 for i in epochs]\n",
        "    \n",
        "# plt.figure(figsize=(10,6))\n",
        "plt.plot(epochs, train_losses, label='Training loss')\n",
        "plt.plot(epochs, valid_losses, label='Validation loss')\n",
        "plt.legend()\n",
        "plt.title('Learning Curves for SVM\\nlr=1e-2, weight_decay=1e-3, momentum=0.9')\n",
        "plt.xlabel('Epoch')\n",
        "plt.ylabel('Loss')\n",
        "plt.xticks(epoch_ticks)\n",
        "plt.savefig(\"svm_train.jpg\", dpi=300)\n",
        "plt.show()"
      ],
      "execution_count": 19,
      "outputs": [
        {
          "output_type": "display_data",
          "data": {
            "image/png": "[encoded data removed]",
            "text/plain": [
              "<Figure size 432x288 with 1 Axes>"
            ]
          },
          "metadata": {
            "tags": []
          }
        }
      ]
    },
    {
      "cell_type": "code",
      "metadata": {
        "colab_type": "code",
        "id": "uzgC9YvV9foq",
        "colab": {}
      },
      "source": [
        "full_dataloader = get_dataloaders(dataset=DeepFakeHDF5Dataset(), full_dataset=True)"
      ],
      "execution_count": 0,
      "outputs": []
    },
    {
      "cell_type": "code",
      "metadata": {
        "colab_type": "code",
        "id": "_kdXjvbBABLs",
        "outputId": "d4176e7e-ea07-4ad5-c14f-2744d5babc1c",
        "colab": {
          "base_uri": "https://localhost:8080/",
          "height": 35
        }
      },
      "source": [
        "(x, y) = next(iter(full_dataloader))\n",
        "print(x.shape)"
      ],
      "execution_count": 0,
      "outputs": [
        {
          "output_type": "stream",
          "text": [
            "torch.Size([40000, 725])\n"
          ],
          "name": "stdout"
        }
      ]
    },
    {
      "cell_type": "code",
      "metadata": {
        "colab_type": "code",
        "id": "xkGul8snDCr4",
        "outputId": "98a375a8-ed10-45bd-856b-6a056194ce37",
        "colab": {
          "base_uri": "https://localhost:8080/",
          "height": 69
        }
      },
      "source": [
        "# Manual Standardization\n",
        "from models import KMeans\n",
        "mu = torch.mean(x, dim=1).unsqueeze(-1)\n",
        "std = 1\n",
        "X = (x.sub(other=mu))/std\n",
        "cl, c = KMeans().run(X, K=2, Niter=50)"
      ],
      "execution_count": 0,
      "outputs": [
        {
          "output_type": "stream",
          "text": [
            "K-means example with 40,000 points in dimension 725, K = 2:\n",
            "Timing for 50 iterations: 81.15923s = 50 x 1.62318s\n",
            "\n"
          ],
          "name": "stdout"
        }
      ]
    },
    {
      "cell_type": "code",
      "metadata": {
        "colab_type": "code",
        "id": "x6mLjHp_HodB",
        "outputId": "0d7ca75a-086d-49ef-b0f9-44f831904a14",
        "colab": {
          "base_uri": "https://localhost:8080/",
          "height": 173
        }
      },
      "source": [
        "print(cl.size())\n",
        "print(c.size())\n",
        "y = y.squeeze(-1).long()\n",
        "print(y.size())\n",
        "print(cl)\n",
        "print(y)\n",
        "sub = (cl - y)\n",
        "print(sub)\n",
        "print(sub.size())\n",
        "print(cl == y)\n",
        "accuracy = 1 - torch.mean((cl == y).float())\n",
        "print(\"Accuracy: %f or %f \" % (accuracy, (1-accuracy)))"
      ],
      "execution_count": 0,
      "outputs": [
        {
          "output_type": "stream",
          "text": [
            "torch.Size([40000])\n",
            "torch.Size([2, 725])\n",
            "torch.Size([40000])\n",
            "tensor([0, 0, 1,  ..., 0, 1, 0])\n",
            "tensor([1, 1, 0,  ..., 1, 0, 1])\n",
            "tensor([-1, -1,  1,  ..., -1,  1, -1])\n",
            "torch.Size([40000])\n",
            "tensor([False, False, False,  ..., False, False, False])\n",
            "Accuracy: 0.961000 or 0.039000 \n"
          ],
          "name": "stdout"
        }
      ]
    },
    {
      "cell_type": "code",
      "metadata": {
        "colab_type": "code",
        "id": "QDlKzZ27NJ0B",
        "outputId": "90ea66f3-a5c3-4d16-da49-97c2a65cc0f7",
        "colab": {
          "base_uri": "https://localhost:8080/",
          "height": 52
        }
      },
      "source": [
        "# data\n",
        "(x, y) = next(iter(full_dataloader))\n",
        "data_size, dims, num_clusters = x.size(0), 2, 2\n",
        "mu = torch.mean(x, dim=1).unsqueeze(-1)\n",
        "std = 1\n",
        "X = (x.sub(other=mu))/std\n",
        "# kmeans\n",
        "cluster_ids_x, cluster_centers = kmeans(\n",
        "    X=X, num_clusters=num_clusters, distance='euclidean', device=torch.device('cuda:0')\n",
        ")"
      ],
      "execution_count": 0,
      "outputs": [
        {
          "output_type": "stream",
          "text": [
            "[running kmeans]: 0it [00:00, ?it/s]"
          ],
          "name": "stderr"
        },
        {
          "output_type": "stream",
          "text": [
            "running k-means on cuda:0..\n"
          ],
          "name": "stdout"
        },
        {
          "output_type": "stream",
          "text": [
            "[running kmeans]: 9it [00:01,  7.74it/s, center_shift=0.000000, iteration=9, tol=0.000100]\n"
          ],
          "name": "stderr"
        }
      ]
    },
    {
      "cell_type": "code",
      "metadata": {
        "colab_type": "code",
        "id": "CX6jeEH1N906",
        "outputId": "a5cbc7a6-2851-4f7c-d263-70fedeeadb34",
        "colab": {
          "base_uri": "https://localhost:8080/",
          "height": 69
        }
      },
      "source": [
        "\n",
        "print(cluster_ids_x.size())\n",
        "print(cluster_ids_x)\n",
        "y = y.squeeze(-1).long()\n",
        "accuracy = torch.mean((cluster_ids_x == y).float())\n",
        "print(\"Accuracy: %f or %f \" % (accuracy, (1-accuracy)))"
      ],
      "execution_count": 0,
      "outputs": [
        {
          "output_type": "stream",
          "text": [
            "torch.Size([40000])\n",
            "tensor([1, 1, 0,  ..., 0, 0, 1])\n",
            "Accuracy: 0.961000 or 0.039000 \n"
          ],
          "name": "stdout"
        }
      ]
    },
    {
      "cell_type": "code",
      "metadata": {
        "colab_type": "code",
        "id": "qQnuahSabWp0",
        "outputId": "a958a835-a24e-4a3f-90ec-95ea38241d50",
        "colab": {
          "base_uri": "https://localhost:8080/",
          "height": 87
        }
      },
      "source": [
        "from sklearn.cluster import KMeans\n",
        "k = 2\n",
        "kmeans = KMeans(n_clusters=k)\n",
        "kmeans = kmeans.fit(X)\n",
        "labels = kmeans.predict(X)\n",
        "Y = y.squeeze(-1).numpy()\n",
        "print(Y.shape)\n",
        "print(labels.shape)\n",
        "res =labels+Y\n",
        "cont=0\n",
        "print(res.shape)\n",
        "for z in range(len(res)):\n",
        "    if res[z] == 1:\n",
        "        cont+=1\n",
        "print(\"Average KM: \" + str(1-cont/len(res)) + \" or \" + str(cont/len(res)))"
      ],
      "execution_count": 0,
      "outputs": [
        {
          "output_type": "stream",
          "text": [
            "(40000,)\n",
            "(40000,)\n",
            "(40000,)\n",
            "Average KM: 0.961 or 0.039\n"
          ],
          "name": "stdout"
        }
      ]
    },
    {
      "cell_type": "code",
      "metadata": {
        "colab_type": "code",
        "id": "9dGAwCcD26iA",
        "colab": {}
      },
      "source": [
        "# import numpy as np\n",
        "# import matplotlib.pyplot as plt\n",
        "# import pickle\n",
        "\n",
        "# num = 5\n",
        "# LR = 0\n",
        "# SVM = 0\n",
        "# SVM_r = 0\n",
        "# SVM_p = 0\n",
        "\n",
        "\n",
        "# for z in range(num):\n",
        "#     # read python dict back from the file\n",
        "#     data = None\n",
        "#     lbls = None\n",
        "#     og_d = None\n",
        "#     with h5py.File(fhq_hdf5_pt, 'r') as hdf5_file: \n",
        "#         data = hdf5_file['fft_data'][:]\n",
        "#         lbls = hdf5_file['lbl_data'][:]\n",
        "#         og_d = hdf5_file['orgn_data'][:]\n",
        "\n",
        "#     X = data \n",
        "#     y = lbls \n",
        "\n",
        "\n",
        "#     try:\n",
        "\n",
        "#         from sklearn.model_selection import train_test_split\n",
        "#         X_train, X_test, y_train, y_test = train_test_split(X, y, test_size = 0.2)\n",
        "\n",
        "#         from sklearn.svm import SVC\n",
        "#         svclassifier = SVC(kernel='linear')\n",
        "#         svclassifier.fit(X_train, y_train)\n",
        "#         #print('Accuracy on test set: {:.3f}'.format(svclassifier.score(X_test, y_test)))\n",
        "               \n",
        "#         from sklearn.svm import SVC\n",
        "#         svclassifier_r = SVC(C=3.1, kernel='rbf', gamma=0.00002)\n",
        "#         svclassifier_r.fit(X_train, y_train)\n",
        "#         #print('Accuracy on test set: {:.3f}'.format(svclassifier_r.score(X_test, y_test)))\n",
        "                \n",
        "#         from sklearn.svm import SVC\n",
        "#         svclassifier_p = SVC(kernel='poly')\n",
        "#         svclassifier_p.fit(X_train, y_train)\n",
        "#         #print('Accuracy on test set: {:.3f}'.format(svclassifier_p.score(X_test, y_test)))\n",
        "        \n",
        "#         from sklearn.linear_model import LogisticRegression\n",
        "#         logreg = LogisticRegression(solver='liblinear', max_iter=1000)\n",
        "#         logreg.fit(X_train, y_train)\n",
        "#         #print('Accuracy on test set: {:.3f}'.format(logreg.score(X_test, y_test)))\n",
        "\n",
        "        \n",
        "#         SVM+=svclassifier.score(X_test, y_test)\n",
        "#         SVM_r+=svclassifier_r.score(X_test, y_test)\n",
        "#         SVM_p+=svclassifier_p.score(X_test, y_test)\n",
        "#         LR+=logreg.score(X_test, y_test)\n",
        "\n",
        " \n",
        "#     except:\n",
        "#         num-=1\n",
        "#         print(num)\n",
        "    \n",
        "# print(\"Average SVM: \"+str(SVM/num))\n",
        "# print(\"Average SVM_r: \"+str(SVM_r/num))\n",
        "# print(\"Average SVM_p: \"+str(SVM_p/num))\n",
        "# print(\"Average LR: \"+str(LR/num))"
      ],
      "execution_count": 0,
      "outputs": []
    },
    {
      "cell_type": "code",
      "metadata": {
        "colab_type": "code",
        "id": "_qo70U6j-HQk",
        "colab": {}
      },
      "source": [
        ""
      ],
      "execution_count": 0,
      "outputs": []
    }
  ]
}