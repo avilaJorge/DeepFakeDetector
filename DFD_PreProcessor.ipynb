{
 "cells": [
  {
   "cell_type": "markdown",
   "metadata": {},
   "source": [
    "***Data Pre-Processor***\n"
   ]
  },
  {
   "cell_type": "code",
   "execution_count": null,
   "metadata": {},
   "outputs": [],
   "source": [
    "%run DeepFake_Dataloader.py\n",
    "%run utils.py"
   ]
  },
  {
   "cell_type": "code",
   "execution_count": null,
   "metadata": {},
   "outputs": [],
   "source": [
    "import h5py\n",
    "import torch\n",
    "import numpy as np"
   ]
  },
  {
   "cell_type": "code",
   "execution_count": null,
   "metadata": {},
   "outputs": [],
   "source": [
    "batch_sz = 16\n",
    "dataloader = get_preprocessors(batch_size=batch_sz)\n",
    "total_imgs = len(dataloader) * batch_sz\n",
    "print(total_imgs)"
   ]
  },
  {
   "cell_type": "code",
   "execution_count": null,
   "metadata": {},
   "outputs": [],
   "source": [
    "progress = ProgressMonitor(length=total_imgs)\n",
    "with h5py.File('Faces_HQ_Test.hdf5', 'w') as f:\n",
    "    \"\"\"\n",
    "        Create HDF5 datasets \n",
    "    \"\"\"\n",
    "    data_dset = f.create_dataset('fft_data',  (total_imgs, 725), dtype='f')\n",
    "    lbl_dset  = f.create_dataset('lbl_data',  (total_imgs,),     dtype='i')\n",
    "    orgn_dset = f.create_dataset('orgn_data', (total_imgs,),     dtype='i')\n",
    "    \n",
    "    for i, (img_data, target, origin_dataset) in enumerate(dataloader):\n",
    "        start_idx = i * batch_sz\n",
    "        for j in range(img_data.shape[0]):\n",
    "            idx = start_idx + j\n",
    "            progress.update(1, 0)\n",
    "            if (target[j] > 1):\n",
    "                print(target[j])\n",
    "            data_dset[idx] = img_data[j]\n",
    "            lbl_dset[idx]  = target[j]\n",
    "            orgn_dset[idx] = data_origin[origin_dataset[j]]"
   ]
  },
  {
   "cell_type": "code",
   "execution_count": null,
   "metadata": {},
   "outputs": [],
   "source": [
    "import matplotlib.pyplot as plt\n",
    "\n",
    "\n",
    "with h5py.File('Faces_HQ.hdf5', 'r') as f:\n",
    "    dset = f['fft_data']\n",
    "    plt.plot(dset[39999])\n",
    "    for i in range(10):\n",
    "        plt.plot(dset[np.random.randint(40000)])\n",
    "#         plt.show()\n",
    "    plt.show()"
   ]
  },
  {
   "cell_type": "code",
   "execution_count": null,
   "metadata": {},
   "outputs": [],
   "source": [
    "with h5py.File('Faces_HQ.hdf5', 'r') as f:\n",
    "    dset = f['lbl_data']\n",
    "    for i in range(len(dset)):\n",
    "        if dset[i] != 1 and dset[i] != 0:\n",
    "            print(dset[i])"
   ]
  },
  {
   "cell_type": "code",
   "execution_count": null,
   "metadata": {},
   "outputs": [],
   "source": []
  }
 ],
 "metadata": {
  "kernelspec": {
   "display_name": "Python 3",
   "language": "python",
   "name": "python3"
  },
  "language_info": {
   "codemirror_mode": {
    "name": "ipython",
    "version": 3
   },
   "file_extension": ".py",
   "mimetype": "text/x-python",
   "name": "python",
   "nbconvert_exporter": "python",
   "pygments_lexer": "ipython3",
   "version": "3.7.4"
  },
  "widgets": {
   "application/vnd.jupyter.widget-state+json": {
    "state": {},
    "version_major": 2,
    "version_minor": 0
   }
  }
 },
 "nbformat": 4,
 "nbformat_minor": 4
}
