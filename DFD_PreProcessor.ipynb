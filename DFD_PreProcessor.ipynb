{
 "cells": [
  {
   "cell_type": "markdown",
   "metadata": {},
   "source": [
    "***Data Pre-Processor***\n"
   ]
  },
  {
   "cell_type": "code",
   "execution_count": 1,
   "metadata": {},
   "outputs": [],
   "source": [
    "%run DeepFake_Dataloader.py\n",
    "%run utils.py"
   ]
  },
  {
   "cell_type": "code",
   "execution_count": 2,
   "metadata": {},
   "outputs": [],
   "source": [
    "import h5py\n",
    "import torch\n",
    "import numpy as np"
   ]
  },
  {
   "cell_type": "code",
   "execution_count": 3,
   "metadata": {},
   "outputs": [
    {
     "name": "stdout",
     "output_type": "stream",
     "text": [
      "('Classes: '\n",
      " \"['lsun_bedrooms', \"\n",
      " \"'lsun_cats', \"\n",
      " \"'lsun_churches', \"\n",
      " \"'stylegan1_bedrooms', \"\n",
      " \"'stylegan2_cats', \"\n",
      " \"'stylegan2_churches']\")\n",
      "('Indices: '\n",
      " \"{'lsun_bedrooms': \"\n",
      " \"0, 'lsun_cats': \"\n",
      " '1, '\n",
      " \"'lsun_churches': \"\n",
      " '2, '\n",
      " \"'stylegan1_bedrooms': \"\n",
      " '3, '\n",
      " \"'stylegan2_cats': \"\n",
      " '4, '\n",
      " \"'stylegan2_churches': \"\n",
      " '5}')\n",
      "60010\n",
      "60002\n"
     ]
    }
   ],
   "source": [
    "# batch_sz = 128 \n",
    "batch_sz = 10\n",
    "dataloader = get_preprocessors(batch_size=batch_sz)\n",
    "total_imgs = len(dataloader) * batch_sz\n",
    "print(total_imgs)\n",
    "total_imgs = !find {img_root} -type f -iname \"*.png\" | wc -l\n",
    "total_imgs = int(total_imgs[0])\n",
    "print(total_imgs)"
   ]
  },
  {
   "cell_type": "code",
   "execution_count": null,
   "metadata": {},
   "outputs": [],
   "source": [
    "progress = ProgressMonitor(length=total_imgs)\n",
    "rad_len  = 182\n",
    "with h5py.File('LSUN_BCC_256.hdf5', 'w') as f:\n",
    "    \"\"\"\n",
    "        Create HDF5 datasets \n",
    "    \"\"\"\n",
    "    data_dset = f.create_dataset('fft_data',  (total_imgs, rad_len), dtype='f')\n",
    "    lbl_dset  = f.create_dataset('lbl_data',  (total_imgs,),     dtype='i')\n",
    "    orgn_dset = f.create_dataset('orgn_data', (total_imgs,),     dtype='i')\n",
    "    img_size  = f.create_dataset('img_size',  (total_imgs,),     dtype='i')\n",
    "    data_size = f.create_dataset('data_size', (total_imgs,),     dtype='i')\n",
    "    \n",
    "    for i, (img_data, target, origin_dataset, _, _) in enumerate(dataloader):\n",
    "        start_idx = i * batch_sz\n",
    "        for j in range(img_data.shape[0]):\n",
    "            idx = start_idx + j\n",
    "            progress.update(1, 0)\n",
    "            if (target[j] > 1):\n",
    "                print(target[j])\n",
    "            data_dset[idx] = img_data[j]\n",
    "            lbl_dset[idx]  = target[j]\n",
    "            orgn_dset[idx] = data_origin[origin_dataset[j]]\n",
    "            img_size[idx]  = data_img_size[origin_dataset[j]]\n",
    "            data_size[idx] = rad_size[origin_dataset[j]]\n",
    "        "
   ]
  },
  {
   "cell_type": "code",
   "execution_count": null,
   "metadata": {},
   "outputs": [],
   "source": [
    "import matplotlib.pyplot as plt\n",
    "\n",
    "\n",
    "with h5py.File('LSUN_BCC_256.hdf5', 'r') as f:\n",
    "    dset = f['fft_data']\n",
    "    plt.plot(dset[200])\n",
    "    for i in range(10):\n",
    "        plt.plot(dset[np.random.randint(20000)])\n",
    "#         plt.show()\n",
    "    plt.show()"
   ]
  },
  {
   "cell_type": "code",
   "execution_count": null,
   "metadata": {},
   "outputs": [],
   "source": [
    "with h5py.File('LSUN_Cars.hdf5', 'r') as f:\n",
    "    dset = f['lbl_data']\n",
    "    for i in range(len(dset)):\n",
    "        if dset[i] != 1 and dset[i] != 0:\n",
    "            print(dset[i])"
   ]
  },
  {
   "cell_type": "code",
   "execution_count": null,
   "metadata": {},
   "outputs": [],
   "source": [
    "!gcloud auth activate-service-account --key-file ./playground-270702-4d2df0765336.json"
   ]
  },
  {
   "cell_type": "code",
   "execution_count": null,
   "metadata": {},
   "outputs": [],
   "source": [
    "# auth.authenticate_user()\n",
    "\n",
    "project_id = 'playground-270702'\n",
    "!gcloud config set project {project_id}\n",
    "!gsutil ls\n",
    "\n",
    "bucket_name = 'img-hosting-bucket'\n",
    "!gsutil -m cp -r /home/jupyter/CSE253_FinalProject/LSUN_BCC_256.hdf5 gs://{bucket_name}/"
   ]
  },
  {
   "cell_type": "code",
   "execution_count": null,
   "metadata": {},
   "outputs": [],
   "source": [
    "!wget https://storage.googleapis.com/img-hosting-bucket/LSUN_BCC_256.hdf5"
   ]
  },
  {
   "cell_type": "code",
   "execution_count": 26,
   "metadata": {},
   "outputs": [
    {
     "name": "stdout",
     "output_type": "stream",
     "text": [
      "<class 'torch.Tensor'>\n",
      "torch.Size([10, 256, 256])\n",
      "torch.Size([256, 256])\n",
      "('stylegan2_cats', 'lsun_bedrooms', 'lsun_churches', 'lsun_cats', 'lsun_cats', 'stylegan2_cats', 'stylegan2_churches', 'lsun_churches', 'lsun_bedrooms', 'lsun_bedrooms')\n",
      "tensor([1, 0, 0, 0, 0, 1, 1, 0, 0, 0])\n",
      "[114 116 119 121 122 121 121 121 121 120 121 121 120 119 120 122 125 127\n",
      " 127 129 131 133 135 134 133 136 135 135 137 137 137 137 136 137 139 140\n",
      " 141 144 146 147 148 148 150 153 153 151 153 151 123  87  83  85  78  82\n",
      "  88  86  83  85  90  95 109 125 136 146 150 150 147 150 149 147 144 142\n",
      " 142 141 141 141 138 138 139 136 134 133 133 136 138 141 134 143 142 140\n",
      " 140 140 139 142 146 145 140 141 137 141 142 141 145 140 140 152 147 146\n",
      " 147 144 145 151 145 147 145 147 143 145 145 148 146 152 152 149 150 149\n",
      " 145 148 149 149 155 154 148 151 151 151 149 149 151 153 158 146 146 152\n",
      " 152 154 154 152 151 155 151 152 154 152 151 154 155 157 158 158 158 157\n",
      " 156 157 157 156 157 154 155 156 155 154 156 158 158 156 151 156 160 154\n",
      " 156 156 157 156 157 160 160 161 160 160 159 156 156 154 155 160 162 164\n",
      " 167 158 157 156 157 156 157 161 160 155 155 159 161 160 156 160 164 156\n",
      " 153 157 159 159 158 160 159 160 158 157 158 158 158 158 158 159 159 157\n",
      " 156 159 160 160 159 161 160 159 159 159 160 161 160 158 159 160 161 163\n",
      " 163 165 167 175]\n"
     ]
    },
    {
     "ename": "AttributeError",
     "evalue": "'list' object has no attribute 'imshow'",
     "output_type": "error",
     "traceback": [
      "\u001b[0;31m---------------------------------------------------------------------------\u001b[0m",
      "\u001b[0;31mAttributeError\u001b[0m                            Traceback (most recent call last)",
      "\u001b[0;32m<ipython-input-26-97731a71ccb6>\u001b[0m in \u001b[0;36m<module>\u001b[0;34m\u001b[0m\n\u001b[1;32m     55\u001b[0m \u001b[0mplt\u001b[0m\u001b[0;34m.\u001b[0m\u001b[0mxlabel\u001b[0m\u001b[0;34m(\u001b[0m\u001b[0;34m'Spatial Frequency'\u001b[0m\u001b[0;34m,\u001b[0m \u001b[0mfontsize\u001b[0m\u001b[0;34m=\u001b[0m\u001b[0;36m20\u001b[0m\u001b[0;34m)\u001b[0m\u001b[0;34m\u001b[0m\u001b[0;34m\u001b[0m\u001b[0m\n\u001b[1;32m     56\u001b[0m \u001b[0mplt\u001b[0m\u001b[0;34m.\u001b[0m\u001b[0mylabel\u001b[0m\u001b[0;34m(\u001b[0m\u001b[0;34m'Power Spectrum'\u001b[0m\u001b[0;34m,\u001b[0m \u001b[0mfontsize\u001b[0m\u001b[0;34m=\u001b[0m\u001b[0;36m20\u001b[0m\u001b[0;34m)\u001b[0m\u001b[0;34m\u001b[0m\u001b[0;34m\u001b[0m\u001b[0m\n\u001b[0;32m---> 57\u001b[0;31m \u001b[0max1\u001b[0m\u001b[0;34m.\u001b[0m\u001b[0mimshow\u001b[0m\u001b[0;34m(\u001b[0m\u001b[0mimg\u001b[0m\u001b[0;34m[\u001b[0m\u001b[0;36m0\u001b[0m\u001b[0;34m]\u001b[0m\u001b[0;34m.\u001b[0m\u001b[0mnumpy\u001b[0m\u001b[0;34m(\u001b[0m\u001b[0;34m)\u001b[0m\u001b[0;34m[\u001b[0m\u001b[0;36m0\u001b[0m\u001b[0;34m]\u001b[0m\u001b[0;34m)\u001b[0m\u001b[0;34m\u001b[0m\u001b[0;34m\u001b[0m\u001b[0m\n\u001b[0m\u001b[1;32m     58\u001b[0m \u001b[0max2\u001b[0m\u001b[0;34m.\u001b[0m\u001b[0mimshow\u001b[0m\u001b[0;34m(\u001b[0m\u001b[0mms_img\u001b[0m\u001b[0;34m[\u001b[0m\u001b[0;36m0\u001b[0m\u001b[0;34m]\u001b[0m\u001b[0;34m)\u001b[0m\u001b[0;34m\u001b[0m\u001b[0;34m\u001b[0m\u001b[0m\n\u001b[1;32m     59\u001b[0m \u001b[0max2\u001b[0m\u001b[0;34m.\u001b[0m\u001b[0mplot\u001b[0m\u001b[0;34m(\u001b[0m\u001b[0mimg_data\u001b[0m\u001b[0;34m[\u001b[0m\u001b[0;36m0\u001b[0m\u001b[0;34m]\u001b[0m\u001b[0;34m)\u001b[0m\u001b[0;34m\u001b[0m\u001b[0;34m\u001b[0m\u001b[0m\n",
      "\u001b[0;31mAttributeError\u001b[0m: 'list' object has no attribute 'imshow'"
     ]
    },
    {
     "data": {
      "image/png": "[encoded data removed]",
      "text/plain": [
       "<Figure size 1080x360 with 3 Axes>"
      ]
     },
     "metadata": {
      "needs_background": "light"
     },
     "output_type": "display_data"
    }
   ],
   "source": [
    "import matplotlib.pyplot as plt\n",
    "import os\n",
    "from PIL import Image\n",
    "import random\n",
    "from torchvision import transforms\n",
    "\n",
    "file_name = 'class_1'\n",
    "\n",
    "classes = {\n",
    "    'stylegan2_cats': False,\n",
    "    'stylegan2_cars': False,\n",
    "    'stylegan2_churches': False,\n",
    "    'lsun_cats': False,\n",
    "    'lsun_cars': False,\n",
    "    'lsun_bedrooms': False,\n",
    "    'stylegan1_bedrooms': False,\n",
    "    'lsun_churches': False,\n",
    "    'celebA-HQ_10K': False,\n",
    "    'Flickr-Faces-HQ_10K': False,\n",
    "    'thispersondoesntexists_10K': False,\n",
    "    '100KFake_10K': False,\n",
    "}\n",
    "\n",
    "# for i, (img_data, target, origin_dataset, img, ms_img) in enumerate(dataloader):\n",
    "#     if (i == 1):\n",
    "#         print(type(ms_img))\n",
    "#         img    = transforms.ToPILImage()(img[0]).convert('RGB')\n",
    "#         ms_img = transforms.ToPILImage()(ms_img[0]).convert('RGB')\n",
    "#         display(img)\n",
    "#         display(ms_img)\n",
    "#         plt.figure()\n",
    "#         plt.plot(img_data[0]) \n",
    "#         plt.show()\n",
    "#         break\n",
    "(img_data, target, origin_dataset, img, ms_img) = next(iter(dataloader))\n",
    "print(type(ms_img))\n",
    "print(ms_img.size())\n",
    "print(ms_img[0].size())\n",
    "print(origin_dataset)\n",
    "print(target)\n",
    "# img    = transforms.ToPILImage()(img[0]).convert('RGB')\n",
    "# ms_img = transforms.ToPILImage()(ms_img[0]).convert('RGB')\n",
    "# display(img)\n",
    "# img.save(file_name + '-img.jpg')\n",
    "\n",
    "print(img[0][0].numpy())\n",
    "fig = plt.figure(figsize=(15,5))\n",
    "ax  = fig.add_subplot(132)\n",
    "ax3 = fig.add_subplot(131)\n",
    "plt.axis('off')\n",
    "ax2 = fig.add_subplot(133)\n",
    "ax.set_title('Input Image',size=15)\n",
    "ax2.set_title('Amplitude Spectrum 2D', size=15)\n",
    "ax3.set_title('1D Power Spectrum',size=15)\n",
    "plt.xlabel('Spatial Frequency', fontsize=20)\n",
    "plt.ylabel('Power Spectrum', fontsize=20)\n",
    "ax1.imshow(img[0].numpy()[0])\n",
    "ax2.imshow(ms_img[0])\n",
    "ax2.plot(img_data[0])yyyyyyy\n",
    "plt.show()\n",
    "\n",
    "plt.savefig(file_name + '.jpg')"
   ]
  },
  {
   "cell_type": "code",
   "execution_count": null,
   "metadata": {},
   "outputs": [],
   "source": []
  },
  {
   "cell_type": "code",
   "execution_count": null,
   "metadata": {},
   "outputs": [],
   "source": []
  }
 ],
 "metadata": {
  "kernelspec": {
   "display_name": "Python 3",
   "language": "python",
   "name": "python3"
  },
  "language_info": {
   "codemirror_mode": {
    "name": "ipython",
    "version": 3
   },
   "file_extension": ".py",
   "mimetype": "text/x-python",
   "name": "python",
   "nbconvert_exporter": "python",
   "pygments_lexer": "ipython3",
   "version": "3.7.4"
  },
  "widgets": {
   "application/vnd.jupyter.widget-state+json": {
    "state": {},
    "version_major": 2,
    "version_minor": 0
   }
  }
 },
 "nbformat": 4,
 "nbformat_minor": 4
}
