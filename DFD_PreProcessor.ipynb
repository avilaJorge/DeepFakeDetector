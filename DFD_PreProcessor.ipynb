{
 "cells": [
  {
   "cell_type": "markdown",
   "metadata": {},
   "source": [
    "***Data Pre-Processor***\n"
   ]
  },
  {
   "cell_type": "code",
   "execution_count": 17,
   "metadata": {},
   "outputs": [],
   "source": [
    "%run DeepFake_Dataloader.py\n",
    "%run utils.py"
   ]
  },
  {
   "cell_type": "code",
   "execution_count": 18,
   "metadata": {},
   "outputs": [],
   "source": [
    "import h5py\n",
    "import torch\n",
    "import numpy as np\n",
    "\n",
    "# Pretty Print\n",
    "import pprint\n",
    "pp = pprint.PrettyPrinter(width=20)"
   ]
  },
  {
   "cell_type": "code",
   "execution_count": 19,
   "metadata": {},
   "outputs": [
    {
     "name": "stdout",
     "output_type": "stream",
     "text": [
      "/home/jupyter/image_folder_256\n",
      "Dataset DeepFakePreProcessor\n",
      "    Number of datapoints: 40002\n",
      "    Root location: /home/jupyter/image_folder_256\n",
      "Classes:\n",
      "['lsun_cats',\n",
      " 'lsun_churches',\n",
      " 'stylegan2_cats',\n",
      " 'stylegan2_churches']\n",
      "{'lsun_cats': 0, 'lsun_churches': 1, 'stylegan2_cats': 2, 'stylegan2_churches': 3, 0: 'lsun_cats', 1: 'lsun_churches', 2: 'stylegan2_cats', 3: 'stylegan2_churches'}\n"
     ]
    }
   ],
   "source": [
    "# batch_sz = 128 \n",
    "batch_sz = 10\n",
    "image_folder_path='/home/jupyter/image_folder_256'\n",
    "\n",
    "dataloader = get_preprocessors(\n",
    "    image_root=image_folder_path, \n",
    "    output_size=363,\n",
    "    batch_size=32,\n",
    "    num_workers=8,\n",
    "    destf_hdf5='/content/LSUN_Cars.hdf5',\n",
    "#     transforms=convert_to_256\n",
    ")\n",
    "\n",
    "total_imgs  = len(dataloader.dataset.samples)\n",
    "data_origin = dataloader.dataset.class_to_idx\n",
    "data_origin.update({y:x for x,y in data_origin.items()})\n",
    "print(dataloader.dataset)\n",
    "print('Classes:')\n",
    "pp.pprint(dataloader.dataset.classes)\n",
    "print(data_origin)"
   ]
  },
  {
   "cell_type": "code",
   "execution_count": null,
   "metadata": {},
   "outputs": [],
   "source": [
    "progress = ProgressMonitor(length=total_imgs)\n",
    "rad_len  = 182\n",
    "hdf5_fn  = 'LSUN_BCCC_256.hdf5'\n",
    "with h5py.File(hdf5_fn, 'w') as f:\n",
    "    \"\"\"\n",
    "        Create HDF5 datasets \n",
    "    \"\"\"\n",
    "    data_dset = f.create_dataset('fft_data',  (total_imgs, rad_len), dtype='f')\n",
    "    lbl_dset  = f.create_dataset('lbl_data',  (total_imgs,),     dtype='i')\n",
    "    orgn_dset = f.create_dataset('orgn_data', (total_imgs,),     dtype='i')\n",
    "    img_size  = f.create_dataset('img_size',  (total_imgs,),     dtype='i')\n",
    "    data_size = f.create_dataset('data_size', (total_imgs,),     dtype='i')\n",
    "    \n",
    "    for i, (img_data, target, origin_dataset, _, _) in enumerate(dataloader):\n",
    "        start_idx = i * batch_sz\n",
    "        for j in range(img_data.shape[0]):\n",
    "            idx = start_idx + j\n",
    "            progress.update(1, 0)\n",
    "            if (target[j] > 1):\n",
    "                print(target[j])\n",
    "            data_dset[idx] = img_data[j]\n",
    "            lbl_dset[idx]  = target[j]\n",
    "            orgn_dset[idx] = data_origin[origin_dataset[j]]\n",
    "            img_size[idx]  = data_img_size[origin_dataset[j]]\n",
    "            data_size[idx] = rad_size[origin_dataset[j]]\n",
    "        "
   ]
  },
  {
   "cell_type": "code",
   "execution_count": null,
   "metadata": {},
   "outputs": [],
   "source": [
    "import matplotlib.pyplot as plt\n",
    "\n",
    "with h5py.File(hdf5_fn, 'r') as f:\n",
    "    dset = f['fft_data']\n",
    "    plt.plot(dset[200])\n",
    "    for i in range(10):\n",
    "        plt.plot(dset[np.random.randint(20000)])\n",
    "#         plt.show()\n",
    "    plt.show()"
   ]
  },
  {
   "cell_type": "code",
   "execution_count": null,
   "metadata": {},
   "outputs": [],
   "source": [
    "with h5py.File(hdf5_fn, 'r') as f:\n",
    "    dset = f['lbl_data']\n",
    "    for i in range(len(dset)):\n",
    "        if dset[i] != 1 and dset[i] != 0:\n",
    "            print(dset[i])"
   ]
  },
  {
   "cell_type": "code",
   "execution_count": null,
   "metadata": {},
   "outputs": [],
   "source": [
    "!gcloud auth activate-service-account --key-file ./playground-270702-4d2df0765336.json"
   ]
  },
  {
   "cell_type": "code",
   "execution_count": null,
   "metadata": {},
   "outputs": [],
   "source": [
    "# auth.authenticate_user()\n",
    "\n",
    "project_id = 'playground-270702'\n",
    "!gcloud config set project {project_id}\n",
    "!gsutil ls\n",
    "\n",
    "bucket_name = 'img-hosting-bucket'\n",
    "!gsutil -m cp -r /home/jupyter/CSE253_FinalProject/LSUN_BCCC_256.hdf5 gs://{bucket_name}/"
   ]
  },
  {
   "cell_type": "code",
   "execution_count": null,
   "metadata": {},
   "outputs": [],
   "source": [
    "!wget https://storage.googleapis.com/img-hosting-bucket/LSUN_BCCC_256.hdf5"
   ]
  },
  {
   "cell_type": "code",
   "execution_count": null,
   "metadata": {},
   "outputs": [],
   "source": [
    "import matplotlib.pyplot as plt\n",
    "from matplotlib import gridspec, colors\n",
    "import os\n",
    "from PIL import Image\n",
    "import random\n",
    "from torchvision import transforms\n",
    "import numpy as np\n",
    "import scipy.signal as signal\n",
    "\n",
    "b, a = signal.butter(8, 0.125)\n",
    "\n",
    "\n",
    "file_name = './imgs/class_1'\n",
    "\n",
    "(img_data, target, origin_dataset, img, ms_img) = next(iter(dataloader))\n",
    "for i, dset in enumerate(origin_dataset):\n",
    "    if dset == 'lsun_cars':\n",
    "        print(dset)\n",
    "        img_data = img_data[i]\n",
    "        img      = img[i]\n",
    "        origin_dataset = origin_dataset[i]\n",
    "        target   = target[i]\n",
    "        ms_img   = ms_img[i]\n",
    "        break\n",
    "\n",
    "sg2_img = transforms.ToPILImage()(img.permute(2, 0, 1))\n",
    "display(sg2_img)\n",
    "sg2_img.save('stylegan2_cars.png')\n",
    "\n",
    "fig, (ax1, ax2, ax3) = plt.subplots(1, 3, sharex='col',\n",
    "                        gridspec_kw={'hspace': 1, 'wspace': 0.15, 'width_ratios': [1, 1, 2]},\n",
    "                        figsize=(20, 5))\n",
    "fig.suptitle('Image from ' + origin_dataset, fontsize=20)\n",
    "\n",
    "ax1.axis('off')\n",
    "ax2.axis('off')\n",
    "\n",
    "ax1.set_title('Input Image',           size=15)\n",
    "ax2.set_title('Amplitude Spectrum 2D', size=15)\n",
    "ax3.set_title('1D Power Spectrum',     size=15)\n",
    "\n",
    "ax1.imshow(img)\n",
    "print(ms_img.max())\n",
    "print(ms_img.min())\n",
    "ax2.imshow(ms_img, cmap='Greys', norm=colors.Normalize(vmin=ms_img.min(), vmax=ms_img.max()))\n",
    "\n",
    "plt.xlabel('Spatial Frequency', fontsize=12)\n",
    "plt.ylabel('Power Spectrum',    fontsize=12)\n",
    "ax3.plot(img_data)\n",
    "\n",
    "plt.savefig(file_name + '.jpg', dpi=300)\n",
    "plt.show()\n",
    "\n",
    "y = signal.filtfilt(b, a, ms_img, padlen=150)\n",
    "\n",
    "plt.imshow(y)\n",
    "plt.figure()\n",
    "plt.imshow(ms_img)"
   ]
  },
  {
   "cell_type": "code",
   "execution_count": null,
   "metadata": {},
   "outputs": [],
   "source": []
  },
  {
   "cell_type": "code",
   "execution_count": 9,
   "metadata": {},
   "outputs": [
    {
     "name": "stdout",
     "output_type": "stream",
     "text": [
      "{'b': (0, 0, 1), 'g': (0, 0.5, 0), 'r': (1, 0, 0), 'c': (0, 0.75, 0.75), 'm': (0.75, 0, 0.75), 'y': (0.75, 0.75, 0), 'k': (0, 0, 0), 'w': (1, 1, 1)}\n",
      "dict_keys(['b', 'g', 'r', 'c', 'm', 'y', 'k', 'w'])\n",
      "b\n",
      "OrderedDict([('tab:blue', '#1f77b4'), ('tab:orange', '#ff7f0e'), ('tab:green', '#2ca02c'), ('tab:red', '#d62728'), ('tab:purple', '#9467bd'), ('tab:brown', '#8c564b'), ('tab:pink', '#e377c2'), ('tab:gray', '#7f7f7f'), ('tab:olive', '#bcbd22'), ('tab:cyan', '#17becf')])\n",
      "tab:blue #1f77b4\n",
      "tab:orange #ff7f0e\n",
      "tab:green #2ca02c\n",
      "tab:red #d62728\n",
      "tab:purple #9467bd\n",
      "tab:brown #8c564b\n",
      "tab:pink #e377c2\n",
      "tab:gray #7f7f7f\n",
      "tab:olive #bcbd22\n",
      "tab:cyan #17becf\n"
     ]
    }
   ],
   "source": [
    "import matplotlib.pyplot as plt\n",
    "import matplotlib.colors as mcolors\n",
    "\n",
    "print(mcolors.BASE_COLORS)\n",
    "print(mcolors.BASE_COLORS.keys())\n",
    "print(list(mcolors.BASE_COLORS.keys())[0])\n",
    "print(mcolors.TABLEAU_COLORS)\n",
    "for k, v in mcolors.TABLEAU_COLORS.items():\n",
    "    print(k, v)"
   ]
  },
  {
   "cell_type": "code",
   "execution_count": 10,
   "metadata": {},
   "outputs": [
    {
     "name": "stdout",
     "output_type": "stream",
     "text": [
      "[[2 1 1 1 1 1 1 1 1]\n",
      " [0 2 0 0 0 0 0 0 0]\n",
      " [0 0 3 0 0 0 0 0 0]\n",
      " [0 0 0 4 0 0 0 0 0]\n",
      " [0 0 0 0 5 0 0 0 0]\n",
      " [0 0 0 0 0 6 0 0 0]\n",
      " [0 0 0 0 0 0 7 0 0]\n",
      " [0 0 0 0 0 0 0 8 0]\n",
      " [0 0 0 0 0 0 0 0 9]]\n",
      "[0.22222222 0.33333333 0.44444444 0.55555556 0.66666667 0.77777778\n",
      " 0.88888889 1.         1.11111111]\n",
      "[0.62853936 0.66666667 0.95581392 1.25707872 1.56347192 1.87247773\n",
      " 2.18298697 2.49443826 2.80651799]\n"
     ]
    }
   ],
   "source": [
    "c = np.diag(np.arange(1, 10))\n",
    "c[0] += 1\n",
    "print(c)\n",
    "print(np.mean(c, axis=0))\n",
    "print(np.std(c, axis=0))"
   ]
  },
  {
   "cell_type": "code",
   "execution_count": null,
   "metadata": {},
   "outputs": [],
   "source": []
  }
 ],
 "metadata": {
  "kernelspec": {
   "display_name": "Python 3",
   "language": "python",
   "name": "python3"
  },
  "language_info": {
   "codemirror_mode": {
    "name": "ipython",
    "version": 3
   },
   "file_extension": ".py",
   "mimetype": "text/x-python",
   "name": "python",
   "nbconvert_exporter": "python",
   "pygments_lexer": "ipython3",
   "version": "3.7.4"
  },
  "widgets": {
   "application/vnd.jupyter.widget-state+json": {
    "state": {},
    "version_major": 2,
    "version_minor": 0
   }
  }
 },
 "nbformat": 4,
 "nbformat_minor": 4
}
